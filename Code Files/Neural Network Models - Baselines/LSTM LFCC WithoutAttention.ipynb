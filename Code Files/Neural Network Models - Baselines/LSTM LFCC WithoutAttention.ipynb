{
  "nbformat": 4,
  "nbformat_minor": 0,
  "metadata": {
    "colab": {
      "provenance": []
    },
    "kernelspec": {
      "name": "python3",
      "display_name": "Python 3"
    },
    "language_info": {
      "name": "python"
    },
    "gpuClass": "standard"
  },
  "cells": [
    {
      "cell_type": "code",
      "source": [
        "from google.colab import drive\n",
        "drive.mount('/content/gdrive')"
      ],
      "metadata": {
        "colab": {
          "base_uri": "https://localhost:8080/"
        },
        "id": "DiRYjvCfXvYV",
        "outputId": "85eb51f3-5ada-4277-f6da-50e76ba46128"
      },
      "execution_count": null,
      "outputs": [
        {
          "output_type": "stream",
          "name": "stdout",
          "text": [
            "Mounted at /content/gdrive\n"
          ]
        }
      ]
    },
    {
      "cell_type": "code",
      "execution_count": null,
      "metadata": {
        "id": "oHtKbN9_WpcY"
      },
      "outputs": [],
      "source": [
        "import os\n",
        "import numpy as np\n",
        "import pandas as pd\n",
        "import matplotlib.pyplot as plt\n",
        "import librosa, librosa.display\n",
        "\n",
        "import tensorflow as tf \n",
        "from sklearn.model_selection import train_test_split"
      ]
    },
    {
      "cell_type": "code",
      "source": [
        "from tensorflow.keras import Sequential\n",
        "from tensorflow.keras.layers import Dense, Activation, Dropout, GRU, Input\n",
        "from sklearn.metrics import confusion_matrix, classification_report"
      ],
      "metadata": {
        "id": "tUXJVzoMXiia"
      },
      "execution_count": null,
      "outputs": []
    },
    {
      "cell_type": "code",
      "source": [
        "X_train = np.load('/content/gdrive/MyDrive/data/Augmented1/X_train.npy')\n",
        "y_train = np.load('/content/gdrive/MyDrive/data/Augmented1/y_train.npy')\n",
        "X_test = np.load('/content/gdrive/MyDrive/data/Augmented1/X_test.npy')\n",
        "y_test = np.load('/content/gdrive/MyDrive/data/Augmented1/y_test.npy')\n",
        "X_val = np.load('/content/gdrive/MyDrive/data/Augmented1/X_val.npy')\n",
        "y_val = np.load('/content/gdrive/MyDrive/data/Augmented1/y_val.npy')"
      ],
      "metadata": {
        "id": "ZAGD3-VSXjw2"
      },
      "execution_count": null,
      "outputs": []
    },
    {
      "cell_type": "code",
      "source": [
        "print(X_train.shape, y_train.shape)\n",
        "print(X_test.shape, y_test.shape)\n",
        "print(X_val.shape, y_val.shape)"
      ],
      "metadata": {
        "colab": {
          "base_uri": "https://localhost:8080/"
        },
        "id": "eIZ6_-qvXlSr",
        "outputId": "8acc8cbb-4aba-4c84-d745-8bf04c5fcf46"
      },
      "execution_count": null,
      "outputs": [
        {
          "output_type": "stream",
          "name": "stdout",
          "text": [
            "(16893, 98) (16893, 2)\n",
            "(2109, 98) (2109, 2)\n",
            "(2088, 98) (2088, 2)\n"
          ]
        }
      ]
    },
    {
      "cell_type": "code",
      "source": [
        "model = tf.keras.Sequential()\n",
        "\n",
        "model.add(tf.keras.layers.LSTM(128, return_sequences = False, input_shape = (98,1)))\n",
        "model.add(tf.keras.layers.Dense(64))\n",
        "model.add(tf.keras.layers.Dropout(0.5))\n",
        "model.add(tf.keras.layers.Activation('relu'))\n",
        "model.add(tf.keras.layers.Dense(32))\n",
        "model.add(tf.keras.layers.Dropout(0.5))\n",
        "model.add(tf.keras.layers.Activation('relu'))\n",
        "model.add(tf.keras.layers.Dense(2))\n",
        "model.add(tf.keras.layers.Activation('softmax'))\n",
        "print(model.summary())"
      ],
      "metadata": {
        "colab": {
          "base_uri": "https://localhost:8080/"
        },
        "id": "IUjZElgaXmme",
        "outputId": "5bfde47d-52d6-45aa-d970-41b879a6f405"
      },
      "execution_count": null,
      "outputs": [
        {
          "output_type": "stream",
          "name": "stdout",
          "text": [
            "Model: \"sequential\"\n",
            "_________________________________________________________________\n",
            " Layer (type)                Output Shape              Param #   \n",
            "=================================================================\n",
            " lstm (LSTM)                 (None, 128)               66560     \n",
            "                                                                 \n",
            " dense (Dense)               (None, 64)                8256      \n",
            "                                                                 \n",
            " dropout (Dropout)           (None, 64)                0         \n",
            "                                                                 \n",
            " activation (Activation)     (None, 64)                0         \n",
            "                                                                 \n",
            " dense_1 (Dense)             (None, 32)                2080      \n",
            "                                                                 \n",
            " dropout_1 (Dropout)         (None, 32)                0         \n",
            "                                                                 \n",
            " activation_1 (Activation)   (None, 32)                0         \n",
            "                                                                 \n",
            " dense_2 (Dense)             (None, 2)                 66        \n",
            "                                                                 \n",
            " activation_2 (Activation)   (None, 2)                 0         \n",
            "                                                                 \n",
            "=================================================================\n",
            "Total params: 76,962\n",
            "Trainable params: 76,962\n",
            "Non-trainable params: 0\n",
            "_________________________________________________________________\n",
            "None\n"
          ]
        }
      ]
    },
    {
      "cell_type": "code",
      "source": [
        "optimizer=tf.keras.optimizers.Adam(amsgrad=True, name='Adam')"
      ],
      "metadata": {
        "id": "VzFL7s9HYLsO"
      },
      "execution_count": null,
      "outputs": []
    },
    {
      "cell_type": "code",
      "source": [
        "model.compile(\n",
        "    loss=\"categorical_crossentropy\",\n",
        "    optimizer = optimizer,\n",
        "    metrics=['accuracy']\n",
        ")"
      ],
      "metadata": {
        "id": "E1zmFXnQYq4d"
      },
      "execution_count": null,
      "outputs": []
    },
    {
      "cell_type": "code",
      "source": [
        "print(\"Model Score: \\n\")\n",
        "history = model.fit(X_train, y_train, validation_data = (X_val, y_val), epochs = 120, shuffle = False)"
      ],
      "metadata": {
        "colab": {
          "base_uri": "https://localhost:8080/"
        },
        "id": "Qd-y_VIQYtxE",
        "outputId": "014d3519-848f-4b8c-842c-c7acfc3987d2"
      },
      "execution_count": null,
      "outputs": [
        {
          "output_type": "stream",
          "name": "stdout",
          "text": [
            "Model Score: \n",
            "\n",
            "Epoch 1/120\n",
            "528/528 [==============================] - 77s 138ms/step - loss: 0.6950 - accuracy: 0.5025 - val_loss: 0.6927 - val_accuracy: 0.5067\n",
            "Epoch 2/120\n",
            "528/528 [==============================] - 74s 141ms/step - loss: 0.6924 - accuracy: 0.5118 - val_loss: 0.6909 - val_accuracy: 0.5575\n",
            "Epoch 3/120\n",
            "528/528 [==============================] - 71s 134ms/step - loss: 0.6930 - accuracy: 0.5061 - val_loss: 0.6926 - val_accuracy: 0.5345\n",
            "Epoch 4/120\n",
            "528/528 [==============================] - 72s 136ms/step - loss: 0.6927 - accuracy: 0.5038 - val_loss: 0.6917 - val_accuracy: 0.5402\n",
            "Epoch 5/120\n",
            "528/528 [==============================] - 73s 138ms/step - loss: 0.6930 - accuracy: 0.5089 - val_loss: 0.6931 - val_accuracy: 0.4847\n",
            "Epoch 6/120\n",
            "528/528 [==============================] - 74s 139ms/step - loss: 0.6926 - accuracy: 0.5102 - val_loss: 0.6908 - val_accuracy: 0.5489\n",
            "Epoch 7/120\n",
            "528/528 [==============================] - 75s 143ms/step - loss: 0.6925 - accuracy: 0.5152 - val_loss: 0.6931 - val_accuracy: 0.4938\n",
            "Epoch 8/120\n",
            "528/528 [==============================] - 72s 136ms/step - loss: 0.6906 - accuracy: 0.5194 - val_loss: 0.6932 - val_accuracy: 0.4943\n",
            "Epoch 9/120\n",
            "528/528 [==============================] - 72s 136ms/step - loss: 0.6931 - accuracy: 0.5032 - val_loss: 0.6934 - val_accuracy: 0.4943\n",
            "Epoch 10/120\n",
            "528/528 [==============================] - 78s 148ms/step - loss: 0.6931 - accuracy: 0.5031 - val_loss: 0.6934 - val_accuracy: 0.4943\n",
            "Epoch 11/120\n",
            "528/528 [==============================] - 78s 148ms/step - loss: 0.6931 - accuracy: 0.5031 - val_loss: 0.6934 - val_accuracy: 0.4943\n",
            "Epoch 12/120\n",
            "528/528 [==============================] - 80s 152ms/step - loss: 0.6932 - accuracy: 0.5021 - val_loss: 0.6934 - val_accuracy: 0.4943\n",
            "Epoch 13/120\n",
            "528/528 [==============================] - 85s 161ms/step - loss: 0.6931 - accuracy: 0.5030 - val_loss: 0.6934 - val_accuracy: 0.4943\n",
            "Epoch 14/120\n",
            "528/528 [==============================] - 77s 145ms/step - loss: 0.6931 - accuracy: 0.5030 - val_loss: 0.6932 - val_accuracy: 0.4943\n",
            "Epoch 15/120\n",
            "528/528 [==============================] - 75s 141ms/step - loss: 0.6931 - accuracy: 0.5032 - val_loss: 0.6934 - val_accuracy: 0.4943\n",
            "Epoch 16/120\n",
            "528/528 [==============================] - 87s 165ms/step - loss: 0.6932 - accuracy: 0.5042 - val_loss: 0.6933 - val_accuracy: 0.4943\n",
            "Epoch 17/120\n",
            "528/528 [==============================] - 88s 167ms/step - loss: 0.6931 - accuracy: 0.5036 - val_loss: 0.6934 - val_accuracy: 0.4943\n",
            "Epoch 18/120\n",
            "528/528 [==============================] - 90s 171ms/step - loss: 0.6930 - accuracy: 0.5031 - val_loss: 0.6934 - val_accuracy: 0.4943\n",
            "Epoch 19/120\n",
            "528/528 [==============================] - 75s 142ms/step - loss: 0.6917 - accuracy: 0.5145 - val_loss: 0.6721 - val_accuracy: 0.5738\n",
            "Epoch 20/120\n",
            "528/528 [==============================] - 83s 158ms/step - loss: 0.6800 - accuracy: 0.5647 - val_loss: 0.6719 - val_accuracy: 0.5958\n",
            "Epoch 21/120\n",
            "528/528 [==============================] - 80s 151ms/step - loss: 0.6795 - accuracy: 0.5581 - val_loss: 0.6926 - val_accuracy: 0.5081\n",
            "Epoch 22/120\n",
            "528/528 [==============================] - 75s 141ms/step - loss: 0.6943 - accuracy: 0.5141 - val_loss: 0.6931 - val_accuracy: 0.5057\n",
            "Epoch 23/120\n",
            "528/528 [==============================] - 82s 156ms/step - loss: 0.6853 - accuracy: 0.5434 - val_loss: 0.6729 - val_accuracy: 0.6121\n",
            "Epoch 24/120\n",
            "528/528 [==============================] - 90s 170ms/step - loss: 0.6592 - accuracy: 0.5965 - val_loss: 0.6337 - val_accuracy: 0.6662\n",
            "Epoch 25/120\n",
            "528/528 [==============================] - 95s 179ms/step - loss: 0.6122 - accuracy: 0.6735 - val_loss: 0.5688 - val_accuracy: 0.7275\n",
            "Epoch 26/120\n",
            "528/528 [==============================] - 85s 161ms/step - loss: 0.5492 - accuracy: 0.7333 - val_loss: 0.5034 - val_accuracy: 0.7581\n",
            "Epoch 27/120\n",
            "528/528 [==============================] - 86s 163ms/step - loss: 0.5184 - accuracy: 0.7566 - val_loss: 0.4729 - val_accuracy: 0.7711\n",
            "Epoch 28/120\n",
            "528/528 [==============================] - 84s 158ms/step - loss: 0.5167 - accuracy: 0.7378 - val_loss: 0.7032 - val_accuracy: 0.5062\n",
            "Epoch 29/120\n",
            "528/528 [==============================] - 78s 149ms/step - loss: 0.6967 - accuracy: 0.4994 - val_loss: 0.6934 - val_accuracy: 0.5062\n",
            "Epoch 30/120\n",
            "528/528 [==============================] - 77s 146ms/step - loss: 0.6933 - accuracy: 0.5085 - val_loss: 0.6927 - val_accuracy: 0.5067\n",
            "Epoch 31/120\n",
            "528/528 [==============================] - 74s 140ms/step - loss: 0.6928 - accuracy: 0.5112 - val_loss: 0.6925 - val_accuracy: 0.5211\n",
            "Epoch 32/120\n",
            "528/528 [==============================] - 79s 150ms/step - loss: 0.6744 - accuracy: 0.5759 - val_loss: 0.6575 - val_accuracy: 0.6121\n",
            "Epoch 33/120\n",
            "528/528 [==============================] - 74s 140ms/step - loss: 0.6029 - accuracy: 0.6778 - val_loss: 0.4997 - val_accuracy: 0.7567\n",
            "Epoch 34/120\n",
            "528/528 [==============================] - 78s 147ms/step - loss: 0.5255 - accuracy: 0.7459 - val_loss: 0.4713 - val_accuracy: 0.7720\n",
            "Epoch 35/120\n",
            "528/528 [==============================] - 76s 144ms/step - loss: 0.4828 - accuracy: 0.7797 - val_loss: 0.4697 - val_accuracy: 0.7802\n",
            "Epoch 36/120\n",
            "528/528 [==============================] - 73s 138ms/step - loss: 0.4515 - accuracy: 0.7923 - val_loss: 0.4226 - val_accuracy: 0.7902\n",
            "Epoch 37/120\n",
            "528/528 [==============================] - 77s 145ms/step - loss: 0.4273 - accuracy: 0.8087 - val_loss: 0.3963 - val_accuracy: 0.8080\n",
            "Epoch 38/120\n",
            "528/528 [==============================] - 75s 142ms/step - loss: 0.4133 - accuracy: 0.8174 - val_loss: 0.3745 - val_accuracy: 0.8276\n",
            "Epoch 39/120\n",
            "528/528 [==============================] - 76s 144ms/step - loss: 0.4892 - accuracy: 0.7550 - val_loss: 0.3740 - val_accuracy: 0.8467\n",
            "Epoch 40/120\n",
            "528/528 [==============================] - 76s 144ms/step - loss: 0.4038 - accuracy: 0.8319 - val_loss: 0.3923 - val_accuracy: 0.8587\n",
            "Epoch 41/120\n",
            "528/528 [==============================] - 73s 139ms/step - loss: 0.3296 - accuracy: 0.8808 - val_loss: 0.3039 - val_accuracy: 0.8966\n",
            "Epoch 42/120\n",
            "528/528 [==============================] - 73s 138ms/step - loss: 0.2958 - accuracy: 0.9003 - val_loss: 0.2604 - val_accuracy: 0.9042\n",
            "Epoch 43/120\n",
            "528/528 [==============================] - 75s 143ms/step - loss: 0.2681 - accuracy: 0.9094 - val_loss: 0.2340 - val_accuracy: 0.9128\n",
            "Epoch 44/120\n",
            "528/528 [==============================] - 73s 138ms/step - loss: 0.2495 - accuracy: 0.9139 - val_loss: 0.2238 - val_accuracy: 0.9167\n",
            "Epoch 45/120\n",
            "528/528 [==============================] - 76s 143ms/step - loss: 0.2381 - accuracy: 0.9193 - val_loss: 0.2481 - val_accuracy: 0.8884\n",
            "Epoch 46/120\n",
            "528/528 [==============================] - 73s 139ms/step - loss: 0.2193 - accuracy: 0.9262 - val_loss: 0.2272 - val_accuracy: 0.9076\n",
            "Epoch 47/120\n",
            "528/528 [==============================] - 76s 144ms/step - loss: 0.2129 - accuracy: 0.9265 - val_loss: 0.1998 - val_accuracy: 0.9234\n",
            "Epoch 48/120\n",
            "528/528 [==============================] - 76s 145ms/step - loss: 0.1982 - accuracy: 0.9338 - val_loss: 0.2078 - val_accuracy: 0.9210\n",
            "Epoch 49/120\n",
            "528/528 [==============================] - 77s 145ms/step - loss: 0.1935 - accuracy: 0.9355 - val_loss: 0.2262 - val_accuracy: 0.9109\n",
            "Epoch 50/120\n",
            "528/528 [==============================] - 73s 139ms/step - loss: 0.1907 - accuracy: 0.9320 - val_loss: 0.1906 - val_accuracy: 0.9358\n",
            "Epoch 51/120\n",
            "528/528 [==============================] - 76s 144ms/step - loss: 0.1805 - accuracy: 0.9386 - val_loss: 0.1893 - val_accuracy: 0.9315\n",
            "Epoch 52/120\n",
            "528/528 [==============================] - 76s 144ms/step - loss: 0.1750 - accuracy: 0.9416 - val_loss: 0.1787 - val_accuracy: 0.9353\n",
            "Epoch 53/120\n",
            "528/528 [==============================] - 77s 145ms/step - loss: 0.1675 - accuracy: 0.9431 - val_loss: 0.1646 - val_accuracy: 0.9435\n",
            "Epoch 54/120\n",
            "528/528 [==============================] - 76s 144ms/step - loss: 0.1612 - accuracy: 0.9439 - val_loss: 0.1791 - val_accuracy: 0.9353\n",
            "Epoch 55/120\n",
            "528/528 [==============================] - 74s 139ms/step - loss: 0.1628 - accuracy: 0.9457 - val_loss: 0.1561 - val_accuracy: 0.9449\n",
            "Epoch 56/120\n",
            "528/528 [==============================] - 73s 138ms/step - loss: 0.1567 - accuracy: 0.9478 - val_loss: 0.1531 - val_accuracy: 0.9449\n",
            "Epoch 57/120\n",
            "528/528 [==============================] - 73s 138ms/step - loss: 0.1550 - accuracy: 0.9470 - val_loss: 0.1525 - val_accuracy: 0.9425\n",
            "Epoch 58/120\n",
            "528/528 [==============================] - 73s 138ms/step - loss: 0.1457 - accuracy: 0.9510 - val_loss: 0.1514 - val_accuracy: 0.9531\n",
            "Epoch 59/120\n",
            "528/528 [==============================] - 75s 142ms/step - loss: 0.1435 - accuracy: 0.9515 - val_loss: 0.1660 - val_accuracy: 0.9382\n",
            "Epoch 60/120\n",
            "528/528 [==============================] - 73s 138ms/step - loss: 0.1466 - accuracy: 0.9503 - val_loss: 0.1734 - val_accuracy: 0.9339\n",
            "Epoch 61/120\n",
            "528/528 [==============================] - 73s 138ms/step - loss: 0.1412 - accuracy: 0.9526 - val_loss: 0.1476 - val_accuracy: 0.9478\n",
            "Epoch 62/120\n",
            "528/528 [==============================] - 75s 143ms/step - loss: 0.1384 - accuracy: 0.9538 - val_loss: 0.1426 - val_accuracy: 0.9464\n",
            "Epoch 63/120\n",
            "528/528 [==============================] - 75s 143ms/step - loss: 0.1328 - accuracy: 0.9548 - val_loss: 0.1469 - val_accuracy: 0.9454\n",
            "Epoch 64/120\n",
            "528/528 [==============================] - 77s 145ms/step - loss: 0.1266 - accuracy: 0.9553 - val_loss: 0.1403 - val_accuracy: 0.9521\n",
            "Epoch 65/120\n",
            "528/528 [==============================] - 77s 145ms/step - loss: 0.1271 - accuracy: 0.9568 - val_loss: 0.1566 - val_accuracy: 0.9502\n",
            "Epoch 66/120\n",
            "528/528 [==============================] - 75s 141ms/step - loss: 0.1342 - accuracy: 0.9512 - val_loss: 0.1583 - val_accuracy: 0.9483\n",
            "Epoch 67/120\n",
            "528/528 [==============================] - 75s 141ms/step - loss: 0.1246 - accuracy: 0.9579 - val_loss: 0.1478 - val_accuracy: 0.9516\n",
            "Epoch 68/120\n",
            "528/528 [==============================] - 75s 141ms/step - loss: 0.1232 - accuracy: 0.9577 - val_loss: 0.1434 - val_accuracy: 0.9521\n",
            "Epoch 69/120\n",
            "528/528 [==============================] - 74s 141ms/step - loss: 0.1221 - accuracy: 0.9592 - val_loss: 0.1336 - val_accuracy: 0.9550\n",
            "Epoch 70/120\n",
            "528/528 [==============================] - 73s 138ms/step - loss: 0.1192 - accuracy: 0.9593 - val_loss: 0.1374 - val_accuracy: 0.9531\n",
            "Epoch 71/120\n",
            "528/528 [==============================] - 73s 138ms/step - loss: 0.1162 - accuracy: 0.9587 - val_loss: 0.1510 - val_accuracy: 0.9507\n",
            "Epoch 72/120\n",
            "528/528 [==============================] - 73s 139ms/step - loss: 0.1168 - accuracy: 0.9579 - val_loss: 0.1349 - val_accuracy: 0.9492\n",
            "Epoch 73/120\n",
            "528/528 [==============================] - 76s 144ms/step - loss: 0.1143 - accuracy: 0.9599 - val_loss: 0.1384 - val_accuracy: 0.9531\n",
            "Epoch 74/120\n",
            "528/528 [==============================] - 73s 138ms/step - loss: 0.1103 - accuracy: 0.9605 - val_loss: 0.1440 - val_accuracy: 0.9535\n",
            "Epoch 75/120\n",
            "528/528 [==============================] - 73s 139ms/step - loss: 0.1077 - accuracy: 0.9615 - val_loss: 0.1485 - val_accuracy: 0.9535\n",
            "Epoch 76/120\n",
            "528/528 [==============================] - 74s 139ms/step - loss: 0.1115 - accuracy: 0.9592 - val_loss: 0.1391 - val_accuracy: 0.9564\n",
            "Epoch 77/120\n",
            "528/528 [==============================] - 76s 143ms/step - loss: 0.1051 - accuracy: 0.9615 - val_loss: 0.1440 - val_accuracy: 0.9464\n",
            "Epoch 78/120\n",
            "528/528 [==============================] - 76s 144ms/step - loss: 0.1103 - accuracy: 0.9586 - val_loss: 0.1490 - val_accuracy: 0.9511\n",
            "Epoch 79/120\n",
            "528/528 [==============================] - 76s 145ms/step - loss: 0.1017 - accuracy: 0.9616 - val_loss: 0.1478 - val_accuracy: 0.9564\n",
            "Epoch 80/120\n",
            "528/528 [==============================] - 74s 141ms/step - loss: 0.1083 - accuracy: 0.9619 - val_loss: 0.1329 - val_accuracy: 0.9545\n",
            "Epoch 81/120\n",
            "528/528 [==============================] - 77s 146ms/step - loss: 0.0967 - accuracy: 0.9641 - val_loss: 0.1490 - val_accuracy: 0.9579\n",
            "Epoch 82/120\n",
            "528/528 [==============================] - 76s 144ms/step - loss: 0.1077 - accuracy: 0.9595 - val_loss: 0.1417 - val_accuracy: 0.9526\n",
            "Epoch 83/120\n",
            "528/528 [==============================] - 77s 145ms/step - loss: 0.0972 - accuracy: 0.9642 - val_loss: 0.1398 - val_accuracy: 0.9550\n",
            "Epoch 84/120\n",
            "528/528 [==============================] - 74s 141ms/step - loss: 0.0999 - accuracy: 0.9628 - val_loss: 0.1480 - val_accuracy: 0.9593\n",
            "Epoch 85/120\n",
            "528/528 [==============================] - 76s 143ms/step - loss: 0.0906 - accuracy: 0.9667 - val_loss: 0.1529 - val_accuracy: 0.9526\n",
            "Epoch 86/120\n",
            "528/528 [==============================] - 76s 145ms/step - loss: 0.1005 - accuracy: 0.9627 - val_loss: 0.1421 - val_accuracy: 0.9550\n",
            "Epoch 87/120\n",
            "528/528 [==============================] - 75s 141ms/step - loss: 0.0869 - accuracy: 0.9678 - val_loss: 0.1486 - val_accuracy: 0.9593\n",
            "Epoch 88/120\n",
            "528/528 [==============================] - 83s 157ms/step - loss: 0.0882 - accuracy: 0.9690 - val_loss: 0.1363 - val_accuracy: 0.9569\n",
            "Epoch 89/120\n",
            "528/528 [==============================] - 78s 147ms/step - loss: 0.0957 - accuracy: 0.9648 - val_loss: 0.1429 - val_accuracy: 0.9555\n",
            "Epoch 90/120\n",
            "528/528 [==============================] - 76s 144ms/step - loss: 0.0833 - accuracy: 0.9689 - val_loss: 0.1407 - val_accuracy: 0.9602\n",
            "Epoch 91/120\n",
            "528/528 [==============================] - 79s 149ms/step - loss: 0.0849 - accuracy: 0.9686 - val_loss: 0.1510 - val_accuracy: 0.9598\n",
            "Epoch 92/120\n",
            "528/528 [==============================] - 76s 145ms/step - loss: 0.0903 - accuracy: 0.9671 - val_loss: 0.1370 - val_accuracy: 0.9598\n",
            "Epoch 93/120\n",
            "528/528 [==============================] - 78s 149ms/step - loss: 0.0894 - accuracy: 0.9669 - val_loss: 0.1200 - val_accuracy: 0.9617\n",
            "Epoch 94/120\n",
            "528/528 [==============================] - 77s 145ms/step - loss: 0.0846 - accuracy: 0.9696 - val_loss: 0.1615 - val_accuracy: 0.9454\n",
            "Epoch 95/120\n",
            "528/528 [==============================] - 79s 149ms/step - loss: 0.0784 - accuracy: 0.9699 - val_loss: 0.1427 - val_accuracy: 0.9598\n",
            "Epoch 96/120\n",
            "528/528 [==============================] - 77s 146ms/step - loss: 0.0951 - accuracy: 0.9671 - val_loss: 0.1368 - val_accuracy: 0.9598\n",
            "Epoch 97/120\n",
            "528/528 [==============================] - 79s 150ms/step - loss: 0.0830 - accuracy: 0.9696 - val_loss: 0.1249 - val_accuracy: 0.9622\n",
            "Epoch 98/120\n",
            "528/528 [==============================] - 79s 150ms/step - loss: 0.0939 - accuracy: 0.9673 - val_loss: 0.1607 - val_accuracy: 0.9387\n",
            "Epoch 99/120\n",
            "528/528 [==============================] - 79s 149ms/step - loss: 0.0918 - accuracy: 0.9663 - val_loss: 0.1298 - val_accuracy: 0.9593\n",
            "Epoch 100/120\n",
            "528/528 [==============================] - 79s 150ms/step - loss: 0.0766 - accuracy: 0.9725 - val_loss: 0.1287 - val_accuracy: 0.9626\n",
            "Epoch 101/120\n",
            "528/528 [==============================] - 78s 148ms/step - loss: 0.0687 - accuracy: 0.9761 - val_loss: 0.1269 - val_accuracy: 0.9641\n",
            "Epoch 102/120\n",
            "528/528 [==============================] - 79s 149ms/step - loss: 0.0780 - accuracy: 0.9712 - val_loss: 0.1496 - val_accuracy: 0.9617\n",
            "Epoch 103/120\n",
            "528/528 [==============================] - 77s 145ms/step - loss: 0.0840 - accuracy: 0.9681 - val_loss: 0.1360 - val_accuracy: 0.9626\n",
            "Epoch 104/120\n",
            "528/528 [==============================] - 79s 151ms/step - loss: 0.0712 - accuracy: 0.9745 - val_loss: 0.1333 - val_accuracy: 0.9531\n",
            "Epoch 105/120\n",
            "528/528 [==============================] - 79s 150ms/step - loss: 0.0844 - accuracy: 0.9683 - val_loss: 0.1622 - val_accuracy: 0.9535\n",
            "Epoch 106/120\n",
            "528/528 [==============================] - 79s 150ms/step - loss: 0.0790 - accuracy: 0.9709 - val_loss: 0.1197 - val_accuracy: 0.9641\n",
            "Epoch 107/120\n",
            "528/528 [==============================] - 78s 148ms/step - loss: 0.0617 - accuracy: 0.9781 - val_loss: 0.1357 - val_accuracy: 0.9631\n",
            "Epoch 108/120\n",
            "528/528 [==============================] - 78s 148ms/step - loss: 0.0684 - accuracy: 0.9757 - val_loss: 0.1286 - val_accuracy: 0.9607\n",
            "Epoch 109/120\n",
            "528/528 [==============================] - 78s 148ms/step - loss: 0.1252 - accuracy: 0.9555 - val_loss: 0.1598 - val_accuracy: 0.9397\n",
            "Epoch 110/120\n",
            "528/528 [==============================] - 80s 151ms/step - loss: 0.1415 - accuracy: 0.9487 - val_loss: 0.1456 - val_accuracy: 0.9507\n",
            "Epoch 111/120\n",
            "528/528 [==============================] - 80s 151ms/step - loss: 0.1155 - accuracy: 0.9597 - val_loss: 0.1424 - val_accuracy: 0.9555\n",
            "Epoch 112/120\n",
            "528/528 [==============================] - 78s 148ms/step - loss: 0.0980 - accuracy: 0.9655 - val_loss: 0.1183 - val_accuracy: 0.9588\n",
            "Epoch 113/120\n",
            "528/528 [==============================] - 78s 147ms/step - loss: 0.0909 - accuracy: 0.9680 - val_loss: 0.1164 - val_accuracy: 0.9617\n",
            "Epoch 114/120\n",
            "528/528 [==============================] - 76s 144ms/step - loss: 0.0823 - accuracy: 0.9709 - val_loss: 0.1126 - val_accuracy: 0.9612\n",
            "Epoch 115/120\n",
            "528/528 [==============================] - 78s 149ms/step - loss: 0.0766 - accuracy: 0.9724 - val_loss: 0.1219 - val_accuracy: 0.9593\n",
            "Epoch 116/120\n",
            "528/528 [==============================] - 76s 145ms/step - loss: 0.0792 - accuracy: 0.9718 - val_loss: 0.1193 - val_accuracy: 0.9655\n",
            "Epoch 117/120\n",
            "528/528 [==============================] - 77s 147ms/step - loss: 0.0731 - accuracy: 0.9736 - val_loss: 0.1290 - val_accuracy: 0.9679\n",
            "Epoch 118/120\n",
            "528/528 [==============================] - 80s 152ms/step - loss: 0.0874 - accuracy: 0.9686 - val_loss: 0.1225 - val_accuracy: 0.9660\n",
            "Epoch 119/120\n",
            "528/528 [==============================] - 78s 148ms/step - loss: 0.0683 - accuracy: 0.9753 - val_loss: 0.1161 - val_accuracy: 0.9693\n",
            "Epoch 120/120\n",
            "528/528 [==============================] - 76s 143ms/step - loss: 0.0605 - accuracy: 0.9782 - val_loss: 0.1270 - val_accuracy: 0.9650\n"
          ]
        }
      ]
    },
    {
      "cell_type": "code",
      "source": [
        "model.save(\"/content/gdrive/MyDrive/Models/RNN-LSTM-WithoutAttention.h5\")\n",
        "score = model.evaluate(X_test, y_test)\n",
        "print(score)"
      ],
      "metadata": {
        "colab": {
          "base_uri": "https://localhost:8080/"
        },
        "id": "0UTGlmyHaFG2",
        "outputId": "37ecd1f0-3139-41b7-8a96-d1dcd9d5c8d9"
      },
      "execution_count": null,
      "outputs": [
        {
          "output_type": "stream",
          "name": "stdout",
          "text": [
            "66/66 [==============================] - 6s 82ms/step - loss: 0.1090 - accuracy: 0.9692\n",
            "[0.10900460928678513, 0.9691796898841858]\n"
          ]
        }
      ]
    },
    {
      "cell_type": "code",
      "source": [
        "pip install plot_keras_history"
      ],
      "metadata": {
        "id": "JMLtUcDul9vl",
        "colab": {
          "base_uri": "https://localhost:8080/"
        },
        "outputId": "7cf42ab6-e741-48fd-fc55-5a2dfba0649b"
      },
      "execution_count": null,
      "outputs": [
        {
          "output_type": "stream",
          "name": "stdout",
          "text": [
            "Looking in indexes: https://pypi.org/simple, https://us-python.pkg.dev/colab-wheels/public/simple/\n",
            "Collecting plot_keras_history\n",
            "  Downloading plot_keras_history-1.1.38.tar.gz (11 kB)\n",
            "  Preparing metadata (setup.py) ... \u001b[?25l\u001b[?25hdone\n",
            "Requirement already satisfied: matplotlib in /usr/local/lib/python3.8/dist-packages (from plot_keras_history) (3.5.3)\n",
            "Requirement already satisfied: pandas in /usr/local/lib/python3.8/dist-packages (from plot_keras_history) (1.3.5)\n",
            "Requirement already satisfied: scipy in /usr/local/lib/python3.8/dist-packages (from plot_keras_history) (1.7.3)\n",
            "Collecting support_developer>=1.0.2\n",
            "  Downloading support_developer-1.0.5.tar.gz (4.9 kB)\n",
            "  Preparing metadata (setup.py) ... \u001b[?25l\u001b[?25hdone\n",
            "Collecting sanitize_ml_labels>=1.0.48\n",
            "  Downloading sanitize_ml_labels-1.0.50.tar.gz (322 kB)\n",
            "\u001b[2K     \u001b[90m━━━━━━━━━━━━━━━━━━━━━━━━━━━━━━━━━━━━━━\u001b[0m \u001b[32m322.1/322.1 KB\u001b[0m \u001b[31m17.0 MB/s\u001b[0m eta \u001b[36m0:00:00\u001b[0m\n",
            "\u001b[?25h  Preparing metadata (setup.py) ... \u001b[?25l\u001b[?25hdone\n",
            "Collecting compress_json\n",
            "  Downloading compress_json-1.0.8.tar.gz (4.7 kB)\n",
            "  Preparing metadata (setup.py) ... \u001b[?25l\u001b[?25hdone\n",
            "Requirement already satisfied: cycler>=0.10 in /usr/local/lib/python3.8/dist-packages (from matplotlib->plot_keras_history) (0.11.0)\n",
            "Requirement already satisfied: pillow>=6.2.0 in /usr/local/lib/python3.8/dist-packages (from matplotlib->plot_keras_history) (7.1.2)\n",
            "Requirement already satisfied: pyparsing>=2.2.1 in /usr/local/lib/python3.8/dist-packages (from matplotlib->plot_keras_history) (3.0.9)\n",
            "Requirement already satisfied: python-dateutil>=2.7 in /usr/local/lib/python3.8/dist-packages (from matplotlib->plot_keras_history) (2.8.2)\n",
            "Requirement already satisfied: packaging>=20.0 in /usr/local/lib/python3.8/dist-packages (from matplotlib->plot_keras_history) (23.0)\n",
            "Requirement already satisfied: kiwisolver>=1.0.1 in /usr/local/lib/python3.8/dist-packages (from matplotlib->plot_keras_history) (1.4.4)\n",
            "Requirement already satisfied: numpy>=1.17 in /usr/local/lib/python3.8/dist-packages (from matplotlib->plot_keras_history) (1.22.4)\n",
            "Requirement already satisfied: fonttools>=4.22.0 in /usr/local/lib/python3.8/dist-packages (from matplotlib->plot_keras_history) (4.38.0)\n",
            "Requirement already satisfied: pytz>=2017.3 in /usr/local/lib/python3.8/dist-packages (from pandas->plot_keras_history) (2022.7.1)\n",
            "Requirement already satisfied: six>=1.5 in /usr/local/lib/python3.8/dist-packages (from python-dateutil>=2.7->matplotlib->plot_keras_history) (1.15.0)\n",
            "Building wheels for collected packages: plot_keras_history, sanitize_ml_labels, support_developer, compress_json\n",
            "  Building wheel for plot_keras_history (setup.py) ... \u001b[?25l\u001b[?25hdone\n",
            "  Created wheel for plot_keras_history: filename=plot_keras_history-1.1.38-py3-none-any.whl size=9472 sha256=54b2c0001a675cee64a79a674d89fb9668823ba084472d91d82e8809e14fc8a5\n",
            "  Stored in directory: /root/.cache/pip/wheels/97/a5/76/35ae3e15da1ce4530de8591b0bcd7716f6d6752a4808f01c04\n",
            "  Building wheel for sanitize_ml_labels (setup.py) ... \u001b[?25l\u001b[?25hdone\n",
            "  Created wheel for sanitize_ml_labels: filename=sanitize_ml_labels-1.0.50-py3-none-any.whl size=320514 sha256=ffeaca4cb0ad6a7c4157107c736a046ff98420d808685eb6c185438ccd57b950\n",
            "  Stored in directory: /root/.cache/pip/wheels/a3/5f/ba/ddd191edb6c749a63cffabd28714d5600b5b58014daf7434a8\n",
            "  Building wheel for support_developer (setup.py) ... \u001b[?25l\u001b[?25hdone\n",
            "  Created wheel for support_developer: filename=support_developer-1.0.5-py3-none-any.whl size=5650 sha256=d45efe978f7d837ceca2a094bf0d18e60ec5b9a819e2a2cee6a6df258e7e869c\n",
            "  Stored in directory: /root/.cache/pip/wheels/11/5e/63/51e84640e77a7dc5f1e5f5eb597e8f1bc730a2818ee5c3fc03\n",
            "  Building wheel for compress_json (setup.py) ... \u001b[?25l\u001b[?25hdone\n",
            "  Created wheel for compress_json: filename=compress_json-1.0.8-py3-none-any.whl size=4733 sha256=e77d5364d18897223b35222b35d4106e8a7a1650fc1a2ffaa734ba14d8a2bde8\n",
            "  Stored in directory: /root/.cache/pip/wheels/fe/36/4b/69aaa23fc0ea813dc1f8cca3372bff314abed354cac20a1cb9\n",
            "Successfully built plot_keras_history sanitize_ml_labels support_developer compress_json\n",
            "Installing collected packages: support_developer, compress_json, sanitize_ml_labels, plot_keras_history\n",
            "Successfully installed compress_json-1.0.8 plot_keras_history-1.1.38 sanitize_ml_labels-1.0.50 support_developer-1.0.5\n"
          ]
        }
      ]
    },
    {
      "cell_type": "code",
      "source": [
        "from plot_keras_history import show_history, plot_history\n",
        "plot_history(history)"
      ],
      "metadata": {
        "colab": {
          "base_uri": "https://localhost:8080/",
          "height": 597
        },
        "id": "2DoZc8CybUP_",
        "outputId": "4747794f-f79a-4d98-e4eb-8dc192bd61e8"
      },
      "execution_count": null,
      "outputs": [
        {
          "output_type": "execute_result",
          "data": {
            "text/plain": [
              "(<Figure size 1000x500 with 2 Axes>,\n",
              " array([<AxesSubplot:title={'center':'Loss'}, xlabel='Epochs', ylabel='Loss'>,\n",
              "        <AxesSubplot:title={'center':'Accuracy'}, xlabel='Epochs', ylabel='Accuracy'>],\n",
              "       dtype=object))"
            ]
          },
          "metadata": {},
          "execution_count": 14
        },
        {
          "output_type": "display_data",
          "data": {
            "text/plain": [
              "<Figure size 1000x500 with 2 Axes>"
            ],
            "image/png": "[encoded data removed]"
          },
          "metadata": {
            "needs_background": "light"
          }
        }
      ]
    },
    {
      "cell_type": "code",
      "source": [
        "import matplotlib.pyplot as plt\n",
        "import itertools\n",
        "import numpy as np\n",
        "\n",
        "def plot_confusion_matrix(cm, classes,\n",
        "                        normalize=False,\n",
        "                        title='Confusion matrix',\n",
        "                        cmap=plt.cm.Blues):\n",
        "    \"\"\"\n",
        "    This function prints and plots the confusion matrix.\n",
        "    Normalization can be applied by setting `normalize=True`.\n",
        "    \"\"\"\n",
        "    plt.imshow(cm, interpolation='nearest', cmap=cmap)\n",
        "    plt.title(title)\n",
        "    plt.colorbar()\n",
        "    tick_marks = np.arange(len(classes))\n",
        "    plt.xticks(tick_marks, classes, rotation=45)\n",
        "    plt.yticks(tick_marks, classes)\n",
        "\n",
        "    if normalize:\n",
        "        cm = cm.astype('float') / cm.sum(axis=1)[:, np.newaxis]\n",
        "        print(\"Normalized confusion matrix\")\n",
        "    else:\n",
        "        print('Confusion matrix, without normalization')\n",
        "\n",
        "    print(cm)\n",
        "\n",
        "    thresh = cm.max() / 2.\n",
        "    for i, j in itertools.product(range(cm.shape[0]), range(cm.shape[1])):\n",
        "        plt.text(j, i, cm[i, j],\n",
        "            horizontalalignment=\"center\",\n",
        "            color=\"white\" if cm[i, j] > thresh else \"black\")\n",
        "\n",
        "    plt.tight_layout()\n",
        "    plt.ylabel('True label')\n",
        "    plt.xlabel('Predicted label')\n",
        "    plt.show()"
      ],
      "metadata": {
        "id": "J02LgWtGb30K"
      },
      "execution_count": null,
      "outputs": []
    },
    {
      "cell_type": "code",
      "source": [
        "print(\"Model Classification Report: \\n\")\n",
        "y_pred = np.argmax(model.predict(X_test), axis=1)\n",
        "cm = confusion_matrix(np.argmax(y_test, axis=1), y_pred)\n",
        "print(classification_report(np.argmax(y_test, axis=1), y_pred))\n",
        "plot_confusion_matrix(cm, classes=[\"Does not have Wake Word\", \"Has Wake Word\"])"
      ],
      "metadata": {
        "colab": {
          "base_uri": "https://localhost:8080/",
          "height": 571
        },
        "id": "iDoZ1XDIb6Kw",
        "outputId": "cfd217e0-ec95-4308-e6a8-818d12a76e39"
      },
      "execution_count": null,
      "outputs": [
        {
          "output_type": "stream",
          "name": "stdout",
          "text": [
            "Model Classification Report: \n",
            "\n",
            "66/66 [==============================] - 6s 75ms/step\n",
            "              precision    recall  f1-score   support\n",
            "\n",
            "           0       0.98      0.96      0.97      1049\n",
            "           1       0.96      0.98      0.97      1060\n",
            "\n",
            "    accuracy                           0.97      2109\n",
            "   macro avg       0.97      0.97      0.97      2109\n",
            "weighted avg       0.97      0.97      0.97      2109\n",
            "\n",
            "Confusion matrix, without normalization\n",
            "[[1002   47]\n",
            " [  18 1042]]\n"
          ]
        },
        {
          "output_type": "display_data",
          "data": {
            "text/plain": [
              "<Figure size 432x288 with 2 Axes>"
            ],
            "image/png": "[encoded data removed]"
          },
          "metadata": {
            "needs_background": "light"
          }
        }
      ]
    },
    {
      "cell_type": "markdown",
      "source": [
        "##PREDICTION & LATENCY"
      ],
      "metadata": {
        "id": "UsQqG4L5PGrr"
      }
    },
    {
      "cell_type": "code",
      "source": [
        "pip install spafe"
      ],
      "metadata": {
        "colab": {
          "base_uri": "https://localhost:8080/"
        },
        "id": "CxWuHb4ySZIl",
        "outputId": "3249f4ee-0ede-4cca-d330-1f3cb9769d77"
      },
      "execution_count": null,
      "outputs": [
        {
          "output_type": "stream",
          "name": "stdout",
          "text": [
            "Looking in indexes: https://pypi.org/simple, https://us-python.pkg.dev/colab-wheels/public/simple/\n",
            "Collecting spafe\n",
            "  Downloading spafe-0.3.1-py3-none-any.whl (93 kB)\n",
            "\u001b[2K     \u001b[90m━━━━━━━━━━━━━━━━━━━━━━━━━━━━━━━━━━━━━━━━\u001b[0m \u001b[32m93.4/93.4 KB\u001b[0m \u001b[31m8.2 MB/s\u001b[0m eta \u001b[36m0:00:00\u001b[0m\n",
            "\u001b[?25hRequirement already satisfied: scipy>=1.7.3 in /usr/local/lib/python3.8/dist-packages (from spafe) (1.7.3)\n",
            "Requirement already satisfied: typing-extensions in /usr/local/lib/python3.8/dist-packages (from spafe) (4.5.0)\n",
            "Requirement already satisfied: numpy>=1.21 in /usr/local/lib/python3.8/dist-packages (from spafe) (1.22.4)\n",
            "Installing collected packages: spafe\n",
            "Successfully installed spafe-0.3.1\n"
          ]
        }
      ]
    },
    {
      "cell_type": "code",
      "source": [
        "import spafe\n",
        "from spafe.features.lfcc import lfcc\n",
        "import pywt"
      ],
      "metadata": {
        "id": "nq51dZpURltN"
      },
      "execution_count": null,
      "outputs": []
    },
    {
      "cell_type": "code",
      "source": [
        "def predict(audio):\n",
        "  audio_data, sr = librosa.load(audio)\n",
        "\n",
        "  wavelet = 'db4'\n",
        "  level = 4\n",
        "  coeffs = pywt.wavedec(audio_data, wavelet, level=level)\n",
        "  threshold = np.median(np.abs(coeffs[-level])) / 0.6745\n",
        "  for i in range(1, len(coeffs)):\n",
        "    coeffs[i] = pywt.threshold(coeffs[i], threshold)\n",
        "  denoised_audio = pywt.waverec(coeffs, wavelet)\n",
        "\n",
        "  lfccs  = lfcc(denoised_audio, fs = sr, num_ceps=13)\n",
        "  lfccs_processed = np.mean(lfccs.T, axis=0) # some pre-processing\n",
        "  lfccs_new = np.expand_dims(np.asarray(lfccs_processed), axis=0)\n",
        "  predictions = model.predict(lfccs_new)\n",
        "  return predictions"
      ],
      "metadata": {
        "id": "YW50WQdJQKjK"
      },
      "execution_count": null,
      "outputs": []
    },
    {
      "cell_type": "code",
      "source": [
        "audio_for_pred = \"/content/gdrive/MyDrive/Marvin/marvin (10).wav\"\n",
        "print(np.round(predict(audio_for_pred)))"
      ],
      "metadata": {
        "colab": {
          "base_uri": "https://localhost:8080/"
        },
        "id": "xtiRhQsfb_ar",
        "outputId": "3489d86b-34e8-4fc8-d490-1949adf46f0d"
      },
      "execution_count": null,
      "outputs": [
        {
          "output_type": "stream",
          "name": "stdout",
          "text": [
            "1/1 [==============================] - 0s 63ms/step\n",
            "[[0. 1.]]\n"
          ]
        }
      ]
    },
    {
      "cell_type": "code",
      "source": [
        "audio_for_pred = \"/content/gdrive/MyDrive/False/yes (824).wav\"\n",
        "print(np.round(predict(audio_for_pred)))"
      ],
      "metadata": {
        "colab": {
          "base_uri": "https://localhost:8080/"
        },
        "id": "nCDmKljHvaN5",
        "outputId": "a1a02d4b-2cfd-4dd9-8743-ad9a4b48cc7c"
      },
      "execution_count": null,
      "outputs": [
        {
          "output_type": "stream",
          "name": "stdout",
          "text": [
            "1/1 [==============================] - 0s 72ms/step\n",
            "[[1. 0.]]\n"
          ]
        }
      ]
    }
  ]
}