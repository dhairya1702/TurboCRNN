{
  "cells": [
    {
      "cell_type": "code",
      "execution_count": null,
      "metadata": {
        "colab": {
          "base_uri": "https://localhost:8080/"
        },
        "id": "BuQUGvmiLNno",
        "outputId": "18048b33-dc26-45e2-a504-0c59c9b963d9"
      },
      "outputs": [
        {
          "output_type": "stream",
          "name": "stdout",
          "text": [
            "Mounted at /content/gdrive\n"
          ]
        }
      ],
      "source": [
        "from google.colab import drive\n",
        "drive.mount('/content/gdrive')"
      ]
    },
    {
      "cell_type": "code",
      "execution_count": null,
      "metadata": {
        "id": "9ws9myx8_tnv"
      },
      "outputs": [],
      "source": [
        "import os\n",
        "import numpy as np\n",
        "import pandas as pd\n",
        "import matplotlib.pyplot as plt\n",
        "import librosa, librosa.display\n",
        "\n",
        "import tensorflow as tf \n",
        "from sklearn.model_selection import train_test_split\n",
        "from tensorflow.keras.utils import to_categorical"
      ]
    },
    {
      "cell_type": "code",
      "execution_count": null,
      "metadata": {
        "id": "4DnfMk95XB0x"
      },
      "outputs": [],
      "source": [
        "from tensorflow.keras import Sequential\n",
        "from tensorflow.keras.layers import Dense, Activation, Dropout, GRU, Input, Conv1D, MaxPooling1D\n",
        "from sklearn.metrics import confusion_matrix, classification_report"
      ]
    },
    {
      "cell_type": "markdown",
      "metadata": {
        "id": "clMSLEuhxwmA"
      },
      "source": [
        "## DATALOADER"
      ]
    },
    {
      "cell_type": "code",
      "execution_count": null,
      "metadata": {
        "id": "dV2e4HA3kU43"
      },
      "outputs": [],
      "source": [
        "X_train = np.load('/content/gdrive/MyDrive/data/Augmented1/X_train.npy')\n",
        "y_train = np.load('/content/gdrive/MyDrive/data/Augmented1/y_train.npy')\n",
        "X_test = np.load('/content/gdrive/MyDrive/data/Augmented1/X_test.npy')\n",
        "y_test = np.load('/content/gdrive/MyDrive/data/Augmented1/y_test.npy')\n",
        "X_val = np.load('/content/gdrive/MyDrive/data/Augmented1/X_val.npy')\n",
        "y_val = np.load('/content/gdrive/MyDrive/data/Augmented1/y_val.npy')"
      ]
    },
    {
      "cell_type": "code",
      "execution_count": null,
      "metadata": {
        "colab": {
          "base_uri": "https://localhost:8080/"
        },
        "id": "amLb4rN1Rpec",
        "outputId": "d49b0919-e0e7-4763-ee0f-17ab79ee7420"
      },
      "outputs": [
        {
          "output_type": "execute_result",
          "data": {
            "text/plain": [
              "(98,)"
            ]
          },
          "metadata": {},
          "execution_count": 8
        }
      ],
      "source": [
        "X_train[0].shape"
      ]
    },
    {
      "cell_type": "code",
      "execution_count": null,
      "metadata": {
        "colab": {
          "base_uri": "https://localhost:8080/"
        },
        "id": "SbDBZGeZMJZH",
        "outputId": "97b14f4a-01da-41ef-ebc1-7eaacb8ab393"
      },
      "outputs": [
        {
          "output_type": "stream",
          "name": "stdout",
          "text": [
            "(16893, 98) (16893, 2)\n",
            "(2109, 98) (2109, 2)\n",
            "(2088, 98) (2088, 2)\n"
          ]
        }
      ],
      "source": [
        "print(X_train.shape, y_train.shape)\n",
        "print(X_test.shape, y_test.shape)\n",
        "print(X_val.shape, y_val.shape)"
      ]
    },
    {
      "cell_type": "markdown",
      "metadata": {
        "id": "nQAq3SphxsG5"
      },
      "source": [
        "## CRNN - Review Later"
      ]
    },
    {
      "cell_type": "code",
      "execution_count": null,
      "metadata": {
        "colab": {
          "base_uri": "https://localhost:8080/"
        },
        "id": "lZOLG5W2_8N-",
        "outputId": "8e192018-c668-4937-9cbf-93ed2422af19"
      },
      "outputs": [
        {
          "output_type": "stream",
          "name": "stdout",
          "text": [
            "Model: \"model\"\n",
            "__________________________________________________________________________________________________\n",
            " Layer (type)                   Output Shape         Param #     Connected to                     \n",
            "==================================================================================================\n",
            " input_1 (InputLayer)           [(None, 98, 1)]      0           []                               \n",
            "                                                                                                  \n",
            " gru (GRU)                      (None, 128)          50304       ['input_1[0][0]']                \n",
            "                                                                                                  \n",
            " dense (Dense)                  (None, 128)          16512       ['gru[0][0]']                    \n",
            "                                                                                                  \n",
            " dense_1 (Dense)                (None, 128)          16512       ['gru[0][0]']                    \n",
            "                                                                                                  \n",
            " reshape (Reshape)              (None, 1, 128)       0           ['dense[0][0]']                  \n",
            "                                                                                                  \n",
            " reshape_1 (Reshape)            (None, 1, 128)       0           ['dense_1[0][0]']                \n",
            "                                                                                                  \n",
            " dot (Dot)                      (None, 1, 1)         0           ['reshape[0][0]',                \n",
            "                                                                  'reshape_1[0][0]']              \n",
            "                                                                                                  \n",
            " dense_2 (Dense)                (None, 128)          16512       ['gru[0][0]']                    \n",
            "                                                                                                  \n",
            " activation (Activation)        (None, 1, 1)         0           ['dot[0][0]']                    \n",
            "                                                                                                  \n",
            " reshape_2 (Reshape)            (None, 1, 128)       0           ['dense_2[0][0]']                \n",
            "                                                                                                  \n",
            " dot_1 (Dot)                    (None, 1, 128)       0           ['activation[0][0]',             \n",
            "                                                                  'reshape_2[0][0]']              \n",
            "                                                                                                  \n",
            " reshape_3 (Reshape)            (None, 128)          0           ['dot_1[0][0]']                  \n",
            "                                                                                                  \n",
            " dense_3 (Dense)                (None, 2)            258         ['reshape_3[0][0]']              \n",
            "                                                                                                  \n",
            "==================================================================================================\n",
            "Total params: 100,098\n",
            "Trainable params: 100,098\n",
            "Non-trainable params: 0\n",
            "__________________________________________________________________________________________________\n",
            "None\n"
          ]
        }
      ],
      "source": [
        "from keras.layers import Input, LSTM, GRU, Dense, Embedding, Conv1D, MaxPooling1D, Activation\n",
        "from keras.layers import Reshape, Softmax, Permute, Multiply, dot, concatenate\n",
        "from keras.layers import BatchNormalization\n",
        "from keras.models import Model\n",
        "\n",
        "inputs = Input(shape=(98,1))\n",
        "\n",
        "gru1 = GRU(128, return_sequences=False)(inputs)\n",
        "\n",
        "q = Dense(128)(gru1)\n",
        "k = Dense(128)(gru1)\n",
        "v = Dense(128)(gru1)\n",
        "\n",
        "q = Reshape((1, 128))(q)\n",
        "k = Reshape((1, 128))(k)\n",
        "v = Reshape((1, 128))(v)\n",
        "\n",
        "attention = dot([q, k], axes=[2, 2])\n",
        "attention = Activation('softmax')(attention)\n",
        "\n",
        "output = dot([attention, v], axes=[2, 1])\n",
        "output = Reshape((128,))(output)\n",
        "\n",
        "output = Dense(2, activation='softmax')(output)\n",
        "\n",
        "model = Model(inputs=inputs, outputs=output)\n",
        "model.compile(optimizer=tf.keras.optimizers.Adam(amsgrad=True), loss='categorical_crossentropy', metrics=['accuracy'])\n",
        "\n",
        "print(model.summary())"
      ]
    },
    {
      "cell_type": "code",
      "execution_count": null,
      "metadata": {
        "id": "MMzo894cYCug"
      },
      "outputs": [],
      "source": [
        "model.compile(\n",
        "    loss=\"categorical_crossentropy\",\n",
        "    optimizer=tf.keras.optimizers.Adam(amsgrad=True),\n",
        "    metrics=['accuracy']\n",
        ")"
      ]
    },
    {
      "cell_type": "code",
      "execution_count": null,
      "metadata": {
        "colab": {
          "base_uri": "https://localhost:8080/"
        },
        "id": "z0wENlqtbaxX",
        "outputId": "990a0bb1-5b1c-4b45-91d5-fef4b126d517"
      },
      "outputs": [
        {
          "output_type": "stream",
          "name": "stdout",
          "text": [
            "Epoch 1/120\n",
            "528/528 [==============================] - 55s 97ms/step - loss: 0.6969 - accuracy: 0.5119 - val_loss: 0.6847 - val_accuracy: 0.5479\n",
            "Epoch 2/120\n",
            "528/528 [==============================] - 52s 99ms/step - loss: 0.6835 - accuracy: 0.5546 - val_loss: 0.6240 - val_accuracy: 0.6351\n",
            "Epoch 3/120\n",
            "528/528 [==============================] - 50s 95ms/step - loss: 0.3720 - accuracy: 0.8307 - val_loss: 0.2224 - val_accuracy: 0.9124\n",
            "Epoch 4/120\n",
            "528/528 [==============================] - 53s 100ms/step - loss: 0.1951 - accuracy: 0.9272 - val_loss: 0.1919 - val_accuracy: 0.9315\n",
            "Epoch 5/120\n",
            "528/528 [==============================] - 52s 98ms/step - loss: 0.1640 - accuracy: 0.9394 - val_loss: 0.2081 - val_accuracy: 0.9301\n",
            "Epoch 6/120\n",
            "528/528 [==============================] - 52s 98ms/step - loss: 0.1510 - accuracy: 0.9447 - val_loss: 0.1825 - val_accuracy: 0.9392\n",
            "Epoch 7/120\n",
            "528/528 [==============================] - 52s 99ms/step - loss: 0.1402 - accuracy: 0.9473 - val_loss: 0.1704 - val_accuracy: 0.9444\n",
            "Epoch 8/120\n",
            "528/528 [==============================] - 52s 99ms/step - loss: 0.1318 - accuracy: 0.9505 - val_loss: 0.1637 - val_accuracy: 0.9464\n",
            "Epoch 9/120\n",
            "528/528 [==============================] - 53s 100ms/step - loss: 0.1241 - accuracy: 0.9533 - val_loss: 0.1679 - val_accuracy: 0.9435\n",
            "Epoch 10/120\n",
            "528/528 [==============================] - 52s 99ms/step - loss: 0.1179 - accuracy: 0.9566 - val_loss: 0.1650 - val_accuracy: 0.9478\n",
            "Epoch 11/120\n",
            "528/528 [==============================] - 52s 99ms/step - loss: 0.1128 - accuracy: 0.9587 - val_loss: 0.1568 - val_accuracy: 0.9488\n",
            "Epoch 12/120\n",
            "528/528 [==============================] - 51s 96ms/step - loss: 0.1116 - accuracy: 0.9592 - val_loss: 0.1580 - val_accuracy: 0.9535\n",
            "Epoch 13/120\n",
            "528/528 [==============================] - 53s 100ms/step - loss: 0.1024 - accuracy: 0.9632 - val_loss: 0.1522 - val_accuracy: 0.9488\n",
            "Epoch 14/120\n",
            "528/528 [==============================] - 52s 98ms/step - loss: 0.1020 - accuracy: 0.9624 - val_loss: 0.1539 - val_accuracy: 0.9507\n",
            "Epoch 15/120\n",
            "528/528 [==============================] - 51s 96ms/step - loss: 0.0947 - accuracy: 0.9654 - val_loss: 0.1593 - val_accuracy: 0.9478\n",
            "Epoch 16/120\n",
            "528/528 [==============================] - 53s 100ms/step - loss: 0.0962 - accuracy: 0.9637 - val_loss: 0.1442 - val_accuracy: 0.9473\n",
            "Epoch 17/120\n",
            "528/528 [==============================] - 53s 101ms/step - loss: 0.0902 - accuracy: 0.9674 - val_loss: 0.1521 - val_accuracy: 0.9507\n",
            "Epoch 18/120\n",
            "528/528 [==============================] - 52s 98ms/step - loss: 0.0839 - accuracy: 0.9695 - val_loss: 0.1464 - val_accuracy: 0.9535\n",
            "Epoch 19/120\n",
            "528/528 [==============================] - 53s 100ms/step - loss: 0.0835 - accuracy: 0.9708 - val_loss: 0.1406 - val_accuracy: 0.9579\n",
            "Epoch 20/120\n",
            "528/528 [==============================] - 56s 105ms/step - loss: 0.0766 - accuracy: 0.9732 - val_loss: 0.1442 - val_accuracy: 0.9531\n",
            "Epoch 21/120\n",
            "528/528 [==============================] - 52s 99ms/step - loss: 0.0729 - accuracy: 0.9741 - val_loss: 0.1312 - val_accuracy: 0.9550\n",
            "Epoch 22/120\n",
            "528/528 [==============================] - 55s 104ms/step - loss: 0.0698 - accuracy: 0.9758 - val_loss: 0.1421 - val_accuracy: 0.9564\n",
            "Epoch 23/120\n",
            "528/528 [==============================] - 55s 104ms/step - loss: 0.0766 - accuracy: 0.9728 - val_loss: 0.1173 - val_accuracy: 0.9626\n",
            "Epoch 24/120\n",
            "528/528 [==============================] - 56s 106ms/step - loss: 0.0675 - accuracy: 0.9756 - val_loss: 0.1194 - val_accuracy: 0.9636\n",
            "Epoch 25/120\n",
            "528/528 [==============================] - 54s 103ms/step - loss: 0.0583 - accuracy: 0.9788 - val_loss: 0.1258 - val_accuracy: 0.9598\n",
            "Epoch 26/120\n",
            "528/528 [==============================] - 54s 102ms/step - loss: 0.0586 - accuracy: 0.9787 - val_loss: 0.1402 - val_accuracy: 0.9588\n",
            "Epoch 27/120\n",
            "528/528 [==============================] - 54s 102ms/step - loss: 0.0582 - accuracy: 0.9783 - val_loss: 0.1382 - val_accuracy: 0.9588\n",
            "Epoch 28/120\n",
            "528/528 [==============================] - 53s 101ms/step - loss: 0.0599 - accuracy: 0.9775 - val_loss: 0.1413 - val_accuracy: 0.9569\n",
            "Epoch 29/120\n",
            "528/528 [==============================] - 53s 100ms/step - loss: 0.0499 - accuracy: 0.9823 - val_loss: 0.1227 - val_accuracy: 0.9598\n",
            "Epoch 30/120\n",
            "528/528 [==============================] - 54s 101ms/step - loss: 0.0477 - accuracy: 0.9825 - val_loss: 0.1317 - val_accuracy: 0.9622\n",
            "Epoch 31/120\n",
            "528/528 [==============================] - 54s 101ms/step - loss: 0.0482 - accuracy: 0.9833 - val_loss: 0.1296 - val_accuracy: 0.9641\n",
            "Epoch 32/120\n",
            "528/528 [==============================] - 55s 105ms/step - loss: 0.0481 - accuracy: 0.9827 - val_loss: 0.1347 - val_accuracy: 0.9631\n",
            "Epoch 33/120\n",
            "528/528 [==============================] - 53s 100ms/step - loss: 0.0415 - accuracy: 0.9854 - val_loss: 0.1469 - val_accuracy: 0.9665\n",
            "Epoch 34/120\n",
            "528/528 [==============================] - 53s 101ms/step - loss: 0.0438 - accuracy: 0.9846 - val_loss: 0.1454 - val_accuracy: 0.9636\n",
            "Epoch 35/120\n",
            "528/528 [==============================] - 55s 104ms/step - loss: 0.0452 - accuracy: 0.9832 - val_loss: 0.1228 - val_accuracy: 0.9698\n",
            "Epoch 36/120\n",
            "528/528 [==============================] - 54s 102ms/step - loss: 0.0450 - accuracy: 0.9850 - val_loss: 0.1388 - val_accuracy: 0.9655\n",
            "Epoch 37/120\n",
            "528/528 [==============================] - 53s 101ms/step - loss: 0.0423 - accuracy: 0.9852 - val_loss: 0.1849 - val_accuracy: 0.9492\n",
            "Epoch 38/120\n",
            "528/528 [==============================] - 54s 102ms/step - loss: 0.0343 - accuracy: 0.9877 - val_loss: 0.1531 - val_accuracy: 0.9646\n",
            "Epoch 39/120\n",
            "528/528 [==============================] - 54s 102ms/step - loss: 0.0341 - accuracy: 0.9882 - val_loss: 0.1675 - val_accuracy: 0.9612\n",
            "Epoch 40/120\n",
            "528/528 [==============================] - 56s 106ms/step - loss: 0.0389 - accuracy: 0.9872 - val_loss: 0.1237 - val_accuracy: 0.9722\n",
            "Epoch 41/120\n",
            "528/528 [==============================] - 56s 106ms/step - loss: 0.0270 - accuracy: 0.9915 - val_loss: 0.1454 - val_accuracy: 0.9727\n",
            "Epoch 42/120\n",
            "528/528 [==============================] - 57s 109ms/step - loss: 0.0241 - accuracy: 0.9919 - val_loss: 0.1509 - val_accuracy: 0.9665\n",
            "Epoch 43/120\n",
            "528/528 [==============================] - 56s 105ms/step - loss: 0.0287 - accuracy: 0.9902 - val_loss: 0.1463 - val_accuracy: 0.9670\n",
            "Epoch 44/120\n",
            "528/528 [==============================] - 57s 107ms/step - loss: 0.0263 - accuracy: 0.9906 - val_loss: 0.1706 - val_accuracy: 0.9650\n",
            "Epoch 45/120\n",
            "528/528 [==============================] - 57s 109ms/step - loss: 0.0356 - accuracy: 0.9873 - val_loss: 0.1346 - val_accuracy: 0.9684\n",
            "Epoch 46/120\n",
            "528/528 [==============================] - 58s 110ms/step - loss: 0.0243 - accuracy: 0.9916 - val_loss: 0.1933 - val_accuracy: 0.9641\n",
            "Epoch 47/120\n",
            "528/528 [==============================] - 59s 113ms/step - loss: 0.0300 - accuracy: 0.9902 - val_loss: 0.1571 - val_accuracy: 0.9655\n",
            "Epoch 48/120\n",
            "528/528 [==============================] - 65s 123ms/step - loss: 0.0262 - accuracy: 0.9902 - val_loss: 0.1509 - val_accuracy: 0.9655\n",
            "Epoch 49/120\n",
            "528/528 [==============================] - 62s 118ms/step - loss: 0.0232 - accuracy: 0.9921 - val_loss: 0.1625 - val_accuracy: 0.9689\n",
            "Epoch 50/120\n",
            "528/528 [==============================] - 62s 118ms/step - loss: 0.0270 - accuracy: 0.9910 - val_loss: 0.1309 - val_accuracy: 0.9670\n",
            "Epoch 51/120\n",
            "528/528 [==============================] - 61s 115ms/step - loss: 0.0215 - accuracy: 0.9930 - val_loss: 0.1853 - val_accuracy: 0.9660\n",
            "Epoch 52/120\n",
            "528/528 [==============================] - 60s 114ms/step - loss: 0.0206 - accuracy: 0.9927 - val_loss: 0.1481 - val_accuracy: 0.9727\n",
            "Epoch 53/120\n",
            "528/528 [==============================] - 61s 116ms/step - loss: 0.0261 - accuracy: 0.9911 - val_loss: 0.1359 - val_accuracy: 0.9693\n",
            "Epoch 54/120\n",
            "528/528 [==============================] - 62s 117ms/step - loss: 0.0200 - accuracy: 0.9935 - val_loss: 0.1716 - val_accuracy: 0.9626\n",
            "Epoch 55/120\n",
            "528/528 [==============================] - 59s 112ms/step - loss: 0.0331 - accuracy: 0.9901 - val_loss: 0.1302 - val_accuracy: 0.9746\n",
            "Epoch 56/120\n",
            "528/528 [==============================] - 58s 111ms/step - loss: 0.0165 - accuracy: 0.9946 - val_loss: 0.1706 - val_accuracy: 0.9713\n",
            "Epoch 57/120\n",
            "528/528 [==============================] - 60s 114ms/step - loss: 0.0211 - accuracy: 0.9939 - val_loss: 0.1538 - val_accuracy: 0.9650\n",
            "Epoch 58/120\n",
            "528/528 [==============================] - 60s 113ms/step - loss: 0.0165 - accuracy: 0.9947 - val_loss: 0.1555 - val_accuracy: 0.9713\n",
            "Epoch 59/120\n",
            "528/528 [==============================] - 61s 116ms/step - loss: 0.0161 - accuracy: 0.9950 - val_loss: 0.1534 - val_accuracy: 0.9703\n",
            "Epoch 60/120\n",
            "528/528 [==============================] - 60s 114ms/step - loss: 0.0206 - accuracy: 0.9934 - val_loss: 0.1455 - val_accuracy: 0.9684\n",
            "Epoch 61/120\n",
            "528/528 [==============================] - 59s 112ms/step - loss: 0.0138 - accuracy: 0.9957 - val_loss: 0.1752 - val_accuracy: 0.9670\n",
            "Epoch 62/120\n",
            "528/528 [==============================] - 60s 114ms/step - loss: 0.0199 - accuracy: 0.9933 - val_loss: 0.1688 - val_accuracy: 0.9693\n",
            "Epoch 63/120\n",
            "528/528 [==============================] - 60s 113ms/step - loss: 0.0124 - accuracy: 0.9964 - val_loss: 0.1500 - val_accuracy: 0.9713\n",
            "Epoch 64/120\n",
            "528/528 [==============================] - 60s 114ms/step - loss: 0.0096 - accuracy: 0.9970 - val_loss: 0.1802 - val_accuracy: 0.9698\n",
            "Epoch 65/120\n",
            "528/528 [==============================] - 59s 112ms/step - loss: 0.0130 - accuracy: 0.9953 - val_loss: 0.1899 - val_accuracy: 0.9693\n",
            "Epoch 66/120\n",
            "528/528 [==============================] - 60s 114ms/step - loss: 0.0194 - accuracy: 0.9935 - val_loss: 0.1537 - val_accuracy: 0.9684\n",
            "Epoch 67/120\n",
            "528/528 [==============================] - 61s 116ms/step - loss: 0.0121 - accuracy: 0.9967 - val_loss: 0.2232 - val_accuracy: 0.9650\n",
            "Epoch 68/120\n",
            "528/528 [==============================] - 62s 118ms/step - loss: 0.0093 - accuracy: 0.9966 - val_loss: 0.1583 - val_accuracy: 0.9698\n",
            "Epoch 69/120\n",
            "528/528 [==============================] - 60s 113ms/step - loss: 0.0033 - accuracy: 0.9992 - val_loss: 0.1782 - val_accuracy: 0.9703\n",
            "Epoch 70/120\n",
            "528/528 [==============================] - 60s 114ms/step - loss: 0.0014 - accuracy: 0.9998 - val_loss: 0.1849 - val_accuracy: 0.9708\n",
            "Epoch 71/120\n",
            "528/528 [==============================] - 61s 115ms/step - loss: 6.8328e-04 - accuracy: 0.9999 - val_loss: 0.1988 - val_accuracy: 0.9708\n",
            "Epoch 72/120\n",
            "528/528 [==============================] - 59s 112ms/step - loss: 3.9478e-04 - accuracy: 0.9999 - val_loss: 0.2071 - val_accuracy: 0.9713\n",
            "Epoch 73/120\n",
            "528/528 [==============================] - 60s 113ms/step - loss: 2.6645e-04 - accuracy: 1.0000 - val_loss: 0.2122 - val_accuracy: 0.9722\n",
            "Epoch 74/120\n",
            "528/528 [==============================] - 58s 111ms/step - loss: 2.0321e-04 - accuracy: 1.0000 - val_loss: 0.2175 - val_accuracy: 0.9722\n",
            "Epoch 75/120\n",
            "528/528 [==============================] - 60s 113ms/step - loss: 1.6492e-04 - accuracy: 1.0000 - val_loss: 0.2222 - val_accuracy: 0.9722\n",
            "Epoch 76/120\n",
            "528/528 [==============================] - 59s 111ms/step - loss: 1.3834e-04 - accuracy: 1.0000 - val_loss: 0.2262 - val_accuracy: 0.9722\n",
            "Epoch 77/120\n",
            "528/528 [==============================] - 59s 113ms/step - loss: 1.1859e-04 - accuracy: 1.0000 - val_loss: 0.2298 - val_accuracy: 0.9717\n",
            "Epoch 78/120\n",
            "528/528 [==============================] - 59s 111ms/step - loss: 1.0330e-04 - accuracy: 1.0000 - val_loss: 0.2330 - val_accuracy: 0.9717\n",
            "Epoch 79/120\n",
            "528/528 [==============================] - 59s 112ms/step - loss: 9.1110e-05 - accuracy: 1.0000 - val_loss: 0.2360 - val_accuracy: 0.9717\n",
            "Epoch 80/120\n",
            "528/528 [==============================] - 60s 113ms/step - loss: 8.1211e-05 - accuracy: 1.0000 - val_loss: 0.2387 - val_accuracy: 0.9717\n",
            "Epoch 81/120\n",
            "528/528 [==============================] - 59s 112ms/step - loss: 7.3047e-05 - accuracy: 1.0000 - val_loss: 0.2413 - val_accuracy: 0.9722\n",
            "Epoch 82/120\n",
            "528/528 [==============================] - 61s 115ms/step - loss: 6.6225e-05 - accuracy: 1.0000 - val_loss: 0.2436 - val_accuracy: 0.9722\n",
            "Epoch 83/120\n",
            "528/528 [==============================] - 61s 116ms/step - loss: 6.0459e-05 - accuracy: 1.0000 - val_loss: 0.2459 - val_accuracy: 0.9722\n",
            "Epoch 84/120\n",
            "528/528 [==============================] - 59s 111ms/step - loss: 5.5532e-05 - accuracy: 1.0000 - val_loss: 0.2480 - val_accuracy: 0.9722\n",
            "Epoch 85/120\n",
            "528/528 [==============================] - 60s 113ms/step - loss: 5.1282e-05 - accuracy: 1.0000 - val_loss: 0.2500 - val_accuracy: 0.9722\n",
            "Epoch 86/120\n",
            "528/528 [==============================] - 60s 114ms/step - loss: 4.7584e-05 - accuracy: 1.0000 - val_loss: 0.2519 - val_accuracy: 0.9722\n",
            "Epoch 87/120\n",
            "528/528 [==============================] - 60s 114ms/step - loss: 4.4341e-05 - accuracy: 1.0000 - val_loss: 0.2537 - val_accuracy: 0.9722\n",
            "Epoch 88/120\n",
            "528/528 [==============================] - 59s 111ms/step - loss: 4.1476e-05 - accuracy: 1.0000 - val_loss: 0.2554 - val_accuracy: 0.9722\n",
            "Epoch 89/120\n",
            "528/528 [==============================] - 60s 113ms/step - loss: 3.8931e-05 - accuracy: 1.0000 - val_loss: 0.2571 - val_accuracy: 0.9722\n",
            "Epoch 90/120\n",
            "528/528 [==============================] - 60s 113ms/step - loss: 3.6654e-05 - accuracy: 1.0000 - val_loss: 0.2586 - val_accuracy: 0.9722\n",
            "Epoch 91/120\n",
            "528/528 [==============================] - 60s 114ms/step - loss: 3.4608e-05 - accuracy: 1.0000 - val_loss: 0.2602 - val_accuracy: 0.9722\n",
            "Epoch 92/120\n",
            "528/528 [==============================] - 60s 114ms/step - loss: 3.2760e-05 - accuracy: 1.0000 - val_loss: 0.2616 - val_accuracy: 0.9722\n",
            "Epoch 93/120\n",
            "528/528 [==============================] - 60s 113ms/step - loss: 3.1084e-05 - accuracy: 1.0000 - val_loss: 0.2630 - val_accuracy: 0.9722\n",
            "Epoch 94/120\n",
            "528/528 [==============================] - 60s 113ms/step - loss: 2.9557e-05 - accuracy: 1.0000 - val_loss: 0.2644 - val_accuracy: 0.9722\n",
            "Epoch 95/120\n",
            "528/528 [==============================] - 60s 114ms/step - loss: 2.8161e-05 - accuracy: 1.0000 - val_loss: 0.2657 - val_accuracy: 0.9722\n",
            "Epoch 96/120\n",
            "528/528 [==============================] - 60s 114ms/step - loss: 2.6880e-05 - accuracy: 1.0000 - val_loss: 0.2670 - val_accuracy: 0.9717\n",
            "Epoch 97/120\n",
            "528/528 [==============================] - 60s 115ms/step - loss: 2.5701e-05 - accuracy: 1.0000 - val_loss: 0.2682 - val_accuracy: 0.9717\n",
            "Epoch 98/120\n",
            "528/528 [==============================] - 61s 115ms/step - loss: 2.4613e-05 - accuracy: 1.0000 - val_loss: 0.2694 - val_accuracy: 0.9717\n",
            "Epoch 99/120\n",
            "528/528 [==============================] - 59s 112ms/step - loss: 2.3606e-05 - accuracy: 1.0000 - val_loss: 0.2706 - val_accuracy: 0.9717\n",
            "Epoch 100/120\n",
            "528/528 [==============================] - 60s 114ms/step - loss: 2.2671e-05 - accuracy: 1.0000 - val_loss: 0.2717 - val_accuracy: 0.9717\n",
            "Epoch 101/120\n",
            "528/528 [==============================] - 61s 116ms/step - loss: 2.1801e-05 - accuracy: 1.0000 - val_loss: 0.2728 - val_accuracy: 0.9717\n",
            "Epoch 102/120\n",
            "528/528 [==============================] - 60s 114ms/step - loss: 2.0991e-05 - accuracy: 1.0000 - val_loss: 0.2738 - val_accuracy: 0.9717\n",
            "Epoch 103/120\n",
            "528/528 [==============================] - 59s 112ms/step - loss: 2.0233e-05 - accuracy: 1.0000 - val_loss: 0.2749 - val_accuracy: 0.9717\n",
            "Epoch 104/120\n",
            "528/528 [==============================] - 61s 115ms/step - loss: 1.9524e-05 - accuracy: 1.0000 - val_loss: 0.2759 - val_accuracy: 0.9717\n",
            "Epoch 105/120\n",
            "528/528 [==============================] - 59s 112ms/step - loss: 1.8859e-05 - accuracy: 1.0000 - val_loss: 0.2769 - val_accuracy: 0.9717\n",
            "Epoch 106/120\n",
            "528/528 [==============================] - 59s 113ms/step - loss: 1.8233e-05 - accuracy: 1.0000 - val_loss: 0.2778 - val_accuracy: 0.9717\n",
            "Epoch 107/120\n",
            "528/528 [==============================] - 60s 114ms/step - loss: 1.7645e-05 - accuracy: 1.0000 - val_loss: 0.2788 - val_accuracy: 0.9717\n",
            "Epoch 108/120\n",
            "528/528 [==============================] - 58s 110ms/step - loss: 1.7090e-05 - accuracy: 1.0000 - val_loss: 0.2797 - val_accuracy: 0.9717\n",
            "Epoch 109/120\n",
            "528/528 [==============================] - 59s 112ms/step - loss: 1.6566e-05 - accuracy: 1.0000 - val_loss: 0.2806 - val_accuracy: 0.9717\n",
            "Epoch 110/120\n",
            "528/528 [==============================] - 59s 112ms/step - loss: 1.6071e-05 - accuracy: 1.0000 - val_loss: 0.2814 - val_accuracy: 0.9717\n",
            "Epoch 111/120\n",
            "528/528 [==============================] - 59s 112ms/step - loss: 1.5602e-05 - accuracy: 1.0000 - val_loss: 0.2823 - val_accuracy: 0.9713\n",
            "Epoch 112/120\n",
            "528/528 [==============================] - 59s 111ms/step - loss: 1.5157e-05 - accuracy: 1.0000 - val_loss: 0.2831 - val_accuracy: 0.9713\n",
            "Epoch 113/120\n",
            "528/528 [==============================] - 60s 114ms/step - loss: 1.4735e-05 - accuracy: 1.0000 - val_loss: 0.2839 - val_accuracy: 0.9713\n",
            "Epoch 114/120\n",
            "528/528 [==============================] - 61s 115ms/step - loss: 1.4334e-05 - accuracy: 1.0000 - val_loss: 0.2847 - val_accuracy: 0.9713\n",
            "Epoch 115/120\n",
            "528/528 [==============================] - 60s 113ms/step - loss: 1.3952e-05 - accuracy: 1.0000 - val_loss: 0.2855 - val_accuracy: 0.9713\n",
            "Epoch 116/120\n",
            "528/528 [==============================] - 61s 115ms/step - loss: 1.3589e-05 - accuracy: 1.0000 - val_loss: 0.2863 - val_accuracy: 0.9713\n",
            "Epoch 117/120\n",
            "528/528 [==============================] - 62s 118ms/step - loss: 1.3242e-05 - accuracy: 1.0000 - val_loss: 0.2870 - val_accuracy: 0.9713\n",
            "Epoch 118/120\n",
            "528/528 [==============================] - 63s 119ms/step - loss: 1.2912e-05 - accuracy: 1.0000 - val_loss: 0.2877 - val_accuracy: 0.9713\n",
            "Epoch 119/120\n",
            "528/528 [==============================] - 60s 114ms/step - loss: 1.2595e-05 - accuracy: 1.0000 - val_loss: 0.2885 - val_accuracy: 0.9713\n",
            "Epoch 120/120\n",
            "528/528 [==============================] - 62s 117ms/step - loss: 1.2293e-05 - accuracy: 1.0000 - val_loss: 0.2892 - val_accuracy: 0.9713\n"
          ]
        }
      ],
      "source": [
        "history = model.fit(X_train, y_train, validation_data = (X_val, y_val), epochs = 120, shuffle = False)"
      ]
    },
    {
      "cell_type": "code",
      "execution_count": null,
      "metadata": {
        "id": "ZLvb8wJ9dEte",
        "colab": {
          "base_uri": "https://localhost:8080/"
        },
        "outputId": "56e7d37e-8db4-4a47-c876-270d7999b98e"
      },
      "outputs": [
        {
          "output_type": "stream",
          "name": "stdout",
          "text": [
            "Model Score: \n",
            "\n",
            "66/66 [==============================] - 2s 26ms/step - loss: 0.1780 - accuracy: 0.9810\n",
            "[0.17801691591739655, 0.9810336828231812]\n"
          ]
        }
      ],
      "source": [
        "print(\"Model Score: \\n\")\n",
        "score = model.evaluate(X_test, y_test)\n",
        "print(score)\n",
        "model.save(\"/content/gdrive/MyDrive/Models/GRU-WithAttention.h5\")"
      ]
    },
    {
      "cell_type": "markdown",
      "metadata": {
        "id": "Mdqi43CCdGVd"
      },
      "source": [
        "##METRICS"
      ]
    },
    {
      "cell_type": "code",
      "execution_count": null,
      "metadata": {
        "colab": {
          "base_uri": "https://localhost:8080/"
        },
        "id": "gi0CclWQfDHf",
        "outputId": "1cbbe8d8-6998-456c-cca2-9523c7824f28"
      },
      "outputs": [
        {
          "output_type": "stream",
          "name": "stdout",
          "text": [
            "Looking in indexes: https://pypi.org/simple, https://us-python.pkg.dev/colab-wheels/public/simple/\n",
            "Collecting plot_keras_history\n",
            "  Downloading plot_keras_history-1.1.38.tar.gz (11 kB)\n",
            "  Preparing metadata (setup.py) ... \u001b[?25l\u001b[?25hdone\n",
            "Requirement already satisfied: matplotlib in /usr/local/lib/python3.8/dist-packages (from plot_keras_history) (3.5.3)\n",
            "Requirement already satisfied: pandas in /usr/local/lib/python3.8/dist-packages (from plot_keras_history) (1.3.5)\n",
            "Requirement already satisfied: scipy in /usr/local/lib/python3.8/dist-packages (from plot_keras_history) (1.7.3)\n",
            "Collecting support_developer>=1.0.2\n",
            "  Downloading support_developer-1.0.5.tar.gz (4.9 kB)\n",
            "  Preparing metadata (setup.py) ... \u001b[?25l\u001b[?25hdone\n",
            "Collecting sanitize_ml_labels>=1.0.48\n",
            "  Downloading sanitize_ml_labels-1.0.50.tar.gz (322 kB)\n",
            "\u001b[2K     \u001b[90m━━━━━━━━━━━━━━━━━━━━━━━━━━━━━━━━━━━━━━\u001b[0m \u001b[32m322.1/322.1 KB\u001b[0m \u001b[31m18.4 MB/s\u001b[0m eta \u001b[36m0:00:00\u001b[0m\n",
            "\u001b[?25h  Preparing metadata (setup.py) ... \u001b[?25l\u001b[?25hdone\n",
            "Collecting compress_json\n",
            "  Downloading compress_json-1.0.8.tar.gz (4.7 kB)\n",
            "  Preparing metadata (setup.py) ... \u001b[?25l\u001b[?25hdone\n",
            "Requirement already satisfied: packaging>=20.0 in /usr/local/lib/python3.8/dist-packages (from matplotlib->plot_keras_history) (23.0)\n",
            "Requirement already satisfied: pyparsing>=2.2.1 in /usr/local/lib/python3.8/dist-packages (from matplotlib->plot_keras_history) (3.0.9)\n",
            "Requirement already satisfied: pillow>=6.2.0 in /usr/local/lib/python3.8/dist-packages (from matplotlib->plot_keras_history) (7.1.2)\n",
            "Requirement already satisfied: numpy>=1.17 in /usr/local/lib/python3.8/dist-packages (from matplotlib->plot_keras_history) (1.22.4)\n",
            "Requirement already satisfied: cycler>=0.10 in /usr/local/lib/python3.8/dist-packages (from matplotlib->plot_keras_history) (0.11.0)\n",
            "Requirement already satisfied: kiwisolver>=1.0.1 in /usr/local/lib/python3.8/dist-packages (from matplotlib->plot_keras_history) (1.4.4)\n",
            "Requirement already satisfied: fonttools>=4.22.0 in /usr/local/lib/python3.8/dist-packages (from matplotlib->plot_keras_history) (4.38.0)\n",
            "Requirement already satisfied: python-dateutil>=2.7 in /usr/local/lib/python3.8/dist-packages (from matplotlib->plot_keras_history) (2.8.2)\n",
            "Requirement already satisfied: pytz>=2017.3 in /usr/local/lib/python3.8/dist-packages (from pandas->plot_keras_history) (2022.7.1)\n",
            "Requirement already satisfied: six>=1.5 in /usr/local/lib/python3.8/dist-packages (from python-dateutil>=2.7->matplotlib->plot_keras_history) (1.15.0)\n",
            "Building wheels for collected packages: plot_keras_history, sanitize_ml_labels, support_developer, compress_json\n",
            "  Building wheel for plot_keras_history (setup.py) ... \u001b[?25l\u001b[?25hdone\n",
            "  Created wheel for plot_keras_history: filename=plot_keras_history-1.1.38-py3-none-any.whl size=9472 sha256=d20997716762666a80371afd2a20407ce70b7d5bb555797c723caa92c7e4786e\n",
            "  Stored in directory: /root/.cache/pip/wheels/97/a5/76/35ae3e15da1ce4530de8591b0bcd7716f6d6752a4808f01c04\n",
            "  Building wheel for sanitize_ml_labels (setup.py) ... \u001b[?25l\u001b[?25hdone\n",
            "  Created wheel for sanitize_ml_labels: filename=sanitize_ml_labels-1.0.50-py3-none-any.whl size=320514 sha256=06fcfb583077710669d8a7c6f7754d8db00fed5d1f6cca612559e5ebe567577d\n",
            "  Stored in directory: /root/.cache/pip/wheels/a3/5f/ba/ddd191edb6c749a63cffabd28714d5600b5b58014daf7434a8\n",
            "  Building wheel for support_developer (setup.py) ... \u001b[?25l\u001b[?25hdone\n",
            "  Created wheel for support_developer: filename=support_developer-1.0.5-py3-none-any.whl size=5650 sha256=6bfe0806c46e84999364e1865cb950590fb44cf25985e641cecdd5b3c295e185\n",
            "  Stored in directory: /root/.cache/pip/wheels/11/5e/63/51e84640e77a7dc5f1e5f5eb597e8f1bc730a2818ee5c3fc03\n",
            "  Building wheel for compress_json (setup.py) ... \u001b[?25l\u001b[?25hdone\n",
            "  Created wheel for compress_json: filename=compress_json-1.0.8-py3-none-any.whl size=4733 sha256=64c7fdffdec4f35c005eb3640ef9b616c77e3c7d4d661b2bbcd6ef2017cfbc64\n",
            "  Stored in directory: /root/.cache/pip/wheels/fe/36/4b/69aaa23fc0ea813dc1f8cca3372bff314abed354cac20a1cb9\n",
            "Successfully built plot_keras_history sanitize_ml_labels support_developer compress_json\n",
            "Installing collected packages: support_developer, compress_json, sanitize_ml_labels, plot_keras_history\n",
            "Successfully installed compress_json-1.0.8 plot_keras_history-1.1.38 sanitize_ml_labels-1.0.50 support_developer-1.0.5\n"
          ]
        }
      ],
      "source": [
        "pip install plot_keras_history"
      ]
    },
    {
      "cell_type": "code",
      "execution_count": null,
      "metadata": {
        "colab": {
          "base_uri": "https://localhost:8080/"
        },
        "id": "Gdr6PJXQdHfW",
        "outputId": "900257f7-2eb0-4d62-e114-db8551e8d4c7"
      },
      "outputs": [
        {
          "output_type": "execute_result",
          "data": {
            "text/plain": [
              "(<Figure size 1000x500 with 2 Axes>,\n",
              " array([<AxesSubplot:title={'center':'Loss'}, xlabel='Epochs', ylabel='Loss'>,\n",
              "        <AxesSubplot:title={'center':'Accuracy'}, xlabel='Epochs', ylabel='Accuracy'>],\n",
              "       dtype=object))"
            ]
          },
          "metadata": {},
          "execution_count": 15
        },
        {
          "output_type": "display_data",
          "data": {
            "text/plain": [
              "<Figure size 1000x500 with 2 Axes>"
            ],
            "image/png": "[encoded data removed]"
          },
          "metadata": {
            "needs_background": "light"
          }
        }
      ],
      "source": [
        "from plot_keras_history import show_history, plot_history\n",
        "plot_history(history)"
      ]
    },
    {
      "cell_type": "code",
      "execution_count": null,
      "metadata": {
        "id": "bmMtDYrAdJWV"
      },
      "outputs": [],
      "source": [
        "import matplotlib.pyplot as plt\n",
        "import itertools\n",
        "import numpy as np\n",
        "\n",
        "def plot_confusion_matrix(cm, classes,\n",
        "                        normalize=False,\n",
        "                        title='Confusion matrix',\n",
        "                        cmap=plt.cm.Blues):\n",
        "    \"\"\"\n",
        "    This function prints and plots the confusion matrix.\n",
        "    Normalization can be applied by setting `normalize=True`.\n",
        "    \"\"\"\n",
        "    plt.imshow(cm, interpolation='nearest', cmap=cmap)\n",
        "    plt.title(title)\n",
        "    plt.colorbar()\n",
        "    tick_marks = np.arange(len(classes))\n",
        "    plt.xticks(tick_marks, classes, rotation=45)\n",
        "    plt.yticks(tick_marks, classes)\n",
        "\n",
        "    if normalize:\n",
        "        cm = cm.astype('float') / cm.sum(axis=1)[:, np.newaxis]\n",
        "        print(\"Normalized confusion matrix\")\n",
        "    else:\n",
        "        print('Confusion matrix, without normalization')\n",
        "\n",
        "    print(cm)\n",
        "\n",
        "    thresh = cm.max() / 2.\n",
        "    for i, j in itertools.product(range(cm.shape[0]), range(cm.shape[1])):\n",
        "        plt.text(j, i, cm[i, j],\n",
        "            horizontalalignment=\"center\",\n",
        "            color=\"white\" if cm[i, j] > thresh else \"black\")\n",
        "\n",
        "    plt.tight_layout()\n",
        "    plt.ylabel('True label')\n",
        "    plt.xlabel('Predicted label')\n",
        "    plt.show()"
      ]
    },
    {
      "cell_type": "code",
      "execution_count": null,
      "metadata": {
        "colab": {
          "base_uri": "https://localhost:8080/"
        },
        "id": "ZAKyIIiXdJ7H",
        "outputId": "cdc7290a-9f4b-4617-b99d-d9b6f9964cb7"
      },
      "outputs": [
        {
          "output_type": "stream",
          "name": "stdout",
          "text": [
            "Model Classification Report: \n",
            "\n",
            "66/66 [==============================] - 3s 32ms/step\n",
            "              precision    recall  f1-score   support\n",
            "\n",
            "           0       0.98      0.98      0.98      1049\n",
            "           1       0.98      0.98      0.98      1060\n",
            "\n",
            "    accuracy                           0.98      2109\n",
            "   macro avg       0.98      0.98      0.98      2109\n",
            "weighted avg       0.98      0.98      0.98      2109\n",
            "\n",
            "Confusion matrix, without normalization\n",
            "[[1028   21]\n",
            " [  19 1041]]\n"
          ]
        },
        {
          "output_type": "display_data",
          "data": {
            "text/plain": [
              "<Figure size 432x288 with 2 Axes>"
            ],
            "image/png": "[encoded data removed]"
          },
          "metadata": {
            "needs_background": "light"
          }
        }
      ],
      "source": [
        "print(\"Model Classification Report: \\n\")\n",
        "y_pred = np.argmax(model.predict(X_test), axis=1)\n",
        "cm = confusion_matrix(np.argmax(y_test, axis=1), y_pred)\n",
        "print(classification_report(np.argmax(y_test, axis=1), y_pred))\n",
        "plot_confusion_matrix(cm, classes=[\"Does not have Wake Word\", \"Has Wake Word\"])"
      ]
    }
  ],
  "metadata": {
    "colab": {
      "provenance": []
    },
    "gpuClass": "standard",
    "kernelspec": {
      "display_name": "Python 3 (ipykernel)",
      "language": "python",
      "name": "python3"
    },
    "language_info": {
      "codemirror_mode": {
        "name": "ipython",
        "version": 3
      },
      "file_extension": ".py",
      "mimetype": "text/x-python",
      "name": "python",
      "nbconvert_exporter": "python",
      "pygments_lexer": "ipython3",
      "version": "3.9.12"
    }
  },
  "nbformat": 4,
  "nbformat_minor": 0
}