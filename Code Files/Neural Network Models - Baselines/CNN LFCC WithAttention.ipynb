{
  "cells": [
    {
      "cell_type": "markdown",
      "metadata": {
        "id": "3b025998"
      },
      "source": [
        "## IMPORTING DEPENDENCIES"
      ],
      "id": "3b025998"
    },
    {
      "cell_type": "code",
      "execution_count": null,
      "metadata": {
        "id": "1oOoXuscpZc_",
        "colab": {
          "base_uri": "https://localhost:8080/"
        },
        "outputId": "50d46ee9-1856-41ab-832f-bd4a6e3b6594"
      },
      "outputs": [
        {
          "output_type": "stream",
          "name": "stdout",
          "text": [
            "Drive already mounted at /content/gdrive; to attempt to forcibly remount, call drive.mount(\"/content/gdrive\", force_remount=True).\n"
          ]
        }
      ],
      "source": [
        "from google.colab import drive\n",
        "drive.mount('/content/gdrive')"
      ],
      "id": "1oOoXuscpZc_"
    },
    {
      "cell_type": "code",
      "execution_count": null,
      "metadata": {
        "id": "65ba3a3f"
      },
      "outputs": [],
      "source": [
        "import os\n",
        "import numpy as np\n",
        "import pandas as pd\n",
        "import matplotlib.pyplot as plt\n",
        "import librosa, librosa.display\n",
        "\n",
        "import tensorflow as tf \n",
        "from sklearn.model_selection import train_test_split"
      ],
      "id": "65ba3a3f"
    },
    {
      "cell_type": "code",
      "execution_count": null,
      "metadata": {
        "id": "bc362668"
      },
      "outputs": [],
      "source": [
        "X_train = np.load('/content/gdrive/MyDrive/Colab Notebooks/FYP/DeNoisedAugmentedDataset/X_train.npy')\n",
        "y_train = np.load('/content/gdrive/MyDrive/Colab Notebooks/FYP/DeNoisedAugmentedDataset/y_train.npy')\n",
        "X_test = np.load('/content/gdrive/MyDrive/Colab Notebooks/FYP/DeNoisedAugmentedDataset/X_test.npy')\n",
        "y_test = np.load('/content/gdrive/MyDrive/Colab Notebooks/FYP/DeNoisedAugmentedDataset/y_test.npy')\n",
        "X_val = np.load('/content/gdrive/MyDrive/Colab Notebooks/FYP/DeNoisedAugmentedDataset/X_val.npy')\n",
        "y_val = np.load('/content/gdrive/MyDrive/Colab Notebooks/FYP/DeNoisedAugmentedDataset/y_val.npy')"
      ],
      "id": "bc362668"
    },
    {
      "cell_type": "markdown",
      "metadata": {
        "id": "4e53be66"
      },
      "source": [
        "## NEURAL NETWORK MODEL"
      ],
      "id": "4e53be66"
    },
    {
      "cell_type": "code",
      "execution_count": null,
      "metadata": {
        "id": "75d43bca"
      },
      "outputs": [],
      "source": [
        "from sklearn.model_selection import train_test_split\n",
        "from tensorflow.keras.utils import to_categorical\n",
        "from tensorflow.keras import Sequential\n",
        "from tensorflow.keras.layers import Dense, Activation, Dropout, Conv1D, MaxPooling1D, Flatten, Input\n",
        "from keras.layers import Reshape, Softmax, Permute, Multiply, dot, concatenate\n",
        "from keras.layers import BatchNormalization\n",
        "from keras.models import Model\n",
        "from sklearn.metrics import confusion_matrix, classification_report"
      ],
      "id": "75d43bca"
    },
    {
      "cell_type": "code",
      "execution_count": null,
      "metadata": {
        "colab": {
          "base_uri": "https://localhost:8080/"
        },
        "id": "a67a393c",
        "outputId": "1b99e5da-e0bf-44d4-9301-e4dcdf574c7a"
      },
      "outputs": [
        {
          "output_type": "stream",
          "name": "stdout",
          "text": [
            "(98,) (16893, 2)\n",
            "(2109, 98) (2109, 2)\n",
            "(2088, 98) (2088, 2)\n"
          ]
        }
      ],
      "source": [
        "print(X_train[0].shape, y_train.shape)\n",
        "print(X_test.shape, y_test.shape)\n",
        "print(X_val.shape, y_val.shape)"
      ],
      "id": "a67a393c"
    },
    {
      "cell_type": "code",
      "execution_count": null,
      "metadata": {
        "colab": {
          "base_uri": "https://localhost:8080/"
        },
        "id": "2f90acc9",
        "outputId": "3d5a9b10-4136-4ce4-a7e7-42565857097d"
      },
      "outputs": [
        {
          "output_type": "stream",
          "name": "stdout",
          "text": [
            "Epoch 1/120\n",
            "528/528 [==============================] - 14s 6ms/step - loss: 0.5586 - accuracy: 0.7011 - val_loss: 0.5397 - val_accuracy: 0.7122\n",
            "Epoch 2/120\n",
            "528/528 [==============================] - 3s 7ms/step - loss: 0.5048 - accuracy: 0.7459 - val_loss: 0.4983 - val_accuracy: 0.7639\n",
            "Epoch 3/120\n",
            "528/528 [==============================] - 3s 6ms/step - loss: 0.4609 - accuracy: 0.7798 - val_loss: 0.4972 - val_accuracy: 0.7596\n",
            "Epoch 4/120\n",
            "528/528 [==============================] - 3s 5ms/step - loss: 0.4132 - accuracy: 0.8152 - val_loss: 0.4115 - val_accuracy: 0.8132\n",
            "Epoch 5/120\n",
            "528/528 [==============================] - 3s 5ms/step - loss: 0.3634 - accuracy: 0.8428 - val_loss: 0.4192 - val_accuracy: 0.8108\n",
            "Epoch 6/120\n",
            "528/528 [==============================] - 3s 5ms/step - loss: 0.3294 - accuracy: 0.8567 - val_loss: 0.3530 - val_accuracy: 0.8534\n",
            "Epoch 7/120\n",
            "528/528 [==============================] - 4s 7ms/step - loss: 0.2909 - accuracy: 0.8775 - val_loss: 0.3398 - val_accuracy: 0.8578\n",
            "Epoch 8/120\n",
            "528/528 [==============================] - 3s 5ms/step - loss: 0.2688 - accuracy: 0.8860 - val_loss: 0.3153 - val_accuracy: 0.8716\n",
            "Epoch 9/120\n",
            "528/528 [==============================] - 3s 6ms/step - loss: 0.2465 - accuracy: 0.8954 - val_loss: 0.2895 - val_accuracy: 0.8870\n",
            "Epoch 10/120\n",
            "528/528 [==============================] - 3s 6ms/step - loss: 0.2281 - accuracy: 0.9049 - val_loss: 0.3208 - val_accuracy: 0.8774\n",
            "Epoch 11/120\n",
            "528/528 [==============================] - 3s 7ms/step - loss: 0.2120 - accuracy: 0.9139 - val_loss: 0.2702 - val_accuracy: 0.8951\n",
            "Epoch 12/120\n",
            "528/528 [==============================] - 3s 6ms/step - loss: 0.1980 - accuracy: 0.9192 - val_loss: 0.3091 - val_accuracy: 0.8726\n",
            "Epoch 13/120\n",
            "528/528 [==============================] - 3s 5ms/step - loss: 0.1835 - accuracy: 0.9242 - val_loss: 0.2706 - val_accuracy: 0.8918\n",
            "Epoch 14/120\n",
            "528/528 [==============================] - 3s 5ms/step - loss: 0.1731 - accuracy: 0.9287 - val_loss: 0.2633 - val_accuracy: 0.8961\n",
            "Epoch 15/120\n",
            "528/528 [==============================] - 3s 6ms/step - loss: 0.1605 - accuracy: 0.9355 - val_loss: 0.2560 - val_accuracy: 0.9090\n",
            "Epoch 16/120\n",
            "528/528 [==============================] - 3s 6ms/step - loss: 0.1493 - accuracy: 0.9393 - val_loss: 0.2676 - val_accuracy: 0.9042\n",
            "Epoch 17/120\n",
            "528/528 [==============================] - 3s 5ms/step - loss: 0.1416 - accuracy: 0.9418 - val_loss: 0.2403 - val_accuracy: 0.9114\n",
            "Epoch 18/120\n",
            "528/528 [==============================] - 3s 5ms/step - loss: 0.1301 - accuracy: 0.9478 - val_loss: 0.2411 - val_accuracy: 0.9171\n",
            "Epoch 19/120\n",
            "528/528 [==============================] - 3s 5ms/step - loss: 0.1252 - accuracy: 0.9490 - val_loss: 0.2559 - val_accuracy: 0.9100\n",
            "Epoch 20/120\n",
            "528/528 [==============================] - 4s 7ms/step - loss: 0.1179 - accuracy: 0.9531 - val_loss: 0.2395 - val_accuracy: 0.9186\n",
            "Epoch 21/120\n",
            "528/528 [==============================] - 3s 6ms/step - loss: 0.1035 - accuracy: 0.9607 - val_loss: 0.2497 - val_accuracy: 0.9148\n",
            "Epoch 22/120\n",
            "528/528 [==============================] - 3s 5ms/step - loss: 0.1056 - accuracy: 0.9589 - val_loss: 0.2517 - val_accuracy: 0.9205\n",
            "Epoch 23/120\n",
            "528/528 [==============================] - 3s 5ms/step - loss: 0.0934 - accuracy: 0.9630 - val_loss: 0.2598 - val_accuracy: 0.9157\n",
            "Epoch 24/120\n",
            "528/528 [==============================] - 3s 6ms/step - loss: 0.0872 - accuracy: 0.9669 - val_loss: 0.2451 - val_accuracy: 0.9330\n",
            "Epoch 25/120\n",
            "528/528 [==============================] - 3s 6ms/step - loss: 0.0825 - accuracy: 0.9666 - val_loss: 0.2774 - val_accuracy: 0.9243\n",
            "Epoch 26/120\n",
            "528/528 [==============================] - 4s 7ms/step - loss: 0.0791 - accuracy: 0.9690 - val_loss: 0.2823 - val_accuracy: 0.9272\n",
            "Epoch 27/120\n",
            "528/528 [==============================] - 3s 6ms/step - loss: 0.0700 - accuracy: 0.9711 - val_loss: 0.2914 - val_accuracy: 0.9229\n",
            "Epoch 28/120\n",
            "528/528 [==============================] - 3s 6ms/step - loss: 0.0699 - accuracy: 0.9738 - val_loss: 0.3208 - val_accuracy: 0.9176\n",
            "Epoch 29/120\n",
            "528/528 [==============================] - 4s 7ms/step - loss: 0.0600 - accuracy: 0.9780 - val_loss: 0.3054 - val_accuracy: 0.9267\n",
            "Epoch 30/120\n",
            "528/528 [==============================] - 3s 5ms/step - loss: 0.0593 - accuracy: 0.9776 - val_loss: 0.3151 - val_accuracy: 0.9286\n",
            "Epoch 31/120\n",
            "528/528 [==============================] - 3s 5ms/step - loss: 0.0577 - accuracy: 0.9796 - val_loss: 0.3053 - val_accuracy: 0.9277\n",
            "Epoch 32/120\n",
            "528/528 [==============================] - 3s 5ms/step - loss: 0.0528 - accuracy: 0.9803 - val_loss: 0.3171 - val_accuracy: 0.9339\n",
            "Epoch 33/120\n",
            "528/528 [==============================] - 3s 6ms/step - loss: 0.0535 - accuracy: 0.9801 - val_loss: 0.3085 - val_accuracy: 0.9315\n",
            "Epoch 34/120\n",
            "528/528 [==============================] - 3s 6ms/step - loss: 0.0454 - accuracy: 0.9832 - val_loss: 0.3490 - val_accuracy: 0.9320\n",
            "Epoch 35/120\n",
            "528/528 [==============================] - 3s 5ms/step - loss: 0.0398 - accuracy: 0.9859 - val_loss: 0.3919 - val_accuracy: 0.9262\n",
            "Epoch 36/120\n",
            "528/528 [==============================] - 3s 5ms/step - loss: 0.0552 - accuracy: 0.9799 - val_loss: 0.3585 - val_accuracy: 0.9224\n",
            "Epoch 37/120\n",
            "528/528 [==============================] - 3s 6ms/step - loss: 0.0473 - accuracy: 0.9823 - val_loss: 0.3220 - val_accuracy: 0.9301\n",
            "Epoch 38/120\n",
            "528/528 [==============================] - 4s 7ms/step - loss: 0.0305 - accuracy: 0.9896 - val_loss: 0.3607 - val_accuracy: 0.9296\n",
            "Epoch 39/120\n",
            "528/528 [==============================] - 3s 6ms/step - loss: 0.0394 - accuracy: 0.9861 - val_loss: 0.3552 - val_accuracy: 0.9296\n",
            "Epoch 40/120\n",
            "528/528 [==============================] - 3s 6ms/step - loss: 0.0260 - accuracy: 0.9904 - val_loss: 0.3804 - val_accuracy: 0.9306\n",
            "Epoch 41/120\n",
            "528/528 [==============================] - 3s 5ms/step - loss: 0.0289 - accuracy: 0.9899 - val_loss: 0.3715 - val_accuracy: 0.9315\n",
            "Epoch 42/120\n",
            "528/528 [==============================] - 4s 7ms/step - loss: 0.0717 - accuracy: 0.9744 - val_loss: 0.3617 - val_accuracy: 0.9291\n",
            "Epoch 43/120\n",
            "528/528 [==============================] - 3s 6ms/step - loss: 0.0326 - accuracy: 0.9888 - val_loss: 0.3960 - val_accuracy: 0.9315\n",
            "Epoch 44/120\n",
            "528/528 [==============================] - 3s 5ms/step - loss: 0.0200 - accuracy: 0.9930 - val_loss: 0.3828 - val_accuracy: 0.9330\n",
            "Epoch 45/120\n",
            "528/528 [==============================] - 3s 5ms/step - loss: 0.0110 - accuracy: 0.9965 - val_loss: 0.4064 - val_accuracy: 0.9353\n",
            "Epoch 46/120\n",
            "528/528 [==============================] - 3s 6ms/step - loss: 0.0145 - accuracy: 0.9947 - val_loss: 0.4232 - val_accuracy: 0.9358\n",
            "Epoch 47/120\n",
            "528/528 [==============================] - 3s 6ms/step - loss: 0.0096 - accuracy: 0.9970 - val_loss: 0.4589 - val_accuracy: 0.9320\n",
            "Epoch 48/120\n",
            "528/528 [==============================] - 3s 5ms/step - loss: 0.0089 - accuracy: 0.9969 - val_loss: 0.4785 - val_accuracy: 0.9334\n",
            "Epoch 49/120\n",
            "528/528 [==============================] - 3s 6ms/step - loss: 0.0101 - accuracy: 0.9963 - val_loss: 0.4596 - val_accuracy: 0.9325\n",
            "Epoch 50/120\n",
            "528/528 [==============================] - 3s 6ms/step - loss: 0.0199 - accuracy: 0.9922 - val_loss: 0.4889 - val_accuracy: 0.9272\n",
            "Epoch 51/120\n",
            "528/528 [==============================] - 3s 6ms/step - loss: 0.0600 - accuracy: 0.9783 - val_loss: 0.4315 - val_accuracy: 0.9325\n",
            "Epoch 52/120\n",
            "528/528 [==============================] - 3s 5ms/step - loss: 0.0212 - accuracy: 0.9926 - val_loss: 0.4283 - val_accuracy: 0.9301\n",
            "Epoch 53/120\n",
            "528/528 [==============================] - 3s 5ms/step - loss: 0.0200 - accuracy: 0.9917 - val_loss: 0.4439 - val_accuracy: 0.9258\n",
            "Epoch 54/120\n",
            "528/528 [==============================] - 3s 5ms/step - loss: 0.0194 - accuracy: 0.9930 - val_loss: 0.5056 - val_accuracy: 0.9253\n",
            "Epoch 55/120\n",
            "528/528 [==============================] - 4s 7ms/step - loss: 0.0380 - accuracy: 0.9867 - val_loss: 0.4420 - val_accuracy: 0.9258\n",
            "Epoch 56/120\n",
            "528/528 [==============================] - 3s 5ms/step - loss: 0.0159 - accuracy: 0.9944 - val_loss: 0.4485 - val_accuracy: 0.9320\n",
            "Epoch 57/120\n",
            "528/528 [==============================] - 3s 5ms/step - loss: 0.0177 - accuracy: 0.9932 - val_loss: 0.4414 - val_accuracy: 0.9310\n",
            "Epoch 58/120\n",
            "528/528 [==============================] - 3s 6ms/step - loss: 0.0050 - accuracy: 0.9983 - val_loss: 0.4857 - val_accuracy: 0.9349\n",
            "Epoch 59/120\n",
            "528/528 [==============================] - 3s 6ms/step - loss: 0.0026 - accuracy: 0.9990 - val_loss: 0.5035 - val_accuracy: 0.9382\n",
            "Epoch 60/120\n",
            "528/528 [==============================] - 3s 6ms/step - loss: 0.0037 - accuracy: 0.9986 - val_loss: 0.5107 - val_accuracy: 0.9330\n",
            "Epoch 61/120\n",
            "528/528 [==============================] - 3s 5ms/step - loss: 0.0026 - accuracy: 0.9991 - val_loss: 0.5181 - val_accuracy: 0.9339\n",
            "Epoch 62/120\n",
            "528/528 [==============================] - 3s 5ms/step - loss: 0.0019 - accuracy: 0.9993 - val_loss: 0.5294 - val_accuracy: 0.9353\n",
            "Epoch 63/120\n",
            "528/528 [==============================] - 3s 5ms/step - loss: 0.0020 - accuracy: 0.9993 - val_loss: 0.5465 - val_accuracy: 0.9363\n",
            "Epoch 64/120\n",
            "528/528 [==============================] - 4s 7ms/step - loss: 0.0017 - accuracy: 0.9995 - val_loss: 0.5520 - val_accuracy: 0.9368\n",
            "Epoch 65/120\n",
            "528/528 [==============================] - 3s 5ms/step - loss: 0.0016 - accuracy: 0.9995 - val_loss: 0.5590 - val_accuracy: 0.9353\n",
            "Epoch 66/120\n",
            "528/528 [==============================] - 3s 5ms/step - loss: 0.0015 - accuracy: 0.9994 - val_loss: 0.5591 - val_accuracy: 0.9368\n",
            "Epoch 67/120\n",
            "528/528 [==============================] - 3s 5ms/step - loss: 0.0013 - accuracy: 0.9996 - val_loss: 0.5656 - val_accuracy: 0.9368\n",
            "Epoch 68/120\n",
            "528/528 [==============================] - 3s 6ms/step - loss: 0.0015 - accuracy: 0.9996 - val_loss: 0.5779 - val_accuracy: 0.9363\n",
            "Epoch 69/120\n",
            "528/528 [==============================] - 3s 6ms/step - loss: 0.0014 - accuracy: 0.9995 - val_loss: 0.5803 - val_accuracy: 0.9382\n",
            "Epoch 70/120\n",
            "528/528 [==============================] - 3s 5ms/step - loss: 0.0010 - accuracy: 0.9998 - val_loss: 0.5893 - val_accuracy: 0.9358\n",
            "Epoch 71/120\n",
            "528/528 [==============================] - 3s 5ms/step - loss: 0.0014 - accuracy: 0.9995 - val_loss: 0.5910 - val_accuracy: 0.9363\n",
            "Epoch 72/120\n",
            "528/528 [==============================] - 3s 5ms/step - loss: 0.0011 - accuracy: 0.9996 - val_loss: 0.5941 - val_accuracy: 0.9353\n",
            "Epoch 73/120\n",
            "528/528 [==============================] - 4s 7ms/step - loss: 0.0012 - accuracy: 0.9995 - val_loss: 0.6026 - val_accuracy: 0.9368\n",
            "Epoch 74/120\n",
            "528/528 [==============================] - 3s 5ms/step - loss: 0.0010 - accuracy: 0.9996 - val_loss: 0.6051 - val_accuracy: 0.9377\n",
            "Epoch 75/120\n",
            "528/528 [==============================] - 3s 5ms/step - loss: 0.0011 - accuracy: 0.9995 - val_loss: 0.6062 - val_accuracy: 0.9363\n",
            "Epoch 76/120\n",
            "528/528 [==============================] - 3s 5ms/step - loss: 0.0011 - accuracy: 0.9995 - val_loss: 0.6117 - val_accuracy: 0.9368\n",
            "Epoch 77/120\n",
            "528/528 [==============================] - 3s 6ms/step - loss: 0.0014 - accuracy: 0.9996 - val_loss: 0.7005 - val_accuracy: 0.9215\n",
            "Epoch 78/120\n",
            "528/528 [==============================] - 3s 6ms/step - loss: 0.0961 - accuracy: 0.9735 - val_loss: 0.3918 - val_accuracy: 0.9239\n",
            "Epoch 79/120\n",
            "528/528 [==============================] - 3s 6ms/step - loss: 0.0223 - accuracy: 0.9919 - val_loss: 0.3822 - val_accuracy: 0.9397\n",
            "Epoch 80/120\n",
            "528/528 [==============================] - 3s 6ms/step - loss: 0.0049 - accuracy: 0.9989 - val_loss: 0.4169 - val_accuracy: 0.9387\n",
            "Epoch 81/120\n",
            "528/528 [==============================] - 3s 6ms/step - loss: 0.0027 - accuracy: 0.9996 - val_loss: 0.4375 - val_accuracy: 0.9363\n",
            "Epoch 82/120\n",
            "528/528 [==============================] - 4s 7ms/step - loss: 0.0020 - accuracy: 0.9995 - val_loss: 0.4613 - val_accuracy: 0.9368\n",
            "Epoch 83/120\n",
            "528/528 [==============================] - 3s 5ms/step - loss: 0.0015 - accuracy: 0.9999 - val_loss: 0.4726 - val_accuracy: 0.9373\n",
            "Epoch 84/120\n",
            "528/528 [==============================] - 3s 6ms/step - loss: 0.0014 - accuracy: 0.9998 - val_loss: 0.4836 - val_accuracy: 0.9358\n",
            "Epoch 85/120\n",
            "528/528 [==============================] - 3s 5ms/step - loss: 0.0012 - accuracy: 0.9998 - val_loss: 0.4978 - val_accuracy: 0.9363\n",
            "Epoch 86/120\n",
            "528/528 [==============================] - 4s 7ms/step - loss: 0.0010 - accuracy: 0.9999 - val_loss: 0.5075 - val_accuracy: 0.9363\n",
            "Epoch 87/120\n",
            "528/528 [==============================] - 3s 6ms/step - loss: 0.0011 - accuracy: 0.9997 - val_loss: 0.5153 - val_accuracy: 0.9358\n",
            "Epoch 88/120\n",
            "528/528 [==============================] - 3s 5ms/step - loss: 8.7208e-04 - accuracy: 0.9998 - val_loss: 0.5251 - val_accuracy: 0.9325\n",
            "Epoch 89/120\n",
            "528/528 [==============================] - 3s 5ms/step - loss: 8.4492e-04 - accuracy: 0.9998 - val_loss: 0.5313 - val_accuracy: 0.9353\n",
            "Epoch 90/120\n",
            "528/528 [==============================] - 3s 6ms/step - loss: 8.9659e-04 - accuracy: 0.9997 - val_loss: 0.5382 - val_accuracy: 0.9344\n",
            "Epoch 91/120\n",
            "528/528 [==============================] - 3s 6ms/step - loss: 7.7483e-04 - accuracy: 0.9999 - val_loss: 0.5454 - val_accuracy: 0.9349\n",
            "Epoch 92/120\n",
            "528/528 [==============================] - 3s 5ms/step - loss: 7.9333e-04 - accuracy: 0.9998 - val_loss: 0.5522 - val_accuracy: 0.9330\n",
            "Epoch 93/120\n",
            "528/528 [==============================] - 3s 5ms/step - loss: 7.5390e-04 - accuracy: 0.9998 - val_loss: 0.5510 - val_accuracy: 0.9349\n",
            "Epoch 94/120\n",
            "528/528 [==============================] - 3s 5ms/step - loss: 6.6940e-04 - accuracy: 0.9998 - val_loss: 0.5592 - val_accuracy: 0.9353\n",
            "Epoch 95/120\n",
            "528/528 [==============================] - 4s 7ms/step - loss: 6.9310e-04 - accuracy: 0.9998 - val_loss: 0.5656 - val_accuracy: 0.9349\n",
            "Epoch 96/120\n",
            "528/528 [==============================] - 3s 5ms/step - loss: 6.4315e-04 - accuracy: 0.9998 - val_loss: 0.5671 - val_accuracy: 0.9358\n",
            "Epoch 97/120\n",
            "528/528 [==============================] - 3s 5ms/step - loss: 5.1810e-04 - accuracy: 0.9999 - val_loss: 0.5733 - val_accuracy: 0.9339\n",
            "Epoch 98/120\n",
            "528/528 [==============================] - 3s 5ms/step - loss: 6.3856e-04 - accuracy: 0.9998 - val_loss: 0.5760 - val_accuracy: 0.9344\n",
            "Epoch 99/120\n",
            "528/528 [==============================] - 3s 6ms/step - loss: 5.9707e-04 - accuracy: 0.9998 - val_loss: 0.5789 - val_accuracy: 0.9344\n",
            "Epoch 100/120\n",
            "528/528 [==============================] - 3s 6ms/step - loss: 4.7607e-04 - accuracy: 0.9998 - val_loss: 0.5814 - val_accuracy: 0.9325\n",
            "Epoch 101/120\n",
            "528/528 [==============================] - 3s 5ms/step - loss: 4.6515e-04 - accuracy: 0.9998 - val_loss: 0.5886 - val_accuracy: 0.9344\n",
            "Epoch 102/120\n",
            "528/528 [==============================] - 3s 5ms/step - loss: 4.9843e-04 - accuracy: 0.9998 - val_loss: 0.5936 - val_accuracy: 0.9353\n",
            "Epoch 103/120\n",
            "528/528 [==============================] - 3s 5ms/step - loss: 4.4498e-04 - accuracy: 0.9999 - val_loss: 0.5972 - val_accuracy: 0.9339\n",
            "Epoch 104/120\n",
            "528/528 [==============================] - 4s 7ms/step - loss: 4.7680e-04 - accuracy: 0.9998 - val_loss: 0.6047 - val_accuracy: 0.9353\n",
            "Epoch 105/120\n",
            "528/528 [==============================] - 3s 5ms/step - loss: 3.8436e-04 - accuracy: 0.9999 - val_loss: 0.6044 - val_accuracy: 0.9344\n",
            "Epoch 106/120\n",
            "528/528 [==============================] - 3s 5ms/step - loss: 4.3643e-04 - accuracy: 0.9998 - val_loss: 0.6076 - val_accuracy: 0.9344\n",
            "Epoch 107/120\n",
            "528/528 [==============================] - 3s 5ms/step - loss: 3.3282e-04 - accuracy: 0.9999 - val_loss: 0.6097 - val_accuracy: 0.9339\n",
            "Epoch 108/120\n",
            "528/528 [==============================] - 4s 7ms/step - loss: 5.1279e-04 - accuracy: 0.9997 - val_loss: 0.6133 - val_accuracy: 0.9325\n",
            "Epoch 109/120\n",
            "528/528 [==============================] - 3s 6ms/step - loss: 4.4972e-04 - accuracy: 0.9998 - val_loss: 0.6167 - val_accuracy: 0.9325\n",
            "Epoch 110/120\n",
            "528/528 [==============================] - 3s 5ms/step - loss: 4.1709e-04 - accuracy: 0.9998 - val_loss: 0.6191 - val_accuracy: 0.9330\n",
            "Epoch 111/120\n",
            "528/528 [==============================] - 3s 6ms/step - loss: 3.9158e-04 - accuracy: 0.9998 - val_loss: 0.6209 - val_accuracy: 0.9349\n",
            "Epoch 112/120\n",
            "528/528 [==============================] - 3s 6ms/step - loss: 3.1341e-04 - accuracy: 0.9999 - val_loss: 0.6241 - val_accuracy: 0.9349\n",
            "Epoch 113/120\n",
            "528/528 [==============================] - 4s 7ms/step - loss: 3.4754e-04 - accuracy: 0.9998 - val_loss: 0.6263 - val_accuracy: 0.9344\n",
            "Epoch 114/120\n",
            "528/528 [==============================] - 3s 5ms/step - loss: 2.7547e-04 - accuracy: 0.9999 - val_loss: 0.6296 - val_accuracy: 0.9344\n",
            "Epoch 115/120\n",
            "528/528 [==============================] - 3s 5ms/step - loss: 2.7892e-04 - accuracy: 0.9999 - val_loss: 0.6324 - val_accuracy: 0.9339\n",
            "Epoch 116/120\n",
            "528/528 [==============================] - 3s 5ms/step - loss: 3.1459e-04 - accuracy: 0.9999 - val_loss: 0.6323 - val_accuracy: 0.9320\n",
            "Epoch 117/120\n",
            "528/528 [==============================] - 4s 7ms/step - loss: 4.3326e-04 - accuracy: 0.9998 - val_loss: 0.6340 - val_accuracy: 0.9344\n",
            "Epoch 118/120\n",
            "528/528 [==============================] - 3s 6ms/step - loss: 3.2939e-04 - accuracy: 0.9999 - val_loss: 0.6366 - val_accuracy: 0.9349\n",
            "Epoch 119/120\n",
            "528/528 [==============================] - 3s 6ms/step - loss: 2.0982e-04 - accuracy: 0.9999 - val_loss: 0.6399 - val_accuracy: 0.9349\n",
            "Epoch 120/120\n",
            "528/528 [==============================] - 3s 5ms/step - loss: 2.8913e-04 - accuracy: 0.9999 - val_loss: 0.6424 - val_accuracy: 0.9349\n"
          ]
        }
      ],
      "source": [
        "from tensorflow.keras import optimizers\n",
        "inputs = Input(shape=(98,1))\n",
        "conv1 = Conv1D(32, 5, activation='relu')(inputs)\n",
        "pool1 = MaxPooling1D(2)(conv1)\n",
        "conv2 = Conv1D(64, 5, activation='relu')(pool1)\n",
        "pool2 = MaxPooling1D(2)(conv2)\n",
        "flat = Flatten()(pool2)\n",
        "dense1 = Dense(32, activation='relu')(flat)\n",
        "\n",
        "q = Dense(128)(dense1)\n",
        "k = Dense(128)(dense1)\n",
        "v = Dense(128)(dense1)\n",
        "\n",
        "q = Reshape((1, 128))(q)\n",
        "k = Reshape((1, 128))(k)\n",
        "v = Reshape((1, 128))(v)\n",
        "\n",
        "attention = dot([q, k], axes=[2, 2])\n",
        "attention = Activation('softmax')(attention)\n",
        "\n",
        "output = dot([attention, v], axes=[2, 1])\n",
        "output = Reshape((128,))(output)\n",
        "\n",
        "output = Dense(2, activation='softmax')(output)\n",
        "\n",
        "model = Model(inputs=inputs, outputs=output)\n",
        "\n",
        "model.compile(\n",
        "    loss=\"categorical_crossentropy\",\n",
        "    optimizer=optimizers.Adam(amsgrad=True),\n",
        "    metrics=['accuracy']\n",
        ")\n",
        "\n",
        "history = model.fit(X_train, y_train, validation_data= (X_val, y_val), epochs=120)\n",
        "model.save(\"/content/gdrive/MyDrive/Colab Notebooks/FYP/CNNModel-MultiHead-Model_Augmented-LFCC-Wavelet.h5\")"
      ],
      "id": "2f90acc9"
    },
    {
      "cell_type": "code",
      "execution_count": null,
      "metadata": {
        "colab": {
          "base_uri": "https://localhost:8080/"
        },
        "id": "fe449580",
        "outputId": "5313fce1-2950-4423-e0f4-ca4fa774aab9"
      },
      "outputs": [
        {
          "output_type": "stream",
          "name": "stdout",
          "text": [
            "Model Score: \n",
            "\n",
            "66/66 [==============================] - 0s 3ms/step - loss: 0.6983 - accuracy: 0.9346\n",
            "[0.6983109712600708, 0.9345661401748657]\n"
          ]
        }
      ],
      "source": [
        "print(\"Model Score: \\n\")\n",
        "score = model.evaluate(X_test, y_test)\n",
        "print(score)"
      ],
      "id": "fe449580"
    },
    {
      "cell_type": "code",
      "execution_count": null,
      "metadata": {
        "colab": {
          "base_uri": "https://localhost:8080/"
        },
        "id": "vZog8W9JoxKQ",
        "outputId": "4a9dde94-577b-402d-83ab-d485ddb01d72"
      },
      "outputs": [
        {
          "output_type": "stream",
          "name": "stdout",
          "text": [
            "Looking in indexes: https://pypi.org/simple, https://us-python.pkg.dev/colab-wheels/public/simple/\n",
            "Collecting plot_keras_history\n",
            "  Downloading plot_keras_history-1.1.38.tar.gz (11 kB)\n",
            "  Preparing metadata (setup.py) ... \u001b[?25l\u001b[?25hdone\n",
            "Requirement already satisfied: matplotlib in /usr/local/lib/python3.8/dist-packages (from plot_keras_history) (3.5.3)\n",
            "Requirement already satisfied: pandas in /usr/local/lib/python3.8/dist-packages (from plot_keras_history) (1.3.5)\n",
            "Requirement already satisfied: scipy in /usr/local/lib/python3.8/dist-packages (from plot_keras_history) (1.7.3)\n",
            "Collecting support_developer>=1.0.2\n",
            "  Downloading support_developer-1.0.5.tar.gz (4.9 kB)\n",
            "  Preparing metadata (setup.py) ... \u001b[?25l\u001b[?25hdone\n",
            "Collecting sanitize_ml_labels>=1.0.48\n",
            "  Downloading sanitize_ml_labels-1.0.50.tar.gz (322 kB)\n",
            "\u001b[2K     \u001b[90m━━━━━━━━━━━━━━━━━━━━━━━━━━━━━━━━━━━━━━\u001b[0m \u001b[32m322.1/322.1 KB\u001b[0m \u001b[31m21.2 MB/s\u001b[0m eta \u001b[36m0:00:00\u001b[0m\n",
            "\u001b[?25h  Preparing metadata (setup.py) ... \u001b[?25l\u001b[?25hdone\n",
            "Collecting compress_json\n",
            "  Downloading compress_json-1.0.8.tar.gz (4.7 kB)\n",
            "  Preparing metadata (setup.py) ... \u001b[?25l\u001b[?25hdone\n",
            "Requirement already satisfied: numpy>=1.17 in /usr/local/lib/python3.8/dist-packages (from matplotlib->plot_keras_history) (1.22.4)\n",
            "Requirement already satisfied: cycler>=0.10 in /usr/local/lib/python3.8/dist-packages (from matplotlib->plot_keras_history) (0.11.0)\n",
            "Requirement already satisfied: python-dateutil>=2.7 in /usr/local/lib/python3.8/dist-packages (from matplotlib->plot_keras_history) (2.8.2)\n",
            "Requirement already satisfied: kiwisolver>=1.0.1 in /usr/local/lib/python3.8/dist-packages (from matplotlib->plot_keras_history) (1.4.4)\n",
            "Requirement already satisfied: packaging>=20.0 in /usr/local/lib/python3.8/dist-packages (from matplotlib->plot_keras_history) (23.0)\n",
            "Requirement already satisfied: pyparsing>=2.2.1 in /usr/local/lib/python3.8/dist-packages (from matplotlib->plot_keras_history) (3.0.9)\n",
            "Requirement already satisfied: fonttools>=4.22.0 in /usr/local/lib/python3.8/dist-packages (from matplotlib->plot_keras_history) (4.38.0)\n",
            "Requirement already satisfied: pillow>=6.2.0 in /usr/local/lib/python3.8/dist-packages (from matplotlib->plot_keras_history) (7.1.2)\n",
            "Requirement already satisfied: pytz>=2017.3 in /usr/local/lib/python3.8/dist-packages (from pandas->plot_keras_history) (2022.7.1)\n",
            "Requirement already satisfied: six>=1.5 in /usr/local/lib/python3.8/dist-packages (from python-dateutil>=2.7->matplotlib->plot_keras_history) (1.15.0)\n",
            "Building wheels for collected packages: plot_keras_history, sanitize_ml_labels, support_developer, compress_json\n",
            "  Building wheel for plot_keras_history (setup.py) ... \u001b[?25l\u001b[?25hdone\n",
            "  Created wheel for plot_keras_history: filename=plot_keras_history-1.1.38-py3-none-any.whl size=9472 sha256=219707a348572a50a6acadf41d98610942a472954954b67d495009f32eb79759\n",
            "  Stored in directory: /root/.cache/pip/wheels/97/a5/76/35ae3e15da1ce4530de8591b0bcd7716f6d6752a4808f01c04\n",
            "  Building wheel for sanitize_ml_labels (setup.py) ... \u001b[?25l\u001b[?25hdone\n",
            "  Created wheel for sanitize_ml_labels: filename=sanitize_ml_labels-1.0.50-py3-none-any.whl size=320514 sha256=56f8ddb2635943c9ec99f331a463941af5c8d101481ba2d80b7982c6d771f214\n",
            "  Stored in directory: /root/.cache/pip/wheels/a3/5f/ba/ddd191edb6c749a63cffabd28714d5600b5b58014daf7434a8\n",
            "  Building wheel for support_developer (setup.py) ... \u001b[?25l\u001b[?25hdone\n",
            "  Created wheel for support_developer: filename=support_developer-1.0.5-py3-none-any.whl size=5650 sha256=ecb9638ce659a7bc6077bac41bd11364b8f1ba4ca9b761c86a0147cc9b6b8715\n",
            "  Stored in directory: /root/.cache/pip/wheels/11/5e/63/51e84640e77a7dc5f1e5f5eb597e8f1bc730a2818ee5c3fc03\n",
            "  Building wheel for compress_json (setup.py) ... \u001b[?25l\u001b[?25hdone\n",
            "  Created wheel for compress_json: filename=compress_json-1.0.8-py3-none-any.whl size=4733 sha256=d1d21f3abeaed8e5e8a5714cedb35879447189959e9d94d811a2938b93497e2b\n",
            "  Stored in directory: /root/.cache/pip/wheels/fe/36/4b/69aaa23fc0ea813dc1f8cca3372bff314abed354cac20a1cb9\n",
            "Successfully built plot_keras_history sanitize_ml_labels support_developer compress_json\n",
            "Installing collected packages: support_developer, compress_json, sanitize_ml_labels, plot_keras_history\n",
            "Successfully installed compress_json-1.0.8 plot_keras_history-1.1.38 sanitize_ml_labels-1.0.50 support_developer-1.0.5\n"
          ]
        }
      ],
      "source": [
        "pip install plot_keras_history"
      ],
      "id": "vZog8W9JoxKQ"
    },
    {
      "cell_type": "code",
      "execution_count": null,
      "metadata": {
        "colab": {
          "base_uri": "https://localhost:8080/",
          "height": 601
        },
        "id": "00086db5",
        "outputId": "7ed89b26-fbc9-4cf3-ef14-6176c6db2929"
      },
      "outputs": [
        {
          "output_type": "execute_result",
          "data": {
            "text/plain": [
              "(<Figure size 1000x500 with 2 Axes>,\n",
              " array([<AxesSubplot:title={'center':'Loss'}, xlabel='Epochs', ylabel='Loss'>,\n",
              "        <AxesSubplot:title={'center':'Accuracy'}, xlabel='Epochs', ylabel='Accuracy'>],\n",
              "       dtype=object))"
            ]
          },
          "metadata": {},
          "execution_count": 33
        },
        {
          "output_type": "display_data",
          "data": {
            "text/plain": [
              "<Figure size 1000x500 with 2 Axes>"
            ],
            "image/png": "[encoded data removed]"
          },
          "metadata": {
            "needs_background": "light"
          }
        }
      ],
      "source": [
        "from plot_keras_history import show_history, plot_history\n",
        "import matplotlib.pyplot as plt\n",
        "plot_history(history)"
      ],
      "id": "00086db5"
    },
    {
      "cell_type": "code",
      "execution_count": null,
      "metadata": {
        "id": "f1b2c021"
      },
      "outputs": [],
      "source": [
        "import matplotlib.pyplot as plt\n",
        "import itertools\n",
        "import numpy as np\n",
        "\n",
        "def plot_confusion_matrix(cm, classes,\n",
        "                        normalize=False,\n",
        "                        title='Confusion matrix',\n",
        "                        cmap=plt.cm.Blues):\n",
        "    \"\"\"\n",
        "    This function prints and plots the confusion matrix.\n",
        "    Normalization can be applied by setting `normalize=True`.\n",
        "    \"\"\"\n",
        "    plt.imshow(cm, interpolation='nearest', cmap=cmap)\n",
        "    plt.title(title)\n",
        "    plt.colorbar()\n",
        "    tick_marks = np.arange(len(classes))\n",
        "    plt.xticks(tick_marks, classes, rotation=45)\n",
        "    plt.yticks(tick_marks, classes)\n",
        "\n",
        "    if normalize:\n",
        "        cm = cm.astype('float') / cm.sum(axis=1)[:, np.newaxis]\n",
        "        print(\"Normalized confusion matrix\")\n",
        "    else:\n",
        "        print('Confusion matrix, without normalization')\n",
        "\n",
        "    print(cm)\n",
        "\n",
        "    thresh = cm.max() / 2.\n",
        "    for i, j in itertools.product(range(cm.shape[0]), range(cm.shape[1])):\n",
        "        plt.text(j, i, cm[i, j],\n",
        "            horizontalalignment=\"center\",\n",
        "            color=\"white\" if cm[i, j] > thresh else \"black\")\n",
        "\n",
        "    plt.tight_layout()\n",
        "    plt.ylabel('True label')\n",
        "    plt.xlabel('Predicted label')\n",
        "    plt.show()"
      ],
      "id": "f1b2c021"
    },
    {
      "cell_type": "code",
      "execution_count": null,
      "metadata": {
        "colab": {
          "base_uri": "https://localhost:8080/",
          "height": 583
        },
        "id": "02a912f5",
        "outputId": "4f00d6ac-f458-4b21-edd1-57730f275272"
      },
      "outputs": [
        {
          "output_type": "stream",
          "name": "stdout",
          "text": [
            "Model Classification Report: \n",
            "\n",
            "66/66 [==============================] - 0s 2ms/step\n",
            "              precision    recall  f1-score   support\n",
            "\n",
            "           0       0.94      0.93      0.93      1049\n",
            "           1       0.93      0.94      0.93      1060\n",
            "\n",
            "    accuracy                           0.93      2109\n",
            "   macro avg       0.93      0.93      0.93      2109\n",
            "weighted avg       0.93      0.93      0.93      2109\n",
            "\n",
            "Confusion matrix, without normalization\n",
            "[[979  70]\n",
            " [ 68 992]]\n"
          ]
        },
        {
          "output_type": "display_data",
          "data": {
            "text/plain": [
              "<Figure size 432x288 with 2 Axes>"
            ],
            "image/png": "[encoded data removed]"
          },
          "metadata": {
            "needs_background": "light"
          }
        }
      ],
      "source": [
        "print(\"Model Classification Report: \\n\")\n",
        "y_pred = np.argmax(model.predict(X_test), axis=1)\n",
        "cm = confusion_matrix(np.argmax(y_test, axis=1), y_pred)\n",
        "print(classification_report(np.argmax(y_test, axis=1), y_pred))\n",
        "plot_confusion_matrix(cm, classes=[\"Does not have Wake Word\", \"Has Wake Word\"])"
      ],
      "id": "02a912f5"
    }
  ],
  "metadata": {
    "accelerator": "GPU",
    "colab": {
      "provenance": []
    },
    "gpuClass": "standard",
    "kernelspec": {
      "display_name": "Python 3 (ipykernel)",
      "language": "python",
      "name": "python3"
    },
    "language_info": {
      "codemirror_mode": {
        "name": "ipython",
        "version": 3
      },
      "file_extension": ".py",
      "mimetype": "text/x-python",
      "name": "python",
      "nbconvert_exporter": "python",
      "pygments_lexer": "ipython3",
      "version": "3.9.12"
    }
  },
  "nbformat": 4,
  "nbformat_minor": 5
}