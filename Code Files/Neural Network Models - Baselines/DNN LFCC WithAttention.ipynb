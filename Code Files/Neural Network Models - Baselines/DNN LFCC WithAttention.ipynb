{
  "cells": [
    {
      "cell_type": "markdown",
      "id": "3b025998",
      "metadata": {
        "id": "3b025998"
      },
      "source": [
        "## IMPORTING DEPENDENCIES"
      ]
    },
    {
      "cell_type": "code",
      "source": [
        "from google.colab import drive\n",
        "drive.mount('/content/gdrive')"
      ],
      "metadata": {
        "colab": {
          "base_uri": "https://localhost:8080/"
        },
        "id": "qOCuzTU5fvxQ",
        "outputId": "0de904a9-2f7b-4e2c-f596-4685a9788293"
      },
      "id": "qOCuzTU5fvxQ",
      "execution_count": null,
      "outputs": [
        {
          "output_type": "stream",
          "name": "stdout",
          "text": [
            "Drive already mounted at /content/gdrive; to attempt to forcibly remount, call drive.mount(\"/content/gdrive\", force_remount=True).\n"
          ]
        }
      ]
    },
    {
      "cell_type": "code",
      "execution_count": null,
      "id": "65ba3a3f",
      "metadata": {
        "id": "65ba3a3f"
      },
      "outputs": [],
      "source": [
        "import os\n",
        "import numpy as np\n",
        "import pandas as pd\n",
        "import matplotlib.pyplot as plt\n",
        "import librosa, librosa.display\n",
        "from tensorflow import keras\n",
        "\n",
        "import tensorflow as tf \n",
        "from sklearn.model_selection import train_test_split"
      ]
    },
    {
      "cell_type": "markdown",
      "id": "4e53be66",
      "metadata": {
        "id": "4e53be66"
      },
      "source": [
        "## NEURAL NETWORK MODEL"
      ]
    },
    {
      "cell_type": "code",
      "execution_count": null,
      "id": "921d0ac9",
      "metadata": {
        "id": "921d0ac9"
      },
      "outputs": [],
      "source": [
        "X_train = np.load('/content/gdrive/MyDrive/Colab Notebooks/FYP/WaveletTransformDenoised/X_train.npy')\n",
        "y_train = np.load('/content/gdrive/MyDrive/Colab Notebooks/FYP/WaveletTransformDenoised/y_train.npy')\n",
        "X_test = np.load('/content/gdrive/MyDrive/Colab Notebooks/FYP/WaveletTransformDenoised/X_test.npy')\n",
        "y_test = np.load('/content/gdrive/MyDrive/Colab Notebooks/FYP/WaveletTransformDenoised/y_test.npy')\n",
        "X_val = np.load('/content/gdrive/MyDrive/Colab Notebooks/FYP/WaveletTransformDenoised/X_val.npy')\n",
        "y_val = np.load('/content/gdrive/MyDrive/Colab Notebooks/FYP/WaveletTransformDenoised/y_val.npy')"
      ]
    },
    {
      "cell_type": "code",
      "execution_count": null,
      "id": "8cea14dd",
      "metadata": {
        "colab": {
          "base_uri": "https://localhost:8080/"
        },
        "id": "8cea14dd",
        "outputId": "ac646baf-4c44-4102-fc86-b9a399c54b22"
      },
      "outputs": [
        {
          "output_type": "stream",
          "name": "stdout",
          "text": [
            "(16893, 98) (16893, 2)\n",
            "(2109, 98) (2109, 2)\n",
            "(2088, 98) (2088, 2)\n"
          ]
        }
      ],
      "source": [
        "print(X_train.shape, y_train.shape)\n",
        "print(X_test.shape, y_test.shape)\n",
        "print(X_val.shape, y_val.shape)"
      ]
    },
    {
      "cell_type": "code",
      "execution_count": null,
      "id": "75d43bca",
      "metadata": {
        "id": "75d43bca"
      },
      "outputs": [],
      "source": [
        "from keras.layers import Input, LSTM, GRU, Dense, Embedding, Conv1D, MaxPooling1D, Activation, Dropout\n",
        "from keras.layers import Reshape, Softmax, Permute, Multiply, dot, concatenate\n",
        "from keras.layers import BatchNormalization\n",
        "from keras.models import Model\n",
        "from sklearn.metrics import confusion_matrix, classification_report"
      ]
    },
    {
      "cell_type": "code",
      "execution_count": null,
      "id": "2f90acc9",
      "metadata": {
        "colab": {
          "base_uri": "https://localhost:8080/"
        },
        "id": "2f90acc9",
        "outputId": "d2dd2be2-9c8a-47bd-83aa-c2cffe742b7d"
      },
      "outputs": [
        {
          "output_type": "stream",
          "name": "stdout",
          "text": [
            "Model: \"model\"\n",
            "__________________________________________________________________________________________________\n",
            " Layer (type)                   Output Shape         Param #     Connected to                     \n",
            "==================================================================================================\n",
            " input_2 (InputLayer)           [(None, 98)]         0           []                               \n",
            "                                                                                                  \n",
            " dense_1 (Dense)                (None, 256)          25344       ['input_2[0][0]']                \n",
            "                                                                                                  \n",
            " dropout (Dropout)              (None, 256)          0           ['dense_1[0][0]']                \n",
            "                                                                                                  \n",
            " dense_2 (Dense)                (None, 256)          65792       ['dropout[0][0]']                \n",
            "                                                                                                  \n",
            " dropout_1 (Dropout)            (None, 256)          0           ['dense_2[0][0]']                \n",
            "                                                                                                  \n",
            " dense_3 (Dense)                (None, 128)          32896       ['dropout_1[0][0]']              \n",
            "                                                                                                  \n",
            " dense_4 (Dense)                (None, 128)          32896       ['dropout_1[0][0]']              \n",
            "                                                                                                  \n",
            " reshape (Reshape)              (None, 1, 128)       0           ['dense_3[0][0]']                \n",
            "                                                                                                  \n",
            " reshape_1 (Reshape)            (None, 1, 128)       0           ['dense_4[0][0]']                \n",
            "                                                                                                  \n",
            " dot (Dot)                      (None, 1, 1)         0           ['reshape[0][0]',                \n",
            "                                                                  'reshape_1[0][0]']              \n",
            "                                                                                                  \n",
            " dense_5 (Dense)                (None, 128)          32896       ['dropout_1[0][0]']              \n",
            "                                                                                                  \n",
            " activation (Activation)        (None, 1, 1)         0           ['dot[0][0]']                    \n",
            "                                                                                                  \n",
            " reshape_2 (Reshape)            (None, 1, 128)       0           ['dense_5[0][0]']                \n",
            "                                                                                                  \n",
            " dot_1 (Dot)                    (None, 1, 128)       0           ['activation[0][0]',             \n",
            "                                                                  'reshape_2[0][0]']              \n",
            "                                                                                                  \n",
            " reshape_3 (Reshape)            (None, 128)          0           ['dot_1[0][0]']                  \n",
            "                                                                                                  \n",
            " dense_6 (Dense)                (None, 2)            258         ['reshape_3[0][0]']              \n",
            "                                                                                                  \n",
            "==================================================================================================\n",
            "Total params: 190,082\n",
            "Trainable params: 190,082\n",
            "Non-trainable params: 0\n",
            "__________________________________________________________________________________________________\n",
            "None\n"
          ]
        }
      ],
      "source": [
        "inputs = Input(X_train[0].shape)\n",
        "dense1 = Dense(256, activation='relu')(inputs)\n",
        "d1 = Dropout(0.5)(dense1)\n",
        "dense2 = Dense(256, activation='relu')(d1)\n",
        "d2 = Dropout(0.5)(dense2)\n",
        "\n",
        "q = Dense(128)(d2)\n",
        "k = Dense(128)(d2)\n",
        "v = Dense(128)(d2)\n",
        "\n",
        "q = Reshape((1, 128))(q)\n",
        "k = Reshape((1, 128))(k)\n",
        "v = Reshape((1, 128))(v)\n",
        "\n",
        "attention = dot([q, k], axes=[2, 2])\n",
        "attention = Activation('softmax')(attention)\n",
        "\n",
        "output = dot([attention, v], axes=[2, 1])\n",
        "output = Reshape((128,))(output)\n",
        "\n",
        "output = Dense(2, activation='softmax')(output)\n",
        "\n",
        "model = Model(inputs=inputs, outputs=output)\n",
        "\n",
        "print(model.summary())"
      ]
    },
    {
      "cell_type": "code",
      "execution_count": null,
      "id": "f294ec37",
      "metadata": {
        "id": "f294ec37"
      },
      "outputs": [],
      "source": [
        "model.compile(optimizer=tf.keras.optimizers.Adam(amsgrad=True), loss='categorical_crossentropy', metrics=['accuracy'])"
      ]
    },
    {
      "cell_type": "code",
      "execution_count": null,
      "id": "61f9dcd7",
      "metadata": {
        "colab": {
          "base_uri": "https://localhost:8080/"
        },
        "id": "61f9dcd7",
        "outputId": "a99b6a9d-1e5f-4d3d-c263-45594eb35241"
      },
      "outputs": [
        {
          "output_type": "stream",
          "name": "stdout",
          "text": [
            "Epoch 1/120\n",
            "528/528 [==============================] - 8s 5ms/step - loss: 0.7223 - accuracy: 0.5975 - val_loss: 0.5967 - val_accuracy: 0.7031\n",
            "Epoch 2/120\n",
            "528/528 [==============================] - 2s 4ms/step - loss: 0.6262 - accuracy: 0.6509 - val_loss: 0.5871 - val_accuracy: 0.6882\n",
            "Epoch 3/120\n",
            "528/528 [==============================] - 2s 4ms/step - loss: 0.5999 - accuracy: 0.6813 - val_loss: 0.5891 - val_accuracy: 0.6791\n",
            "Epoch 4/120\n",
            "528/528 [==============================] - 3s 6ms/step - loss: 0.5885 - accuracy: 0.6917 - val_loss: 0.5982 - val_accuracy: 0.6609\n",
            "Epoch 5/120\n",
            "528/528 [==============================] - 2s 5ms/step - loss: 0.5745 - accuracy: 0.7082 - val_loss: 0.5643 - val_accuracy: 0.7055\n",
            "Epoch 6/120\n",
            "528/528 [==============================] - 2s 4ms/step - loss: 0.5630 - accuracy: 0.7160 - val_loss: 0.5308 - val_accuracy: 0.7438\n",
            "Epoch 7/120\n",
            "528/528 [==============================] - 2s 4ms/step - loss: 0.5571 - accuracy: 0.7195 - val_loss: 0.5428 - val_accuracy: 0.7308\n",
            "Epoch 8/120\n",
            "528/528 [==============================] - 2s 4ms/step - loss: 0.5458 - accuracy: 0.7302 - val_loss: 0.5656 - val_accuracy: 0.6906\n",
            "Epoch 9/120\n",
            "528/528 [==============================] - 3s 5ms/step - loss: 0.5415 - accuracy: 0.7339 - val_loss: 0.5558 - val_accuracy: 0.7107\n",
            "Epoch 10/120\n",
            "528/528 [==============================] - 3s 6ms/step - loss: 0.5313 - accuracy: 0.7426 - val_loss: 0.5602 - val_accuracy: 0.6964\n",
            "Epoch 11/120\n",
            "528/528 [==============================] - 2s 4ms/step - loss: 0.5257 - accuracy: 0.7460 - val_loss: 0.5650 - val_accuracy: 0.6973\n",
            "Epoch 12/120\n",
            "528/528 [==============================] - 2s 5ms/step - loss: 0.5233 - accuracy: 0.7499 - val_loss: 0.5299 - val_accuracy: 0.7342\n",
            "Epoch 13/120\n",
            "528/528 [==============================] - 2s 4ms/step - loss: 0.5169 - accuracy: 0.7489 - val_loss: 0.5298 - val_accuracy: 0.7328\n",
            "Epoch 14/120\n",
            "528/528 [==============================] - 3s 5ms/step - loss: 0.5151 - accuracy: 0.7510 - val_loss: 0.5308 - val_accuracy: 0.7280\n",
            "Epoch 15/120\n",
            "528/528 [==============================] - 3s 6ms/step - loss: 0.5113 - accuracy: 0.7578 - val_loss: 0.5095 - val_accuracy: 0.7524\n",
            "Epoch 16/120\n",
            "528/528 [==============================] - 2s 4ms/step - loss: 0.5036 - accuracy: 0.7603 - val_loss: 0.5179 - val_accuracy: 0.7519\n",
            "Epoch 17/120\n",
            "528/528 [==============================] - 2s 4ms/step - loss: 0.5044 - accuracy: 0.7606 - val_loss: 0.5124 - val_accuracy: 0.7581\n",
            "Epoch 18/120\n",
            "528/528 [==============================] - 2s 5ms/step - loss: 0.5060 - accuracy: 0.7558 - val_loss: 0.5214 - val_accuracy: 0.7328\n",
            "Epoch 19/120\n",
            "528/528 [==============================] - 2s 5ms/step - loss: 0.4979 - accuracy: 0.7649 - val_loss: 0.4955 - val_accuracy: 0.7677\n",
            "Epoch 20/120\n",
            "528/528 [==============================] - 3s 6ms/step - loss: 0.4969 - accuracy: 0.7648 - val_loss: 0.5110 - val_accuracy: 0.7433\n",
            "Epoch 21/120\n",
            "528/528 [==============================] - 3s 5ms/step - loss: 0.4921 - accuracy: 0.7661 - val_loss: 0.5387 - val_accuracy: 0.7016\n",
            "Epoch 22/120\n",
            "528/528 [==============================] - 2s 4ms/step - loss: 0.4899 - accuracy: 0.7705 - val_loss: 0.5144 - val_accuracy: 0.7481\n",
            "Epoch 23/120\n",
            "528/528 [==============================] - 2s 4ms/step - loss: 0.4890 - accuracy: 0.7674 - val_loss: 0.5031 - val_accuracy: 0.7486\n",
            "Epoch 24/120\n",
            "528/528 [==============================] - 2s 4ms/step - loss: 0.4859 - accuracy: 0.7748 - val_loss: 0.4992 - val_accuracy: 0.7601\n",
            "Epoch 25/120\n",
            "528/528 [==============================] - 3s 5ms/step - loss: 0.4824 - accuracy: 0.7789 - val_loss: 0.5439 - val_accuracy: 0.7064\n",
            "Epoch 26/120\n",
            "528/528 [==============================] - 3s 6ms/step - loss: 0.4817 - accuracy: 0.7766 - val_loss: 0.5148 - val_accuracy: 0.7246\n",
            "Epoch 27/120\n",
            "528/528 [==============================] - 2s 4ms/step - loss: 0.4792 - accuracy: 0.7772 - val_loss: 0.4788 - val_accuracy: 0.7725\n",
            "Epoch 28/120\n",
            "528/528 [==============================] - 2s 4ms/step - loss: 0.4754 - accuracy: 0.7762 - val_loss: 0.4830 - val_accuracy: 0.7639\n",
            "Epoch 29/120\n",
            "528/528 [==============================] - 2s 4ms/step - loss: 0.4735 - accuracy: 0.7823 - val_loss: 0.4821 - val_accuracy: 0.7730\n",
            "Epoch 30/120\n",
            "528/528 [==============================] - 2s 4ms/step - loss: 0.4705 - accuracy: 0.7783 - val_loss: 0.5016 - val_accuracy: 0.7486\n",
            "Epoch 31/120\n",
            "528/528 [==============================] - 3s 6ms/step - loss: 0.4630 - accuracy: 0.7816 - val_loss: 0.4858 - val_accuracy: 0.7677\n",
            "Epoch 32/120\n",
            "528/528 [==============================] - 2s 4ms/step - loss: 0.4668 - accuracy: 0.7848 - val_loss: 0.5007 - val_accuracy: 0.7553\n",
            "Epoch 33/120\n",
            "528/528 [==============================] - 2s 4ms/step - loss: 0.4630 - accuracy: 0.7833 - val_loss: 0.4827 - val_accuracy: 0.7754\n",
            "Epoch 34/120\n",
            "528/528 [==============================] - 2s 4ms/step - loss: 0.4636 - accuracy: 0.7862 - val_loss: 0.5165 - val_accuracy: 0.7294\n",
            "Epoch 35/120\n",
            "528/528 [==============================] - 2s 4ms/step - loss: 0.4591 - accuracy: 0.7903 - val_loss: 0.4958 - val_accuracy: 0.7553\n",
            "Epoch 36/120\n",
            "528/528 [==============================] - 3s 5ms/step - loss: 0.4590 - accuracy: 0.7875 - val_loss: 0.4763 - val_accuracy: 0.7835\n",
            "Epoch 37/120\n",
            "528/528 [==============================] - 3s 5ms/step - loss: 0.4550 - accuracy: 0.7865 - val_loss: 0.4939 - val_accuracy: 0.7534\n",
            "Epoch 38/120\n",
            "528/528 [==============================] - 2s 4ms/step - loss: 0.4541 - accuracy: 0.7928 - val_loss: 0.4922 - val_accuracy: 0.7548\n",
            "Epoch 39/120\n",
            "528/528 [==============================] - 3s 5ms/step - loss: 0.4553 - accuracy: 0.7880 - val_loss: 0.4747 - val_accuracy: 0.7744\n",
            "Epoch 40/120\n",
            "528/528 [==============================] - 2s 4ms/step - loss: 0.4568 - accuracy: 0.7896 - val_loss: 0.4798 - val_accuracy: 0.7605\n",
            "Epoch 41/120\n",
            "528/528 [==============================] - 3s 5ms/step - loss: 0.4472 - accuracy: 0.7916 - val_loss: 0.4912 - val_accuracy: 0.7452\n",
            "Epoch 42/120\n",
            "528/528 [==============================] - 3s 6ms/step - loss: 0.4507 - accuracy: 0.7974 - val_loss: 0.4872 - val_accuracy: 0.7486\n",
            "Epoch 43/120\n",
            "528/528 [==============================] - 2s 4ms/step - loss: 0.4517 - accuracy: 0.7908 - val_loss: 0.4783 - val_accuracy: 0.7625\n",
            "Epoch 44/120\n",
            "528/528 [==============================] - 2s 4ms/step - loss: 0.4515 - accuracy: 0.7913 - val_loss: 0.4740 - val_accuracy: 0.7668\n",
            "Epoch 45/120\n",
            "528/528 [==============================] - 2s 4ms/step - loss: 0.4449 - accuracy: 0.7946 - val_loss: 0.4639 - val_accuracy: 0.7672\n",
            "Epoch 46/120\n",
            "528/528 [==============================] - 2s 4ms/step - loss: 0.4435 - accuracy: 0.7938 - val_loss: 0.4900 - val_accuracy: 0.7342\n",
            "Epoch 47/120\n",
            "528/528 [==============================] - 3s 6ms/step - loss: 0.4411 - accuracy: 0.7964 - val_loss: 0.4753 - val_accuracy: 0.7553\n",
            "Epoch 48/120\n",
            "528/528 [==============================] - 3s 5ms/step - loss: 0.4422 - accuracy: 0.7964 - val_loss: 0.4953 - val_accuracy: 0.7553\n",
            "Epoch 49/120\n",
            "528/528 [==============================] - 2s 4ms/step - loss: 0.4412 - accuracy: 0.7970 - val_loss: 0.5035 - val_accuracy: 0.7304\n",
            "Epoch 50/120\n",
            "528/528 [==============================] - 2s 4ms/step - loss: 0.4386 - accuracy: 0.7968 - val_loss: 0.4976 - val_accuracy: 0.7352\n",
            "Epoch 51/120\n",
            "528/528 [==============================] - 2s 5ms/step - loss: 0.4372 - accuracy: 0.7986 - val_loss: 0.4761 - val_accuracy: 0.7505\n",
            "Epoch 52/120\n",
            "528/528 [==============================] - 3s 5ms/step - loss: 0.4372 - accuracy: 0.7978 - val_loss: 0.4830 - val_accuracy: 0.7433\n",
            "Epoch 53/120\n",
            "528/528 [==============================] - 3s 5ms/step - loss: 0.4353 - accuracy: 0.8013 - val_loss: 0.4547 - val_accuracy: 0.7735\n",
            "Epoch 54/120\n",
            "528/528 [==============================] - 2s 4ms/step - loss: 0.4392 - accuracy: 0.7986 - val_loss: 0.4588 - val_accuracy: 0.7778\n",
            "Epoch 55/120\n",
            "528/528 [==============================] - 2s 4ms/step - loss: 0.4388 - accuracy: 0.7969 - val_loss: 0.4796 - val_accuracy: 0.7500\n",
            "Epoch 56/120\n",
            "528/528 [==============================] - 2s 4ms/step - loss: 0.4390 - accuracy: 0.7974 - val_loss: 0.4507 - val_accuracy: 0.7701\n",
            "Epoch 57/120\n",
            "528/528 [==============================] - 2s 5ms/step - loss: 0.4377 - accuracy: 0.7974 - val_loss: 0.4866 - val_accuracy: 0.7385\n",
            "Epoch 58/120\n",
            "528/528 [==============================] - 3s 6ms/step - loss: 0.4295 - accuracy: 0.8035 - val_loss: 0.4757 - val_accuracy: 0.7543\n",
            "Epoch 59/120\n",
            "528/528 [==============================] - 2s 4ms/step - loss: 0.4329 - accuracy: 0.7997 - val_loss: 0.4432 - val_accuracy: 0.7883\n",
            "Epoch 60/120\n",
            "528/528 [==============================] - 2s 4ms/step - loss: 0.4317 - accuracy: 0.8036 - val_loss: 0.4854 - val_accuracy: 0.7476\n",
            "Epoch 61/120\n",
            "528/528 [==============================] - 2s 4ms/step - loss: 0.4243 - accuracy: 0.8060 - val_loss: 0.4269 - val_accuracy: 0.7955\n",
            "Epoch 62/120\n",
            "528/528 [==============================] - 2s 4ms/step - loss: 0.4289 - accuracy: 0.8070 - val_loss: 0.4540 - val_accuracy: 0.7716\n",
            "Epoch 63/120\n",
            "528/528 [==============================] - 3s 6ms/step - loss: 0.4295 - accuracy: 0.8019 - val_loss: 0.4545 - val_accuracy: 0.7754\n",
            "Epoch 64/120\n",
            "528/528 [==============================] - 3s 5ms/step - loss: 0.4259 - accuracy: 0.8047 - val_loss: 0.4613 - val_accuracy: 0.7629\n",
            "Epoch 65/120\n",
            "528/528 [==============================] - 2s 4ms/step - loss: 0.4254 - accuracy: 0.8081 - val_loss: 0.4514 - val_accuracy: 0.7749\n",
            "Epoch 66/120\n",
            "528/528 [==============================] - 2s 4ms/step - loss: 0.4259 - accuracy: 0.8089 - val_loss: 0.4633 - val_accuracy: 0.7672\n",
            "Epoch 67/120\n",
            "528/528 [==============================] - 2s 5ms/step - loss: 0.4319 - accuracy: 0.8019 - val_loss: 0.4480 - val_accuracy: 0.7792\n",
            "Epoch 68/120\n",
            "528/528 [==============================] - 3s 5ms/step - loss: 0.4226 - accuracy: 0.8052 - val_loss: 0.4516 - val_accuracy: 0.7658\n",
            "Epoch 69/120\n",
            "528/528 [==============================] - 3s 6ms/step - loss: 0.4257 - accuracy: 0.8044 - val_loss: 0.4707 - val_accuracy: 0.7625\n",
            "Epoch 70/120\n",
            "528/528 [==============================] - 2s 4ms/step - loss: 0.4216 - accuracy: 0.8035 - val_loss: 0.4264 - val_accuracy: 0.7945\n",
            "Epoch 71/120\n",
            "528/528 [==============================] - 2s 4ms/step - loss: 0.4199 - accuracy: 0.8097 - val_loss: 0.4244 - val_accuracy: 0.7907\n",
            "Epoch 72/120\n",
            "528/528 [==============================] - 3s 5ms/step - loss: 0.4194 - accuracy: 0.8092 - val_loss: 0.4252 - val_accuracy: 0.7989\n",
            "Epoch 73/120\n",
            "528/528 [==============================] - 2s 5ms/step - loss: 0.4184 - accuracy: 0.8112 - val_loss: 0.4410 - val_accuracy: 0.7874\n",
            "Epoch 74/120\n",
            "528/528 [==============================] - 3s 7ms/step - loss: 0.4224 - accuracy: 0.8054 - val_loss: 0.4578 - val_accuracy: 0.7754\n",
            "Epoch 75/120\n",
            "528/528 [==============================] - 2s 5ms/step - loss: 0.4160 - accuracy: 0.8100 - val_loss: 0.4199 - val_accuracy: 0.7888\n",
            "Epoch 76/120\n",
            "528/528 [==============================] - 2s 4ms/step - loss: 0.4157 - accuracy: 0.8110 - val_loss: 0.4498 - val_accuracy: 0.7615\n",
            "Epoch 77/120\n",
            "528/528 [==============================] - 2s 4ms/step - loss: 0.4130 - accuracy: 0.8136 - val_loss: 0.4273 - val_accuracy: 0.7912\n",
            "Epoch 78/120\n",
            "528/528 [==============================] - 2s 4ms/step - loss: 0.4125 - accuracy: 0.8127 - val_loss: 0.4228 - val_accuracy: 0.7893\n",
            "Epoch 79/120\n",
            "528/528 [==============================] - 3s 6ms/step - loss: 0.4149 - accuracy: 0.8115 - val_loss: 0.4275 - val_accuracy: 0.7854\n",
            "Epoch 80/120\n",
            "528/528 [==============================] - 3s 5ms/step - loss: 0.4135 - accuracy: 0.8132 - val_loss: 0.4345 - val_accuracy: 0.8027\n",
            "Epoch 81/120\n",
            "528/528 [==============================] - 3s 5ms/step - loss: 0.4116 - accuracy: 0.8123 - val_loss: 0.4150 - val_accuracy: 0.7950\n",
            "Epoch 82/120\n",
            "528/528 [==============================] - 2s 4ms/step - loss: 0.4081 - accuracy: 0.8144 - val_loss: 0.4516 - val_accuracy: 0.7730\n",
            "Epoch 83/120\n",
            "528/528 [==============================] - 2s 4ms/step - loss: 0.4174 - accuracy: 0.8070 - val_loss: 0.4713 - val_accuracy: 0.7452\n",
            "Epoch 84/120\n",
            "528/528 [==============================] - 3s 6ms/step - loss: 0.4099 - accuracy: 0.8147 - val_loss: 0.4570 - val_accuracy: 0.7778\n",
            "Epoch 85/120\n",
            "528/528 [==============================] - 3s 5ms/step - loss: 0.4144 - accuracy: 0.8138 - val_loss: 0.4516 - val_accuracy: 0.7581\n",
            "Epoch 86/120\n",
            "528/528 [==============================] - 2s 4ms/step - loss: 0.4063 - accuracy: 0.8150 - val_loss: 0.4409 - val_accuracy: 0.7807\n",
            "Epoch 87/120\n",
            "528/528 [==============================] - 2s 4ms/step - loss: 0.4053 - accuracy: 0.8176 - val_loss: 0.4237 - val_accuracy: 0.7921\n",
            "Epoch 88/120\n",
            "528/528 [==============================] - 2s 4ms/step - loss: 0.4136 - accuracy: 0.8105 - val_loss: 0.4417 - val_accuracy: 0.7792\n",
            "Epoch 89/120\n",
            "528/528 [==============================] - 3s 5ms/step - loss: 0.4074 - accuracy: 0.8168 - val_loss: 0.4352 - val_accuracy: 0.7725\n",
            "Epoch 90/120\n",
            "528/528 [==============================] - 3s 6ms/step - loss: 0.4082 - accuracy: 0.8150 - val_loss: 0.4089 - val_accuracy: 0.8080\n",
            "Epoch 91/120\n",
            "528/528 [==============================] - 2s 5ms/step - loss: 0.4065 - accuracy: 0.8147 - val_loss: 0.4466 - val_accuracy: 0.7792\n",
            "Epoch 92/120\n",
            "528/528 [==============================] - 2s 4ms/step - loss: 0.4124 - accuracy: 0.8134 - val_loss: 0.4236 - val_accuracy: 0.7945\n",
            "Epoch 93/120\n",
            "528/528 [==============================] - 2s 4ms/step - loss: 0.4097 - accuracy: 0.8134 - val_loss: 0.4312 - val_accuracy: 0.7878\n",
            "Epoch 94/120\n",
            "528/528 [==============================] - 3s 5ms/step - loss: 0.4106 - accuracy: 0.8152 - val_loss: 0.4346 - val_accuracy: 0.7902\n",
            "Epoch 95/120\n",
            "528/528 [==============================] - 3s 6ms/step - loss: 0.4044 - accuracy: 0.8160 - val_loss: 0.4502 - val_accuracy: 0.7696\n",
            "Epoch 96/120\n",
            "528/528 [==============================] - 2s 4ms/step - loss: 0.4031 - accuracy: 0.8171 - val_loss: 0.4459 - val_accuracy: 0.7816\n",
            "Epoch 97/120\n",
            "528/528 [==============================] - 2s 4ms/step - loss: 0.3994 - accuracy: 0.8203 - val_loss: 0.4701 - val_accuracy: 0.7548\n",
            "Epoch 98/120\n",
            "528/528 [==============================] - 2s 5ms/step - loss: 0.4046 - accuracy: 0.8166 - val_loss: 0.4287 - val_accuracy: 0.7778\n",
            "Epoch 99/120\n",
            "528/528 [==============================] - 2s 4ms/step - loss: 0.4049 - accuracy: 0.8139 - val_loss: 0.4407 - val_accuracy: 0.7797\n",
            "Epoch 100/120\n",
            "528/528 [==============================] - 3s 6ms/step - loss: 0.3950 - accuracy: 0.8197 - val_loss: 0.4003 - val_accuracy: 0.8017\n",
            "Epoch 101/120\n",
            "528/528 [==============================] - 3s 5ms/step - loss: 0.3980 - accuracy: 0.8199 - val_loss: 0.4143 - val_accuracy: 0.8012\n",
            "Epoch 102/120\n",
            "528/528 [==============================] - 2s 4ms/step - loss: 0.4002 - accuracy: 0.8177 - val_loss: 0.4581 - val_accuracy: 0.7567\n",
            "Epoch 103/120\n",
            "528/528 [==============================] - 3s 5ms/step - loss: 0.3976 - accuracy: 0.8212 - val_loss: 0.4115 - val_accuracy: 0.7965\n",
            "Epoch 104/120\n",
            "528/528 [==============================] - 2s 4ms/step - loss: 0.3989 - accuracy: 0.8203 - val_loss: 0.4248 - val_accuracy: 0.7931\n",
            "Epoch 105/120\n",
            "528/528 [==============================] - 3s 6ms/step - loss: 0.3952 - accuracy: 0.8235 - val_loss: 0.4385 - val_accuracy: 0.7783\n",
            "Epoch 106/120\n",
            "528/528 [==============================] - 3s 5ms/step - loss: 0.3978 - accuracy: 0.8191 - val_loss: 0.4204 - val_accuracy: 0.7864\n",
            "Epoch 107/120\n",
            "528/528 [==============================] - 2s 5ms/step - loss: 0.3981 - accuracy: 0.8196 - val_loss: 0.4005 - val_accuracy: 0.7993\n",
            "Epoch 108/120\n",
            "528/528 [==============================] - 2s 4ms/step - loss: 0.4045 - accuracy: 0.8166 - val_loss: 0.4065 - val_accuracy: 0.8012\n",
            "Epoch 109/120\n",
            "528/528 [==============================] - 2s 4ms/step - loss: 0.3989 - accuracy: 0.8201 - val_loss: 0.4296 - val_accuracy: 0.7816\n",
            "Epoch 110/120\n",
            "528/528 [==============================] - 3s 5ms/step - loss: 0.3971 - accuracy: 0.8221 - val_loss: 0.4053 - val_accuracy: 0.7979\n",
            "Epoch 111/120\n",
            "528/528 [==============================] - 3s 6ms/step - loss: 0.4001 - accuracy: 0.8178 - val_loss: 0.4370 - val_accuracy: 0.7783\n",
            "Epoch 112/120\n",
            "528/528 [==============================] - 2s 4ms/step - loss: 0.3911 - accuracy: 0.8264 - val_loss: 0.4353 - val_accuracy: 0.7840\n",
            "Epoch 113/120\n",
            "528/528 [==============================] - 2s 4ms/step - loss: 0.3907 - accuracy: 0.8274 - val_loss: 0.4333 - val_accuracy: 0.7955\n",
            "Epoch 114/120\n",
            "528/528 [==============================] - 2s 5ms/step - loss: 0.3923 - accuracy: 0.8261 - val_loss: 0.4199 - val_accuracy: 0.7840\n",
            "Epoch 115/120\n",
            "528/528 [==============================] - 2s 4ms/step - loss: 0.3907 - accuracy: 0.8250 - val_loss: 0.4322 - val_accuracy: 0.7754\n",
            "Epoch 116/120\n",
            "528/528 [==============================] - 3s 6ms/step - loss: 0.3883 - accuracy: 0.8270 - val_loss: 0.4265 - val_accuracy: 0.7864\n",
            "Epoch 117/120\n",
            "528/528 [==============================] - 3s 5ms/step - loss: 0.3887 - accuracy: 0.8270 - val_loss: 0.3958 - val_accuracy: 0.8238\n",
            "Epoch 118/120\n",
            "528/528 [==============================] - 3s 5ms/step - loss: 0.3887 - accuracy: 0.8263 - val_loss: 0.4081 - val_accuracy: 0.8089\n",
            "Epoch 119/120\n",
            "528/528 [==============================] - 2s 4ms/step - loss: 0.3884 - accuracy: 0.8243 - val_loss: 0.4089 - val_accuracy: 0.7969\n",
            "Epoch 120/120\n",
            "528/528 [==============================] - 2s 4ms/step - loss: 0.3854 - accuracy: 0.8244 - val_loss: 0.4119 - val_accuracy: 0.7912\n"
          ]
        }
      ],
      "source": [
        "history = model.fit(X_train, y_train, validation_data= (X_val, y_val), epochs=120)\n",
        "model.save(\"/content/gdrive/MyDrive/Colab Notebooks/FYP/DNN-Multi-Head-Attention-Model_Augmented-LFCC-Wavelet.h5\")"
      ]
    },
    {
      "cell_type": "code",
      "execution_count": null,
      "id": "12940369",
      "metadata": {
        "colab": {
          "base_uri": "https://localhost:8080/"
        },
        "id": "12940369",
        "outputId": "04474536-d70f-42ad-8cd7-9b76e2ffec4d"
      },
      "outputs": [
        {
          "output_type": "stream",
          "name": "stdout",
          "text": [
            "Model Score: \n",
            "\n",
            "66/66 [==============================] - 0s 3ms/step - loss: 0.4208 - accuracy: 0.7885\n",
            "[0.4207909405231476, 0.7885253429412842]\n"
          ]
        }
      ],
      "source": [
        "print(\"Model Score: \\n\")\n",
        "score = model.evaluate(X_test, y_test)\n",
        "print(score)"
      ]
    },
    {
      "cell_type": "code",
      "source": [
        "pip install plot_keras_history"
      ],
      "metadata": {
        "colab": {
          "base_uri": "https://localhost:8080/"
        },
        "id": "XbKMTiGwhcD_",
        "outputId": "3150e0f6-e7ef-4454-8730-0d1729a1ef36"
      },
      "id": "XbKMTiGwhcD_",
      "execution_count": null,
      "outputs": [
        {
          "output_type": "stream",
          "name": "stdout",
          "text": [
            "Looking in indexes: https://pypi.org/simple, https://us-python.pkg.dev/colab-wheels/public/simple/\n",
            "Collecting plot_keras_history\n",
            "  Downloading plot_keras_history-1.1.38.tar.gz (11 kB)\n",
            "  Preparing metadata (setup.py) ... \u001b[?25l\u001b[?25hdone\n",
            "Requirement already satisfied: matplotlib in /usr/local/lib/python3.8/dist-packages (from plot_keras_history) (3.5.3)\n",
            "Requirement already satisfied: pandas in /usr/local/lib/python3.8/dist-packages (from plot_keras_history) (1.3.5)\n",
            "Requirement already satisfied: scipy in /usr/local/lib/python3.8/dist-packages (from plot_keras_history) (1.7.3)\n",
            "Collecting support_developer>=1.0.2\n",
            "  Downloading support_developer-1.0.5.tar.gz (4.9 kB)\n",
            "  Preparing metadata (setup.py) ... \u001b[?25l\u001b[?25hdone\n",
            "Collecting sanitize_ml_labels>=1.0.48\n",
            "  Downloading sanitize_ml_labels-1.0.50.tar.gz (322 kB)\n",
            "\u001b[2K     \u001b[90m━━━━━━━━━━━━━━━━━━━━━━━━━━━━━━━━━━━━━━\u001b[0m \u001b[32m322.1/322.1 KB\u001b[0m \u001b[31m15.7 MB/s\u001b[0m eta \u001b[36m0:00:00\u001b[0m\n",
            "\u001b[?25h  Preparing metadata (setup.py) ... \u001b[?25l\u001b[?25hdone\n",
            "Collecting compress_json\n",
            "  Downloading compress_json-1.0.8.tar.gz (4.7 kB)\n",
            "  Preparing metadata (setup.py) ... \u001b[?25l\u001b[?25hdone\n",
            "Requirement already satisfied: pyparsing>=2.2.1 in /usr/local/lib/python3.8/dist-packages (from matplotlib->plot_keras_history) (3.0.9)\n",
            "Requirement already satisfied: python-dateutil>=2.7 in /usr/local/lib/python3.8/dist-packages (from matplotlib->plot_keras_history) (2.8.2)\n",
            "Requirement already satisfied: numpy>=1.17 in /usr/local/lib/python3.8/dist-packages (from matplotlib->plot_keras_history) (1.22.4)\n",
            "Requirement already satisfied: cycler>=0.10 in /usr/local/lib/python3.8/dist-packages (from matplotlib->plot_keras_history) (0.11.0)\n",
            "Requirement already satisfied: fonttools>=4.22.0 in /usr/local/lib/python3.8/dist-packages (from matplotlib->plot_keras_history) (4.38.0)\n",
            "Requirement already satisfied: packaging>=20.0 in /usr/local/lib/python3.8/dist-packages (from matplotlib->plot_keras_history) (23.0)\n",
            "Requirement already satisfied: kiwisolver>=1.0.1 in /usr/local/lib/python3.8/dist-packages (from matplotlib->plot_keras_history) (1.4.4)\n",
            "Requirement already satisfied: pillow>=6.2.0 in /usr/local/lib/python3.8/dist-packages (from matplotlib->plot_keras_history) (7.1.2)\n",
            "Requirement already satisfied: pytz>=2017.3 in /usr/local/lib/python3.8/dist-packages (from pandas->plot_keras_history) (2022.7.1)\n",
            "Requirement already satisfied: six>=1.5 in /usr/local/lib/python3.8/dist-packages (from python-dateutil>=2.7->matplotlib->plot_keras_history) (1.15.0)\n",
            "Building wheels for collected packages: plot_keras_history, sanitize_ml_labels, support_developer, compress_json\n",
            "  Building wheel for plot_keras_history (setup.py) ... \u001b[?25l\u001b[?25hdone\n",
            "  Created wheel for plot_keras_history: filename=plot_keras_history-1.1.38-py3-none-any.whl size=9472 sha256=ee438a966a994df7ccc4772f13c168f3941787a386fb74c51db9342f39126d04\n",
            "  Stored in directory: /root/.cache/pip/wheels/97/a5/76/35ae3e15da1ce4530de8591b0bcd7716f6d6752a4808f01c04\n",
            "  Building wheel for sanitize_ml_labels (setup.py) ... \u001b[?25l\u001b[?25hdone\n",
            "  Created wheel for sanitize_ml_labels: filename=sanitize_ml_labels-1.0.50-py3-none-any.whl size=320514 sha256=a43df1803a8956235012724736bee572904bb08214ea301688601536011b391b\n",
            "  Stored in directory: /root/.cache/pip/wheels/a3/5f/ba/ddd191edb6c749a63cffabd28714d5600b5b58014daf7434a8\n",
            "  Building wheel for support_developer (setup.py) ... \u001b[?25l\u001b[?25hdone\n",
            "  Created wheel for support_developer: filename=support_developer-1.0.5-py3-none-any.whl size=5650 sha256=cf06d6eb9da63dc540667ae331d9705c64427461f0c5d91c7f97bfbfe55544a6\n",
            "  Stored in directory: /root/.cache/pip/wheels/11/5e/63/51e84640e77a7dc5f1e5f5eb597e8f1bc730a2818ee5c3fc03\n",
            "  Building wheel for compress_json (setup.py) ... \u001b[?25l\u001b[?25hdone\n",
            "  Created wheel for compress_json: filename=compress_json-1.0.8-py3-none-any.whl size=4733 sha256=0d346d42b1b0ea617994ce5c8b085bffebabaddc098f0b2d267eb6dc623f541b\n",
            "  Stored in directory: /root/.cache/pip/wheels/fe/36/4b/69aaa23fc0ea813dc1f8cca3372bff314abed354cac20a1cb9\n",
            "Successfully built plot_keras_history sanitize_ml_labels support_developer compress_json\n",
            "Installing collected packages: support_developer, compress_json, sanitize_ml_labels, plot_keras_history\n",
            "Successfully installed compress_json-1.0.8 plot_keras_history-1.1.38 sanitize_ml_labels-1.0.50 support_developer-1.0.5\n"
          ]
        }
      ]
    },
    {
      "cell_type": "code",
      "execution_count": null,
      "id": "00086db5",
      "metadata": {
        "colab": {
          "base_uri": "https://localhost:8080/",
          "height": 601
        },
        "id": "00086db5",
        "outputId": "640f3815-be19-4067-bb10-962c72c463c5"
      },
      "outputs": [
        {
          "output_type": "execute_result",
          "data": {
            "text/plain": [
              "(<Figure size 1000x500 with 2 Axes>,\n",
              " array([<AxesSubplot:title={'center':'Loss'}, xlabel='Epochs', ylabel='Loss'>,\n",
              "        <AxesSubplot:title={'center':'Accuracy'}, xlabel='Epochs', ylabel='Accuracy'>],\n",
              "       dtype=object))"
            ]
          },
          "metadata": {},
          "execution_count": 17
        },
        {
          "output_type": "display_data",
          "data": {
            "text/plain": [
              "<Figure size 1000x500 with 2 Axes>"
            ],
            "image/png": "[encoded data removed]"
          },
          "metadata": {
            "needs_background": "light"
          }
        }
      ],
      "source": [
        "from plot_keras_history import show_history, plot_history\n",
        "import matplotlib.pyplot as plt\n",
        "plot_history(history)"
      ]
    },
    {
      "cell_type": "code",
      "execution_count": null,
      "id": "f1b2c021",
      "metadata": {
        "id": "f1b2c021"
      },
      "outputs": [],
      "source": [
        "import matplotlib.pyplot as plt\n",
        "import itertools\n",
        "import numpy as np\n",
        "\n",
        "def plot_confusion_matrix(cm, classes,\n",
        "                        normalize=False,\n",
        "                        title='Confusion matrix',\n",
        "                        cmap=plt.cm.Blues):\n",
        "    \"\"\"\n",
        "    This function prints and plots the confusion matrix.\n",
        "    Normalization can be applied by setting `normalize=True`.\n",
        "    \"\"\"\n",
        "    plt.imshow(cm, interpolation='nearest', cmap=cmap)\n",
        "    plt.title(title)\n",
        "    plt.colorbar()\n",
        "    tick_marks = np.arange(len(classes))\n",
        "    plt.xticks(tick_marks, classes, rotation=45)\n",
        "    plt.yticks(tick_marks, classes)\n",
        "\n",
        "    if normalize:\n",
        "        cm = cm.astype('float') / cm.sum(axis=1)[:, np.newaxis]\n",
        "        print(\"Normalized confusion matrix\")\n",
        "    else:\n",
        "        print('Confusion matrix, without normalization')\n",
        "\n",
        "    print(cm)\n",
        "\n",
        "    thresh = cm.max() / 2.\n",
        "    for i, j in itertools.product(range(cm.shape[0]), range(cm.shape[1])):\n",
        "        plt.text(j, i, cm[i, j],\n",
        "            horizontalalignment=\"center\",\n",
        "            color=\"white\" if cm[i, j] > thresh else \"black\")\n",
        "\n",
        "    plt.tight_layout()\n",
        "    plt.ylabel('True label')\n",
        "    plt.xlabel('Predicted label')\n",
        "    plt.show()"
      ]
    },
    {
      "cell_type": "code",
      "execution_count": null,
      "id": "02a912f5",
      "metadata": {
        "colab": {
          "base_uri": "https://localhost:8080/",
          "height": 583
        },
        "id": "02a912f5",
        "outputId": "d224b7ef-44b0-4e24-cd62-8329e5258288"
      },
      "outputs": [
        {
          "output_type": "stream",
          "name": "stdout",
          "text": [
            "Model Classification Report: \n",
            "\n",
            "66/66 [==============================] - 0s 2ms/step\n",
            "              precision    recall  f1-score   support\n",
            "\n",
            "           0       0.96      0.60      0.74      1049\n",
            "           1       0.71      0.97      0.82      1060\n",
            "\n",
            "    accuracy                           0.79      2109\n",
            "   macro avg       0.83      0.79      0.78      2109\n",
            "weighted avg       0.83      0.79      0.78      2109\n",
            "\n",
            "Confusion matrix, without normalization\n",
            "[[ 631  418]\n",
            " [  28 1032]]\n"
          ]
        },
        {
          "output_type": "display_data",
          "data": {
            "text/plain": [
              "<Figure size 432x288 with 2 Axes>"
            ],
            "image/png": "[encoded data removed]"
          },
          "metadata": {
            "needs_background": "light"
          }
        }
      ],
      "source": [
        "print(\"Model Classification Report: \\n\")\n",
        "y_pred = np.argmax(model.predict(X_test), axis=1)\n",
        "cm = confusion_matrix(np.argmax(y_test, axis=1), y_pred)\n",
        "print(classification_report(np.argmax(y_test, axis=1), y_pred))\n",
        "plot_confusion_matrix(cm, classes=[\"Does not have Wake Word\", \"Has Wake Word\"])"
      ]
    }
  ],
  "metadata": {
    "kernelspec": {
      "display_name": "Python 3 (ipykernel)",
      "language": "python",
      "name": "python3"
    },
    "language_info": {
      "codemirror_mode": {
        "name": "ipython",
        "version": 3
      },
      "file_extension": ".py",
      "mimetype": "text/x-python",
      "name": "python",
      "nbconvert_exporter": "python",
      "pygments_lexer": "ipython3",
      "version": "3.9.12"
    },
    "colab": {
      "provenance": []
    },
    "accelerator": "GPU",
    "gpuClass": "standard"
  },
  "nbformat": 4,
  "nbformat_minor": 5
}