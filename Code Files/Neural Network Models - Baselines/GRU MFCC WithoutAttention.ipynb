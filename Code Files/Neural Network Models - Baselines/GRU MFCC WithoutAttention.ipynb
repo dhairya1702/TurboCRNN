{
  "nbformat": 4,
  "nbformat_minor": 0,
  "metadata": {
    "colab": {
      "provenance": []
    },
    "kernelspec": {
      "name": "python3",
      "display_name": "Python 3"
    },
    "language_info": {
      "name": "python"
    },
    "gpuClass": "standard"
  },
  "cells": [
    {
      "cell_type": "code",
      "execution_count": null,
      "metadata": {
        "colab": {
          "base_uri": "https://localhost:8080/"
        },
        "id": "SANNUYcJSP0l",
        "outputId": "262062f5-723b-4174-c686-13abde37d27d"
      },
      "outputs": [
        {
          "output_type": "stream",
          "name": "stdout",
          "text": [
            "Mounted at /content/gdrive\n"
          ]
        }
      ],
      "source": [
        "from google.colab import drive\n",
        "drive.mount('/content/gdrive')"
      ]
    },
    {
      "cell_type": "code",
      "source": [
        "import os\n",
        "import numpy as np\n",
        "import pandas as pd\n",
        "import matplotlib.pyplot as plt\n",
        "import librosa, librosa.display\n",
        "\n",
        "import tensorflow as tf \n",
        "from sklearn.model_selection import train_test_split"
      ],
      "metadata": {
        "id": "eLL0gmwaSZ8q"
      },
      "execution_count": null,
      "outputs": []
    },
    {
      "cell_type": "code",
      "source": [
        "from tensorflow.keras import Sequential\n",
        "from tensorflow.keras.layers import Dense, Activation, Dropout, GRU, Input\n",
        "from sklearn.metrics import confusion_matrix, classification_report"
      ],
      "metadata": {
        "id": "ZGsWivExSdD9"
      },
      "execution_count": null,
      "outputs": []
    },
    {
      "cell_type": "code",
      "source": [
        "X_train = np.load('/content/gdrive/MyDrive/data/MFCC_Augmented2/X_train.npy')\n",
        "y_train = np.load('/content/gdrive/MyDrive/data/MFCC_Augmented2/y_train.npy')\n",
        "X_test = np.load('/content/gdrive/MyDrive/data/MFCC_Augmented2/X_test.npy')\n",
        "y_test = np.load('/content/gdrive/MyDrive/data/MFCC_Augmented2/y_test.npy')\n",
        "X_val = np.load('/content/gdrive/MyDrive/data/MFCC_Augmented2/X_val.npy')\n",
        "y_val = np.load('/content/gdrive/MyDrive/data/MFCC_Augmented2/y_val.npy')"
      ],
      "metadata": {
        "id": "0Kq84or6Sfqz"
      },
      "execution_count": null,
      "outputs": []
    },
    {
      "cell_type": "code",
      "source": [
        "print(X_train.shape, y_train.shape)\n",
        "print(X_test.shape, y_test.shape)\n",
        "print(X_val.shape, y_val.shape)"
      ],
      "metadata": {
        "colab": {
          "base_uri": "https://localhost:8080/"
        },
        "id": "yT10o_10ShvM",
        "outputId": "49029aec-bf33-45e5-9cec-850214484bae"
      },
      "execution_count": null,
      "outputs": [
        {
          "output_type": "stream",
          "name": "stdout",
          "text": [
            "(16893, 98) (16893, 2)\n",
            "(2109, 98) (2109, 2)\n",
            "(2088, 98) (2088, 2)\n"
          ]
        }
      ]
    },
    {
      "cell_type": "code",
      "source": [
        "model = tf.keras.Sequential()\n",
        "\n",
        "model.add(tf.keras.layers.GRU(128, return_sequences = False, input_shape = (98,1)))\n",
        "model.add(tf.keras.layers.Dense(64))\n",
        "model.add(tf.keras.layers.Dropout(0.5))\n",
        "model.add(tf.keras.layers.Activation('relu'))\n",
        "model.add(tf.keras.layers.Dense(32))\n",
        "model.add(tf.keras.layers.Dropout(0.5))\n",
        "model.add(tf.keras.layers.Activation('relu'))\n",
        "model.add(tf.keras.layers.Dense(2))\n",
        "model.add(tf.keras.layers.Activation('softmax'))\n",
        "print(model.summary())"
      ],
      "metadata": {
        "colab": {
          "base_uri": "https://localhost:8080/"
        },
        "id": "VTbs6Ji1Skoi",
        "outputId": "0bcfcf72-4089-48d8-835f-7ec447700238"
      },
      "execution_count": null,
      "outputs": [
        {
          "output_type": "stream",
          "name": "stdout",
          "text": [
            "Model: \"sequential\"\n",
            "_________________________________________________________________\n",
            " Layer (type)                Output Shape              Param #   \n",
            "=================================================================\n",
            " gru (GRU)                   (None, 128)               50304     \n",
            "                                                                 \n",
            " dense (Dense)               (None, 64)                8256      \n",
            "                                                                 \n",
            " dropout (Dropout)           (None, 64)                0         \n",
            "                                                                 \n",
            " activation (Activation)     (None, 64)                0         \n",
            "                                                                 \n",
            " dense_1 (Dense)             (None, 32)                2080      \n",
            "                                                                 \n",
            " dropout_1 (Dropout)         (None, 32)                0         \n",
            "                                                                 \n",
            " activation_1 (Activation)   (None, 32)                0         \n",
            "                                                                 \n",
            " dense_2 (Dense)             (None, 2)                 66        \n",
            "                                                                 \n",
            " activation_2 (Activation)   (None, 2)                 0         \n",
            "                                                                 \n",
            "=================================================================\n",
            "Total params: 60,706\n",
            "Trainable params: 60,706\n",
            "Non-trainable params: 0\n",
            "_________________________________________________________________\n",
            "None\n"
          ]
        }
      ]
    },
    {
      "cell_type": "code",
      "source": [
        "optimizer=tf.keras.optimizers.Adam(amsgrad=True, name='Adam')"
      ],
      "metadata": {
        "id": "k-zdH__4CPxM"
      },
      "execution_count": null,
      "outputs": []
    },
    {
      "cell_type": "code",
      "source": [
        "model.compile(\n",
        "    loss=\"categorical_crossentropy\",\n",
        "    optimizer = optimizer,\n",
        "    metrics=['accuracy']\n",
        ")"
      ],
      "metadata": {
        "id": "-yIJqsWiSm1-"
      },
      "execution_count": null,
      "outputs": []
    },
    {
      "cell_type": "code",
      "source": [
        "print(\"Model Score: \\n\")\n",
        "history = model.fit(X_train, y_train, validation_data = (X_val, y_val), epochs = 120, shuffle = False)"
      ],
      "metadata": {
        "colab": {
          "base_uri": "https://localhost:8080/"
        },
        "id": "UMUPkLZ5htNZ",
        "outputId": "d74ad1d4-30a1-48dd-cd17-a7832afd3375"
      },
      "execution_count": null,
      "outputs": [
        {
          "output_type": "stream",
          "name": "stdout",
          "text": [
            "Model Score: \n",
            "\n",
            "Epoch 1/120\n",
            "528/528 [==============================] - 39s 69ms/step - loss: 0.6958 - accuracy: 0.5098 - val_loss: 0.6930 - val_accuracy: 0.5153\n",
            "Epoch 2/120\n",
            "528/528 [==============================] - 35s 67ms/step - loss: 0.6931 - accuracy: 0.5039 - val_loss: 0.6931 - val_accuracy: 0.4943\n",
            "Epoch 3/120\n",
            "528/528 [==============================] - 35s 66ms/step - loss: 0.6933 - accuracy: 0.5001 - val_loss: 0.6932 - val_accuracy: 0.4943\n",
            "Epoch 4/120\n",
            "528/528 [==============================] - 36s 67ms/step - loss: 0.6932 - accuracy: 0.5016 - val_loss: 0.6932 - val_accuracy: 0.4943\n",
            "Epoch 5/120\n",
            "528/528 [==============================] - 36s 68ms/step - loss: 0.6931 - accuracy: 0.5001 - val_loss: 0.6931 - val_accuracy: 0.4943\n",
            "Epoch 6/120\n",
            "528/528 [==============================] - 35s 67ms/step - loss: 0.6932 - accuracy: 0.5028 - val_loss: 0.6933 - val_accuracy: 0.4943\n",
            "Epoch 7/120\n",
            "528/528 [==============================] - 34s 65ms/step - loss: 0.6931 - accuracy: 0.5048 - val_loss: 0.6932 - val_accuracy: 0.4943\n",
            "Epoch 8/120\n",
            "528/528 [==============================] - 35s 66ms/step - loss: 0.6931 - accuracy: 0.5055 - val_loss: 0.6931 - val_accuracy: 0.4943\n",
            "Epoch 9/120\n",
            "528/528 [==============================] - 36s 68ms/step - loss: 0.6928 - accuracy: 0.5057 - val_loss: 0.6912 - val_accuracy: 0.5062\n",
            "Epoch 10/120\n",
            "528/528 [==============================] - 36s 69ms/step - loss: 0.6918 - accuracy: 0.5213 - val_loss: 0.6798 - val_accuracy: 0.5781\n",
            "Epoch 11/120\n",
            "528/528 [==============================] - 34s 65ms/step - loss: 0.6829 - accuracy: 0.5404 - val_loss: 0.6929 - val_accuracy: 0.5599\n",
            "Epoch 12/120\n",
            "528/528 [==============================] - 36s 68ms/step - loss: 0.6918 - accuracy: 0.5290 - val_loss: 0.6877 - val_accuracy: 0.6039\n",
            "Epoch 13/120\n",
            "528/528 [==============================] - 36s 68ms/step - loss: 0.6828 - accuracy: 0.5622 - val_loss: 0.6575 - val_accuracy: 0.6245\n",
            "Epoch 14/120\n",
            "528/528 [==============================] - 36s 68ms/step - loss: 0.6263 - accuracy: 0.6300 - val_loss: 0.5476 - val_accuracy: 0.7193\n",
            "Epoch 15/120\n",
            "528/528 [==============================] - 35s 66ms/step - loss: 0.5326 - accuracy: 0.7363 - val_loss: 0.5161 - val_accuracy: 0.7567\n",
            "Epoch 16/120\n",
            "528/528 [==============================] - 38s 71ms/step - loss: 0.4726 - accuracy: 0.7858 - val_loss: 0.4302 - val_accuracy: 0.8099\n",
            "Epoch 17/120\n",
            "528/528 [==============================] - 36s 68ms/step - loss: 0.4113 - accuracy: 0.8247 - val_loss: 0.4208 - val_accuracy: 0.8036\n",
            "Epoch 18/120\n",
            "528/528 [==============================] - 36s 68ms/step - loss: 0.3717 - accuracy: 0.8435 - val_loss: 0.3431 - val_accuracy: 0.8558\n",
            "Epoch 19/120\n",
            "528/528 [==============================] - 35s 67ms/step - loss: 0.3438 - accuracy: 0.8550 - val_loss: 0.3182 - val_accuracy: 0.8616\n",
            "Epoch 20/120\n",
            "528/528 [==============================] - 36s 69ms/step - loss: 0.3255 - accuracy: 0.8625 - val_loss: 0.2916 - val_accuracy: 0.8683\n",
            "Epoch 21/120\n",
            "528/528 [==============================] - 36s 68ms/step - loss: 0.3178 - accuracy: 0.8676 - val_loss: 0.2881 - val_accuracy: 0.8755\n",
            "Epoch 22/120\n",
            "528/528 [==============================] - 38s 72ms/step - loss: 0.3061 - accuracy: 0.8722 - val_loss: 0.2758 - val_accuracy: 0.8755\n",
            "Epoch 23/120\n",
            "528/528 [==============================] - 39s 73ms/step - loss: 0.2993 - accuracy: 0.8747 - val_loss: 0.2759 - val_accuracy: 0.8774\n",
            "Epoch 24/120\n",
            "528/528 [==============================] - 38s 72ms/step - loss: 0.2942 - accuracy: 0.8785 - val_loss: 0.2653 - val_accuracy: 0.8913\n",
            "Epoch 25/120\n",
            "528/528 [==============================] - 39s 75ms/step - loss: 0.2827 - accuracy: 0.8808 - val_loss: 0.2629 - val_accuracy: 0.8875\n",
            "Epoch 26/120\n",
            "528/528 [==============================] - 41s 77ms/step - loss: 0.2816 - accuracy: 0.8794 - val_loss: 0.2764 - val_accuracy: 0.8865\n",
            "Epoch 27/120\n",
            "528/528 [==============================] - 40s 77ms/step - loss: 0.2806 - accuracy: 0.8791 - val_loss: 0.2738 - val_accuracy: 0.8831\n",
            "Epoch 28/120\n",
            "528/528 [==============================] - 41s 78ms/step - loss: 0.2734 - accuracy: 0.8842 - val_loss: 0.2627 - val_accuracy: 0.8788\n",
            "Epoch 29/120\n",
            "528/528 [==============================] - 39s 73ms/step - loss: 0.2634 - accuracy: 0.8920 - val_loss: 0.2496 - val_accuracy: 0.8879\n",
            "Epoch 30/120\n",
            "528/528 [==============================] - 40s 76ms/step - loss: 0.2635 - accuracy: 0.8887 - val_loss: 0.2489 - val_accuracy: 0.8875\n",
            "Epoch 31/120\n",
            "528/528 [==============================] - 38s 73ms/step - loss: 0.2555 - accuracy: 0.8932 - val_loss: 0.2611 - val_accuracy: 0.8827\n",
            "Epoch 32/120\n",
            "528/528 [==============================] - 42s 79ms/step - loss: 0.2506 - accuracy: 0.8938 - val_loss: 0.2464 - val_accuracy: 0.8989\n",
            "Epoch 33/120\n",
            "528/528 [==============================] - 40s 76ms/step - loss: 0.2449 - accuracy: 0.8920 - val_loss: 0.2414 - val_accuracy: 0.8927\n",
            "Epoch 34/120\n",
            "528/528 [==============================] - 40s 75ms/step - loss: 0.2447 - accuracy: 0.8945 - val_loss: 0.2452 - val_accuracy: 0.8961\n",
            "Epoch 35/120\n",
            "528/528 [==============================] - 39s 73ms/step - loss: 0.2342 - accuracy: 0.9001 - val_loss: 0.2463 - val_accuracy: 0.8946\n",
            "Epoch 36/120\n",
            "528/528 [==============================] - 38s 73ms/step - loss: 0.2365 - accuracy: 0.8979 - val_loss: 0.2487 - val_accuracy: 0.9033\n",
            "Epoch 37/120\n",
            "528/528 [==============================] - 39s 73ms/step - loss: 0.2299 - accuracy: 0.9011 - val_loss: 0.2361 - val_accuracy: 0.8937\n",
            "Epoch 38/120\n",
            "528/528 [==============================] - 38s 73ms/step - loss: 0.2265 - accuracy: 0.9049 - val_loss: 0.2294 - val_accuracy: 0.9061\n",
            "Epoch 39/120\n",
            "528/528 [==============================] - 39s 74ms/step - loss: 0.2226 - accuracy: 0.9023 - val_loss: 0.2348 - val_accuracy: 0.8966\n",
            "Epoch 40/120\n",
            "528/528 [==============================] - 40s 75ms/step - loss: 0.2201 - accuracy: 0.9107 - val_loss: 0.2380 - val_accuracy: 0.9037\n",
            "Epoch 41/120\n",
            "528/528 [==============================] - 38s 73ms/step - loss: 0.2095 - accuracy: 0.9106 - val_loss: 0.2261 - val_accuracy: 0.9109\n",
            "Epoch 42/120\n",
            "528/528 [==============================] - 39s 74ms/step - loss: 0.2081 - accuracy: 0.9100 - val_loss: 0.2162 - val_accuracy: 0.9143\n",
            "Epoch 43/120\n",
            "528/528 [==============================] - 39s 73ms/step - loss: 0.2029 - accuracy: 0.9150 - val_loss: 0.2322 - val_accuracy: 0.9095\n",
            "Epoch 44/120\n",
            "528/528 [==============================] - 38s 72ms/step - loss: 0.2022 - accuracy: 0.9118 - val_loss: 0.2104 - val_accuracy: 0.9152\n",
            "Epoch 45/120\n",
            "528/528 [==============================] - 40s 75ms/step - loss: 0.2023 - accuracy: 0.9143 - val_loss: 0.2120 - val_accuracy: 0.9114\n",
            "Epoch 46/120\n",
            "528/528 [==============================] - 39s 74ms/step - loss: 0.1912 - accuracy: 0.9191 - val_loss: 0.2120 - val_accuracy: 0.9128\n",
            "Epoch 47/120\n",
            "528/528 [==============================] - 39s 74ms/step - loss: 0.1908 - accuracy: 0.9192 - val_loss: 0.2266 - val_accuracy: 0.9061\n",
            "Epoch 48/120\n",
            "528/528 [==============================] - 39s 74ms/step - loss: 0.1803 - accuracy: 0.9225 - val_loss: 0.2249 - val_accuracy: 0.9162\n",
            "Epoch 49/120\n",
            "528/528 [==============================] - 39s 74ms/step - loss: 0.1759 - accuracy: 0.9266 - val_loss: 0.2081 - val_accuracy: 0.9200\n",
            "Epoch 50/120\n",
            "528/528 [==============================] - 39s 74ms/step - loss: 0.1729 - accuracy: 0.9284 - val_loss: 0.2090 - val_accuracy: 0.9138\n",
            "Epoch 51/120\n",
            "528/528 [==============================] - 40s 75ms/step - loss: 0.1845 - accuracy: 0.9232 - val_loss: 0.2262 - val_accuracy: 0.9095\n",
            "Epoch 52/120\n",
            "528/528 [==============================] - 39s 73ms/step - loss: 0.1703 - accuracy: 0.9285 - val_loss: 0.2088 - val_accuracy: 0.9181\n",
            "Epoch 53/120\n",
            "528/528 [==============================] - 40s 75ms/step - loss: 0.1647 - accuracy: 0.9285 - val_loss: 0.2077 - val_accuracy: 0.9219\n",
            "Epoch 54/120\n",
            "528/528 [==============================] - 40s 75ms/step - loss: 0.1712 - accuracy: 0.9287 - val_loss: 0.1959 - val_accuracy: 0.9267\n",
            "Epoch 55/120\n",
            "528/528 [==============================] - 39s 73ms/step - loss: 0.1576 - accuracy: 0.9343 - val_loss: 0.2002 - val_accuracy: 0.9229\n",
            "Epoch 56/120\n",
            "528/528 [==============================] - 38s 73ms/step - loss: 0.1463 - accuracy: 0.9400 - val_loss: 0.1969 - val_accuracy: 0.9258\n",
            "Epoch 57/120\n",
            "528/528 [==============================] - 40s 76ms/step - loss: 0.1641 - accuracy: 0.9339 - val_loss: 0.2207 - val_accuracy: 0.9200\n",
            "Epoch 58/120\n",
            "528/528 [==============================] - 38s 73ms/step - loss: 0.1487 - accuracy: 0.9374 - val_loss: 0.1997 - val_accuracy: 0.9205\n",
            "Epoch 59/120\n",
            "528/528 [==============================] - 40s 75ms/step - loss: 0.1481 - accuracy: 0.9400 - val_loss: 0.1945 - val_accuracy: 0.9191\n",
            "Epoch 60/120\n",
            "528/528 [==============================] - 42s 79ms/step - loss: 0.1418 - accuracy: 0.9432 - val_loss: 0.2201 - val_accuracy: 0.9205\n",
            "Epoch 61/120\n",
            "528/528 [==============================] - 41s 77ms/step - loss: 0.1362 - accuracy: 0.9420 - val_loss: 0.2164 - val_accuracy: 0.9253\n",
            "Epoch 62/120\n",
            "528/528 [==============================] - 40s 76ms/step - loss: 0.1378 - accuracy: 0.9431 - val_loss: 0.1985 - val_accuracy: 0.9296\n",
            "Epoch 63/120\n",
            "528/528 [==============================] - 41s 77ms/step - loss: 0.1253 - accuracy: 0.9471 - val_loss: 0.2160 - val_accuracy: 0.9224\n",
            "Epoch 64/120\n",
            "528/528 [==============================] - 38s 72ms/step - loss: 0.1466 - accuracy: 0.9381 - val_loss: 0.2022 - val_accuracy: 0.9229\n",
            "Epoch 65/120\n",
            "528/528 [==============================] - 39s 74ms/step - loss: 0.1334 - accuracy: 0.9462 - val_loss: 0.1942 - val_accuracy: 0.9248\n",
            "Epoch 66/120\n",
            "528/528 [==============================] - 39s 73ms/step - loss: 0.1280 - accuracy: 0.9464 - val_loss: 0.2336 - val_accuracy: 0.9267\n",
            "Epoch 67/120\n",
            "528/528 [==============================] - 39s 74ms/step - loss: 0.1352 - accuracy: 0.9441 - val_loss: 0.2132 - val_accuracy: 0.9176\n",
            "Epoch 68/120\n",
            "528/528 [==============================] - 39s 74ms/step - loss: 0.1196 - accuracy: 0.9495 - val_loss: 0.2240 - val_accuracy: 0.9253\n",
            "Epoch 69/120\n",
            "528/528 [==============================] - 40s 75ms/step - loss: 0.1174 - accuracy: 0.9528 - val_loss: 0.2234 - val_accuracy: 0.9200\n",
            "Epoch 70/120\n",
            "528/528 [==============================] - 38s 72ms/step - loss: 0.1075 - accuracy: 0.9541 - val_loss: 0.2337 - val_accuracy: 0.9277\n",
            "Epoch 71/120\n",
            "528/528 [==============================] - 39s 73ms/step - loss: 0.1299 - accuracy: 0.9471 - val_loss: 0.2134 - val_accuracy: 0.9224\n",
            "Epoch 72/120\n",
            "528/528 [==============================] - 38s 72ms/step - loss: 0.1193 - accuracy: 0.9523 - val_loss: 0.2534 - val_accuracy: 0.9191\n",
            "Epoch 73/120\n",
            "528/528 [==============================] - 38s 72ms/step - loss: 0.1131 - accuracy: 0.9534 - val_loss: 0.2324 - val_accuracy: 0.9234\n",
            "Epoch 74/120\n",
            "528/528 [==============================] - 40s 76ms/step - loss: 0.1033 - accuracy: 0.9572 - val_loss: 0.2378 - val_accuracy: 0.9296\n",
            "Epoch 75/120\n",
            "528/528 [==============================] - 38s 72ms/step - loss: 0.1382 - accuracy: 0.9460 - val_loss: 0.2290 - val_accuracy: 0.9306\n",
            "Epoch 76/120\n",
            "528/528 [==============================] - 38s 73ms/step - loss: 0.0932 - accuracy: 0.9609 - val_loss: 0.2732 - val_accuracy: 0.9239\n",
            "Epoch 77/120\n",
            "528/528 [==============================] - 39s 74ms/step - loss: 0.0940 - accuracy: 0.9604 - val_loss: 0.2397 - val_accuracy: 0.9291\n",
            "Epoch 78/120\n",
            "528/528 [==============================] - 38s 72ms/step - loss: 0.1237 - accuracy: 0.9538 - val_loss: 0.1939 - val_accuracy: 0.9358\n",
            "Epoch 79/120\n",
            "528/528 [==============================] - 39s 74ms/step - loss: 0.1057 - accuracy: 0.9586 - val_loss: 0.2017 - val_accuracy: 0.9334\n",
            "Epoch 80/120\n",
            "528/528 [==============================] - 41s 78ms/step - loss: 0.0859 - accuracy: 0.9651 - val_loss: 0.2682 - val_accuracy: 0.9286\n",
            "Epoch 81/120\n",
            "528/528 [==============================] - 40s 76ms/step - loss: 0.0914 - accuracy: 0.9629 - val_loss: 0.2702 - val_accuracy: 0.9224\n",
            "Epoch 82/120\n",
            "528/528 [==============================] - 41s 78ms/step - loss: 0.0856 - accuracy: 0.9654 - val_loss: 0.2670 - val_accuracy: 0.9330\n",
            "Epoch 83/120\n",
            "528/528 [==============================] - 39s 74ms/step - loss: 0.0930 - accuracy: 0.9650 - val_loss: 0.2534 - val_accuracy: 0.9301\n",
            "Epoch 84/120\n",
            "528/528 [==============================] - 40s 75ms/step - loss: 0.0850 - accuracy: 0.9655 - val_loss: 0.2753 - val_accuracy: 0.9339\n",
            "Epoch 85/120\n",
            "528/528 [==============================] - 43s 82ms/step - loss: 0.0964 - accuracy: 0.9612 - val_loss: 0.2290 - val_accuracy: 0.9262\n",
            "Epoch 86/120\n",
            "528/528 [==============================] - 42s 80ms/step - loss: 0.0858 - accuracy: 0.9658 - val_loss: 0.2831 - val_accuracy: 0.9286\n",
            "Epoch 87/120\n",
            "528/528 [==============================] - 40s 76ms/step - loss: 0.0884 - accuracy: 0.9642 - val_loss: 0.2539 - val_accuracy: 0.9310\n",
            "Epoch 88/120\n",
            "528/528 [==============================] - 40s 76ms/step - loss: 0.0842 - accuracy: 0.9655 - val_loss: 0.2414 - val_accuracy: 0.9363\n",
            "Epoch 89/120\n",
            "528/528 [==============================] - 39s 74ms/step - loss: 0.0733 - accuracy: 0.9706 - val_loss: 0.2729 - val_accuracy: 0.9315\n",
            "Epoch 90/120\n",
            "528/528 [==============================] - 40s 75ms/step - loss: 0.0784 - accuracy: 0.9687 - val_loss: 0.2485 - val_accuracy: 0.9306\n",
            "Epoch 91/120\n",
            "528/528 [==============================] - 41s 78ms/step - loss: 0.0798 - accuracy: 0.9674 - val_loss: 0.3131 - val_accuracy: 0.9286\n",
            "Epoch 92/120\n",
            "528/528 [==============================] - 39s 74ms/step - loss: 0.0799 - accuracy: 0.9700 - val_loss: 0.2849 - val_accuracy: 0.9277\n",
            "Epoch 93/120\n",
            "528/528 [==============================] - 39s 74ms/step - loss: 0.0757 - accuracy: 0.9716 - val_loss: 0.2525 - val_accuracy: 0.9349\n",
            "Epoch 94/120\n",
            "528/528 [==============================] - 39s 74ms/step - loss: 0.0675 - accuracy: 0.9727 - val_loss: 0.2980 - val_accuracy: 0.9373\n",
            "Epoch 95/120\n",
            "528/528 [==============================] - 39s 73ms/step - loss: 0.0691 - accuracy: 0.9723 - val_loss: 0.2587 - val_accuracy: 0.9373\n",
            "Epoch 96/120\n",
            "528/528 [==============================] - 39s 74ms/step - loss: 0.0782 - accuracy: 0.9695 - val_loss: 0.2818 - val_accuracy: 0.9320\n",
            "Epoch 97/120\n",
            "528/528 [==============================] - 40s 76ms/step - loss: 0.0726 - accuracy: 0.9713 - val_loss: 0.2910 - val_accuracy: 0.9339\n",
            "Epoch 98/120\n",
            "528/528 [==============================] - 40s 77ms/step - loss: 0.0656 - accuracy: 0.9737 - val_loss: 0.2689 - val_accuracy: 0.9330\n",
            "Epoch 99/120\n",
            "528/528 [==============================] - 40s 75ms/step - loss: 0.0676 - accuracy: 0.9748 - val_loss: 0.2996 - val_accuracy: 0.9330\n",
            "Epoch 100/120\n",
            "528/528 [==============================] - 39s 75ms/step - loss: 0.0602 - accuracy: 0.9761 - val_loss: 0.3376 - val_accuracy: 0.9353\n",
            "Epoch 101/120\n",
            "528/528 [==============================] - 40s 76ms/step - loss: 0.1023 - accuracy: 0.9620 - val_loss: 0.2827 - val_accuracy: 0.9377\n",
            "Epoch 102/120\n",
            "528/528 [==============================] - 41s 77ms/step - loss: 0.0570 - accuracy: 0.9774 - val_loss: 0.3486 - val_accuracy: 0.9310\n",
            "Epoch 103/120\n",
            "528/528 [==============================] - 40s 76ms/step - loss: 0.0664 - accuracy: 0.9752 - val_loss: 0.3249 - val_accuracy: 0.9334\n",
            "Epoch 104/120\n",
            "528/528 [==============================] - 40s 75ms/step - loss: 0.0545 - accuracy: 0.9789 - val_loss: 0.3091 - val_accuracy: 0.9310\n",
            "Epoch 105/120\n",
            "528/528 [==============================] - 41s 77ms/step - loss: 0.0595 - accuracy: 0.9760 - val_loss: 0.3352 - val_accuracy: 0.9334\n",
            "Epoch 106/120\n",
            "528/528 [==============================] - 42s 79ms/step - loss: 0.0657 - accuracy: 0.9751 - val_loss: 0.2663 - val_accuracy: 0.9353\n",
            "Epoch 107/120\n",
            "528/528 [==============================] - 41s 79ms/step - loss: 0.0507 - accuracy: 0.9796 - val_loss: 0.3534 - val_accuracy: 0.9387\n",
            "Epoch 108/120\n",
            "528/528 [==============================] - 42s 80ms/step - loss: 0.0709 - accuracy: 0.9744 - val_loss: 0.2894 - val_accuracy: 0.9013\n",
            "Epoch 109/120\n",
            "528/528 [==============================] - 42s 79ms/step - loss: 0.0560 - accuracy: 0.9784 - val_loss: 0.3517 - val_accuracy: 0.9344\n",
            "Epoch 110/120\n",
            "528/528 [==============================] - 41s 78ms/step - loss: 0.0603 - accuracy: 0.9779 - val_loss: 0.2827 - val_accuracy: 0.9420\n",
            "Epoch 111/120\n",
            "528/528 [==============================] - 40s 75ms/step - loss: 0.0635 - accuracy: 0.9765 - val_loss: 0.2988 - val_accuracy: 0.9334\n",
            "Epoch 112/120\n",
            "528/528 [==============================] - 40s 75ms/step - loss: 0.0599 - accuracy: 0.9773 - val_loss: 0.3219 - val_accuracy: 0.9325\n",
            "Epoch 113/120\n",
            "528/528 [==============================] - 41s 78ms/step - loss: 0.0507 - accuracy: 0.9803 - val_loss: 0.3231 - val_accuracy: 0.9373\n",
            "Epoch 114/120\n",
            "528/528 [==============================] - 43s 82ms/step - loss: 0.0410 - accuracy: 0.9845 - val_loss: 0.3464 - val_accuracy: 0.9373\n",
            "Epoch 115/120\n",
            "528/528 [==============================] - 42s 80ms/step - loss: 0.0420 - accuracy: 0.9841 - val_loss: 0.3374 - val_accuracy: 0.9368\n",
            "Epoch 116/120\n",
            "528/528 [==============================] - 43s 82ms/step - loss: 0.0600 - accuracy: 0.9775 - val_loss: 0.3194 - val_accuracy: 0.9377\n",
            "Epoch 117/120\n",
            "528/528 [==============================] - 44s 84ms/step - loss: 0.0468 - accuracy: 0.9827 - val_loss: 0.3510 - val_accuracy: 0.9363\n",
            "Epoch 118/120\n",
            "528/528 [==============================] - 43s 81ms/step - loss: 0.0598 - accuracy: 0.9790 - val_loss: 0.3404 - val_accuracy: 0.9425\n",
            "Epoch 119/120\n",
            "528/528 [==============================] - 41s 77ms/step - loss: 0.0456 - accuracy: 0.9829 - val_loss: 0.2996 - val_accuracy: 0.9392\n",
            "Epoch 120/120\n",
            "528/528 [==============================] - 42s 79ms/step - loss: 0.0414 - accuracy: 0.9836 - val_loss: 0.3796 - val_accuracy: 0.9382\n"
          ]
        }
      ]
    },
    {
      "cell_type": "code",
      "source": [
        "model.save(\"/content/gdrive/MyDrive/Models/RNN-GRU-WithoutAttention.h5\")\n",
        "score = model.evaluate(X_test, y_test)\n",
        "print(score)"
      ],
      "metadata": {
        "colab": {
          "base_uri": "https://localhost:8080/"
        },
        "id": "A0GDwHCxVFOA",
        "outputId": "7757fd41-e222-48f8-974e-b2113e8bdc7b"
      },
      "execution_count": null,
      "outputs": [
        {
          "output_type": "stream",
          "name": "stdout",
          "text": [
            "66/66 [==============================] - 1s 19ms/step - loss: 0.3165 - accuracy: 0.9431\n",
            "[0.3164730668067932, 0.9431009888648987]\n"
          ]
        }
      ]
    },
    {
      "cell_type": "code",
      "source": [
        "pip install plot_keras_history"
      ],
      "metadata": {
        "colab": {
          "base_uri": "https://localhost:8080/"
        },
        "id": "audvVlppvQfE",
        "outputId": "e05c382f-7477-4028-9764-19c2c4d7881e"
      },
      "execution_count": null,
      "outputs": [
        {
          "output_type": "stream",
          "name": "stdout",
          "text": [
            "Looking in indexes: https://pypi.org/simple, https://us-python.pkg.dev/colab-wheels/public/simple/\n",
            "Collecting plot_keras_history\n",
            "  Downloading plot_keras_history-1.1.38.tar.gz (11 kB)\n",
            "  Preparing metadata (setup.py) ... \u001b[?25l\u001b[?25hdone\n",
            "Requirement already satisfied: matplotlib in /usr/local/lib/python3.8/dist-packages (from plot_keras_history) (3.5.3)\n",
            "Requirement already satisfied: pandas in /usr/local/lib/python3.8/dist-packages (from plot_keras_history) (1.3.5)\n",
            "Requirement already satisfied: scipy in /usr/local/lib/python3.8/dist-packages (from plot_keras_history) (1.7.3)\n",
            "Collecting support_developer>=1.0.2\n",
            "  Downloading support_developer-1.0.5.tar.gz (4.9 kB)\n",
            "  Preparing metadata (setup.py) ... \u001b[?25l\u001b[?25hdone\n",
            "Collecting sanitize_ml_labels>=1.0.48\n",
            "  Downloading sanitize_ml_labels-1.0.50.tar.gz (322 kB)\n",
            "\u001b[2K     \u001b[90m━━━━━━━━━━━━━━━━━━━━━━━━━━━━━━━━━━━━━━━\u001b[0m \u001b[32m322.1/322.1 KB\u001b[0m \u001b[31m6.7 MB/s\u001b[0m eta \u001b[36m0:00:00\u001b[0m\n",
            "\u001b[?25h  Preparing metadata (setup.py) ... \u001b[?25l\u001b[?25hdone\n",
            "Collecting compress_json\n",
            "  Downloading compress_json-1.0.8.tar.gz (4.7 kB)\n",
            "  Preparing metadata (setup.py) ... \u001b[?25l\u001b[?25hdone\n",
            "Requirement already satisfied: fonttools>=4.22.0 in /usr/local/lib/python3.8/dist-packages (from matplotlib->plot_keras_history) (4.38.0)\n",
            "Requirement already satisfied: python-dateutil>=2.7 in /usr/local/lib/python3.8/dist-packages (from matplotlib->plot_keras_history) (2.8.2)\n",
            "Requirement already satisfied: pyparsing>=2.2.1 in /usr/local/lib/python3.8/dist-packages (from matplotlib->plot_keras_history) (3.0.9)\n",
            "Requirement already satisfied: cycler>=0.10 in /usr/local/lib/python3.8/dist-packages (from matplotlib->plot_keras_history) (0.11.0)\n",
            "Requirement already satisfied: packaging>=20.0 in /usr/local/lib/python3.8/dist-packages (from matplotlib->plot_keras_history) (23.0)\n",
            "Requirement already satisfied: pillow>=6.2.0 in /usr/local/lib/python3.8/dist-packages (from matplotlib->plot_keras_history) (7.1.2)\n",
            "Requirement already satisfied: kiwisolver>=1.0.1 in /usr/local/lib/python3.8/dist-packages (from matplotlib->plot_keras_history) (1.4.4)\n",
            "Requirement already satisfied: numpy>=1.17 in /usr/local/lib/python3.8/dist-packages (from matplotlib->plot_keras_history) (1.22.4)\n",
            "Requirement already satisfied: pytz>=2017.3 in /usr/local/lib/python3.8/dist-packages (from pandas->plot_keras_history) (2022.7.1)\n",
            "Requirement already satisfied: six>=1.5 in /usr/local/lib/python3.8/dist-packages (from python-dateutil>=2.7->matplotlib->plot_keras_history) (1.15.0)\n",
            "Building wheels for collected packages: plot_keras_history, sanitize_ml_labels, support_developer, compress_json\n",
            "  Building wheel for plot_keras_history (setup.py) ... \u001b[?25l\u001b[?25hdone\n",
            "  Created wheel for plot_keras_history: filename=plot_keras_history-1.1.38-py3-none-any.whl size=9472 sha256=e9b25f61f1f5701b379ceff758dbd5172430af35306b074473571485a4d9fcef\n",
            "  Stored in directory: /root/.cache/pip/wheels/97/a5/76/35ae3e15da1ce4530de8591b0bcd7716f6d6752a4808f01c04\n",
            "  Building wheel for sanitize_ml_labels (setup.py) ... \u001b[?25l\u001b[?25hdone\n",
            "  Created wheel for sanitize_ml_labels: filename=sanitize_ml_labels-1.0.50-py3-none-any.whl size=320514 sha256=9be2c8d4c51586f8717db328ec10690fbe3b8007f3aaee968feea736a84d2387\n",
            "  Stored in directory: /root/.cache/pip/wheels/a3/5f/ba/ddd191edb6c749a63cffabd28714d5600b5b58014daf7434a8\n",
            "  Building wheel for support_developer (setup.py) ... \u001b[?25l\u001b[?25hdone\n",
            "  Created wheel for support_developer: filename=support_developer-1.0.5-py3-none-any.whl size=5650 sha256=1796e5ce79483633b5ed7aa3f0212a2db08705dc1470763f0fe884f8e5a90f5c\n",
            "  Stored in directory: /root/.cache/pip/wheels/11/5e/63/51e84640e77a7dc5f1e5f5eb597e8f1bc730a2818ee5c3fc03\n",
            "  Building wheel for compress_json (setup.py) ... \u001b[?25l\u001b[?25hdone\n",
            "  Created wheel for compress_json: filename=compress_json-1.0.8-py3-none-any.whl size=4733 sha256=f66a9ec68a3ea04e7be7a9fd0574ae521d0dc8bbe87ecd63b34dc957691aab51\n",
            "  Stored in directory: /root/.cache/pip/wheels/fe/36/4b/69aaa23fc0ea813dc1f8cca3372bff314abed354cac20a1cb9\n",
            "Successfully built plot_keras_history sanitize_ml_labels support_developer compress_json\n",
            "Installing collected packages: support_developer, compress_json, sanitize_ml_labels, plot_keras_history\n",
            "Successfully installed compress_json-1.0.8 plot_keras_history-1.1.38 sanitize_ml_labels-1.0.50 support_developer-1.0.5\n"
          ]
        }
      ]
    },
    {
      "cell_type": "code",
      "source": [
        "from plot_keras_history import show_history, plot_history\n",
        "plot_history(history)"
      ],
      "metadata": {
        "colab": {
          "base_uri": "https://localhost:8080/",
          "height": 597
        },
        "id": "esfMhDOhXDyI",
        "outputId": "fd64f051-b0c0-4b6f-cdb4-1e7e751a0857"
      },
      "execution_count": null,
      "outputs": [
        {
          "output_type": "execute_result",
          "data": {
            "text/plain": [
              "(<Figure size 1000x500 with 2 Axes>,\n",
              " array([<AxesSubplot:title={'center':'Loss'}, xlabel='Epochs', ylabel='Loss'>,\n",
              "        <AxesSubplot:title={'center':'Accuracy'}, xlabel='Epochs', ylabel='Accuracy'>],\n",
              "       dtype=object))"
            ]
          },
          "metadata": {},
          "execution_count": 25
        },
        {
          "output_type": "display_data",
          "data": {
            "text/plain": [
              "<Figure size 1000x500 with 2 Axes>"
            ],
            "image/png": "[encoded data removed]"
          },
          "metadata": {
            "needs_background": "light"
          }
        }
      ]
    },
    {
      "cell_type": "code",
      "source": [
        "import matplotlib.pyplot as plt\n",
        "import itertools\n",
        "import numpy as np\n",
        "\n",
        "def plot_confusion_matrix(cm, classes,\n",
        "                        normalize=False,\n",
        "                        title='Confusion matrix',\n",
        "                        cmap=plt.cm.Blues):\n",
        "    \"\"\"\n",
        "    This function prints and plots the confusion matrix.\n",
        "    Normalization can be applied by setting `normalize=True`.\n",
        "    \"\"\"\n",
        "    plt.imshow(cm, interpolation='nearest', cmap=cmap)\n",
        "    plt.title(title)\n",
        "    plt.colorbar()\n",
        "    tick_marks = np.arange(len(classes))\n",
        "    plt.xticks(tick_marks, classes, rotation=45)\n",
        "    plt.yticks(tick_marks, classes)\n",
        "\n",
        "    if normalize:\n",
        "        cm = cm.astype('float') / cm.sum(axis=1)[:, np.newaxis]\n",
        "        print(\"Normalized confusion matrix\")\n",
        "    else:\n",
        "        print('Confusion matrix, without normalization')\n",
        "\n",
        "    print(cm)\n",
        "\n",
        "    thresh = cm.max() / 2.\n",
        "    for i, j in itertools.product(range(cm.shape[0]), range(cm.shape[1])):\n",
        "        plt.text(j, i, cm[i, j],\n",
        "            horizontalalignment=\"center\",\n",
        "            color=\"white\" if cm[i, j] > thresh else \"black\")\n",
        "\n",
        "    plt.tight_layout()\n",
        "    plt.ylabel('True label')\n",
        "    plt.xlabel('Predicted label')\n",
        "    plt.show()"
      ],
      "metadata": {
        "id": "m-Ulk4EBXd0y"
      },
      "execution_count": null,
      "outputs": []
    },
    {
      "cell_type": "code",
      "source": [
        "print(\"Model Classification Report: \\n\")\n",
        "y_pred = np.argmax(model.predict(X_test), axis=1)\n",
        "cm = confusion_matrix(np.argmax(y_test, axis=1), y_pred)\n",
        "print(classification_report(np.argmax(y_test, axis=1), y_pred))\n",
        "plot_confusion_matrix(cm, classes=[\"Does not have Wake Word\", \"Has Wake Word\"])"
      ],
      "metadata": {
        "colab": {
          "base_uri": "https://localhost:8080/",
          "height": 571
        },
        "id": "TflcZEOXXhi9",
        "outputId": "be35ded8-f7e2-4fad-b510-78088b43971f"
      },
      "execution_count": null,
      "outputs": [
        {
          "output_type": "stream",
          "name": "stdout",
          "text": [
            "Model Classification Report: \n",
            "\n",
            "66/66 [==============================] - 2s 27ms/step\n",
            "              precision    recall  f1-score   support\n",
            "\n",
            "           0       0.98      0.98      0.98      1049\n",
            "           1       0.98      0.98      0.98      1060\n",
            "\n",
            "    accuracy                           0.98      2109\n",
            "   macro avg       0.98      0.98      0.98      2109\n",
            "weighted avg       0.98      0.98      0.98      2109\n",
            "\n",
            "Confusion matrix, without normalization\n",
            "[[1024   25]\n",
            " [  20 1040]]\n"
          ]
        },
        {
          "output_type": "display_data",
          "data": {
            "text/plain": [
              "<Figure size 432x288 with 2 Axes>"
            ],
            "image/png": "[encoded data removed]"
          },
          "metadata": {
            "needs_background": "light"
          }
        }
      ]
    },
    {
      "cell_type": "markdown",
      "source": [
        "## PREDICTION & LATENCY"
      ],
      "metadata": {
        "id": "ICTVDT-sXlC_"
      }
    },
    {
      "cell_type": "code",
      "source": [
        "pip install spafe"
      ],
      "metadata": {
        "colab": {
          "base_uri": "https://localhost:8080/"
        },
        "id": "9qnao8YW_v_M",
        "outputId": "9751dccf-7122-4412-da51-e8b6906fde0f"
      },
      "execution_count": null,
      "outputs": [
        {
          "output_type": "stream",
          "name": "stdout",
          "text": [
            "Looking in indexes: https://pypi.org/simple, https://us-python.pkg.dev/colab-wheels/public/simple/\n",
            "Collecting spafe\n",
            "  Downloading spafe-0.3.1-py3-none-any.whl (93 kB)\n",
            "\u001b[2K     \u001b[90m━━━━━━━━━━━━━━━━━━━━━━━━━━━━━━━━━━━━━━━━\u001b[0m \u001b[32m93.4/93.4 KB\u001b[0m \u001b[31m3.2 MB/s\u001b[0m eta \u001b[36m0:00:00\u001b[0m\n",
            "\u001b[?25hRequirement already satisfied: scipy>=1.7.3 in /usr/local/lib/python3.8/dist-packages (from spafe) (1.7.3)\n",
            "Requirement already satisfied: typing-extensions in /usr/local/lib/python3.8/dist-packages (from spafe) (4.5.0)\n",
            "Requirement already satisfied: numpy>=1.21 in /usr/local/lib/python3.8/dist-packages (from spafe) (1.22.4)\n",
            "Installing collected packages: spafe\n",
            "Successfully installed spafe-0.3.1\n"
          ]
        }
      ]
    },
    {
      "cell_type": "code",
      "source": [
        "import spafe\n",
        "from spafe.features.lfcc import lfcc\n",
        "import pywt"
      ],
      "metadata": {
        "id": "EMsfxFC3_yC0"
      },
      "execution_count": null,
      "outputs": []
    },
    {
      "cell_type": "code",
      "source": [
        "def predict(audio):\n",
        "  audio_data, sr = librosa.load(audio)\n",
        "\n",
        "  wavelet = 'db4'\n",
        "  level = 4\n",
        "  coeffs = pywt.wavedec(audio_data, wavelet, level=level)\n",
        "  threshold = np.median(np.abs(coeffs[-level])) / 0.6745\n",
        "  for i in range(1, len(coeffs)):\n",
        "    coeffs[i] = pywt.threshold(coeffs[i], threshold)\n",
        "  denoised_audio = pywt.waverec(coeffs, wavelet)\n",
        "\n",
        "  lfccs  = lfcc(denoised_audio, fs = sr, num_ceps=13)\n",
        "  lfccs_processed = np.mean(lfccs.T, axis=0) # some pre-processing\n",
        "  lfccs_new = np.expand_dims(np.asarray(lfccs_processed), axis=0)\n",
        "  predictions = model.predict(lfccs_new)\n",
        "  return predictions"
      ],
      "metadata": {
        "id": "VnYa4pVCXjCk"
      },
      "execution_count": null,
      "outputs": []
    },
    {
      "cell_type": "code",
      "source": [
        "audio_for_pred = \"/content/gdrive/MyDrive/Marvin/marvin (170).wav\"\n",
        "print(np.round(predict(audio_for_pred)))"
      ],
      "metadata": {
        "colab": {
          "base_uri": "https://localhost:8080/"
        },
        "id": "TyWuk1DWXnjd",
        "outputId": "687148c9-69e9-4ee2-f87c-4180c3825c4b"
      },
      "execution_count": null,
      "outputs": [
        {
          "output_type": "stream",
          "name": "stdout",
          "text": [
            "1/1 [==============================] - 0s 60ms/step\n",
            "[[1. 0.]]\n"
          ]
        }
      ]
    },
    {
      "cell_type": "code",
      "source": [
        "audio_for_pred = \"/content/gdrive/MyDrive/False/yes (824).wav\"\n",
        "print(np.round(predict(audio_for_pred)))"
      ],
      "metadata": {
        "id": "89WJt1sLEmcj",
        "outputId": "85a7d587-ced4-4e9a-ed95-b8cce29a4958",
        "colab": {
          "base_uri": "https://localhost:8080/"
        }
      },
      "execution_count": null,
      "outputs": [
        {
          "output_type": "stream",
          "name": "stdout",
          "text": [
            "1/1 [==============================] - 0s 48ms/step\n",
            "[[1. 0.]]\n"
          ]
        }
      ]
    }
  ]
}