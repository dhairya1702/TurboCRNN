{
  "cells": [
    {
      "cell_type": "code",
      "source": [
        "from google.colab import drive\n",
        "drive.mount('/content/gdrive')"
      ],
      "metadata": {
        "colab": {
          "base_uri": "https://localhost:8080/"
        },
        "id": "l258GTC0aigD",
        "outputId": "b384a17f-a8d1-411e-f50f-8767573b5df2"
      },
      "id": "l258GTC0aigD",
      "execution_count": 1,
      "outputs": [
        {
          "output_type": "stream",
          "name": "stdout",
          "text": [
            "Mounted at /content/gdrive\n"
          ]
        }
      ]
    },
    {
      "cell_type": "markdown",
      "id": "3b025998",
      "metadata": {
        "id": "3b025998"
      },
      "source": [
        "## IMPORTING DEPENDENCIES"
      ]
    },
    {
      "cell_type": "code",
      "execution_count": 2,
      "id": "65ba3a3f",
      "metadata": {
        "id": "65ba3a3f"
      },
      "outputs": [],
      "source": [
        "import os\n",
        "import numpy as np\n",
        "import pandas as pd\n",
        "import matplotlib.pyplot as plt\n",
        "import librosa, librosa.display\n",
        "\n",
        "import tensorflow as tf \n",
        "from sklearn.model_selection import train_test_split"
      ]
    },
    {
      "cell_type": "markdown",
      "id": "4e53be66",
      "metadata": {
        "id": "4e53be66"
      },
      "source": [
        "## TRAIN, TEST, VALIDATION DATA RETRIEVAL"
      ]
    },
    {
      "cell_type": "code",
      "execution_count": 3,
      "id": "75d43bca",
      "metadata": {
        "id": "75d43bca"
      },
      "outputs": [],
      "source": [
        "from tensorflow.keras import Sequential\n",
        "from tensorflow.keras.layers import Dense, Activation, Dropout, GRU, Input, Conv1D, MaxPooling1D, LSTM\n",
        "from sklearn.metrics import confusion_matrix, classification_report"
      ]
    },
    {
      "cell_type": "code",
      "execution_count": 4,
      "id": "75d6b7c5",
      "metadata": {
        "id": "75d6b7c5"
      },
      "outputs": [],
      "source": [
        "X_train = np.load('/content/gdrive/MyDrive/data/Augmented1/X_train.npy')\n",
        "y_train = np.load('/content/gdrive/MyDrive/data/Augmented1/y_train.npy')\n",
        "X_test = np.load('/content/gdrive/MyDrive/data/Augmented1/X_test.npy')\n",
        "y_test = np.load('/content/gdrive/MyDrive/data/Augmented1/y_test.npy')\n",
        "X_val = np.load('/content/gdrive/MyDrive/data/Augmented1/X_val.npy')\n",
        "y_val = np.load('/content/gdrive/MyDrive/data/Augmented1/y_val.npy')"
      ]
    },
    {
      "cell_type": "code",
      "execution_count": 5,
      "id": "ab7f460f",
      "metadata": {
        "colab": {
          "base_uri": "https://localhost:8080/"
        },
        "id": "ab7f460f",
        "outputId": "425c4e50-2134-4bec-fc70-2fe15bc121d6"
      },
      "outputs": [
        {
          "output_type": "stream",
          "name": "stdout",
          "text": [
            "(16893, 98) (16893, 2)\n",
            "(2109, 98) (2109, 2)\n",
            "(2088, 98) (2088, 2)\n"
          ]
        }
      ],
      "source": [
        "print(X_train.shape, y_train.shape)\n",
        "print(X_test.shape, y_test.shape)\n",
        "print(X_val.shape, y_val.shape)"
      ]
    },
    {
      "cell_type": "markdown",
      "id": "8c7e645d",
      "metadata": {
        "id": "8c7e645d"
      },
      "source": [
        "## NEURAL NETWORK MODEL"
      ]
    },
    {
      "cell_type": "code",
      "execution_count": 6,
      "id": "2f90acc9",
      "metadata": {
        "colab": {
          "base_uri": "https://localhost:8080/"
        },
        "id": "2f90acc9",
        "outputId": "bfe66967-41b4-43bf-e5c3-d02c8120c72b"
      },
      "outputs": [
        {
          "output_type": "stream",
          "name": "stdout",
          "text": [
            "Model: \"sequential\"\n",
            "_________________________________________________________________\n",
            " Layer (type)                Output Shape              Param #   \n",
            "=================================================================\n",
            " conv1d (Conv1D)             (None, 94, 64)            384       \n",
            "                                                                 \n",
            " max_pooling1d (MaxPooling1D  (None, 47, 64)           0         \n",
            " )                                                               \n",
            "                                                                 \n",
            " conv1d_1 (Conv1D)           (None, 43, 64)            20544     \n",
            "                                                                 \n",
            " max_pooling1d_1 (MaxPooling  (None, 21, 64)           0         \n",
            " 1D)                                                             \n",
            "                                                                 \n",
            " conv1d_2 (Conv1D)           (None, 17, 32)            10272     \n",
            "                                                                 \n",
            " max_pooling1d_2 (MaxPooling  (None, 8, 32)            0         \n",
            " 1D)                                                             \n",
            "                                                                 \n",
            " gru (GRU)                   (None, 8, 64)             18816     \n",
            "                                                                 \n",
            " lstm (LSTM)                 (None, 64)                33024     \n",
            "                                                                 \n",
            " dense (Dense)               (None, 64)                4160      \n",
            "                                                                 \n",
            " dropout (Dropout)           (None, 64)                0         \n",
            "                                                                 \n",
            " activation (Activation)     (None, 64)                0         \n",
            "                                                                 \n",
            " dense_1 (Dense)             (None, 2)                 130       \n",
            "                                                                 \n",
            "=================================================================\n",
            "Total params: 87,330\n",
            "Trainable params: 87,330\n",
            "Non-trainable params: 0\n",
            "_________________________________________________________________\n",
            "None\n"
          ]
        }
      ],
      "source": [
        "model = Sequential()\n",
        "model.add(Conv1D(64, 5, activation='relu', input_shape=(98,1)))\n",
        "model.add(MaxPooling1D(2))\n",
        "model.add(Conv1D(64, 5, activation='relu'))\n",
        "model.add(MaxPooling1D(2))\n",
        "model.add(Conv1D(32, 5, activation='relu'))\n",
        "model.add(MaxPooling1D(2))\n",
        "\n",
        "model.add(GRU(64, return_sequences=True))\n",
        "model.add(LSTM(64))\n",
        "model.add(tf.keras.layers.Dense(64))\n",
        "model.add(tf.keras.layers.Dropout(0.5))\n",
        "model.add(tf.keras.layers.Activation('relu'))\n",
        "model.add(Dense(2, activation='softmax'))\n",
        "print(model.summary())"
      ]
    },
    {
      "cell_type": "code",
      "source": [
        "optimizer=tf.keras.optimizers.Adam(amsgrad=True, name='Adam')"
      ],
      "metadata": {
        "id": "XtyLOw4yCAz-"
      },
      "id": "XtyLOw4yCAz-",
      "execution_count": 7,
      "outputs": []
    },
    {
      "cell_type": "code",
      "source": [
        "model.compile(\n",
        "    loss=\"categorical_crossentropy\",\n",
        "    optimizer = optimizer,\n",
        "    metrics=['accuracy']\n",
        ")"
      ],
      "metadata": {
        "id": "vB-XhvcFYwIo"
      },
      "id": "vB-XhvcFYwIo",
      "execution_count": 8,
      "outputs": []
    },
    {
      "cell_type": "code",
      "source": [
        "print(\"Model Score: \\n\")\n",
        "history = model.fit(X_train, y_train, validation_data = (X_val, y_val), epochs = 120, shuffle = False)"
      ],
      "metadata": {
        "colab": {
          "base_uri": "https://localhost:8080/"
        },
        "id": "j3t1FruxYxn9",
        "outputId": "ebc9773d-6e8f-4858-def3-8159b3bdff39"
      },
      "id": "j3t1FruxYxn9",
      "execution_count": 9,
      "outputs": [
        {
          "output_type": "stream",
          "name": "stdout",
          "text": [
            "Model Score: \n",
            "\n",
            "Epoch 1/120\n",
            "528/528 [==============================] - 22s 11ms/step - loss: 0.4378 - accuracy: 0.7762 - val_loss: 0.2382 - val_accuracy: 0.9109\n",
            "Epoch 2/120\n",
            "528/528 [==============================] - 5s 10ms/step - loss: 0.2143 - accuracy: 0.9226 - val_loss: 0.2060 - val_accuracy: 0.9243\n",
            "Epoch 3/120\n",
            "528/528 [==============================] - 5s 9ms/step - loss: 0.1780 - accuracy: 0.9344 - val_loss: 0.2119 - val_accuracy: 0.9282\n",
            "Epoch 4/120\n",
            "528/528 [==============================] - 4s 8ms/step - loss: 0.1600 - accuracy: 0.9407 - val_loss: 0.1898 - val_accuracy: 0.9373\n",
            "Epoch 5/120\n",
            "528/528 [==============================] - 4s 8ms/step - loss: 0.1457 - accuracy: 0.9471 - val_loss: 0.1721 - val_accuracy: 0.9411\n",
            "Epoch 6/120\n",
            "528/528 [==============================] - 6s 11ms/step - loss: 0.1319 - accuracy: 0.9522 - val_loss: 0.1643 - val_accuracy: 0.9454\n",
            "Epoch 7/120\n",
            "528/528 [==============================] - 4s 8ms/step - loss: 0.1238 - accuracy: 0.9564 - val_loss: 0.1662 - val_accuracy: 0.9425\n",
            "Epoch 8/120\n",
            "528/528 [==============================] - 4s 8ms/step - loss: 0.1151 - accuracy: 0.9594 - val_loss: 0.1519 - val_accuracy: 0.9459\n",
            "Epoch 9/120\n",
            "528/528 [==============================] - 5s 9ms/step - loss: 0.1036 - accuracy: 0.9633 - val_loss: 0.1493 - val_accuracy: 0.9440\n",
            "Epoch 10/120\n",
            "528/528 [==============================] - 4s 8ms/step - loss: 0.0974 - accuracy: 0.9658 - val_loss: 0.1425 - val_accuracy: 0.9492\n",
            "Epoch 11/120\n",
            "528/528 [==============================] - 4s 8ms/step - loss: 0.0953 - accuracy: 0.9671 - val_loss: 0.1367 - val_accuracy: 0.9526\n",
            "Epoch 12/120\n",
            "528/528 [==============================] - 5s 9ms/step - loss: 0.0878 - accuracy: 0.9694 - val_loss: 0.1257 - val_accuracy: 0.9612\n",
            "Epoch 13/120\n",
            "528/528 [==============================] - 4s 8ms/step - loss: 0.0751 - accuracy: 0.9725 - val_loss: 0.1412 - val_accuracy: 0.9574\n",
            "Epoch 14/120\n",
            "528/528 [==============================] - 4s 8ms/step - loss: 0.0717 - accuracy: 0.9743 - val_loss: 0.1478 - val_accuracy: 0.9559\n",
            "Epoch 15/120\n",
            "528/528 [==============================] - 5s 9ms/step - loss: 0.0694 - accuracy: 0.9757 - val_loss: 0.1393 - val_accuracy: 0.9569\n",
            "Epoch 16/120\n",
            "528/528 [==============================] - 4s 8ms/step - loss: 0.0617 - accuracy: 0.9788 - val_loss: 0.1217 - val_accuracy: 0.9602\n",
            "Epoch 17/120\n",
            "528/528 [==============================] - 4s 8ms/step - loss: 0.0591 - accuracy: 0.9789 - val_loss: 0.1295 - val_accuracy: 0.9612\n",
            "Epoch 18/120\n",
            "528/528 [==============================] - 4s 8ms/step - loss: 0.0494 - accuracy: 0.9827 - val_loss: 0.1269 - val_accuracy: 0.9622\n",
            "Epoch 19/120\n",
            "528/528 [==============================] - 5s 9ms/step - loss: 0.0467 - accuracy: 0.9843 - val_loss: 0.1172 - val_accuracy: 0.9636\n",
            "Epoch 20/120\n",
            "528/528 [==============================] - 5s 9ms/step - loss: 0.0466 - accuracy: 0.9827 - val_loss: 0.1619 - val_accuracy: 0.9526\n",
            "Epoch 21/120\n",
            "528/528 [==============================] - 4s 8ms/step - loss: 0.0423 - accuracy: 0.9857 - val_loss: 0.1443 - val_accuracy: 0.9583\n",
            "Epoch 22/120\n",
            "528/528 [==============================] - 5s 9ms/step - loss: 0.0457 - accuracy: 0.9844 - val_loss: 0.1429 - val_accuracy: 0.9602\n",
            "Epoch 23/120\n",
            "528/528 [==============================] - 4s 8ms/step - loss: 0.0368 - accuracy: 0.9870 - val_loss: 0.1516 - val_accuracy: 0.9612\n",
            "Epoch 24/120\n",
            "528/528 [==============================] - 4s 8ms/step - loss: 0.0307 - accuracy: 0.9882 - val_loss: 0.1322 - val_accuracy: 0.9665\n",
            "Epoch 25/120\n",
            "528/528 [==============================] - 5s 9ms/step - loss: 0.0277 - accuracy: 0.9896 - val_loss: 0.1437 - val_accuracy: 0.9574\n",
            "Epoch 26/120\n",
            "528/528 [==============================] - 4s 8ms/step - loss: 0.0376 - accuracy: 0.9868 - val_loss: 0.1388 - val_accuracy: 0.9650\n",
            "Epoch 27/120\n",
            "528/528 [==============================] - 4s 8ms/step - loss: 0.0245 - accuracy: 0.9909 - val_loss: 0.1544 - val_accuracy: 0.9617\n",
            "Epoch 28/120\n",
            "528/528 [==============================] - 5s 9ms/step - loss: 0.0239 - accuracy: 0.9918 - val_loss: 0.1306 - val_accuracy: 0.9670\n",
            "Epoch 29/120\n",
            "528/528 [==============================] - 4s 8ms/step - loss: 0.0268 - accuracy: 0.9905 - val_loss: 0.1375 - val_accuracy: 0.9602\n",
            "Epoch 30/120\n",
            "528/528 [==============================] - 4s 8ms/step - loss: 0.0204 - accuracy: 0.9930 - val_loss: 0.1556 - val_accuracy: 0.9674\n",
            "Epoch 31/120\n",
            "528/528 [==============================] - 5s 9ms/step - loss: 0.0226 - accuracy: 0.9919 - val_loss: 0.1382 - val_accuracy: 0.9650\n",
            "Epoch 32/120\n",
            "528/528 [==============================] - 4s 8ms/step - loss: 0.0165 - accuracy: 0.9935 - val_loss: 0.1759 - val_accuracy: 0.9636\n",
            "Epoch 33/120\n",
            "528/528 [==============================] - 4s 8ms/step - loss: 0.0212 - accuracy: 0.9925 - val_loss: 0.1405 - val_accuracy: 0.9684\n",
            "Epoch 34/120\n",
            "528/528 [==============================] - 5s 10ms/step - loss: 0.0184 - accuracy: 0.9940 - val_loss: 0.1266 - val_accuracy: 0.9713\n",
            "Epoch 35/120\n",
            "528/528 [==============================] - 4s 8ms/step - loss: 0.0130 - accuracy: 0.9954 - val_loss: 0.1620 - val_accuracy: 0.9665\n",
            "Epoch 36/120\n",
            "528/528 [==============================] - 4s 8ms/step - loss: 0.0205 - accuracy: 0.9935 - val_loss: 0.1387 - val_accuracy: 0.9698\n",
            "Epoch 37/120\n",
            "528/528 [==============================] - 5s 9ms/step - loss: 0.0097 - accuracy: 0.9970 - val_loss: 0.1545 - val_accuracy: 0.9732\n",
            "Epoch 38/120\n",
            "528/528 [==============================] - 4s 8ms/step - loss: 0.0046 - accuracy: 0.9986 - val_loss: 0.1676 - val_accuracy: 0.9693\n",
            "Epoch 39/120\n",
            "528/528 [==============================] - 4s 8ms/step - loss: 0.0157 - accuracy: 0.9945 - val_loss: 0.1697 - val_accuracy: 0.9617\n",
            "Epoch 40/120\n",
            "528/528 [==============================] - 5s 9ms/step - loss: 0.0202 - accuracy: 0.9927 - val_loss: 0.1431 - val_accuracy: 0.9689\n",
            "Epoch 41/120\n",
            "528/528 [==============================] - 4s 8ms/step - loss: 0.0077 - accuracy: 0.9978 - val_loss: 0.1530 - val_accuracy: 0.9713\n",
            "Epoch 42/120\n",
            "528/528 [==============================] - 4s 8ms/step - loss: 0.0045 - accuracy: 0.9987 - val_loss: 0.1791 - val_accuracy: 0.9713\n",
            "Epoch 43/120\n",
            "528/528 [==============================] - 5s 9ms/step - loss: 0.0039 - accuracy: 0.9990 - val_loss: 0.1788 - val_accuracy: 0.9708\n",
            "Epoch 44/120\n",
            "528/528 [==============================] - 4s 8ms/step - loss: 0.0030 - accuracy: 0.9993 - val_loss: 0.1698 - val_accuracy: 0.9679\n",
            "Epoch 45/120\n",
            "528/528 [==============================] - 4s 7ms/step - loss: 0.0166 - accuracy: 0.9953 - val_loss: 0.1724 - val_accuracy: 0.9713\n",
            "Epoch 46/120\n",
            "528/528 [==============================] - 5s 9ms/step - loss: 0.0170 - accuracy: 0.9942 - val_loss: 0.1461 - val_accuracy: 0.9693\n",
            "Epoch 47/120\n",
            "528/528 [==============================] - 5s 10ms/step - loss: 0.0059 - accuracy: 0.9980 - val_loss: 0.1585 - val_accuracy: 0.9708\n",
            "Epoch 48/120\n",
            "528/528 [==============================] - 4s 8ms/step - loss: 0.0019 - accuracy: 0.9997 - val_loss: 0.1707 - val_accuracy: 0.9722\n",
            "Epoch 49/120\n",
            "528/528 [==============================] - 5s 9ms/step - loss: 0.0019 - accuracy: 0.9994 - val_loss: 0.1755 - val_accuracy: 0.9717\n",
            "Epoch 50/120\n",
            "528/528 [==============================] - 4s 8ms/step - loss: 7.6927e-04 - accuracy: 0.9999 - val_loss: 0.2030 - val_accuracy: 0.9689\n",
            "Epoch 51/120\n",
            "528/528 [==============================] - 4s 8ms/step - loss: 6.0517e-04 - accuracy: 0.9999 - val_loss: 0.1972 - val_accuracy: 0.9703\n",
            "Epoch 52/120\n",
            "528/528 [==============================] - 5s 9ms/step - loss: 3.5422e-04 - accuracy: 1.0000 - val_loss: 0.2042 - val_accuracy: 0.9698\n",
            "Epoch 53/120\n",
            "528/528 [==============================] - 4s 8ms/step - loss: 2.4774e-04 - accuracy: 1.0000 - val_loss: 0.2116 - val_accuracy: 0.9689\n",
            "Epoch 54/120\n",
            "528/528 [==============================] - 4s 8ms/step - loss: 2.2097e-04 - accuracy: 1.0000 - val_loss: 0.2127 - val_accuracy: 0.9708\n",
            "Epoch 55/120\n",
            "528/528 [==============================] - 5s 9ms/step - loss: 1.4764e-04 - accuracy: 1.0000 - val_loss: 0.2156 - val_accuracy: 0.9708\n",
            "Epoch 56/120\n",
            "528/528 [==============================] - 5s 9ms/step - loss: 1.3543e-04 - accuracy: 1.0000 - val_loss: 0.2176 - val_accuracy: 0.9703\n",
            "Epoch 57/120\n",
            "528/528 [==============================] - 4s 8ms/step - loss: 1.4411e-04 - accuracy: 1.0000 - val_loss: 0.2223 - val_accuracy: 0.9693\n",
            "Epoch 58/120\n",
            "528/528 [==============================] - 4s 8ms/step - loss: 1.0314e-04 - accuracy: 1.0000 - val_loss: 0.2250 - val_accuracy: 0.9693\n",
            "Epoch 59/120\n",
            "528/528 [==============================] - 5s 9ms/step - loss: 8.4374e-05 - accuracy: 1.0000 - val_loss: 0.2244 - val_accuracy: 0.9693\n",
            "Epoch 60/120\n",
            "528/528 [==============================] - 4s 8ms/step - loss: 8.5767e-05 - accuracy: 1.0000 - val_loss: 0.2284 - val_accuracy: 0.9698\n",
            "Epoch 61/120\n",
            "528/528 [==============================] - 6s 11ms/step - loss: 7.9806e-05 - accuracy: 1.0000 - val_loss: 0.2285 - val_accuracy: 0.9698\n",
            "Epoch 62/120\n",
            "528/528 [==============================] - 4s 8ms/step - loss: 9.5225e-05 - accuracy: 1.0000 - val_loss: 0.2318 - val_accuracy: 0.9693\n",
            "Epoch 63/120\n",
            "528/528 [==============================] - 4s 8ms/step - loss: 6.7250e-05 - accuracy: 1.0000 - val_loss: 0.2373 - val_accuracy: 0.9693\n",
            "Epoch 64/120\n",
            "528/528 [==============================] - 5s 9ms/step - loss: 7.1138e-05 - accuracy: 1.0000 - val_loss: 0.2382 - val_accuracy: 0.9698\n",
            "Epoch 65/120\n",
            "528/528 [==============================] - 5s 9ms/step - loss: 1.0822e-04 - accuracy: 1.0000 - val_loss: 0.2373 - val_accuracy: 0.9689\n",
            "Epoch 66/120\n",
            "528/528 [==============================] - 4s 8ms/step - loss: 5.0698e-05 - accuracy: 1.0000 - val_loss: 0.2415 - val_accuracy: 0.9689\n",
            "Epoch 67/120\n",
            "528/528 [==============================] - 4s 8ms/step - loss: 6.0810e-05 - accuracy: 1.0000 - val_loss: 0.2424 - val_accuracy: 0.9689\n",
            "Epoch 68/120\n",
            "528/528 [==============================] - 5s 9ms/step - loss: 5.8220e-05 - accuracy: 1.0000 - val_loss: 0.2441 - val_accuracy: 0.9693\n",
            "Epoch 69/120\n",
            "528/528 [==============================] - 4s 8ms/step - loss: 5.2312e-05 - accuracy: 1.0000 - val_loss: 0.2447 - val_accuracy: 0.9693\n",
            "Epoch 70/120\n",
            "528/528 [==============================] - 4s 8ms/step - loss: 5.2259e-05 - accuracy: 1.0000 - val_loss: 0.2463 - val_accuracy: 0.9693\n",
            "Epoch 71/120\n",
            "528/528 [==============================] - 5s 9ms/step - loss: 3.8283e-05 - accuracy: 1.0000 - val_loss: 0.2462 - val_accuracy: 0.9693\n",
            "Epoch 72/120\n",
            "528/528 [==============================] - 4s 8ms/step - loss: 4.9712e-05 - accuracy: 1.0000 - val_loss: 0.2473 - val_accuracy: 0.9698\n",
            "Epoch 73/120\n",
            "528/528 [==============================] - 4s 8ms/step - loss: 4.6374e-05 - accuracy: 1.0000 - val_loss: 0.2481 - val_accuracy: 0.9693\n",
            "Epoch 74/120\n",
            "528/528 [==============================] - 6s 11ms/step - loss: 4.3103e-05 - accuracy: 1.0000 - val_loss: 0.2512 - val_accuracy: 0.9693\n",
            "Epoch 75/120\n",
            "528/528 [==============================] - 4s 8ms/step - loss: 3.8439e-05 - accuracy: 1.0000 - val_loss: 0.2509 - val_accuracy: 0.9698\n",
            "Epoch 76/120\n",
            "528/528 [==============================] - 4s 8ms/step - loss: 4.2009e-05 - accuracy: 1.0000 - val_loss: 0.2510 - val_accuracy: 0.9689\n",
            "Epoch 77/120\n",
            "528/528 [==============================] - 5s 9ms/step - loss: 2.7533e-05 - accuracy: 1.0000 - val_loss: 0.2527 - val_accuracy: 0.9693\n",
            "Epoch 78/120\n",
            "528/528 [==============================] - 4s 8ms/step - loss: 3.0234e-05 - accuracy: 1.0000 - val_loss: 0.2544 - val_accuracy: 0.9693\n",
            "Epoch 79/120\n",
            "528/528 [==============================] - 4s 8ms/step - loss: 5.0092e-05 - accuracy: 1.0000 - val_loss: 0.2593 - val_accuracy: 0.9693\n",
            "Epoch 80/120\n",
            "528/528 [==============================] - 5s 10ms/step - loss: 2.7644e-05 - accuracy: 1.0000 - val_loss: 0.2592 - val_accuracy: 0.9693\n",
            "Epoch 81/120\n",
            "528/528 [==============================] - 4s 8ms/step - loss: 5.7495e-05 - accuracy: 1.0000 - val_loss: 0.2529 - val_accuracy: 0.9698\n",
            "Epoch 82/120\n",
            "528/528 [==============================] - 4s 8ms/step - loss: 2.9964e-05 - accuracy: 1.0000 - val_loss: 0.2545 - val_accuracy: 0.9693\n",
            "Epoch 83/120\n",
            "528/528 [==============================] - 5s 10ms/step - loss: 1.0875e-04 - accuracy: 1.0000 - val_loss: 0.2760 - val_accuracy: 0.9703\n",
            "Epoch 84/120\n",
            "528/528 [==============================] - 4s 8ms/step - loss: 3.1468e-05 - accuracy: 1.0000 - val_loss: 0.2716 - val_accuracy: 0.9703\n",
            "Epoch 85/120\n",
            "528/528 [==============================] - 4s 8ms/step - loss: 3.8408e-05 - accuracy: 1.0000 - val_loss: 0.2696 - val_accuracy: 0.9693\n",
            "Epoch 86/120\n",
            "528/528 [==============================] - 5s 10ms/step - loss: 2.4102e-05 - accuracy: 1.0000 - val_loss: 0.2675 - val_accuracy: 0.9693\n",
            "Epoch 87/120\n",
            "528/528 [==============================] - 4s 9ms/step - loss: 3.4500e-05 - accuracy: 1.0000 - val_loss: 0.2670 - val_accuracy: 0.9693\n",
            "Epoch 88/120\n",
            "528/528 [==============================] - 5s 9ms/step - loss: 3.7312e-05 - accuracy: 1.0000 - val_loss: 0.2658 - val_accuracy: 0.9698\n",
            "Epoch 89/120\n",
            "528/528 [==============================] - 5s 10ms/step - loss: 2.9262e-05 - accuracy: 1.0000 - val_loss: 0.2669 - val_accuracy: 0.9693\n",
            "Epoch 90/120\n",
            "528/528 [==============================] - 4s 8ms/step - loss: 2.9534e-05 - accuracy: 1.0000 - val_loss: 0.2685 - val_accuracy: 0.9689\n",
            "Epoch 91/120\n",
            "528/528 [==============================] - 4s 8ms/step - loss: 3.4352e-05 - accuracy: 1.0000 - val_loss: 0.2659 - val_accuracy: 0.9698\n",
            "Epoch 92/120\n",
            "528/528 [==============================] - 5s 9ms/step - loss: 2.7224e-05 - accuracy: 1.0000 - val_loss: 0.2680 - val_accuracy: 0.9708\n",
            "Epoch 93/120\n",
            "528/528 [==============================] - 4s 8ms/step - loss: 2.2161e-05 - accuracy: 1.0000 - val_loss: 0.2697 - val_accuracy: 0.9693\n",
            "Epoch 94/120\n",
            "528/528 [==============================] - 4s 8ms/step - loss: 2.7390e-05 - accuracy: 1.0000 - val_loss: 0.2697 - val_accuracy: 0.9689\n",
            "Epoch 95/120\n",
            "528/528 [==============================] - 5s 10ms/step - loss: 2.3958e-05 - accuracy: 1.0000 - val_loss: 0.2699 - val_accuracy: 0.9698\n",
            "Epoch 96/120\n",
            "528/528 [==============================] - 4s 8ms/step - loss: 2.2163e-05 - accuracy: 1.0000 - val_loss: 0.2701 - val_accuracy: 0.9698\n",
            "Epoch 97/120\n",
            "528/528 [==============================] - 4s 8ms/step - loss: 2.1336e-05 - accuracy: 1.0000 - val_loss: 0.2692 - val_accuracy: 0.9698\n",
            "Epoch 98/120\n",
            "528/528 [==============================] - 5s 10ms/step - loss: 3.1499e-05 - accuracy: 1.0000 - val_loss: 0.2732 - val_accuracy: 0.9693\n",
            "Epoch 99/120\n",
            "528/528 [==============================] - 4s 8ms/step - loss: 1.8475e-05 - accuracy: 1.0000 - val_loss: 0.2710 - val_accuracy: 0.9693\n",
            "Epoch 100/120\n",
            "528/528 [==============================] - 4s 8ms/step - loss: 2.0348e-05 - accuracy: 1.0000 - val_loss: 0.2716 - val_accuracy: 0.9698\n",
            "Epoch 101/120\n",
            "528/528 [==============================] - 6s 11ms/step - loss: 2.0768e-05 - accuracy: 1.0000 - val_loss: 0.2727 - val_accuracy: 0.9698\n",
            "Epoch 102/120\n",
            "528/528 [==============================] - 4s 8ms/step - loss: 2.0258e-05 - accuracy: 1.0000 - val_loss: 0.2738 - val_accuracy: 0.9693\n",
            "Epoch 103/120\n",
            "528/528 [==============================] - 4s 8ms/step - loss: 1.7701e-05 - accuracy: 1.0000 - val_loss: 0.2759 - val_accuracy: 0.9689\n",
            "Epoch 104/120\n",
            "528/528 [==============================] - 5s 10ms/step - loss: 1.7033e-05 - accuracy: 1.0000 - val_loss: 0.2760 - val_accuracy: 0.9689\n",
            "Epoch 105/120\n",
            "528/528 [==============================] - 4s 8ms/step - loss: 1.7015e-05 - accuracy: 1.0000 - val_loss: 0.2766 - val_accuracy: 0.9689\n",
            "Epoch 106/120\n",
            "528/528 [==============================] - 4s 8ms/step - loss: 1.5739e-05 - accuracy: 1.0000 - val_loss: 0.2757 - val_accuracy: 0.9698\n",
            "Epoch 107/120\n",
            "528/528 [==============================] - 5s 10ms/step - loss: 1.5575e-05 - accuracy: 1.0000 - val_loss: 0.2769 - val_accuracy: 0.9698\n",
            "Epoch 108/120\n",
            "528/528 [==============================] - 4s 8ms/step - loss: 2.3433e-05 - accuracy: 1.0000 - val_loss: 0.2807 - val_accuracy: 0.9689\n",
            "Epoch 109/120\n",
            "528/528 [==============================] - 4s 8ms/step - loss: 2.1048e-05 - accuracy: 1.0000 - val_loss: 0.2804 - val_accuracy: 0.9689\n",
            "Epoch 110/120\n",
            "528/528 [==============================] - 5s 9ms/step - loss: 1.3694e-05 - accuracy: 1.0000 - val_loss: 0.2798 - val_accuracy: 0.9689\n",
            "Epoch 111/120\n",
            "528/528 [==============================] - 4s 8ms/step - loss: 2.3020e-05 - accuracy: 1.0000 - val_loss: 0.2785 - val_accuracy: 0.9693\n",
            "Epoch 112/120\n",
            "528/528 [==============================] - 4s 8ms/step - loss: 1.4517e-05 - accuracy: 1.0000 - val_loss: 0.2786 - val_accuracy: 0.9693\n",
            "Epoch 113/120\n",
            "528/528 [==============================] - 5s 9ms/step - loss: 1.8900e-05 - accuracy: 1.0000 - val_loss: 0.2782 - val_accuracy: 0.9693\n",
            "Epoch 114/120\n",
            "528/528 [==============================] - 5s 10ms/step - loss: 1.5363e-05 - accuracy: 1.0000 - val_loss: 0.2808 - val_accuracy: 0.9689\n",
            "Epoch 115/120\n",
            "528/528 [==============================] - 4s 8ms/step - loss: 1.9421e-05 - accuracy: 1.0000 - val_loss: 0.2790 - val_accuracy: 0.9693\n",
            "Epoch 116/120\n",
            "528/528 [==============================] - 5s 10ms/step - loss: 1.2808e-05 - accuracy: 1.0000 - val_loss: 0.2800 - val_accuracy: 0.9693\n",
            "Epoch 117/120\n",
            "528/528 [==============================] - 4s 8ms/step - loss: 1.5049e-05 - accuracy: 1.0000 - val_loss: 0.2812 - val_accuracy: 0.9693\n",
            "Epoch 118/120\n",
            "528/528 [==============================] - 4s 8ms/step - loss: 1.5716e-05 - accuracy: 1.0000 - val_loss: 0.2835 - val_accuracy: 0.9689\n",
            "Epoch 119/120\n",
            "528/528 [==============================] - 5s 9ms/step - loss: 2.3312e-05 - accuracy: 1.0000 - val_loss: 0.2844 - val_accuracy: 0.9689\n",
            "Epoch 120/120\n",
            "528/528 [==============================] - 4s 8ms/step - loss: 1.3376e-05 - accuracy: 1.0000 - val_loss: 0.2829 - val_accuracy: 0.9693\n"
          ]
        }
      ]
    },
    {
      "cell_type": "code",
      "source": [
        "model.save(\"/content/gdrive/MyDrive/Models/CRNN_GRULSTM_Standalone_WithDense_Lite.h5\")\n",
        "score = model.evaluate(X_test, y_test)\n",
        "print(score)"
      ],
      "metadata": {
        "colab": {
          "base_uri": "https://localhost:8080/"
        },
        "id": "w4Od5L2gS-O_",
        "outputId": "18d93858-3f5d-47c1-c975-0e6c8c0ff9f0"
      },
      "id": "w4Od5L2gS-O_",
      "execution_count": 10,
      "outputs": [
        {
          "output_type": "stream",
          "name": "stdout",
          "text": [
            "66/66 [==============================] - 0s 6ms/step - loss: 0.1321 - accuracy: 0.9834\n",
            "[0.13208195567131042, 0.9834044575691223]\n"
          ]
        }
      ]
    },
    {
      "cell_type": "code",
      "source": [
        "pip install plot_keras_history"
      ],
      "metadata": {
        "colab": {
          "base_uri": "https://localhost:8080/"
        },
        "id": "p0XaNboBvEmB",
        "outputId": "9b457878-d45e-4a14-a08d-ba15371ee180"
      },
      "id": "p0XaNboBvEmB",
      "execution_count": 11,
      "outputs": [
        {
          "output_type": "stream",
          "name": "stdout",
          "text": [
            "Looking in indexes: https://pypi.org/simple, https://us-python.pkg.dev/colab-wheels/public/simple/\n",
            "Collecting plot_keras_history\n",
            "  Downloading plot_keras_history-1.1.38.tar.gz (11 kB)\n",
            "  Preparing metadata (setup.py) ... \u001b[?25l\u001b[?25hdone\n",
            "Requirement already satisfied: matplotlib in /usr/local/lib/python3.9/dist-packages (from plot_keras_history) (3.7.1)\n",
            "Requirement already satisfied: pandas in /usr/local/lib/python3.9/dist-packages (from plot_keras_history) (1.5.3)\n",
            "Requirement already satisfied: scipy in /usr/local/lib/python3.9/dist-packages (from plot_keras_history) (1.10.1)\n",
            "Collecting support_developer>=1.0.2\n",
            "  Downloading support_developer-1.0.5.tar.gz (4.9 kB)\n",
            "  Preparing metadata (setup.py) ... \u001b[?25l\u001b[?25hdone\n",
            "Collecting sanitize_ml_labels>=1.0.48\n",
            "  Downloading sanitize_ml_labels-1.0.50.tar.gz (322 kB)\n",
            "\u001b[2K     \u001b[90m━━━━━━━━━━━━━━━━━━━━━━━━━━━━━━━━━━━━━━\u001b[0m \u001b[32m322.1/322.1 kB\u001b[0m \u001b[31m11.4 MB/s\u001b[0m eta \u001b[36m0:00:00\u001b[0m\n",
            "\u001b[?25h  Preparing metadata (setup.py) ... \u001b[?25l\u001b[?25hdone\n",
            "Collecting compress_json\n",
            "  Downloading compress_json-1.0.8.tar.gz (4.7 kB)\n",
            "  Preparing metadata (setup.py) ... \u001b[?25l\u001b[?25hdone\n",
            "Requirement already satisfied: kiwisolver>=1.0.1 in /usr/local/lib/python3.9/dist-packages (from matplotlib->plot_keras_history) (1.4.4)\n",
            "Requirement already satisfied: contourpy>=1.0.1 in /usr/local/lib/python3.9/dist-packages (from matplotlib->plot_keras_history) (1.0.7)\n",
            "Requirement already satisfied: python-dateutil>=2.7 in /usr/local/lib/python3.9/dist-packages (from matplotlib->plot_keras_history) (2.8.2)\n",
            "Requirement already satisfied: pillow>=6.2.0 in /usr/local/lib/python3.9/dist-packages (from matplotlib->plot_keras_history) (8.4.0)\n",
            "Requirement already satisfied: pyparsing>=2.3.1 in /usr/local/lib/python3.9/dist-packages (from matplotlib->plot_keras_history) (3.0.9)\n",
            "Requirement already satisfied: numpy>=1.20 in /usr/local/lib/python3.9/dist-packages (from matplotlib->plot_keras_history) (1.22.4)\n",
            "Requirement already satisfied: importlib-resources>=3.2.0 in /usr/local/lib/python3.9/dist-packages (from matplotlib->plot_keras_history) (5.12.0)\n",
            "Requirement already satisfied: fonttools>=4.22.0 in /usr/local/lib/python3.9/dist-packages (from matplotlib->plot_keras_history) (4.39.3)\n",
            "Requirement already satisfied: packaging>=20.0 in /usr/local/lib/python3.9/dist-packages (from matplotlib->plot_keras_history) (23.0)\n",
            "Requirement already satisfied: cycler>=0.10 in /usr/local/lib/python3.9/dist-packages (from matplotlib->plot_keras_history) (0.11.0)\n",
            "Requirement already satisfied: pytz>=2020.1 in /usr/local/lib/python3.9/dist-packages (from pandas->plot_keras_history) (2022.7.1)\n",
            "Requirement already satisfied: zipp>=3.1.0 in /usr/local/lib/python3.9/dist-packages (from importlib-resources>=3.2.0->matplotlib->plot_keras_history) (3.15.0)\n",
            "Requirement already satisfied: six>=1.5 in /usr/local/lib/python3.9/dist-packages (from python-dateutil>=2.7->matplotlib->plot_keras_history) (1.16.0)\n",
            "Building wheels for collected packages: plot_keras_history, sanitize_ml_labels, support_developer, compress_json\n",
            "  Building wheel for plot_keras_history (setup.py) ... \u001b[?25l\u001b[?25hdone\n",
            "  Created wheel for plot_keras_history: filename=plot_keras_history-1.1.38-py3-none-any.whl size=9470 sha256=0726878fb261c91620de9b6c85c8f7a9b85df53247afcb3b8b4116f232fa93a8\n",
            "  Stored in directory: /root/.cache/pip/wheels/aa/0a/0f/0775c812151040fb695c0890d902810a9d69e1db50181e5328\n",
            "  Building wheel for sanitize_ml_labels (setup.py) ... \u001b[?25l\u001b[?25hdone\n",
            "  Created wheel for sanitize_ml_labels: filename=sanitize_ml_labels-1.0.50-py3-none-any.whl size=320515 sha256=5890889ccf091b7f0a8f3271d6144d276dfc6a5cbb5af4366de15bb68d167cc6\n",
            "  Stored in directory: /root/.cache/pip/wheels/d2/50/d6/95e7c7713c3c1609e30a394d7431ffc11e4f7deb82d13ffceb\n",
            "  Building wheel for support_developer (setup.py) ... \u001b[?25l\u001b[?25hdone\n",
            "  Created wheel for support_developer: filename=support_developer-1.0.5-py3-none-any.whl size=5651 sha256=e7d701612939c4b6790305ec9e00244b650eb7d4b85002a54528a519f4806fdf\n",
            "  Stored in directory: /root/.cache/pip/wheels/7c/a1/b1/9662c79502c353ff7e71c36f84846acd623cbcbe3f7255f5d5\n",
            "  Building wheel for compress_json (setup.py) ... \u001b[?25l\u001b[?25hdone\n",
            "  Created wheel for compress_json: filename=compress_json-1.0.8-py3-none-any.whl size=4731 sha256=4d216a6f9c99adc373f4b97ea39c9a1c50ecf011c89a63f39dda7f7dd56b428f\n",
            "  Stored in directory: /root/.cache/pip/wheels/d5/7c/cd/c765f939eb47ee20494e44f47b113cf3965a71dc0a4954c321\n",
            "Successfully built plot_keras_history sanitize_ml_labels support_developer compress_json\n",
            "Installing collected packages: support_developer, compress_json, sanitize_ml_labels, plot_keras_history\n",
            "Successfully installed compress_json-1.0.8 plot_keras_history-1.1.38 sanitize_ml_labels-1.0.50 support_developer-1.0.5\n"
          ]
        }
      ]
    },
    {
      "cell_type": "code",
      "execution_count": 12,
      "id": "00086db5",
      "metadata": {
        "id": "00086db5",
        "outputId": "ef358d77-8ee1-425f-e4dc-9cc95722d764",
        "colab": {
          "base_uri": "https://localhost:8080/",
          "height": 597
        }
      },
      "outputs": [
        {
          "output_type": "execute_result",
          "data": {
            "text/plain": [
              "(<Figure size 1000x500 with 2 Axes>,\n",
              " array([<Axes: title={'center': 'Loss'}, xlabel='Epochs', ylabel='Loss'>,\n",
              "        <Axes: title={'center': 'Accuracy'}, xlabel='Epochs', ylabel='Accuracy'>],\n",
              "       dtype=object))"
            ]
          },
          "metadata": {},
          "execution_count": 12
        },
        {
          "output_type": "display_data",
          "data": {
            "text/plain": [
              "<Figure size 1000x500 with 2 Axes>"
            ],
            "image/png": "[encoded data removed]"
          },
          "metadata": {}
        }
      ],
      "source": [
        "from plot_keras_history import show_history, plot_history\n",
        "plot_history(history)"
      ]
    },
    {
      "cell_type": "code",
      "execution_count": 13,
      "id": "f1b2c021",
      "metadata": {
        "id": "f1b2c021"
      },
      "outputs": [],
      "source": [
        "import matplotlib.pyplot as plt\n",
        "import itertools\n",
        "import numpy as np\n",
        "\n",
        "def plot_confusion_matrix(cm, classes,\n",
        "                        normalize=False,\n",
        "                        title='Confusion matrix',\n",
        "                        cmap=plt.cm.Blues):\n",
        "    \"\"\"\n",
        "    This function prints and plots the confusion matrix.\n",
        "    Normalization can be applied by setting `normalize=True`.\n",
        "    \"\"\"\n",
        "    plt.imshow(cm, interpolation='nearest', cmap=cmap)\n",
        "    plt.title(title)\n",
        "    plt.colorbar()\n",
        "    tick_marks = np.arange(len(classes))\n",
        "    plt.xticks(tick_marks, classes, rotation=45)\n",
        "    plt.yticks(tick_marks, classes)\n",
        "\n",
        "    if normalize:\n",
        "        cm = cm.astype('float') / cm.sum(axis=1)[:, np.newaxis]\n",
        "        print(\"Normalized confusion matrix\")\n",
        "    else:\n",
        "        print('Confusion matrix, without normalization')\n",
        "\n",
        "    print(cm)\n",
        "\n",
        "    thresh = cm.max() / 2.\n",
        "    for i, j in itertools.product(range(cm.shape[0]), range(cm.shape[1])):\n",
        "        plt.text(j, i, cm[i, j],\n",
        "            horizontalalignment=\"center\",\n",
        "            color=\"white\" if cm[i, j] > thresh else \"black\")\n",
        "\n",
        "    plt.tight_layout()\n",
        "    plt.ylabel('True label')\n",
        "    plt.xlabel('Predicted label')\n",
        "    plt.show()"
      ]
    },
    {
      "cell_type": "code",
      "execution_count": 14,
      "id": "02a912f5",
      "metadata": {
        "id": "02a912f5",
        "outputId": "4a186c88-5e66-416b-806a-9a76b80d3810",
        "colab": {
          "base_uri": "https://localhost:8080/",
          "height": 766
        }
      },
      "outputs": [
        {
          "output_type": "stream",
          "name": "stdout",
          "text": [
            "Model Classification Report: \n",
            "\n",
            "66/66 [==============================] - 1s 4ms/step\n",
            "              precision    recall  f1-score   support\n",
            "\n",
            "           0       0.98      0.98      0.98      1049\n",
            "           1       0.98      0.98      0.98      1060\n",
            "\n",
            "    accuracy                           0.98      2109\n",
            "   macro avg       0.98      0.98      0.98      2109\n",
            "weighted avg       0.98      0.98      0.98      2109\n",
            "\n",
            "Confusion matrix, without normalization\n",
            "[[1031   18]\n",
            " [  17 1043]]\n"
          ]
        },
        {
          "output_type": "display_data",
          "data": {
            "text/plain": [
              "<Figure size 640x480 with 2 Axes>"
            ],
            "image/png": "[encoded data removed]"
          },
          "metadata": {}
        }
      ],
      "source": [
        "print(\"Model Classification Report: \\n\")\n",
        "y_pred = np.argmax(model.predict(X_test), axis=1)\n",
        "cm = confusion_matrix(np.argmax(y_test, axis=1), y_pred)\n",
        "print(classification_report(np.argmax(y_test, axis=1), y_pred))\n",
        "plot_confusion_matrix(cm, classes=[\"Does not have Wake Word\", \"Has Wake Word\"])"
      ]
    },
    {
      "cell_type": "markdown",
      "source": [
        "##PREDICTION & LATENCY"
      ],
      "metadata": {
        "id": "6EXAxu5MSbk4"
      },
      "id": "6EXAxu5MSbk4"
    },
    {
      "cell_type": "code",
      "source": [
        "pip install spafe"
      ],
      "metadata": {
        "colab": {
          "base_uri": "https://localhost:8080/"
        },
        "id": "gC-cWXr_SdUJ",
        "outputId": "21a54d27-3ff5-47f2-ff4a-8acb689a0e34"
      },
      "id": "gC-cWXr_SdUJ",
      "execution_count": 15,
      "outputs": [
        {
          "output_type": "stream",
          "name": "stdout",
          "text": [
            "Looking in indexes: https://pypi.org/simple, https://us-python.pkg.dev/colab-wheels/public/simple/\n",
            "Collecting spafe\n",
            "  Downloading spafe-0.3.2-py3-none-any.whl (93 kB)\n",
            "\u001b[2K     \u001b[90m━━━━━━━━━━━━━━━━━━━━━━━━━━━━━━━━━━━━━━━━\u001b[0m \u001b[32m93.5/93.5 kB\u001b[0m \u001b[31m4.8 MB/s\u001b[0m eta \u001b[36m0:00:00\u001b[0m\n",
            "\u001b[?25hRequirement already satisfied: typing-extensions in /usr/local/lib/python3.9/dist-packages (from spafe) (4.5.0)\n",
            "Requirement already satisfied: scipy>=1.7.3 in /usr/local/lib/python3.9/dist-packages (from spafe) (1.10.1)\n",
            "Requirement already satisfied: numpy>=1.21 in /usr/local/lib/python3.9/dist-packages (from spafe) (1.22.4)\n",
            "Installing collected packages: spafe\n",
            "Successfully installed spafe-0.3.2\n"
          ]
        }
      ]
    },
    {
      "cell_type": "code",
      "source": [
        "import spafe\n",
        "from spafe.features.lfcc import lfcc\n",
        "import pywt"
      ],
      "metadata": {
        "id": "xyfLPAq7Sg_P"
      },
      "id": "xyfLPAq7Sg_P",
      "execution_count": 16,
      "outputs": []
    },
    {
      "cell_type": "code",
      "source": [
        "def predict(audio):\n",
        "  audio_data, sr = librosa.load(audio)\n",
        "\n",
        "  wavelet = 'db4'\n",
        "  level = 4\n",
        "  coeffs = pywt.wavedec(audio_data, wavelet, level=level)\n",
        "  threshold = np.median(np.abs(coeffs[-level])) / 0.6745\n",
        "  for i in range(1, len(coeffs)):\n",
        "    coeffs[i] = pywt.threshold(coeffs[i], threshold)\n",
        "  denoised_audio = pywt.waverec(coeffs, wavelet)\n",
        "\n",
        "  lfccs  = lfcc(denoised_audio, fs = sr, num_ceps=13)\n",
        "  lfccs_processed = np.mean(lfccs.T, axis=0) # some pre-processing\n",
        "  lfccs_new = np.expand_dims(np.asarray(lfccs_processed), axis=0)\n",
        "  predictions = model.predict(lfccs_new)\n",
        "  return predictions"
      ],
      "metadata": {
        "id": "pXUNOb2DSiVK"
      },
      "id": "pXUNOb2DSiVK",
      "execution_count": 17,
      "outputs": []
    },
    {
      "cell_type": "code",
      "source": [
        "audio_for_pred = \"/content/gdrive/MyDrive/Marvin/marvin (170).wav\"\n",
        "print(np.round(predict(audio_for_pred)))"
      ],
      "metadata": {
        "colab": {
          "base_uri": "https://localhost:8080/"
        },
        "id": "TpZL0Ctpm1Tc",
        "outputId": "34920ec9-d016-4949-d01f-7811f427fbe4"
      },
      "id": "TpZL0Ctpm1Tc",
      "execution_count": 18,
      "outputs": [
        {
          "output_type": "stream",
          "name": "stdout",
          "text": [
            "1/1 [==============================] - 0s 233ms/step\n",
            "[[0. 1.]]\n"
          ]
        }
      ]
    },
    {
      "cell_type": "code",
      "source": [
        "audio_for_pred = \"/content/gdrive/MyDrive/False/yes (824).wav\"\n",
        "print(np.round(predict(audio_for_pred)))"
      ],
      "metadata": {
        "colab": {
          "base_uri": "https://localhost:8080/"
        },
        "id": "CH9jJptGm1ot",
        "outputId": "dee02381-0ab6-4761-8be3-91853e1f0732"
      },
      "id": "CH9jJptGm1ot",
      "execution_count": 19,
      "outputs": [
        {
          "output_type": "stream",
          "name": "stdout",
          "text": [
            "1/1 [==============================] - 0s 34ms/step\n",
            "[[1. 0.]]\n"
          ]
        }
      ]
    }
  ],
  "metadata": {
    "kernelspec": {
      "display_name": "Python 3 (ipykernel)",
      "language": "python",
      "name": "python3"
    },
    "language_info": {
      "codemirror_mode": {
        "name": "ipython",
        "version": 3
      },
      "file_extension": ".py",
      "mimetype": "text/x-python",
      "name": "python",
      "nbconvert_exporter": "python",
      "pygments_lexer": "ipython3",
      "version": "3.9.12"
    },
    "colab": {
      "provenance": []
    },
    "gpuClass": "standard"
  },
  "nbformat": 4,
  "nbformat_minor": 5
}