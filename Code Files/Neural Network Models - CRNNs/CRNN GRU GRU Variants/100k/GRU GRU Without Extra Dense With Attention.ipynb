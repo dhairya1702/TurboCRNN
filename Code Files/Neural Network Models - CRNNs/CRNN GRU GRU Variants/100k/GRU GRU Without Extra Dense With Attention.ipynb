{
  "cells": [
    {
      "cell_type": "code",
      "execution_count": null,
      "metadata": {
        "colab": {
          "base_uri": "https://localhost:8080/"
        },
        "id": "SANNUYcJSP0l",
        "outputId": "7637be33-8f0c-46e3-ec83-4977a7c075b2"
      },
      "outputs": [
        {
          "output_type": "stream",
          "name": "stdout",
          "text": [
            "Mounted at /content/gdrive\n"
          ]
        }
      ],
      "source": [
        "from google.colab import drive\n",
        "drive.mount('/content/gdrive')"
      ]
    },
    {
      "cell_type": "code",
      "execution_count": null,
      "metadata": {
        "id": "eLL0gmwaSZ8q"
      },
      "outputs": [],
      "source": [
        "import os\n",
        "import numpy as np\n",
        "import pandas as pd\n",
        "import matplotlib.pyplot as plt\n",
        "import librosa, librosa.display\n",
        "\n",
        "import tensorflow as tf \n",
        "from sklearn.model_selection import train_test_split\n",
        "from tensorflow.keras import Sequential\n",
        "from tensorflow.keras.layers import Dense, Activation, Dropout, GRU, Input\n",
        "from sklearn.metrics import confusion_matrix, classification_report"
      ]
    },
    {
      "cell_type": "code",
      "execution_count": null,
      "metadata": {
        "id": "0Kq84or6Sfqz"
      },
      "outputs": [],
      "source": [
        "X_train = np.load('/content/gdrive/MyDrive/Colab Notebooks/FYP/WaveletTransformDenoised/X_train.npy')\n",
        "y_train = np.load('/content/gdrive/MyDrive/Colab Notebooks/FYP/WaveletTransformDenoised/y_train.npy')\n",
        "X_test = np.load('/content/gdrive/MyDrive/Colab Notebooks/FYP/WaveletTransformDenoised/X_test.npy')\n",
        "y_test = np.load('/content/gdrive/MyDrive/Colab Notebooks/FYP/WaveletTransformDenoised/y_test.npy')\n",
        "X_val = np.load('/content/gdrive/MyDrive/Colab Notebooks/FYP/WaveletTransformDenoised/X_val.npy')\n",
        "y_val = np.load('/content/gdrive/MyDrive/Colab Notebooks/FYP/WaveletTransformDenoised/y_val.npy')"
      ]
    },
    {
      "cell_type": "code",
      "execution_count": null,
      "metadata": {
        "colab": {
          "base_uri": "https://localhost:8080/"
        },
        "id": "yT10o_10ShvM",
        "outputId": "10de7fd3-0367-4d99-ce6f-0debafea032a"
      },
      "outputs": [
        {
          "output_type": "stream",
          "name": "stdout",
          "text": [
            "(16893, 98) (16893, 2)\n",
            "(2109, 98) (2109, 2)\n",
            "(2088, 98) (2088, 2)\n"
          ]
        }
      ],
      "source": [
        "print(X_train.shape, y_train.shape)\n",
        "print(X_test.shape, y_test.shape)\n",
        "print(X_val.shape, y_val.shape)"
      ]
    },
    {
      "cell_type": "code",
      "execution_count": null,
      "metadata": {
        "colab": {
          "base_uri": "https://localhost:8080/"
        },
        "id": "VTbs6Ji1Skoi",
        "outputId": "43d2f16c-5330-4673-c804-5400ab0fab7c"
      },
      "outputs": [
        {
          "output_type": "stream",
          "name": "stdout",
          "text": [
            "Model: \"model_3\"\n",
            "__________________________________________________________________________________________________\n",
            " Layer (type)                   Output Shape         Param #     Connected to                     \n",
            "==================================================================================================\n",
            " input_4 (InputLayer)           [(None, 98, 1)]      0           []                               \n",
            "                                                                                                  \n",
            " conv1d_9 (Conv1D)              (None, 94, 64)       384         ['input_4[0][0]']                \n",
            "                                                                                                  \n",
            " max_pooling1d_6 (MaxPooling1D)  (None, 47, 64)      0           ['conv1d_9[0][0]']               \n",
            "                                                                                                  \n",
            " conv1d_10 (Conv1D)             (None, 43, 32)       10272       ['max_pooling1d_6[0][0]']        \n",
            "                                                                                                  \n",
            " max_pooling1d_7 (MaxPooling1D)  (None, 21, 32)      0           ['conv1d_10[0][0]']              \n",
            "                                                                                                  \n",
            " conv1d_11 (Conv1D)             (None, 17, 64)       10304       ['max_pooling1d_7[0][0]']        \n",
            "                                                                                                  \n",
            " max_pooling1d_8 (MaxPooling1D)  (None, 8, 64)       0           ['conv1d_11[0][0]']              \n",
            "                                                                                                  \n",
            " gru_6 (GRU)                    (None, 128)          74496       ['max_pooling1d_8[0][0]']        \n",
            "                                                                                                  \n",
            " reshape_15 (Reshape)           (None, 2, 64)        0           ['gru_6[0][0]']                  \n",
            "                                                                                                  \n",
            " permute_3 (Permute)            (None, 64, 2)        0           ['reshape_15[0][0]']             \n",
            "                                                                                                  \n",
            " gru_7 (GRU)                    (None, 64)           13056       ['permute_3[0][0]']              \n",
            "                                                                                                  \n",
            " dense_12 (Dense)               (None, 128)          8320        ['gru_7[0][0]']                  \n",
            "                                                                                                  \n",
            " dense_13 (Dense)               (None, 128)          8320        ['gru_7[0][0]']                  \n",
            "                                                                                                  \n",
            " reshape_16 (Reshape)           (None, 1, 128)       0           ['dense_12[0][0]']               \n",
            "                                                                                                  \n",
            " reshape_17 (Reshape)           (None, 1, 128)       0           ['dense_13[0][0]']               \n",
            "                                                                                                  \n",
            " dot_6 (Dot)                    (None, 1, 1)         0           ['reshape_16[0][0]',             \n",
            "                                                                  'reshape_17[0][0]']             \n",
            "                                                                                                  \n",
            " dense_14 (Dense)               (None, 128)          8320        ['gru_7[0][0]']                  \n",
            "                                                                                                  \n",
            " activation_3 (Activation)      (None, 1, 1)         0           ['dot_6[0][0]']                  \n",
            "                                                                                                  \n",
            " reshape_18 (Reshape)           (None, 1, 128)       0           ['dense_14[0][0]']               \n",
            "                                                                                                  \n",
            " dot_7 (Dot)                    (None, 1, 128)       0           ['activation_3[0][0]',           \n",
            "                                                                  'reshape_18[0][0]']             \n",
            "                                                                                                  \n",
            " reshape_19 (Reshape)           (None, 128)          0           ['dot_7[0][0]']                  \n",
            "                                                                                                  \n",
            " batch_normalization_4 (BatchNo  (None, 128)         512         ['reshape_19[0][0]']             \n",
            " rmalization)                                                                                     \n",
            "                                                                                                  \n",
            " dropout_2 (Dropout)            (None, 128)          0           ['batch_normalization_4[0][0]']  \n",
            "                                                                                                  \n",
            " dense_15 (Dense)               (None, 2)            258         ['dropout_2[0][0]']              \n",
            "                                                                                                  \n",
            "==================================================================================================\n",
            "Total params: 134,242\n",
            "Trainable params: 133,986\n",
            "Non-trainable params: 256\n",
            "__________________________________________________________________________________________________\n",
            "None\n"
          ]
        }
      ],
      "source": [
        "from keras.layers import Input, LSTM, GRU, Dense, Embedding, Conv1D, MaxPooling1D, Activation\n",
        "from keras.layers import Reshape, Softmax, Permute, Multiply, dot, concatenate\n",
        "from keras.layers import BatchNormalization\n",
        "from keras.models import Model\n",
        "from keras.regularizers import l2\n",
        "import keras.backend as K\n",
        "\n",
        "inputs = Input(shape=(98,1))\n",
        "conv1 = Conv1D(64, 5, activation='relu')(inputs)\n",
        "pool1 = MaxPooling1D(2)(conv1)\n",
        "conv2 = Conv1D(32, 5, activation='relu')(pool1)\n",
        "pool2 = MaxPooling1D(2)(conv2)\n",
        "conv3 = Conv1D(64, 5, activation='relu')(pool2)\n",
        "pool3 = MaxPooling1D(2)(conv3)\n",
        "\n",
        "gru1 = GRU(128)(pool3)\n",
        "reshaped = Reshape((-1, K.int_shape(pool3)[-1]))(gru1)\n",
        "permuted = Permute((2, 1))(reshaped)\n",
        "gru2 = GRU(64)(permuted)\n",
        "\n",
        "\n",
        "q = Dense(128)(gru2)\n",
        "k = Dense(128)(gru2)\n",
        "v = Dense(128)(gru2)\n",
        "\n",
        "q = Reshape((1, 128))(q)\n",
        "k = Reshape((1, 128))(k)\n",
        "v = Reshape((1, 128))(v)\n",
        "\n",
        "attention = dot([q, k], axes=[2, 2])\n",
        "attention = Activation('softmax')(attention)\n",
        "\n",
        "output = dot([attention, v], axes=[2, 1])\n",
        "output = Reshape((128,))(output)\n",
        "output = BatchNormalization()(output)\n",
        "output = Dropout(0.3)(output)\n",
        "\n",
        "output = Dense(2, activation='softmax')(output)\n",
        "\n",
        "model = Model(inputs=inputs, outputs=output)\n",
        "\n",
        "print(model.summary())"
      ]
    },
    {
      "cell_type": "code",
      "execution_count": null,
      "metadata": {
        "id": "-yIJqsWiSm1-"
      },
      "outputs": [],
      "source": [
        "model.compile(\n",
        "    loss=\"categorical_crossentropy\",\n",
        "    optimizer=tf.keras.optimizers.Adam(amsgrad=True),\n",
        "    metrics=['accuracy']\n",
        ")"
      ]
    },
    {
      "cell_type": "code",
      "execution_count": null,
      "metadata": {
        "colab": {
          "base_uri": "https://localhost:8080/"
        },
        "id": "UMUPkLZ5htNZ",
        "outputId": "34c06b17-96ed-489b-b79b-dbbe3e8ffab3"
      },
      "outputs": [
        {
          "output_type": "stream",
          "name": "stdout",
          "text": [
            "Model Score: \n",
            "\n",
            "Epoch 1/120\n",
            "528/528 [==============================] - 15s 12ms/step - loss: 0.3820 - accuracy: 0.8292 - val_loss: 0.3730 - val_accuracy: 0.8391\n",
            "Epoch 2/120\n",
            "528/528 [==============================] - 7s 13ms/step - loss: 0.2116 - accuracy: 0.9209 - val_loss: 0.4274 - val_accuracy: 0.8309\n",
            "Epoch 3/120\n",
            "528/528 [==============================] - 5s 10ms/step - loss: 0.1877 - accuracy: 0.9307 - val_loss: 0.1683 - val_accuracy: 0.9382\n",
            "Epoch 4/120\n",
            "528/528 [==============================] - 6s 12ms/step - loss: 0.1694 - accuracy: 0.9361 - val_loss: 0.1681 - val_accuracy: 0.9353\n",
            "Epoch 5/120\n",
            "528/528 [==============================] - 6s 11ms/step - loss: 0.1572 - accuracy: 0.9435 - val_loss: 0.1673 - val_accuracy: 0.9425\n",
            "Epoch 6/120\n",
            "528/528 [==============================] - 6s 10ms/step - loss: 0.1472 - accuracy: 0.9442 - val_loss: 0.1533 - val_accuracy: 0.9425\n",
            "Epoch 7/120\n",
            "528/528 [==============================] - 7s 12ms/step - loss: 0.1327 - accuracy: 0.9511 - val_loss: 0.1402 - val_accuracy: 0.9521\n",
            "Epoch 8/120\n",
            "528/528 [==============================] - 5s 10ms/step - loss: 0.1213 - accuracy: 0.9545 - val_loss: 0.1423 - val_accuracy: 0.9521\n",
            "Epoch 9/120\n",
            "528/528 [==============================] - 6s 12ms/step - loss: 0.1133 - accuracy: 0.9588 - val_loss: 0.1741 - val_accuracy: 0.9401\n",
            "Epoch 10/120\n",
            "528/528 [==============================] - 6s 11ms/step - loss: 0.1061 - accuracy: 0.9602 - val_loss: 0.1608 - val_accuracy: 0.9416\n",
            "Epoch 11/120\n",
            "528/528 [==============================] - 7s 12ms/step - loss: 0.0933 - accuracy: 0.9677 - val_loss: 0.1135 - val_accuracy: 0.9626\n",
            "Epoch 12/120\n",
            "528/528 [==============================] - 6s 11ms/step - loss: 0.0870 - accuracy: 0.9695 - val_loss: 0.1180 - val_accuracy: 0.9650\n",
            "Epoch 13/120\n",
            "528/528 [==============================] - 6s 12ms/step - loss: 0.0806 - accuracy: 0.9702 - val_loss: 0.1411 - val_accuracy: 0.9569\n",
            "Epoch 14/120\n",
            "528/528 [==============================] - 6s 11ms/step - loss: 0.0706 - accuracy: 0.9747 - val_loss: 0.1470 - val_accuracy: 0.9531\n",
            "Epoch 15/120\n",
            "528/528 [==============================] - 6s 12ms/step - loss: 0.0686 - accuracy: 0.9759 - val_loss: 0.1844 - val_accuracy: 0.9382\n",
            "Epoch 16/120\n",
            "528/528 [==============================] - 6s 12ms/step - loss: 0.0600 - accuracy: 0.9784 - val_loss: 0.1435 - val_accuracy: 0.9545\n",
            "Epoch 17/120\n",
            "528/528 [==============================] - 6s 11ms/step - loss: 0.0539 - accuracy: 0.9809 - val_loss: 0.1467 - val_accuracy: 0.9488\n",
            "Epoch 18/120\n",
            "528/528 [==============================] - 8s 15ms/step - loss: 0.0524 - accuracy: 0.9810 - val_loss: 0.1033 - val_accuracy: 0.9665\n",
            "Epoch 19/120\n",
            "528/528 [==============================] - 5s 10ms/step - loss: 0.0431 - accuracy: 0.9860 - val_loss: 0.1041 - val_accuracy: 0.9693\n",
            "Epoch 20/120\n",
            "528/528 [==============================] - 7s 14ms/step - loss: 0.0432 - accuracy: 0.9857 - val_loss: 0.0911 - val_accuracy: 0.9698\n",
            "Epoch 21/120\n",
            "528/528 [==============================] - 6s 11ms/step - loss: 0.0374 - accuracy: 0.9862 - val_loss: 0.1143 - val_accuracy: 0.9650\n",
            "Epoch 22/120\n",
            "528/528 [==============================] - 6s 12ms/step - loss: 0.0364 - accuracy: 0.9876 - val_loss: 0.1019 - val_accuracy: 0.9717\n",
            "Epoch 23/120\n",
            "528/528 [==============================] - 6s 11ms/step - loss: 0.0351 - accuracy: 0.9888 - val_loss: 0.0965 - val_accuracy: 0.9708\n",
            "Epoch 24/120\n",
            "528/528 [==============================] - 6s 11ms/step - loss: 0.0321 - accuracy: 0.9880 - val_loss: 0.1446 - val_accuracy: 0.9646\n",
            "Epoch 25/120\n",
            "528/528 [==============================] - 6s 12ms/step - loss: 0.0291 - accuracy: 0.9896 - val_loss: 0.1177 - val_accuracy: 0.9713\n",
            "Epoch 26/120\n",
            "528/528 [==============================] - 6s 11ms/step - loss: 0.0248 - accuracy: 0.9920 - val_loss: 0.1211 - val_accuracy: 0.9674\n",
            "Epoch 27/120\n",
            "528/528 [==============================] - 7s 12ms/step - loss: 0.0272 - accuracy: 0.9912 - val_loss: 0.1171 - val_accuracy: 0.9655\n",
            "Epoch 28/120\n",
            "528/528 [==============================] - 5s 10ms/step - loss: 0.0243 - accuracy: 0.9915 - val_loss: 0.1297 - val_accuracy: 0.9670\n",
            "Epoch 29/120\n",
            "528/528 [==============================] - 7s 12ms/step - loss: 0.0220 - accuracy: 0.9926 - val_loss: 0.1408 - val_accuracy: 0.9660\n",
            "Epoch 30/120\n",
            "528/528 [==============================] - 6s 11ms/step - loss: 0.0192 - accuracy: 0.9934 - val_loss: 0.1475 - val_accuracy: 0.9650\n",
            "Epoch 31/120\n",
            "528/528 [==============================] - 7s 13ms/step - loss: 0.0229 - accuracy: 0.9923 - val_loss: 0.1081 - val_accuracy: 0.9751\n",
            "Epoch 32/120\n",
            "528/528 [==============================] - 6s 11ms/step - loss: 0.0162 - accuracy: 0.9943 - val_loss: 0.1049 - val_accuracy: 0.9775\n",
            "Epoch 33/120\n",
            "528/528 [==============================] - 6s 12ms/step - loss: 0.0192 - accuracy: 0.9934 - val_loss: 0.1340 - val_accuracy: 0.9727\n",
            "Epoch 34/120\n",
            "528/528 [==============================] - 6s 11ms/step - loss: 0.0160 - accuracy: 0.9947 - val_loss: 0.1857 - val_accuracy: 0.9622\n",
            "Epoch 35/120\n",
            "528/528 [==============================] - 6s 11ms/step - loss: 0.0167 - accuracy: 0.9947 - val_loss: 0.1338 - val_accuracy: 0.9756\n",
            "Epoch 36/120\n",
            "528/528 [==============================] - 7s 12ms/step - loss: 0.0153 - accuracy: 0.9945 - val_loss: 0.1384 - val_accuracy: 0.9717\n",
            "Epoch 37/120\n",
            "528/528 [==============================] - 6s 11ms/step - loss: 0.0135 - accuracy: 0.9958 - val_loss: 0.1637 - val_accuracy: 0.9689\n",
            "Epoch 38/120\n",
            "528/528 [==============================] - 7s 12ms/step - loss: 0.0131 - accuracy: 0.9957 - val_loss: 0.1413 - val_accuracy: 0.9737\n",
            "Epoch 39/120\n",
            "528/528 [==============================] - 6s 11ms/step - loss: 0.0184 - accuracy: 0.9946 - val_loss: 0.1417 - val_accuracy: 0.9689\n",
            "Epoch 40/120\n",
            "528/528 [==============================] - 7s 12ms/step - loss: 0.0129 - accuracy: 0.9960 - val_loss: 0.1159 - val_accuracy: 0.9703\n",
            "Epoch 41/120\n",
            "528/528 [==============================] - 6s 11ms/step - loss: 0.0095 - accuracy: 0.9970 - val_loss: 0.1761 - val_accuracy: 0.9665\n",
            "Epoch 42/120\n",
            "528/528 [==============================] - 6s 12ms/step - loss: 0.0138 - accuracy: 0.9954 - val_loss: 0.1560 - val_accuracy: 0.9679\n",
            "Epoch 43/120\n",
            "528/528 [==============================] - 6s 11ms/step - loss: 0.0139 - accuracy: 0.9953 - val_loss: 0.1429 - val_accuracy: 0.9693\n",
            "Epoch 44/120\n",
            "528/528 [==============================] - 6s 11ms/step - loss: 0.0129 - accuracy: 0.9960 - val_loss: 0.1465 - val_accuracy: 0.9679\n",
            "Epoch 45/120\n",
            "528/528 [==============================] - 7s 14ms/step - loss: 0.0109 - accuracy: 0.9965 - val_loss: 0.1421 - val_accuracy: 0.9775\n",
            "Epoch 46/120\n",
            "528/528 [==============================] - 6s 11ms/step - loss: 0.0083 - accuracy: 0.9975 - val_loss: 0.1666 - val_accuracy: 0.9713\n",
            "Epoch 47/120\n",
            "528/528 [==============================] - 7s 12ms/step - loss: 0.0071 - accuracy: 0.9977 - val_loss: 0.1575 - val_accuracy: 0.9693\n",
            "Epoch 48/120\n",
            "528/528 [==============================] - 6s 11ms/step - loss: 0.0060 - accuracy: 0.9980 - val_loss: 0.1673 - val_accuracy: 0.9746\n",
            "Epoch 49/120\n",
            "528/528 [==============================] - 7s 12ms/step - loss: 0.0141 - accuracy: 0.9953 - val_loss: 0.1783 - val_accuracy: 0.9679\n",
            "Epoch 50/120\n",
            "528/528 [==============================] - 6s 11ms/step - loss: 0.0094 - accuracy: 0.9972 - val_loss: 0.1692 - val_accuracy: 0.9684\n",
            "Epoch 51/120\n",
            "528/528 [==============================] - 7s 13ms/step - loss: 0.0075 - accuracy: 0.9978 - val_loss: 0.1455 - val_accuracy: 0.9746\n",
            "Epoch 52/120\n",
            "528/528 [==============================] - 6s 11ms/step - loss: 0.0113 - accuracy: 0.9962 - val_loss: 0.1443 - val_accuracy: 0.9746\n",
            "Epoch 53/120\n",
            "528/528 [==============================] - 6s 12ms/step - loss: 0.0066 - accuracy: 0.9976 - val_loss: 0.1745 - val_accuracy: 0.9693\n",
            "Epoch 54/120\n",
            "528/528 [==============================] - 6s 11ms/step - loss: 0.0141 - accuracy: 0.9954 - val_loss: 0.1969 - val_accuracy: 0.9622\n",
            "Epoch 55/120\n",
            "528/528 [==============================] - 6s 11ms/step - loss: 0.0090 - accuracy: 0.9972 - val_loss: 0.1771 - val_accuracy: 0.9679\n",
            "Epoch 56/120\n",
            "528/528 [==============================] - 6s 12ms/step - loss: 0.0074 - accuracy: 0.9981 - val_loss: 0.1497 - val_accuracy: 0.9732\n",
            "Epoch 57/120\n",
            "528/528 [==============================] - 6s 11ms/step - loss: 0.0108 - accuracy: 0.9964 - val_loss: 0.2199 - val_accuracy: 0.9617\n",
            "Epoch 58/120\n",
            "528/528 [==============================] - 6s 12ms/step - loss: 0.0095 - accuracy: 0.9969 - val_loss: 0.1957 - val_accuracy: 0.9617\n",
            "Epoch 59/120\n",
            "528/528 [==============================] - 6s 11ms/step - loss: 0.0066 - accuracy: 0.9986 - val_loss: 0.2270 - val_accuracy: 0.9684\n",
            "Epoch 60/120\n",
            "528/528 [==============================] - 7s 12ms/step - loss: 0.0124 - accuracy: 0.9967 - val_loss: 0.1402 - val_accuracy: 0.9684\n",
            "Epoch 61/120\n",
            "528/528 [==============================] - 6s 11ms/step - loss: 0.0036 - accuracy: 0.9990 - val_loss: 0.1302 - val_accuracy: 0.9784\n",
            "Epoch 62/120\n",
            "528/528 [==============================] - 6s 12ms/step - loss: 0.0082 - accuracy: 0.9970 - val_loss: 0.1687 - val_accuracy: 0.9689\n",
            "Epoch 63/120\n",
            "528/528 [==============================] - 6s 11ms/step - loss: 0.0086 - accuracy: 0.9976 - val_loss: 0.1582 - val_accuracy: 0.9698\n",
            "Epoch 64/120\n",
            "528/528 [==============================] - 6s 11ms/step - loss: 0.0035 - accuracy: 0.9989 - val_loss: 0.1919 - val_accuracy: 0.9703\n",
            "Epoch 65/120\n",
            "528/528 [==============================] - 6s 12ms/step - loss: 0.0106 - accuracy: 0.9964 - val_loss: 0.1763 - val_accuracy: 0.9679\n",
            "Epoch 66/120\n",
            "528/528 [==============================] - 6s 11ms/step - loss: 0.0056 - accuracy: 0.9982 - val_loss: 0.1864 - val_accuracy: 0.9665\n",
            "Epoch 67/120\n",
            "528/528 [==============================] - 7s 13ms/step - loss: 0.0112 - accuracy: 0.9967 - val_loss: 0.1315 - val_accuracy: 0.9698\n",
            "Epoch 68/120\n",
            "528/528 [==============================] - 6s 10ms/step - loss: 0.0054 - accuracy: 0.9982 - val_loss: 0.1701 - val_accuracy: 0.9713\n",
            "Epoch 69/120\n",
            "528/528 [==============================] - 7s 12ms/step - loss: 0.0040 - accuracy: 0.9986 - val_loss: 0.2119 - val_accuracy: 0.9684\n",
            "Epoch 70/120\n",
            "528/528 [==============================] - 6s 11ms/step - loss: 0.0069 - accuracy: 0.9980 - val_loss: 0.1549 - val_accuracy: 0.9722\n",
            "Epoch 71/120\n",
            "528/528 [==============================] - 6s 12ms/step - loss: 0.0027 - accuracy: 0.9992 - val_loss: 0.1749 - val_accuracy: 0.9717\n",
            "Epoch 72/120\n",
            "528/528 [==============================] - 6s 11ms/step - loss: 0.0126 - accuracy: 0.9967 - val_loss: 0.2168 - val_accuracy: 0.9636\n",
            "Epoch 73/120\n",
            "528/528 [==============================] - 7s 14ms/step - loss: 0.0090 - accuracy: 0.9976 - val_loss: 0.1591 - val_accuracy: 0.9756\n",
            "Epoch 74/120\n",
            "528/528 [==============================] - 6s 12ms/step - loss: 0.0045 - accuracy: 0.9986 - val_loss: 0.2622 - val_accuracy: 0.9593\n",
            "Epoch 75/120\n",
            "528/528 [==============================] - 6s 11ms/step - loss: 0.0095 - accuracy: 0.9973 - val_loss: 0.1829 - val_accuracy: 0.9660\n",
            "Epoch 76/120\n",
            "528/528 [==============================] - 6s 12ms/step - loss: 0.0027 - accuracy: 0.9991 - val_loss: 0.2058 - val_accuracy: 0.9722\n",
            "Epoch 77/120\n",
            "528/528 [==============================] - 6s 11ms/step - loss: 0.0057 - accuracy: 0.9983 - val_loss: 0.1796 - val_accuracy: 0.9703\n",
            "Epoch 78/120\n",
            "528/528 [==============================] - 7s 12ms/step - loss: 0.0034 - accuracy: 0.9989 - val_loss: 0.1725 - val_accuracy: 0.9737\n",
            "Epoch 79/120\n",
            "528/528 [==============================] - 6s 11ms/step - loss: 0.0099 - accuracy: 0.9970 - val_loss: 0.1872 - val_accuracy: 0.9665\n",
            "Epoch 80/120\n",
            "528/528 [==============================] - 7s 12ms/step - loss: 0.0089 - accuracy: 0.9975 - val_loss: 0.1508 - val_accuracy: 0.9727\n",
            "Epoch 81/120\n",
            "528/528 [==============================] - 6s 11ms/step - loss: 0.0062 - accuracy: 0.9983 - val_loss: 0.2116 - val_accuracy: 0.9646\n",
            "Epoch 82/120\n",
            "528/528 [==============================] - 9s 17ms/step - loss: 0.0077 - accuracy: 0.9976 - val_loss: 0.1696 - val_accuracy: 0.9708\n",
            "Epoch 83/120\n",
            "528/528 [==============================] - 6s 12ms/step - loss: 0.0053 - accuracy: 0.9982 - val_loss: 0.2236 - val_accuracy: 0.9655\n",
            "Epoch 84/120\n",
            "528/528 [==============================] - 7s 12ms/step - loss: 0.0102 - accuracy: 0.9972 - val_loss: 0.2373 - val_accuracy: 0.9626\n",
            "Epoch 85/120\n",
            "528/528 [==============================] - 6s 11ms/step - loss: 0.0044 - accuracy: 0.9989 - val_loss: 0.1739 - val_accuracy: 0.9689\n",
            "Epoch 86/120\n",
            "528/528 [==============================] - 6s 12ms/step - loss: 0.0021 - accuracy: 0.9995 - val_loss: 0.1965 - val_accuracy: 0.9737\n",
            "Epoch 87/120\n",
            "528/528 [==============================] - 6s 11ms/step - loss: 3.8719e-04 - accuracy: 1.0000 - val_loss: 0.2105 - val_accuracy: 0.9722\n",
            "Epoch 88/120\n",
            "528/528 [==============================] - 6s 11ms/step - loss: 0.0105 - accuracy: 0.9968 - val_loss: 0.1647 - val_accuracy: 0.9717\n",
            "Epoch 89/120\n",
            "528/528 [==============================] - 6s 12ms/step - loss: 6.9281e-04 - accuracy: 0.9999 - val_loss: 0.1939 - val_accuracy: 0.9703\n",
            "Epoch 90/120\n",
            "528/528 [==============================] - 6s 11ms/step - loss: 0.0011 - accuracy: 0.9997 - val_loss: 0.2481 - val_accuracy: 0.9684\n",
            "Epoch 91/120\n",
            "528/528 [==============================] - 7s 13ms/step - loss: 0.0091 - accuracy: 0.9972 - val_loss: 0.2038 - val_accuracy: 0.9665\n",
            "Epoch 92/120\n",
            "528/528 [==============================] - 6s 10ms/step - loss: 5.9228e-04 - accuracy: 0.9999 - val_loss: 0.2219 - val_accuracy: 0.9693\n",
            "Epoch 93/120\n",
            "528/528 [==============================] - 7s 14ms/step - loss: 2.7367e-04 - accuracy: 0.9999 - val_loss: 0.2397 - val_accuracy: 0.9713\n",
            "Epoch 94/120\n",
            "528/528 [==============================] - 6s 11ms/step - loss: 1.2804e-04 - accuracy: 1.0000 - val_loss: 0.2519 - val_accuracy: 0.9684\n",
            "Epoch 95/120\n",
            "528/528 [==============================] - 7s 13ms/step - loss: 5.5716e-05 - accuracy: 1.0000 - val_loss: 0.2617 - val_accuracy: 0.9703\n",
            "Epoch 96/120\n",
            "528/528 [==============================] - 6s 11ms/step - loss: 5.3432e-05 - accuracy: 1.0000 - val_loss: 0.2700 - val_accuracy: 0.9698\n",
            "Epoch 97/120\n",
            "528/528 [==============================] - 6s 12ms/step - loss: 3.9721e-05 - accuracy: 1.0000 - val_loss: 0.2734 - val_accuracy: 0.9693\n",
            "Epoch 98/120\n",
            "528/528 [==============================] - 6s 11ms/step - loss: 3.1076e-05 - accuracy: 1.0000 - val_loss: 0.2775 - val_accuracy: 0.9698\n",
            "Epoch 99/120\n",
            "528/528 [==============================] - 7s 13ms/step - loss: 4.5192e-05 - accuracy: 1.0000 - val_loss: 0.2808 - val_accuracy: 0.9698\n",
            "Epoch 100/120\n",
            "528/528 [==============================] - 7s 12ms/step - loss: 2.4026e-05 - accuracy: 1.0000 - val_loss: 0.2859 - val_accuracy: 0.9703\n",
            "Epoch 101/120\n",
            "528/528 [==============================] - 6s 11ms/step - loss: 5.8177e-05 - accuracy: 1.0000 - val_loss: 0.2898 - val_accuracy: 0.9698\n",
            "Epoch 102/120\n",
            "528/528 [==============================] - 7s 12ms/step - loss: 3.9767e-05 - accuracy: 1.0000 - val_loss: 0.2969 - val_accuracy: 0.9703\n",
            "Epoch 103/120\n",
            "528/528 [==============================] - 6s 11ms/step - loss: 2.4077e-05 - accuracy: 1.0000 - val_loss: 0.2993 - val_accuracy: 0.9708\n",
            "Epoch 104/120\n",
            "528/528 [==============================] - 7s 12ms/step - loss: 2.9771e-05 - accuracy: 1.0000 - val_loss: 0.3083 - val_accuracy: 0.9698\n",
            "Epoch 105/120\n",
            "528/528 [==============================] - 6s 11ms/step - loss: 2.1797e-05 - accuracy: 1.0000 - val_loss: 0.3122 - val_accuracy: 0.9703\n",
            "Epoch 106/120\n",
            "528/528 [==============================] - 7s 13ms/step - loss: 1.8524e-05 - accuracy: 1.0000 - val_loss: 0.3103 - val_accuracy: 0.9703\n",
            "Epoch 107/120\n",
            "528/528 [==============================] - 6s 10ms/step - loss: 1.9166e-05 - accuracy: 1.0000 - val_loss: 0.3139 - val_accuracy: 0.9703\n",
            "Epoch 108/120\n",
            "528/528 [==============================] - 6s 12ms/step - loss: 2.5044e-05 - accuracy: 1.0000 - val_loss: 0.3266 - val_accuracy: 0.9684\n",
            "Epoch 109/120\n",
            "528/528 [==============================] - 6s 12ms/step - loss: 1.3503e-05 - accuracy: 1.0000 - val_loss: 0.3229 - val_accuracy: 0.9693\n",
            "Epoch 110/120\n",
            "528/528 [==============================] - 6s 11ms/step - loss: 1.3095e-05 - accuracy: 1.0000 - val_loss: 0.3229 - val_accuracy: 0.9698\n",
            "Epoch 111/120\n",
            "528/528 [==============================] - 6s 12ms/step - loss: 4.0286e-05 - accuracy: 1.0000 - val_loss: 0.3311 - val_accuracy: 0.9698\n",
            "Epoch 112/120\n",
            "528/528 [==============================] - 6s 11ms/step - loss: 1.0566e-05 - accuracy: 1.0000 - val_loss: 0.3325 - val_accuracy: 0.9698\n",
            "Epoch 113/120\n",
            "528/528 [==============================] - 7s 12ms/step - loss: 1.8087e-05 - accuracy: 1.0000 - val_loss: 0.3328 - val_accuracy: 0.9698\n",
            "Epoch 114/120\n",
            "528/528 [==============================] - 6s 11ms/step - loss: 9.9693e-06 - accuracy: 1.0000 - val_loss: 0.3332 - val_accuracy: 0.9703\n",
            "Epoch 115/120\n",
            "528/528 [==============================] - 7s 13ms/step - loss: 1.0642e-05 - accuracy: 1.0000 - val_loss: 0.3321 - val_accuracy: 0.9703\n",
            "Epoch 116/120\n",
            "528/528 [==============================] - 6s 11ms/step - loss: 8.2058e-06 - accuracy: 1.0000 - val_loss: 0.3336 - val_accuracy: 0.9703\n",
            "Epoch 117/120\n",
            "528/528 [==============================] - 6s 12ms/step - loss: 1.6169e-05 - accuracy: 1.0000 - val_loss: 0.3376 - val_accuracy: 0.9703\n",
            "Epoch 118/120\n",
            "528/528 [==============================] - 6s 11ms/step - loss: 7.3881e-06 - accuracy: 1.0000 - val_loss: 0.3396 - val_accuracy: 0.9703\n",
            "Epoch 119/120\n",
            "528/528 [==============================] - 6s 12ms/step - loss: 9.3297e-06 - accuracy: 1.0000 - val_loss: 0.3395 - val_accuracy: 0.9703\n",
            "Epoch 120/120\n",
            "528/528 [==============================] - 6s 12ms/step - loss: 9.0510e-06 - accuracy: 1.0000 - val_loss: 0.3371 - val_accuracy: 0.9703\n"
          ]
        }
      ],
      "source": [
        "print(\"Model Score: \\n\")\n",
        "history = model.fit(X_train, y_train, validation_data = (X_val, y_val), epochs = 120)"
      ]
    },
    {
      "cell_type": "code",
      "execution_count": null,
      "metadata": {
        "colab": {
          "base_uri": "https://localhost:8080/"
        },
        "id": "A0GDwHCxVFOA",
        "outputId": "38b59568-495d-4a89-8aa2-b87264bbce17"
      },
      "outputs": [
        {
          "output_type": "stream",
          "name": "stdout",
          "text": [
            "66/66 [==============================] - 0s 6ms/step - loss: 0.1762 - accuracy: 0.9839\n",
            "[0.17624244093894958, 0.9838786125183105]\n"
          ]
        }
      ],
      "source": [
        "model.save(\"/content/gdrive/MyDrive/Colab Notebooks/Experiments/CRNN_GRU_GRU_NoExtraDense_WithAttention-Lite.h5\")\n",
        "score = model.evaluate(X_test, y_test)\n",
        "print(score)"
      ]
    },
    {
      "cell_type": "code",
      "execution_count": null,
      "metadata": {
        "colab": {
          "base_uri": "https://localhost:8080/"
        },
        "id": "audvVlppvQfE",
        "outputId": "24bb20aa-726d-43fc-a3e7-c36819819629"
      },
      "outputs": [
        {
          "output_type": "stream",
          "name": "stdout",
          "text": [
            "Looking in indexes: https://pypi.org/simple, https://us-python.pkg.dev/colab-wheels/public/simple/\n",
            "Collecting plot_keras_history\n",
            "  Downloading plot_keras_history-1.1.38.tar.gz (11 kB)\n",
            "  Preparing metadata (setup.py) ... \u001b[?25l\u001b[?25hdone\n",
            "Requirement already satisfied: matplotlib in /usr/local/lib/python3.9/dist-packages (from plot_keras_history) (3.7.1)\n",
            "Requirement already satisfied: pandas in /usr/local/lib/python3.9/dist-packages (from plot_keras_history) (1.4.4)\n",
            "Requirement already satisfied: scipy in /usr/local/lib/python3.9/dist-packages (from plot_keras_history) (1.10.1)\n",
            "Collecting support_developer>=1.0.2\n",
            "  Downloading support_developer-1.0.5.tar.gz (4.9 kB)\n",
            "  Preparing metadata (setup.py) ... \u001b[?25l\u001b[?25hdone\n",
            "Collecting sanitize_ml_labels>=1.0.48\n",
            "  Downloading sanitize_ml_labels-1.0.50.tar.gz (322 kB)\n",
            "\u001b[2K     \u001b[90m━━━━━━━━━━━━━━━━━━━━━━━━━━━━━━━━━━━━━━━\u001b[0m \u001b[32m322.1/322.1 KB\u001b[0m \u001b[31m8.5 MB/s\u001b[0m eta \u001b[36m0:00:00\u001b[0m\n",
            "\u001b[?25h  Preparing metadata (setup.py) ... \u001b[?25l\u001b[?25hdone\n",
            "Collecting compress_json\n",
            "  Downloading compress_json-1.0.8.tar.gz (4.7 kB)\n",
            "  Preparing metadata (setup.py) ... \u001b[?25l\u001b[?25hdone\n",
            "Requirement already satisfied: contourpy>=1.0.1 in /usr/local/lib/python3.9/dist-packages (from matplotlib->plot_keras_history) (1.0.7)\n",
            "Requirement already satisfied: pillow>=6.2.0 in /usr/local/lib/python3.9/dist-packages (from matplotlib->plot_keras_history) (8.4.0)\n",
            "Requirement already satisfied: numpy>=1.20 in /usr/local/lib/python3.9/dist-packages (from matplotlib->plot_keras_history) (1.22.4)\n",
            "Requirement already satisfied: python-dateutil>=2.7 in /usr/local/lib/python3.9/dist-packages (from matplotlib->plot_keras_history) (2.8.2)\n",
            "Requirement already satisfied: importlib-resources>=3.2.0 in /usr/local/lib/python3.9/dist-packages (from matplotlib->plot_keras_history) (5.12.0)\n",
            "Requirement already satisfied: pyparsing>=2.3.1 in /usr/local/lib/python3.9/dist-packages (from matplotlib->plot_keras_history) (3.0.9)\n",
            "Requirement already satisfied: fonttools>=4.22.0 in /usr/local/lib/python3.9/dist-packages (from matplotlib->plot_keras_history) (4.39.2)\n",
            "Requirement already satisfied: packaging>=20.0 in /usr/local/lib/python3.9/dist-packages (from matplotlib->plot_keras_history) (23.0)\n",
            "Requirement already satisfied: kiwisolver>=1.0.1 in /usr/local/lib/python3.9/dist-packages (from matplotlib->plot_keras_history) (1.4.4)\n",
            "Requirement already satisfied: cycler>=0.10 in /usr/local/lib/python3.9/dist-packages (from matplotlib->plot_keras_history) (0.11.0)\n",
            "Requirement already satisfied: pytz>=2020.1 in /usr/local/lib/python3.9/dist-packages (from pandas->plot_keras_history) (2022.7.1)\n",
            "Requirement already satisfied: zipp>=3.1.0 in /usr/local/lib/python3.9/dist-packages (from importlib-resources>=3.2.0->matplotlib->plot_keras_history) (3.15.0)\n",
            "Requirement already satisfied: six>=1.5 in /usr/local/lib/python3.9/dist-packages (from python-dateutil>=2.7->matplotlib->plot_keras_history) (1.16.0)\n",
            "Building wheels for collected packages: plot_keras_history, sanitize_ml_labels, support_developer, compress_json\n",
            "  Building wheel for plot_keras_history (setup.py) ... \u001b[?25l\u001b[?25hdone\n",
            "  Created wheel for plot_keras_history: filename=plot_keras_history-1.1.38-py3-none-any.whl size=9470 sha256=b95a099ccbe898384bec9c9150c2734f1c9564d4916b190bcdda3bbf06ba772b\n",
            "  Stored in directory: /root/.cache/pip/wheels/aa/0a/0f/0775c812151040fb695c0890d902810a9d69e1db50181e5328\n",
            "  Building wheel for sanitize_ml_labels (setup.py) ... \u001b[?25l\u001b[?25hdone\n",
            "  Created wheel for sanitize_ml_labels: filename=sanitize_ml_labels-1.0.50-py3-none-any.whl size=320515 sha256=a4ddb7149ca8ae75daf38bf2aa938a4016e2bddda3f5c1a2718e0fec82976d14\n",
            "  Stored in directory: /root/.cache/pip/wheels/d2/50/d6/95e7c7713c3c1609e30a394d7431ffc11e4f7deb82d13ffceb\n",
            "  Building wheel for support_developer (setup.py) ... \u001b[?25l\u001b[?25hdone\n",
            "  Created wheel for support_developer: filename=support_developer-1.0.5-py3-none-any.whl size=5651 sha256=64ad864c2780a401b97f56a6910c64bb4f538858b4d2ea92f4acd10f2fb644cc\n",
            "  Stored in directory: /root/.cache/pip/wheels/7c/a1/b1/9662c79502c353ff7e71c36f84846acd623cbcbe3f7255f5d5\n",
            "  Building wheel for compress_json (setup.py) ... \u001b[?25l\u001b[?25hdone\n",
            "  Created wheel for compress_json: filename=compress_json-1.0.8-py3-none-any.whl size=4731 sha256=5513212a6572a5cefb73a74a9c985cb7a3bfb6f365afa509da1ac7f8b321ea71\n",
            "  Stored in directory: /root/.cache/pip/wheels/d5/7c/cd/c765f939eb47ee20494e44f47b113cf3965a71dc0a4954c321\n",
            "Successfully built plot_keras_history sanitize_ml_labels support_developer compress_json\n",
            "Installing collected packages: support_developer, compress_json, sanitize_ml_labels, plot_keras_history\n",
            "Successfully installed compress_json-1.0.8 plot_keras_history-1.1.38 sanitize_ml_labels-1.0.50 support_developer-1.0.5\n"
          ]
        }
      ],
      "source": [
        "pip install plot_keras_history"
      ]
    },
    {
      "cell_type": "code",
      "execution_count": null,
      "metadata": {
        "colab": {
          "base_uri": "https://localhost:8080/",
          "height": 601
        },
        "id": "esfMhDOhXDyI",
        "outputId": "43e0a412-b9c0-491f-e95e-4f738c9b3dd1"
      },
      "outputs": [
        {
          "output_type": "execute_result",
          "data": {
            "text/plain": [
              "(<Figure size 1000x500 with 2 Axes>,\n",
              " array([<Axes: title={'center': 'Loss'}, xlabel='Epochs', ylabel='Loss'>,\n",
              "        <Axes: title={'center': 'Accuracy'}, xlabel='Epochs', ylabel='Accuracy'>],\n",
              "       dtype=object))"
            ]
          },
          "metadata": {},
          "execution_count": 26
        },
        {
          "output_type": "display_data",
          "data": {
            "text/plain": [
              "<Figure size 1000x500 with 2 Axes>"
            ],
            "image/png": "[encoded data removed]"
          },
          "metadata": {
            "needs_background": "light"
          }
        }
      ],
      "source": [
        "from plot_keras_history import show_history, plot_history\n",
        "import matplotlib.pyplot as plt\n",
        "plot_history(history)"
      ]
    },
    {
      "cell_type": "code",
      "execution_count": null,
      "metadata": {
        "id": "m-Ulk4EBXd0y"
      },
      "outputs": [],
      "source": [
        "import matplotlib.pyplot as plt\n",
        "import itertools\n",
        "import numpy as np\n",
        "\n",
        "def plot_confusion_matrix(cm, classes,\n",
        "                        normalize=False,\n",
        "                        title='Confusion matrix',\n",
        "                        cmap=plt.cm.Blues):\n",
        "    \"\"\"\n",
        "    This function prints and plots the confusion matrix.\n",
        "    Normalization can be applied by setting `normalize=True`.\n",
        "    \"\"\"\n",
        "    plt.imshow(cm, interpolation='nearest', cmap=cmap)\n",
        "    plt.title(title)\n",
        "    plt.colorbar()\n",
        "    tick_marks = np.arange(len(classes))\n",
        "    plt.xticks(tick_marks, classes, rotation=45)\n",
        "    plt.yticks(tick_marks, classes)\n",
        "\n",
        "    if normalize:\n",
        "        cm = cm.astype('float') / cm.sum(axis=1)[:, np.newaxis]\n",
        "        print(\"Normalized confusion matrix\")\n",
        "    else:\n",
        "        print('Confusion matrix, without normalization')\n",
        "\n",
        "    print(cm)\n",
        "\n",
        "    thresh = cm.max() / 2.\n",
        "    for i, j in itertools.product(range(cm.shape[0]), range(cm.shape[1])):\n",
        "        plt.text(j, i, cm[i, j],\n",
        "            horizontalalignment=\"center\",\n",
        "            color=\"white\" if cm[i, j] > thresh else \"black\")\n",
        "\n",
        "    plt.tight_layout()\n",
        "    plt.ylabel('True label')\n",
        "    plt.xlabel('Predicted label')\n",
        "    plt.show()"
      ]
    },
    {
      "cell_type": "code",
      "execution_count": null,
      "metadata": {
        "colab": {
          "base_uri": "https://localhost:8080/",
          "height": 583
        },
        "id": "TflcZEOXXhi9",
        "outputId": "447b361b-d9ef-450f-d83d-04d3b11dfffb"
      },
      "outputs": [
        {
          "output_type": "stream",
          "name": "stdout",
          "text": [
            "Model Classification Report: \n",
            "\n",
            "66/66 [==============================] - 1s 4ms/step\n",
            "              precision    recall  f1-score   support\n",
            "\n",
            "           0       0.98      0.99      0.98      1049\n",
            "           1       0.99      0.98      0.98      1060\n",
            "\n",
            "    accuracy                           0.98      2109\n",
            "   macro avg       0.98      0.98      0.98      2109\n",
            "weighted avg       0.98      0.98      0.98      2109\n",
            "\n",
            "Confusion matrix, without normalization\n",
            "[[1034   15]\n",
            " [  19 1041]]\n"
          ]
        },
        {
          "output_type": "display_data",
          "data": {
            "text/plain": [
              "<Figure size 432x288 with 2 Axes>"
            ],
            "image/png": "[encoded data removed]"
          },
          "metadata": {
            "needs_background": "light"
          }
        }
      ],
      "source": [
        "print(\"Model Classification Report: \\n\")\n",
        "y_pred = np.argmax(model.predict(X_test), axis=1)\n",
        "cm = confusion_matrix(np.argmax(y_test, axis=1), y_pred)\n",
        "print(classification_report(np.argmax(y_test, axis=1), y_pred))\n",
        "plot_confusion_matrix(cm, classes=[\"Does not have Wake Word\", \"Has Wake Word\"])"
      ]
    }
  ],
  "metadata": {
    "accelerator": "GPU",
    "colab": {
      "provenance": []
    },
    "gpuClass": "standard",
    "kernelspec": {
      "display_name": "Python 3",
      "name": "python3"
    },
    "language_info": {
      "name": "python"
    }
  },
  "nbformat": 4,
  "nbformat_minor": 0
}