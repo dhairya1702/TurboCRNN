{
  "nbformat": 4,
  "nbformat_minor": 0,
  "metadata": {
    "colab": {
      "provenance": []
    },
    "kernelspec": {
      "name": "python3",
      "display_name": "Python 3"
    },
    "language_info": {
      "name": "python"
    },
    "accelerator": "GPU",
    "gpuClass": "standard"
  },
  "cells": [
    {
      "cell_type": "code",
      "execution_count": null,
      "metadata": {
        "colab": {
          "base_uri": "https://localhost:8080/"
        },
        "id": "SANNUYcJSP0l",
        "outputId": "de7c2ef6-dd62-4297-985b-07efe256a754"
      },
      "outputs": [
        {
          "output_type": "stream",
          "name": "stdout",
          "text": [
            "Drive already mounted at /content/gdrive; to attempt to forcibly remount, call drive.mount(\"/content/gdrive\", force_remount=True).\n"
          ]
        }
      ],
      "source": [
        "from google.colab import drive\n",
        "drive.mount('/content/gdrive')"
      ]
    },
    {
      "cell_type": "code",
      "source": [
        "import os\n",
        "import numpy as np\n",
        "import pandas as pd\n",
        "import matplotlib.pyplot as plt\n",
        "import librosa, librosa.display\n",
        "\n",
        "import tensorflow as tf \n",
        "from sklearn.model_selection import train_test_split\n",
        "from tensorflow.keras import Sequential\n",
        "from tensorflow.keras.layers import Dense, Activation, Dropout, GRU, Input\n",
        "from sklearn.metrics import confusion_matrix, classification_report"
      ],
      "metadata": {
        "id": "eLL0gmwaSZ8q"
      },
      "execution_count": null,
      "outputs": []
    },
    {
      "cell_type": "code",
      "source": [
        "X_train = np.load('/content/gdrive/MyDrive/Colab Notebooks/FYP/WaveletTransformDenoised/X_train.npy')\n",
        "y_train = np.load('/content/gdrive/MyDrive/Colab Notebooks/FYP/WaveletTransformDenoised/y_train.npy')\n",
        "X_test = np.load('/content/gdrive/MyDrive/Colab Notebooks/FYP/WaveletTransformDenoised/X_test.npy')\n",
        "y_test = np.load('/content/gdrive/MyDrive/Colab Notebooks/FYP/WaveletTransformDenoised/y_test.npy')\n",
        "X_val = np.load('/content/gdrive/MyDrive/Colab Notebooks/FYP/WaveletTransformDenoised/X_val.npy')\n",
        "y_val = np.load('/content/gdrive/MyDrive/Colab Notebooks/FYP/WaveletTransformDenoised/y_val.npy')"
      ],
      "metadata": {
        "id": "0Kq84or6Sfqz"
      },
      "execution_count": null,
      "outputs": []
    },
    {
      "cell_type": "code",
      "source": [
        "print(X_train.shape, y_train.shape)\n",
        "print(X_test.shape, y_test.shape)\n",
        "print(X_val.shape, y_val.shape)"
      ],
      "metadata": {
        "colab": {
          "base_uri": "https://localhost:8080/"
        },
        "id": "yT10o_10ShvM",
        "outputId": "a811f4fa-34aa-4f52-9596-0df5fb9e932d"
      },
      "execution_count": null,
      "outputs": [
        {
          "output_type": "stream",
          "name": "stdout",
          "text": [
            "(16893, 98) (16893, 2)\n",
            "(2109, 98) (2109, 2)\n",
            "(2088, 98) (2088, 2)\n"
          ]
        }
      ]
    },
    {
      "cell_type": "code",
      "source": [
        "from keras.layers import Input, LSTM, GRU, Dense, Embedding, Conv1D, MaxPooling1D, Activation\n",
        "from keras.layers import Reshape, Softmax, Permute, Multiply, dot, concatenate\n",
        "from keras.layers import BatchNormalization\n",
        "from keras.models import Model\n",
        "from keras.regularizers import l2\n",
        "\n",
        "inputs = Input(shape=(98,1))\n",
        "conv1 = Conv1D(32, 5, activation='relu', kernel_regularizer=l2(0.01))(inputs)\n",
        "pool1 = MaxPooling1D(2)(conv1)\n",
        "conv2 = Conv1D(64, 5, activation='relu')(pool1)\n",
        "pool2 = MaxPooling1D(2)(conv2)\n",
        "conv3 = Conv1D(128, 5, activation='relu')(pool2)\n",
        "pool3 = MaxPooling1D(2)(conv3)\n",
        "\n",
        "gru1 = GRU(128, return_sequences=True)(pool3)\n",
        "gru2 = GRU(128)(gru1)\n",
        "gru2 = Dropout(0.2)(gru2)\n",
        "\n",
        "dense1 = Dense(32, activation='softmax')(gru2)\n",
        "dense1 = Dropout(0.5)(dense1)\n",
        "\n",
        "output = Dense(2, activation='softmax')(dense1)\n",
        "\n",
        "model = Model(inputs=inputs, outputs=output)\n",
        "\n",
        "print(model.summary())"
      ],
      "metadata": {
        "colab": {
          "base_uri": "https://localhost:8080/"
        },
        "id": "VTbs6Ji1Skoi",
        "outputId": "d6bb2a15-0be1-49ba-8f4a-0c2d0936c339"
      },
      "execution_count": null,
      "outputs": [
        {
          "output_type": "stream",
          "name": "stdout",
          "text": [
            "Model: \"model\"\n",
            "_________________________________________________________________\n",
            " Layer (type)                Output Shape              Param #   \n",
            "=================================================================\n",
            " input_1 (InputLayer)        [(None, 98, 1)]           0         \n",
            "                                                                 \n",
            " conv1d (Conv1D)             (None, 94, 32)            192       \n",
            "                                                                 \n",
            " max_pooling1d (MaxPooling1D  (None, 47, 32)           0         \n",
            " )                                                               \n",
            "                                                                 \n",
            " conv1d_1 (Conv1D)           (None, 43, 64)            10304     \n",
            "                                                                 \n",
            " max_pooling1d_1 (MaxPooling  (None, 21, 64)           0         \n",
            " 1D)                                                             \n",
            "                                                                 \n",
            " conv1d_2 (Conv1D)           (None, 17, 128)           41088     \n",
            "                                                                 \n",
            " max_pooling1d_2 (MaxPooling  (None, 8, 128)           0         \n",
            " 1D)                                                             \n",
            "                                                                 \n",
            " gru (GRU)                   (None, 8, 128)            99072     \n",
            "                                                                 \n",
            " gru_1 (GRU)                 (None, 128)               99072     \n",
            "                                                                 \n",
            " dropout (Dropout)           (None, 128)               0         \n",
            "                                                                 \n",
            " dense (Dense)               (None, 32)                4128      \n",
            "                                                                 \n",
            " dropout_1 (Dropout)         (None, 32)                0         \n",
            "                                                                 \n",
            " dense_1 (Dense)             (None, 2)                 66        \n",
            "                                                                 \n",
            "=================================================================\n",
            "Total params: 253,922\n",
            "Trainable params: 253,922\n",
            "Non-trainable params: 0\n",
            "_________________________________________________________________\n",
            "None\n"
          ]
        }
      ]
    },
    {
      "cell_type": "code",
      "source": [
        "model.compile(\n",
        "    loss=\"categorical_crossentropy\",\n",
        "    optimizer=tf.keras.optimizers.Adam(amsgrad=True,learning_rate=0.001),\n",
        "    metrics=['accuracy']\n",
        ")"
      ],
      "metadata": {
        "id": "-yIJqsWiSm1-"
      },
      "execution_count": null,
      "outputs": []
    },
    {
      "cell_type": "code",
      "source": [
        "print(\"Model Score: \\n\")\n",
        "history = model.fit(X_train, y_train, validation_data = (X_val, y_val), epochs = 120)"
      ],
      "metadata": {
        "colab": {
          "base_uri": "https://localhost:8080/"
        },
        "id": "UMUPkLZ5htNZ",
        "outputId": "7cc3474d-6b46-4daf-e57a-492867132fe0"
      },
      "execution_count": null,
      "outputs": [
        {
          "output_type": "stream",
          "name": "stdout",
          "text": [
            "Model Score: \n",
            "\n",
            "Epoch 1/120\n",
            "528/528 [==============================] - 31s 46ms/step - loss: 0.6075 - accuracy: 0.6869 - val_loss: 0.4119 - val_accuracy: 0.8951\n",
            "Epoch 2/120\n",
            "528/528 [==============================] - 25s 47ms/step - loss: 0.3840 - accuracy: 0.8974 - val_loss: 0.2861 - val_accuracy: 0.9291\n",
            "Epoch 3/120\n",
            "528/528 [==============================] - 25s 47ms/step - loss: 0.3144 - accuracy: 0.9208 - val_loss: 0.2493 - val_accuracy: 0.9248\n",
            "Epoch 4/120\n",
            "528/528 [==============================] - 23s 44ms/step - loss: 0.2821 - accuracy: 0.9249 - val_loss: 0.2165 - val_accuracy: 0.9306\n",
            "Epoch 5/120\n",
            "528/528 [==============================] - 24s 46ms/step - loss: 0.2564 - accuracy: 0.9277 - val_loss: 0.2104 - val_accuracy: 0.9349\n",
            "Epoch 6/120\n",
            "528/528 [==============================] - 25s 47ms/step - loss: 0.2369 - accuracy: 0.9329 - val_loss: 0.1938 - val_accuracy: 0.9339\n",
            "Epoch 7/120\n",
            "528/528 [==============================] - 23s 43ms/step - loss: 0.2215 - accuracy: 0.9350 - val_loss: 0.1824 - val_accuracy: 0.9411\n",
            "Epoch 8/120\n",
            "528/528 [==============================] - 25s 47ms/step - loss: 0.2081 - accuracy: 0.9382 - val_loss: 0.1688 - val_accuracy: 0.9449\n",
            "Epoch 9/120\n",
            "528/528 [==============================] - 27s 50ms/step - loss: 0.1987 - accuracy: 0.9410 - val_loss: 0.1710 - val_accuracy: 0.9401\n",
            "Epoch 10/120\n",
            "528/528 [==============================] - 23s 44ms/step - loss: 0.1898 - accuracy: 0.9443 - val_loss: 0.1545 - val_accuracy: 0.9492\n",
            "Epoch 11/120\n",
            "528/528 [==============================] - 25s 47ms/step - loss: 0.1786 - accuracy: 0.9480 - val_loss: 0.1492 - val_accuracy: 0.9507\n",
            "Epoch 12/120\n",
            "528/528 [==============================] - 24s 46ms/step - loss: 0.1715 - accuracy: 0.9496 - val_loss: 0.1536 - val_accuracy: 0.9483\n",
            "Epoch 13/120\n",
            "528/528 [==============================] - 23s 44ms/step - loss: 0.1632 - accuracy: 0.9538 - val_loss: 0.1631 - val_accuracy: 0.9454\n",
            "Epoch 14/120\n",
            "528/528 [==============================] - 25s 47ms/step - loss: 0.1529 - accuracy: 0.9576 - val_loss: 0.1551 - val_accuracy: 0.9478\n",
            "Epoch 15/120\n",
            "528/528 [==============================] - 24s 46ms/step - loss: 0.1501 - accuracy: 0.9585 - val_loss: 0.1396 - val_accuracy: 0.9526\n",
            "Epoch 16/120\n",
            "528/528 [==============================] - 24s 45ms/step - loss: 0.1396 - accuracy: 0.9622 - val_loss: 0.1336 - val_accuracy: 0.9579\n",
            "Epoch 17/120\n",
            "528/528 [==============================] - 25s 48ms/step - loss: 0.1317 - accuracy: 0.9651 - val_loss: 0.1435 - val_accuracy: 0.9516\n",
            "Epoch 18/120\n",
            "528/528 [==============================] - 25s 48ms/step - loss: 0.1285 - accuracy: 0.9660 - val_loss: 0.1242 - val_accuracy: 0.9598\n",
            "Epoch 19/120\n",
            "528/528 [==============================] - 26s 50ms/step - loss: 0.1223 - accuracy: 0.9684 - val_loss: 0.1303 - val_accuracy: 0.9622\n",
            "Epoch 20/120\n",
            "528/528 [==============================] - 24s 45ms/step - loss: 0.1188 - accuracy: 0.9679 - val_loss: 0.1697 - val_accuracy: 0.9454\n",
            "Epoch 21/120\n",
            "528/528 [==============================] - 25s 48ms/step - loss: 0.1177 - accuracy: 0.9686 - val_loss: 0.1218 - val_accuracy: 0.9607\n",
            "Epoch 22/120\n",
            "528/528 [==============================] - 24s 46ms/step - loss: 0.1044 - accuracy: 0.9740 - val_loss: 0.1180 - val_accuracy: 0.9660\n",
            "Epoch 23/120\n",
            "528/528 [==============================] - 24s 45ms/step - loss: 0.0959 - accuracy: 0.9759 - val_loss: 0.1269 - val_accuracy: 0.9641\n",
            "Epoch 24/120\n",
            "528/528 [==============================] - 25s 47ms/step - loss: 0.0968 - accuracy: 0.9749 - val_loss: 0.1167 - val_accuracy: 0.9622\n",
            "Epoch 25/120\n",
            "528/528 [==============================] - 24s 46ms/step - loss: 0.0905 - accuracy: 0.9767 - val_loss: 0.1192 - val_accuracy: 0.9641\n",
            "Epoch 26/120\n",
            "528/528 [==============================] - 24s 45ms/step - loss: 0.0916 - accuracy: 0.9758 - val_loss: 0.1219 - val_accuracy: 0.9646\n",
            "Epoch 27/120\n",
            "528/528 [==============================] - 25s 47ms/step - loss: 0.0849 - accuracy: 0.9777 - val_loss: 0.1259 - val_accuracy: 0.9631\n",
            "Epoch 28/120\n",
            "528/528 [==============================] - 25s 46ms/step - loss: 0.0881 - accuracy: 0.9781 - val_loss: 0.1269 - val_accuracy: 0.9626\n",
            "Epoch 29/120\n",
            "528/528 [==============================] - 24s 45ms/step - loss: 0.0812 - accuracy: 0.9794 - val_loss: 0.1183 - val_accuracy: 0.9636\n",
            "Epoch 30/120\n",
            "528/528 [==============================] - 25s 48ms/step - loss: 0.0724 - accuracy: 0.9819 - val_loss: 0.1366 - val_accuracy: 0.9583\n",
            "Epoch 31/120\n",
            "528/528 [==============================] - 25s 48ms/step - loss: 0.0789 - accuracy: 0.9806 - val_loss: 0.1188 - val_accuracy: 0.9684\n",
            "Epoch 32/120\n",
            "528/528 [==============================] - 23s 43ms/step - loss: 0.0747 - accuracy: 0.9819 - val_loss: 0.1285 - val_accuracy: 0.9703\n",
            "Epoch 33/120\n",
            "528/528 [==============================] - 25s 47ms/step - loss: 0.0636 - accuracy: 0.9854 - val_loss: 0.1149 - val_accuracy: 0.9708\n",
            "Epoch 34/120\n",
            "528/528 [==============================] - 25s 47ms/step - loss: 0.0638 - accuracy: 0.9847 - val_loss: 0.1356 - val_accuracy: 0.9670\n",
            "Epoch 35/120\n",
            "528/528 [==============================] - 23s 44ms/step - loss: 0.0778 - accuracy: 0.9798 - val_loss: 0.1353 - val_accuracy: 0.9655\n",
            "Epoch 36/120\n",
            "528/528 [==============================] - 25s 47ms/step - loss: 0.0621 - accuracy: 0.9845 - val_loss: 0.1324 - val_accuracy: 0.9698\n",
            "Epoch 37/120\n",
            "528/528 [==============================] - 25s 47ms/step - loss: 0.0635 - accuracy: 0.9839 - val_loss: 0.1266 - val_accuracy: 0.9727\n",
            "Epoch 38/120\n",
            "528/528 [==============================] - 23s 43ms/step - loss: 0.0509 - accuracy: 0.9860 - val_loss: 0.1451 - val_accuracy: 0.9693\n",
            "Epoch 39/120\n",
            "528/528 [==============================] - 25s 47ms/step - loss: 0.0718 - accuracy: 0.9807 - val_loss: 0.1246 - val_accuracy: 0.9722\n",
            "Epoch 40/120\n",
            "528/528 [==============================] - 25s 47ms/step - loss: 0.0618 - accuracy: 0.9851 - val_loss: 0.1539 - val_accuracy: 0.9598\n",
            "Epoch 41/120\n",
            "528/528 [==============================] - 23s 44ms/step - loss: 0.0612 - accuracy: 0.9827 - val_loss: 0.1267 - val_accuracy: 0.9693\n",
            "Epoch 42/120\n",
            "528/528 [==============================] - 25s 48ms/step - loss: 0.0641 - accuracy: 0.9838 - val_loss: 0.1224 - val_accuracy: 0.9708\n",
            "Epoch 43/120\n",
            "528/528 [==============================] - 25s 47ms/step - loss: 0.0496 - accuracy: 0.9883 - val_loss: 0.1224 - val_accuracy: 0.9713\n",
            "Epoch 44/120\n",
            "528/528 [==============================] - 23s 44ms/step - loss: 0.0470 - accuracy: 0.9885 - val_loss: 0.1293 - val_accuracy: 0.9717\n",
            "Epoch 45/120\n",
            "528/528 [==============================] - 25s 47ms/step - loss: 0.0470 - accuracy: 0.9888 - val_loss: 0.1312 - val_accuracy: 0.9703\n",
            "Epoch 46/120\n",
            "528/528 [==============================] - 25s 47ms/step - loss: 0.0600 - accuracy: 0.9857 - val_loss: 0.1757 - val_accuracy: 0.9488\n",
            "Epoch 47/120\n",
            "528/528 [==============================] - 23s 43ms/step - loss: 0.0594 - accuracy: 0.9861 - val_loss: 0.1155 - val_accuracy: 0.9708\n",
            "Epoch 48/120\n",
            "528/528 [==============================] - 25s 48ms/step - loss: 0.0423 - accuracy: 0.9909 - val_loss: 0.1447 - val_accuracy: 0.9713\n",
            "Epoch 49/120\n",
            "528/528 [==============================] - 25s 47ms/step - loss: 0.0449 - accuracy: 0.9905 - val_loss: 0.1195 - val_accuracy: 0.9727\n",
            "Epoch 50/120\n",
            "528/528 [==============================] - 23s 44ms/step - loss: 0.0423 - accuracy: 0.9907 - val_loss: 0.1328 - val_accuracy: 0.9689\n",
            "Epoch 51/120\n",
            "528/528 [==============================] - 25s 47ms/step - loss: 0.0563 - accuracy: 0.9864 - val_loss: 0.1316 - val_accuracy: 0.9717\n",
            "Epoch 52/120\n",
            "528/528 [==============================] - 25s 47ms/step - loss: 0.0417 - accuracy: 0.9909 - val_loss: 0.1369 - val_accuracy: 0.9713\n",
            "Epoch 53/120\n",
            "528/528 [==============================] - 23s 43ms/step - loss: 0.0373 - accuracy: 0.9919 - val_loss: 0.1373 - val_accuracy: 0.9722\n",
            "Epoch 54/120\n",
            "528/528 [==============================] - 25s 48ms/step - loss: 0.0339 - accuracy: 0.9938 - val_loss: 0.1439 - val_accuracy: 0.9713\n",
            "Epoch 55/120\n",
            "528/528 [==============================] - 25s 48ms/step - loss: 0.0344 - accuracy: 0.9935 - val_loss: 0.1413 - val_accuracy: 0.9732\n",
            "Epoch 56/120\n",
            "528/528 [==============================] - 23s 44ms/step - loss: 0.0350 - accuracy: 0.9928 - val_loss: 0.1422 - val_accuracy: 0.9713\n",
            "Epoch 57/120\n",
            "528/528 [==============================] - 25s 48ms/step - loss: 0.0429 - accuracy: 0.9902 - val_loss: 0.1334 - val_accuracy: 0.9717\n",
            "Epoch 58/120\n",
            "528/528 [==============================] - 25s 48ms/step - loss: 0.0378 - accuracy: 0.9904 - val_loss: 0.1359 - val_accuracy: 0.9722\n",
            "Epoch 59/120\n",
            "528/528 [==============================] - 23s 43ms/step - loss: 0.0387 - accuracy: 0.9920 - val_loss: 0.1292 - val_accuracy: 0.9717\n",
            "Epoch 60/120\n",
            "528/528 [==============================] - 25s 48ms/step - loss: 0.0482 - accuracy: 0.9878 - val_loss: 0.1223 - val_accuracy: 0.9727\n",
            "Epoch 61/120\n",
            "528/528 [==============================] - 25s 48ms/step - loss: 0.0383 - accuracy: 0.9915 - val_loss: 0.1385 - val_accuracy: 0.9703\n",
            "Epoch 62/120\n",
            "528/528 [==============================] - 23s 43ms/step - loss: 0.0314 - accuracy: 0.9931 - val_loss: 0.1413 - val_accuracy: 0.9722\n",
            "Epoch 63/120\n",
            "528/528 [==============================] - 25s 48ms/step - loss: 0.0286 - accuracy: 0.9933 - val_loss: 0.1507 - val_accuracy: 0.9713\n",
            "Epoch 64/120\n",
            "528/528 [==============================] - 25s 48ms/step - loss: 0.0284 - accuracy: 0.9934 - val_loss: 0.1545 - val_accuracy: 0.9737\n",
            "Epoch 65/120\n",
            "528/528 [==============================] - 23s 44ms/step - loss: 0.0274 - accuracy: 0.9945 - val_loss: 0.1606 - val_accuracy: 0.9722\n",
            "Epoch 66/120\n",
            "528/528 [==============================] - 25s 47ms/step - loss: 0.0277 - accuracy: 0.9946 - val_loss: 0.1615 - val_accuracy: 0.9713\n",
            "Epoch 67/120\n",
            "528/528 [==============================] - 25s 48ms/step - loss: 0.0252 - accuracy: 0.9950 - val_loss: 0.1592 - val_accuracy: 0.9732\n",
            "Epoch 68/120\n",
            "528/528 [==============================] - 23s 44ms/step - loss: 0.0255 - accuracy: 0.9949 - val_loss: 0.1626 - val_accuracy: 0.9727\n",
            "Epoch 69/120\n",
            "528/528 [==============================] - 25s 48ms/step - loss: 0.0264 - accuracy: 0.9946 - val_loss: 0.1646 - val_accuracy: 0.9722\n",
            "Epoch 70/120\n",
            "528/528 [==============================] - 25s 48ms/step - loss: 0.0252 - accuracy: 0.9945 - val_loss: 0.1686 - val_accuracy: 0.9722\n",
            "Epoch 71/120\n",
            "528/528 [==============================] - 23s 44ms/step - loss: 0.0244 - accuracy: 0.9938 - val_loss: 0.1718 - val_accuracy: 0.9708\n",
            "Epoch 72/120\n",
            "528/528 [==============================] - 25s 47ms/step - loss: 0.0233 - accuracy: 0.9941 - val_loss: 0.1762 - val_accuracy: 0.9713\n",
            "Epoch 73/120\n",
            "528/528 [==============================] - 25s 48ms/step - loss: 0.0548 - accuracy: 0.9869 - val_loss: 0.1372 - val_accuracy: 0.9727\n",
            "Epoch 74/120\n",
            "528/528 [==============================] - 24s 45ms/step - loss: 0.0408 - accuracy: 0.9887 - val_loss: 0.1933 - val_accuracy: 0.9574\n",
            "Epoch 75/120\n",
            "528/528 [==============================] - 25s 47ms/step - loss: 0.0326 - accuracy: 0.9925 - val_loss: 0.1366 - val_accuracy: 0.9732\n",
            "Epoch 76/120\n",
            "528/528 [==============================] - 25s 48ms/step - loss: 0.0251 - accuracy: 0.9943 - val_loss: 0.1546 - val_accuracy: 0.9732\n",
            "Epoch 77/120\n",
            "528/528 [==============================] - 24s 46ms/step - loss: 0.0249 - accuracy: 0.9937 - val_loss: 0.1571 - val_accuracy: 0.9751\n",
            "Epoch 78/120\n",
            "528/528 [==============================] - 25s 46ms/step - loss: 0.0242 - accuracy: 0.9944 - val_loss: 0.1577 - val_accuracy: 0.9737\n",
            "Epoch 79/120\n",
            "528/528 [==============================] - 25s 48ms/step - loss: 0.0460 - accuracy: 0.9880 - val_loss: 0.1389 - val_accuracy: 0.9722\n",
            "Epoch 80/120\n",
            "528/528 [==============================] - 26s 49ms/step - loss: 0.0367 - accuracy: 0.9908 - val_loss: 0.1514 - val_accuracy: 0.9698\n",
            "Epoch 81/120\n",
            "528/528 [==============================] - 23s 44ms/step - loss: 0.0296 - accuracy: 0.9924 - val_loss: 0.2579 - val_accuracy: 0.9416\n",
            "Epoch 82/120\n",
            "528/528 [==============================] - 26s 48ms/step - loss: 0.0383 - accuracy: 0.9886 - val_loss: 0.1454 - val_accuracy: 0.9698\n",
            "Epoch 83/120\n",
            "528/528 [==============================] - 26s 49ms/step - loss: 0.0244 - accuracy: 0.9938 - val_loss: 0.1511 - val_accuracy: 0.9708\n",
            "Epoch 84/120\n",
            "528/528 [==============================] - 25s 46ms/step - loss: 0.0229 - accuracy: 0.9937 - val_loss: 0.1494 - val_accuracy: 0.9727\n",
            "Epoch 85/120\n",
            "528/528 [==============================] - 25s 48ms/step - loss: 0.0206 - accuracy: 0.9956 - val_loss: 0.1563 - val_accuracy: 0.9727\n",
            "Epoch 86/120\n",
            "528/528 [==============================] - 26s 50ms/step - loss: 0.0216 - accuracy: 0.9943 - val_loss: 0.1662 - val_accuracy: 0.9722\n",
            "Epoch 87/120\n",
            "528/528 [==============================] - 26s 49ms/step - loss: 0.0220 - accuracy: 0.9939 - val_loss: 0.1587 - val_accuracy: 0.9727\n",
            "Epoch 88/120\n",
            "528/528 [==============================] - 24s 45ms/step - loss: 0.0205 - accuracy: 0.9947 - val_loss: 0.1647 - val_accuracy: 0.9713\n",
            "Epoch 89/120\n",
            "528/528 [==============================] - 26s 49ms/step - loss: 0.0208 - accuracy: 0.9954 - val_loss: 0.1653 - val_accuracy: 0.9708\n",
            "Epoch 90/120\n",
            "528/528 [==============================] - 26s 49ms/step - loss: 0.0205 - accuracy: 0.9949 - val_loss: 0.1712 - val_accuracy: 0.9717\n",
            "Epoch 91/120\n",
            "528/528 [==============================] - 25s 47ms/step - loss: 0.0194 - accuracy: 0.9950 - val_loss: 0.1691 - val_accuracy: 0.9708\n",
            "Epoch 92/120\n",
            "528/528 [==============================] - 25s 47ms/step - loss: 0.0204 - accuracy: 0.9949 - val_loss: 0.1765 - val_accuracy: 0.9703\n",
            "Epoch 93/120\n",
            "528/528 [==============================] - 25s 48ms/step - loss: 0.0225 - accuracy: 0.9933 - val_loss: 0.1836 - val_accuracy: 0.9674\n",
            "Epoch 94/120\n",
            "528/528 [==============================] - 26s 48ms/step - loss: 0.0454 - accuracy: 0.9869 - val_loss: 0.1469 - val_accuracy: 0.9727\n",
            "Epoch 95/120\n",
            "528/528 [==============================] - 23s 44ms/step - loss: 0.0303 - accuracy: 0.9914 - val_loss: 0.1664 - val_accuracy: 0.9684\n",
            "Epoch 96/120\n",
            "528/528 [==============================] - 25s 48ms/step - loss: 0.0232 - accuracy: 0.9930 - val_loss: 0.1504 - val_accuracy: 0.9741\n",
            "Epoch 97/120\n",
            "528/528 [==============================] - 26s 49ms/step - loss: 0.0215 - accuracy: 0.9936 - val_loss: 0.1569 - val_accuracy: 0.9732\n",
            "Epoch 98/120\n",
            "528/528 [==============================] - 23s 44ms/step - loss: 0.0219 - accuracy: 0.9939 - val_loss: 0.1635 - val_accuracy: 0.9722\n",
            "Epoch 99/120\n",
            "528/528 [==============================] - 26s 49ms/step - loss: 0.0200 - accuracy: 0.9938 - val_loss: 0.1681 - val_accuracy: 0.9717\n",
            "Epoch 100/120\n",
            "528/528 [==============================] - 26s 49ms/step - loss: 0.0188 - accuracy: 0.9954 - val_loss: 0.1762 - val_accuracy: 0.9717\n",
            "Epoch 101/120\n",
            "528/528 [==============================] - 24s 45ms/step - loss: 0.0190 - accuracy: 0.9957 - val_loss: 0.1777 - val_accuracy: 0.9717\n",
            "Epoch 102/120\n",
            "528/528 [==============================] - 25s 47ms/step - loss: 0.0194 - accuracy: 0.9949 - val_loss: 0.1833 - val_accuracy: 0.9717\n",
            "Epoch 103/120\n",
            "528/528 [==============================] - 26s 49ms/step - loss: 0.0195 - accuracy: 0.9950 - val_loss: 0.1823 - val_accuracy: 0.9713\n",
            "Epoch 104/120\n",
            "528/528 [==============================] - 26s 49ms/step - loss: 0.0205 - accuracy: 0.9944 - val_loss: 0.1844 - val_accuracy: 0.9713\n",
            "Epoch 105/120\n",
            "528/528 [==============================] - 23s 44ms/step - loss: 0.0186 - accuracy: 0.9954 - val_loss: 0.1806 - val_accuracy: 0.9722\n",
            "Epoch 106/120\n",
            "528/528 [==============================] - 26s 48ms/step - loss: 0.0184 - accuracy: 0.9948 - val_loss: 0.1848 - val_accuracy: 0.9717\n",
            "Epoch 107/120\n",
            "528/528 [==============================] - 26s 48ms/step - loss: 0.0188 - accuracy: 0.9944 - val_loss: 0.1850 - val_accuracy: 0.9727\n",
            "Epoch 108/120\n",
            "528/528 [==============================] - 23s 44ms/step - loss: 0.0252 - accuracy: 0.9930 - val_loss: 0.1876 - val_accuracy: 0.9674\n",
            "Epoch 109/120\n",
            "528/528 [==============================] - 26s 48ms/step - loss: 0.0476 - accuracy: 0.9868 - val_loss: 0.1508 - val_accuracy: 0.9703\n",
            "Epoch 110/120\n",
            "528/528 [==============================] - 25s 48ms/step - loss: 0.0218 - accuracy: 0.9935 - val_loss: 0.1678 - val_accuracy: 0.9717\n",
            "Epoch 111/120\n",
            "528/528 [==============================] - 24s 46ms/step - loss: 0.0199 - accuracy: 0.9945 - val_loss: 0.1724 - val_accuracy: 0.9732\n",
            "Epoch 112/120\n",
            "528/528 [==============================] - 25s 48ms/step - loss: 0.0197 - accuracy: 0.9943 - val_loss: 0.1753 - val_accuracy: 0.9732\n",
            "Epoch 113/120\n",
            "528/528 [==============================] - 26s 48ms/step - loss: 0.0176 - accuracy: 0.9953 - val_loss: 0.1763 - val_accuracy: 0.9737\n",
            "Epoch 114/120\n",
            "528/528 [==============================] - 25s 47ms/step - loss: 0.0187 - accuracy: 0.9944 - val_loss: 0.1775 - val_accuracy: 0.9717\n",
            "Epoch 115/120\n",
            "528/528 [==============================] - 24s 45ms/step - loss: 0.0175 - accuracy: 0.9948 - val_loss: 0.1755 - val_accuracy: 0.9722\n",
            "Epoch 116/120\n",
            "528/528 [==============================] - 26s 49ms/step - loss: 0.0177 - accuracy: 0.9956 - val_loss: 0.1779 - val_accuracy: 0.9713\n",
            "Epoch 117/120\n",
            "528/528 [==============================] - 25s 48ms/step - loss: 0.0176 - accuracy: 0.9954 - val_loss: 0.1758 - val_accuracy: 0.9713\n",
            "Epoch 118/120\n",
            "528/528 [==============================] - 23s 44ms/step - loss: 0.0185 - accuracy: 0.9943 - val_loss: 0.1800 - val_accuracy: 0.9713\n",
            "Epoch 119/120\n",
            "528/528 [==============================] - 25s 48ms/step - loss: 0.0189 - accuracy: 0.9944 - val_loss: 0.1851 - val_accuracy: 0.9708\n",
            "Epoch 120/120\n",
            "528/528 [==============================] - 25s 48ms/step - loss: 0.0178 - accuracy: 0.9947 - val_loss: 0.1872 - val_accuracy: 0.9708\n"
          ]
        }
      ]
    },
    {
      "cell_type": "code",
      "source": [
        "model.save(\"/content/gdrive/MyDrive/Colab Notebooks/FYP/CRNN-ExtraDenseRegularized-WithoutAttention.h5\")\n",
        "score = model.evaluate(X_test, y_test)\n",
        "print(score)"
      ],
      "metadata": {
        "id": "A0GDwHCxVFOA",
        "colab": {
          "base_uri": "https://localhost:8080/"
        },
        "outputId": "5bcd7806-ff40-4a38-eb92-6b5a68890d7d"
      },
      "execution_count": null,
      "outputs": [
        {
          "output_type": "stream",
          "name": "stdout",
          "text": [
            "66/66 [==============================] - 1s 10ms/step - loss: 0.1130 - accuracy: 0.9791\n",
            "[0.11295230686664581, 0.9791370034217834]\n"
          ]
        }
      ]
    },
    {
      "cell_type": "code",
      "source": [
        "pip install plot_keras_history"
      ],
      "metadata": {
        "id": "audvVlppvQfE",
        "colab": {
          "base_uri": "https://localhost:8080/"
        },
        "outputId": "fa1f9787-0b45-4c9d-b568-0e10b97959c2"
      },
      "execution_count": null,
      "outputs": [
        {
          "output_type": "stream",
          "name": "stdout",
          "text": [
            "Looking in indexes: https://pypi.org/simple, https://us-python.pkg.dev/colab-wheels/public/simple/\n",
            "Collecting plot_keras_history\n",
            "  Downloading plot_keras_history-1.1.38.tar.gz (11 kB)\n",
            "  Preparing metadata (setup.py) ... \u001b[?25l\u001b[?25hdone\n",
            "Requirement already satisfied: matplotlib in /usr/local/lib/python3.8/dist-packages (from plot_keras_history) (3.5.3)\n",
            "Requirement already satisfied: pandas in /usr/local/lib/python3.8/dist-packages (from plot_keras_history) (1.3.5)\n",
            "Requirement already satisfied: scipy in /usr/local/lib/python3.8/dist-packages (from plot_keras_history) (1.7.3)\n",
            "Collecting support_developer>=1.0.2\n",
            "  Downloading support_developer-1.0.5.tar.gz (4.9 kB)\n",
            "  Preparing metadata (setup.py) ... \u001b[?25l\u001b[?25hdone\n",
            "Collecting sanitize_ml_labels>=1.0.48\n",
            "  Downloading sanitize_ml_labels-1.0.50.tar.gz (322 kB)\n",
            "\u001b[2K     \u001b[90m━━━━━━━━━━━━━━━━━━━━━━━━━━━━━━━━━━━━━━━\u001b[0m \u001b[32m322.1/322.1 KB\u001b[0m \u001b[31m6.5 MB/s\u001b[0m eta \u001b[36m0:00:00\u001b[0m\n",
            "\u001b[?25h  Preparing metadata (setup.py) ... \u001b[?25l\u001b[?25hdone\n",
            "Collecting compress_json\n",
            "  Downloading compress_json-1.0.8.tar.gz (4.7 kB)\n",
            "  Preparing metadata (setup.py) ... \u001b[?25l\u001b[?25hdone\n",
            "Requirement already satisfied: pillow>=6.2.0 in /usr/local/lib/python3.8/dist-packages (from matplotlib->plot_keras_history) (7.1.2)\n",
            "Requirement already satisfied: pyparsing>=2.2.1 in /usr/local/lib/python3.8/dist-packages (from matplotlib->plot_keras_history) (3.0.9)\n",
            "Requirement already satisfied: cycler>=0.10 in /usr/local/lib/python3.8/dist-packages (from matplotlib->plot_keras_history) (0.11.0)\n",
            "Requirement already satisfied: python-dateutil>=2.7 in /usr/local/lib/python3.8/dist-packages (from matplotlib->plot_keras_history) (2.8.2)\n",
            "Requirement already satisfied: fonttools>=4.22.0 in /usr/local/lib/python3.8/dist-packages (from matplotlib->plot_keras_history) (4.38.0)\n",
            "Requirement already satisfied: kiwisolver>=1.0.1 in /usr/local/lib/python3.8/dist-packages (from matplotlib->plot_keras_history) (1.4.4)\n",
            "Requirement already satisfied: packaging>=20.0 in /usr/local/lib/python3.8/dist-packages (from matplotlib->plot_keras_history) (23.0)\n",
            "Requirement already satisfied: numpy>=1.17 in /usr/local/lib/python3.8/dist-packages (from matplotlib->plot_keras_history) (1.22.4)\n",
            "Requirement already satisfied: pytz>=2017.3 in /usr/local/lib/python3.8/dist-packages (from pandas->plot_keras_history) (2022.7.1)\n",
            "Requirement already satisfied: six>=1.5 in /usr/local/lib/python3.8/dist-packages (from python-dateutil>=2.7->matplotlib->plot_keras_history) (1.15.0)\n",
            "Building wheels for collected packages: plot_keras_history, sanitize_ml_labels, support_developer, compress_json\n",
            "  Building wheel for plot_keras_history (setup.py) ... \u001b[?25l\u001b[?25hdone\n",
            "  Created wheel for plot_keras_history: filename=plot_keras_history-1.1.38-py3-none-any.whl size=9472 sha256=a6faa867d42084b44edc39ed3bc881f43ab680303548de2343d45e0c9432726e\n",
            "  Stored in directory: /root/.cache/pip/wheels/97/a5/76/35ae3e15da1ce4530de8591b0bcd7716f6d6752a4808f01c04\n",
            "  Building wheel for sanitize_ml_labels (setup.py) ... \u001b[?25l\u001b[?25hdone\n",
            "  Created wheel for sanitize_ml_labels: filename=sanitize_ml_labels-1.0.50-py3-none-any.whl size=320514 sha256=dbb6fe2ba1dd480a81f83ba146514e1264749859a0b3e02015f2284180132c85\n",
            "  Stored in directory: /root/.cache/pip/wheels/a3/5f/ba/ddd191edb6c749a63cffabd28714d5600b5b58014daf7434a8\n",
            "  Building wheel for support_developer (setup.py) ... \u001b[?25l\u001b[?25hdone\n",
            "  Created wheel for support_developer: filename=support_developer-1.0.5-py3-none-any.whl size=5650 sha256=c1106ef96c08d77a605fc0bf1a4131792615d1b9e5c5d51e5d5872a38d1d6815\n",
            "  Stored in directory: /root/.cache/pip/wheels/11/5e/63/51e84640e77a7dc5f1e5f5eb597e8f1bc730a2818ee5c3fc03\n",
            "  Building wheel for compress_json (setup.py) ... \u001b[?25l\u001b[?25hdone\n",
            "  Created wheel for compress_json: filename=compress_json-1.0.8-py3-none-any.whl size=4733 sha256=6822141cb1ef88df369ed784a813ceecde67811e3fafa1f3e30eaa5105d2a87d\n",
            "  Stored in directory: /root/.cache/pip/wheels/fe/36/4b/69aaa23fc0ea813dc1f8cca3372bff314abed354cac20a1cb9\n",
            "Successfully built plot_keras_history sanitize_ml_labels support_developer compress_json\n",
            "Installing collected packages: support_developer, compress_json, sanitize_ml_labels, plot_keras_history\n",
            "Successfully installed compress_json-1.0.8 plot_keras_history-1.1.38 sanitize_ml_labels-1.0.50 support_developer-1.0.5\n"
          ]
        }
      ]
    },
    {
      "cell_type": "code",
      "source": [
        "from plot_keras_history import show_history, plot_history\n",
        "import matplotlib.pyplot as plt\n",
        "plot_history(history)"
      ],
      "metadata": {
        "id": "esfMhDOhXDyI",
        "colab": {
          "base_uri": "https://localhost:8080/",
          "height": 597
        },
        "outputId": "0a29763b-4d94-4688-f4f6-25a291279113"
      },
      "execution_count": null,
      "outputs": [
        {
          "output_type": "execute_result",
          "data": {
            "text/plain": [
              "(<Figure size 1000x500 with 2 Axes>,\n",
              " array([<AxesSubplot:title={'center':'Loss'}, xlabel='Epochs', ylabel='Loss'>,\n",
              "        <AxesSubplot:title={'center':'Accuracy'}, xlabel='Epochs', ylabel='Accuracy'>],\n",
              "       dtype=object))"
            ]
          },
          "metadata": {},
          "execution_count": 15
        },
        {
          "output_type": "display_data",
          "data": {
            "text/plain": [
              "<Figure size 1000x500 with 2 Axes>"
            ],
            "image/png": "[encoded data removed]"
          },
          "metadata": {
            "needs_background": "light"
          }
        }
      ]
    },
    {
      "cell_type": "code",
      "source": [
        "import matplotlib.pyplot as plt\n",
        "import itertools\n",
        "import numpy as np\n",
        "\n",
        "def plot_confusion_matrix(cm, classes,\n",
        "                        normalize=False,\n",
        "                        title='Confusion matrix',\n",
        "                        cmap=plt.cm.Blues):\n",
        "    \"\"\"\n",
        "    This function prints and plots the confusion matrix.\n",
        "    Normalization can be applied by setting `normalize=True`.\n",
        "    \"\"\"\n",
        "    plt.imshow(cm, interpolation='nearest', cmap=cmap)\n",
        "    plt.title(title)\n",
        "    plt.colorbar()\n",
        "    tick_marks = np.arange(len(classes))\n",
        "    plt.xticks(tick_marks, classes, rotation=45)\n",
        "    plt.yticks(tick_marks, classes)\n",
        "\n",
        "    if normalize:\n",
        "        cm = cm.astype('float') / cm.sum(axis=1)[:, np.newaxis]\n",
        "        print(\"Normalized confusion matrix\")\n",
        "    else:\n",
        "        print('Confusion matrix, without normalization')\n",
        "\n",
        "    print(cm)\n",
        "\n",
        "    thresh = cm.max() / 2.\n",
        "    for i, j in itertools.product(range(cm.shape[0]), range(cm.shape[1])):\n",
        "        plt.text(j, i, cm[i, j],\n",
        "            horizontalalignment=\"center\",\n",
        "            color=\"white\" if cm[i, j] > thresh else \"black\")\n",
        "\n",
        "    plt.tight_layout()\n",
        "    plt.ylabel('True label')\n",
        "    plt.xlabel('Predicted label')\n",
        "    plt.show()"
      ],
      "metadata": {
        "id": "m-Ulk4EBXd0y"
      },
      "execution_count": null,
      "outputs": []
    },
    {
      "cell_type": "code",
      "source": [
        "print(\"Model Classification Report: \\n\")\n",
        "y_pred = np.argmax(model.predict(X_test), axis=1)\n",
        "cm = confusion_matrix(np.argmax(y_test, axis=1), y_pred)\n",
        "print(classification_report(np.argmax(y_test, axis=1), y_pred))\n",
        "plot_confusion_matrix(cm, classes=[\"Does not have Wake Word\", \"Has Wake Word\"])"
      ],
      "metadata": {
        "id": "TflcZEOXXhi9",
        "colab": {
          "base_uri": "https://localhost:8080/",
          "height": 571
        },
        "outputId": "63ad5165-65d6-454b-a56e-8a1bc30db467"
      },
      "execution_count": null,
      "outputs": [
        {
          "output_type": "stream",
          "name": "stdout",
          "text": [
            "Model Classification Report: \n",
            "\n",
            "66/66 [==============================] - 2s 10ms/step\n",
            "              precision    recall  f1-score   support\n",
            "\n",
            "           0       0.98      0.98      0.98      1049\n",
            "           1       0.98      0.98      0.98      1060\n",
            "\n",
            "    accuracy                           0.98      2109\n",
            "   macro avg       0.98      0.98      0.98      2109\n",
            "weighted avg       0.98      0.98      0.98      2109\n",
            "\n",
            "Confusion matrix, without normalization\n",
            "[[1024   25]\n",
            " [  19 1041]]\n"
          ]
        },
        {
          "output_type": "display_data",
          "data": {
            "text/plain": [
              "<Figure size 432x288 with 2 Axes>"
            ],
            "image/png": "[encoded data removed]"
          },
          "metadata": {
            "needs_background": "light"
          }
        }
      ]
    }
  ]
}