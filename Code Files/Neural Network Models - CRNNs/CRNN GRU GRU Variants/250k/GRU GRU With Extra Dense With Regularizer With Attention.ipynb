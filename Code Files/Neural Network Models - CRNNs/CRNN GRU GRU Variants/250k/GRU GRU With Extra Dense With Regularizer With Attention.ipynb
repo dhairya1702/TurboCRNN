{
  "nbformat": 4,
  "nbformat_minor": 0,
  "metadata": {
    "colab": {
      "provenance": []
    },
    "kernelspec": {
      "name": "python3",
      "display_name": "Python 3"
    },
    "language_info": {
      "name": "python"
    },
    "accelerator": "GPU",
    "gpuClass": "standard"
  },
  "cells": [
    {
      "cell_type": "code",
      "execution_count": null,
      "metadata": {
        "colab": {
          "base_uri": "https://localhost:8080/"
        },
        "id": "SANNUYcJSP0l",
        "outputId": "0943b6c6-d7a4-4992-d576-c4c93cd81986"
      },
      "outputs": [
        {
          "output_type": "stream",
          "name": "stdout",
          "text": [
            "Drive already mounted at /content/gdrive; to attempt to forcibly remount, call drive.mount(\"/content/gdrive\", force_remount=True).\n"
          ]
        }
      ],
      "source": [
        "from google.colab import drive\n",
        "drive.mount('/content/gdrive')"
      ]
    },
    {
      "cell_type": "code",
      "source": [
        "import os\n",
        "import numpy as np\n",
        "import pandas as pd\n",
        "import matplotlib.pyplot as plt\n",
        "import librosa, librosa.display\n",
        "\n",
        "import tensorflow as tf \n",
        "from sklearn.model_selection import train_test_split\n",
        "from tensorflow.keras import Sequential\n",
        "from tensorflow.keras.layers import Dense, Activation, Dropout, GRU, Input\n",
        "from sklearn.metrics import confusion_matrix, classification_report"
      ],
      "metadata": {
        "id": "eLL0gmwaSZ8q"
      },
      "execution_count": null,
      "outputs": []
    },
    {
      "cell_type": "code",
      "source": [
        "X_train = np.load('/content/gdrive/MyDrive/Colab Notebooks/FYP/WaveletTransformDenoised/X_train.npy')\n",
        "y_train = np.load('/content/gdrive/MyDrive/Colab Notebooks/FYP/WaveletTransformDenoised/y_train.npy')\n",
        "X_test = np.load('/content/gdrive/MyDrive/Colab Notebooks/FYP/WaveletTransformDenoised/X_test.npy')\n",
        "y_test = np.load('/content/gdrive/MyDrive/Colab Notebooks/FYP/WaveletTransformDenoised/y_test.npy')\n",
        "X_val = np.load('/content/gdrive/MyDrive/Colab Notebooks/FYP/WaveletTransformDenoised/X_val.npy')\n",
        "y_val = np.load('/content/gdrive/MyDrive/Colab Notebooks/FYP/WaveletTransformDenoised/y_val.npy')"
      ],
      "metadata": {
        "id": "0Kq84or6Sfqz"
      },
      "execution_count": null,
      "outputs": []
    },
    {
      "cell_type": "code",
      "source": [
        "print(X_train.shape, y_train.shape)\n",
        "print(X_test.shape, y_test.shape)\n",
        "print(X_val.shape, y_val.shape)"
      ],
      "metadata": {
        "colab": {
          "base_uri": "https://localhost:8080/"
        },
        "id": "yT10o_10ShvM",
        "outputId": "3423a934-f7a8-4c4d-c74c-63adba355f7b"
      },
      "execution_count": null,
      "outputs": [
        {
          "output_type": "stream",
          "name": "stdout",
          "text": [
            "(16893, 98) (16893, 2)\n",
            "(2109, 98) (2109, 2)\n",
            "(2088, 98) (2088, 2)\n"
          ]
        }
      ]
    },
    {
      "cell_type": "code",
      "source": [
        "from keras.layers import Input, LSTM, GRU, Dense, Embedding, Conv1D, MaxPooling1D, Activation\n",
        "from keras.layers import Reshape, Softmax, Permute, Multiply, dot, concatenate\n",
        "from keras.layers import BatchNormalization\n",
        "from keras.models import Model\n",
        "from keras.regularizers import l2\n",
        "\n",
        "inputs = Input(shape=(98,1))\n",
        "conv1 = Conv1D(32, 5, activation='relu', kernel_regularizer=l2(0.01))(inputs)\n",
        "pool1 = MaxPooling1D(2)(conv1)\n",
        "conv2 = Conv1D(64, 5, activation='relu')(pool1)\n",
        "pool2 = MaxPooling1D(2)(conv2)\n",
        "conv3 = Conv1D(128, 5, activation='relu')(pool2)\n",
        "pool3 = MaxPooling1D(2)(conv3)\n",
        "\n",
        "gru1 = GRU(128, return_sequences=True)(pool3)\n",
        "gru2 = GRU(128)(gru1)\n",
        "gru2 = Dropout(0.2)(gru2)\n",
        "\n",
        "q = Dense(128)(gru2)\n",
        "k = Dense(128)(gru2)\n",
        "v = Dense(128)(gru2)\n",
        "\n",
        "q = Reshape((1, 128))(q)\n",
        "k = Reshape((1, 128))(k)\n",
        "v = Reshape((1, 128))(v)\n",
        "\n",
        "attention = dot([q, k], axes=[2, 2])\n",
        "attention = Activation('softmax')(attention)\n",
        "\n",
        "output = dot([attention, v], axes=[2, 1])\n",
        "output = Reshape((128,))(output)\n",
        "\n",
        "dense1 = Dense(32, activation='softmax')(output)\n",
        "dense1 = Dropout(0.5)(dense1)\n",
        "\n",
        "output = Dense(2, activation='softmax')(dense1)\n",
        "\n",
        "model = Model(inputs=inputs, outputs=output)\n",
        "\n",
        "print(model.summary())"
      ],
      "metadata": {
        "colab": {
          "base_uri": "https://localhost:8080/"
        },
        "id": "VTbs6Ji1Skoi",
        "outputId": "fea7d2a8-0a2c-47a1-cd6c-45a5f6ef9b49"
      },
      "execution_count": null,
      "outputs": [
        {
          "output_type": "stream",
          "name": "stdout",
          "text": [
            "Model: \"model\"\n",
            "__________________________________________________________________________________________________\n",
            " Layer (type)                   Output Shape         Param #     Connected to                     \n",
            "==================================================================================================\n",
            " input_1 (InputLayer)           [(None, 98, 1)]      0           []                               \n",
            "                                                                                                  \n",
            " conv1d (Conv1D)                (None, 94, 32)       192         ['input_1[0][0]']                \n",
            "                                                                                                  \n",
            " max_pooling1d (MaxPooling1D)   (None, 47, 32)       0           ['conv1d[0][0]']                 \n",
            "                                                                                                  \n",
            " conv1d_1 (Conv1D)              (None, 43, 64)       10304       ['max_pooling1d[0][0]']          \n",
            "                                                                                                  \n",
            " max_pooling1d_1 (MaxPooling1D)  (None, 21, 64)      0           ['conv1d_1[0][0]']               \n",
            "                                                                                                  \n",
            " conv1d_2 (Conv1D)              (None, 17, 128)      41088       ['max_pooling1d_1[0][0]']        \n",
            "                                                                                                  \n",
            " max_pooling1d_2 (MaxPooling1D)  (None, 8, 128)      0           ['conv1d_2[0][0]']               \n",
            "                                                                                                  \n",
            " gru (GRU)                      (None, 8, 128)       99072       ['max_pooling1d_2[0][0]']        \n",
            "                                                                                                  \n",
            " gru_1 (GRU)                    (None, 128)          99072       ['gru[0][0]']                    \n",
            "                                                                                                  \n",
            " dropout (Dropout)              (None, 128)          0           ['gru_1[0][0]']                  \n",
            "                                                                                                  \n",
            " dense (Dense)                  (None, 128)          16512       ['dropout[0][0]']                \n",
            "                                                                                                  \n",
            " dense_1 (Dense)                (None, 128)          16512       ['dropout[0][0]']                \n",
            "                                                                                                  \n",
            " reshape (Reshape)              (None, 1, 128)       0           ['dense[0][0]']                  \n",
            "                                                                                                  \n",
            " reshape_1 (Reshape)            (None, 1, 128)       0           ['dense_1[0][0]']                \n",
            "                                                                                                  \n",
            " dot (Dot)                      (None, 1, 1)         0           ['reshape[0][0]',                \n",
            "                                                                  'reshape_1[0][0]']              \n",
            "                                                                                                  \n",
            " dense_2 (Dense)                (None, 128)          16512       ['dropout[0][0]']                \n",
            "                                                                                                  \n",
            " activation (Activation)        (None, 1, 1)         0           ['dot[0][0]']                    \n",
            "                                                                                                  \n",
            " reshape_2 (Reshape)            (None, 1, 128)       0           ['dense_2[0][0]']                \n",
            "                                                                                                  \n",
            " dot_1 (Dot)                    (None, 1, 128)       0           ['activation[0][0]',             \n",
            "                                                                  'reshape_2[0][0]']              \n",
            "                                                                                                  \n",
            " reshape_3 (Reshape)            (None, 128)          0           ['dot_1[0][0]']                  \n",
            "                                                                                                  \n",
            " dense_3 (Dense)                (None, 32)           4128        ['reshape_3[0][0]']              \n",
            "                                                                                                  \n",
            " dropout_1 (Dropout)            (None, 32)           0           ['dense_3[0][0]']                \n",
            "                                                                                                  \n",
            " dense_4 (Dense)                (None, 2)            66          ['dropout_1[0][0]']              \n",
            "                                                                                                  \n",
            "==================================================================================================\n",
            "Total params: 303,458\n",
            "Trainable params: 303,458\n",
            "Non-trainable params: 0\n",
            "__________________________________________________________________________________________________\n",
            "None\n"
          ]
        }
      ]
    },
    {
      "cell_type": "code",
      "source": [
        "model.compile(\n",
        "    loss=\"categorical_crossentropy\",\n",
        "    optimizer=tf.keras.optimizers.Adam(amsgrad=True,learning_rate=0.001),\n",
        "    metrics=['accuracy']\n",
        ")"
      ],
      "metadata": {
        "id": "-yIJqsWiSm1-"
      },
      "execution_count": null,
      "outputs": []
    },
    {
      "cell_type": "code",
      "source": [
        "print(\"Model Score: \\n\")\n",
        "history = model.fit(X_train, y_train, validation_data = (X_val, y_val), epochs = 120)"
      ],
      "metadata": {
        "colab": {
          "base_uri": "https://localhost:8080/"
        },
        "id": "UMUPkLZ5htNZ",
        "outputId": "3d611a08-e28c-4042-fd02-06f86f65c634"
      },
      "execution_count": null,
      "outputs": [
        {
          "output_type": "stream",
          "name": "stdout",
          "text": [
            "Model Score: \n",
            "\n",
            "Epoch 1/120\n",
            "528/528 [==============================] - 29s 14ms/step - loss: 0.6076 - accuracy: 0.6762 - val_loss: 0.4101 - val_accuracy: 0.9047\n",
            "Epoch 2/120\n",
            "528/528 [==============================] - 5s 9ms/step - loss: 0.3934 - accuracy: 0.8823 - val_loss: 0.2949 - val_accuracy: 0.9248\n",
            "Epoch 3/120\n",
            "528/528 [==============================] - 6s 12ms/step - loss: 0.3247 - accuracy: 0.9010 - val_loss: 0.2511 - val_accuracy: 0.9286\n",
            "Epoch 4/120\n",
            "528/528 [==============================] - 5s 10ms/step - loss: 0.2905 - accuracy: 0.9084 - val_loss: 0.2208 - val_accuracy: 0.9344\n",
            "Epoch 5/120\n",
            "528/528 [==============================] - 5s 10ms/step - loss: 0.2676 - accuracy: 0.9167 - val_loss: 0.2141 - val_accuracy: 0.9286\n",
            "Epoch 6/120\n",
            "528/528 [==============================] - 6s 12ms/step - loss: 0.2483 - accuracy: 0.9256 - val_loss: 0.1910 - val_accuracy: 0.9420\n",
            "Epoch 7/120\n",
            "528/528 [==============================] - 5s 10ms/step - loss: 0.2243 - accuracy: 0.9352 - val_loss: 0.1827 - val_accuracy: 0.9397\n",
            "Epoch 8/120\n",
            "528/528 [==============================] - 6s 12ms/step - loss: 0.2093 - accuracy: 0.9397 - val_loss: 0.1941 - val_accuracy: 0.9397\n",
            "Epoch 9/120\n",
            "528/528 [==============================] - 5s 10ms/step - loss: 0.1993 - accuracy: 0.9412 - val_loss: 0.1631 - val_accuracy: 0.9497\n",
            "Epoch 10/120\n",
            "528/528 [==============================] - 6s 11ms/step - loss: 0.1906 - accuracy: 0.9457 - val_loss: 0.1601 - val_accuracy: 0.9468\n",
            "Epoch 11/120\n",
            "528/528 [==============================] - 6s 12ms/step - loss: 0.1833 - accuracy: 0.9484 - val_loss: 0.1562 - val_accuracy: 0.9535\n",
            "Epoch 12/120\n",
            "528/528 [==============================] - 5s 10ms/step - loss: 0.1663 - accuracy: 0.9558 - val_loss: 0.1515 - val_accuracy: 0.9526\n",
            "Epoch 13/120\n",
            "528/528 [==============================] - 6s 12ms/step - loss: 0.1608 - accuracy: 0.9567 - val_loss: 0.1823 - val_accuracy: 0.9358\n",
            "Epoch 14/120\n",
            "528/528 [==============================] - 5s 10ms/step - loss: 0.1624 - accuracy: 0.9571 - val_loss: 0.1485 - val_accuracy: 0.9540\n",
            "Epoch 15/120\n",
            "528/528 [==============================] - 6s 12ms/step - loss: 0.1480 - accuracy: 0.9649 - val_loss: 0.1363 - val_accuracy: 0.9574\n",
            "Epoch 16/120\n",
            "528/528 [==============================] - 7s 13ms/step - loss: 0.1414 - accuracy: 0.9655 - val_loss: 0.1321 - val_accuracy: 0.9579\n",
            "Epoch 17/120\n",
            "528/528 [==============================] - 6s 11ms/step - loss: 0.1347 - accuracy: 0.9680 - val_loss: 0.1456 - val_accuracy: 0.9531\n",
            "Epoch 18/120\n",
            "528/528 [==============================] - 6s 12ms/step - loss: 0.1351 - accuracy: 0.9673 - val_loss: 0.1257 - val_accuracy: 0.9583\n",
            "Epoch 19/120\n",
            "528/528 [==============================] - 6s 10ms/step - loss: 0.1253 - accuracy: 0.9686 - val_loss: 0.1179 - val_accuracy: 0.9612\n",
            "Epoch 20/120\n",
            "528/528 [==============================] - 6s 12ms/step - loss: 0.1184 - accuracy: 0.9711 - val_loss: 0.1266 - val_accuracy: 0.9617\n",
            "Epoch 21/120\n",
            "528/528 [==============================] - 5s 10ms/step - loss: 0.1176 - accuracy: 0.9725 - val_loss: 0.1163 - val_accuracy: 0.9665\n",
            "Epoch 22/120\n",
            "528/528 [==============================] - 6s 12ms/step - loss: 0.1091 - accuracy: 0.9744 - val_loss: 0.1246 - val_accuracy: 0.9617\n",
            "Epoch 23/120\n",
            "528/528 [==============================] - 5s 10ms/step - loss: 0.1086 - accuracy: 0.9726 - val_loss: 0.1163 - val_accuracy: 0.9646\n",
            "Epoch 24/120\n",
            "528/528 [==============================] - 5s 10ms/step - loss: 0.0978 - accuracy: 0.9759 - val_loss: 0.1112 - val_accuracy: 0.9713\n",
            "Epoch 25/120\n",
            "528/528 [==============================] - 6s 11ms/step - loss: 0.1040 - accuracy: 0.9729 - val_loss: 0.1187 - val_accuracy: 0.9670\n",
            "Epoch 26/120\n",
            "528/528 [==============================] - 5s 10ms/step - loss: 0.0989 - accuracy: 0.9750 - val_loss: 0.1079 - val_accuracy: 0.9646\n",
            "Epoch 27/120\n",
            "528/528 [==============================] - 6s 12ms/step - loss: 0.0861 - accuracy: 0.9780 - val_loss: 0.1329 - val_accuracy: 0.9569\n",
            "Epoch 28/120\n",
            "528/528 [==============================] - 5s 10ms/step - loss: 0.0849 - accuracy: 0.9796 - val_loss: 0.1131 - val_accuracy: 0.9665\n",
            "Epoch 29/120\n",
            "528/528 [==============================] - 6s 11ms/step - loss: 0.0842 - accuracy: 0.9790 - val_loss: 0.1336 - val_accuracy: 0.9631\n",
            "Epoch 30/120\n",
            "528/528 [==============================] - 6s 11ms/step - loss: 0.0843 - accuracy: 0.9781 - val_loss: 0.1081 - val_accuracy: 0.9655\n",
            "Epoch 31/120\n",
            "528/528 [==============================] - 5s 10ms/step - loss: 0.0759 - accuracy: 0.9821 - val_loss: 0.1152 - val_accuracy: 0.9641\n",
            "Epoch 32/120\n",
            "528/528 [==============================] - 6s 12ms/step - loss: 0.0746 - accuracy: 0.9827 - val_loss: 0.1246 - val_accuracy: 0.9674\n",
            "Epoch 33/120\n",
            "528/528 [==============================] - 7s 13ms/step - loss: 0.0703 - accuracy: 0.9842 - val_loss: 0.1229 - val_accuracy: 0.9689\n",
            "Epoch 34/120\n",
            "528/528 [==============================] - 10s 19ms/step - loss: 0.0682 - accuracy: 0.9859 - val_loss: 0.1200 - val_accuracy: 0.9684\n",
            "Epoch 35/120\n",
            "528/528 [==============================] - 5s 10ms/step - loss: 0.0624 - accuracy: 0.9879 - val_loss: 0.1276 - val_accuracy: 0.9650\n",
            "Epoch 36/120\n",
            "528/528 [==============================] - 6s 12ms/step - loss: 0.0630 - accuracy: 0.9870 - val_loss: 0.1177 - val_accuracy: 0.9703\n",
            "Epoch 37/120\n",
            "528/528 [==============================] - 5s 10ms/step - loss: 0.0639 - accuracy: 0.9851 - val_loss: 0.1315 - val_accuracy: 0.9674\n",
            "Epoch 38/120\n",
            "528/528 [==============================] - 6s 11ms/step - loss: 0.0561 - accuracy: 0.9879 - val_loss: 0.1274 - val_accuracy: 0.9679\n",
            "Epoch 39/120\n",
            "528/528 [==============================] - 5s 10ms/step - loss: 0.0632 - accuracy: 0.9875 - val_loss: 0.1334 - val_accuracy: 0.9670\n",
            "Epoch 40/120\n",
            "528/528 [==============================] - 5s 10ms/step - loss: 0.0612 - accuracy: 0.9892 - val_loss: 0.1226 - val_accuracy: 0.9665\n",
            "Epoch 41/120\n",
            "528/528 [==============================] - 6s 12ms/step - loss: 0.0515 - accuracy: 0.9904 - val_loss: 0.1345 - val_accuracy: 0.9670\n",
            "Epoch 42/120\n",
            "528/528 [==============================] - 5s 10ms/step - loss: 0.0446 - accuracy: 0.9925 - val_loss: 0.1574 - val_accuracy: 0.9631\n",
            "Epoch 43/120\n",
            "528/528 [==============================] - 6s 11ms/step - loss: 0.0530 - accuracy: 0.9898 - val_loss: 0.1487 - val_accuracy: 0.9650\n",
            "Epoch 44/120\n",
            "528/528 [==============================] - 6s 11ms/step - loss: 0.0496 - accuracy: 0.9899 - val_loss: 0.1491 - val_accuracy: 0.9650\n",
            "Epoch 45/120\n",
            "528/528 [==============================] - 6s 12ms/step - loss: 0.0468 - accuracy: 0.9919 - val_loss: 0.1481 - val_accuracy: 0.9574\n",
            "Epoch 46/120\n",
            "528/528 [==============================] - 6s 11ms/step - loss: 0.0476 - accuracy: 0.9910 - val_loss: 0.1234 - val_accuracy: 0.9708\n",
            "Epoch 47/120\n",
            "528/528 [==============================] - 6s 11ms/step - loss: 0.0501 - accuracy: 0.9903 - val_loss: 0.1434 - val_accuracy: 0.9660\n",
            "Epoch 48/120\n",
            "528/528 [==============================] - 7s 12ms/step - loss: 0.0455 - accuracy: 0.9919 - val_loss: 0.1503 - val_accuracy: 0.9622\n",
            "Epoch 49/120\n",
            "528/528 [==============================] - 5s 10ms/step - loss: 0.0359 - accuracy: 0.9944 - val_loss: 0.1425 - val_accuracy: 0.9698\n",
            "Epoch 50/120\n",
            "528/528 [==============================] - 6s 12ms/step - loss: 0.0443 - accuracy: 0.9922 - val_loss: 0.1269 - val_accuracy: 0.9713\n",
            "Epoch 51/120\n",
            "528/528 [==============================] - 5s 10ms/step - loss: 0.0362 - accuracy: 0.9951 - val_loss: 0.1270 - val_accuracy: 0.9670\n",
            "Epoch 52/120\n",
            "528/528 [==============================] - 6s 11ms/step - loss: 0.0397 - accuracy: 0.9935 - val_loss: 0.1330 - val_accuracy: 0.9703\n",
            "Epoch 53/120\n",
            "528/528 [==============================] - 6s 12ms/step - loss: 0.0432 - accuracy: 0.9924 - val_loss: 0.1315 - val_accuracy: 0.9650\n",
            "Epoch 54/120\n",
            "528/528 [==============================] - 5s 10ms/step - loss: 0.0308 - accuracy: 0.9954 - val_loss: 0.1449 - val_accuracy: 0.9679\n",
            "Epoch 55/120\n",
            "528/528 [==============================] - 6s 12ms/step - loss: 0.0350 - accuracy: 0.9936 - val_loss: 0.2730 - val_accuracy: 0.9382\n",
            "Epoch 56/120\n",
            "528/528 [==============================] - 6s 10ms/step - loss: 0.0511 - accuracy: 0.9891 - val_loss: 0.1451 - val_accuracy: 0.9708\n",
            "Epoch 57/120\n",
            "528/528 [==============================] - 7s 13ms/step - loss: 0.0270 - accuracy: 0.9966 - val_loss: 0.1684 - val_accuracy: 0.9674\n",
            "Epoch 58/120\n",
            "528/528 [==============================] - 5s 10ms/step - loss: 0.0417 - accuracy: 0.9915 - val_loss: 0.1537 - val_accuracy: 0.9660\n",
            "Epoch 59/120\n",
            "528/528 [==============================] - 6s 11ms/step - loss: 0.0377 - accuracy: 0.9925 - val_loss: 0.1426 - val_accuracy: 0.9679\n",
            "Epoch 60/120\n",
            "528/528 [==============================] - 6s 12ms/step - loss: 0.0348 - accuracy: 0.9934 - val_loss: 0.1388 - val_accuracy: 0.9708\n",
            "Epoch 61/120\n",
            "528/528 [==============================] - 5s 10ms/step - loss: 0.0370 - accuracy: 0.9928 - val_loss: 0.1543 - val_accuracy: 0.9655\n",
            "Epoch 62/120\n",
            "528/528 [==============================] - 6s 12ms/step - loss: 0.0306 - accuracy: 0.9947 - val_loss: 0.1311 - val_accuracy: 0.9693\n",
            "Epoch 63/120\n",
            "528/528 [==============================] - 6s 11ms/step - loss: 0.0328 - accuracy: 0.9943 - val_loss: 0.1343 - val_accuracy: 0.9693\n",
            "Epoch 64/120\n",
            "528/528 [==============================] - 6s 12ms/step - loss: 0.0357 - accuracy: 0.9941 - val_loss: 0.1570 - val_accuracy: 0.9646\n",
            "Epoch 65/120\n",
            "528/528 [==============================] - 6s 11ms/step - loss: 0.0328 - accuracy: 0.9935 - val_loss: 0.1444 - val_accuracy: 0.9698\n",
            "Epoch 66/120\n",
            "528/528 [==============================] - 6s 11ms/step - loss: 0.0276 - accuracy: 0.9959 - val_loss: 0.1509 - val_accuracy: 0.9727\n",
            "Epoch 67/120\n",
            "528/528 [==============================] - 6s 12ms/step - loss: 0.0222 - accuracy: 0.9969 - val_loss: 0.1690 - val_accuracy: 0.9674\n",
            "Epoch 68/120\n",
            "528/528 [==============================] - 5s 10ms/step - loss: 0.0221 - accuracy: 0.9976 - val_loss: 0.1616 - val_accuracy: 0.9703\n",
            "Epoch 69/120\n",
            "528/528 [==============================] - 7s 13ms/step - loss: 0.0316 - accuracy: 0.9947 - val_loss: 0.1307 - val_accuracy: 0.9727\n",
            "Epoch 70/120\n",
            "528/528 [==============================] - 6s 11ms/step - loss: 0.0257 - accuracy: 0.9957 - val_loss: 0.1606 - val_accuracy: 0.9641\n",
            "Epoch 71/120\n",
            "528/528 [==============================] - 6s 12ms/step - loss: 0.0330 - accuracy: 0.9934 - val_loss: 0.1577 - val_accuracy: 0.9670\n",
            "Epoch 72/120\n",
            "528/528 [==============================] - 6s 11ms/step - loss: 0.0318 - accuracy: 0.9939 - val_loss: 0.1906 - val_accuracy: 0.9579\n",
            "Epoch 73/120\n",
            "528/528 [==============================] - 6s 11ms/step - loss: 0.0295 - accuracy: 0.9953 - val_loss: 0.1407 - val_accuracy: 0.9717\n",
            "Epoch 74/120\n",
            "528/528 [==============================] - 6s 12ms/step - loss: 0.0275 - accuracy: 0.9954 - val_loss: 0.1289 - val_accuracy: 0.9698\n",
            "Epoch 75/120\n",
            "528/528 [==============================] - 5s 10ms/step - loss: 0.0211 - accuracy: 0.9969 - val_loss: 0.1458 - val_accuracy: 0.9703\n",
            "Epoch 76/120\n",
            "528/528 [==============================] - 6s 12ms/step - loss: 0.0236 - accuracy: 0.9966 - val_loss: 0.1710 - val_accuracy: 0.9703\n",
            "Epoch 77/120\n",
            "528/528 [==============================] - 5s 10ms/step - loss: 0.0401 - accuracy: 0.9922 - val_loss: 0.1510 - val_accuracy: 0.9650\n",
            "Epoch 78/120\n",
            "528/528 [==============================] - 6s 12ms/step - loss: 0.0271 - accuracy: 0.9953 - val_loss: 0.1555 - val_accuracy: 0.9650\n",
            "Epoch 79/120\n",
            "528/528 [==============================] - 6s 11ms/step - loss: 0.0209 - accuracy: 0.9972 - val_loss: 0.1671 - val_accuracy: 0.9698\n",
            "Epoch 80/120\n",
            "528/528 [==============================] - 5s 10ms/step - loss: 0.0194 - accuracy: 0.9974 - val_loss: 0.1659 - val_accuracy: 0.9684\n",
            "Epoch 81/120\n",
            "528/528 [==============================] - 7s 12ms/step - loss: 0.0174 - accuracy: 0.9977 - val_loss: 0.1703 - val_accuracy: 0.9689\n",
            "Epoch 82/120\n",
            "528/528 [==============================] - 5s 10ms/step - loss: 0.0173 - accuracy: 0.9978 - val_loss: 0.1655 - val_accuracy: 0.9698\n",
            "Epoch 83/120\n",
            "528/528 [==============================] - 7s 12ms/step - loss: 0.0172 - accuracy: 0.9978 - val_loss: 0.1708 - val_accuracy: 0.9689\n",
            "Epoch 84/120\n",
            "528/528 [==============================] - 5s 10ms/step - loss: 0.0169 - accuracy: 0.9973 - val_loss: 0.1763 - val_accuracy: 0.9689\n",
            "Epoch 85/120\n",
            "528/528 [==============================] - 6s 11ms/step - loss: 0.0165 - accuracy: 0.9978 - val_loss: 0.1783 - val_accuracy: 0.9674\n",
            "Epoch 86/120\n",
            "528/528 [==============================] - 6s 11ms/step - loss: 0.0161 - accuracy: 0.9981 - val_loss: 0.1774 - val_accuracy: 0.9674\n",
            "Epoch 87/120\n",
            "528/528 [==============================] - 5s 10ms/step - loss: 0.0161 - accuracy: 0.9983 - val_loss: 0.1788 - val_accuracy: 0.9670\n",
            "Epoch 88/120\n",
            "528/528 [==============================] - 6s 12ms/step - loss: 0.0160 - accuracy: 0.9983 - val_loss: 0.1785 - val_accuracy: 0.9674\n",
            "Epoch 89/120\n",
            "528/528 [==============================] - 5s 10ms/step - loss: 0.0157 - accuracy: 0.9976 - val_loss: 0.1783 - val_accuracy: 0.9679\n",
            "Epoch 90/120\n",
            "528/528 [==============================] - 6s 11ms/step - loss: 0.0159 - accuracy: 0.9979 - val_loss: 0.1825 - val_accuracy: 0.9679\n",
            "Epoch 91/120\n",
            "528/528 [==============================] - 6s 11ms/step - loss: 0.0158 - accuracy: 0.9979 - val_loss: 0.1866 - val_accuracy: 0.9674\n",
            "Epoch 92/120\n",
            "528/528 [==============================] - 5s 10ms/step - loss: 0.0156 - accuracy: 0.9983 - val_loss: 0.1876 - val_accuracy: 0.9679\n",
            "Epoch 93/120\n",
            "528/528 [==============================] - 6s 12ms/step - loss: 0.0158 - accuracy: 0.9983 - val_loss: 0.1877 - val_accuracy: 0.9679\n",
            "Epoch 94/120\n",
            "528/528 [==============================] - 5s 10ms/step - loss: 0.0151 - accuracy: 0.9978 - val_loss: 0.1894 - val_accuracy: 0.9689\n",
            "Epoch 95/120\n",
            "528/528 [==============================] - 6s 12ms/step - loss: 0.0141 - accuracy: 0.9985 - val_loss: 0.1891 - val_accuracy: 0.9674\n",
            "Epoch 96/120\n",
            "528/528 [==============================] - 5s 10ms/step - loss: 0.0139 - accuracy: 0.9982 - val_loss: 0.1941 - val_accuracy: 0.9655\n",
            "Epoch 97/120\n",
            "528/528 [==============================] - 6s 11ms/step - loss: 0.0146 - accuracy: 0.9982 - val_loss: 0.1945 - val_accuracy: 0.9670\n",
            "Epoch 98/120\n",
            "528/528 [==============================] - 6s 11ms/step - loss: 0.0156 - accuracy: 0.9977 - val_loss: 0.2234 - val_accuracy: 0.9641\n",
            "Epoch 99/120\n",
            "528/528 [==============================] - 5s 10ms/step - loss: 0.0333 - accuracy: 0.9925 - val_loss: 0.1974 - val_accuracy: 0.9631\n",
            "Epoch 100/120\n",
            "528/528 [==============================] - 6s 12ms/step - loss: 0.0235 - accuracy: 0.9959 - val_loss: 0.1568 - val_accuracy: 0.9684\n",
            "Epoch 101/120\n",
            "528/528 [==============================] - 5s 10ms/step - loss: 0.0240 - accuracy: 0.9953 - val_loss: 0.1628 - val_accuracy: 0.9708\n",
            "Epoch 102/120\n",
            "528/528 [==============================] - 6s 12ms/step - loss: 0.0165 - accuracy: 0.9977 - val_loss: 0.1780 - val_accuracy: 0.9689\n",
            "Epoch 103/120\n",
            "528/528 [==============================] - 5s 10ms/step - loss: 0.0222 - accuracy: 0.9960 - val_loss: 0.1795 - val_accuracy: 0.9689\n",
            "Epoch 104/120\n",
            "528/528 [==============================] - 6s 11ms/step - loss: 0.0241 - accuracy: 0.9953 - val_loss: 0.1682 - val_accuracy: 0.9631\n",
            "Epoch 105/120\n",
            "528/528 [==============================] - 6s 11ms/step - loss: 0.0216 - accuracy: 0.9966 - val_loss: 0.1675 - val_accuracy: 0.9674\n",
            "Epoch 106/120\n",
            "528/528 [==============================] - 5s 10ms/step - loss: 0.0145 - accuracy: 0.9980 - val_loss: 0.1676 - val_accuracy: 0.9708\n",
            "Epoch 107/120\n",
            "528/528 [==============================] - 7s 12ms/step - loss: 0.0140 - accuracy: 0.9980 - val_loss: 0.1721 - val_accuracy: 0.9713\n",
            "Epoch 108/120\n",
            "528/528 [==============================] - 5s 10ms/step - loss: 0.0135 - accuracy: 0.9986 - val_loss: 0.1764 - val_accuracy: 0.9713\n",
            "Epoch 109/120\n",
            "528/528 [==============================] - 6s 12ms/step - loss: 0.0140 - accuracy: 0.9973 - val_loss: 0.1812 - val_accuracy: 0.9698\n",
            "Epoch 110/120\n",
            "528/528 [==============================] - 6s 11ms/step - loss: 0.0148 - accuracy: 0.9971 - val_loss: 0.1825 - val_accuracy: 0.9708\n",
            "Epoch 111/120\n",
            "528/528 [==============================] - 6s 11ms/step - loss: 0.0132 - accuracy: 0.9983 - val_loss: 0.1869 - val_accuracy: 0.9703\n",
            "Epoch 112/120\n",
            "528/528 [==============================] - 6s 12ms/step - loss: 0.0127 - accuracy: 0.9983 - val_loss: 0.1883 - val_accuracy: 0.9708\n",
            "Epoch 113/120\n",
            "528/528 [==============================] - 5s 10ms/step - loss: 0.0129 - accuracy: 0.9982 - val_loss: 0.1923 - val_accuracy: 0.9713\n",
            "Epoch 114/120\n",
            "528/528 [==============================] - 6s 12ms/step - loss: 0.0137 - accuracy: 0.9978 - val_loss: 0.1922 - val_accuracy: 0.9703\n",
            "Epoch 115/120\n",
            "528/528 [==============================] - 5s 10ms/step - loss: 0.0136 - accuracy: 0.9982 - val_loss: 0.2016 - val_accuracy: 0.9689\n",
            "Epoch 116/120\n",
            "528/528 [==============================] - 6s 12ms/step - loss: 0.0125 - accuracy: 0.9980 - val_loss: 0.1978 - val_accuracy: 0.9693\n",
            "Epoch 117/120\n",
            "528/528 [==============================] - 6s 11ms/step - loss: 0.0126 - accuracy: 0.9983 - val_loss: 0.1923 - val_accuracy: 0.9698\n",
            "Epoch 118/120\n",
            "528/528 [==============================] - 5s 10ms/step - loss: 0.0132 - accuracy: 0.9979 - val_loss: 0.1998 - val_accuracy: 0.9693\n",
            "Epoch 119/120\n",
            "528/528 [==============================] - 6s 12ms/step - loss: 0.0129 - accuracy: 0.9973 - val_loss: 0.1934 - val_accuracy: 0.9689\n",
            "Epoch 120/120\n",
            "528/528 [==============================] - 6s 11ms/step - loss: 0.0123 - accuracy: 0.9981 - val_loss: 0.1917 - val_accuracy: 0.9708\n"
          ]
        }
      ]
    },
    {
      "cell_type": "code",
      "source": [
        "model.save(\"/content/gdrive/MyDrive/Colab Notebooks/FYP/CRNN-ExtraDenseRegularized-WithAttention.h5\")\n",
        "score = model.evaluate(X_test, y_test)\n",
        "print(score)"
      ],
      "metadata": {
        "id": "A0GDwHCxVFOA",
        "colab": {
          "base_uri": "https://localhost:8080/"
        },
        "outputId": "a92a6600-a17b-4e33-9e3b-082014e3d852"
      },
      "execution_count": null,
      "outputs": [
        {
          "output_type": "stream",
          "name": "stdout",
          "text": [
            "66/66 [==============================] - 0s 5ms/step - loss: 0.1243 - accuracy: 0.9806\n",
            "[0.12431531399488449, 0.9805595278739929]\n"
          ]
        }
      ]
    },
    {
      "cell_type": "code",
      "source": [
        "pip install plot_keras_history"
      ],
      "metadata": {
        "id": "audvVlppvQfE",
        "colab": {
          "base_uri": "https://localhost:8080/"
        },
        "outputId": "e08fb7f3-3ad0-4887-d907-a2e5e2652a00"
      },
      "execution_count": null,
      "outputs": [
        {
          "output_type": "stream",
          "name": "stdout",
          "text": [
            "Looking in indexes: https://pypi.org/simple, https://us-python.pkg.dev/colab-wheels/public/simple/\n",
            "Collecting plot_keras_history\n",
            "  Downloading plot_keras_history-1.1.38.tar.gz (11 kB)\n",
            "  Preparing metadata (setup.py) ... \u001b[?25l\u001b[?25hdone\n",
            "Requirement already satisfied: matplotlib in /usr/local/lib/python3.8/dist-packages (from plot_keras_history) (3.5.3)\n",
            "Requirement already satisfied: pandas in /usr/local/lib/python3.8/dist-packages (from plot_keras_history) (1.3.5)\n",
            "Requirement already satisfied: scipy in /usr/local/lib/python3.8/dist-packages (from plot_keras_history) (1.7.3)\n",
            "Collecting support_developer>=1.0.2\n",
            "  Downloading support_developer-1.0.5.tar.gz (4.9 kB)\n",
            "  Preparing metadata (setup.py) ... \u001b[?25l\u001b[?25hdone\n",
            "Collecting sanitize_ml_labels>=1.0.48\n",
            "  Downloading sanitize_ml_labels-1.0.50.tar.gz (322 kB)\n",
            "\u001b[2K     \u001b[90m━━━━━━━━━━━━━━━━━━━━━━━━━━━━━━━━━━━━━━\u001b[0m \u001b[32m322.1/322.1 KB\u001b[0m \u001b[31m17.4 MB/s\u001b[0m eta \u001b[36m0:00:00\u001b[0m\n",
            "\u001b[?25h  Preparing metadata (setup.py) ... \u001b[?25l\u001b[?25hdone\n",
            "Collecting compress_json\n",
            "  Downloading compress_json-1.0.8.tar.gz (4.7 kB)\n",
            "  Preparing metadata (setup.py) ... \u001b[?25l\u001b[?25hdone\n",
            "Requirement already satisfied: kiwisolver>=1.0.1 in /usr/local/lib/python3.8/dist-packages (from matplotlib->plot_keras_history) (1.4.4)\n",
            "Requirement already satisfied: cycler>=0.10 in /usr/local/lib/python3.8/dist-packages (from matplotlib->plot_keras_history) (0.11.0)\n",
            "Requirement already satisfied: pillow>=6.2.0 in /usr/local/lib/python3.8/dist-packages (from matplotlib->plot_keras_history) (7.1.2)\n",
            "Requirement already satisfied: numpy>=1.17 in /usr/local/lib/python3.8/dist-packages (from matplotlib->plot_keras_history) (1.22.4)\n",
            "Requirement already satisfied: python-dateutil>=2.7 in /usr/local/lib/python3.8/dist-packages (from matplotlib->plot_keras_history) (2.8.2)\n",
            "Requirement already satisfied: fonttools>=4.22.0 in /usr/local/lib/python3.8/dist-packages (from matplotlib->plot_keras_history) (4.38.0)\n",
            "Requirement already satisfied: packaging>=20.0 in /usr/local/lib/python3.8/dist-packages (from matplotlib->plot_keras_history) (23.0)\n",
            "Requirement already satisfied: pyparsing>=2.2.1 in /usr/local/lib/python3.8/dist-packages (from matplotlib->plot_keras_history) (3.0.9)\n",
            "Requirement already satisfied: pytz>=2017.3 in /usr/local/lib/python3.8/dist-packages (from pandas->plot_keras_history) (2022.7.1)\n",
            "Requirement already satisfied: six>=1.5 in /usr/local/lib/python3.8/dist-packages (from python-dateutil>=2.7->matplotlib->plot_keras_history) (1.15.0)\n",
            "Building wheels for collected packages: plot_keras_history, sanitize_ml_labels, support_developer, compress_json\n",
            "  Building wheel for plot_keras_history (setup.py) ... \u001b[?25l\u001b[?25hdone\n",
            "  Created wheel for plot_keras_history: filename=plot_keras_history-1.1.38-py3-none-any.whl size=9472 sha256=fb9bebf66c0d31055a65d69c0b07e024479d7478660c5749200919eb92feaa94\n",
            "  Stored in directory: /root/.cache/pip/wheels/97/a5/76/35ae3e15da1ce4530de8591b0bcd7716f6d6752a4808f01c04\n",
            "  Building wheel for sanitize_ml_labels (setup.py) ... \u001b[?25l\u001b[?25hdone\n",
            "  Created wheel for sanitize_ml_labels: filename=sanitize_ml_labels-1.0.50-py3-none-any.whl size=320514 sha256=ac5c0fe459740454a85ed2cdb0f7aa4381035faf6d15498c197ff842e237b231\n",
            "  Stored in directory: /root/.cache/pip/wheels/a3/5f/ba/ddd191edb6c749a63cffabd28714d5600b5b58014daf7434a8\n",
            "  Building wheel for support_developer (setup.py) ... \u001b[?25l\u001b[?25hdone\n",
            "  Created wheel for support_developer: filename=support_developer-1.0.5-py3-none-any.whl size=5650 sha256=3e0fcb18f069c32b7d5461314b6da50cfe38d960dae325a7b7f73f19c3d8b4db\n",
            "  Stored in directory: /root/.cache/pip/wheels/11/5e/63/51e84640e77a7dc5f1e5f5eb597e8f1bc730a2818ee5c3fc03\n",
            "  Building wheel for compress_json (setup.py) ... \u001b[?25l\u001b[?25hdone\n",
            "  Created wheel for compress_json: filename=compress_json-1.0.8-py3-none-any.whl size=4733 sha256=c6b66002108e8380f0f2b05d63803c62dabc0cc838bc538fc70a53bdd67942fa\n",
            "  Stored in directory: /root/.cache/pip/wheels/fe/36/4b/69aaa23fc0ea813dc1f8cca3372bff314abed354cac20a1cb9\n",
            "Successfully built plot_keras_history sanitize_ml_labels support_developer compress_json\n",
            "Installing collected packages: support_developer, compress_json, sanitize_ml_labels, plot_keras_history\n",
            "Successfully installed compress_json-1.0.8 plot_keras_history-1.1.38 sanitize_ml_labels-1.0.50 support_developer-1.0.5\n"
          ]
        }
      ]
    },
    {
      "cell_type": "code",
      "source": [
        "from plot_keras_history import show_history, plot_history\n",
        "import matplotlib.pyplot as plt\n",
        "plot_history(history)"
      ],
      "metadata": {
        "id": "esfMhDOhXDyI",
        "colab": {
          "base_uri": "https://localhost:8080/",
          "height": 597
        },
        "outputId": "4f1187c2-20ac-48fa-ba03-24bd9f9b8f70"
      },
      "execution_count": null,
      "outputs": [
        {
          "output_type": "execute_result",
          "data": {
            "text/plain": [
              "(<Figure size 1000x500 with 2 Axes>,\n",
              " array([<AxesSubplot:title={'center':'Loss'}, xlabel='Epochs', ylabel='Loss'>,\n",
              "        <AxesSubplot:title={'center':'Accuracy'}, xlabel='Epochs', ylabel='Accuracy'>],\n",
              "       dtype=object))"
            ]
          },
          "metadata": {},
          "execution_count": 10
        },
        {
          "output_type": "display_data",
          "data": {
            "text/plain": [
              "<Figure size 1000x500 with 2 Axes>"
            ],
            "image/png": "[encoded data removed]"
          },
          "metadata": {
            "needs_background": "light"
          }
        }
      ]
    },
    {
      "cell_type": "code",
      "source": [
        "import matplotlib.pyplot as plt\n",
        "import itertools\n",
        "import numpy as np\n",
        "\n",
        "def plot_confusion_matrix(cm, classes,\n",
        "                        normalize=False,\n",
        "                        title='Confusion matrix',\n",
        "                        cmap=plt.cm.Blues):\n",
        "    \"\"\"\n",
        "    This function prints and plots the confusion matrix.\n",
        "    Normalization can be applied by setting `normalize=True`.\n",
        "    \"\"\"\n",
        "    plt.imshow(cm, interpolation='nearest', cmap=cmap)\n",
        "    plt.title(title)\n",
        "    plt.colorbar()\n",
        "    tick_marks = np.arange(len(classes))\n",
        "    plt.xticks(tick_marks, classes, rotation=45)\n",
        "    plt.yticks(tick_marks, classes)\n",
        "\n",
        "    if normalize:\n",
        "        cm = cm.astype('float') / cm.sum(axis=1)[:, np.newaxis]\n",
        "        print(\"Normalized confusion matrix\")\n",
        "    else:\n",
        "        print('Confusion matrix, without normalization')\n",
        "\n",
        "    print(cm)\n",
        "\n",
        "    thresh = cm.max() / 2.\n",
        "    for i, j in itertools.product(range(cm.shape[0]), range(cm.shape[1])):\n",
        "        plt.text(j, i, cm[i, j],\n",
        "            horizontalalignment=\"center\",\n",
        "            color=\"white\" if cm[i, j] > thresh else \"black\")\n",
        "\n",
        "    plt.tight_layout()\n",
        "    plt.ylabel('True label')\n",
        "    plt.xlabel('Predicted label')\n",
        "    plt.show()"
      ],
      "metadata": {
        "id": "m-Ulk4EBXd0y"
      },
      "execution_count": null,
      "outputs": []
    },
    {
      "cell_type": "code",
      "source": [
        "print(\"Model Classification Report: \\n\")\n",
        "y_pred = np.argmax(model.predict(X_test), axis=1)\n",
        "cm = confusion_matrix(np.argmax(y_test, axis=1), y_pred)\n",
        "print(classification_report(np.argmax(y_test, axis=1), y_pred))\n",
        "plot_confusion_matrix(cm, classes=[\"Does not have Wake Word\", \"Has Wake Word\"])"
      ],
      "metadata": {
        "id": "TflcZEOXXhi9",
        "colab": {
          "base_uri": "https://localhost:8080/",
          "height": 571
        },
        "outputId": "8afffd83-1a1c-4274-b31c-35e4c82ba601"
      },
      "execution_count": null,
      "outputs": [
        {
          "output_type": "stream",
          "name": "stdout",
          "text": [
            "Model Classification Report: \n",
            "\n",
            "66/66 [==============================] - 1s 4ms/step\n",
            "              precision    recall  f1-score   support\n",
            "\n",
            "           0       0.98      0.98      0.98      1049\n",
            "           1       0.98      0.98      0.98      1060\n",
            "\n",
            "    accuracy                           0.98      2109\n",
            "   macro avg       0.98      0.98      0.98      2109\n",
            "weighted avg       0.98      0.98      0.98      2109\n",
            "\n",
            "Confusion matrix, without normalization\n",
            "[[1027   22]\n",
            " [  19 1041]]\n"
          ]
        },
        {
          "output_type": "display_data",
          "data": {
            "text/plain": [
              "<Figure size 432x288 with 2 Axes>"
            ],
            "image/png": "[encoded data removed]"
          },
          "metadata": {
            "needs_background": "light"
          }
        }
      ]
    }
  ]
}