{
  "nbformat": 4,
  "nbformat_minor": 0,
  "metadata": {
    "colab": {
      "provenance": []
    },
    "kernelspec": {
      "name": "python3",
      "display_name": "Python 3"
    },
    "language_info": {
      "name": "python"
    }
  },
  "cells": [
    {
      "cell_type": "code",
      "execution_count": null,
      "metadata": {
        "id": "Hu_GL1t9PY_t",
        "colab": {
          "base_uri": "https://localhost:8080/"
        },
        "outputId": "17362eb5-e1ed-4b7b-c88b-6159f979b660"
      },
      "outputs": [
        {
          "output_type": "stream",
          "name": "stdout",
          "text": [
            "Mounted at /content/gdrive\n"
          ]
        }
      ],
      "source": [
        "from google.colab import drive\n",
        "drive.mount('/content/gdrive')"
      ]
    },
    {
      "cell_type": "code",
      "source": [
        "import os\n",
        "import numpy as np\n",
        "import pandas as pd\n",
        "import matplotlib.pyplot as plt\n",
        "import librosa, librosa.display\n",
        "\n",
        "import tensorflow as tf \n",
        "from sklearn.model_selection import train_test_split\n",
        "from tensorflow.keras.utils import to_categorical"
      ],
      "metadata": {
        "id": "9ws9myx8_tnv"
      },
      "execution_count": null,
      "outputs": []
    },
    {
      "cell_type": "code",
      "source": [
        "from tensorflow.keras import Sequential\n",
        "from tensorflow.keras.layers import Dense, Activation, Dropout, GRU, Input, Conv1D, MaxPooling1D\n",
        "from sklearn.metrics import confusion_matrix, classification_report"
      ],
      "metadata": {
        "id": "4DnfMk95XB0x"
      },
      "execution_count": null,
      "outputs": []
    },
    {
      "cell_type": "markdown",
      "source": [
        "## DATALOADER"
      ],
      "metadata": {
        "id": "clMSLEuhxwmA"
      }
    },
    {
      "cell_type": "code",
      "source": [
        "X_train = np.load('/content/gdrive/MyDrive/data/Augmented1/X_train.npy')\n",
        "y_train = np.load('/content/gdrive/MyDrive/data/Augmented1/y_train.npy')\n",
        "X_test = np.load('/content/gdrive/MyDrive/data/Augmented1/X_test.npy')\n",
        "y_test = np.load('/content/gdrive/MyDrive/data/Augmented1/y_test.npy')\n",
        "X_val = np.load('/content/gdrive/MyDrive/data/Augmented1/X_val.npy')\n",
        "y_val = np.load('/content/gdrive/MyDrive/data/Augmented1/y_val.npy')"
      ],
      "metadata": {
        "id": "dV2e4HA3kU43"
      },
      "execution_count": null,
      "outputs": []
    },
    {
      "cell_type": "code",
      "source": [
        "print(X_train.shape, y_train.shape)\n",
        "print(X_test.shape, y_test.shape)\n",
        "print(X_val.shape, y_val.shape)"
      ],
      "metadata": {
        "id": "SbDBZGeZMJZH",
        "colab": {
          "base_uri": "https://localhost:8080/"
        },
        "outputId": "6cdaeb5e-795e-48ca-9f41-12b94bfcb937"
      },
      "execution_count": null,
      "outputs": [
        {
          "output_type": "stream",
          "name": "stdout",
          "text": [
            "(16893, 98) (16893, 2)\n",
            "(2109, 98) (2109, 2)\n",
            "(2088, 98) (2088, 2)\n"
          ]
        }
      ]
    },
    {
      "cell_type": "markdown",
      "source": [
        "## CRNN - Review Later"
      ],
      "metadata": {
        "id": "nQAq3SphxsG5"
      }
    },
    {
      "cell_type": "code",
      "source": [
        "model = Sequential()\n",
        "model.add(Conv1D(32, 5, activation='relu', input_shape=(98,1)))\n",
        "model.add(MaxPooling1D(2))\n",
        "model.add(Conv1D(64, 5, activation='relu'))\n",
        "model.add(MaxPooling1D(2))\n",
        "model.add(GRU(128, return_sequences=True))\n",
        "model.add(GRU(128))\n",
        "model.add(tf.keras.layers.Dense(32))\n",
        "model.add(tf.keras.layers.Dropout(0.5))\n",
        "model.add(tf.keras.layers.Activation('relu'))\n",
        "model.add(Dense(2, activation='softmax'))\n",
        "print(model.summary())"
      ],
      "metadata": {
        "id": "lZOLG5W2_8N-",
        "colab": {
          "base_uri": "https://localhost:8080/"
        },
        "outputId": "c129d142-9d5b-43d6-9d03-eb675b8e896e"
      },
      "execution_count": null,
      "outputs": [
        {
          "output_type": "stream",
          "name": "stdout",
          "text": [
            "Model: \"sequential\"\n",
            "_________________________________________________________________\n",
            " Layer (type)                Output Shape              Param #   \n",
            "=================================================================\n",
            " conv1d (Conv1D)             (None, 94, 32)            192       \n",
            "                                                                 \n",
            " max_pooling1d (MaxPooling1D  (None, 47, 32)           0         \n",
            " )                                                               \n",
            "                                                                 \n",
            " conv1d_1 (Conv1D)           (None, 43, 64)            10304     \n",
            "                                                                 \n",
            " max_pooling1d_1 (MaxPooling  (None, 21, 64)           0         \n",
            " 1D)                                                             \n",
            "                                                                 \n",
            " gru (GRU)                   (None, 21, 128)           74496     \n",
            "                                                                 \n",
            " gru_1 (GRU)                 (None, 128)               99072     \n",
            "                                                                 \n",
            " dense (Dense)               (None, 32)                4128      \n",
            "                                                                 \n",
            " dropout (Dropout)           (None, 32)                0         \n",
            "                                                                 \n",
            " activation (Activation)     (None, 32)                0         \n",
            "                                                                 \n",
            " dense_1 (Dense)             (None, 2)                 66        \n",
            "                                                                 \n",
            "=================================================================\n",
            "Total params: 188,258\n",
            "Trainable params: 188,258\n",
            "Non-trainable params: 0\n",
            "_________________________________________________________________\n",
            "None\n"
          ]
        }
      ]
    },
    {
      "cell_type": "code",
      "source": [
        "optimizer=tf.keras.optimizers.Adam(amsgrad=True, name='Adam')"
      ],
      "metadata": {
        "id": "yxDHK8-VCN21"
      },
      "execution_count": null,
      "outputs": []
    },
    {
      "cell_type": "code",
      "source": [
        "model.compile(\n",
        "    loss=\"categorical_crossentropy\",\n",
        "    optimizer = optimizer,\n",
        "    metrics=['accuracy']\n",
        ")"
      ],
      "metadata": {
        "id": "MMzo894cYCug"
      },
      "execution_count": null,
      "outputs": []
    },
    {
      "cell_type": "code",
      "source": [
        "print(\"Model Score: \\n\")\n",
        "history = model.fit(X_train, y_train, validation_data = (X_val, y_val), epochs = 120, shuffle = False)"
      ],
      "metadata": {
        "colab": {
          "base_uri": "https://localhost:8080/"
        },
        "id": "z0wENlqtbaxX",
        "outputId": "58d23397-8890-4684-aa30-2dbb5e797a6c"
      },
      "execution_count": null,
      "outputs": [
        {
          "output_type": "stream",
          "name": "stdout",
          "text": [
            "Model Score: \n",
            "\n",
            "Epoch 1/120\n",
            "528/528 [==============================] - 45s 73ms/step - loss: 0.6914 - accuracy: 0.5183 - val_loss: 0.6743 - val_accuracy: 0.5546\n",
            "Epoch 2/120\n",
            "528/528 [==============================] - 41s 78ms/step - loss: 0.3578 - accuracy: 0.8490 - val_loss: 0.2335 - val_accuracy: 0.9191\n",
            "Epoch 3/120\n",
            "528/528 [==============================] - 40s 76ms/step - loss: 0.1959 - accuracy: 0.9319 - val_loss: 0.2094 - val_accuracy: 0.9306\n",
            "Epoch 4/120\n",
            "528/528 [==============================] - 41s 78ms/step - loss: 0.1674 - accuracy: 0.9424 - val_loss: 0.1840 - val_accuracy: 0.9382\n",
            "Epoch 5/120\n",
            "528/528 [==============================] - 41s 77ms/step - loss: 0.1509 - accuracy: 0.9478 - val_loss: 0.1926 - val_accuracy: 0.9320\n",
            "Epoch 6/120\n",
            "528/528 [==============================] - 41s 77ms/step - loss: 0.1438 - accuracy: 0.9507 - val_loss: 0.1974 - val_accuracy: 0.9353\n",
            "Epoch 7/120\n",
            "528/528 [==============================] - 39s 75ms/step - loss: 0.1310 - accuracy: 0.9551 - val_loss: 0.1913 - val_accuracy: 0.9353\n",
            "Epoch 8/120\n",
            "528/528 [==============================] - 40s 76ms/step - loss: 0.1234 - accuracy: 0.9581 - val_loss: 0.1716 - val_accuracy: 0.9425\n",
            "Epoch 9/120\n",
            "528/528 [==============================] - 41s 78ms/step - loss: 0.1117 - accuracy: 0.9617 - val_loss: 0.1799 - val_accuracy: 0.9430\n",
            "Epoch 10/120\n",
            "528/528 [==============================] - 41s 78ms/step - loss: 0.1016 - accuracy: 0.9654 - val_loss: 0.1817 - val_accuracy: 0.9449\n",
            "Epoch 11/120\n",
            "528/528 [==============================] - 44s 84ms/step - loss: 0.0971 - accuracy: 0.9660 - val_loss: 0.1785 - val_accuracy: 0.9435\n",
            "Epoch 12/120\n",
            "528/528 [==============================] - 39s 74ms/step - loss: 0.0921 - accuracy: 0.9678 - val_loss: 0.2061 - val_accuracy: 0.9387\n",
            "Epoch 13/120\n",
            "528/528 [==============================] - 41s 77ms/step - loss: 0.0826 - accuracy: 0.9717 - val_loss: 0.1598 - val_accuracy: 0.9531\n",
            "Epoch 14/120\n",
            "528/528 [==============================] - 41s 78ms/step - loss: 0.0773 - accuracy: 0.9732 - val_loss: 0.1948 - val_accuracy: 0.9492\n",
            "Epoch 15/120\n",
            "528/528 [==============================] - 43s 82ms/step - loss: 0.0759 - accuracy: 0.9729 - val_loss: 0.1634 - val_accuracy: 0.9574\n",
            "Epoch 16/120\n",
            "528/528 [==============================] - 41s 78ms/step - loss: 0.0678 - accuracy: 0.9764 - val_loss: 0.1545 - val_accuracy: 0.9545\n",
            "Epoch 17/120\n",
            "528/528 [==============================] - 41s 79ms/step - loss: 0.0595 - accuracy: 0.9787 - val_loss: 0.1471 - val_accuracy: 0.9646\n",
            "Epoch 18/120\n",
            "528/528 [==============================] - 42s 80ms/step - loss: 0.0600 - accuracy: 0.9788 - val_loss: 0.1246 - val_accuracy: 0.9631\n",
            "Epoch 19/120\n",
            "528/528 [==============================] - 41s 79ms/step - loss: 0.0527 - accuracy: 0.9813 - val_loss: 0.1616 - val_accuracy: 0.9579\n",
            "Epoch 20/120\n",
            "528/528 [==============================] - 41s 78ms/step - loss: 0.0511 - accuracy: 0.9819 - val_loss: 0.1424 - val_accuracy: 0.9650\n",
            "Epoch 21/120\n",
            "528/528 [==============================] - 41s 78ms/step - loss: 0.0412 - accuracy: 0.9851 - val_loss: 0.1518 - val_accuracy: 0.9631\n",
            "Epoch 22/120\n",
            "528/528 [==============================] - 41s 79ms/step - loss: 0.0470 - accuracy: 0.9826 - val_loss: 0.1477 - val_accuracy: 0.9708\n",
            "Epoch 23/120\n",
            "528/528 [==============================] - 45s 84ms/step - loss: 0.0327 - accuracy: 0.9879 - val_loss: 0.1804 - val_accuracy: 0.9655\n",
            "Epoch 24/120\n",
            "528/528 [==============================] - 42s 80ms/step - loss: 0.0359 - accuracy: 0.9879 - val_loss: 0.1359 - val_accuracy: 0.9717\n",
            "Epoch 25/120\n",
            "528/528 [==============================] - 39s 74ms/step - loss: 0.0353 - accuracy: 0.9877 - val_loss: 0.1599 - val_accuracy: 0.9655\n",
            "Epoch 26/120\n",
            "528/528 [==============================] - 41s 78ms/step - loss: 0.0262 - accuracy: 0.9912 - val_loss: 0.1640 - val_accuracy: 0.9602\n",
            "Epoch 27/120\n",
            "528/528 [==============================] - 43s 81ms/step - loss: 0.0312 - accuracy: 0.9884 - val_loss: 0.1562 - val_accuracy: 0.9689\n",
            "Epoch 28/120\n",
            "528/528 [==============================] - 46s 87ms/step - loss: 0.0354 - accuracy: 0.9882 - val_loss: 0.1217 - val_accuracy: 0.9737\n",
            "Epoch 29/120\n",
            "528/528 [==============================] - 44s 83ms/step - loss: 0.0225 - accuracy: 0.9921 - val_loss: 0.1481 - val_accuracy: 0.9727\n",
            "Epoch 30/120\n",
            "528/528 [==============================] - 43s 82ms/step - loss: 0.0202 - accuracy: 0.9925 - val_loss: 0.1464 - val_accuracy: 0.9751\n",
            "Epoch 31/120\n",
            "528/528 [==============================] - 42s 80ms/step - loss: 0.0218 - accuracy: 0.9929 - val_loss: 0.1658 - val_accuracy: 0.9689\n",
            "Epoch 32/120\n",
            "528/528 [==============================] - 42s 80ms/step - loss: 0.0225 - accuracy: 0.9929 - val_loss: 0.1664 - val_accuracy: 0.9722\n",
            "Epoch 33/120\n",
            "528/528 [==============================] - 41s 78ms/step - loss: 0.0262 - accuracy: 0.9906 - val_loss: 0.1661 - val_accuracy: 0.9737\n",
            "Epoch 34/120\n",
            "528/528 [==============================] - 42s 79ms/step - loss: 0.0117 - accuracy: 0.9957 - val_loss: 0.1553 - val_accuracy: 0.9765\n",
            "Epoch 35/120\n",
            "528/528 [==============================] - 43s 82ms/step - loss: 0.0191 - accuracy: 0.9937 - val_loss: 0.1674 - val_accuracy: 0.9717\n",
            "Epoch 36/120\n",
            "528/528 [==============================] - 45s 85ms/step - loss: 0.0186 - accuracy: 0.9943 - val_loss: 0.1907 - val_accuracy: 0.9732\n",
            "Epoch 37/120\n",
            "528/528 [==============================] - 43s 81ms/step - loss: 0.0074 - accuracy: 0.9978 - val_loss: 0.3290 - val_accuracy: 0.9588\n",
            "Epoch 38/120\n",
            "528/528 [==============================] - 43s 82ms/step - loss: 0.0296 - accuracy: 0.9901 - val_loss: 0.1564 - val_accuracy: 0.9727\n",
            "Epoch 39/120\n",
            "528/528 [==============================] - 43s 81ms/step - loss: 0.0104 - accuracy: 0.9967 - val_loss: 0.1556 - val_accuracy: 0.9770\n",
            "Epoch 40/120\n",
            "528/528 [==============================] - 43s 81ms/step - loss: 0.0061 - accuracy: 0.9983 - val_loss: 0.1963 - val_accuracy: 0.9722\n",
            "Epoch 41/120\n",
            "528/528 [==============================] - 43s 82ms/step - loss: 0.0128 - accuracy: 0.9960 - val_loss: 0.1737 - val_accuracy: 0.9761\n",
            "Epoch 42/120\n",
            "528/528 [==============================] - 40s 75ms/step - loss: 0.0059 - accuracy: 0.9979 - val_loss: 0.2250 - val_accuracy: 0.9727\n",
            "Epoch 43/120\n",
            "528/528 [==============================] - 38s 72ms/step - loss: 0.0148 - accuracy: 0.9956 - val_loss: 0.1500 - val_accuracy: 0.9698\n",
            "Epoch 44/120\n",
            "528/528 [==============================] - 40s 76ms/step - loss: 0.0167 - accuracy: 0.9946 - val_loss: 0.1907 - val_accuracy: 0.9741\n",
            "Epoch 45/120\n",
            "528/528 [==============================] - 42s 79ms/step - loss: 0.0050 - accuracy: 0.9985 - val_loss: 0.2089 - val_accuracy: 0.9737\n",
            "Epoch 46/120\n",
            "528/528 [==============================] - 41s 77ms/step - loss: 0.0057 - accuracy: 0.9983 - val_loss: 0.2448 - val_accuracy: 0.9655\n",
            "Epoch 47/120\n",
            "528/528 [==============================] - 41s 77ms/step - loss: 0.0155 - accuracy: 0.9957 - val_loss: 0.1650 - val_accuracy: 0.9756\n",
            "Epoch 48/120\n",
            "528/528 [==============================] - 38s 72ms/step - loss: 0.0066 - accuracy: 0.9982 - val_loss: 0.1879 - val_accuracy: 0.9737\n",
            "Epoch 49/120\n",
            "528/528 [==============================] - 40s 76ms/step - loss: 0.0091 - accuracy: 0.9974 - val_loss: 0.2118 - val_accuracy: 0.9698\n",
            "Epoch 50/120\n",
            "528/528 [==============================] - 42s 80ms/step - loss: 0.0026 - accuracy: 0.9995 - val_loss: 0.2283 - val_accuracy: 0.9765\n",
            "Epoch 51/120\n",
            "528/528 [==============================] - 41s 77ms/step - loss: 0.0079 - accuracy: 0.9977 - val_loss: 0.2126 - val_accuracy: 0.9713\n",
            "Epoch 52/120\n",
            "528/528 [==============================] - 38s 72ms/step - loss: 0.0110 - accuracy: 0.9972 - val_loss: 0.1909 - val_accuracy: 0.9741\n",
            "Epoch 53/120\n",
            "528/528 [==============================] - 40s 76ms/step - loss: 0.0045 - accuracy: 0.9987 - val_loss: 0.1930 - val_accuracy: 0.9751\n",
            "Epoch 54/120\n",
            "528/528 [==============================] - 42s 80ms/step - loss: 0.0115 - accuracy: 0.9965 - val_loss: 0.1900 - val_accuracy: 0.9770\n",
            "Epoch 55/120\n",
            "528/528 [==============================] - 41s 77ms/step - loss: 0.0095 - accuracy: 0.9975 - val_loss: 0.1707 - val_accuracy: 0.9770\n",
            "Epoch 56/120\n",
            "528/528 [==============================] - 40s 76ms/step - loss: 0.0048 - accuracy: 0.9985 - val_loss: 0.1839 - val_accuracy: 0.9751\n",
            "Epoch 57/120\n",
            "528/528 [==============================] - 38s 73ms/step - loss: 0.0012 - accuracy: 0.9998 - val_loss: 0.1967 - val_accuracy: 0.9756\n",
            "Epoch 58/120\n",
            "528/528 [==============================] - 40s 77ms/step - loss: 4.2912e-04 - accuracy: 1.0000 - val_loss: 0.2066 - val_accuracy: 0.9765\n",
            "Epoch 59/120\n",
            "528/528 [==============================] - 43s 81ms/step - loss: 3.9806e-04 - accuracy: 0.9999 - val_loss: 0.2093 - val_accuracy: 0.9761\n",
            "Epoch 60/120\n",
            "528/528 [==============================] - 40s 76ms/step - loss: 3.1130e-04 - accuracy: 0.9999 - val_loss: 0.2127 - val_accuracy: 0.9756\n",
            "Epoch 61/120\n",
            "528/528 [==============================] - 41s 77ms/step - loss: 2.2334e-04 - accuracy: 1.0000 - val_loss: 0.2180 - val_accuracy: 0.9756\n",
            "Epoch 62/120\n",
            "528/528 [==============================] - 38s 73ms/step - loss: 1.5904e-04 - accuracy: 1.0000 - val_loss: 0.2249 - val_accuracy: 0.9756\n",
            "Epoch 63/120\n",
            "528/528 [==============================] - 42s 80ms/step - loss: 1.6412e-04 - accuracy: 1.0000 - val_loss: 0.2304 - val_accuracy: 0.9761\n",
            "Epoch 64/120\n",
            "528/528 [==============================] - 41s 78ms/step - loss: 1.4614e-04 - accuracy: 1.0000 - val_loss: 0.2335 - val_accuracy: 0.9756\n",
            "Epoch 65/120\n",
            "528/528 [==============================] - 41s 77ms/step - loss: 2.2218e-04 - accuracy: 1.0000 - val_loss: 0.2404 - val_accuracy: 0.9751\n",
            "Epoch 66/120\n",
            "528/528 [==============================] - 39s 74ms/step - loss: 1.4597e-04 - accuracy: 1.0000 - val_loss: 0.2416 - val_accuracy: 0.9770\n",
            "Epoch 67/120\n",
            "528/528 [==============================] - 40s 76ms/step - loss: 1.6783e-04 - accuracy: 1.0000 - val_loss: 0.2456 - val_accuracy: 0.9756\n",
            "Epoch 68/120\n",
            "528/528 [==============================] - 42s 80ms/step - loss: 1.0448e-04 - accuracy: 1.0000 - val_loss: 0.2467 - val_accuracy: 0.9761\n",
            "Epoch 69/120\n",
            "528/528 [==============================] - 41s 77ms/step - loss: 1.7392e-04 - accuracy: 1.0000 - val_loss: 0.2472 - val_accuracy: 0.9765\n",
            "Epoch 70/120\n",
            "528/528 [==============================] - 41s 77ms/step - loss: 1.5670e-04 - accuracy: 1.0000 - val_loss: 0.2489 - val_accuracy: 0.9765\n",
            "Epoch 71/120\n",
            "528/528 [==============================] - 39s 74ms/step - loss: 9.5865e-05 - accuracy: 1.0000 - val_loss: 0.2521 - val_accuracy: 0.9765\n",
            "Epoch 72/120\n",
            "528/528 [==============================] - 42s 80ms/step - loss: 1.1221e-04 - accuracy: 1.0000 - val_loss: 0.2537 - val_accuracy: 0.9765\n",
            "Epoch 73/120\n",
            "528/528 [==============================] - 41s 78ms/step - loss: 6.2612e-05 - accuracy: 1.0000 - val_loss: 0.2555 - val_accuracy: 0.9765\n",
            "Epoch 74/120\n",
            "528/528 [==============================] - 40s 77ms/step - loss: 7.0107e-05 - accuracy: 1.0000 - val_loss: 0.2586 - val_accuracy: 0.9765\n",
            "Epoch 75/120\n",
            "528/528 [==============================] - 41s 77ms/step - loss: 1.1466e-04 - accuracy: 1.0000 - val_loss: 0.2583 - val_accuracy: 0.9765\n",
            "Epoch 76/120\n",
            "528/528 [==============================] - 39s 74ms/step - loss: 1.1356e-04 - accuracy: 1.0000 - val_loss: 0.2610 - val_accuracy: 0.9770\n",
            "Epoch 77/120\n",
            "528/528 [==============================] - 42s 79ms/step - loss: 1.2017e-04 - accuracy: 1.0000 - val_loss: 0.2614 - val_accuracy: 0.9770\n",
            "Epoch 78/120\n",
            "528/528 [==============================] - 42s 80ms/step - loss: 8.1349e-05 - accuracy: 1.0000 - val_loss: 0.2639 - val_accuracy: 0.9770\n",
            "Epoch 79/120\n",
            "528/528 [==============================] - 42s 80ms/step - loss: 1.5044e-04 - accuracy: 0.9999 - val_loss: 0.2663 - val_accuracy: 0.9770\n",
            "Epoch 80/120\n",
            "528/528 [==============================] - 42s 80ms/step - loss: 8.7480e-05 - accuracy: 1.0000 - val_loss: 0.2667 - val_accuracy: 0.9770\n",
            "Epoch 81/120\n",
            "528/528 [==============================] - 42s 79ms/step - loss: 6.8623e-05 - accuracy: 1.0000 - val_loss: 0.2683 - val_accuracy: 0.9770\n",
            "Epoch 82/120\n",
            "528/528 [==============================] - 43s 81ms/step - loss: 4.2238e-05 - accuracy: 1.0000 - val_loss: 0.2689 - val_accuracy: 0.9765\n",
            "Epoch 83/120\n",
            "528/528 [==============================] - 42s 80ms/step - loss: 1.5454e-04 - accuracy: 0.9999 - val_loss: 0.2711 - val_accuracy: 0.9765\n",
            "Epoch 84/120\n",
            "528/528 [==============================] - 43s 81ms/step - loss: 4.5095e-05 - accuracy: 1.0000 - val_loss: 0.2725 - val_accuracy: 0.9770\n",
            "Epoch 85/120\n",
            "528/528 [==============================] - 42s 80ms/step - loss: 9.1664e-05 - accuracy: 1.0000 - val_loss: 0.2716 - val_accuracy: 0.9765\n",
            "Epoch 86/120\n",
            "528/528 [==============================] - 41s 78ms/step - loss: 4.5029e-05 - accuracy: 1.0000 - val_loss: 0.2736 - val_accuracy: 0.9765\n",
            "Epoch 87/120\n",
            "528/528 [==============================] - 43s 80ms/step - loss: 8.4624e-05 - accuracy: 1.0000 - val_loss: 0.2777 - val_accuracy: 0.9765\n",
            "Epoch 88/120\n",
            "528/528 [==============================] - 43s 81ms/step - loss: 1.9022e-04 - accuracy: 1.0000 - val_loss: 0.2697 - val_accuracy: 0.9761\n",
            "Epoch 89/120\n",
            "528/528 [==============================] - 41s 77ms/step - loss: 1.5098e-04 - accuracy: 1.0000 - val_loss: 0.2738 - val_accuracy: 0.9765\n",
            "Epoch 90/120\n",
            "528/528 [==============================] - 42s 79ms/step - loss: 5.7476e-05 - accuracy: 1.0000 - val_loss: 0.2755 - val_accuracy: 0.9765\n",
            "Epoch 91/120\n",
            "528/528 [==============================] - 42s 80ms/step - loss: 1.1368e-04 - accuracy: 1.0000 - val_loss: 0.2761 - val_accuracy: 0.9765\n",
            "Epoch 92/120\n",
            "528/528 [==============================] - 42s 80ms/step - loss: 7.8792e-05 - accuracy: 1.0000 - val_loss: 0.2782 - val_accuracy: 0.9775\n",
            "Epoch 93/120\n",
            "528/528 [==============================] - 41s 78ms/step - loss: 8.6965e-05 - accuracy: 1.0000 - val_loss: 0.2805 - val_accuracy: 0.9765\n",
            "Epoch 94/120\n",
            "528/528 [==============================] - 41s 78ms/step - loss: 7.8739e-05 - accuracy: 1.0000 - val_loss: 0.2854 - val_accuracy: 0.9765\n",
            "Epoch 95/120\n",
            "528/528 [==============================] - 41s 77ms/step - loss: 4.7920e-05 - accuracy: 1.0000 - val_loss: 0.2870 - val_accuracy: 0.9765\n",
            "Epoch 96/120\n",
            "528/528 [==============================] - 40s 75ms/step - loss: 7.8576e-05 - accuracy: 1.0000 - val_loss: 0.2878 - val_accuracy: 0.9765\n",
            "Epoch 97/120\n",
            "528/528 [==============================] - 40s 76ms/step - loss: 9.9217e-05 - accuracy: 1.0000 - val_loss: 0.2904 - val_accuracy: 0.9765\n",
            "Epoch 98/120\n",
            "528/528 [==============================] - 41s 77ms/step - loss: 3.6148e-05 - accuracy: 1.0000 - val_loss: 0.2912 - val_accuracy: 0.9770\n",
            "Epoch 99/120\n",
            "528/528 [==============================] - 41s 78ms/step - loss: 8.9677e-05 - accuracy: 1.0000 - val_loss: 0.2927 - val_accuracy: 0.9765\n",
            "Epoch 100/120\n",
            "528/528 [==============================] - 41s 78ms/step - loss: 7.2869e-05 - accuracy: 1.0000 - val_loss: 0.2927 - val_accuracy: 0.9770\n",
            "Epoch 101/120\n",
            "528/528 [==============================] - 39s 75ms/step - loss: 4.4281e-05 - accuracy: 1.0000 - val_loss: 0.2922 - val_accuracy: 0.9770\n",
            "Epoch 102/120\n",
            "528/528 [==============================] - 41s 77ms/step - loss: 3.8824e-05 - accuracy: 1.0000 - val_loss: 0.2928 - val_accuracy: 0.9770\n",
            "Epoch 103/120\n",
            "528/528 [==============================] - 41s 78ms/step - loss: 2.5248e-05 - accuracy: 1.0000 - val_loss: 0.2940 - val_accuracy: 0.9765\n",
            "Epoch 104/120\n",
            "528/528 [==============================] - 41s 77ms/step - loss: 4.0082e-05 - accuracy: 1.0000 - val_loss: 0.2940 - val_accuracy: 0.9765\n",
            "Epoch 105/120\n",
            "528/528 [==============================] - 41s 78ms/step - loss: 1.4134e-04 - accuracy: 1.0000 - val_loss: 0.2941 - val_accuracy: 0.9775\n",
            "Epoch 106/120\n",
            "528/528 [==============================] - 40s 76ms/step - loss: 6.2269e-05 - accuracy: 1.0000 - val_loss: 0.2955 - val_accuracy: 0.9775\n",
            "Epoch 107/120\n",
            "528/528 [==============================] - 40s 76ms/step - loss: 8.5358e-05 - accuracy: 1.0000 - val_loss: 0.2971 - val_accuracy: 0.9770\n",
            "Epoch 108/120\n",
            "528/528 [==============================] - 42s 79ms/step - loss: 4.7049e-05 - accuracy: 1.0000 - val_loss: 0.2980 - val_accuracy: 0.9765\n",
            "Epoch 109/120\n",
            "528/528 [==============================] - 41s 78ms/step - loss: 4.1995e-05 - accuracy: 1.0000 - val_loss: 0.2985 - val_accuracy: 0.9761\n",
            "Epoch 110/120\n",
            "528/528 [==============================] - 41s 78ms/step - loss: 6.8212e-05 - accuracy: 1.0000 - val_loss: 0.3010 - val_accuracy: 0.9761\n",
            "Epoch 111/120\n",
            "528/528 [==============================] - 41s 78ms/step - loss: 3.3450e-05 - accuracy: 1.0000 - val_loss: 0.3029 - val_accuracy: 0.9761\n",
            "Epoch 112/120\n",
            "528/528 [==============================] - 40s 75ms/step - loss: 8.9961e-05 - accuracy: 0.9999 - val_loss: 0.2980 - val_accuracy: 0.9770\n",
            "Epoch 113/120\n",
            "528/528 [==============================] - 40s 76ms/step - loss: 3.0540e-05 - accuracy: 1.0000 - val_loss: 0.2982 - val_accuracy: 0.9770\n",
            "Epoch 114/120\n",
            "528/528 [==============================] - 41s 78ms/step - loss: 5.6241e-05 - accuracy: 1.0000 - val_loss: 0.3014 - val_accuracy: 0.9765\n",
            "Epoch 115/120\n",
            "528/528 [==============================] - 41s 78ms/step - loss: 2.1913e-05 - accuracy: 1.0000 - val_loss: 0.3032 - val_accuracy: 0.9765\n",
            "Epoch 116/120\n",
            "528/528 [==============================] - 41s 78ms/step - loss: 3.7713e-05 - accuracy: 1.0000 - val_loss: 0.3039 - val_accuracy: 0.9765\n",
            "Epoch 117/120\n",
            "528/528 [==============================] - 41s 78ms/step - loss: 3.2047e-05 - accuracy: 1.0000 - val_loss: 0.3058 - val_accuracy: 0.9765\n",
            "Epoch 118/120\n",
            "528/528 [==============================] - 39s 75ms/step - loss: 2.0799e-05 - accuracy: 1.0000 - val_loss: 0.3069 - val_accuracy: 0.9765\n",
            "Epoch 119/120\n",
            "528/528 [==============================] - 41s 77ms/step - loss: 8.0777e-05 - accuracy: 1.0000 - val_loss: 0.3088 - val_accuracy: 0.9765\n",
            "Epoch 120/120\n",
            "528/528 [==============================] - 41s 78ms/step - loss: 4.4211e-05 - accuracy: 1.0000 - val_loss: 0.3092 - val_accuracy: 0.9765\n"
          ]
        }
      ]
    },
    {
      "cell_type": "code",
      "source": [
        "model.save(\"/content/gdrive/MyDrive/Models/CRNN-GRU-GRU-WithoutAttention.h5\")\n",
        "score = model.evaluate(X_test, y_test)\n",
        "print(score)"
      ],
      "metadata": {
        "colab": {
          "base_uri": "https://localhost:8080/"
        },
        "id": "ZLvb8wJ9dEte",
        "outputId": "0a95577e-1557-4420-825b-c5731760dccd"
      },
      "execution_count": null,
      "outputs": [
        {
          "output_type": "stream",
          "name": "stdout",
          "text": [
            "66/66 [==============================] - 1s 16ms/step - loss: 0.1823 - accuracy: 0.9820\n",
            "[0.18229706585407257, 0.9819819927215576]\n"
          ]
        }
      ]
    },
    {
      "cell_type": "markdown",
      "source": [
        "##METRICS"
      ],
      "metadata": {
        "id": "Mdqi43CCdGVd"
      }
    },
    {
      "cell_type": "code",
      "source": [
        "pip install plot_keras_history"
      ],
      "metadata": {
        "colab": {
          "base_uri": "https://localhost:8080/"
        },
        "id": "mILXX6kwk1lU",
        "outputId": "b14fd724-cbab-45c2-cb52-35e5ab040994"
      },
      "execution_count": null,
      "outputs": [
        {
          "output_type": "stream",
          "name": "stdout",
          "text": [
            "Looking in indexes: https://pypi.org/simple, https://us-python.pkg.dev/colab-wheels/public/simple/\n",
            "Collecting plot_keras_history\n",
            "  Downloading plot_keras_history-1.1.38.tar.gz (11 kB)\n",
            "  Preparing metadata (setup.py) ... \u001b[?25l\u001b[?25hdone\n",
            "Requirement already satisfied: matplotlib in /usr/local/lib/python3.8/dist-packages (from plot_keras_history) (3.5.3)\n",
            "Requirement already satisfied: pandas in /usr/local/lib/python3.8/dist-packages (from plot_keras_history) (1.3.5)\n",
            "Requirement already satisfied: scipy in /usr/local/lib/python3.8/dist-packages (from plot_keras_history) (1.7.3)\n",
            "Collecting support_developer>=1.0.2\n",
            "  Downloading support_developer-1.0.5.tar.gz (4.9 kB)\n",
            "  Preparing metadata (setup.py) ... \u001b[?25l\u001b[?25hdone\n",
            "Collecting sanitize_ml_labels>=1.0.48\n",
            "  Downloading sanitize_ml_labels-1.0.50.tar.gz (322 kB)\n",
            "\u001b[2K     \u001b[90m━━━━━━━━━━━━━━━━━━━━━━━━━━━━━━━━━━━━━━\u001b[0m \u001b[32m322.1/322.1 KB\u001b[0m \u001b[31m10.7 MB/s\u001b[0m eta \u001b[36m0:00:00\u001b[0m\n",
            "\u001b[?25h  Preparing metadata (setup.py) ... \u001b[?25l\u001b[?25hdone\n",
            "Collecting compress_json\n",
            "  Downloading compress_json-1.0.8.tar.gz (4.7 kB)\n",
            "  Preparing metadata (setup.py) ... \u001b[?25l\u001b[?25hdone\n",
            "Requirement already satisfied: fonttools>=4.22.0 in /usr/local/lib/python3.8/dist-packages (from matplotlib->plot_keras_history) (4.38.0)\n",
            "Requirement already satisfied: cycler>=0.10 in /usr/local/lib/python3.8/dist-packages (from matplotlib->plot_keras_history) (0.11.0)\n",
            "Requirement already satisfied: kiwisolver>=1.0.1 in /usr/local/lib/python3.8/dist-packages (from matplotlib->plot_keras_history) (1.4.4)\n",
            "Requirement already satisfied: numpy>=1.17 in /usr/local/lib/python3.8/dist-packages (from matplotlib->plot_keras_history) (1.22.4)\n",
            "Requirement already satisfied: pyparsing>=2.2.1 in /usr/local/lib/python3.8/dist-packages (from matplotlib->plot_keras_history) (3.0.9)\n",
            "Requirement already satisfied: pillow>=6.2.0 in /usr/local/lib/python3.8/dist-packages (from matplotlib->plot_keras_history) (7.1.2)\n",
            "Requirement already satisfied: python-dateutil>=2.7 in /usr/local/lib/python3.8/dist-packages (from matplotlib->plot_keras_history) (2.8.2)\n",
            "Requirement already satisfied: packaging>=20.0 in /usr/local/lib/python3.8/dist-packages (from matplotlib->plot_keras_history) (23.0)\n",
            "Requirement already satisfied: pytz>=2017.3 in /usr/local/lib/python3.8/dist-packages (from pandas->plot_keras_history) (2022.7.1)\n",
            "Requirement already satisfied: six>=1.5 in /usr/local/lib/python3.8/dist-packages (from python-dateutil>=2.7->matplotlib->plot_keras_history) (1.15.0)\n",
            "Building wheels for collected packages: plot_keras_history, sanitize_ml_labels, support_developer, compress_json\n",
            "  Building wheel for plot_keras_history (setup.py) ... \u001b[?25l\u001b[?25hdone\n",
            "  Created wheel for plot_keras_history: filename=plot_keras_history-1.1.38-py3-none-any.whl size=9472 sha256=c35bdbd252221dea8f5b8459d674e2f73c0174fd1f85b1e4c215bad8b60696d5\n",
            "  Stored in directory: /root/.cache/pip/wheels/97/a5/76/35ae3e15da1ce4530de8591b0bcd7716f6d6752a4808f01c04\n",
            "  Building wheel for sanitize_ml_labels (setup.py) ... \u001b[?25l\u001b[?25hdone\n",
            "  Created wheel for sanitize_ml_labels: filename=sanitize_ml_labels-1.0.50-py3-none-any.whl size=320514 sha256=ebcc7f5833651c572c007ee52f11ec75e35494d88c2ba17da9b286b9bc819b9c\n",
            "  Stored in directory: /root/.cache/pip/wheels/a3/5f/ba/ddd191edb6c749a63cffabd28714d5600b5b58014daf7434a8\n",
            "  Building wheel for support_developer (setup.py) ... \u001b[?25l\u001b[?25hdone\n",
            "  Created wheel for support_developer: filename=support_developer-1.0.5-py3-none-any.whl size=5650 sha256=3af87aa88b8c32bbbde041b1ca66e2e059e8b9fe9b89adf7addd39d578618e8f\n",
            "  Stored in directory: /root/.cache/pip/wheels/11/5e/63/51e84640e77a7dc5f1e5f5eb597e8f1bc730a2818ee5c3fc03\n",
            "  Building wheel for compress_json (setup.py) ... \u001b[?25l\u001b[?25hdone\n",
            "  Created wheel for compress_json: filename=compress_json-1.0.8-py3-none-any.whl size=4733 sha256=0e21d848bf2dc9ea0fa62f48f7143b89257f2f13ede3f5b21742f91a76b49dcf\n",
            "  Stored in directory: /root/.cache/pip/wheels/fe/36/4b/69aaa23fc0ea813dc1f8cca3372bff314abed354cac20a1cb9\n",
            "Successfully built plot_keras_history sanitize_ml_labels support_developer compress_json\n",
            "Installing collected packages: support_developer, compress_json, sanitize_ml_labels, plot_keras_history\n",
            "Successfully installed compress_json-1.0.8 plot_keras_history-1.1.38 sanitize_ml_labels-1.0.50 support_developer-1.0.5\n"
          ]
        }
      ]
    },
    {
      "cell_type": "code",
      "source": [
        "from plot_keras_history import show_history, plot_history\n",
        "plot_history(history)"
      ],
      "metadata": {
        "colab": {
          "base_uri": "https://localhost:8080/",
          "height": 597
        },
        "id": "Gdr6PJXQdHfW",
        "outputId": "22ecfee0-3e90-407e-97f5-c30cdd777ff0"
      },
      "execution_count": null,
      "outputs": [
        {
          "output_type": "execute_result",
          "data": {
            "text/plain": [
              "(<Figure size 1000x500 with 2 Axes>,\n",
              " array([<AxesSubplot:title={'center':'Loss'}, xlabel='Epochs', ylabel='Loss'>,\n",
              "        <AxesSubplot:title={'center':'Accuracy'}, xlabel='Epochs', ylabel='Accuracy'>],\n",
              "       dtype=object))"
            ]
          },
          "metadata": {},
          "execution_count": 13
        },
        {
          "output_type": "display_data",
          "data": {
            "text/plain": [
              "<Figure size 1000x500 with 2 Axes>"
            ],
            "image/png": "[encoded data removed]"
          },
          "metadata": {
            "needs_background": "light"
          }
        }
      ]
    },
    {
      "cell_type": "code",
      "source": [
        "import matplotlib.pyplot as plt\n",
        "import itertools\n",
        "import numpy as np\n",
        "\n",
        "def plot_confusion_matrix(cm, classes,\n",
        "                        normalize=False,\n",
        "                        title='Confusion matrix',\n",
        "                        cmap=plt.cm.Blues):\n",
        "    \"\"\"\n",
        "    This function prints and plots the confusion matrix.\n",
        "    Normalization can be applied by setting `normalize=True`.\n",
        "    \"\"\"\n",
        "    plt.imshow(cm, interpolation='nearest', cmap=cmap)\n",
        "    plt.title(title)\n",
        "    plt.colorbar()\n",
        "    tick_marks = np.arange(len(classes))\n",
        "    plt.xticks(tick_marks, classes, rotation=45)\n",
        "    plt.yticks(tick_marks, classes)\n",
        "\n",
        "    if normalize:\n",
        "        cm = cm.astype('float') / cm.sum(axis=1)[:, np.newaxis]\n",
        "        print(\"Normalized confusion matrix\")\n",
        "    else:\n",
        "        print('Confusion matrix, without normalization')\n",
        "\n",
        "    print(cm)\n",
        "\n",
        "    thresh = cm.max() / 2.\n",
        "    for i, j in itertools.product(range(cm.shape[0]), range(cm.shape[1])):\n",
        "        plt.text(j, i, cm[i, j],\n",
        "            horizontalalignment=\"center\",\n",
        "            color=\"white\" if cm[i, j] > thresh else \"black\")\n",
        "\n",
        "    plt.tight_layout()\n",
        "    plt.ylabel('True label')\n",
        "    plt.xlabel('Predicted label')\n",
        "    plt.show()"
      ],
      "metadata": {
        "id": "bmMtDYrAdJWV"
      },
      "execution_count": null,
      "outputs": []
    },
    {
      "cell_type": "code",
      "source": [
        "print(\"Model Classification Report: \\n\")\n",
        "y_pred = np.argmax(model.predict(X_test), axis=1)\n",
        "cm = confusion_matrix(np.argmax(y_test, axis=1), y_pred)\n",
        "print(classification_report(np.argmax(y_test, axis=1), y_pred))\n",
        "plot_confusion_matrix(cm, classes=[\"Does not have Wake Word\", \"Has Wake Word\"])"
      ],
      "metadata": {
        "colab": {
          "base_uri": "https://localhost:8080/",
          "height": 571
        },
        "id": "ZAKyIIiXdJ7H",
        "outputId": "14fc5873-e136-4212-c7f9-6372afa850ef"
      },
      "execution_count": null,
      "outputs": [
        {
          "output_type": "stream",
          "name": "stdout",
          "text": [
            "Model Classification Report: \n",
            "\n",
            "66/66 [==============================] - 2s 16ms/step\n",
            "              precision    recall  f1-score   support\n",
            "\n",
            "           0       0.98      0.98      0.98      1049\n",
            "           1       0.98      0.98      0.98      1060\n",
            "\n",
            "    accuracy                           0.98      2109\n",
            "   macro avg       0.98      0.98      0.98      2109\n",
            "weighted avg       0.98      0.98      0.98      2109\n",
            "\n",
            "Confusion matrix, without normalization\n",
            "[[1031   18]\n",
            " [  20 1040]]\n"
          ]
        },
        {
          "output_type": "display_data",
          "data": {
            "text/plain": [
              "<Figure size 432x288 with 2 Axes>"
            ],
            "image/png": "[encoded data removed]"
          },
          "metadata": {
            "needs_background": "light"
          }
        }
      ]
    },
    {
      "cell_type": "markdown",
      "source": [
        "##PREDICTION & LATENCY"
      ],
      "metadata": {
        "id": "q940RCM0gaGY"
      }
    },
    {
      "cell_type": "code",
      "source": [
        "pip install spafe"
      ],
      "metadata": {
        "colab": {
          "base_uri": "https://localhost:8080/"
        },
        "id": "ZV_bh-OzgXDI",
        "outputId": "ea31786e-9a27-4376-e859-e06834da543a"
      },
      "execution_count": null,
      "outputs": [
        {
          "output_type": "stream",
          "name": "stdout",
          "text": [
            "Looking in indexes: https://pypi.org/simple, https://us-python.pkg.dev/colab-wheels/public/simple/\n",
            "Collecting spafe\n",
            "  Downloading spafe-0.3.1-py3-none-any.whl (93 kB)\n",
            "\u001b[2K     \u001b[90m━━━━━━━━━━━━━━━━━━━━━━━━━━━━━━━━━━━━━━━━\u001b[0m \u001b[32m93.4/93.4 KB\u001b[0m \u001b[31m5.4 MB/s\u001b[0m eta \u001b[36m0:00:00\u001b[0m\n",
            "\u001b[?25hRequirement already satisfied: typing-extensions in /usr/local/lib/python3.8/dist-packages (from spafe) (4.5.0)\n",
            "Requirement already satisfied: numpy>=1.21 in /usr/local/lib/python3.8/dist-packages (from spafe) (1.22.4)\n",
            "Requirement already satisfied: scipy>=1.7.3 in /usr/local/lib/python3.8/dist-packages (from spafe) (1.7.3)\n",
            "Installing collected packages: spafe\n",
            "Successfully installed spafe-0.3.1\n"
          ]
        }
      ]
    },
    {
      "cell_type": "code",
      "source": [
        "import spafe\n",
        "from spafe.features.lfcc import lfcc\n",
        "import pywt"
      ],
      "metadata": {
        "id": "vG-9Kb4Vgdog"
      },
      "execution_count": null,
      "outputs": []
    },
    {
      "cell_type": "code",
      "source": [
        "def predict(audio):\n",
        "  audio_data, sr = librosa.load(audio)\n",
        "\n",
        "  wavelet = 'db4'\n",
        "  level = 4\n",
        "  coeffs = pywt.wavedec(audio_data, wavelet, level=level)\n",
        "  threshold = np.median(np.abs(coeffs[-level])) / 0.6745\n",
        "  for i in range(1, len(coeffs)):\n",
        "    coeffs[i] = pywt.threshold(coeffs[i], threshold)\n",
        "  denoised_audio = pywt.waverec(coeffs, wavelet)\n",
        "\n",
        "  lfccs  = lfcc(denoised_audio, fs = sr, num_ceps=13)\n",
        "  lfccs_processed = np.mean(lfccs.T, axis=0) # some pre-processing\n",
        "  lfccs_new = np.expand_dims(np.asarray(lfccs_processed), axis=0)\n",
        "  predictions = model.predict(lfccs_new)\n",
        "  return predictions"
      ],
      "metadata": {
        "id": "4HG0vggOgf1c"
      },
      "execution_count": null,
      "outputs": []
    },
    {
      "cell_type": "code",
      "source": [
        "audio_for_pred = \"/content/gdrive/MyDrive/Marvin/marvin (1745).wav\"\n",
        "print(np.round(predict(audio_for_pred)))"
      ],
      "metadata": {
        "colab": {
          "base_uri": "https://localhost:8080/"
        },
        "id": "pNQeD0-gghAQ",
        "outputId": "fd1b894a-45dc-4214-c051-c046b86b9971"
      },
      "execution_count": null,
      "outputs": [
        {
          "output_type": "stream",
          "name": "stdout",
          "text": [
            "1/1 [==============================] - 0s 36ms/step\n",
            "[[0. 1.]]\n"
          ]
        }
      ]
    },
    {
      "cell_type": "code",
      "source": [
        "audio_for_pred = \"/content/gdrive/MyDrive/False/yes (824).wav\"\n",
        "print(np.round(predict(audio_for_pred)))"
      ],
      "metadata": {
        "colab": {
          "base_uri": "https://localhost:8080/"
        },
        "id": "Uy4XcoNeg6hd",
        "outputId": "df7ae962-0266-4f4e-8d5f-93a5323cc0da"
      },
      "execution_count": null,
      "outputs": [
        {
          "output_type": "stream",
          "name": "stdout",
          "text": [
            "1/1 [==============================] - 0s 34ms/step\n",
            "[[1. 0.]]\n"
          ]
        }
      ]
    }
  ]
}