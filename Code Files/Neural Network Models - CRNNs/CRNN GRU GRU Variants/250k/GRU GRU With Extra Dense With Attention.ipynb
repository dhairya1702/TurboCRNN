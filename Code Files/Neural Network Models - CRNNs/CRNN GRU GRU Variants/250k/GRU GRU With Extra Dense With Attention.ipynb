{
  "nbformat": 4,
  "nbformat_minor": 0,
  "metadata": {
    "colab": {
      "provenance": []
    },
    "kernelspec": {
      "name": "python3",
      "display_name": "Python 3"
    },
    "language_info": {
      "name": "python"
    },
    "accelerator": "GPU",
    "gpuClass": "standard"
  },
  "cells": [
    {
      "cell_type": "code",
      "execution_count": null,
      "metadata": {
        "colab": {
          "base_uri": "https://localhost:8080/"
        },
        "id": "SANNUYcJSP0l",
        "outputId": "26a499c6-0e30-487f-a21a-8c0f67cdd4b2"
      },
      "outputs": [
        {
          "output_type": "stream",
          "name": "stdout",
          "text": [
            "Mounted at /content/gdrive\n"
          ]
        }
      ],
      "source": [
        "from google.colab import drive\n",
        "drive.mount('/content/gdrive')"
      ]
    },
    {
      "cell_type": "code",
      "source": [
        "import os\n",
        "import numpy as np\n",
        "import pandas as pd\n",
        "import matplotlib.pyplot as plt\n",
        "import librosa, librosa.display\n",
        "\n",
        "import tensorflow as tf \n",
        "from sklearn.model_selection import train_test_split\n",
        "from tensorflow.keras import Sequential\n",
        "from tensorflow.keras.layers import Dense, Activation, Dropout, GRU, Input\n",
        "from sklearn.metrics import confusion_matrix, classification_report"
      ],
      "metadata": {
        "id": "eLL0gmwaSZ8q"
      },
      "execution_count": null,
      "outputs": []
    },
    {
      "cell_type": "code",
      "source": [
        "X_train = np.load('/content/gdrive/MyDrive/Colab Notebooks/FYP/WaveletTransformDenoised/X_train.npy')\n",
        "y_train = np.load('/content/gdrive/MyDrive/Colab Notebooks/FYP/WaveletTransformDenoised/y_train.npy')\n",
        "X_test = np.load('/content/gdrive/MyDrive/Colab Notebooks/FYP/WaveletTransformDenoised/X_test.npy')\n",
        "y_test = np.load('/content/gdrive/MyDrive/Colab Notebooks/FYP/WaveletTransformDenoised/y_test.npy')\n",
        "X_val = np.load('/content/gdrive/MyDrive/Colab Notebooks/FYP/WaveletTransformDenoised/X_val.npy')\n",
        "y_val = np.load('/content/gdrive/MyDrive/Colab Notebooks/FYP/WaveletTransformDenoised/y_val.npy')"
      ],
      "metadata": {
        "id": "0Kq84or6Sfqz"
      },
      "execution_count": null,
      "outputs": []
    },
    {
      "cell_type": "code",
      "source": [
        "print(X_train.shape, y_train.shape)\n",
        "print(X_test.shape, y_test.shape)\n",
        "print(X_val.shape, y_val.shape)"
      ],
      "metadata": {
        "colab": {
          "base_uri": "https://localhost:8080/"
        },
        "id": "yT10o_10ShvM",
        "outputId": "dd9fbd50-ca9a-471f-c52b-daa8a26efe30"
      },
      "execution_count": null,
      "outputs": [
        {
          "output_type": "stream",
          "name": "stdout",
          "text": [
            "(16893, 98) (16893, 2)\n",
            "(2109, 98) (2109, 2)\n",
            "(2088, 98) (2088, 2)\n"
          ]
        }
      ]
    },
    {
      "cell_type": "code",
      "source": [
        "from keras.layers import Input, LSTM, GRU, Dense, Embedding, Conv1D, MaxPooling1D, Activation\n",
        "from keras.layers import Reshape, Softmax, Permute, Multiply, dot, concatenate\n",
        "from keras.layers import BatchNormalization\n",
        "from keras.models import Model\n",
        "from keras.regularizers import l2\n",
        "\n",
        "inputs = Input(shape=(98,1))\n",
        "conv1 = Conv1D(32, 5, activation='relu')(inputs)\n",
        "pool1 = MaxPooling1D(2)(conv1)\n",
        "conv2 = Conv1D(64, 5, activation='relu')(pool1)\n",
        "pool2 = MaxPooling1D(2)(conv2)\n",
        "conv3 = Conv1D(128, 5, activation='relu')(pool2)\n",
        "pool3 = MaxPooling1D(2)(conv3)\n",
        "\n",
        "gru1 = GRU(128, return_sequences=True)(pool3)\n",
        "gru2 = LSTM(128)(gru1)\n",
        "\n",
        "q = Dense(128)(gru2)\n",
        "k = Dense(128)(gru2)\n",
        "v = Dense(128)(gru2)\n",
        "\n",
        "q = Reshape((1, 128))(q)\n",
        "k = Reshape((1, 128))(k)\n",
        "v = Reshape((1, 128))(v)\n",
        "\n",
        "attention = dot([q, k], axes=[2, 2])\n",
        "attention = Activation('softmax')(attention)\n",
        "\n",
        "output = dot([attention, v], axes=[2, 1])\n",
        "output = Reshape((128,))(output)\n",
        "\n",
        "dense1 = Dense(32, activation='softmax')(output)\n",
        "dense1 = Dropout(0.5)(dense1)\n",
        "\n",
        "output = Dense(2, activation='softmax')(dense1)\n",
        "\n",
        "model = Model(inputs=inputs, outputs=output)\n",
        "\n",
        "print(model.summary())"
      ],
      "metadata": {
        "colab": {
          "base_uri": "https://localhost:8080/"
        },
        "id": "VTbs6Ji1Skoi",
        "outputId": "33314eae-ed74-4e8a-cc2b-d34c4ed01834"
      },
      "execution_count": null,
      "outputs": [
        {
          "output_type": "stream",
          "name": "stdout",
          "text": [
            "Model: \"model\"\n",
            "__________________________________________________________________________________________________\n",
            " Layer (type)                   Output Shape         Param #     Connected to                     \n",
            "==================================================================================================\n",
            " input_1 (InputLayer)           [(None, 98, 1)]      0           []                               \n",
            "                                                                                                  \n",
            " conv1d (Conv1D)                (None, 94, 32)       192         ['input_1[0][0]']                \n",
            "                                                                                                  \n",
            " max_pooling1d (MaxPooling1D)   (None, 47, 32)       0           ['conv1d[0][0]']                 \n",
            "                                                                                                  \n",
            " conv1d_1 (Conv1D)              (None, 43, 64)       10304       ['max_pooling1d[0][0]']          \n",
            "                                                                                                  \n",
            " max_pooling1d_1 (MaxPooling1D)  (None, 21, 64)      0           ['conv1d_1[0][0]']               \n",
            "                                                                                                  \n",
            " conv1d_2 (Conv1D)              (None, 17, 128)      41088       ['max_pooling1d_1[0][0]']        \n",
            "                                                                                                  \n",
            " max_pooling1d_2 (MaxPooling1D)  (None, 8, 128)      0           ['conv1d_2[0][0]']               \n",
            "                                                                                                  \n",
            " gru (GRU)                      (None, 8, 128)       99072       ['max_pooling1d_2[0][0]']        \n",
            "                                                                                                  \n",
            " gru_1 (GRU)                    (None, 128)          99072       ['gru[0][0]']                    \n",
            "                                                                                                  \n",
            " dense (Dense)                  (None, 128)          16512       ['gru_1[0][0]']                  \n",
            "                                                                                                  \n",
            " dense_1 (Dense)                (None, 128)          16512       ['gru_1[0][0]']                  \n",
            "                                                                                                  \n",
            " reshape (Reshape)              (None, 1, 128)       0           ['dense[0][0]']                  \n",
            "                                                                                                  \n",
            " reshape_1 (Reshape)            (None, 1, 128)       0           ['dense_1[0][0]']                \n",
            "                                                                                                  \n",
            " dot (Dot)                      (None, 1, 1)         0           ['reshape[0][0]',                \n",
            "                                                                  'reshape_1[0][0]']              \n",
            "                                                                                                  \n",
            " dense_2 (Dense)                (None, 128)          16512       ['gru_1[0][0]']                  \n",
            "                                                                                                  \n",
            " activation (Activation)        (None, 1, 1)         0           ['dot[0][0]']                    \n",
            "                                                                                                  \n",
            " reshape_2 (Reshape)            (None, 1, 128)       0           ['dense_2[0][0]']                \n",
            "                                                                                                  \n",
            " dot_1 (Dot)                    (None, 1, 128)       0           ['activation[0][0]',             \n",
            "                                                                  'reshape_2[0][0]']              \n",
            "                                                                                                  \n",
            " reshape_3 (Reshape)            (None, 128)          0           ['dot_1[0][0]']                  \n",
            "                                                                                                  \n",
            " dense_3 (Dense)                (None, 32)           4128        ['reshape_3[0][0]']              \n",
            "                                                                                                  \n",
            " dropout (Dropout)              (None, 32)           0           ['dense_3[0][0]']                \n",
            "                                                                                                  \n",
            " dense_4 (Dense)                (None, 2)            66          ['dropout[0][0]']                \n",
            "                                                                                                  \n",
            "==================================================================================================\n",
            "Total params: 303,458\n",
            "Trainable params: 303,458\n",
            "Non-trainable params: 0\n",
            "__________________________________________________________________________________________________\n",
            "None\n"
          ]
        }
      ]
    },
    {
      "cell_type": "code",
      "source": [
        "model.compile(\n",
        "    loss=\"categorical_crossentropy\",\n",
        "    optimizer=tf.keras.optimizers.Adam(amsgrad=True),\n",
        "    metrics=['accuracy']\n",
        ")"
      ],
      "metadata": {
        "id": "-yIJqsWiSm1-"
      },
      "execution_count": null,
      "outputs": []
    },
    {
      "cell_type": "code",
      "source": [
        "print(\"Model Score: \\n\")\n",
        "history = model.fit(X_train, y_train, validation_data = (X_val, y_val), epochs = 120)"
      ],
      "metadata": {
        "colab": {
          "base_uri": "https://localhost:8080/"
        },
        "id": "UMUPkLZ5htNZ",
        "outputId": "2a216824-06dd-47ea-cabe-5a799a8b4c26"
      },
      "execution_count": null,
      "outputs": [
        {
          "output_type": "stream",
          "name": "stdout",
          "text": [
            "Model Score: \n",
            "\n",
            "Epoch 1/120\n",
            "528/528 [==============================] - 24s 11ms/step - loss: 0.5897 - accuracy: 0.6986 - val_loss: 0.4188 - val_accuracy: 0.9052\n",
            "Epoch 2/120\n",
            "528/528 [==============================] - 5s 9ms/step - loss: 0.4058 - accuracy: 0.8840 - val_loss: 0.3339 - val_accuracy: 0.9052\n",
            "Epoch 3/120\n",
            "528/528 [==============================] - 6s 10ms/step - loss: 0.3243 - accuracy: 0.9050 - val_loss: 0.2472 - val_accuracy: 0.9334\n",
            "Epoch 4/120\n",
            "528/528 [==============================] - 5s 9ms/step - loss: 0.2802 - accuracy: 0.9142 - val_loss: 0.2415 - val_accuracy: 0.9234\n",
            "Epoch 5/120\n",
            "528/528 [==============================] - 6s 11ms/step - loss: 0.2508 - accuracy: 0.9304 - val_loss: 0.1937 - val_accuracy: 0.9411\n",
            "Epoch 6/120\n",
            "528/528 [==============================] - 5s 9ms/step - loss: 0.2302 - accuracy: 0.9356 - val_loss: 0.1841 - val_accuracy: 0.9435\n",
            "Epoch 7/120\n",
            "528/528 [==============================] - 5s 9ms/step - loss: 0.2140 - accuracy: 0.9376 - val_loss: 0.1889 - val_accuracy: 0.9363\n",
            "Epoch 8/120\n",
            "528/528 [==============================] - 6s 11ms/step - loss: 0.1927 - accuracy: 0.9441 - val_loss: 0.1618 - val_accuracy: 0.9526\n",
            "Epoch 9/120\n",
            "528/528 [==============================] - 5s 9ms/step - loss: 0.1887 - accuracy: 0.9470 - val_loss: 0.1552 - val_accuracy: 0.9555\n",
            "Epoch 10/120\n",
            "528/528 [==============================] - 5s 10ms/step - loss: 0.1674 - accuracy: 0.9525 - val_loss: 0.1430 - val_accuracy: 0.9550\n",
            "Epoch 11/120\n",
            "528/528 [==============================] - 5s 10ms/step - loss: 0.1592 - accuracy: 0.9584 - val_loss: 0.1544 - val_accuracy: 0.9435\n",
            "Epoch 12/120\n",
            "528/528 [==============================] - 5s 9ms/step - loss: 0.1549 - accuracy: 0.9590 - val_loss: 0.1408 - val_accuracy: 0.9511\n",
            "Epoch 13/120\n",
            "528/528 [==============================] - 6s 11ms/step - loss: 0.1443 - accuracy: 0.9624 - val_loss: 0.1267 - val_accuracy: 0.9579\n",
            "Epoch 14/120\n",
            "528/528 [==============================] - 5s 9ms/step - loss: 0.1326 - accuracy: 0.9663 - val_loss: 0.1357 - val_accuracy: 0.9535\n",
            "Epoch 15/120\n",
            "528/528 [==============================] - 6s 11ms/step - loss: 0.1252 - accuracy: 0.9705 - val_loss: 0.1229 - val_accuracy: 0.9602\n",
            "Epoch 16/120\n",
            "528/528 [==============================] - 5s 10ms/step - loss: 0.1185 - accuracy: 0.9711 - val_loss: 0.1558 - val_accuracy: 0.9468\n",
            "Epoch 17/120\n",
            "528/528 [==============================] - 5s 9ms/step - loss: 0.1206 - accuracy: 0.9702 - val_loss: 0.1170 - val_accuracy: 0.9622\n",
            "Epoch 18/120\n",
            "528/528 [==============================] - 6s 11ms/step - loss: 0.1074 - accuracy: 0.9758 - val_loss: 0.1271 - val_accuracy: 0.9564\n",
            "Epoch 19/120\n",
            "528/528 [==============================] - 5s 9ms/step - loss: 0.1030 - accuracy: 0.9763 - val_loss: 0.1083 - val_accuracy: 0.9646\n",
            "Epoch 20/120\n",
            "528/528 [==============================] - 5s 9ms/step - loss: 0.0929 - accuracy: 0.9785 - val_loss: 0.1111 - val_accuracy: 0.9617\n",
            "Epoch 21/120\n",
            "528/528 [==============================] - 6s 11ms/step - loss: 0.0875 - accuracy: 0.9795 - val_loss: 0.1235 - val_accuracy: 0.9602\n",
            "Epoch 22/120\n",
            "528/528 [==============================] - 5s 9ms/step - loss: 0.0942 - accuracy: 0.9786 - val_loss: 0.1095 - val_accuracy: 0.9617\n",
            "Epoch 23/120\n",
            "528/528 [==============================] - 6s 11ms/step - loss: 0.0810 - accuracy: 0.9834 - val_loss: 0.0952 - val_accuracy: 0.9698\n",
            "Epoch 24/120\n",
            "528/528 [==============================] - 5s 9ms/step - loss: 0.0761 - accuracy: 0.9826 - val_loss: 0.1053 - val_accuracy: 0.9693\n",
            "Epoch 25/120\n",
            "528/528 [==============================] - 5s 9ms/step - loss: 0.0749 - accuracy: 0.9824 - val_loss: 0.1134 - val_accuracy: 0.9670\n",
            "Epoch 26/120\n",
            "528/528 [==============================] - 6s 11ms/step - loss: 0.0695 - accuracy: 0.9861 - val_loss: 0.0977 - val_accuracy: 0.9727\n",
            "Epoch 27/120\n",
            "528/528 [==============================] - 5s 9ms/step - loss: 0.0695 - accuracy: 0.9840 - val_loss: 0.0961 - val_accuracy: 0.9693\n",
            "Epoch 28/120\n",
            "528/528 [==============================] - 5s 10ms/step - loss: 0.0696 - accuracy: 0.9841 - val_loss: 0.0914 - val_accuracy: 0.9703\n",
            "Epoch 29/120\n",
            "528/528 [==============================] - 6s 11ms/step - loss: 0.0554 - accuracy: 0.9879 - val_loss: 0.0991 - val_accuracy: 0.9717\n",
            "Epoch 30/120\n",
            "528/528 [==============================] - 5s 10ms/step - loss: 0.0589 - accuracy: 0.9870 - val_loss: 0.1085 - val_accuracy: 0.9698\n",
            "Epoch 31/120\n",
            "528/528 [==============================] - 6s 11ms/step - loss: 0.0554 - accuracy: 0.9878 - val_loss: 0.1147 - val_accuracy: 0.9607\n",
            "Epoch 32/120\n",
            "528/528 [==============================] - 5s 9ms/step - loss: 0.0568 - accuracy: 0.9869 - val_loss: 0.1000 - val_accuracy: 0.9722\n",
            "Epoch 33/120\n",
            "528/528 [==============================] - 5s 10ms/step - loss: 0.0466 - accuracy: 0.9912 - val_loss: 0.1054 - val_accuracy: 0.9741\n",
            "Epoch 34/120\n",
            "528/528 [==============================] - 5s 10ms/step - loss: 0.0578 - accuracy: 0.9875 - val_loss: 0.1029 - val_accuracy: 0.9727\n",
            "Epoch 35/120\n",
            "528/528 [==============================] - 5s 9ms/step - loss: 0.0479 - accuracy: 0.9901 - val_loss: 0.1081 - val_accuracy: 0.9689\n",
            "Epoch 36/120\n",
            "528/528 [==============================] - 6s 11ms/step - loss: 0.0500 - accuracy: 0.9899 - val_loss: 0.1252 - val_accuracy: 0.9684\n",
            "Epoch 37/120\n",
            "528/528 [==============================] - 5s 9ms/step - loss: 0.0377 - accuracy: 0.9924 - val_loss: 0.1208 - val_accuracy: 0.9703\n",
            "Epoch 38/120\n",
            "528/528 [==============================] - 5s 10ms/step - loss: 0.0416 - accuracy: 0.9911 - val_loss: 0.1093 - val_accuracy: 0.9741\n",
            "Epoch 39/120\n",
            "528/528 [==============================] - 5s 10ms/step - loss: 0.0352 - accuracy: 0.9927 - val_loss: 0.1198 - val_accuracy: 0.9693\n",
            "Epoch 40/120\n",
            "528/528 [==============================] - 5s 9ms/step - loss: 0.0399 - accuracy: 0.9914 - val_loss: 0.1149 - val_accuracy: 0.9727\n",
            "Epoch 41/120\n",
            "528/528 [==============================] - 6s 11ms/step - loss: 0.0298 - accuracy: 0.9948 - val_loss: 0.1287 - val_accuracy: 0.9713\n",
            "Epoch 42/120\n",
            "528/528 [==============================] - 5s 9ms/step - loss: 0.0427 - accuracy: 0.9901 - val_loss: 0.1210 - val_accuracy: 0.9732\n",
            "Epoch 43/120\n",
            "528/528 [==============================] - 5s 9ms/step - loss: 0.0344 - accuracy: 0.9928 - val_loss: 0.1322 - val_accuracy: 0.9703\n",
            "Epoch 44/120\n",
            "528/528 [==============================] - 6s 11ms/step - loss: 0.0480 - accuracy: 0.9898 - val_loss: 0.1254 - val_accuracy: 0.9674\n",
            "Epoch 45/120\n",
            "528/528 [==============================] - 5s 9ms/step - loss: 0.0334 - accuracy: 0.9938 - val_loss: 0.1316 - val_accuracy: 0.9703\n",
            "Epoch 46/120\n",
            "528/528 [==============================] - 6s 10ms/step - loss: 0.0348 - accuracy: 0.9918 - val_loss: 0.1331 - val_accuracy: 0.9698\n",
            "Epoch 47/120\n",
            "528/528 [==============================] - 5s 10ms/step - loss: 0.0288 - accuracy: 0.9944 - val_loss: 0.1213 - val_accuracy: 0.9737\n",
            "Epoch 48/120\n",
            "528/528 [==============================] - 5s 9ms/step - loss: 0.0270 - accuracy: 0.9951 - val_loss: 0.1277 - val_accuracy: 0.9722\n",
            "Epoch 49/120\n",
            "528/528 [==============================] - 6s 11ms/step - loss: 0.0333 - accuracy: 0.9928 - val_loss: 0.1282 - val_accuracy: 0.9732\n",
            "Epoch 50/120\n",
            "528/528 [==============================] - 5s 9ms/step - loss: 0.0245 - accuracy: 0.9956 - val_loss: 0.1484 - val_accuracy: 0.9717\n",
            "Epoch 51/120\n",
            "528/528 [==============================] - 5s 10ms/step - loss: 0.0318 - accuracy: 0.9931 - val_loss: 0.1674 - val_accuracy: 0.9602\n",
            "Epoch 52/120\n",
            "528/528 [==============================] - 5s 10ms/step - loss: 0.0326 - accuracy: 0.9926 - val_loss: 0.1381 - val_accuracy: 0.9689\n",
            "Epoch 53/120\n",
            "528/528 [==============================] - 5s 9ms/step - loss: 0.0276 - accuracy: 0.9941 - val_loss: 0.1416 - val_accuracy: 0.9679\n",
            "Epoch 54/120\n",
            "528/528 [==============================] - 6s 11ms/step - loss: 0.0376 - accuracy: 0.9905 - val_loss: 0.1269 - val_accuracy: 0.9732\n",
            "Epoch 55/120\n",
            "528/528 [==============================] - 5s 9ms/step - loss: 0.0284 - accuracy: 0.9944 - val_loss: 0.1434 - val_accuracy: 0.9703\n",
            "Epoch 56/120\n",
            "528/528 [==============================] - 5s 10ms/step - loss: 0.0219 - accuracy: 0.9963 - val_loss: 0.1262 - val_accuracy: 0.9737\n",
            "Epoch 57/120\n",
            "528/528 [==============================] - 6s 10ms/step - loss: 0.0221 - accuracy: 0.9958 - val_loss: 0.1217 - val_accuracy: 0.9765\n",
            "Epoch 58/120\n",
            "528/528 [==============================] - 5s 9ms/step - loss: 0.0214 - accuracy: 0.9958 - val_loss: 0.1270 - val_accuracy: 0.9761\n",
            "Epoch 59/120\n",
            "528/528 [==============================] - 6s 11ms/step - loss: 0.0215 - accuracy: 0.9957 - val_loss: 0.1263 - val_accuracy: 0.9761\n",
            "Epoch 60/120\n",
            "528/528 [==============================] - 5s 9ms/step - loss: 0.0217 - accuracy: 0.9954 - val_loss: 0.1270 - val_accuracy: 0.9761\n",
            "Epoch 61/120\n",
            "528/528 [==============================] - 5s 9ms/step - loss: 0.0204 - accuracy: 0.9963 - val_loss: 0.1302 - val_accuracy: 0.9756\n",
            "Epoch 62/120\n",
            "528/528 [==============================] - 6s 11ms/step - loss: 0.0194 - accuracy: 0.9963 - val_loss: 0.1320 - val_accuracy: 0.9761\n",
            "Epoch 63/120\n",
            "528/528 [==============================] - 5s 9ms/step - loss: 0.0201 - accuracy: 0.9957 - val_loss: 0.1348 - val_accuracy: 0.9761\n",
            "Epoch 64/120\n",
            "528/528 [==============================] - 6s 11ms/step - loss: 0.0197 - accuracy: 0.9963 - val_loss: 0.1362 - val_accuracy: 0.9756\n",
            "Epoch 65/120\n",
            "528/528 [==============================] - 5s 10ms/step - loss: 0.0195 - accuracy: 0.9959 - val_loss: 0.1367 - val_accuracy: 0.9761\n",
            "Epoch 66/120\n",
            "528/528 [==============================] - 5s 9ms/step - loss: 0.0195 - accuracy: 0.9959 - val_loss: 0.1363 - val_accuracy: 0.9756\n",
            "Epoch 67/120\n",
            "528/528 [==============================] - 6s 11ms/step - loss: 0.0197 - accuracy: 0.9963 - val_loss: 0.1365 - val_accuracy: 0.9770\n",
            "Epoch 68/120\n",
            "528/528 [==============================] - 5s 9ms/step - loss: 0.0188 - accuracy: 0.9959 - val_loss: 0.1373 - val_accuracy: 0.9765\n",
            "Epoch 69/120\n",
            "528/528 [==============================] - 6s 11ms/step - loss: 0.0185 - accuracy: 0.9965 - val_loss: 0.1384 - val_accuracy: 0.9756\n",
            "Epoch 70/120\n",
            "528/528 [==============================] - 5s 10ms/step - loss: 0.0185 - accuracy: 0.9962 - val_loss: 0.1366 - val_accuracy: 0.9761\n",
            "Epoch 71/120\n",
            "528/528 [==============================] - 5s 9ms/step - loss: 0.0187 - accuracy: 0.9959 - val_loss: 0.1373 - val_accuracy: 0.9761\n",
            "Epoch 72/120\n",
            "528/528 [==============================] - 6s 11ms/step - loss: 0.0183 - accuracy: 0.9961 - val_loss: 0.1382 - val_accuracy: 0.9756\n",
            "Epoch 73/120\n",
            "528/528 [==============================] - 5s 9ms/step - loss: 0.0189 - accuracy: 0.9954 - val_loss: 0.1367 - val_accuracy: 0.9765\n",
            "Epoch 74/120\n",
            "528/528 [==============================] - 5s 10ms/step - loss: 0.0181 - accuracy: 0.9964 - val_loss: 0.1389 - val_accuracy: 0.9756\n",
            "Epoch 75/120\n",
            "528/528 [==============================] - 5s 10ms/step - loss: 0.0167 - accuracy: 0.9963 - val_loss: 0.1393 - val_accuracy: 0.9756\n",
            "Epoch 76/120\n",
            "528/528 [==============================] - 5s 9ms/step - loss: 0.0174 - accuracy: 0.9960 - val_loss: 0.1400 - val_accuracy: 0.9756\n",
            "Epoch 77/120\n",
            "528/528 [==============================] - 6s 11ms/step - loss: 0.0160 - accuracy: 0.9966 - val_loss: 0.1460 - val_accuracy: 0.9751\n",
            "Epoch 78/120\n",
            "528/528 [==============================] - 5s 9ms/step - loss: 0.0171 - accuracy: 0.9962 - val_loss: 0.1464 - val_accuracy: 0.9756\n",
            "Epoch 79/120\n",
            "528/528 [==============================] - 5s 10ms/step - loss: 0.0162 - accuracy: 0.9967 - val_loss: 0.1416 - val_accuracy: 0.9756\n",
            "Epoch 80/120\n",
            "528/528 [==============================] - 5s 10ms/step - loss: 0.0163 - accuracy: 0.9964 - val_loss: 0.1454 - val_accuracy: 0.9741\n",
            "Epoch 81/120\n",
            "528/528 [==============================] - 5s 9ms/step - loss: 0.0161 - accuracy: 0.9976 - val_loss: 0.1446 - val_accuracy: 0.9751\n",
            "Epoch 82/120\n",
            "528/528 [==============================] - 6s 11ms/step - loss: 0.0156 - accuracy: 0.9980 - val_loss: 0.1466 - val_accuracy: 0.9746\n",
            "Epoch 83/120\n",
            "528/528 [==============================] - 5s 9ms/step - loss: 0.0152 - accuracy: 0.9979 - val_loss: 0.1482 - val_accuracy: 0.9746\n",
            "Epoch 84/120\n",
            "528/528 [==============================] - 5s 10ms/step - loss: 0.0162 - accuracy: 0.9977 - val_loss: 0.1499 - val_accuracy: 0.9751\n",
            "Epoch 85/120\n",
            "528/528 [==============================] - 6s 11ms/step - loss: 0.0150 - accuracy: 0.9981 - val_loss: 0.1500 - val_accuracy: 0.9751\n",
            "Epoch 86/120\n",
            "528/528 [==============================] - 5s 9ms/step - loss: 0.0134 - accuracy: 0.9985 - val_loss: 0.1504 - val_accuracy: 0.9751\n",
            "Epoch 87/120\n",
            "528/528 [==============================] - 6s 11ms/step - loss: 0.0135 - accuracy: 0.9982 - val_loss: 0.1503 - val_accuracy: 0.9751\n",
            "Epoch 88/120\n",
            "528/528 [==============================] - 5s 9ms/step - loss: 0.0131 - accuracy: 0.9983 - val_loss: 0.1535 - val_accuracy: 0.9751\n",
            "Epoch 89/120\n",
            "528/528 [==============================] - 5s 10ms/step - loss: 0.0146 - accuracy: 0.9976 - val_loss: 0.1530 - val_accuracy: 0.9751\n",
            "Epoch 90/120\n",
            "528/528 [==============================] - 6s 11ms/step - loss: 0.0130 - accuracy: 0.9982 - val_loss: 0.1534 - val_accuracy: 0.9751\n",
            "Epoch 91/120\n",
            "528/528 [==============================] - 5s 9ms/step - loss: 0.0140 - accuracy: 0.9972 - val_loss: 0.1536 - val_accuracy: 0.9751\n",
            "Epoch 92/120\n",
            "528/528 [==============================] - 6s 11ms/step - loss: 0.0128 - accuracy: 0.9985 - val_loss: 0.1566 - val_accuracy: 0.9751\n",
            "Epoch 93/120\n",
            "528/528 [==============================] - 5s 9ms/step - loss: 0.0134 - accuracy: 0.9978 - val_loss: 0.1552 - val_accuracy: 0.9751\n",
            "Epoch 94/120\n",
            "528/528 [==============================] - 5s 9ms/step - loss: 0.0135 - accuracy: 0.9983 - val_loss: 0.1558 - val_accuracy: 0.9751\n",
            "Epoch 95/120\n",
            "528/528 [==============================] - 6s 11ms/step - loss: 0.0128 - accuracy: 0.9978 - val_loss: 0.1542 - val_accuracy: 0.9751\n",
            "Epoch 96/120\n",
            "528/528 [==============================] - 5s 9ms/step - loss: 0.0139 - accuracy: 0.9974 - val_loss: 0.1580 - val_accuracy: 0.9751\n",
            "Epoch 97/120\n",
            "528/528 [==============================] - 6s 11ms/step - loss: 0.0120 - accuracy: 0.9984 - val_loss: 0.1580 - val_accuracy: 0.9751\n",
            "Epoch 98/120\n",
            "528/528 [==============================] - 5s 10ms/step - loss: 0.0115 - accuracy: 0.9985 - val_loss: 0.1583 - val_accuracy: 0.9751\n",
            "Epoch 99/120\n",
            "528/528 [==============================] - 5s 9ms/step - loss: 0.0124 - accuracy: 0.9979 - val_loss: 0.1590 - val_accuracy: 0.9751\n",
            "Epoch 100/120\n",
            "528/528 [==============================] - 6s 11ms/step - loss: 0.0120 - accuracy: 0.9982 - val_loss: 0.1590 - val_accuracy: 0.9741\n",
            "Epoch 101/120\n",
            "528/528 [==============================] - 5s 9ms/step - loss: 0.0130 - accuracy: 0.9976 - val_loss: 0.1599 - val_accuracy: 0.9741\n",
            "Epoch 102/120\n",
            "528/528 [==============================] - 5s 10ms/step - loss: 0.0116 - accuracy: 0.9983 - val_loss: 0.1606 - val_accuracy: 0.9746\n",
            "Epoch 103/120\n",
            "528/528 [==============================] - 5s 10ms/step - loss: 0.0111 - accuracy: 0.9982 - val_loss: 0.1611 - val_accuracy: 0.9746\n",
            "Epoch 104/120\n",
            "528/528 [==============================] - 5s 9ms/step - loss: 0.0126 - accuracy: 0.9975 - val_loss: 0.1620 - val_accuracy: 0.9746\n",
            "Epoch 105/120\n",
            "528/528 [==============================] - 6s 11ms/step - loss: 0.0118 - accuracy: 0.9975 - val_loss: 0.1623 - val_accuracy: 0.9746\n",
            "Epoch 106/120\n",
            "528/528 [==============================] - 5s 9ms/step - loss: 0.0122 - accuracy: 0.9981 - val_loss: 0.1632 - val_accuracy: 0.9746\n",
            "Epoch 107/120\n",
            "528/528 [==============================] - 5s 10ms/step - loss: 0.0114 - accuracy: 0.9979 - val_loss: 0.1661 - val_accuracy: 0.9746\n",
            "Epoch 108/120\n",
            "528/528 [==============================] - 6s 10ms/step - loss: 0.0114 - accuracy: 0.9980 - val_loss: 0.1660 - val_accuracy: 0.9746\n",
            "Epoch 109/120\n",
            "528/528 [==============================] - 5s 9ms/step - loss: 0.0110 - accuracy: 0.9981 - val_loss: 0.1647 - val_accuracy: 0.9746\n",
            "Epoch 110/120\n",
            "528/528 [==============================] - 6s 11ms/step - loss: 0.0109 - accuracy: 0.9986 - val_loss: 0.1662 - val_accuracy: 0.9751\n",
            "Epoch 111/120\n",
            "528/528 [==============================] - 5s 9ms/step - loss: 0.0122 - accuracy: 0.9974 - val_loss: 0.1661 - val_accuracy: 0.9751\n",
            "Epoch 112/120\n",
            "528/528 [==============================] - 5s 10ms/step - loss: 0.0115 - accuracy: 0.9977 - val_loss: 0.1666 - val_accuracy: 0.9751\n",
            "Epoch 113/120\n",
            "528/528 [==============================] - 6s 11ms/step - loss: 0.0114 - accuracy: 0.9978 - val_loss: 0.1671 - val_accuracy: 0.9751\n",
            "Epoch 114/120\n",
            "528/528 [==============================] - 5s 9ms/step - loss: 0.0114 - accuracy: 0.9978 - val_loss: 0.1679 - val_accuracy: 0.9751\n",
            "Epoch 115/120\n",
            "528/528 [==============================] - 6s 11ms/step - loss: 0.0114 - accuracy: 0.9979 - val_loss: 0.1683 - val_accuracy: 0.9751\n",
            "Epoch 116/120\n",
            "528/528 [==============================] - 5s 9ms/step - loss: 0.0117 - accuracy: 0.9975 - val_loss: 0.1689 - val_accuracy: 0.9746\n",
            "Epoch 117/120\n",
            "528/528 [==============================] - 5s 9ms/step - loss: 0.0111 - accuracy: 0.9983 - val_loss: 0.1702 - val_accuracy: 0.9751\n",
            "Epoch 118/120\n",
            "528/528 [==============================] - 6s 11ms/step - loss: 0.0113 - accuracy: 0.9977 - val_loss: 0.1702 - val_accuracy: 0.9756\n",
            "Epoch 119/120\n",
            "528/528 [==============================] - 5s 10ms/step - loss: 0.0100 - accuracy: 0.9985 - val_loss: 0.1705 - val_accuracy: 0.9756\n",
            "Epoch 120/120\n",
            "528/528 [==============================] - 6s 11ms/step - loss: 0.0113 - accuracy: 0.9978 - val_loss: 0.1692 - val_accuracy: 0.9756\n"
          ]
        }
      ]
    },
    {
      "cell_type": "code",
      "source": [
        "model.save(\"/content/gdrive/MyDrive/Colab Notebooks/FYP/CRNN-ExtraDenseStandalone-WithAttention.h5\")\n",
        "score = model.evaluate(X_test, y_test)\n",
        "print(score)"
      ],
      "metadata": {
        "id": "A0GDwHCxVFOA",
        "colab": {
          "base_uri": "https://localhost:8080/"
        },
        "outputId": "91d0a81a-e2fb-4e60-86af-e4df26c1a662"
      },
      "execution_count": null,
      "outputs": [
        {
          "output_type": "stream",
          "name": "stdout",
          "text": [
            "66/66 [==============================] - 0s 6ms/step - loss: 0.1170 - accuracy: 0.9825\n",
            "[0.11701802909374237, 0.9824561476707458]\n"
          ]
        }
      ]
    },
    {
      "cell_type": "code",
      "source": [
        "pip install plot_keras_history"
      ],
      "metadata": {
        "id": "audvVlppvQfE",
        "colab": {
          "base_uri": "https://localhost:8080/"
        },
        "outputId": "4dc8193c-a2a8-4243-fc5c-344481a252fd"
      },
      "execution_count": null,
      "outputs": [
        {
          "output_type": "stream",
          "name": "stdout",
          "text": [
            "Looking in indexes: https://pypi.org/simple, https://us-python.pkg.dev/colab-wheels/public/simple/\n",
            "Collecting plot_keras_history\n",
            "  Downloading plot_keras_history-1.1.38.tar.gz (11 kB)\n",
            "  Preparing metadata (setup.py) ... \u001b[?25l\u001b[?25hdone\n",
            "Requirement already satisfied: matplotlib in /usr/local/lib/python3.8/dist-packages (from plot_keras_history) (3.5.3)\n",
            "Requirement already satisfied: pandas in /usr/local/lib/python3.8/dist-packages (from plot_keras_history) (1.3.5)\n",
            "Requirement already satisfied: scipy in /usr/local/lib/python3.8/dist-packages (from plot_keras_history) (1.7.3)\n",
            "Collecting support_developer>=1.0.2\n",
            "  Downloading support_developer-1.0.5.tar.gz (4.9 kB)\n",
            "  Preparing metadata (setup.py) ... \u001b[?25l\u001b[?25hdone\n",
            "Collecting sanitize_ml_labels>=1.0.48\n",
            "  Downloading sanitize_ml_labels-1.0.50.tar.gz (322 kB)\n",
            "\u001b[2K     \u001b[90m━━━━━━━━━━━━━━━━━━━━━━━━━━━━━━━━━━━━━━\u001b[0m \u001b[32m322.1/322.1 KB\u001b[0m \u001b[31m10.6 MB/s\u001b[0m eta \u001b[36m0:00:00\u001b[0m\n",
            "\u001b[?25h  Preparing metadata (setup.py) ... \u001b[?25l\u001b[?25hdone\n",
            "Collecting compress_json\n",
            "  Downloading compress_json-1.0.8.tar.gz (4.7 kB)\n",
            "  Preparing metadata (setup.py) ... \u001b[?25l\u001b[?25hdone\n",
            "Requirement already satisfied: pillow>=6.2.0 in /usr/local/lib/python3.8/dist-packages (from matplotlib->plot_keras_history) (7.1.2)\n",
            "Requirement already satisfied: kiwisolver>=1.0.1 in /usr/local/lib/python3.8/dist-packages (from matplotlib->plot_keras_history) (1.4.4)\n",
            "Requirement already satisfied: fonttools>=4.22.0 in /usr/local/lib/python3.8/dist-packages (from matplotlib->plot_keras_history) (4.38.0)\n",
            "Requirement already satisfied: python-dateutil>=2.7 in /usr/local/lib/python3.8/dist-packages (from matplotlib->plot_keras_history) (2.8.2)\n",
            "Requirement already satisfied: packaging>=20.0 in /usr/local/lib/python3.8/dist-packages (from matplotlib->plot_keras_history) (23.0)\n",
            "Requirement already satisfied: cycler>=0.10 in /usr/local/lib/python3.8/dist-packages (from matplotlib->plot_keras_history) (0.11.0)\n",
            "Requirement already satisfied: numpy>=1.17 in /usr/local/lib/python3.8/dist-packages (from matplotlib->plot_keras_history) (1.22.4)\n",
            "Requirement already satisfied: pyparsing>=2.2.1 in /usr/local/lib/python3.8/dist-packages (from matplotlib->plot_keras_history) (3.0.9)\n",
            "Requirement already satisfied: pytz>=2017.3 in /usr/local/lib/python3.8/dist-packages (from pandas->plot_keras_history) (2022.7.1)\n",
            "Requirement already satisfied: six>=1.5 in /usr/local/lib/python3.8/dist-packages (from python-dateutil>=2.7->matplotlib->plot_keras_history) (1.15.0)\n",
            "Building wheels for collected packages: plot_keras_history, sanitize_ml_labels, support_developer, compress_json\n",
            "  Building wheel for plot_keras_history (setup.py) ... \u001b[?25l\u001b[?25hdone\n",
            "  Created wheel for plot_keras_history: filename=plot_keras_history-1.1.38-py3-none-any.whl size=9472 sha256=f8cafc496169eb7a59f966e20ed60fd4b0e303cb74d1a3d6c91101baab1b644d\n",
            "  Stored in directory: /root/.cache/pip/wheels/97/a5/76/35ae3e15da1ce4530de8591b0bcd7716f6d6752a4808f01c04\n",
            "  Building wheel for sanitize_ml_labels (setup.py) ... \u001b[?25l\u001b[?25hdone\n",
            "  Created wheel for sanitize_ml_labels: filename=sanitize_ml_labels-1.0.50-py3-none-any.whl size=320514 sha256=77f05b30269ddec5691bd6e9384d3b15ffdc3554e78aeb5eab69f1d2ed4b4a9a\n",
            "  Stored in directory: /root/.cache/pip/wheels/a3/5f/ba/ddd191edb6c749a63cffabd28714d5600b5b58014daf7434a8\n",
            "  Building wheel for support_developer (setup.py) ... \u001b[?25l\u001b[?25hdone\n",
            "  Created wheel for support_developer: filename=support_developer-1.0.5-py3-none-any.whl size=5650 sha256=ac443a5ad861fab319be044cc78642383a3f429604b109a54afe71e4349d0591\n",
            "  Stored in directory: /root/.cache/pip/wheels/11/5e/63/51e84640e77a7dc5f1e5f5eb597e8f1bc730a2818ee5c3fc03\n",
            "  Building wheel for compress_json (setup.py) ... \u001b[?25l\u001b[?25hdone\n",
            "  Created wheel for compress_json: filename=compress_json-1.0.8-py3-none-any.whl size=4733 sha256=6a0c62d78af722c882b95d60a45fed23abad082fd7b3bea5c214fe47f04a15b7\n",
            "  Stored in directory: /root/.cache/pip/wheels/fe/36/4b/69aaa23fc0ea813dc1f8cca3372bff314abed354cac20a1cb9\n",
            "Successfully built plot_keras_history sanitize_ml_labels support_developer compress_json\n",
            "Installing collected packages: support_developer, compress_json, sanitize_ml_labels, plot_keras_history\n",
            "Successfully installed compress_json-1.0.8 plot_keras_history-1.1.38 sanitize_ml_labels-1.0.50 support_developer-1.0.5\n"
          ]
        }
      ]
    },
    {
      "cell_type": "code",
      "source": [
        "from plot_keras_history import show_history, plot_history\n",
        "import matplotlib.pyplot as plt\n",
        "plot_history(history)"
      ],
      "metadata": {
        "id": "esfMhDOhXDyI",
        "colab": {
          "base_uri": "https://localhost:8080/",
          "height": 597
        },
        "outputId": "1e9334d5-8d8f-4996-d2c8-b7f87900e4dd"
      },
      "execution_count": null,
      "outputs": [
        {
          "output_type": "execute_result",
          "data": {
            "text/plain": [
              "(<Figure size 1000x500 with 2 Axes>,\n",
              " array([<AxesSubplot:title={'center':'Loss'}, xlabel='Epochs', ylabel='Loss'>,\n",
              "        <AxesSubplot:title={'center':'Accuracy'}, xlabel='Epochs', ylabel='Accuracy'>],\n",
              "       dtype=object))"
            ]
          },
          "metadata": {},
          "execution_count": 10
        },
        {
          "output_type": "display_data",
          "data": {
            "text/plain": [
              "<Figure size 1000x500 with 2 Axes>"
            ],
            "image/png": "[encoded data removed]"
          },
          "metadata": {
            "needs_background": "light"
          }
        }
      ]
    },
    {
      "cell_type": "code",
      "source": [
        "import matplotlib.pyplot as plt\n",
        "import itertools\n",
        "import numpy as np\n",
        "\n",
        "def plot_confusion_matrix(cm, classes,\n",
        "                        normalize=False,\n",
        "                        title='Confusion matrix',\n",
        "                        cmap=plt.cm.Blues):\n",
        "    \"\"\"\n",
        "    This function prints and plots the confusion matrix.\n",
        "    Normalization can be applied by setting `normalize=True`.\n",
        "    \"\"\"\n",
        "    plt.imshow(cm, interpolation='nearest', cmap=cmap)\n",
        "    plt.title(title)\n",
        "    plt.colorbar()\n",
        "    tick_marks = np.arange(len(classes))\n",
        "    plt.xticks(tick_marks, classes, rotation=45)\n",
        "    plt.yticks(tick_marks, classes)\n",
        "\n",
        "    if normalize:\n",
        "        cm = cm.astype('float') / cm.sum(axis=1)[:, np.newaxis]\n",
        "        print(\"Normalized confusion matrix\")\n",
        "    else:\n",
        "        print('Confusion matrix, without normalization')\n",
        "\n",
        "    print(cm)\n",
        "\n",
        "    thresh = cm.max() / 2.\n",
        "    for i, j in itertools.product(range(cm.shape[0]), range(cm.shape[1])):\n",
        "        plt.text(j, i, cm[i, j],\n",
        "            horizontalalignment=\"center\",\n",
        "            color=\"white\" if cm[i, j] > thresh else \"black\")\n",
        "\n",
        "    plt.tight_layout()\n",
        "    plt.ylabel('True label')\n",
        "    plt.xlabel('Predicted label')\n",
        "    plt.show()"
      ],
      "metadata": {
        "id": "m-Ulk4EBXd0y"
      },
      "execution_count": null,
      "outputs": []
    },
    {
      "cell_type": "code",
      "source": [
        "print(\"Model Classification Report: \\n\")\n",
        "y_pred = np.argmax(model.predict(X_test), axis=1)\n",
        "cm = confusion_matrix(np.argmax(y_test, axis=1), y_pred)\n",
        "print(classification_report(np.argmax(y_test, axis=1), y_pred))\n",
        "plot_confusion_matrix(cm, classes=[\"Does not have Wake Word\", \"Has Wake Word\"])"
      ],
      "metadata": {
        "id": "TflcZEOXXhi9",
        "colab": {
          "base_uri": "https://localhost:8080/",
          "height": 571
        },
        "outputId": "f0bc3569-f825-493e-ef5a-3a09d468420a"
      },
      "execution_count": null,
      "outputs": [
        {
          "output_type": "stream",
          "name": "stdout",
          "text": [
            "Model Classification Report: \n",
            "\n",
            "66/66 [==============================] - 1s 3ms/step\n",
            "              precision    recall  f1-score   support\n",
            "\n",
            "           0       0.99      0.98      0.98      1049\n",
            "           1       0.98      0.99      0.98      1060\n",
            "\n",
            "    accuracy                           0.98      2109\n",
            "   macro avg       0.98      0.98      0.98      2109\n",
            "weighted avg       0.98      0.98      0.98      2109\n",
            "\n",
            "Confusion matrix, without normalization\n",
            "[[1024   25]\n",
            " [  12 1048]]\n"
          ]
        },
        {
          "output_type": "display_data",
          "data": {
            "text/plain": [
              "<Figure size 432x288 with 2 Axes>"
            ],
            "image/png": "[encoded data removed]"
          },
          "metadata": {
            "needs_background": "light"
          }
        }
      ]
    }
  ]
}