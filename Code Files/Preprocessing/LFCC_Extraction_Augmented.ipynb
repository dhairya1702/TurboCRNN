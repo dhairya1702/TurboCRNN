{
 "cells": [
  {
   "cell_type": "code",
   "execution_count": 2,
   "metadata": {},
   "outputs": [],
   "source": [
    "import os\n",
    "import numpy as np\n",
    "import pandas as pd\n",
    "import matplotlib.pyplot as plt\n",
    "import librosa, librosa.display\n",
    "\n",
    "import tensorflow as tf\n",
    "from tensorflow import keras\n",
    "from sklearn.model_selection import train_test_split\n",
    "from tensorflow.keras.utils import to_categorical"
   ]
  },
  {
   "cell_type": "code",
   "execution_count": 3,
   "metadata": {
    "scrolled": true
   },
   "outputs": [],
   "source": [
    "import scipy.io.wavfile\n",
    "import spafe\n",
    "from spafe.features.lfcc import lfcc\n",
    "from spafe.features.mfcc import mfcc"
   ]
  },
  {
   "cell_type": "code",
   "execution_count": 4,
   "metadata": {},
   "outputs": [],
   "source": [
    "all_data=[]\n",
    "data_path_dict = {\n",
    "    0: [\"D:/Work/VIT/Capstone Project/Data/Total Denoised Data/False Denoised Augmented/\" + file_path for file_path in os.listdir(\"D:/Work/VIT/Capstone Project/Data/Total Denoised Data/False Denoised Augmented/\")],\n",
    "    1: [\"D:/Work/VIT/Capstone Project/Data/Total Denoised Data/Marvin Denoised Augmented/\" + file_path for file_path in os.listdir(\"D:/Work/VIT/Capstone Project/Data/Total Denoised Data/Marvin Denoised Augmented/\")]\n",
    "}"
   ]
  },
  {
   "cell_type": "code",
   "execution_count": 5,
   "metadata": {},
   "outputs": [
    {
     "name": "stdout",
     "output_type": "stream",
     "text": [
      "Info: Succesfully Preprocessed Class Label 0\n",
      "Info: Succesfully Preprocessed Class Label 1\n"
     ]
    }
   ],
   "source": [
    "for class_label, audio_files in data_path_dict.items():\n",
    "    for one_file in audio_files:\n",
    "        sig, sr = librosa.load(one_file)\n",
    "        sig = sig / max(abs(sig))\n",
    "        lfccs  = lfcc(sig, fs = sr, num_ceps=13)\n",
    "        lfccs_processed = np.mean(lfccs.T, axis=0) # some pre-processing\n",
    "        all_data.append([mfccs_processed, class_label])\n",
    "    print(f\"Info: Succesfully Preprocessed Class Label {class_label}\")\n",
    "\n",
    "df = pd.DataFrame(all_data, columns=[\"feature\", \"class_label\"])\n",
    "df.to_pickle(\"D:/Work/VIT/Capstone Project/Data/Total Denoised Data/audio_data-lfcc-denoised.csv\") #saving as csv for later use"
   ]
  },
  {
   "cell_type": "code",
   "execution_count": 6,
   "metadata": {},
   "outputs": [
    {
     "data": {
      "text/plain": [
       "feature        10614\n",
       "class_label    10614\n",
       "dtype: int64"
      ]
     },
     "execution_count": 6,
     "metadata": {},
     "output_type": "execute_result"
    }
   ],
   "source": [
    "df[df['class_label']==0].count()"
   ]
  },
  {
   "cell_type": "code",
   "execution_count": 7,
   "metadata": {},
   "outputs": [
    {
     "data": {
      "text/plain": [
       "feature        10476\n",
       "class_label    10476\n",
       "dtype: int64"
      ]
     },
     "execution_count": 7,
     "metadata": {},
     "output_type": "execute_result"
    }
   ],
   "source": [
    "df[df['class_label']==1].count()"
   ]
  },
  {
   "cell_type": "code",
   "execution_count": 8,
   "metadata": {},
   "outputs": [
    {
     "data": {
      "text/plain": [
       "(98,)"
      ]
     },
     "execution_count": 8,
     "metadata": {},
     "output_type": "execute_result"
    }
   ],
   "source": [
    "df['feature'][0].shape"
   ]
  },
  {
   "cell_type": "code",
   "execution_count": 9,
   "metadata": {},
   "outputs": [
    {
     "name": "stderr",
     "output_type": "stream",
     "text": [
      "C:\\Users\\91805\\Anaconda3\\lib\\site-packages\\ipykernel_launcher.py:5: SettingWithCopyWarning: \n",
      "A value is trying to be set on a copy of a slice from a DataFrame\n",
      "\n",
      "See the caveats in the documentation: https://pandas.pydata.org/pandas-docs/stable/user_guide/indexing.html#returning-a-view-versus-a-copy\n",
      "  \"\"\"\n"
     ]
    }
   ],
   "source": [
    "p = 98\n",
    "for i in range(len(df)):\n",
    "  q = df['feature'][i].shape[0]\n",
    "  while(q<p):\n",
    "    df['feature'][i] = np.append(df['feature'][i],0)\n",
    "    q+=1"
   ]
  },
  {
   "cell_type": "code",
   "execution_count": 10,
   "metadata": {},
   "outputs": [
    {
     "name": "stdout",
     "output_type": "stream",
     "text": [
      "0\n"
     ]
    }
   ],
   "source": [
    "p = 98\n",
    "cc = 0\n",
    "for i in range(len(df)):\n",
    "    q = df['feature'][i].shape[0]\n",
    "    if(q!=p):\n",
    "        print(i,q)\n",
    "        cc+=1\n",
    "print(cc)"
   ]
  },
  {
   "cell_type": "code",
   "execution_count": 11,
   "metadata": {
    "scrolled": true
   },
   "outputs": [
    {
     "name": "stdout",
     "output_type": "stream",
     "text": [
      "(16893, 98) (2109, 98) (2088, 98) 16893 2109 2088\n"
     ]
    }
   ],
   "source": [
    "##### Loading saved csv ##############\n",
    "#df = pd.read_pickle(\"audio_data.csv\")\n",
    "\n",
    "####### Making our data training-ready\n",
    "X = df[\"feature\"].values\n",
    "X = np.concatenate(X, axis=0).reshape(len(X), 98)\n",
    "\n",
    "y = np.array(df[\"class_label\"].tolist())\n",
    "yy = y.copy()\n",
    "y = to_categorical(y)\n",
    "\n",
    "####### train test split ############\n",
    "X_train, X_test, y_train, y_test = train_test_split(X, y, test_size=0.10, random_state=225)\n",
    "X_train, X_val, y_train, y_val = train_test_split(X_train, y_train, test_size=0.11, random_state=225)\n",
    "print(X_train.shape, X_test.shape, X_val.shape, len(y_train), len(y_test), len(y_val))"
   ]
  },
  {
   "cell_type": "code",
   "execution_count": 12,
   "metadata": {},
   "outputs": [],
   "source": [
    "np.save(\"D:/Work/VIT/Capstone Project/Data/Total Denoised Data/LFCCs Denoised/Augmented2/X_train.npy\",X_train)\n",
    "np.save(\"D:/Work/VIT/Capstone Project/Data/Total Denoised Data/LFCCs Denoised/Augmented2/y_train.npy\",y_train)\n",
    "np.save(\"D:/Work/VIT/Capstone Project/Data/Total Denoised Data/LFCCs Denoised/Augmented2/X_test.npy\",X_test)\n",
    "np.save(\"D:/Work/VIT/Capstone Project/Data/Total Denoised Data/LFCCs Denoised/Augmented2/y_test.npy\", y_test)\n",
    "np.save(\"D:/Work/VIT/Capstone Project/Data/Total Denoised Data/LFCCs Denoised/Augmented2/X_val.npy\", X_val)\n",
    "np.save(\"D:/Work/VIT/Capstone Project/Data/Total Denoised Data/LFCCs Denoised/Augmented2/y_val.npy\", y_val)"
   ]
  }
 ],
 "metadata": {
  "kernelspec": {
   "display_name": "Python 3 (ipykernel)",
   "language": "python",
   "name": "python3"
  },
  "language_info": {
   "codemirror_mode": {
    "name": "ipython",
    "version": 3
   },
   "file_extension": ".py",
   "mimetype": "text/x-python",
   "name": "python",
   "nbconvert_exporter": "python",
   "pygments_lexer": "ipython3",
   "version": "3.7.15"
  }
 },
 "nbformat": 4,
 "nbformat_minor": 2
}
