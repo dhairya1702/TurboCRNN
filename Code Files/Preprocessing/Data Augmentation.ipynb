{
 "cells": [
  {
   "cell_type": "code",
   "execution_count": 2,
   "metadata": {},
   "outputs": [],
   "source": [
    "import os\n",
    "import numpy as np\n",
    "import pandas as pd\n",
    "import matplotlib.pyplot as plt\n",
    "import librosa, librosa.display\n",
    "import soundfile as sf\n",
    "import random\n",
    "\n",
    "import tensorflow as tf\n",
    "from tensorflow import keras\n",
    "from sklearn.model_selection import train_test_split\n",
    "from tensorflow.keras.utils import to_categorical"
   ]
  },
  {
   "cell_type": "code",
   "execution_count": 3,
   "metadata": {},
   "outputs": [],
   "source": [
    "sig1name = \"\"\n",
    "sig2name = \"\"\n",
    "sig3name = \"\"\n",
    "sig4name = \"\"\n",
    "sig5name = \"\"\n",
    "count = 0"
   ]
  },
  {
   "cell_type": "markdown",
   "metadata": {},
   "source": [
    "## DATA AUGMENTATION FUNCTIONS"
   ]
  },
  {
   "cell_type": "code",
   "execution_count": 4,
   "metadata": {},
   "outputs": [],
   "source": [
    "def addWhiteNoise(signal, noise_factor):\n",
    "  noise = np.random.normal(0, signal.std(), signal.size)\n",
    "  augmented_signal = signal + (noise*noise_factor)\n",
    "  return augmented_signal"
   ]
  },
  {
   "cell_type": "code",
   "execution_count": 5,
   "metadata": {},
   "outputs": [],
   "source": [
    "def timeStretch(signal, stretch_factor):\n",
    "  return librosa.effects.time_stretch(signal, stretch_factor)"
   ]
  },
  {
   "cell_type": "code",
   "execution_count": 6,
   "metadata": {},
   "outputs": [],
   "source": [
    "def pitchScaling(signal, sr, num_semitones):\n",
    "  return librosa.effects.pitch_shift(signal, sr, num_semitones)"
   ]
  },
  {
   "cell_type": "code",
   "execution_count": 7,
   "metadata": {},
   "outputs": [],
   "source": [
    "def invertPolarity(signal):\n",
    "  return signal * -1"
   ]
  },
  {
   "cell_type": "code",
   "execution_count": 8,
   "metadata": {},
   "outputs": [],
   "source": [
    "def randomGain(signal, min_gain_factor, max_gain_factor):\n",
    "  gain_factor = random.uniform(min_gain_factor, max_gain_factor)\n",
    "  return signal*gain_factor"
   ]
  },
  {
   "cell_type": "markdown",
   "metadata": {},
   "source": [
    "## DATA AUGMENTATION FOR MARVIN"
   ]
  },
  {
   "cell_type": "code",
   "execution_count": 9,
   "metadata": {},
   "outputs": [],
   "source": [
    "data_path_dict = {\n",
    "    1: [\"D:/Work/VIT/Capstone Project/Data/Total Denoised Data/Marvin Denoised/\" + file_path for file_path in os.listdir(\"D:/Work/VIT/Capstone Project/Data/Total Noise Reduced Data/Marvin/\")]\n",
    "}"
   ]
  },
  {
   "cell_type": "code",
   "execution_count": 10,
   "metadata": {},
   "outputs": [
    {
     "name": "stderr",
     "output_type": "stream",
     "text": [
      "C:\\Users\\91805\\Anaconda3\\lib\\site-packages\\ipykernel_launcher.py:2: FutureWarning: Pass rate=1 as keyword args. From version 0.10 passing these as positional arguments will result in an error\n",
      "  \n",
      "C:\\Users\\91805\\Anaconda3\\lib\\site-packages\\ipykernel_launcher.py:2: FutureWarning: Pass sr=22050, n_steps=2 as keyword args. From version 0.10 passing these as positional arguments will result in an error\n",
      "  \n"
     ]
    }
   ],
   "source": [
    "for class_label, audio_files in data_path_dict.items():\n",
    "    for one_file in audio_files:\n",
    "      sig, fs = librosa.load(one_file)\n",
    "      sig1 = addWhiteNoise(sig, 0.5)\n",
    "      sig2 = timeStretch(sig, 1)\n",
    "      sig3 = pitchScaling(sig, fs, 2)\n",
    "      sig4 = invertPolarity(sig)\n",
    "      sig5 = randomGain(sig, 2, 4)\n",
    "      sig1name = \"D:/Work/VIT/Capstone Project/Data/Total Denoised Data/Marvin Denoised Augmented/marvin (\" + str(count) +\") AWGN.wav\"\n",
    "      sig2name = \"D:/Work/VIT/Capstone Project/Data/Total Denoised Data/Marvin Denoised Augmented/marvin (\" + str(count) +\") timestretched.wav\"\n",
    "      sig3name = \"D:/Work/VIT/Capstone Project/Data/Total Denoised Data/Marvin Denoised Augmented/marvin (\" + str(count) +\") pitchscaled.wav\"\n",
    "      sig4name = \"D:/Work/VIT/Capstone Project/Data/Total Denoised Data/Marvin Denoised Augmented/marvin (\" + str(count) +\") invpolarity.wav\"\n",
    "      sig5name = \"D:/Work/VIT/Capstone Project/Data/Total Denoised Data/Marvin Denoised Augmented/marvin (\" + str(count) +\") gain.wav\"\n",
    "      sf.write(sig1name, sig1, fs)\n",
    "      sf.write(sig2name, sig2, fs)\n",
    "      sf.write(sig3name, sig3, fs)\n",
    "      sf.write(sig4name, sig4, fs)\n",
    "      sf.write(sig5name, sig5, fs)\n",
    "      count = count + 1"
   ]
  },
  {
   "cell_type": "markdown",
   "metadata": {},
   "source": [
    "## DATA AUGMENTATION FOR NEGATIVE SAMPLES"
   ]
  },
  {
   "cell_type": "code",
   "execution_count": 11,
   "metadata": {},
   "outputs": [
    {
     "data": {
      "text/plain": [
       "1769"
      ]
     },
     "execution_count": 11,
     "metadata": {},
     "output_type": "execute_result"
    }
   ],
   "source": [
    "nameArray = []\n",
    "for file_path in os.listdir(\"D:/Work/VIT/Capstone Project/Data/Total Denoised Data/False Denoised/\"):\n",
    "  nameArray.append(file_path)\n",
    "\n",
    "len(nameArray)"
   ]
  },
  {
   "cell_type": "code",
   "execution_count": 12,
   "metadata": {},
   "outputs": [
    {
     "name": "stderr",
     "output_type": "stream",
     "text": [
      "C:\\Users\\91805\\Anaconda3\\lib\\site-packages\\ipykernel_launcher.py:2: FutureWarning: Pass rate=1 as keyword args. From version 0.10 passing these as positional arguments will result in an error\n",
      "  \n",
      "C:\\Users\\91805\\Anaconda3\\lib\\site-packages\\ipykernel_launcher.py:2: FutureWarning: Pass sr=22050, n_steps=2 as keyword args. From version 0.10 passing these as positional arguments will result in an error\n",
      "  \n"
     ]
    }
   ],
   "source": [
    "for file in nameArray:\n",
    "  audio = \"D:/Work/VIT/Capstone Project/Data/Total Denoised Data/False Denoised/\" + file\n",
    "  sig, fs = librosa.load(audio)\n",
    "  sig1 = addWhiteNoise(sig, 0.5)\n",
    "  sig2 = timeStretch(sig, 1)\n",
    "  sig3 = pitchScaling(sig, fs, 2)\n",
    "  sig4 = invertPolarity(sig)\n",
    "  sig5 = randomGain(sig, 2, 4)\n",
    "  sig1name = \"D:/Work/VIT/Capstone Project/Data/Total Denoised Data/False Denoised Augmented/AWGN_\" + file\n",
    "  sig2name = \"D:/Work/VIT/Capstone Project/Data/Total Denoised Data/False Denoised Augmented/timestretched_\" + file\n",
    "  sig3name = \"D:/Work/VIT/Capstone Project/Data/Total Denoised Data/False Denoised Augmented/pitchscaled_\" + file\n",
    "  sig4name = \"D:/Work/VIT/Capstone Project/Data/Total Denoised Data/False Denoised Augmented/invpolarity_\" + file\n",
    "  sig5name = \"D:/Work/VIT/Capstone Project/Data/Total Denoised Data/False Denoised Augmented/gain_\" + file\n",
    "  sf.write(sig1name, sig1, fs)\n",
    "  sf.write(sig2name, sig2, fs)\n",
    "  sf.write(sig3name, sig3, fs)\n",
    "  sf.write(sig4name, sig4, fs)\n",
    "  sf.write(sig5name, sig5, fs)"
   ]
  },
  {
   "cell_type": "markdown",
   "metadata": {},
   "source": [
    "## VERIFYING DATASET SIZE"
   ]
  },
  {
   "cell_type": "code",
   "execution_count": 13,
   "metadata": {},
   "outputs": [
    {
     "name": "stdout",
     "output_type": "stream",
     "text": [
      "10476\n"
     ]
    }
   ],
   "source": [
    "# Positive Sample Count\n",
    "countpos = 0\n",
    "for file_path in os.listdir(\"D:/Work/VIT/Capstone Project/Data/Total Denoised Data/Marvin Denoised Augmented\"):\n",
    "  countpos = countpos + 1\n",
    "\n",
    "print(countpos) #1746*5"
   ]
  },
  {
   "cell_type": "code",
   "execution_count": 16,
   "metadata": {},
   "outputs": [
    {
     "name": "stdout",
     "output_type": "stream",
     "text": [
      "10614\n"
     ]
    }
   ],
   "source": [
    "# Negative Sample Count\n",
    "countneg = 0\n",
    "for file_path in os.listdir(\"D:/Work/VIT/Capstone Project/Data/Total Denoised Data/False Denoised Augmented/\"):\n",
    "  countneg = countneg + 1\n",
    "\n",
    "print(countneg) #1769*5"
   ]
  }
 ],
 "metadata": {
  "kernelspec": {
   "display_name": "Python 3 (ipykernel)",
   "language": "python",
   "name": "python3"
  },
  "language_info": {
   "codemirror_mode": {
    "name": "ipython",
    "version": 3
   },
   "file_extension": ".py",
   "mimetype": "text/x-python",
   "name": "python",
   "nbconvert_exporter": "python",
   "pygments_lexer": "ipython3",
   "version": "3.7.15"
  }
 },
 "nbformat": 4,
 "nbformat_minor": 2
}
