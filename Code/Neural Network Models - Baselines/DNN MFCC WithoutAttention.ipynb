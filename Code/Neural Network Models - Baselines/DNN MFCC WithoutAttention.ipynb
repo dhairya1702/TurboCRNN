{
  "cells": [
    {
      "cell_type": "markdown",
      "id": "3b025998",
      "metadata": {
        "id": "3b025998"
      },
      "source": [
        "## IMPORTING DEPENDENCIES"
      ]
    },
    {
      "cell_type": "code",
      "source": [
        "from google.colab import drive\n",
        "drive.mount('/content/gdrive')"
      ],
      "metadata": {
        "colab": {
          "base_uri": "https://localhost:8080/"
        },
        "id": "qOCuzTU5fvxQ",
        "outputId": "6277e602-d8df-4aa6-c853-3d896d2ae5f3"
      },
      "id": "qOCuzTU5fvxQ",
      "execution_count": 1,
      "outputs": [
        {
          "output_type": "stream",
          "name": "stdout",
          "text": [
            "Mounted at /content/gdrive\n"
          ]
        }
      ]
    },
    {
      "cell_type": "code",
      "execution_count": null,
      "id": "65ba3a3f",
      "metadata": {
        "id": "65ba3a3f"
      },
      "outputs": [],
      "source": [
        "import os\n",
        "import numpy as np\n",
        "import pandas as pd\n",
        "import matplotlib.pyplot as plt\n",
        "import librosa, librosa.display\n",
        "from tensorflow import keras\n",
        "\n",
        "import tensorflow as tf \n",
        "from sklearn.model_selection import train_test_split"
      ]
    },
    {
      "cell_type": "markdown",
      "id": "4e53be66",
      "metadata": {
        "id": "4e53be66"
      },
      "source": [
        "## NEURAL NETWORK MODEL"
      ]
    },
    {
      "cell_type": "code",
      "execution_count": null,
      "id": "921d0ac9",
      "metadata": {
        "id": "921d0ac9"
      },
      "outputs": [],
      "source": [
        "X_train = np.load('/content/gdrive/MyDrive/data/MFCC_Augmented2/X_train.npy')\n",
        "y_train = np.load('/content/gdrive/MyDrive/data/MFCC_Augmented2/y_train.npy')\n",
        "X_test = np.load('/content/gdrive/MyDrive/data/MFCC_Augmented2/X_test.npy')\n",
        "y_test = np.load('/content/gdrive/MyDrive/data/MFCC_Augmented2/y_test.npy')\n",
        "X_val = np.load('/content/gdrive/MyDrive/data/MFCC_Augmented2/X_val.npy')\n",
        "y_val = np.load('/content/gdrive/MyDrive/data/MFCC_Augmented2/y_val.npy')"
      ]
    },
    {
      "cell_type": "code",
      "execution_count": null,
      "id": "8cea14dd",
      "metadata": {
        "colab": {
          "base_uri": "https://localhost:8080/"
        },
        "id": "8cea14dd",
        "outputId": "25d868d8-e691-44ea-e7ed-dd582723e496"
      },
      "outputs": [
        {
          "output_type": "stream",
          "name": "stdout",
          "text": [
            "(16893, 98) (16893, 2)\n",
            "(2109, 98) (2109, 2)\n",
            "(2088, 98) (2088, 2)\n"
          ]
        }
      ],
      "source": [
        "print(X_train.shape, y_train.shape)\n",
        "print(X_test.shape, y_test.shape)\n",
        "print(X_val.shape, y_val.shape)"
      ]
    },
    {
      "cell_type": "code",
      "execution_count": null,
      "id": "75d43bca",
      "metadata": {
        "id": "75d43bca"
      },
      "outputs": [],
      "source": [
        "from tensorflow.keras import Sequential\n",
        "from tensorflow.keras import optimizers\n",
        "from tensorflow.keras.layers import Dense, Activation, Dropout, GRU, Input\n",
        "from sklearn.metrics import confusion_matrix, classification_report"
      ]
    },
    {
      "cell_type": "code",
      "execution_count": null,
      "id": "2f90acc9",
      "metadata": {
        "colab": {
          "base_uri": "https://localhost:8080/"
        },
        "id": "2f90acc9",
        "outputId": "ff76bcf9-25f3-4719-fd67-cf1676361519"
      },
      "outputs": [
        {
          "output_type": "stream",
          "name": "stdout",
          "text": [
            "Model: \"sequential\"\n",
            "_________________________________________________________________\n",
            " Layer (type)                Output Shape              Param #   \n",
            "=================================================================\n",
            " dense (Dense)               (None, 256)               25344     \n",
            "                                                                 \n",
            " activation (Activation)     (None, 256)               0         \n",
            "                                                                 \n",
            " dropout (Dropout)           (None, 256)               0         \n",
            "                                                                 \n",
            " dense_1 (Dense)             (None, 256)               65792     \n",
            "                                                                 \n",
            " activation_1 (Activation)   (None, 256)               0         \n",
            "                                                                 \n",
            " dropout_1 (Dropout)         (None, 256)               0         \n",
            "                                                                 \n",
            " dense_2 (Dense)             (None, 2)                 514       \n",
            "                                                                 \n",
            "=================================================================\n",
            "Total params: 91,650\n",
            "Trainable params: 91,650\n",
            "Non-trainable params: 0\n",
            "_________________________________________________________________\n",
            "None\n"
          ]
        }
      ],
      "source": [
        "##### Training ############\n",
        "from tensorflow.keras import optimizers\n",
        "model = Sequential([\n",
        "    Dense(256, input_shape=X_train[0].shape),\n",
        "    Activation('relu'),\n",
        "    Dropout(0.5),\n",
        "    Dense(256),\n",
        "    Activation('relu'),\n",
        "    Dropout(0.5),\n",
        "    Dense(2, activation='softmax')\n",
        "])\n",
        "\n",
        "print(model.summary())"
      ]
    },
    {
      "cell_type": "code",
      "execution_count": null,
      "id": "f294ec37",
      "metadata": {
        "id": "f294ec37"
      },
      "outputs": [],
      "source": [
        "model.compile(optimizer=tf.keras.optimizers.Adam(amsgrad=True), loss='categorical_crossentropy', metrics=['accuracy'])"
      ]
    },
    {
      "cell_type": "code",
      "execution_count": null,
      "id": "61f9dcd7",
      "metadata": {
        "colab": {
          "base_uri": "https://localhost:8080/"
        },
        "id": "61f9dcd7",
        "outputId": "a22e26aa-831b-4595-ddef-f51d0b041885"
      },
      "outputs": [
        {
          "output_type": "stream",
          "name": "stdout",
          "text": [
            "Epoch 1/120\n",
            "528/528 [==============================] - 6s 7ms/step - loss: 0.7796 - accuracy: 0.5374 - val_loss: 0.6681 - val_accuracy: 0.6513\n",
            "Epoch 2/120\n",
            "528/528 [==============================] - 5s 9ms/step - loss: 0.6826 - accuracy: 0.5551 - val_loss: 0.6652 - val_accuracy: 0.6442\n",
            "Epoch 3/120\n",
            "528/528 [==============================] - 3s 6ms/step - loss: 0.6726 - accuracy: 0.5737 - val_loss: 0.6612 - val_accuracy: 0.6365\n",
            "Epoch 4/120\n",
            "528/528 [==============================] - 3s 6ms/step - loss: 0.6706 - accuracy: 0.5790 - val_loss: 0.6689 - val_accuracy: 0.6073\n",
            "Epoch 5/120\n",
            "528/528 [==============================] - 4s 8ms/step - loss: 0.6620 - accuracy: 0.5968 - val_loss: 0.6488 - val_accuracy: 0.6236\n",
            "Epoch 6/120\n",
            "528/528 [==============================] - 4s 8ms/step - loss: 0.6546 - accuracy: 0.6159 - val_loss: 0.6564 - val_accuracy: 0.6049\n",
            "Epoch 7/120\n",
            "528/528 [==============================] - 3s 7ms/step - loss: 0.6565 - accuracy: 0.6095 - val_loss: 0.6420 - val_accuracy: 0.6456\n",
            "Epoch 8/120\n",
            "528/528 [==============================] - 3s 6ms/step - loss: 0.6416 - accuracy: 0.6298 - val_loss: 0.6501 - val_accuracy: 0.6092\n",
            "Epoch 9/120\n",
            "528/528 [==============================] - 4s 8ms/step - loss: 0.6363 - accuracy: 0.6359 - val_loss: 0.6374 - val_accuracy: 0.6360\n",
            "Epoch 10/120\n",
            "528/528 [==============================] - 4s 8ms/step - loss: 0.6321 - accuracy: 0.6465 - val_loss: 0.6367 - val_accuracy: 0.6331\n",
            "Epoch 11/120\n",
            "528/528 [==============================] - 3s 5ms/step - loss: 0.6279 - accuracy: 0.6468 - val_loss: 0.6308 - val_accuracy: 0.6375\n",
            "Epoch 12/120\n",
            "528/528 [==============================] - 3s 5ms/step - loss: 0.6240 - accuracy: 0.6560 - val_loss: 0.6100 - val_accuracy: 0.6777\n",
            "Epoch 13/120\n",
            "528/528 [==============================] - 3s 6ms/step - loss: 0.6197 - accuracy: 0.6547 - val_loss: 0.6207 - val_accuracy: 0.6528\n",
            "Epoch 14/120\n",
            "528/528 [==============================] - 4s 8ms/step - loss: 0.6199 - accuracy: 0.6636 - val_loss: 0.6181 - val_accuracy: 0.6595\n",
            "Epoch 15/120\n",
            "528/528 [==============================] - 3s 5ms/step - loss: 0.6194 - accuracy: 0.6545 - val_loss: 0.6416 - val_accuracy: 0.6188\n",
            "Epoch 16/120\n",
            "528/528 [==============================] - 4s 7ms/step - loss: 0.6149 - accuracy: 0.6647 - val_loss: 0.6388 - val_accuracy: 0.6111\n",
            "Epoch 17/120\n",
            "528/528 [==============================] - 3s 6ms/step - loss: 0.6036 - accuracy: 0.6735 - val_loss: 0.6124 - val_accuracy: 0.6470\n",
            "Epoch 18/120\n",
            "528/528 [==============================] - 4s 8ms/step - loss: 0.6100 - accuracy: 0.6741 - val_loss: 0.6259 - val_accuracy: 0.6552\n",
            "Epoch 19/120\n",
            "528/528 [==============================] - 3s 5ms/step - loss: 0.6008 - accuracy: 0.6780 - val_loss: 0.6206 - val_accuracy: 0.6413\n",
            "Epoch 20/120\n",
            "528/528 [==============================] - 3s 5ms/step - loss: 0.5994 - accuracy: 0.6787 - val_loss: 0.6269 - val_accuracy: 0.6250\n",
            "Epoch 21/120\n",
            "528/528 [==============================] - 3s 5ms/step - loss: 0.5924 - accuracy: 0.6858 - val_loss: 0.6012 - val_accuracy: 0.6724\n",
            "Epoch 22/120\n",
            "528/528 [==============================] - 4s 7ms/step - loss: 0.5937 - accuracy: 0.6898 - val_loss: 0.6233 - val_accuracy: 0.6355\n",
            "Epoch 23/120\n",
            "528/528 [==============================] - 4s 7ms/step - loss: 0.5906 - accuracy: 0.6899 - val_loss: 0.6172 - val_accuracy: 0.6509\n",
            "Epoch 24/120\n",
            "528/528 [==============================] - 3s 5ms/step - loss: 0.5894 - accuracy: 0.6898 - val_loss: 0.6002 - val_accuracy: 0.6638\n",
            "Epoch 25/120\n",
            "528/528 [==============================] - 3s 5ms/step - loss: 0.5875 - accuracy: 0.6960 - val_loss: 0.6089 - val_accuracy: 0.6667\n",
            "Epoch 26/120\n",
            "528/528 [==============================] - 3s 6ms/step - loss: 0.5834 - accuracy: 0.6973 - val_loss: 0.6043 - val_accuracy: 0.6719\n",
            "Epoch 27/120\n",
            "528/528 [==============================] - 5s 9ms/step - loss: 0.5857 - accuracy: 0.6933 - val_loss: 0.6149 - val_accuracy: 0.6355\n",
            "Epoch 28/120\n",
            "528/528 [==============================] - 3s 5ms/step - loss: 0.5818 - accuracy: 0.6998 - val_loss: 0.5856 - val_accuracy: 0.6834\n",
            "Epoch 29/120\n",
            "528/528 [==============================] - 3s 5ms/step - loss: 0.5805 - accuracy: 0.6999 - val_loss: 0.6085 - val_accuracy: 0.6470\n",
            "Epoch 30/120\n",
            "528/528 [==============================] - 5s 9ms/step - loss: 0.5779 - accuracy: 0.7021 - val_loss: 0.6148 - val_accuracy: 0.6379\n",
            "Epoch 31/120\n",
            "528/528 [==============================] - 5s 9ms/step - loss: 0.5819 - accuracy: 0.6943 - val_loss: 0.6087 - val_accuracy: 0.6576\n",
            "Epoch 32/120\n",
            "528/528 [==============================] - 3s 5ms/step - loss: 0.5777 - accuracy: 0.6993 - val_loss: 0.6222 - val_accuracy: 0.6375\n",
            "Epoch 33/120\n",
            "528/528 [==============================] - 3s 5ms/step - loss: 0.5746 - accuracy: 0.7047 - val_loss: 0.6248 - val_accuracy: 0.6298\n",
            "Epoch 34/120\n",
            "528/528 [==============================] - 3s 5ms/step - loss: 0.5736 - accuracy: 0.7060 - val_loss: 0.6212 - val_accuracy: 0.6379\n",
            "Epoch 35/120\n",
            "528/528 [==============================] - 4s 7ms/step - loss: 0.5722 - accuracy: 0.7050 - val_loss: 0.6160 - val_accuracy: 0.6408\n",
            "Epoch 36/120\n",
            "528/528 [==============================] - 4s 7ms/step - loss: 0.5750 - accuracy: 0.7035 - val_loss: 0.6013 - val_accuracy: 0.6609\n",
            "Epoch 37/120\n",
            "528/528 [==============================] - 3s 6ms/step - loss: 0.5734 - accuracy: 0.7008 - val_loss: 0.6113 - val_accuracy: 0.6466\n",
            "Epoch 38/120\n",
            "528/528 [==============================] - 3s 6ms/step - loss: 0.5709 - accuracy: 0.7074 - val_loss: 0.5963 - val_accuracy: 0.6662\n",
            "Epoch 39/120\n",
            "528/528 [==============================] - 3s 6ms/step - loss: 0.5702 - accuracy: 0.7098 - val_loss: 0.5841 - val_accuracy: 0.6916\n",
            "Epoch 40/120\n",
            "528/528 [==============================] - 4s 8ms/step - loss: 0.5733 - accuracy: 0.7058 - val_loss: 0.5956 - val_accuracy: 0.6743\n",
            "Epoch 41/120\n",
            "528/528 [==============================] - 3s 6ms/step - loss: 0.5688 - accuracy: 0.7053 - val_loss: 0.5930 - val_accuracy: 0.6758\n",
            "Epoch 42/120\n",
            "528/528 [==============================] - 3s 6ms/step - loss: 0.5683 - accuracy: 0.7102 - val_loss: 0.5950 - val_accuracy: 0.6681\n",
            "Epoch 43/120\n",
            "528/528 [==============================] - 3s 6ms/step - loss: 0.5703 - accuracy: 0.7105 - val_loss: 0.5760 - val_accuracy: 0.6954\n",
            "Epoch 44/120\n",
            "528/528 [==============================] - 5s 9ms/step - loss: 0.5662 - accuracy: 0.7115 - val_loss: 0.5872 - val_accuracy: 0.6906\n",
            "Epoch 45/120\n",
            "528/528 [==============================] - 3s 6ms/step - loss: 0.5608 - accuracy: 0.7100 - val_loss: 0.5800 - val_accuracy: 0.6925\n",
            "Epoch 46/120\n",
            "528/528 [==============================] - 3s 5ms/step - loss: 0.5654 - accuracy: 0.7088 - val_loss: 0.6183 - val_accuracy: 0.6370\n",
            "Epoch 47/120\n",
            "528/528 [==============================] - 3s 6ms/step - loss: 0.5665 - accuracy: 0.7080 - val_loss: 0.5933 - val_accuracy: 0.6719\n",
            "Epoch 48/120\n",
            "528/528 [==============================] - 4s 8ms/step - loss: 0.5622 - accuracy: 0.7140 - val_loss: 0.5933 - val_accuracy: 0.6748\n",
            "Epoch 49/120\n",
            "528/528 [==============================] - 4s 7ms/step - loss: 0.5608 - accuracy: 0.7160 - val_loss: 0.5824 - val_accuracy: 0.6820\n",
            "Epoch 50/120\n",
            "528/528 [==============================] - 3s 5ms/step - loss: 0.5604 - accuracy: 0.7147 - val_loss: 0.5777 - val_accuracy: 0.6997\n",
            "Epoch 51/120\n",
            "528/528 [==============================] - 3s 6ms/step - loss: 0.5571 - accuracy: 0.7165 - val_loss: 0.6078 - val_accuracy: 0.6461\n",
            "Epoch 52/120\n",
            "528/528 [==============================] - 4s 7ms/step - loss: 0.5559 - accuracy: 0.7157 - val_loss: 0.5933 - val_accuracy: 0.6628\n",
            "Epoch 53/120\n",
            "528/528 [==============================] - 4s 7ms/step - loss: 0.5604 - accuracy: 0.7161 - val_loss: 0.5734 - val_accuracy: 0.6901\n",
            "Epoch 54/120\n",
            "528/528 [==============================] - 3s 5ms/step - loss: 0.5618 - accuracy: 0.7115 - val_loss: 0.5821 - val_accuracy: 0.6806\n",
            "Epoch 55/120\n",
            "528/528 [==============================] - 3s 6ms/step - loss: 0.5569 - accuracy: 0.7182 - val_loss: 0.5897 - val_accuracy: 0.6734\n",
            "Epoch 56/120\n",
            "528/528 [==============================] - 3s 6ms/step - loss: 0.5495 - accuracy: 0.7225 - val_loss: 0.5730 - val_accuracy: 0.6887\n",
            "Epoch 57/120\n",
            "528/528 [==============================] - 4s 8ms/step - loss: 0.5552 - accuracy: 0.7211 - val_loss: 0.5758 - val_accuracy: 0.6968\n",
            "Epoch 58/120\n",
            "528/528 [==============================] - 3s 5ms/step - loss: 0.5448 - accuracy: 0.7247 - val_loss: 0.5705 - val_accuracy: 0.6935\n",
            "Epoch 59/120\n",
            "528/528 [==============================] - 3s 5ms/step - loss: 0.5519 - accuracy: 0.7217 - val_loss: 0.5786 - val_accuracy: 0.6949\n",
            "Epoch 60/120\n",
            "528/528 [==============================] - 3s 6ms/step - loss: 0.5508 - accuracy: 0.7214 - val_loss: 0.5805 - val_accuracy: 0.6810\n",
            "Epoch 61/120\n",
            "528/528 [==============================] - 4s 8ms/step - loss: 0.5485 - accuracy: 0.7269 - val_loss: 0.5830 - val_accuracy: 0.6743\n",
            "Epoch 62/120\n",
            "528/528 [==============================] - 3s 6ms/step - loss: 0.5497 - accuracy: 0.7219 - val_loss: 0.5857 - val_accuracy: 0.6758\n",
            "Epoch 63/120\n",
            "528/528 [==============================] - 3s 6ms/step - loss: 0.5453 - accuracy: 0.7265 - val_loss: 0.5900 - val_accuracy: 0.6695\n",
            "Epoch 64/120\n",
            "528/528 [==============================] - 3s 6ms/step - loss: 0.5473 - accuracy: 0.7275 - val_loss: 0.5481 - val_accuracy: 0.7241\n",
            "Epoch 65/120\n",
            "528/528 [==============================] - 4s 7ms/step - loss: 0.5500 - accuracy: 0.7251 - val_loss: 0.5796 - val_accuracy: 0.6853\n",
            "Epoch 66/120\n",
            "528/528 [==============================] - 4s 7ms/step - loss: 0.5477 - accuracy: 0.7254 - val_loss: 0.5801 - val_accuracy: 0.6815\n",
            "Epoch 67/120\n",
            "528/528 [==============================] - 3s 6ms/step - loss: 0.5473 - accuracy: 0.7247 - val_loss: 0.5693 - val_accuracy: 0.6916\n",
            "Epoch 68/120\n",
            "528/528 [==============================] - 3s 6ms/step - loss: 0.5466 - accuracy: 0.7266 - val_loss: 0.5479 - val_accuracy: 0.7275\n",
            "Epoch 69/120\n",
            "528/528 [==============================] - 3s 6ms/step - loss: 0.5463 - accuracy: 0.7252 - val_loss: 0.5532 - val_accuracy: 0.7179\n",
            "Epoch 70/120\n",
            "528/528 [==============================] - 4s 8ms/step - loss: 0.5463 - accuracy: 0.7260 - val_loss: 0.5596 - val_accuracy: 0.7059\n",
            "Epoch 71/120\n",
            "528/528 [==============================] - 3s 5ms/step - loss: 0.5398 - accuracy: 0.7340 - val_loss: 0.5705 - val_accuracy: 0.6940\n",
            "Epoch 72/120\n",
            "528/528 [==============================] - 3s 5ms/step - loss: 0.5455 - accuracy: 0.7301 - val_loss: 0.5718 - val_accuracy: 0.7093\n",
            "Epoch 73/120\n",
            "528/528 [==============================] - 3s 6ms/step - loss: 0.5448 - accuracy: 0.7317 - val_loss: 0.5842 - val_accuracy: 0.6753\n",
            "Epoch 74/120\n",
            "528/528 [==============================] - 4s 7ms/step - loss: 0.5380 - accuracy: 0.7362 - val_loss: 0.5471 - val_accuracy: 0.7265\n",
            "Epoch 75/120\n",
            "528/528 [==============================] - 3s 6ms/step - loss: 0.5428 - accuracy: 0.7288 - val_loss: 0.5748 - val_accuracy: 0.6935\n",
            "Epoch 76/120\n",
            "528/528 [==============================] - 3s 5ms/step - loss: 0.5469 - accuracy: 0.7306 - val_loss: 0.5710 - val_accuracy: 0.7098\n",
            "Epoch 77/120\n",
            "528/528 [==============================] - 3s 5ms/step - loss: 0.5349 - accuracy: 0.7327 - val_loss: 0.5711 - val_accuracy: 0.6863\n",
            "Epoch 78/120\n",
            "528/528 [==============================] - 3s 6ms/step - loss: 0.5337 - accuracy: 0.7358 - val_loss: 0.5847 - val_accuracy: 0.6686\n",
            "Epoch 79/120\n",
            "528/528 [==============================] - 4s 8ms/step - loss: 0.5404 - accuracy: 0.7292 - val_loss: 0.5968 - val_accuracy: 0.6648\n",
            "Epoch 80/120\n",
            "528/528 [==============================] - 3s 5ms/step - loss: 0.5338 - accuracy: 0.7379 - val_loss: 0.5779 - val_accuracy: 0.6691\n",
            "Epoch 81/120\n",
            "528/528 [==============================] - 3s 5ms/step - loss: 0.5317 - accuracy: 0.7362 - val_loss: 0.5578 - val_accuracy: 0.7088\n",
            "Epoch 82/120\n",
            "528/528 [==============================] - 3s 6ms/step - loss: 0.5326 - accuracy: 0.7338 - val_loss: 0.5590 - val_accuracy: 0.7026\n",
            "Epoch 83/120\n",
            "528/528 [==============================] - 4s 7ms/step - loss: 0.5270 - accuracy: 0.7403 - val_loss: 0.5857 - val_accuracy: 0.6652\n",
            "Epoch 84/120\n",
            "528/528 [==============================] - 4s 7ms/step - loss: 0.5311 - accuracy: 0.7359 - val_loss: 0.5686 - val_accuracy: 0.6940\n",
            "Epoch 85/120\n",
            "528/528 [==============================] - 3s 6ms/step - loss: 0.5304 - accuracy: 0.7350 - val_loss: 0.5633 - val_accuracy: 0.6997\n",
            "Epoch 86/120\n",
            "528/528 [==============================] - 3s 6ms/step - loss: 0.5292 - accuracy: 0.7363 - val_loss: 0.5800 - val_accuracy: 0.6753\n",
            "Epoch 87/120\n",
            "528/528 [==============================] - 3s 6ms/step - loss: 0.5308 - accuracy: 0.7371 - val_loss: 0.5753 - val_accuracy: 0.6858\n",
            "Epoch 88/120\n",
            "528/528 [==============================] - 4s 8ms/step - loss: 0.5264 - accuracy: 0.7405 - val_loss: 0.5682 - val_accuracy: 0.7002\n",
            "Epoch 89/120\n",
            "528/528 [==============================] - 3s 5ms/step - loss: 0.5303 - accuracy: 0.7408 - val_loss: 0.5785 - val_accuracy: 0.6724\n",
            "Epoch 90/120\n",
            "528/528 [==============================] - 3s 6ms/step - loss: 0.5324 - accuracy: 0.7383 - val_loss: 0.5679 - val_accuracy: 0.6873\n",
            "Epoch 91/120\n",
            "528/528 [==============================] - 3s 5ms/step - loss: 0.5244 - accuracy: 0.7465 - val_loss: 0.5655 - val_accuracy: 0.6983\n",
            "Epoch 92/120\n",
            "528/528 [==============================] - 4s 8ms/step - loss: 0.5265 - accuracy: 0.7400 - val_loss: 0.5588 - val_accuracy: 0.7098\n",
            "Epoch 93/120\n",
            "528/528 [==============================] - 3s 6ms/step - loss: 0.5273 - accuracy: 0.7388 - val_loss: 0.5627 - val_accuracy: 0.6949\n",
            "Epoch 94/120\n",
            "528/528 [==============================] - 3s 5ms/step - loss: 0.5277 - accuracy: 0.7397 - val_loss: 0.5751 - val_accuracy: 0.6743\n",
            "Epoch 95/120\n",
            "528/528 [==============================] - 4s 8ms/step - loss: 0.5245 - accuracy: 0.7424 - val_loss: 0.5518 - val_accuracy: 0.7155\n",
            "Epoch 96/120\n",
            "528/528 [==============================] - 5s 9ms/step - loss: 0.5249 - accuracy: 0.7444 - val_loss: 0.5713 - val_accuracy: 0.6877\n",
            "Epoch 97/120\n",
            "528/528 [==============================] - 4s 7ms/step - loss: 0.5260 - accuracy: 0.7415 - val_loss: 0.5669 - val_accuracy: 0.6973\n",
            "Epoch 98/120\n",
            "528/528 [==============================] - 3s 6ms/step - loss: 0.5214 - accuracy: 0.7443 - val_loss: 0.5590 - val_accuracy: 0.7016\n",
            "Epoch 99/120\n",
            "528/528 [==============================] - 3s 6ms/step - loss: 0.5259 - accuracy: 0.7410 - val_loss: 0.5534 - val_accuracy: 0.7083\n",
            "Epoch 100/120\n",
            "528/528 [==============================] - 5s 10ms/step - loss: 0.5258 - accuracy: 0.7408 - val_loss: 0.5642 - val_accuracy: 0.6997\n",
            "Epoch 101/120\n",
            "528/528 [==============================] - 4s 7ms/step - loss: 0.5274 - accuracy: 0.7391 - val_loss: 0.5579 - val_accuracy: 0.7093\n",
            "Epoch 102/120\n",
            "528/528 [==============================] - 3s 6ms/step - loss: 0.5249 - accuracy: 0.7426 - val_loss: 0.5671 - val_accuracy: 0.6882\n",
            "Epoch 103/120\n",
            "528/528 [==============================] - 4s 7ms/step - loss: 0.5242 - accuracy: 0.7442 - val_loss: 0.5744 - val_accuracy: 0.6825\n",
            "Epoch 104/120\n",
            "528/528 [==============================] - 5s 9ms/step - loss: 0.5305 - accuracy: 0.7353 - val_loss: 0.5630 - val_accuracy: 0.6973\n",
            "Epoch 105/120\n",
            "528/528 [==============================] - 3s 6ms/step - loss: 0.5177 - accuracy: 0.7493 - val_loss: 0.5525 - val_accuracy: 0.7083\n",
            "Epoch 106/120\n",
            "528/528 [==============================] - 3s 6ms/step - loss: 0.5271 - accuracy: 0.7415 - val_loss: 0.5734 - val_accuracy: 0.6906\n",
            "Epoch 107/120\n",
            "528/528 [==============================] - 4s 7ms/step - loss: 0.5274 - accuracy: 0.7440 - val_loss: 0.5796 - val_accuracy: 0.6762\n",
            "Epoch 108/120\n",
            "528/528 [==============================] - 5s 9ms/step - loss: 0.5250 - accuracy: 0.7413 - val_loss: 0.5568 - val_accuracy: 0.7026\n",
            "Epoch 109/120\n",
            "528/528 [==============================] - 3s 7ms/step - loss: 0.5174 - accuracy: 0.7473 - val_loss: 0.5550 - val_accuracy: 0.6988\n",
            "Epoch 110/120\n",
            "528/528 [==============================] - 3s 7ms/step - loss: 0.5183 - accuracy: 0.7468 - val_loss: 0.5679 - val_accuracy: 0.6882\n",
            "Epoch 111/120\n",
            "528/528 [==============================] - 4s 7ms/step - loss: 0.5209 - accuracy: 0.7444 - val_loss: 0.5524 - val_accuracy: 0.7064\n",
            "Epoch 112/120\n",
            "528/528 [==============================] - 4s 8ms/step - loss: 0.5203 - accuracy: 0.7439 - val_loss: 0.5614 - val_accuracy: 0.7107\n",
            "Epoch 113/120\n",
            "528/528 [==============================] - 3s 6ms/step - loss: 0.5218 - accuracy: 0.7433 - val_loss: 0.5595 - val_accuracy: 0.6949\n",
            "Epoch 114/120\n",
            "528/528 [==============================] - 3s 5ms/step - loss: 0.5249 - accuracy: 0.7463 - val_loss: 0.5631 - val_accuracy: 0.6906\n",
            "Epoch 115/120\n",
            "528/528 [==============================] - 3s 6ms/step - loss: 0.5175 - accuracy: 0.7487 - val_loss: 0.5556 - val_accuracy: 0.6973\n",
            "Epoch 116/120\n",
            "528/528 [==============================] - 4s 9ms/step - loss: 0.5187 - accuracy: 0.7487 - val_loss: 0.5622 - val_accuracy: 0.6973\n",
            "Epoch 117/120\n",
            "528/528 [==============================] - 4s 8ms/step - loss: 0.5154 - accuracy: 0.7502 - val_loss: 0.5606 - val_accuracy: 0.7040\n",
            "Epoch 118/120\n",
            "528/528 [==============================] - 4s 8ms/step - loss: 0.5207 - accuracy: 0.7435 - val_loss: 0.5719 - val_accuracy: 0.6844\n",
            "Epoch 119/120\n",
            "528/528 [==============================] - 4s 8ms/step - loss: 0.5264 - accuracy: 0.7411 - val_loss: 0.5627 - val_accuracy: 0.6978\n",
            "Epoch 120/120\n",
            "528/528 [==============================] - 4s 7ms/step - loss: 0.5244 - accuracy: 0.7452 - val_loss: 0.5509 - val_accuracy: 0.7088\n"
          ]
        }
      ],
      "source": [
        "history = model.fit(X_train, y_train, validation_data= (X_val, y_val), epochs=120)\n",
        "model.save(\"/content/gdrive/MyDrive/Colab Notebooks/FYP/DNN-Model_Augmented-LFCC-Wavelet.h5\")"
      ]
    },
    {
      "cell_type": "code",
      "execution_count": null,
      "id": "12940369",
      "metadata": {
        "colab": {
          "base_uri": "https://localhost:8080/"
        },
        "id": "12940369",
        "outputId": "09e5392f-1770-4ee1-8d8f-6d7a03ed2391"
      },
      "outputs": [
        {
          "output_type": "stream",
          "name": "stdout",
          "text": [
            "Model Score: \n",
            "\n",
            "66/66 [==============================] - 0s 3ms/step - loss: 0.5462 - accuracy: 0.7141\n",
            "[0.5462301969528198, 0.7140824794769287]\n"
          ]
        }
      ],
      "source": [
        "print(\"Model Score: \\n\")\n",
        "score = model.evaluate(X_test, y_test)\n",
        "print(score)"
      ]
    },
    {
      "cell_type": "code",
      "source": [
        "pip install plot_keras_history"
      ],
      "metadata": {
        "colab": {
          "base_uri": "https://localhost:8080/"
        },
        "id": "XbKMTiGwhcD_",
        "outputId": "2acb254a-bec5-43d9-8f29-456520ea8dfc"
      },
      "id": "XbKMTiGwhcD_",
      "execution_count": null,
      "outputs": [
        {
          "output_type": "stream",
          "name": "stdout",
          "text": [
            "Looking in indexes: https://pypi.org/simple, https://us-python.pkg.dev/colab-wheels/public/simple/\n",
            "Collecting plot_keras_history\n",
            "  Downloading plot_keras_history-1.1.38.tar.gz (11 kB)\n",
            "  Preparing metadata (setup.py) ... \u001b[?25l\u001b[?25hdone\n",
            "Requirement already satisfied: matplotlib in /usr/local/lib/python3.8/dist-packages (from plot_keras_history) (3.5.3)\n",
            "Requirement already satisfied: pandas in /usr/local/lib/python3.8/dist-packages (from plot_keras_history) (1.3.5)\n",
            "Requirement already satisfied: scipy in /usr/local/lib/python3.8/dist-packages (from plot_keras_history) (1.7.3)\n",
            "Collecting support_developer>=1.0.2\n",
            "  Downloading support_developer-1.0.5.tar.gz (4.9 kB)\n",
            "  Preparing metadata (setup.py) ... \u001b[?25l\u001b[?25hdone\n",
            "Collecting sanitize_ml_labels>=1.0.48\n",
            "  Downloading sanitize_ml_labels-1.0.50.tar.gz (322 kB)\n",
            "\u001b[2K     \u001b[90m━━━━━━━━━━━━━━━━━━━━━━━━━━━━━━━━━━━━━━━\u001b[0m \u001b[32m322.1/322.1 KB\u001b[0m \u001b[31m6.5 MB/s\u001b[0m eta \u001b[36m0:00:00\u001b[0m\n",
            "\u001b[?25h  Preparing metadata (setup.py) ... \u001b[?25l\u001b[?25hdone\n",
            "Collecting compress_json\n",
            "  Downloading compress_json-1.0.8.tar.gz (4.7 kB)\n",
            "  Preparing metadata (setup.py) ... \u001b[?25l\u001b[?25hdone\n",
            "Requirement already satisfied: fonttools>=4.22.0 in /usr/local/lib/python3.8/dist-packages (from matplotlib->plot_keras_history) (4.38.0)\n",
            "Requirement already satisfied: kiwisolver>=1.0.1 in /usr/local/lib/python3.8/dist-packages (from matplotlib->plot_keras_history) (1.4.4)\n",
            "Requirement already satisfied: pillow>=6.2.0 in /usr/local/lib/python3.8/dist-packages (from matplotlib->plot_keras_history) (8.4.0)\n",
            "Requirement already satisfied: packaging>=20.0 in /usr/local/lib/python3.8/dist-packages (from matplotlib->plot_keras_history) (23.0)\n",
            "Requirement already satisfied: cycler>=0.10 in /usr/local/lib/python3.8/dist-packages (from matplotlib->plot_keras_history) (0.11.0)\n",
            "Requirement already satisfied: pyparsing>=2.2.1 in /usr/local/lib/python3.8/dist-packages (from matplotlib->plot_keras_history) (3.0.9)\n",
            "Requirement already satisfied: python-dateutil>=2.7 in /usr/local/lib/python3.8/dist-packages (from matplotlib->plot_keras_history) (2.8.2)\n",
            "Requirement already satisfied: numpy>=1.17 in /usr/local/lib/python3.8/dist-packages (from matplotlib->plot_keras_history) (1.22.4)\n",
            "Requirement already satisfied: pytz>=2017.3 in /usr/local/lib/python3.8/dist-packages (from pandas->plot_keras_history) (2022.7.1)\n",
            "Requirement already satisfied: six>=1.5 in /usr/local/lib/python3.8/dist-packages (from python-dateutil>=2.7->matplotlib->plot_keras_history) (1.15.0)\n",
            "Building wheels for collected packages: plot_keras_history, sanitize_ml_labels, support_developer, compress_json\n",
            "  Building wheel for plot_keras_history (setup.py) ... \u001b[?25l\u001b[?25hdone\n",
            "  Created wheel for plot_keras_history: filename=plot_keras_history-1.1.38-py3-none-any.whl size=9472 sha256=a692f2122219f906128df94d5190ecfeb6af781e3fba479f7d76ad8f367e7191\n",
            "  Stored in directory: /root/.cache/pip/wheels/97/a5/76/35ae3e15da1ce4530de8591b0bcd7716f6d6752a4808f01c04\n",
            "  Building wheel for sanitize_ml_labels (setup.py) ... \u001b[?25l\u001b[?25hdone\n",
            "  Created wheel for sanitize_ml_labels: filename=sanitize_ml_labels-1.0.50-py3-none-any.whl size=320514 sha256=406675ba99c77a3d933ed7da30944791380b2c1c28e363691be41b92fd5b666d\n",
            "  Stored in directory: /root/.cache/pip/wheels/a3/5f/ba/ddd191edb6c749a63cffabd28714d5600b5b58014daf7434a8\n",
            "  Building wheel for support_developer (setup.py) ... \u001b[?25l\u001b[?25hdone\n",
            "  Created wheel for support_developer: filename=support_developer-1.0.5-py3-none-any.whl size=5650 sha256=d11a3210a97e3dfe3dfd9bc476818cda5fec8f13530959fd46287fd0a5abdc73\n",
            "  Stored in directory: /root/.cache/pip/wheels/11/5e/63/51e84640e77a7dc5f1e5f5eb597e8f1bc730a2818ee5c3fc03\n",
            "  Building wheel for compress_json (setup.py) ... \u001b[?25l\u001b[?25hdone\n",
            "  Created wheel for compress_json: filename=compress_json-1.0.8-py3-none-any.whl size=4733 sha256=ed6d9f90ac1c671d5fea52c11b7b4c7def524fcc71034c50065070d180a5d8fc\n",
            "  Stored in directory: /root/.cache/pip/wheels/fe/36/4b/69aaa23fc0ea813dc1f8cca3372bff314abed354cac20a1cb9\n",
            "Successfully built plot_keras_history sanitize_ml_labels support_developer compress_json\n",
            "Installing collected packages: support_developer, compress_json, sanitize_ml_labels, plot_keras_history\n",
            "Successfully installed compress_json-1.0.8 plot_keras_history-1.1.38 sanitize_ml_labels-1.0.50 support_developer-1.0.5\n"
          ]
        }
      ]
    },
    {
      "cell_type": "code",
      "execution_count": null,
      "id": "00086db5",
      "metadata": {
        "colab": {
          "base_uri": "https://localhost:8080/",
          "height": 597
        },
        "id": "00086db5",
        "outputId": "65fab051-c3aa-4ccd-dcf1-321e7590f30c"
      },
      "outputs": [
        {
          "output_type": "execute_result",
          "data": {
            "text/plain": [
              "(<Figure size 1000x500 with 2 Axes>,\n",
              " array([<AxesSubplot:title={'center':'Loss'}, xlabel='Epochs', ylabel='Loss'>,\n",
              "        <AxesSubplot:title={'center':'Accuracy'}, xlabel='Epochs', ylabel='Accuracy'>],\n",
              "       dtype=object))"
            ]
          },
          "metadata": {},
          "execution_count": 11
        },
        {
          "output_type": "display_data",
          "data": {
            "text/plain": [
              "<Figure size 1000x500 with 2 Axes>"
            ],
            "image/png": "[encoded data removed]"
          },
          "metadata": {
            "needs_background": "light"
          }
        }
      ],
      "source": [
        "from plot_keras_history import show_history, plot_history\n",
        "import matplotlib.pyplot as plt\n",
        "plot_history(history)"
      ]
    },
    {
      "cell_type": "code",
      "execution_count": null,
      "id": "f1b2c021",
      "metadata": {
        "id": "f1b2c021"
      },
      "outputs": [],
      "source": [
        "import matplotlib.pyplot as plt\n",
        "import itertools\n",
        "import numpy as np\n",
        "\n",
        "def plot_confusion_matrix(cm, classes,\n",
        "                        normalize=False,\n",
        "                        title='Confusion matrix',\n",
        "                        cmap=plt.cm.Blues):\n",
        "    \"\"\"\n",
        "    This function prints and plots the confusion matrix.\n",
        "    Normalization can be applied by setting `normalize=True`.\n",
        "    \"\"\"\n",
        "    plt.imshow(cm, interpolation='nearest', cmap=cmap)\n",
        "    plt.title(title)\n",
        "    plt.colorbar()\n",
        "    tick_marks = np.arange(len(classes))\n",
        "    plt.xticks(tick_marks, classes, rotation=45)\n",
        "    plt.yticks(tick_marks, classes)\n",
        "\n",
        "    if normalize:\n",
        "        cm = cm.astype('float') / cm.sum(axis=1)[:, np.newaxis]\n",
        "        print(\"Normalized confusion matrix\")\n",
        "    else:\n",
        "        print('Confusion matrix, without normalization')\n",
        "\n",
        "    print(cm)\n",
        "\n",
        "    thresh = cm.max() / 2.\n",
        "    for i, j in itertools.product(range(cm.shape[0]), range(cm.shape[1])):\n",
        "        plt.text(j, i, cm[i, j],\n",
        "            horizontalalignment=\"center\",\n",
        "            color=\"white\" if cm[i, j] > thresh else \"black\")\n",
        "\n",
        "    plt.tight_layout()\n",
        "    plt.ylabel('True label')\n",
        "    plt.xlabel('Predicted label')\n",
        "    plt.show()"
      ]
    },
    {
      "cell_type": "code",
      "execution_count": null,
      "id": "02a912f5",
      "metadata": {
        "colab": {
          "base_uri": "https://localhost:8080/",
          "height": 571
        },
        "id": "02a912f5",
        "outputId": "042ecb69-5f2c-4c7e-c238-fbaaef73d8b9"
      },
      "outputs": [
        {
          "output_type": "stream",
          "name": "stdout",
          "text": [
            "Model Classification Report: \n",
            "\n",
            "66/66 [==============================] - 1s 5ms/step\n",
            "              precision    recall  f1-score   support\n",
            "\n",
            "           0       0.95      0.45      0.61      1049\n",
            "           1       0.64      0.98      0.77      1060\n",
            "\n",
            "    accuracy                           0.71      2109\n",
            "   macro avg       0.79      0.71      0.69      2109\n",
            "weighted avg       0.79      0.71      0.69      2109\n",
            "\n",
            "Confusion matrix, without normalization\n",
            "[[ 472  577]\n",
            " [  26 1034]]\n"
          ]
        },
        {
          "output_type": "display_data",
          "data": {
            "text/plain": [
              "<Figure size 432x288 with 2 Axes>"
            ],
            "image/png": "[encoded data removed]"
          },
          "metadata": {
            "needs_background": "light"
          }
        }
      ],
      "source": [
        "print(\"Model Classification Report: \\n\")\n",
        "y_pred = np.argmax(model.predict(X_test), axis=1)\n",
        "cm = confusion_matrix(np.argmax(y_test, axis=1), y_pred)\n",
        "print(classification_report(np.argmax(y_test, axis=1), y_pred))\n",
        "plot_confusion_matrix(cm, classes=[\"Does not have Wake Word\", \"Has Wake Word\"])"
      ]
    }
  ],
  "metadata": {
    "kernelspec": {
      "display_name": "Python 3 (ipykernel)",
      "language": "python",
      "name": "python3"
    },
    "language_info": {
      "codemirror_mode": {
        "name": "ipython",
        "version": 3
      },
      "file_extension": ".py",
      "mimetype": "text/x-python",
      "name": "python",
      "nbconvert_exporter": "python",
      "pygments_lexer": "ipython3",
      "version": "3.9.12"
    },
    "colab": {
      "provenance": []
    }
  },
  "nbformat": 4,
  "nbformat_minor": 5
}