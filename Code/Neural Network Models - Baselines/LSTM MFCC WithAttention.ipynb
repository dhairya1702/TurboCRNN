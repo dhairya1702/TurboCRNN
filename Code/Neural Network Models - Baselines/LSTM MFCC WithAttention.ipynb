{
  "cells": [
    {
      "cell_type": "code",
      "source": [
        "from google.colab import drive\n",
        "drive.mount('/content/gdrive')"
      ],
      "metadata": {
        "colab": {
          "base_uri": "https://localhost:8080/"
        },
        "id": "MH_XRtGqBT98",
        "outputId": "65091aae-44f7-4621-f009-42d1dce8798a"
      },
      "execution_count": null,
      "outputs": [
        {
          "output_type": "stream",
          "name": "stdout",
          "text": [
            "Mounted at /content/gdrive\n"
          ]
        }
      ]
    },
    {
      "cell_type": "code",
      "execution_count": null,
      "metadata": {
        "id": "9ws9myx8_tnv"
      },
      "outputs": [],
      "source": [
        "import os\n",
        "import numpy as np\n",
        "import pandas as pd\n",
        "import matplotlib.pyplot as plt\n",
        "import librosa, librosa.display\n",
        "\n",
        "import tensorflow as tf \n",
        "from sklearn.model_selection import train_test_split\n",
        "from tensorflow.keras.utils import to_categorical"
      ]
    },
    {
      "cell_type": "code",
      "execution_count": null,
      "metadata": {
        "id": "4DnfMk95XB0x"
      },
      "outputs": [],
      "source": [
        "from tensorflow.keras import Sequential\n",
        "from tensorflow.keras.layers import Dense, Activation, Dropout, GRU, Input, Conv1D, MaxPooling1D\n",
        "from sklearn.metrics import confusion_matrix, classification_report"
      ]
    },
    {
      "cell_type": "markdown",
      "metadata": {
        "id": "clMSLEuhxwmA"
      },
      "source": [
        "## DATALOADER"
      ]
    },
    {
      "cell_type": "code",
      "execution_count": null,
      "metadata": {
        "id": "dV2e4HA3kU43"
      },
      "outputs": [],
      "source": [
        "X_train = np.load('/content/gdrive/MyDrive/data/MFCC_Augmented2/X_train.npy')\n",
        "y_train = np.load('/content/gdrive/MyDrive/data/MFCC_Augmented2/y_train.npy')\n",
        "X_test = np.load('/content/gdrive/MyDrive/data/MFCC_Augmented2/X_test.npy')\n",
        "y_test = np.load('/content/gdrive/MyDrive/data/MFCC_Augmented2/y_test.npy')\n",
        "X_val = np.load('/content/gdrive/MyDrive/data/MFCC_Augmented2/X_val.npy')\n",
        "y_val = np.load('/content/gdrive/MyDrive/data/MFCC_Augmented2/y_val.npy')"
      ]
    },
    {
      "cell_type": "code",
      "execution_count": null,
      "metadata": {
        "id": "KbUUsKrCrnnk",
        "outputId": "00921d00-c78a-4f84-d0cc-36f079602641",
        "colab": {
          "base_uri": "https://localhost:8080/"
        }
      },
      "outputs": [
        {
          "output_type": "execute_result",
          "data": {
            "text/plain": [
              "(98,)"
            ]
          },
          "metadata": {},
          "execution_count": 5
        }
      ],
      "source": [
        "X_train[0].shape"
      ]
    },
    {
      "cell_type": "code",
      "execution_count": null,
      "metadata": {
        "colab": {
          "base_uri": "https://localhost:8080/"
        },
        "id": "SbDBZGeZMJZH",
        "outputId": "db77b0d5-029d-4af8-c6fa-9d9f7b3dc3c3"
      },
      "outputs": [
        {
          "output_type": "stream",
          "name": "stdout",
          "text": [
            "(16893, 98) (16893, 2)\n",
            "(2109, 98) (2109, 2)\n",
            "(2088, 98) (2088, 2)\n"
          ]
        }
      ],
      "source": [
        "print(X_train.shape, y_train.shape)\n",
        "print(X_test.shape, y_test.shape)\n",
        "print(X_val.shape, y_val.shape)"
      ]
    },
    {
      "cell_type": "markdown",
      "metadata": {
        "id": "nQAq3SphxsG5"
      },
      "source": [
        "## CRNN - Review Later"
      ]
    },
    {
      "cell_type": "code",
      "execution_count": null,
      "metadata": {
        "colab": {
          "base_uri": "https://localhost:8080/"
        },
        "id": "lZOLG5W2_8N-",
        "outputId": "58c79334-52aa-4dc0-9a6c-f86e577f2b90"
      },
      "outputs": [
        {
          "output_type": "stream",
          "name": "stdout",
          "text": [
            "Model: \"model\"\n",
            "__________________________________________________________________________________________________\n",
            " Layer (type)                   Output Shape         Param #     Connected to                     \n",
            "==================================================================================================\n",
            " input_1 (InputLayer)           [(None, 98, 1)]      0           []                               \n",
            "                                                                                                  \n",
            " lstm (LSTM)                    (None, 128)          66560       ['input_1[0][0]']                \n",
            "                                                                                                  \n",
            " dense (Dense)                  (None, 128)          16512       ['lstm[0][0]']                   \n",
            "                                                                                                  \n",
            " dense_1 (Dense)                (None, 128)          16512       ['lstm[0][0]']                   \n",
            "                                                                                                  \n",
            " reshape (Reshape)              (None, 1, 128)       0           ['dense[0][0]']                  \n",
            "                                                                                                  \n",
            " reshape_1 (Reshape)            (None, 1, 128)       0           ['dense_1[0][0]']                \n",
            "                                                                                                  \n",
            " dot (Dot)                      (None, 1, 1)         0           ['reshape[0][0]',                \n",
            "                                                                  'reshape_1[0][0]']              \n",
            "                                                                                                  \n",
            " dense_2 (Dense)                (None, 128)          16512       ['lstm[0][0]']                   \n",
            "                                                                                                  \n",
            " activation (Activation)        (None, 1, 1)         0           ['dot[0][0]']                    \n",
            "                                                                                                  \n",
            " reshape_2 (Reshape)            (None, 1, 128)       0           ['dense_2[0][0]']                \n",
            "                                                                                                  \n",
            " dot_1 (Dot)                    (None, 1, 128)       0           ['activation[0][0]',             \n",
            "                                                                  'reshape_2[0][0]']              \n",
            "                                                                                                  \n",
            " reshape_3 (Reshape)            (None, 128)          0           ['dot_1[0][0]']                  \n",
            "                                                                                                  \n",
            " dense_3 (Dense)                (None, 2)            258         ['reshape_3[0][0]']              \n",
            "                                                                                                  \n",
            "==================================================================================================\n",
            "Total params: 116,354\n",
            "Trainable params: 116,354\n",
            "Non-trainable params: 0\n",
            "__________________________________________________________________________________________________\n",
            "None\n"
          ]
        }
      ],
      "source": [
        "from keras.layers import Input, LSTM, GRU, Dense, Embedding, Conv1D, MaxPooling1D, Activation\n",
        "from keras.layers import Reshape, Softmax, Permute, Multiply, dot, concatenate\n",
        "from keras.layers import BatchNormalization\n",
        "from keras.models import Model\n",
        "\n",
        "inputs = Input(shape=(98,1))\n",
        "\n",
        "gru1 = LSTM(128, return_sequences=False)(inputs)\n",
        "\n",
        "q = Dense(128)(gru1)\n",
        "k = Dense(128)(gru1)\n",
        "v = Dense(128)(gru1)\n",
        "\n",
        "q = Reshape((1, 128))(q)\n",
        "k = Reshape((1, 128))(k)\n",
        "v = Reshape((1, 128))(v)\n",
        "\n",
        "attention = dot([q, k], axes=[2, 2])\n",
        "attention = Activation('softmax')(attention)\n",
        "\n",
        "output = dot([attention, v], axes=[2, 1])\n",
        "output = Reshape((128,))(output)\n",
        "\n",
        "output = Dense(2, activation='softmax')(output)\n",
        "\n",
        "model = Model(inputs=inputs, outputs=output)\n",
        "model.compile(optimizer=tf.keras.optimizers.Adam(amsgrad=True), loss='categorical_crossentropy', metrics=['accuracy'])\n",
        "\n",
        "print(model.summary())"
      ]
    },
    {
      "cell_type": "code",
      "execution_count": null,
      "metadata": {
        "id": "MMzo894cYCug"
      },
      "outputs": [],
      "source": [
        "model.compile(\n",
        "    loss=\"categorical_crossentropy\",\n",
        "    optimizer=tf.keras.optimizers.Adam(amsgrad=True),\n",
        "    metrics=['accuracy']\n",
        ")"
      ]
    },
    {
      "cell_type": "code",
      "execution_count": null,
      "metadata": {
        "colab": {
          "base_uri": "https://localhost:8080/"
        },
        "id": "z0wENlqtbaxX",
        "outputId": "cf49e859-fefc-4245-ec6b-e7ba0c7a10dc"
      },
      "outputs": [
        {
          "output_type": "stream",
          "name": "stdout",
          "text": [
            "Epoch 1/120\n",
            "528/528 [==============================] - 15s 10ms/step - loss: 0.6862 - accuracy: 0.5530 - val_loss: 0.6606 - val_accuracy: 0.6102\n",
            "Epoch 2/120\n",
            "528/528 [==============================] - 4s 8ms/step - loss: 0.6329 - accuracy: 0.6375 - val_loss: 0.5831 - val_accuracy: 0.7026\n",
            "Epoch 3/120\n",
            "528/528 [==============================] - 5s 10ms/step - loss: 0.6091 - accuracy: 0.6606 - val_loss: 0.5332 - val_accuracy: 0.7232\n",
            "Epoch 4/120\n",
            "528/528 [==============================] - 4s 8ms/step - loss: 0.5373 - accuracy: 0.7232 - val_loss: 0.5004 - val_accuracy: 0.7395\n",
            "Epoch 5/120\n",
            "528/528 [==============================] - 4s 8ms/step - loss: 0.4844 - accuracy: 0.7657 - val_loss: 0.4738 - val_accuracy: 0.7567\n",
            "Epoch 6/120\n",
            "528/528 [==============================] - 5s 10ms/step - loss: 0.4591 - accuracy: 0.7841 - val_loss: 0.4651 - val_accuracy: 0.7677\n",
            "Epoch 7/120\n",
            "528/528 [==============================] - 4s 8ms/step - loss: 0.4242 - accuracy: 0.8034 - val_loss: 0.4318 - val_accuracy: 0.7739\n",
            "Epoch 8/120\n",
            "528/528 [==============================] - 4s 8ms/step - loss: 0.3792 - accuracy: 0.8286 - val_loss: 0.3664 - val_accuracy: 0.8281\n",
            "Epoch 9/120\n",
            "528/528 [==============================] - 5s 10ms/step - loss: 0.3443 - accuracy: 0.8473 - val_loss: 0.3737 - val_accuracy: 0.8218\n",
            "Epoch 10/120\n",
            "528/528 [==============================] - 4s 8ms/step - loss: 0.3248 - accuracy: 0.8595 - val_loss: 0.3209 - val_accuracy: 0.8611\n",
            "Epoch 11/120\n",
            "528/528 [==============================] - 4s 8ms/step - loss: 0.3092 - accuracy: 0.8669 - val_loss: 0.3153 - val_accuracy: 0.8568\n",
            "Epoch 12/120\n",
            "528/528 [==============================] - 5s 10ms/step - loss: 0.2986 - accuracy: 0.8729 - val_loss: 0.3068 - val_accuracy: 0.8606\n",
            "Epoch 13/120\n",
            "528/528 [==============================] - 4s 8ms/step - loss: 0.2864 - accuracy: 0.8779 - val_loss: 0.3122 - val_accuracy: 0.8592\n",
            "Epoch 14/120\n",
            "528/528 [==============================] - 4s 8ms/step - loss: 0.2847 - accuracy: 0.8791 - val_loss: 0.2838 - val_accuracy: 0.8726\n",
            "Epoch 15/120\n",
            "528/528 [==============================] - 5s 10ms/step - loss: 0.2711 - accuracy: 0.8836 - val_loss: 0.2815 - val_accuracy: 0.8755\n",
            "Epoch 16/120\n",
            "528/528 [==============================] - 4s 8ms/step - loss: 0.2635 - accuracy: 0.8869 - val_loss: 0.2748 - val_accuracy: 0.8793\n",
            "Epoch 17/120\n",
            "528/528 [==============================] - 4s 8ms/step - loss: 0.2534 - accuracy: 0.8921 - val_loss: 0.2786 - val_accuracy: 0.8793\n",
            "Epoch 18/120\n",
            "528/528 [==============================] - 5s 10ms/step - loss: 0.2460 - accuracy: 0.8956 - val_loss: 0.2636 - val_accuracy: 0.8884\n",
            "Epoch 19/120\n",
            "528/528 [==============================] - 4s 8ms/step - loss: 0.2426 - accuracy: 0.8965 - val_loss: 0.2702 - val_accuracy: 0.8822\n",
            "Epoch 20/120\n",
            "528/528 [==============================] - 4s 8ms/step - loss: 0.2325 - accuracy: 0.9004 - val_loss: 0.2505 - val_accuracy: 0.8927\n",
            "Epoch 21/120\n",
            "528/528 [==============================] - 5s 10ms/step - loss: 0.2301 - accuracy: 0.9010 - val_loss: 0.2599 - val_accuracy: 0.8870\n",
            "Epoch 22/120\n",
            "528/528 [==============================] - 4s 8ms/step - loss: 0.2206 - accuracy: 0.9066 - val_loss: 0.2374 - val_accuracy: 0.8994\n",
            "Epoch 23/120\n",
            "528/528 [==============================] - 4s 8ms/step - loss: 0.2135 - accuracy: 0.9085 - val_loss: 0.2464 - val_accuracy: 0.8927\n",
            "Epoch 24/120\n",
            "528/528 [==============================] - 5s 10ms/step - loss: 0.2077 - accuracy: 0.9136 - val_loss: 0.2326 - val_accuracy: 0.8985\n",
            "Epoch 25/120\n",
            "528/528 [==============================] - 4s 8ms/step - loss: 0.2042 - accuracy: 0.9134 - val_loss: 0.2335 - val_accuracy: 0.9013\n",
            "Epoch 26/120\n",
            "528/528 [==============================] - 4s 8ms/step - loss: 0.2023 - accuracy: 0.9156 - val_loss: 0.2233 - val_accuracy: 0.9085\n",
            "Epoch 27/120\n",
            "528/528 [==============================] - 6s 10ms/step - loss: 0.2106 - accuracy: 0.9135 - val_loss: 0.2333 - val_accuracy: 0.8951\n",
            "Epoch 28/120\n",
            "528/528 [==============================] - 4s 8ms/step - loss: 0.1878 - accuracy: 0.9220 - val_loss: 0.2285 - val_accuracy: 0.9071\n",
            "Epoch 29/120\n",
            "528/528 [==============================] - 4s 8ms/step - loss: 0.1839 - accuracy: 0.9257 - val_loss: 0.2527 - val_accuracy: 0.8956\n",
            "Epoch 30/120\n",
            "528/528 [==============================] - 5s 10ms/step - loss: 0.1882 - accuracy: 0.9229 - val_loss: 0.2322 - val_accuracy: 0.9090\n",
            "Epoch 31/120\n",
            "528/528 [==============================] - 4s 8ms/step - loss: 0.1735 - accuracy: 0.9300 - val_loss: 0.2375 - val_accuracy: 0.9023\n",
            "Epoch 32/120\n",
            "528/528 [==============================] - 5s 9ms/step - loss: 0.1715 - accuracy: 0.9304 - val_loss: 0.2323 - val_accuracy: 0.9057\n",
            "Epoch 33/120\n",
            "528/528 [==============================] - 5s 10ms/step - loss: 0.1717 - accuracy: 0.9295 - val_loss: 0.2410 - val_accuracy: 0.9028\n",
            "Epoch 34/120\n",
            "528/528 [==============================] - 4s 8ms/step - loss: 0.1579 - accuracy: 0.9371 - val_loss: 0.2501 - val_accuracy: 0.8975\n",
            "Epoch 35/120\n",
            "528/528 [==============================] - 5s 9ms/step - loss: 0.1623 - accuracy: 0.9327 - val_loss: 0.2404 - val_accuracy: 0.9047\n",
            "Epoch 36/120\n",
            "528/528 [==============================] - 5s 9ms/step - loss: 0.1502 - accuracy: 0.9397 - val_loss: 0.2402 - val_accuracy: 0.9066\n",
            "Epoch 37/120\n",
            "528/528 [==============================] - 4s 8ms/step - loss: 0.1535 - accuracy: 0.9384 - val_loss: 0.2340 - val_accuracy: 0.9066\n",
            "Epoch 38/120\n",
            "528/528 [==============================] - 5s 10ms/step - loss: 0.1518 - accuracy: 0.9388 - val_loss: 0.2718 - val_accuracy: 0.8884\n",
            "Epoch 39/120\n",
            "528/528 [==============================] - 5s 9ms/step - loss: 0.1472 - accuracy: 0.9402 - val_loss: 0.2308 - val_accuracy: 0.9148\n",
            "Epoch 40/120\n",
            "528/528 [==============================] - 4s 8ms/step - loss: 0.1391 - accuracy: 0.9435 - val_loss: 0.2597 - val_accuracy: 0.8966\n",
            "Epoch 41/120\n",
            "528/528 [==============================] - 5s 10ms/step - loss: 0.1361 - accuracy: 0.9432 - val_loss: 0.2373 - val_accuracy: 0.9061\n",
            "Epoch 42/120\n",
            "528/528 [==============================] - 4s 8ms/step - loss: 0.1415 - accuracy: 0.9422 - val_loss: 0.2297 - val_accuracy: 0.9133\n",
            "Epoch 43/120\n",
            "528/528 [==============================] - 4s 8ms/step - loss: 0.1362 - accuracy: 0.9450 - val_loss: 0.2540 - val_accuracy: 0.8994\n",
            "Epoch 44/120\n",
            "528/528 [==============================] - 5s 10ms/step - loss: 0.1349 - accuracy: 0.9463 - val_loss: 0.2417 - val_accuracy: 0.9128\n",
            "Epoch 45/120\n",
            "528/528 [==============================] - 4s 8ms/step - loss: 0.1190 - accuracy: 0.9533 - val_loss: 0.2576 - val_accuracy: 0.9114\n",
            "Epoch 46/120\n",
            "528/528 [==============================] - 4s 8ms/step - loss: 0.1156 - accuracy: 0.9541 - val_loss: 0.2360 - val_accuracy: 0.9114\n",
            "Epoch 47/120\n",
            "528/528 [==============================] - 5s 10ms/step - loss: 0.1353 - accuracy: 0.9464 - val_loss: 0.2161 - val_accuracy: 0.9195\n",
            "Epoch 48/120\n",
            "528/528 [==============================] - 4s 8ms/step - loss: 0.1163 - accuracy: 0.9545 - val_loss: 0.2319 - val_accuracy: 0.9133\n",
            "Epoch 49/120\n",
            "528/528 [==============================] - 4s 8ms/step - loss: 0.1179 - accuracy: 0.9538 - val_loss: 0.2605 - val_accuracy: 0.9047\n",
            "Epoch 50/120\n",
            "528/528 [==============================] - 5s 10ms/step - loss: 0.1047 - accuracy: 0.9578 - val_loss: 0.2381 - val_accuracy: 0.9133\n",
            "Epoch 51/120\n",
            "528/528 [==============================] - 4s 8ms/step - loss: 0.0983 - accuracy: 0.9596 - val_loss: 0.2794 - val_accuracy: 0.9042\n",
            "Epoch 52/120\n",
            "528/528 [==============================] - 4s 8ms/step - loss: 0.1253 - accuracy: 0.9512 - val_loss: 0.2227 - val_accuracy: 0.9176\n",
            "Epoch 53/120\n",
            "528/528 [==============================] - 5s 10ms/step - loss: 0.0992 - accuracy: 0.9610 - val_loss: 0.2493 - val_accuracy: 0.9100\n",
            "Epoch 54/120\n",
            "528/528 [==============================] - 4s 8ms/step - loss: 0.0990 - accuracy: 0.9616 - val_loss: 0.2557 - val_accuracy: 0.9152\n",
            "Epoch 55/120\n",
            "528/528 [==============================] - 4s 8ms/step - loss: 0.0921 - accuracy: 0.9641 - val_loss: 0.2612 - val_accuracy: 0.9215\n",
            "Epoch 56/120\n",
            "528/528 [==============================] - 5s 10ms/step - loss: 0.0908 - accuracy: 0.9645 - val_loss: 0.2963 - val_accuracy: 0.9018\n",
            "Epoch 57/120\n",
            "528/528 [==============================] - 4s 8ms/step - loss: 0.0973 - accuracy: 0.9615 - val_loss: 0.2571 - val_accuracy: 0.9176\n",
            "Epoch 58/120\n",
            "528/528 [==============================] - 4s 8ms/step - loss: 0.0987 - accuracy: 0.9625 - val_loss: 0.2605 - val_accuracy: 0.9033\n",
            "Epoch 59/120\n",
            "528/528 [==============================] - 5s 10ms/step - loss: 0.0878 - accuracy: 0.9661 - val_loss: 0.2408 - val_accuracy: 0.9253\n",
            "Epoch 60/120\n",
            "528/528 [==============================] - 4s 8ms/step - loss: 0.1147 - accuracy: 0.9565 - val_loss: 0.2288 - val_accuracy: 0.9205\n",
            "Epoch 61/120\n",
            "528/528 [==============================] - 4s 8ms/step - loss: 0.0889 - accuracy: 0.9668 - val_loss: 0.2635 - val_accuracy: 0.9215\n",
            "Epoch 62/120\n",
            "528/528 [==============================] - 6s 10ms/step - loss: 0.0807 - accuracy: 0.9693 - val_loss: 0.2671 - val_accuracy: 0.9210\n",
            "Epoch 63/120\n",
            "528/528 [==============================] - 4s 8ms/step - loss: 0.0856 - accuracy: 0.9673 - val_loss: 0.2516 - val_accuracy: 0.9224\n",
            "Epoch 64/120\n",
            "528/528 [==============================] - 4s 8ms/step - loss: 0.0811 - accuracy: 0.9704 - val_loss: 0.2487 - val_accuracy: 0.9291\n",
            "Epoch 65/120\n",
            "528/528 [==============================] - 5s 10ms/step - loss: 0.0850 - accuracy: 0.9676 - val_loss: 0.2425 - val_accuracy: 0.9301\n",
            "Epoch 66/120\n",
            "528/528 [==============================] - 4s 8ms/step - loss: 0.0733 - accuracy: 0.9721 - val_loss: 0.2621 - val_accuracy: 0.9262\n",
            "Epoch 67/120\n",
            "528/528 [==============================] - 4s 8ms/step - loss: 0.0682 - accuracy: 0.9736 - val_loss: 0.3178 - val_accuracy: 0.9080\n",
            "Epoch 68/120\n",
            "528/528 [==============================] - 5s 10ms/step - loss: 0.0688 - accuracy: 0.9736 - val_loss: 0.2864 - val_accuracy: 0.9195\n",
            "Epoch 69/120\n",
            "528/528 [==============================] - 4s 8ms/step - loss: 0.1144 - accuracy: 0.9552 - val_loss: 0.2374 - val_accuracy: 0.9191\n",
            "Epoch 70/120\n",
            "528/528 [==============================] - 4s 8ms/step - loss: 0.0809 - accuracy: 0.9680 - val_loss: 0.2480 - val_accuracy: 0.9200\n",
            "Epoch 71/120\n",
            "528/528 [==============================] - 5s 10ms/step - loss: 0.0692 - accuracy: 0.9721 - val_loss: 0.2756 - val_accuracy: 0.9253\n",
            "Epoch 72/120\n",
            "528/528 [==============================] - 4s 8ms/step - loss: 0.0652 - accuracy: 0.9745 - val_loss: 0.2936 - val_accuracy: 0.9229\n",
            "Epoch 73/120\n",
            "528/528 [==============================] - 4s 8ms/step - loss: 0.0603 - accuracy: 0.9762 - val_loss: 0.3037 - val_accuracy: 0.9258\n",
            "Epoch 74/120\n",
            "528/528 [==============================] - 5s 10ms/step - loss: 0.0518 - accuracy: 0.9803 - val_loss: 0.3024 - val_accuracy: 0.9277\n",
            "Epoch 75/120\n",
            "528/528 [==============================] - 4s 8ms/step - loss: 0.0630 - accuracy: 0.9756 - val_loss: 0.3009 - val_accuracy: 0.9286\n",
            "Epoch 76/120\n",
            "528/528 [==============================] - 4s 8ms/step - loss: 0.0539 - accuracy: 0.9789 - val_loss: 0.3100 - val_accuracy: 0.9229\n",
            "Epoch 77/120\n",
            "528/528 [==============================] - 5s 10ms/step - loss: 0.0574 - accuracy: 0.9792 - val_loss: 0.2921 - val_accuracy: 0.9157\n",
            "Epoch 78/120\n",
            "528/528 [==============================] - 5s 9ms/step - loss: 0.0549 - accuracy: 0.9798 - val_loss: 0.3175 - val_accuracy: 0.9205\n",
            "Epoch 79/120\n",
            "528/528 [==============================] - 4s 8ms/step - loss: 0.0485 - accuracy: 0.9831 - val_loss: 0.3539 - val_accuracy: 0.9104\n",
            "Epoch 80/120\n",
            "528/528 [==============================] - 5s 10ms/step - loss: 0.0529 - accuracy: 0.9808 - val_loss: 0.3109 - val_accuracy: 0.9210\n",
            "Epoch 81/120\n",
            "528/528 [==============================] - 4s 8ms/step - loss: 0.0572 - accuracy: 0.9799 - val_loss: 0.3114 - val_accuracy: 0.9301\n",
            "Epoch 82/120\n",
            "528/528 [==============================] - 4s 8ms/step - loss: 0.0620 - accuracy: 0.9788 - val_loss: 0.2697 - val_accuracy: 0.9334\n",
            "Epoch 83/120\n",
            "528/528 [==============================] - 5s 10ms/step - loss: 0.0384 - accuracy: 0.9863 - val_loss: 0.3227 - val_accuracy: 0.9167\n",
            "Epoch 84/120\n",
            "528/528 [==============================] - 4s 8ms/step - loss: 0.0347 - accuracy: 0.9871 - val_loss: 0.3552 - val_accuracy: 0.9301\n",
            "Epoch 85/120\n",
            "528/528 [==============================] - 4s 8ms/step - loss: 0.0311 - accuracy: 0.9890 - val_loss: 0.3813 - val_accuracy: 0.9267\n",
            "Epoch 86/120\n",
            "528/528 [==============================] - 5s 10ms/step - loss: 0.0518 - accuracy: 0.9805 - val_loss: 0.3603 - val_accuracy: 0.9215\n",
            "Epoch 87/120\n",
            "528/528 [==============================] - 4s 8ms/step - loss: 0.0410 - accuracy: 0.9856 - val_loss: 0.3545 - val_accuracy: 0.9262\n",
            "Epoch 88/120\n",
            "528/528 [==============================] - 4s 8ms/step - loss: 0.0536 - accuracy: 0.9811 - val_loss: 0.3073 - val_accuracy: 0.9239\n",
            "Epoch 89/120\n",
            "528/528 [==============================] - 5s 10ms/step - loss: 0.0421 - accuracy: 0.9848 - val_loss: 0.3285 - val_accuracy: 0.9277\n",
            "Epoch 90/120\n",
            "528/528 [==============================] - 4s 8ms/step - loss: 0.0465 - accuracy: 0.9828 - val_loss: 0.3904 - val_accuracy: 0.9152\n",
            "Epoch 91/120\n",
            "528/528 [==============================] - 5s 9ms/step - loss: 0.0472 - accuracy: 0.9831 - val_loss: 0.3732 - val_accuracy: 0.9267\n",
            "Epoch 92/120\n",
            "528/528 [==============================] - 5s 9ms/step - loss: 0.0321 - accuracy: 0.9896 - val_loss: 0.3597 - val_accuracy: 0.9215\n",
            "Epoch 93/120\n",
            "528/528 [==============================] - 4s 8ms/step - loss: 0.0381 - accuracy: 0.9860 - val_loss: 0.3440 - val_accuracy: 0.9272\n",
            "Epoch 94/120\n",
            "528/528 [==============================] - 5s 9ms/step - loss: 0.0477 - accuracy: 0.9827 - val_loss: 0.2981 - val_accuracy: 0.9310\n",
            "Epoch 95/120\n",
            "528/528 [==============================] - 5s 9ms/step - loss: 0.0340 - accuracy: 0.9880 - val_loss: 0.2950 - val_accuracy: 0.9320\n",
            "Epoch 96/120\n",
            "528/528 [==============================] - 4s 8ms/step - loss: 0.0256 - accuracy: 0.9906 - val_loss: 0.3668 - val_accuracy: 0.9205\n",
            "Epoch 97/120\n",
            "528/528 [==============================] - 5s 9ms/step - loss: 0.0600 - accuracy: 0.9790 - val_loss: 0.3137 - val_accuracy: 0.9320\n",
            "Epoch 98/120\n",
            "528/528 [==============================] - 5s 9ms/step - loss: 0.0216 - accuracy: 0.9930 - val_loss: 0.3625 - val_accuracy: 0.9262\n",
            "Epoch 99/120\n",
            "528/528 [==============================] - 4s 8ms/step - loss: 0.0249 - accuracy: 0.9911 - val_loss: 0.4319 - val_accuracy: 0.9234\n",
            "Epoch 100/120\n",
            "528/528 [==============================] - 5s 9ms/step - loss: 0.0379 - accuracy: 0.9860 - val_loss: 0.3445 - val_accuracy: 0.9320\n",
            "Epoch 101/120\n",
            "528/528 [==============================] - 5s 9ms/step - loss: 0.0423 - accuracy: 0.9857 - val_loss: 0.3803 - val_accuracy: 0.9148\n",
            "Epoch 102/120\n",
            "528/528 [==============================] - 4s 8ms/step - loss: 0.0350 - accuracy: 0.9874 - val_loss: 0.3053 - val_accuracy: 0.9397\n",
            "Epoch 103/120\n",
            "528/528 [==============================] - 5s 10ms/step - loss: 0.0364 - accuracy: 0.9875 - val_loss: 0.3120 - val_accuracy: 0.9344\n",
            "Epoch 104/120\n",
            "528/528 [==============================] - 5s 9ms/step - loss: 0.0319 - accuracy: 0.9880 - val_loss: 0.3427 - val_accuracy: 0.9282\n",
            "Epoch 105/120\n",
            "528/528 [==============================] - 4s 8ms/step - loss: 0.0387 - accuracy: 0.9866 - val_loss: 0.3144 - val_accuracy: 0.9330\n",
            "Epoch 106/120\n",
            "528/528 [==============================] - 5s 10ms/step - loss: 0.0313 - accuracy: 0.9897 - val_loss: 0.3414 - val_accuracy: 0.9344\n",
            "Epoch 107/120\n",
            "528/528 [==============================] - 4s 8ms/step - loss: 0.0309 - accuracy: 0.9898 - val_loss: 0.3574 - val_accuracy: 0.9248\n",
            "Epoch 108/120\n",
            "528/528 [==============================] - 4s 8ms/step - loss: 0.0193 - accuracy: 0.9925 - val_loss: 0.3625 - val_accuracy: 0.9387\n",
            "Epoch 109/120\n",
            "528/528 [==============================] - 5s 10ms/step - loss: 0.0229 - accuracy: 0.9927 - val_loss: 0.3719 - val_accuracy: 0.9353\n",
            "Epoch 110/120\n",
            "528/528 [==============================] - 4s 8ms/step - loss: 0.0366 - accuracy: 0.9877 - val_loss: 0.3318 - val_accuracy: 0.9272\n",
            "Epoch 111/120\n",
            "528/528 [==============================] - 4s 8ms/step - loss: 0.0306 - accuracy: 0.9902 - val_loss: 0.3548 - val_accuracy: 0.9301\n",
            "Epoch 112/120\n",
            "528/528 [==============================] - 5s 10ms/step - loss: 0.0191 - accuracy: 0.9935 - val_loss: 0.4141 - val_accuracy: 0.9291\n",
            "Epoch 113/120\n",
            "528/528 [==============================] - 4s 8ms/step - loss: 0.0144 - accuracy: 0.9953 - val_loss: 0.3901 - val_accuracy: 0.9339\n",
            "Epoch 114/120\n",
            "528/528 [==============================] - 4s 8ms/step - loss: 0.0236 - accuracy: 0.9917 - val_loss: 0.4112 - val_accuracy: 0.9224\n",
            "Epoch 115/120\n",
            "528/528 [==============================] - 5s 10ms/step - loss: 0.0387 - accuracy: 0.9869 - val_loss: 0.3102 - val_accuracy: 0.9358\n",
            "Epoch 116/120\n",
            "528/528 [==============================] - 4s 8ms/step - loss: 0.0181 - accuracy: 0.9940 - val_loss: 0.3382 - val_accuracy: 0.9334\n",
            "Epoch 117/120\n",
            "528/528 [==============================] - 4s 8ms/step - loss: 0.0351 - accuracy: 0.9879 - val_loss: 0.3629 - val_accuracy: 0.9282\n",
            "Epoch 118/120\n",
            "528/528 [==============================] - 5s 10ms/step - loss: 0.0187 - accuracy: 0.9939 - val_loss: 0.3733 - val_accuracy: 0.9286\n",
            "Epoch 119/120\n",
            "528/528 [==============================] - 4s 8ms/step - loss: 0.0212 - accuracy: 0.9931 - val_loss: 0.3957 - val_accuracy: 0.9406\n",
            "Epoch 120/120\n",
            "528/528 [==============================] - 4s 8ms/step - loss: 0.0182 - accuracy: 0.9936 - val_loss: 0.3712 - val_accuracy: 0.9334\n"
          ]
        }
      ],
      "source": [
        "history = model.fit(X_train, y_train, validation_data = (X_val, y_val), epochs = 120, shuffle = False)"
      ]
    },
    {
      "cell_type": "code",
      "execution_count": null,
      "metadata": {
        "colab": {
          "base_uri": "https://localhost:8080/"
        },
        "id": "ZLvb8wJ9dEte",
        "outputId": "e4cedd82-3855-47b9-8de8-b8667df47b15"
      },
      "outputs": [
        {
          "output_type": "stream",
          "name": "stdout",
          "text": [
            "Model Score: \n",
            "\n",
            "66/66 [==============================] - 0s 7ms/step - loss: 0.3331 - accuracy: 0.9417\n",
            "[0.33305200934410095, 0.941678524017334]\n"
          ]
        }
      ],
      "source": [
        "print(\"Model Score: \\n\")\n",
        "score = model.evaluate(X_test, y_test)\n",
        "print(score)\n",
        "model.save(\"/content/gdrive/MyDrive/Models/RNN-LSTM-WithAttention.h5\")"
      ]
    },
    {
      "cell_type": "markdown",
      "metadata": {
        "id": "Mdqi43CCdGVd"
      },
      "source": [
        "##METRICS"
      ]
    },
    {
      "cell_type": "code",
      "source": [
        "pip install plot_keras_history"
      ],
      "metadata": {
        "colab": {
          "base_uri": "https://localhost:8080/"
        },
        "id": "j0YhuxLBssXz",
        "outputId": "fddadb40-0ad7-46a9-df41-7d143affb663"
      },
      "execution_count": null,
      "outputs": [
        {
          "output_type": "stream",
          "name": "stdout",
          "text": [
            "Looking in indexes: https://pypi.org/simple, https://us-python.pkg.dev/colab-wheels/public/simple/\n",
            "Collecting plot_keras_history\n",
            "  Downloading plot_keras_history-1.1.38.tar.gz (11 kB)\n",
            "  Preparing metadata (setup.py) ... \u001b[?25l\u001b[?25hdone\n",
            "Requirement already satisfied: matplotlib in /usr/local/lib/python3.8/dist-packages (from plot_keras_history) (3.5.3)\n",
            "Requirement already satisfied: pandas in /usr/local/lib/python3.8/dist-packages (from plot_keras_history) (1.3.5)\n",
            "Requirement already satisfied: scipy in /usr/local/lib/python3.8/dist-packages (from plot_keras_history) (1.7.3)\n",
            "Collecting support_developer>=1.0.2\n",
            "  Downloading support_developer-1.0.5.tar.gz (4.9 kB)\n",
            "  Preparing metadata (setup.py) ... \u001b[?25l\u001b[?25hdone\n",
            "Collecting sanitize_ml_labels>=1.0.48\n",
            "  Downloading sanitize_ml_labels-1.0.50.tar.gz (322 kB)\n",
            "\u001b[2K     \u001b[90m━━━━━━━━━━━━━━━━━━━━━━━━━━━━━━━━━━━━━━━\u001b[0m \u001b[32m322.1/322.1 KB\u001b[0m \u001b[31m8.1 MB/s\u001b[0m eta \u001b[36m0:00:00\u001b[0m\n",
            "\u001b[?25h  Preparing metadata (setup.py) ... \u001b[?25l\u001b[?25hdone\n",
            "Collecting compress_json\n",
            "  Downloading compress_json-1.0.8.tar.gz (4.7 kB)\n",
            "  Preparing metadata (setup.py) ... \u001b[?25l\u001b[?25hdone\n",
            "Requirement already satisfied: pyparsing>=2.2.1 in /usr/local/lib/python3.8/dist-packages (from matplotlib->plot_keras_history) (3.0.9)\n",
            "Requirement already satisfied: python-dateutil>=2.7 in /usr/local/lib/python3.8/dist-packages (from matplotlib->plot_keras_history) (2.8.2)\n",
            "Requirement already satisfied: fonttools>=4.22.0 in /usr/local/lib/python3.8/dist-packages (from matplotlib->plot_keras_history) (4.38.0)\n",
            "Requirement already satisfied: packaging>=20.0 in /usr/local/lib/python3.8/dist-packages (from matplotlib->plot_keras_history) (23.0)\n",
            "Requirement already satisfied: numpy>=1.17 in /usr/local/lib/python3.8/dist-packages (from matplotlib->plot_keras_history) (1.22.4)\n",
            "Requirement already satisfied: cycler>=0.10 in /usr/local/lib/python3.8/dist-packages (from matplotlib->plot_keras_history) (0.11.0)\n",
            "Requirement already satisfied: kiwisolver>=1.0.1 in /usr/local/lib/python3.8/dist-packages (from matplotlib->plot_keras_history) (1.4.4)\n",
            "Requirement already satisfied: pillow>=6.2.0 in /usr/local/lib/python3.8/dist-packages (from matplotlib->plot_keras_history) (7.1.2)\n",
            "Requirement already satisfied: pytz>=2017.3 in /usr/local/lib/python3.8/dist-packages (from pandas->plot_keras_history) (2022.7.1)\n",
            "Requirement already satisfied: six>=1.5 in /usr/local/lib/python3.8/dist-packages (from python-dateutil>=2.7->matplotlib->plot_keras_history) (1.15.0)\n",
            "Building wheels for collected packages: plot_keras_history, sanitize_ml_labels, support_developer, compress_json\n",
            "  Building wheel for plot_keras_history (setup.py) ... \u001b[?25l\u001b[?25hdone\n",
            "  Created wheel for plot_keras_history: filename=plot_keras_history-1.1.38-py3-none-any.whl size=9472 sha256=9d2934fca155beee800792368b092854553bd2178e080edf79b257bc06ec14de\n",
            "  Stored in directory: /root/.cache/pip/wheels/97/a5/76/35ae3e15da1ce4530de8591b0bcd7716f6d6752a4808f01c04\n",
            "  Building wheel for sanitize_ml_labels (setup.py) ... \u001b[?25l\u001b[?25hdone\n",
            "  Created wheel for sanitize_ml_labels: filename=sanitize_ml_labels-1.0.50-py3-none-any.whl size=320514 sha256=e83c5c5be445b4afb231ed83efd73900e9486e6e0527a4065c14523b122fd5c8\n",
            "  Stored in directory: /root/.cache/pip/wheels/a3/5f/ba/ddd191edb6c749a63cffabd28714d5600b5b58014daf7434a8\n",
            "  Building wheel for support_developer (setup.py) ... \u001b[?25l\u001b[?25hdone\n",
            "  Created wheel for support_developer: filename=support_developer-1.0.5-py3-none-any.whl size=5650 sha256=d6a6b60cbdd5d219547a391e286adb35364362b9eec96483a1aac2af8dba28af\n",
            "  Stored in directory: /root/.cache/pip/wheels/11/5e/63/51e84640e77a7dc5f1e5f5eb597e8f1bc730a2818ee5c3fc03\n",
            "  Building wheel for compress_json (setup.py) ... \u001b[?25l\u001b[?25hdone\n",
            "  Created wheel for compress_json: filename=compress_json-1.0.8-py3-none-any.whl size=4733 sha256=552d7674fd792cdd3ad49c86aead8fb776065cffd73400bb266b961d03ea3077\n",
            "  Stored in directory: /root/.cache/pip/wheels/fe/36/4b/69aaa23fc0ea813dc1f8cca3372bff314abed354cac20a1cb9\n",
            "Successfully built plot_keras_history sanitize_ml_labels support_developer compress_json\n",
            "Installing collected packages: support_developer, compress_json, sanitize_ml_labels, plot_keras_history\n",
            "Successfully installed compress_json-1.0.8 plot_keras_history-1.1.38 sanitize_ml_labels-1.0.50 support_developer-1.0.5\n"
          ]
        }
      ]
    },
    {
      "cell_type": "code",
      "execution_count": null,
      "metadata": {
        "colab": {
          "base_uri": "https://localhost:8080/",
          "height": 597
        },
        "id": "Gdr6PJXQdHfW",
        "outputId": "cb0cd71f-949b-4886-aa2e-5d057ec5c7fe"
      },
      "outputs": [
        {
          "output_type": "execute_result",
          "data": {
            "text/plain": [
              "(<Figure size 1000x500 with 2 Axes>,\n",
              " array([<AxesSubplot:title={'center':'Loss'}, xlabel='Epochs', ylabel='Loss'>,\n",
              "        <AxesSubplot:title={'center':'Accuracy'}, xlabel='Epochs', ylabel='Accuracy'>],\n",
              "       dtype=object))"
            ]
          },
          "metadata": {},
          "execution_count": 12
        },
        {
          "output_type": "display_data",
          "data": {
            "text/plain": [
              "<Figure size 1000x500 with 2 Axes>"
            ],
            "image/png": "[encoded data removed]"
          },
          "metadata": {
            "needs_background": "light"
          }
        }
      ],
      "source": [
        "from plot_keras_history import show_history, plot_history\n",
        "plot_history(history)"
      ]
    },
    {
      "cell_type": "code",
      "execution_count": null,
      "metadata": {
        "id": "bmMtDYrAdJWV"
      },
      "outputs": [],
      "source": [
        "import matplotlib.pyplot as plt\n",
        "import itertools\n",
        "import numpy as np\n",
        "\n",
        "def plot_confusion_matrix(cm, classes,\n",
        "                        normalize=False,\n",
        "                        title='Confusion matrix',\n",
        "                        cmap=plt.cm.Blues):\n",
        "    \"\"\"\n",
        "    This function prints and plots the confusion matrix.\n",
        "    Normalization can be applied by setting `normalize=True`.\n",
        "    \"\"\"\n",
        "    plt.imshow(cm, interpolation='nearest', cmap=cmap)\n",
        "    plt.title(title)\n",
        "    plt.colorbar()\n",
        "    tick_marks = np.arange(len(classes))\n",
        "    plt.xticks(tick_marks, classes, rotation=45)\n",
        "    plt.yticks(tick_marks, classes)\n",
        "\n",
        "    if normalize:\n",
        "        cm = cm.astype('float') / cm.sum(axis=1)[:, np.newaxis]\n",
        "        print(\"Normalized confusion matrix\")\n",
        "    else:\n",
        "        print('Confusion matrix, without normalization')\n",
        "\n",
        "    print(cm)\n",
        "\n",
        "    thresh = cm.max() / 2.\n",
        "    for i, j in itertools.product(range(cm.shape[0]), range(cm.shape[1])):\n",
        "        plt.text(j, i, cm[i, j],\n",
        "            horizontalalignment=\"center\",\n",
        "            color=\"white\" if cm[i, j] > thresh else \"black\")\n",
        "\n",
        "    plt.tight_layout()\n",
        "    plt.ylabel('True label')\n",
        "    plt.xlabel('Predicted label')\n",
        "    plt.show()"
      ]
    },
    {
      "cell_type": "code",
      "execution_count": null,
      "metadata": {
        "colab": {
          "base_uri": "https://localhost:8080/",
          "height": 571
        },
        "id": "ZAKyIIiXdJ7H",
        "outputId": "14e08f15-d517-4a56-bc06-0ca9a14c11c6"
      },
      "outputs": [
        {
          "output_type": "stream",
          "name": "stdout",
          "text": [
            "Model Classification Report: \n",
            "\n",
            "66/66 [==============================] - 2s 5ms/step\n",
            "              precision    recall  f1-score   support\n",
            "\n",
            "           0       0.98      0.97      0.98      1049\n",
            "           1       0.97      0.98      0.98      1060\n",
            "\n",
            "    accuracy                           0.98      2109\n",
            "   macro avg       0.98      0.98      0.98      2109\n",
            "weighted avg       0.98      0.98      0.98      2109\n",
            "\n",
            "Confusion matrix, without normalization\n",
            "[[1020   29]\n",
            " [  23 1037]]\n"
          ]
        },
        {
          "output_type": "display_data",
          "data": {
            "text/plain": [
              "<Figure size 432x288 with 2 Axes>"
            ],
            "image/png": "[encoded data removed]"
          },
          "metadata": {
            "needs_background": "light"
          }
        }
      ],
      "source": [
        "print(\"Model Classification Report: \\n\")\n",
        "y_pred = np.argmax(model.predict(X_test), axis=1)\n",
        "cm = confusion_matrix(np.argmax(y_test, axis=1), y_pred)\n",
        "print(classification_report(np.argmax(y_test, axis=1), y_pred))\n",
        "plot_confusion_matrix(cm, classes=[\"Does not have Wake Word\", \"Has Wake Word\"])"
      ]
    },
    {
      "cell_type": "markdown",
      "source": [
        "##PREDICTION & LATENCY"
      ],
      "metadata": {
        "id": "TChiPFHyzoFE"
      }
    },
    {
      "cell_type": "code",
      "source": [
        "pip install spafe"
      ],
      "metadata": {
        "colab": {
          "base_uri": "https://localhost:8080/"
        },
        "id": "nUrUbguyzp6t",
        "outputId": "8e7f3c7c-64bf-4769-dd76-baf640fbe2e5"
      },
      "execution_count": null,
      "outputs": [
        {
          "output_type": "stream",
          "name": "stdout",
          "text": [
            "Looking in indexes: https://pypi.org/simple, https://us-python.pkg.dev/colab-wheels/public/simple/\n",
            "Collecting spafe\n",
            "  Downloading spafe-0.3.1-py3-none-any.whl (93 kB)\n",
            "\u001b[2K     \u001b[90m━━━━━━━━━━━━━━━━━━━━━━━━━━━━━━━━━━━━━━━━\u001b[0m \u001b[32m93.4/93.4 KB\u001b[0m \u001b[31m4.2 MB/s\u001b[0m eta \u001b[36m0:00:00\u001b[0m\n",
            "\u001b[?25hRequirement already satisfied: scipy>=1.7.3 in /usr/local/lib/python3.8/dist-packages (from spafe) (1.7.3)\n",
            "Requirement already satisfied: numpy>=1.21 in /usr/local/lib/python3.8/dist-packages (from spafe) (1.22.4)\n",
            "Requirement already satisfied: typing-extensions in /usr/local/lib/python3.8/dist-packages (from spafe) (4.5.0)\n",
            "Installing collected packages: spafe\n",
            "Successfully installed spafe-0.3.1\n"
          ]
        }
      ]
    },
    {
      "cell_type": "code",
      "source": [
        "import spafe\n",
        "from spafe.features.lfcc import lfcc\n",
        "import pywt"
      ],
      "metadata": {
        "id": "OlK6gTVdztvl"
      },
      "execution_count": null,
      "outputs": []
    },
    {
      "cell_type": "code",
      "source": [
        "def predict(audio):\n",
        "  audio_data, sr = librosa.load(audio)\n",
        "\n",
        "  wavelet = 'db4'\n",
        "  level = 4\n",
        "  coeffs = pywt.wavedec(audio_data, wavelet, level=level)\n",
        "  threshold = np.median(np.abs(coeffs[-level])) / 0.6745\n",
        "  for i in range(1, len(coeffs)):\n",
        "    coeffs[i] = pywt.threshold(coeffs[i], threshold)\n",
        "  denoised_audio = pywt.waverec(coeffs, wavelet)\n",
        "\n",
        "  lfccs  = lfcc(denoised_audio, fs = sr, num_ceps=13)\n",
        "  lfccs_processed = np.mean(lfccs.T, axis=0) # some pre-processing\n",
        "  lfccs_new = np.expand_dims(np.asarray(lfccs_processed), axis=0)\n",
        "  predictions = model.predict(lfccs_new)\n",
        "  return predictions"
      ],
      "metadata": {
        "id": "ihH7J-76zuIt"
      },
      "execution_count": null,
      "outputs": []
    },
    {
      "cell_type": "code",
      "source": [
        "audio_for_pred = \"/content/gdrive/MyDrive/Marvin/marvin (170).wav\"\n",
        "print(np.round(predict(audio_for_pred)))"
      ],
      "metadata": {
        "colab": {
          "base_uri": "https://localhost:8080/"
        },
        "id": "k_6_Y7ouz2vN",
        "outputId": "a6019647-cf3a-4109-b711-0a1504d7e076"
      },
      "execution_count": null,
      "outputs": [
        {
          "output_type": "stream",
          "name": "stdout",
          "text": [
            "1/1 [==============================] - 0s 40ms/step\n",
            "[[1. 0.]]\n"
          ]
        }
      ]
    },
    {
      "cell_type": "code",
      "source": [
        "audio_for_pred = \"/content/gdrive/MyDrive/False/yes (824).wav\"\n",
        "print(np.round(predict(audio_for_pred)))"
      ],
      "metadata": {
        "colab": {
          "base_uri": "https://localhost:8080/"
        },
        "id": "-YYUxpURz3D1",
        "outputId": "578aa1c1-29a3-4024-939c-d4c95c9cfda3"
      },
      "execution_count": null,
      "outputs": [
        {
          "output_type": "stream",
          "name": "stdout",
          "text": [
            "1/1 [==============================] - 0s 47ms/step\n",
            "[[1. 0.]]\n"
          ]
        }
      ]
    }
  ],
  "metadata": {
    "colab": {
      "provenance": []
    },
    "kernelspec": {
      "display_name": "Python 3 (ipykernel)",
      "language": "python",
      "name": "python3"
    },
    "language_info": {
      "codemirror_mode": {
        "name": "ipython",
        "version": 3
      },
      "file_extension": ".py",
      "mimetype": "text/x-python",
      "name": "python",
      "nbconvert_exporter": "python",
      "pygments_lexer": "ipython3",
      "version": "3.9.12"
    },
    "accelerator": "GPU",
    "gpuClass": "standard"
  },
  "nbformat": 4,
  "nbformat_minor": 0
}