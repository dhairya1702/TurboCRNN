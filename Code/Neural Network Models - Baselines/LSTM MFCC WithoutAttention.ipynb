{
  "nbformat": 4,
  "nbformat_minor": 0,
  "metadata": {
    "colab": {
      "provenance": []
    },
    "kernelspec": {
      "name": "python3",
      "display_name": "Python 3"
    },
    "language_info": {
      "name": "python"
    },
    "gpuClass": "standard",
    "accelerator": "GPU"
  },
  "cells": [
    {
      "cell_type": "code",
      "source": [
        "from google.colab import drive\n",
        "drive.mount('/content/gdrive')"
      ],
      "metadata": {
        "colab": {
          "base_uri": "https://localhost:8080/"
        },
        "id": "DiRYjvCfXvYV",
        "outputId": "117acbd8-54c8-4450-cf9a-0c1325162f88"
      },
      "execution_count": null,
      "outputs": [
        {
          "output_type": "stream",
          "name": "stdout",
          "text": [
            "Drive already mounted at /content/gdrive; to attempt to forcibly remount, call drive.mount(\"/content/gdrive\", force_remount=True).\n"
          ]
        }
      ]
    },
    {
      "cell_type": "code",
      "execution_count": null,
      "metadata": {
        "id": "oHtKbN9_WpcY"
      },
      "outputs": [],
      "source": [
        "import os\n",
        "import numpy as np\n",
        "import pandas as pd\n",
        "import matplotlib.pyplot as plt\n",
        "import librosa, librosa.display\n",
        "\n",
        "import tensorflow as tf \n",
        "from sklearn.model_selection import train_test_split"
      ]
    },
    {
      "cell_type": "code",
      "source": [
        "from tensorflow.keras import Sequential\n",
        "from tensorflow.keras.layers import Dense, Activation, Dropout, GRU, Input\n",
        "from sklearn.metrics import confusion_matrix, classification_report"
      ],
      "metadata": {
        "id": "tUXJVzoMXiia"
      },
      "execution_count": null,
      "outputs": []
    },
    {
      "cell_type": "code",
      "source": [
        "X_train = np.load('/content/gdrive/MyDrive/data/MFCC_Augmented2/X_train.npy')\n",
        "y_train = np.load('/content/gdrive/MyDrive/data/MFCC_Augmented2/y_train.npy')\n",
        "X_test = np.load('/content/gdrive/MyDrive/data/MFCC_Augmented2/X_test.npy')\n",
        "y_test = np.load('/content/gdrive/MyDrive/data/MFCC_Augmented2/y_test.npy')\n",
        "X_val = np.load('/content/gdrive/MyDrive/data/MFCC_Augmented2/X_val.npy')\n",
        "y_val = np.load('/content/gdrive/MyDrive/data/MFCC_Augmented2/y_val.npy')"
      ],
      "metadata": {
        "id": "ZAGD3-VSXjw2"
      },
      "execution_count": null,
      "outputs": []
    },
    {
      "cell_type": "code",
      "source": [
        "print(X_train.shape, y_train.shape)\n",
        "print(X_test.shape, y_test.shape)\n",
        "print(X_val.shape, y_val.shape)"
      ],
      "metadata": {
        "colab": {
          "base_uri": "https://localhost:8080/"
        },
        "id": "eIZ6_-qvXlSr",
        "outputId": "fce98b36-b23e-494e-c828-c3315da1ffb7"
      },
      "execution_count": null,
      "outputs": [
        {
          "output_type": "stream",
          "name": "stdout",
          "text": [
            "(16893, 98) (16893, 2)\n",
            "(2109, 98) (2109, 2)\n",
            "(2088, 98) (2088, 2)\n"
          ]
        }
      ]
    },
    {
      "cell_type": "code",
      "source": [
        "model = tf.keras.Sequential()\n",
        "\n",
        "model.add(tf.keras.layers.LSTM(128, return_sequences = False, input_shape = (98,1)))\n",
        "model.add(tf.keras.layers.Dense(64))\n",
        "model.add(tf.keras.layers.Dropout(0.5))\n",
        "model.add(tf.keras.layers.Activation('relu'))\n",
        "model.add(tf.keras.layers.Dense(32))\n",
        "model.add(tf.keras.layers.Dropout(0.5))\n",
        "model.add(tf.keras.layers.Activation('relu'))\n",
        "model.add(tf.keras.layers.Dense(2))\n",
        "model.add(tf.keras.layers.Activation('softmax'))\n",
        "print(model.summary())"
      ],
      "metadata": {
        "colab": {
          "base_uri": "https://localhost:8080/"
        },
        "id": "IUjZElgaXmme",
        "outputId": "0eb0f962-c994-4980-8eb1-48a71bb6caf0"
      },
      "execution_count": null,
      "outputs": [
        {
          "output_type": "stream",
          "name": "stdout",
          "text": [
            "Model: \"sequential\"\n",
            "_________________________________________________________________\n",
            " Layer (type)                Output Shape              Param #   \n",
            "=================================================================\n",
            " lstm (LSTM)                 (None, 128)               66560     \n",
            "                                                                 \n",
            " dense (Dense)               (None, 64)                8256      \n",
            "                                                                 \n",
            " dropout (Dropout)           (None, 64)                0         \n",
            "                                                                 \n",
            " activation (Activation)     (None, 64)                0         \n",
            "                                                                 \n",
            " dense_1 (Dense)             (None, 32)                2080      \n",
            "                                                                 \n",
            " dropout_1 (Dropout)         (None, 32)                0         \n",
            "                                                                 \n",
            " activation_1 (Activation)   (None, 32)                0         \n",
            "                                                                 \n",
            " dense_2 (Dense)             (None, 2)                 66        \n",
            "                                                                 \n",
            " activation_2 (Activation)   (None, 2)                 0         \n",
            "                                                                 \n",
            "=================================================================\n",
            "Total params: 76,962\n",
            "Trainable params: 76,962\n",
            "Non-trainable params: 0\n",
            "_________________________________________________________________\n",
            "None\n"
          ]
        }
      ]
    },
    {
      "cell_type": "code",
      "source": [
        "optimizer=tf.keras.optimizers.Adam(amsgrad=True, name='Adam')"
      ],
      "metadata": {
        "id": "VzFL7s9HYLsO"
      },
      "execution_count": null,
      "outputs": []
    },
    {
      "cell_type": "code",
      "source": [
        "model.compile(\n",
        "    loss=\"categorical_crossentropy\",\n",
        "    optimizer = optimizer,\n",
        "    metrics=['accuracy']\n",
        ")"
      ],
      "metadata": {
        "id": "E1zmFXnQYq4d"
      },
      "execution_count": null,
      "outputs": []
    },
    {
      "cell_type": "code",
      "source": [
        "print(\"Model Score: \\n\")\n",
        "history = model.fit(X_train, y_train, validation_data = (X_val, y_val), epochs = 120, shuffle = False)"
      ],
      "metadata": {
        "colab": {
          "base_uri": "https://localhost:8080/"
        },
        "id": "Qd-y_VIQYtxE",
        "outputId": "5fa23afb-b2ac-46e6-89ce-301231aa51e7"
      },
      "execution_count": null,
      "outputs": [
        {
          "output_type": "stream",
          "name": "stdout",
          "text": [
            "Model Score: \n",
            "\n",
            "Epoch 1/120\n",
            "528/528 [==============================] - 11s 12ms/step - loss: 0.6948 - accuracy: 0.5036 - val_loss: 0.6931 - val_accuracy: 0.4909\n",
            "Epoch 2/120\n",
            "528/528 [==============================] - 4s 8ms/step - loss: 0.6933 - accuracy: 0.5060 - val_loss: 0.6926 - val_accuracy: 0.4947\n",
            "Epoch 3/120\n",
            "528/528 [==============================] - 5s 10ms/step - loss: 0.6920 - accuracy: 0.5161 - val_loss: 0.6863 - val_accuracy: 0.5761\n",
            "Epoch 4/120\n",
            "528/528 [==============================] - 5s 9ms/step - loss: 0.6920 - accuracy: 0.5173 - val_loss: 0.6929 - val_accuracy: 0.5057\n",
            "Epoch 5/120\n",
            "528/528 [==============================] - 5s 10ms/step - loss: 0.6929 - accuracy: 0.5049 - val_loss: 0.6921 - val_accuracy: 0.5417\n",
            "Epoch 6/120\n",
            "528/528 [==============================] - 5s 9ms/step - loss: 0.6924 - accuracy: 0.5085 - val_loss: 0.6907 - val_accuracy: 0.5436\n",
            "Epoch 7/120\n",
            "528/528 [==============================] - 5s 9ms/step - loss: 0.6928 - accuracy: 0.5053 - val_loss: 0.6932 - val_accuracy: 0.4914\n",
            "Epoch 8/120\n",
            "528/528 [==============================] - 4s 8ms/step - loss: 0.6932 - accuracy: 0.5024 - val_loss: 0.6934 - val_accuracy: 0.4943\n",
            "Epoch 9/120\n",
            "528/528 [==============================] - 5s 9ms/step - loss: 0.6928 - accuracy: 0.5067 - val_loss: 0.6906 - val_accuracy: 0.5618\n",
            "Epoch 10/120\n",
            "528/528 [==============================] - 4s 8ms/step - loss: 0.6919 - accuracy: 0.5102 - val_loss: 0.6886 - val_accuracy: 0.5493\n",
            "Epoch 11/120\n",
            "528/528 [==============================] - 4s 8ms/step - loss: 0.6921 - accuracy: 0.5081 - val_loss: 0.6932 - val_accuracy: 0.5005\n",
            "Epoch 12/120\n",
            "528/528 [==============================] - 5s 9ms/step - loss: 0.6932 - accuracy: 0.5033 - val_loss: 0.6934 - val_accuracy: 0.4943\n",
            "Epoch 13/120\n",
            "528/528 [==============================] - 5s 9ms/step - loss: 0.6921 - accuracy: 0.5083 - val_loss: 0.6932 - val_accuracy: 0.4943\n",
            "Epoch 14/120\n",
            "528/528 [==============================] - 4s 8ms/step - loss: 0.6929 - accuracy: 0.5141 - val_loss: 0.6931 - val_accuracy: 0.5057\n",
            "Epoch 15/120\n",
            "528/528 [==============================] - 5s 9ms/step - loss: 0.6936 - accuracy: 0.4945 - val_loss: 0.6932 - val_accuracy: 0.4943\n",
            "Epoch 16/120\n",
            "528/528 [==============================] - 4s 8ms/step - loss: 0.6931 - accuracy: 0.5051 - val_loss: 0.6934 - val_accuracy: 0.4943\n",
            "Epoch 17/120\n",
            "528/528 [==============================] - 4s 8ms/step - loss: 0.6932 - accuracy: 0.5031 - val_loss: 0.6933 - val_accuracy: 0.4943\n",
            "Epoch 18/120\n",
            "528/528 [==============================] - 5s 9ms/step - loss: 0.6931 - accuracy: 0.5033 - val_loss: 0.6933 - val_accuracy: 0.4943\n",
            "Epoch 19/120\n",
            "528/528 [==============================] - 4s 8ms/step - loss: 0.6931 - accuracy: 0.5049 - val_loss: 0.6933 - val_accuracy: 0.4943\n",
            "Epoch 20/120\n",
            "528/528 [==============================] - 4s 8ms/step - loss: 0.6931 - accuracy: 0.5019 - val_loss: 0.6932 - val_accuracy: 0.4943\n",
            "Epoch 21/120\n",
            "528/528 [==============================] - 5s 9ms/step - loss: 0.6930 - accuracy: 0.5030 - val_loss: 0.6932 - val_accuracy: 0.4943\n",
            "Epoch 22/120\n",
            "528/528 [==============================] - 5s 9ms/step - loss: 0.6928 - accuracy: 0.5051 - val_loss: 0.6921 - val_accuracy: 0.4943\n",
            "Epoch 23/120\n",
            "528/528 [==============================] - 4s 8ms/step - loss: 0.6920 - accuracy: 0.5161 - val_loss: 0.6910 - val_accuracy: 0.5359\n",
            "Epoch 24/120\n",
            "528/528 [==============================] - 5s 9ms/step - loss: 0.6911 - accuracy: 0.5154 - val_loss: 0.6932 - val_accuracy: 0.4943\n",
            "Epoch 25/120\n",
            "528/528 [==============================] - 5s 9ms/step - loss: 0.6873 - accuracy: 0.5302 - val_loss: 0.6745 - val_accuracy: 0.5915\n",
            "Epoch 26/120\n",
            "528/528 [==============================] - 4s 8ms/step - loss: 0.6819 - accuracy: 0.5582 - val_loss: 0.6747 - val_accuracy: 0.5958\n",
            "Epoch 27/120\n",
            "528/528 [==============================] - 5s 10ms/step - loss: 0.6754 - accuracy: 0.5630 - val_loss: 0.6694 - val_accuracy: 0.5977\n",
            "Epoch 28/120\n",
            "528/528 [==============================] - 4s 8ms/step - loss: 0.6689 - accuracy: 0.5743 - val_loss: 0.6529 - val_accuracy: 0.6341\n",
            "Epoch 29/120\n",
            "528/528 [==============================] - 4s 8ms/step - loss: 0.6602 - accuracy: 0.5923 - val_loss: 0.6384 - val_accuracy: 0.6494\n",
            "Epoch 30/120\n",
            "528/528 [==============================] - 5s 10ms/step - loss: 0.6411 - accuracy: 0.6284 - val_loss: 0.6122 - val_accuracy: 0.6537\n",
            "Epoch 31/120\n",
            "528/528 [==============================] - 4s 8ms/step - loss: 0.6381 - accuracy: 0.6330 - val_loss: 0.6515 - val_accuracy: 0.6279\n",
            "Epoch 32/120\n",
            "528/528 [==============================] - 4s 8ms/step - loss: 0.6295 - accuracy: 0.6444 - val_loss: 0.6170 - val_accuracy: 0.6442\n",
            "Epoch 33/120\n",
            "528/528 [==============================] - 5s 10ms/step - loss: 0.6114 - accuracy: 0.6633 - val_loss: 0.5958 - val_accuracy: 0.6772\n",
            "Epoch 34/120\n",
            "528/528 [==============================] - 4s 8ms/step - loss: 0.5974 - accuracy: 0.6754 - val_loss: 0.5723 - val_accuracy: 0.7141\n",
            "Epoch 35/120\n",
            "528/528 [==============================] - 4s 8ms/step - loss: 0.5899 - accuracy: 0.6992 - val_loss: 0.5998 - val_accuracy: 0.6753\n",
            "Epoch 36/120\n",
            "528/528 [==============================] - 5s 10ms/step - loss: 0.5995 - accuracy: 0.6839 - val_loss: 0.5826 - val_accuracy: 0.6853\n",
            "Epoch 37/120\n",
            "528/528 [==============================] - 4s 8ms/step - loss: 0.5795 - accuracy: 0.6951 - val_loss: 0.5576 - val_accuracy: 0.7313\n",
            "Epoch 38/120\n",
            "528/528 [==============================] - 4s 8ms/step - loss: 0.5729 - accuracy: 0.7076 - val_loss: 0.5541 - val_accuracy: 0.7361\n",
            "Epoch 39/120\n",
            "528/528 [==============================] - 5s 10ms/step - loss: 0.5657 - accuracy: 0.7093 - val_loss: 0.5443 - val_accuracy: 0.7275\n",
            "Epoch 40/120\n",
            "528/528 [==============================] - 4s 8ms/step - loss: 0.5980 - accuracy: 0.6708 - val_loss: 0.5714 - val_accuracy: 0.6882\n",
            "Epoch 41/120\n",
            "528/528 [==============================] - 4s 8ms/step - loss: 0.5554 - accuracy: 0.7218 - val_loss: 0.5311 - val_accuracy: 0.7361\n",
            "Epoch 42/120\n",
            "528/528 [==============================] - 5s 10ms/step - loss: 0.5438 - accuracy: 0.7266 - val_loss: 0.5165 - val_accuracy: 0.7505\n",
            "Epoch 43/120\n",
            "528/528 [==============================] - 4s 8ms/step - loss: 0.5251 - accuracy: 0.7517 - val_loss: 0.5060 - val_accuracy: 0.7720\n",
            "Epoch 44/120\n",
            "528/528 [==============================] - 4s 8ms/step - loss: 0.5546 - accuracy: 0.7215 - val_loss: 0.6783 - val_accuracy: 0.5603\n",
            "Epoch 45/120\n",
            "528/528 [==============================] - 5s 10ms/step - loss: 0.5418 - accuracy: 0.7414 - val_loss: 0.5339 - val_accuracy: 0.7375\n",
            "Epoch 46/120\n",
            "528/528 [==============================] - 4s 8ms/step - loss: 0.5078 - accuracy: 0.7662 - val_loss: 0.4999 - val_accuracy: 0.7706\n",
            "Epoch 47/120\n",
            "528/528 [==============================] - 4s 8ms/step - loss: 0.5645 - accuracy: 0.7016 - val_loss: 0.5222 - val_accuracy: 0.7332\n",
            "Epoch 48/120\n",
            "528/528 [==============================] - 5s 10ms/step - loss: 0.5175 - accuracy: 0.7523 - val_loss: 0.4983 - val_accuracy: 0.7644\n",
            "Epoch 49/120\n",
            "528/528 [==============================] - 4s 8ms/step - loss: 0.5063 - accuracy: 0.7642 - val_loss: 0.5106 - val_accuracy: 0.7490\n",
            "Epoch 50/120\n",
            "528/528 [==============================] - 5s 9ms/step - loss: 0.4946 - accuracy: 0.7671 - val_loss: 0.4769 - val_accuracy: 0.7840\n",
            "Epoch 51/120\n",
            "528/528 [==============================] - 6s 12ms/step - loss: 0.4804 - accuracy: 0.7787 - val_loss: 0.4782 - val_accuracy: 0.7648\n",
            "Epoch 52/120\n",
            "528/528 [==============================] - 4s 8ms/step - loss: 0.4861 - accuracy: 0.7709 - val_loss: 0.4598 - val_accuracy: 0.7912\n",
            "Epoch 53/120\n",
            "528/528 [==============================] - 4s 8ms/step - loss: 0.4588 - accuracy: 0.7938 - val_loss: 0.4456 - val_accuracy: 0.7921\n",
            "Epoch 54/120\n",
            "528/528 [==============================] - 5s 10ms/step - loss: 0.4753 - accuracy: 0.7832 - val_loss: 0.4757 - val_accuracy: 0.7720\n",
            "Epoch 55/120\n",
            "528/528 [==============================] - 4s 8ms/step - loss: 0.4471 - accuracy: 0.7978 - val_loss: 0.4356 - val_accuracy: 0.8012\n",
            "Epoch 56/120\n",
            "528/528 [==============================] - 4s 8ms/step - loss: 0.4300 - accuracy: 0.8124 - val_loss: 0.4279 - val_accuracy: 0.7989\n",
            "Epoch 57/120\n",
            "528/528 [==============================] - 5s 10ms/step - loss: 0.4215 - accuracy: 0.8161 - val_loss: 0.4157 - val_accuracy: 0.8166\n",
            "Epoch 58/120\n",
            "528/528 [==============================] - 4s 8ms/step - loss: 0.4112 - accuracy: 0.8215 - val_loss: 0.3882 - val_accuracy: 0.8295\n",
            "Epoch 59/120\n",
            "528/528 [==============================] - 4s 8ms/step - loss: 0.4306 - accuracy: 0.8122 - val_loss: 0.4206 - val_accuracy: 0.8099\n",
            "Epoch 60/120\n",
            "528/528 [==============================] - 5s 10ms/step - loss: 0.4020 - accuracy: 0.8250 - val_loss: 0.3851 - val_accuracy: 0.8300\n",
            "Epoch 61/120\n",
            "528/528 [==============================] - 4s 8ms/step - loss: 0.3910 - accuracy: 0.8337 - val_loss: 0.3866 - val_accuracy: 0.8300\n",
            "Epoch 62/120\n",
            "528/528 [==============================] - 4s 8ms/step - loss: 0.3832 - accuracy: 0.8402 - val_loss: 0.3770 - val_accuracy: 0.8348\n",
            "Epoch 63/120\n",
            "528/528 [==============================] - 5s 10ms/step - loss: 0.3815 - accuracy: 0.8414 - val_loss: 0.4022 - val_accuracy: 0.8194\n",
            "Epoch 64/120\n",
            "528/528 [==============================] - 4s 8ms/step - loss: 0.3641 - accuracy: 0.8479 - val_loss: 0.3718 - val_accuracy: 0.8338\n",
            "Epoch 65/120\n",
            "528/528 [==============================] - 4s 8ms/step - loss: 0.3556 - accuracy: 0.8517 - val_loss: 0.4313 - val_accuracy: 0.7878\n",
            "Epoch 66/120\n",
            "528/528 [==============================] - 5s 10ms/step - loss: 0.3583 - accuracy: 0.8519 - val_loss: 0.4175 - val_accuracy: 0.7965\n",
            "Epoch 67/120\n",
            "528/528 [==============================] - 4s 8ms/step - loss: 0.3671 - accuracy: 0.8406 - val_loss: 0.3549 - val_accuracy: 0.8396\n",
            "Epoch 68/120\n",
            "528/528 [==============================] - 4s 8ms/step - loss: 0.3501 - accuracy: 0.8547 - val_loss: 0.3621 - val_accuracy: 0.8338\n",
            "Epoch 69/120\n",
            "528/528 [==============================] - 5s 10ms/step - loss: 0.3339 - accuracy: 0.8621 - val_loss: 0.3631 - val_accuracy: 0.8319\n",
            "Epoch 70/120\n",
            "528/528 [==============================] - 4s 8ms/step - loss: 0.3297 - accuracy: 0.8657 - val_loss: 0.3746 - val_accuracy: 0.8209\n",
            "Epoch 71/120\n",
            "528/528 [==============================] - 5s 9ms/step - loss: 0.3318 - accuracy: 0.8625 - val_loss: 0.3896 - val_accuracy: 0.8142\n",
            "Epoch 72/120\n",
            "528/528 [==============================] - 5s 9ms/step - loss: 0.3248 - accuracy: 0.8660 - val_loss: 0.3767 - val_accuracy: 0.8151\n",
            "Epoch 73/120\n",
            "528/528 [==============================] - 4s 8ms/step - loss: 0.3192 - accuracy: 0.8714 - val_loss: 0.3615 - val_accuracy: 0.8266\n",
            "Epoch 74/120\n",
            "528/528 [==============================] - 5s 9ms/step - loss: 0.3158 - accuracy: 0.8698 - val_loss: 0.3179 - val_accuracy: 0.8597\n",
            "Epoch 75/120\n",
            "528/528 [==============================] - 5s 9ms/step - loss: 0.3053 - accuracy: 0.8755 - val_loss: 0.3365 - val_accuracy: 0.8439\n",
            "Epoch 76/120\n",
            "528/528 [==============================] - 4s 8ms/step - loss: 0.3045 - accuracy: 0.8745 - val_loss: 0.3224 - val_accuracy: 0.8525\n",
            "Epoch 77/120\n",
            "528/528 [==============================] - 5s 9ms/step - loss: 0.3025 - accuracy: 0.8769 - val_loss: 0.3173 - val_accuracy: 0.8520\n",
            "Epoch 78/120\n",
            "528/528 [==============================] - 5s 9ms/step - loss: 0.2948 - accuracy: 0.8782 - val_loss: 0.3114 - val_accuracy: 0.8573\n",
            "Epoch 79/120\n",
            "528/528 [==============================] - 4s 8ms/step - loss: 0.3181 - accuracy: 0.8657 - val_loss: 0.3647 - val_accuracy: 0.8190\n",
            "Epoch 80/120\n",
            "528/528 [==============================] - 5s 9ms/step - loss: 0.3343 - accuracy: 0.8607 - val_loss: 0.3109 - val_accuracy: 0.8606\n",
            "Epoch 81/120\n",
            "528/528 [==============================] - 5s 9ms/step - loss: 0.3115 - accuracy: 0.8747 - val_loss: 0.2977 - val_accuracy: 0.8664\n",
            "Epoch 82/120\n",
            "528/528 [==============================] - 4s 8ms/step - loss: 0.3005 - accuracy: 0.8762 - val_loss: 0.3154 - val_accuracy: 0.8544\n",
            "Epoch 83/120\n",
            "528/528 [==============================] - 5s 10ms/step - loss: 0.2947 - accuracy: 0.8813 - val_loss: 0.3255 - val_accuracy: 0.8448\n",
            "Epoch 84/120\n",
            "528/528 [==============================] - 5s 9ms/step - loss: 0.2861 - accuracy: 0.8855 - val_loss: 0.3058 - val_accuracy: 0.8602\n",
            "Epoch 85/120\n",
            "528/528 [==============================] - 4s 8ms/step - loss: 0.2796 - accuracy: 0.8875 - val_loss: 0.3149 - val_accuracy: 0.8587\n",
            "Epoch 86/120\n",
            "528/528 [==============================] - 5s 9ms/step - loss: 0.2752 - accuracy: 0.8904 - val_loss: 0.3001 - val_accuracy: 0.8702\n",
            "Epoch 87/120\n",
            "528/528 [==============================] - 5s 9ms/step - loss: 0.2684 - accuracy: 0.8930 - val_loss: 0.3099 - val_accuracy: 0.8616\n",
            "Epoch 88/120\n",
            "528/528 [==============================] - 4s 8ms/step - loss: 0.2693 - accuracy: 0.8921 - val_loss: 0.3265 - val_accuracy: 0.8501\n",
            "Epoch 89/120\n",
            "528/528 [==============================] - 5s 10ms/step - loss: 0.2589 - accuracy: 0.8942 - val_loss: 0.2815 - val_accuracy: 0.8803\n",
            "Epoch 90/120\n",
            "528/528 [==============================] - 4s 8ms/step - loss: 0.2565 - accuracy: 0.8967 - val_loss: 0.3366 - val_accuracy: 0.8415\n",
            "Epoch 91/120\n",
            "528/528 [==============================] - 4s 8ms/step - loss: 0.2568 - accuracy: 0.8987 - val_loss: 0.2878 - val_accuracy: 0.8740\n",
            "Epoch 92/120\n",
            "528/528 [==============================] - 5s 10ms/step - loss: 0.2499 - accuracy: 0.9012 - val_loss: 0.2795 - val_accuracy: 0.8788\n",
            "Epoch 93/120\n",
            "528/528 [==============================] - 4s 8ms/step - loss: 0.2481 - accuracy: 0.9013 - val_loss: 0.2806 - val_accuracy: 0.8750\n",
            "Epoch 94/120\n",
            "528/528 [==============================] - 4s 8ms/step - loss: 0.2386 - accuracy: 0.9063 - val_loss: 0.2870 - val_accuracy: 0.8702\n",
            "Epoch 95/120\n",
            "528/528 [==============================] - 5s 10ms/step - loss: 0.2428 - accuracy: 0.9040 - val_loss: 0.3090 - val_accuracy: 0.8558\n",
            "Epoch 96/120\n",
            "528/528 [==============================] - 4s 8ms/step - loss: 0.2397 - accuracy: 0.9052 - val_loss: 0.2677 - val_accuracy: 0.8841\n",
            "Epoch 97/120\n",
            "528/528 [==============================] - 4s 8ms/step - loss: 0.2351 - accuracy: 0.9071 - val_loss: 0.2671 - val_accuracy: 0.8764\n",
            "Epoch 98/120\n",
            "528/528 [==============================] - 5s 10ms/step - loss: 0.2289 - accuracy: 0.9101 - val_loss: 0.2829 - val_accuracy: 0.8755\n",
            "Epoch 99/120\n",
            "528/528 [==============================] - 5s 10ms/step - loss: 0.2318 - accuracy: 0.9071 - val_loss: 0.2891 - val_accuracy: 0.8693\n",
            "Epoch 100/120\n",
            "528/528 [==============================] - 5s 9ms/step - loss: 0.2270 - accuracy: 0.9120 - val_loss: 0.2723 - val_accuracy: 0.8750\n",
            "Epoch 101/120\n",
            "528/528 [==============================] - 5s 9ms/step - loss: 0.2306 - accuracy: 0.9077 - val_loss: 0.2611 - val_accuracy: 0.8879\n",
            "Epoch 102/120\n",
            "528/528 [==============================] - 4s 8ms/step - loss: 0.2233 - accuracy: 0.9101 - val_loss: 0.2694 - val_accuracy: 0.8841\n",
            "Epoch 103/120\n",
            "528/528 [==============================] - 5s 10ms/step - loss: 0.2429 - accuracy: 0.9008 - val_loss: 0.2735 - val_accuracy: 0.8712\n",
            "Epoch 104/120\n",
            "528/528 [==============================] - 6s 11ms/step - loss: 0.2269 - accuracy: 0.9119 - val_loss: 0.2666 - val_accuracy: 0.8788\n",
            "Epoch 105/120\n",
            "528/528 [==============================] - 8s 15ms/step - loss: 0.2287 - accuracy: 0.9098 - val_loss: 0.2750 - val_accuracy: 0.8736\n",
            "Epoch 106/120\n",
            "528/528 [==============================] - 8s 15ms/step - loss: 0.2152 - accuracy: 0.9135 - val_loss: 0.2715 - val_accuracy: 0.8793\n",
            "Epoch 107/120\n",
            "528/528 [==============================] - 5s 9ms/step - loss: 0.2192 - accuracy: 0.9159 - val_loss: 0.2481 - val_accuracy: 0.8894\n",
            "Epoch 108/120\n",
            "528/528 [==============================] - 5s 9ms/step - loss: 0.2030 - accuracy: 0.9219 - val_loss: 0.2674 - val_accuracy: 0.8784\n",
            "Epoch 109/120\n",
            "528/528 [==============================] - 4s 8ms/step - loss: 0.2004 - accuracy: 0.9218 - val_loss: 0.2591 - val_accuracy: 0.8908\n",
            "Epoch 110/120\n",
            "528/528 [==============================] - 5s 9ms/step - loss: 0.2044 - accuracy: 0.9191 - val_loss: 0.2818 - val_accuracy: 0.8784\n",
            "Epoch 111/120\n",
            "528/528 [==============================] - 5s 9ms/step - loss: 0.2060 - accuracy: 0.9195 - val_loss: 0.2596 - val_accuracy: 0.8903\n",
            "Epoch 112/120\n",
            "528/528 [==============================] - 4s 8ms/step - loss: 0.1986 - accuracy: 0.9248 - val_loss: 0.2515 - val_accuracy: 0.8870\n",
            "Epoch 113/120\n",
            "528/528 [==============================] - 5s 10ms/step - loss: 0.2001 - accuracy: 0.9250 - val_loss: 0.2902 - val_accuracy: 0.8788\n",
            "Epoch 114/120\n",
            "528/528 [==============================] - 5s 9ms/step - loss: 0.1917 - accuracy: 0.9257 - val_loss: 0.2656 - val_accuracy: 0.8898\n",
            "Epoch 115/120\n",
            "528/528 [==============================] - 4s 8ms/step - loss: 0.2020 - accuracy: 0.9213 - val_loss: 0.2669 - val_accuracy: 0.8784\n",
            "Epoch 116/120\n",
            "528/528 [==============================] - 5s 10ms/step - loss: 0.1949 - accuracy: 0.9235 - val_loss: 0.2801 - val_accuracy: 0.8831\n",
            "Epoch 117/120\n",
            "528/528 [==============================] - 4s 8ms/step - loss: 0.1890 - accuracy: 0.9281 - val_loss: 0.2866 - val_accuracy: 0.8841\n",
            "Epoch 118/120\n",
            "528/528 [==============================] - 4s 8ms/step - loss: 0.1972 - accuracy: 0.9227 - val_loss: 0.2910 - val_accuracy: 0.8760\n",
            "Epoch 119/120\n",
            "528/528 [==============================] - 5s 10ms/step - loss: 0.1840 - accuracy: 0.9287 - val_loss: 0.2530 - val_accuracy: 0.8999\n",
            "Epoch 120/120\n",
            "528/528 [==============================] - 5s 9ms/step - loss: 0.1783 - accuracy: 0.9330 - val_loss: 0.2569 - val_accuracy: 0.8942\n"
          ]
        }
      ]
    },
    {
      "cell_type": "code",
      "source": [
        "# model.save(\"/content/gdrive/MyDrive/Models/RNN-LSTM-WithoutAttention.h5\")\n",
        "score = model.evaluate(X_test, y_test)\n",
        "print(score)"
      ],
      "metadata": {
        "colab": {
          "base_uri": "https://localhost:8080/"
        },
        "id": "0UTGlmyHaFG2",
        "outputId": "b4bad42a-84d3-45dd-cb39-edb55187344c"
      },
      "execution_count": null,
      "outputs": [
        {
          "output_type": "stream",
          "name": "stdout",
          "text": [
            "66/66 [==============================] - 0s 6ms/step - loss: 0.2226 - accuracy: 0.9075\n",
            "[0.22262027859687805, 0.9075391292572021]\n"
          ]
        }
      ]
    },
    {
      "cell_type": "code",
      "source": [
        "pip install plot_keras_history"
      ],
      "metadata": {
        "id": "JMLtUcDul9vl",
        "colab": {
          "base_uri": "https://localhost:8080/"
        },
        "outputId": "d5c0b964-c2af-4e66-deab-cf6e5fd1d62d"
      },
      "execution_count": null,
      "outputs": [
        {
          "output_type": "stream",
          "name": "stdout",
          "text": [
            "Looking in indexes: https://pypi.org/simple, https://us-python.pkg.dev/colab-wheels/public/simple/\n",
            "Collecting plot_keras_history\n",
            "  Downloading plot_keras_history-1.1.38.tar.gz (11 kB)\n",
            "  Preparing metadata (setup.py) ... \u001b[?25l\u001b[?25hdone\n",
            "Requirement already satisfied: matplotlib in /usr/local/lib/python3.8/dist-packages (from plot_keras_history) (3.5.3)\n",
            "Requirement already satisfied: pandas in /usr/local/lib/python3.8/dist-packages (from plot_keras_history) (1.3.5)\n",
            "Requirement already satisfied: scipy in /usr/local/lib/python3.8/dist-packages (from plot_keras_history) (1.7.3)\n",
            "Collecting support_developer>=1.0.2\n",
            "  Downloading support_developer-1.0.5.tar.gz (4.9 kB)\n",
            "  Preparing metadata (setup.py) ... \u001b[?25l\u001b[?25hdone\n",
            "Collecting sanitize_ml_labels>=1.0.48\n",
            "  Downloading sanitize_ml_labels-1.0.50.tar.gz (322 kB)\n",
            "\u001b[2K     \u001b[90m━━━━━━━━━━━━━━━━━━━━━━━━━━━━━━━━━━━━━━━\u001b[0m \u001b[32m322.1/322.1 KB\u001b[0m \u001b[31m8.2 MB/s\u001b[0m eta \u001b[36m0:00:00\u001b[0m\n",
            "\u001b[?25h  Preparing metadata (setup.py) ... \u001b[?25l\u001b[?25hdone\n",
            "Collecting compress_json\n",
            "  Downloading compress_json-1.0.8.tar.gz (4.7 kB)\n",
            "  Preparing metadata (setup.py) ... \u001b[?25l\u001b[?25hdone\n",
            "Requirement already satisfied: pillow>=6.2.0 in /usr/local/lib/python3.8/dist-packages (from matplotlib->plot_keras_history) (8.4.0)\n",
            "Requirement already satisfied: pyparsing>=2.2.1 in /usr/local/lib/python3.8/dist-packages (from matplotlib->plot_keras_history) (3.0.9)\n",
            "Requirement already satisfied: cycler>=0.10 in /usr/local/lib/python3.8/dist-packages (from matplotlib->plot_keras_history) (0.11.0)\n",
            "Requirement already satisfied: kiwisolver>=1.0.1 in /usr/local/lib/python3.8/dist-packages (from matplotlib->plot_keras_history) (1.4.4)\n",
            "Requirement already satisfied: packaging>=20.0 in /usr/local/lib/python3.8/dist-packages (from matplotlib->plot_keras_history) (23.0)\n",
            "Requirement already satisfied: numpy>=1.17 in /usr/local/lib/python3.8/dist-packages (from matplotlib->plot_keras_history) (1.22.4)\n",
            "Requirement already satisfied: python-dateutil>=2.7 in /usr/local/lib/python3.8/dist-packages (from matplotlib->plot_keras_history) (2.8.2)\n",
            "Requirement already satisfied: fonttools>=4.22.0 in /usr/local/lib/python3.8/dist-packages (from matplotlib->plot_keras_history) (4.38.0)\n",
            "Requirement already satisfied: pytz>=2017.3 in /usr/local/lib/python3.8/dist-packages (from pandas->plot_keras_history) (2022.7.1)\n",
            "Requirement already satisfied: six>=1.5 in /usr/local/lib/python3.8/dist-packages (from python-dateutil>=2.7->matplotlib->plot_keras_history) (1.15.0)\n",
            "Building wheels for collected packages: plot_keras_history, sanitize_ml_labels, support_developer, compress_json\n",
            "  Building wheel for plot_keras_history (setup.py) ... \u001b[?25l\u001b[?25hdone\n",
            "  Created wheel for plot_keras_history: filename=plot_keras_history-1.1.38-py3-none-any.whl size=9472 sha256=08f63e62550f0933e30f7f05d30300da70d1c0d43df82ffb0345b6b41d61481a\n",
            "  Stored in directory: /root/.cache/pip/wheels/97/a5/76/35ae3e15da1ce4530de8591b0bcd7716f6d6752a4808f01c04\n",
            "  Building wheel for sanitize_ml_labels (setup.py) ... \u001b[?25l\u001b[?25hdone\n",
            "  Created wheel for sanitize_ml_labels: filename=sanitize_ml_labels-1.0.50-py3-none-any.whl size=320514 sha256=fa87d96b421a8fbc96162d96fac729fe664b42da0342d684f9005f2d8ac90c3d\n",
            "  Stored in directory: /root/.cache/pip/wheels/a3/5f/ba/ddd191edb6c749a63cffabd28714d5600b5b58014daf7434a8\n",
            "  Building wheel for support_developer (setup.py) ... \u001b[?25l\u001b[?25hdone\n",
            "  Created wheel for support_developer: filename=support_developer-1.0.5-py3-none-any.whl size=5650 sha256=4e3bb8e6a32643b1fcfe4f95dcee6de6045ecd78bef120eb77b440d635f09b02\n",
            "  Stored in directory: /root/.cache/pip/wheels/11/5e/63/51e84640e77a7dc5f1e5f5eb597e8f1bc730a2818ee5c3fc03\n",
            "  Building wheel for compress_json (setup.py) ... \u001b[?25l\u001b[?25hdone\n",
            "  Created wheel for compress_json: filename=compress_json-1.0.8-py3-none-any.whl size=4733 sha256=e3ff59776e50c87093736eb01ef1e5f54b177d833a8ade9e3dc3c98a68b08ea0\n",
            "  Stored in directory: /root/.cache/pip/wheels/fe/36/4b/69aaa23fc0ea813dc1f8cca3372bff314abed354cac20a1cb9\n",
            "Successfully built plot_keras_history sanitize_ml_labels support_developer compress_json\n",
            "Installing collected packages: support_developer, compress_json, sanitize_ml_labels, plot_keras_history\n",
            "Successfully installed compress_json-1.0.8 plot_keras_history-1.1.38 sanitize_ml_labels-1.0.50 support_developer-1.0.5\n"
          ]
        }
      ]
    },
    {
      "cell_type": "code",
      "source": [
        "from plot_keras_history import show_history, plot_history\n",
        "plot_history(history)"
      ],
      "metadata": {
        "colab": {
          "base_uri": "https://localhost:8080/",
          "height": 597
        },
        "id": "2DoZc8CybUP_",
        "outputId": "6f1f7cc6-e08e-4e34-d198-545d826f583d"
      },
      "execution_count": null,
      "outputs": [
        {
          "output_type": "execute_result",
          "data": {
            "text/plain": [
              "(<Figure size 1000x500 with 2 Axes>,\n",
              " array([<AxesSubplot:title={'center':'Loss'}, xlabel='Epochs', ylabel='Loss'>,\n",
              "        <AxesSubplot:title={'center':'Accuracy'}, xlabel='Epochs', ylabel='Accuracy'>],\n",
              "       dtype=object))"
            ]
          },
          "metadata": {},
          "execution_count": 12
        },
        {
          "output_type": "display_data",
          "data": {
            "text/plain": [
              "<Figure size 1000x500 with 2 Axes>"
            ],
            "image/png": "[encoded data removed]"
          },
          "metadata": {
            "needs_background": "light"
          }
        }
      ]
    },
    {
      "cell_type": "code",
      "source": [
        "import matplotlib.pyplot as plt\n",
        "import itertools\n",
        "import numpy as np\n",
        "\n",
        "def plot_confusion_matrix(cm, classes,\n",
        "                        normalize=False,\n",
        "                        title='Confusion matrix',\n",
        "                        cmap=plt.cm.Blues):\n",
        "    \"\"\"\n",
        "    This function prints and plots the confusion matrix.\n",
        "    Normalization can be applied by setting `normalize=True`.\n",
        "    \"\"\"\n",
        "    plt.imshow(cm, interpolation='nearest', cmap=cmap)\n",
        "    plt.title(title)\n",
        "    plt.colorbar()\n",
        "    tick_marks = np.arange(len(classes))\n",
        "    plt.xticks(tick_marks, classes, rotation=45)\n",
        "    plt.yticks(tick_marks, classes)\n",
        "\n",
        "    if normalize:\n",
        "        cm = cm.astype('float') / cm.sum(axis=1)[:, np.newaxis]\n",
        "        print(\"Normalized confusion matrix\")\n",
        "    else:\n",
        "        print('Confusion matrix, without normalization')\n",
        "\n",
        "    print(cm)\n",
        "\n",
        "    thresh = cm.max() / 2.\n",
        "    for i, j in itertools.product(range(cm.shape[0]), range(cm.shape[1])):\n",
        "        plt.text(j, i, cm[i, j],\n",
        "            horizontalalignment=\"center\",\n",
        "            color=\"white\" if cm[i, j] > thresh else \"black\")\n",
        "\n",
        "    plt.tight_layout()\n",
        "    plt.ylabel('True label')\n",
        "    plt.xlabel('Predicted label')\n",
        "    plt.show()"
      ],
      "metadata": {
        "id": "J02LgWtGb30K"
      },
      "execution_count": null,
      "outputs": []
    },
    {
      "cell_type": "code",
      "source": [
        "print(\"Model Classification Report: \\n\")\n",
        "y_pred = np.argmax(model.predict(X_test), axis=1)\n",
        "cm = confusion_matrix(np.argmax(y_test, axis=1), y_pred)\n",
        "print(classification_report(np.argmax(y_test, axis=1), y_pred))\n",
        "plot_confusion_matrix(cm, classes=[\"Does not have Wake Word\", \"Has Wake Word\"])"
      ],
      "metadata": {
        "colab": {
          "base_uri": "https://localhost:8080/",
          "height": 571
        },
        "id": "iDoZ1XDIb6Kw",
        "outputId": "b701c098-5fb7-4898-80eb-48d09a628b23"
      },
      "execution_count": null,
      "outputs": [
        {
          "output_type": "stream",
          "name": "stdout",
          "text": [
            "Model Classification Report: \n",
            "\n",
            "66/66 [==============================] - 1s 5ms/step\n",
            "              precision    recall  f1-score   support\n",
            "\n",
            "           0       0.97      0.84      0.90      1049\n",
            "           1       0.86      0.97      0.91      1060\n",
            "\n",
            "    accuracy                           0.91      2109\n",
            "   macro avg       0.92      0.91      0.91      2109\n",
            "weighted avg       0.91      0.91      0.91      2109\n",
            "\n",
            "Confusion matrix, without normalization\n",
            "[[ 881  168]\n",
            " [  27 1033]]\n"
          ]
        },
        {
          "output_type": "display_data",
          "data": {
            "text/plain": [
              "<Figure size 432x288 with 2 Axes>"
            ],
            "image/png": "[encoded data removed]"
          },
          "metadata": {
            "needs_background": "light"
          }
        }
      ]
    },
    {
      "cell_type": "markdown",
      "source": [
        "##PREDICTION & LATENCY"
      ],
      "metadata": {
        "id": "UsQqG4L5PGrr"
      }
    },
    {
      "cell_type": "code",
      "source": [
        "pip install spafe"
      ],
      "metadata": {
        "colab": {
          "base_uri": "https://localhost:8080/"
        },
        "id": "CxWuHb4ySZIl",
        "outputId": "3249f4ee-0ede-4cca-d330-1f3cb9769d77"
      },
      "execution_count": null,
      "outputs": [
        {
          "output_type": "stream",
          "name": "stdout",
          "text": [
            "Looking in indexes: https://pypi.org/simple, https://us-python.pkg.dev/colab-wheels/public/simple/\n",
            "Collecting spafe\n",
            "  Downloading spafe-0.3.1-py3-none-any.whl (93 kB)\n",
            "\u001b[2K     \u001b[90m━━━━━━━━━━━━━━━━━━━━━━━━━━━━━━━━━━━━━━━━\u001b[0m \u001b[32m93.4/93.4 KB\u001b[0m \u001b[31m8.2 MB/s\u001b[0m eta \u001b[36m0:00:00\u001b[0m\n",
            "\u001b[?25hRequirement already satisfied: scipy>=1.7.3 in /usr/local/lib/python3.8/dist-packages (from spafe) (1.7.3)\n",
            "Requirement already satisfied: typing-extensions in /usr/local/lib/python3.8/dist-packages (from spafe) (4.5.0)\n",
            "Requirement already satisfied: numpy>=1.21 in /usr/local/lib/python3.8/dist-packages (from spafe) (1.22.4)\n",
            "Installing collected packages: spafe\n",
            "Successfully installed spafe-0.3.1\n"
          ]
        }
      ]
    },
    {
      "cell_type": "code",
      "source": [
        "import spafe\n",
        "from spafe.features.lfcc import lfcc\n",
        "import pywt"
      ],
      "metadata": {
        "id": "nq51dZpURltN"
      },
      "execution_count": null,
      "outputs": []
    },
    {
      "cell_type": "code",
      "source": [
        "def predict(audio):\n",
        "  audio_data, sr = librosa.load(audio)\n",
        "\n",
        "  wavelet = 'db4'\n",
        "  level = 4\n",
        "  coeffs = pywt.wavedec(audio_data, wavelet, level=level)\n",
        "  threshold = np.median(np.abs(coeffs[-level])) / 0.6745\n",
        "  for i in range(1, len(coeffs)):\n",
        "    coeffs[i] = pywt.threshold(coeffs[i], threshold)\n",
        "  denoised_audio = pywt.waverec(coeffs, wavelet)\n",
        "\n",
        "  lfccs  = lfcc(denoised_audio, fs = sr, num_ceps=13)\n",
        "  lfccs_processed = np.mean(lfccs.T, axis=0) # some pre-processing\n",
        "  lfccs_new = np.expand_dims(np.asarray(lfccs_processed), axis=0)\n",
        "  predictions = model.predict(lfccs_new)\n",
        "  return predictions"
      ],
      "metadata": {
        "id": "YW50WQdJQKjK"
      },
      "execution_count": null,
      "outputs": []
    },
    {
      "cell_type": "code",
      "source": [
        "audio_for_pred = \"/content/gdrive/MyDrive/Marvin/marvin (10).wav\"\n",
        "print(np.round(predict(audio_for_pred)))"
      ],
      "metadata": {
        "colab": {
          "base_uri": "https://localhost:8080/"
        },
        "id": "xtiRhQsfb_ar",
        "outputId": "3489d86b-34e8-4fc8-d490-1949adf46f0d"
      },
      "execution_count": null,
      "outputs": [
        {
          "output_type": "stream",
          "name": "stdout",
          "text": [
            "1/1 [==============================] - 0s 63ms/step\n",
            "[[0. 1.]]\n"
          ]
        }
      ]
    },
    {
      "cell_type": "code",
      "source": [
        "audio_for_pred = \"/content/gdrive/MyDrive/False/yes (824).wav\"\n",
        "print(np.round(predict(audio_for_pred)))"
      ],
      "metadata": {
        "colab": {
          "base_uri": "https://localhost:8080/"
        },
        "id": "nCDmKljHvaN5",
        "outputId": "a1a02d4b-2cfd-4dd9-8743-ad9a4b48cc7c"
      },
      "execution_count": null,
      "outputs": [
        {
          "output_type": "stream",
          "name": "stdout",
          "text": [
            "1/1 [==============================] - 0s 72ms/step\n",
            "[[1. 0.]]\n"
          ]
        }
      ]
    }
  ]
}