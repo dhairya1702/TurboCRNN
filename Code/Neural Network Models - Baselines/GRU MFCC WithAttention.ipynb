{
  "cells": [
    {
      "cell_type": "code",
      "source": [
        "from google.colab import drive\n",
        "drive.mount('/content/gdrive')"
      ],
      "metadata": {
        "colab": {
          "base_uri": "https://localhost:8080/"
        },
        "id": "BuQUGvmiLNno",
        "outputId": "c72cd461-3fc1-4c94-8c74-49a587705cb9"
      },
      "execution_count": null,
      "outputs": [
        {
          "output_type": "stream",
          "name": "stdout",
          "text": [
            "Mounted at /content/gdrive\n"
          ]
        }
      ]
    },
    {
      "cell_type": "code",
      "execution_count": null,
      "metadata": {
        "id": "9ws9myx8_tnv"
      },
      "outputs": [],
      "source": [
        "import os\n",
        "import numpy as np\n",
        "import pandas as pd\n",
        "import matplotlib.pyplot as plt\n",
        "import librosa, librosa.display\n",
        "\n",
        "import tensorflow as tf \n",
        "from sklearn.model_selection import train_test_split\n",
        "from tensorflow.keras.utils import to_categorical"
      ]
    },
    {
      "cell_type": "code",
      "execution_count": null,
      "metadata": {
        "id": "4DnfMk95XB0x"
      },
      "outputs": [],
      "source": [
        "from tensorflow.keras import Sequential\n",
        "from tensorflow.keras.layers import Dense, Activation, Dropout, GRU, Input, Conv1D, MaxPooling1D\n",
        "from sklearn.metrics import confusion_matrix, classification_report"
      ]
    },
    {
      "cell_type": "markdown",
      "metadata": {
        "id": "clMSLEuhxwmA"
      },
      "source": [
        "## DATALOADER"
      ]
    },
    {
      "cell_type": "code",
      "execution_count": null,
      "metadata": {
        "id": "dV2e4HA3kU43"
      },
      "outputs": [],
      "source": [
        "X_train = np.load('/content/gdrive/MyDrive/data/MFCC_Augmented2/X_train.npy')\n",
        "y_train = np.load('/content/gdrive/MyDrive/data/MFCC_Augmented2/y_train.npy')\n",
        "X_test = np.load('/content/gdrive/MyDrive/data/MFCC_Augmented2/X_test.npy')\n",
        "y_test = np.load('/content/gdrive/MyDrive/data/MFCC_Augmented2/y_test.npy')\n",
        "X_val = np.load('/content/gdrive/MyDrive/data/MFCC_Augmented2/X_val.npy')\n",
        "y_val = np.load('/content/gdrive/MyDrive/data/MFCC_Augmented2/y_val.npy')"
      ]
    },
    {
      "cell_type": "code",
      "execution_count": null,
      "metadata": {
        "id": "amLb4rN1Rpec",
        "outputId": "0df1d096-1d78-43bd-f327-61c9a299966e",
        "colab": {
          "base_uri": "https://localhost:8080/"
        }
      },
      "outputs": [
        {
          "output_type": "execute_result",
          "data": {
            "text/plain": [
              "(98,)"
            ]
          },
          "metadata": {},
          "execution_count": 5
        }
      ],
      "source": [
        "X_train[0].shape"
      ]
    },
    {
      "cell_type": "code",
      "execution_count": null,
      "metadata": {
        "colab": {
          "base_uri": "https://localhost:8080/"
        },
        "id": "SbDBZGeZMJZH",
        "outputId": "4d2f3e6a-72c1-4576-8cb6-00bee1b97b2f"
      },
      "outputs": [
        {
          "output_type": "stream",
          "name": "stdout",
          "text": [
            "(16893, 98) (16893, 2)\n",
            "(2109, 98) (2109, 2)\n",
            "(2088, 98) (2088, 2)\n"
          ]
        }
      ],
      "source": [
        "print(X_train.shape, y_train.shape)\n",
        "print(X_test.shape, y_test.shape)\n",
        "print(X_val.shape, y_val.shape)"
      ]
    },
    {
      "cell_type": "markdown",
      "metadata": {
        "id": "nQAq3SphxsG5"
      },
      "source": [
        "## CRNN - Review Later"
      ]
    },
    {
      "cell_type": "code",
      "execution_count": null,
      "metadata": {
        "colab": {
          "base_uri": "https://localhost:8080/"
        },
        "id": "lZOLG5W2_8N-",
        "outputId": "9ecd4951-34fa-4105-ef8a-8ef90032f04a"
      },
      "outputs": [
        {
          "output_type": "stream",
          "name": "stdout",
          "text": [
            "Model: \"model\"\n",
            "__________________________________________________________________________________________________\n",
            " Layer (type)                   Output Shape         Param #     Connected to                     \n",
            "==================================================================================================\n",
            " input_1 (InputLayer)           [(None, 98, 1)]      0           []                               \n",
            "                                                                                                  \n",
            " gru (GRU)                      (None, 128)          50304       ['input_1[0][0]']                \n",
            "                                                                                                  \n",
            " dense (Dense)                  (None, 128)          16512       ['gru[0][0]']                    \n",
            "                                                                                                  \n",
            " dense_1 (Dense)                (None, 128)          16512       ['gru[0][0]']                    \n",
            "                                                                                                  \n",
            " reshape (Reshape)              (None, 1, 128)       0           ['dense[0][0]']                  \n",
            "                                                                                                  \n",
            " reshape_1 (Reshape)            (None, 1, 128)       0           ['dense_1[0][0]']                \n",
            "                                                                                                  \n",
            " dot (Dot)                      (None, 1, 1)         0           ['reshape[0][0]',                \n",
            "                                                                  'reshape_1[0][0]']              \n",
            "                                                                                                  \n",
            " dense_2 (Dense)                (None, 128)          16512       ['gru[0][0]']                    \n",
            "                                                                                                  \n",
            " activation (Activation)        (None, 1, 1)         0           ['dot[0][0]']                    \n",
            "                                                                                                  \n",
            " reshape_2 (Reshape)            (None, 1, 128)       0           ['dense_2[0][0]']                \n",
            "                                                                                                  \n",
            " dot_1 (Dot)                    (None, 1, 128)       0           ['activation[0][0]',             \n",
            "                                                                  'reshape_2[0][0]']              \n",
            "                                                                                                  \n",
            " reshape_3 (Reshape)            (None, 128)          0           ['dot_1[0][0]']                  \n",
            "                                                                                                  \n",
            " dense_3 (Dense)                (None, 2)            258         ['reshape_3[0][0]']              \n",
            "                                                                                                  \n",
            "==================================================================================================\n",
            "Total params: 100,098\n",
            "Trainable params: 100,098\n",
            "Non-trainable params: 0\n",
            "__________________________________________________________________________________________________\n",
            "None\n"
          ]
        }
      ],
      "source": [
        "from keras.layers import Input, LSTM, GRU, Dense, Embedding, Conv1D, MaxPooling1D, Activation\n",
        "from keras.layers import Reshape, Softmax, Permute, Multiply, dot, concatenate\n",
        "from keras.layers import BatchNormalization\n",
        "from keras.models import Model\n",
        "\n",
        "inputs = Input(shape=(98,1))\n",
        "\n",
        "gru1 = GRU(128, return_sequences=False)(inputs)\n",
        "\n",
        "q = Dense(128)(gru1)\n",
        "k = Dense(128)(gru1)\n",
        "v = Dense(128)(gru1)\n",
        "\n",
        "q = Reshape((1, 128))(q)\n",
        "k = Reshape((1, 128))(k)\n",
        "v = Reshape((1, 128))(v)\n",
        "\n",
        "attention = dot([q, k], axes=[2, 2])\n",
        "attention = Activation('softmax')(attention)\n",
        "\n",
        "output = dot([attention, v], axes=[2, 1])\n",
        "output = Reshape((128,))(output)\n",
        "\n",
        "output = Dense(2, activation='softmax')(output)\n",
        "\n",
        "model = Model(inputs=inputs, outputs=output)\n",
        "model.compile(optimizer=tf.keras.optimizers.Adam(amsgrad=True), loss='categorical_crossentropy', metrics=['accuracy'])\n",
        "\n",
        "print(model.summary())"
      ]
    },
    {
      "cell_type": "code",
      "execution_count": null,
      "metadata": {
        "id": "MMzo894cYCug"
      },
      "outputs": [],
      "source": [
        "model.compile(\n",
        "    loss=\"categorical_crossentropy\",\n",
        "    optimizer=tf.keras.optimizers.Adam(amsgrad=True),\n",
        "    metrics=['accuracy']\n",
        ")"
      ]
    },
    {
      "cell_type": "code",
      "execution_count": null,
      "metadata": {
        "colab": {
          "base_uri": "https://localhost:8080/"
        },
        "id": "z0wENlqtbaxX",
        "outputId": "14249769-36b2-40f3-d390-b1c8b9ac9d3f"
      },
      "outputs": [
        {
          "output_type": "stream",
          "name": "stdout",
          "text": [
            "Epoch 1/120\n",
            "528/528 [==============================] - 16s 11ms/step - loss: 0.6929 - accuracy: 0.5260 - val_loss: 0.6659 - val_accuracy: 0.6006\n",
            "Epoch 2/120\n",
            "528/528 [==============================] - 4s 7ms/step - loss: 0.6054 - accuracy: 0.6598 - val_loss: 0.5311 - val_accuracy: 0.7256\n",
            "Epoch 3/120\n",
            "528/528 [==============================] - 4s 8ms/step - loss: 0.4538 - accuracy: 0.7928 - val_loss: 0.3787 - val_accuracy: 0.8238\n",
            "Epoch 4/120\n",
            "528/528 [==============================] - 5s 10ms/step - loss: 0.3538 - accuracy: 0.8428 - val_loss: 0.3223 - val_accuracy: 0.8525\n",
            "Epoch 5/120\n",
            "528/528 [==============================] - 4s 8ms/step - loss: 0.3105 - accuracy: 0.8666 - val_loss: 0.2999 - val_accuracy: 0.8673\n",
            "Epoch 6/120\n",
            "528/528 [==============================] - 5s 9ms/step - loss: 0.2951 - accuracy: 0.8731 - val_loss: 0.2784 - val_accuracy: 0.8755\n",
            "Epoch 7/120\n",
            "528/528 [==============================] - 5s 9ms/step - loss: 0.2798 - accuracy: 0.8817 - val_loss: 0.2717 - val_accuracy: 0.8774\n",
            "Epoch 8/120\n",
            "528/528 [==============================] - 4s 7ms/step - loss: 0.2684 - accuracy: 0.8853 - val_loss: 0.2667 - val_accuracy: 0.8831\n",
            "Epoch 9/120\n",
            "528/528 [==============================] - 4s 7ms/step - loss: 0.2594 - accuracy: 0.8894 - val_loss: 0.2642 - val_accuracy: 0.8817\n",
            "Epoch 10/120\n",
            "528/528 [==============================] - 5s 9ms/step - loss: 0.2486 - accuracy: 0.8946 - val_loss: 0.2630 - val_accuracy: 0.8784\n",
            "Epoch 11/120\n",
            "528/528 [==============================] - 4s 8ms/step - loss: 0.2401 - accuracy: 0.8980 - val_loss: 0.2641 - val_accuracy: 0.8750\n",
            "Epoch 12/120\n",
            "528/528 [==============================] - 4s 7ms/step - loss: 0.2319 - accuracy: 0.9019 - val_loss: 0.2636 - val_accuracy: 0.8784\n",
            "Epoch 13/120\n",
            "528/528 [==============================] - 5s 9ms/step - loss: 0.2240 - accuracy: 0.9060 - val_loss: 0.2582 - val_accuracy: 0.8889\n",
            "Epoch 14/120\n",
            "528/528 [==============================] - 4s 8ms/step - loss: 0.2174 - accuracy: 0.9099 - val_loss: 0.2499 - val_accuracy: 0.8889\n",
            "Epoch 15/120\n",
            "528/528 [==============================] - 4s 8ms/step - loss: 0.2085 - accuracy: 0.9137 - val_loss: 0.2444 - val_accuracy: 0.8946\n",
            "Epoch 16/120\n",
            "528/528 [==============================] - 5s 9ms/step - loss: 0.2040 - accuracy: 0.9153 - val_loss: 0.2402 - val_accuracy: 0.8980\n",
            "Epoch 17/120\n",
            "528/528 [==============================] - 4s 8ms/step - loss: 0.1950 - accuracy: 0.9201 - val_loss: 0.2341 - val_accuracy: 0.9061\n",
            "Epoch 18/120\n",
            "528/528 [==============================] - 4s 8ms/step - loss: 0.1894 - accuracy: 0.9238 - val_loss: 0.2372 - val_accuracy: 0.8961\n",
            "Epoch 19/120\n",
            "528/528 [==============================] - 5s 9ms/step - loss: 0.1797 - accuracy: 0.9258 - val_loss: 0.2313 - val_accuracy: 0.9004\n",
            "Epoch 20/120\n",
            "528/528 [==============================] - 4s 8ms/step - loss: 0.1777 - accuracy: 0.9298 - val_loss: 0.2246 - val_accuracy: 0.9066\n",
            "Epoch 21/120\n",
            "528/528 [==============================] - 4s 7ms/step - loss: 0.1695 - accuracy: 0.9308 - val_loss: 0.2291 - val_accuracy: 0.8951\n",
            "Epoch 22/120\n",
            "528/528 [==============================] - 4s 8ms/step - loss: 0.1639 - accuracy: 0.9331 - val_loss: 0.2515 - val_accuracy: 0.8922\n",
            "Epoch 23/120\n",
            "528/528 [==============================] - 5s 9ms/step - loss: 0.1572 - accuracy: 0.9377 - val_loss: 0.2298 - val_accuracy: 0.9013\n",
            "Epoch 24/120\n",
            "528/528 [==============================] - 4s 8ms/step - loss: 0.1539 - accuracy: 0.9406 - val_loss: 0.2377 - val_accuracy: 0.9013\n",
            "Epoch 25/120\n",
            "528/528 [==============================] - 4s 8ms/step - loss: 0.1505 - accuracy: 0.9399 - val_loss: 0.2295 - val_accuracy: 0.9061\n",
            "Epoch 26/120\n",
            "528/528 [==============================] - 5s 9ms/step - loss: 0.1424 - accuracy: 0.9430 - val_loss: 0.2149 - val_accuracy: 0.9157\n",
            "Epoch 27/120\n",
            "528/528 [==============================] - 4s 7ms/step - loss: 0.1400 - accuracy: 0.9454 - val_loss: 0.2258 - val_accuracy: 0.9186\n",
            "Epoch 28/120\n",
            "528/528 [==============================] - 4s 7ms/step - loss: 0.1317 - accuracy: 0.9477 - val_loss: 0.2240 - val_accuracy: 0.9186\n",
            "Epoch 29/120\n",
            "528/528 [==============================] - 5s 9ms/step - loss: 0.1262 - accuracy: 0.9502 - val_loss: 0.2279 - val_accuracy: 0.9157\n",
            "Epoch 30/120\n",
            "528/528 [==============================] - 4s 7ms/step - loss: 0.1210 - accuracy: 0.9521 - val_loss: 0.2189 - val_accuracy: 0.9162\n",
            "Epoch 31/120\n",
            "528/528 [==============================] - 4s 7ms/step - loss: 0.1271 - accuracy: 0.9513 - val_loss: 0.2334 - val_accuracy: 0.9171\n",
            "Epoch 32/120\n",
            "528/528 [==============================] - 5s 9ms/step - loss: 0.1208 - accuracy: 0.9545 - val_loss: 0.2140 - val_accuracy: 0.9239\n",
            "Epoch 33/120\n",
            "528/528 [==============================] - 4s 8ms/step - loss: 0.1111 - accuracy: 0.9570 - val_loss: 0.2324 - val_accuracy: 0.9057\n",
            "Epoch 34/120\n",
            "528/528 [==============================] - 4s 7ms/step - loss: 0.1041 - accuracy: 0.9605 - val_loss: 0.2296 - val_accuracy: 0.9234\n",
            "Epoch 35/120\n",
            "528/528 [==============================] - 5s 10ms/step - loss: 0.1016 - accuracy: 0.9604 - val_loss: 0.2495 - val_accuracy: 0.9138\n",
            "Epoch 36/120\n",
            "528/528 [==============================] - 4s 8ms/step - loss: 0.1065 - accuracy: 0.9580 - val_loss: 0.2285 - val_accuracy: 0.9210\n",
            "Epoch 37/120\n",
            "528/528 [==============================] - 4s 8ms/step - loss: 0.0941 - accuracy: 0.9629 - val_loss: 0.2340 - val_accuracy: 0.9239\n",
            "Epoch 38/120\n",
            "528/528 [==============================] - 5s 9ms/step - loss: 0.0981 - accuracy: 0.9608 - val_loss: 0.2322 - val_accuracy: 0.9267\n",
            "Epoch 39/120\n",
            "528/528 [==============================] - 4s 8ms/step - loss: 0.0841 - accuracy: 0.9695 - val_loss: 0.2273 - val_accuracy: 0.9353\n",
            "Epoch 40/120\n",
            "528/528 [==============================] - 4s 8ms/step - loss: 0.0915 - accuracy: 0.9647 - val_loss: 0.2446 - val_accuracy: 0.9267\n",
            "Epoch 41/120\n",
            "528/528 [==============================] - 5s 9ms/step - loss: 0.0812 - accuracy: 0.9698 - val_loss: 0.2401 - val_accuracy: 0.9320\n",
            "Epoch 42/120\n",
            "528/528 [==============================] - 4s 8ms/step - loss: 0.0838 - accuracy: 0.9683 - val_loss: 0.2373 - val_accuracy: 0.9306\n",
            "Epoch 43/120\n",
            "528/528 [==============================] - 4s 8ms/step - loss: 0.0797 - accuracy: 0.9693 - val_loss: 0.2407 - val_accuracy: 0.9334\n",
            "Epoch 44/120\n",
            "528/528 [==============================] - 4s 8ms/step - loss: 0.0852 - accuracy: 0.9691 - val_loss: 0.2307 - val_accuracy: 0.9353\n",
            "Epoch 45/120\n",
            "528/528 [==============================] - 5s 9ms/step - loss: 0.0810 - accuracy: 0.9688 - val_loss: 0.2316 - val_accuracy: 0.9382\n",
            "Epoch 46/120\n",
            "528/528 [==============================] - 4s 8ms/step - loss: 0.0727 - accuracy: 0.9733 - val_loss: 0.2402 - val_accuracy: 0.9363\n",
            "Epoch 47/120\n",
            "528/528 [==============================] - 5s 9ms/step - loss: 0.0583 - accuracy: 0.9785 - val_loss: 0.2539 - val_accuracy: 0.9301\n",
            "Epoch 48/120\n",
            "528/528 [==============================] - 5s 9ms/step - loss: 0.0660 - accuracy: 0.9748 - val_loss: 0.2620 - val_accuracy: 0.9334\n",
            "Epoch 49/120\n",
            "528/528 [==============================] - 4s 8ms/step - loss: 0.0616 - accuracy: 0.9772 - val_loss: 0.2474 - val_accuracy: 0.9330\n",
            "Epoch 50/120\n",
            "528/528 [==============================] - 5s 9ms/step - loss: 0.0645 - accuracy: 0.9751 - val_loss: 0.2555 - val_accuracy: 0.9253\n",
            "Epoch 51/120\n",
            "528/528 [==============================] - 5s 9ms/step - loss: 0.0671 - accuracy: 0.9757 - val_loss: 0.2508 - val_accuracy: 0.9339\n",
            "Epoch 52/120\n",
            "528/528 [==============================] - 4s 8ms/step - loss: 0.0535 - accuracy: 0.9796 - val_loss: 0.2561 - val_accuracy: 0.9353\n",
            "Epoch 53/120\n",
            "528/528 [==============================] - 4s 8ms/step - loss: 0.0571 - accuracy: 0.9787 - val_loss: 0.2379 - val_accuracy: 0.9310\n",
            "Epoch 54/120\n",
            "528/528 [==============================] - 5s 9ms/step - loss: 0.0627 - accuracy: 0.9766 - val_loss: 0.2322 - val_accuracy: 0.9449\n",
            "Epoch 55/120\n",
            "528/528 [==============================] - 4s 8ms/step - loss: 0.0486 - accuracy: 0.9815 - val_loss: 0.2606 - val_accuracy: 0.9392\n",
            "Epoch 56/120\n",
            "528/528 [==============================] - 4s 8ms/step - loss: 0.0409 - accuracy: 0.9853 - val_loss: 0.2978 - val_accuracy: 0.9339\n",
            "Epoch 57/120\n",
            "528/528 [==============================] - 5s 9ms/step - loss: 0.0483 - accuracy: 0.9834 - val_loss: 0.2766 - val_accuracy: 0.9339\n",
            "Epoch 58/120\n",
            "528/528 [==============================] - 4s 8ms/step - loss: 0.0444 - accuracy: 0.9836 - val_loss: 0.2722 - val_accuracy: 0.9368\n",
            "Epoch 59/120\n",
            "528/528 [==============================] - 4s 8ms/step - loss: 0.0675 - accuracy: 0.9755 - val_loss: 0.2477 - val_accuracy: 0.9358\n",
            "Epoch 60/120\n",
            "528/528 [==============================] - 5s 10ms/step - loss: 0.0432 - accuracy: 0.9848 - val_loss: 0.2594 - val_accuracy: 0.9382\n",
            "Epoch 61/120\n",
            "528/528 [==============================] - 4s 7ms/step - loss: 0.0514 - accuracy: 0.9808 - val_loss: 0.2624 - val_accuracy: 0.9382\n",
            "Epoch 62/120\n",
            "528/528 [==============================] - 4s 8ms/step - loss: 0.0575 - accuracy: 0.9792 - val_loss: 0.2575 - val_accuracy: 0.9358\n",
            "Epoch 63/120\n",
            "528/528 [==============================] - 5s 9ms/step - loss: 0.0365 - accuracy: 0.9866 - val_loss: 0.3208 - val_accuracy: 0.9363\n",
            "Epoch 64/120\n",
            "528/528 [==============================] - 4s 8ms/step - loss: 0.0501 - accuracy: 0.9822 - val_loss: 0.2968 - val_accuracy: 0.9397\n",
            "Epoch 65/120\n",
            "528/528 [==============================] - 4s 8ms/step - loss: 0.0386 - accuracy: 0.9861 - val_loss: 0.2932 - val_accuracy: 0.9267\n",
            "Epoch 66/120\n",
            "528/528 [==============================] - 5s 10ms/step - loss: 0.0447 - accuracy: 0.9830 - val_loss: 0.2787 - val_accuracy: 0.9416\n",
            "Epoch 67/120\n",
            "528/528 [==============================] - 4s 8ms/step - loss: 0.0221 - accuracy: 0.9918 - val_loss: 0.3098 - val_accuracy: 0.9339\n",
            "Epoch 68/120\n",
            "528/528 [==============================] - 4s 8ms/step - loss: 0.0328 - accuracy: 0.9883 - val_loss: 0.2889 - val_accuracy: 0.9373\n",
            "Epoch 69/120\n",
            "528/528 [==============================] - 5s 10ms/step - loss: 0.0293 - accuracy: 0.9892 - val_loss: 0.3045 - val_accuracy: 0.9420\n",
            "Epoch 70/120\n",
            "528/528 [==============================] - 4s 8ms/step - loss: 0.0328 - accuracy: 0.9883 - val_loss: 0.3121 - val_accuracy: 0.9315\n",
            "Epoch 71/120\n",
            "528/528 [==============================] - 4s 8ms/step - loss: 0.0398 - accuracy: 0.9864 - val_loss: 0.3206 - val_accuracy: 0.9349\n",
            "Epoch 72/120\n",
            "528/528 [==============================] - 5s 9ms/step - loss: 0.0238 - accuracy: 0.9918 - val_loss: 0.3163 - val_accuracy: 0.9334\n",
            "Epoch 73/120\n",
            "528/528 [==============================] - 4s 8ms/step - loss: 0.0337 - accuracy: 0.9895 - val_loss: 0.3283 - val_accuracy: 0.9315\n",
            "Epoch 74/120\n",
            "528/528 [==============================] - 4s 8ms/step - loss: 0.0343 - accuracy: 0.9876 - val_loss: 0.3119 - val_accuracy: 0.9330\n",
            "Epoch 75/120\n",
            "528/528 [==============================] - 5s 9ms/step - loss: 0.0337 - accuracy: 0.9872 - val_loss: 0.3035 - val_accuracy: 0.9363\n",
            "Epoch 76/120\n",
            "528/528 [==============================] - 4s 8ms/step - loss: 0.0234 - accuracy: 0.9925 - val_loss: 0.3362 - val_accuracy: 0.9401\n",
            "Epoch 77/120\n",
            "528/528 [==============================] - 4s 8ms/step - loss: 0.0237 - accuracy: 0.9910 - val_loss: 0.3784 - val_accuracy: 0.9291\n",
            "Epoch 78/120\n",
            "528/528 [==============================] - 4s 8ms/step - loss: 0.0387 - accuracy: 0.9868 - val_loss: 0.3407 - val_accuracy: 0.9262\n",
            "Epoch 79/120\n",
            "528/528 [==============================] - 5s 9ms/step - loss: 0.0336 - accuracy: 0.9885 - val_loss: 0.3109 - val_accuracy: 0.9435\n",
            "Epoch 80/120\n",
            "528/528 [==============================] - 4s 8ms/step - loss: 0.0116 - accuracy: 0.9964 - val_loss: 0.3814 - val_accuracy: 0.9397\n",
            "Epoch 81/120\n",
            "528/528 [==============================] - 4s 8ms/step - loss: 0.0466 - accuracy: 0.9848 - val_loss: 0.3086 - val_accuracy: 0.9382\n",
            "Epoch 82/120\n",
            "528/528 [==============================] - 5s 9ms/step - loss: 0.0146 - accuracy: 0.9951 - val_loss: 0.3839 - val_accuracy: 0.9387\n",
            "Epoch 83/120\n",
            "528/528 [==============================] - 4s 8ms/step - loss: 0.0278 - accuracy: 0.9905 - val_loss: 0.3288 - val_accuracy: 0.9425\n",
            "Epoch 84/120\n",
            "528/528 [==============================] - 4s 8ms/step - loss: 0.0501 - accuracy: 0.9827 - val_loss: 0.2452 - val_accuracy: 0.9349\n",
            "Epoch 85/120\n",
            "528/528 [==============================] - 5s 10ms/step - loss: 0.0203 - accuracy: 0.9931 - val_loss: 0.3072 - val_accuracy: 0.9430\n",
            "Epoch 86/120\n",
            "528/528 [==============================] - 4s 8ms/step - loss: 0.0188 - accuracy: 0.9931 - val_loss: 0.3411 - val_accuracy: 0.9411\n",
            "Epoch 87/120\n",
            "528/528 [==============================] - 4s 8ms/step - loss: 0.0251 - accuracy: 0.9913 - val_loss: 0.3461 - val_accuracy: 0.9368\n",
            "Epoch 88/120\n",
            "528/528 [==============================] - 5s 10ms/step - loss: 0.0117 - accuracy: 0.9966 - val_loss: 0.4189 - val_accuracy: 0.9291\n",
            "Epoch 89/120\n",
            "528/528 [==============================] - 4s 8ms/step - loss: 0.0253 - accuracy: 0.9922 - val_loss: 0.3527 - val_accuracy: 0.9416\n",
            "Epoch 90/120\n",
            "528/528 [==============================] - 4s 8ms/step - loss: 0.0135 - accuracy: 0.9959 - val_loss: 0.3743 - val_accuracy: 0.9401\n",
            "Epoch 91/120\n",
            "528/528 [==============================] - 5s 10ms/step - loss: 0.0362 - accuracy: 0.9888 - val_loss: 0.3130 - val_accuracy: 0.9334\n",
            "Epoch 92/120\n",
            "528/528 [==============================] - 4s 8ms/step - loss: 0.0149 - accuracy: 0.9952 - val_loss: 0.3614 - val_accuracy: 0.9387\n",
            "Epoch 93/120\n",
            "528/528 [==============================] - 4s 8ms/step - loss: 0.0158 - accuracy: 0.9950 - val_loss: 0.3765 - val_accuracy: 0.9301\n",
            "Epoch 94/120\n",
            "528/528 [==============================] - 5s 10ms/step - loss: 0.0269 - accuracy: 0.9907 - val_loss: 0.3274 - val_accuracy: 0.9353\n",
            "Epoch 95/120\n",
            "528/528 [==============================] - 4s 8ms/step - loss: 0.0166 - accuracy: 0.9943 - val_loss: 0.3628 - val_accuracy: 0.9435\n",
            "Epoch 96/120\n",
            "528/528 [==============================] - 4s 8ms/step - loss: 0.0186 - accuracy: 0.9938 - val_loss: 0.3630 - val_accuracy: 0.9306\n",
            "Epoch 97/120\n",
            "528/528 [==============================] - 5s 10ms/step - loss: 0.0239 - accuracy: 0.9920 - val_loss: 0.3637 - val_accuracy: 0.9401\n",
            "Epoch 98/120\n",
            "528/528 [==============================] - 4s 8ms/step - loss: 0.0112 - accuracy: 0.9959 - val_loss: 0.3841 - val_accuracy: 0.9382\n",
            "Epoch 99/120\n",
            "528/528 [==============================] - 4s 8ms/step - loss: 0.0136 - accuracy: 0.9953 - val_loss: 0.4247 - val_accuracy: 0.9224\n",
            "Epoch 100/120\n",
            "528/528 [==============================] - 5s 10ms/step - loss: 0.0224 - accuracy: 0.9929 - val_loss: 0.3650 - val_accuracy: 0.9320\n",
            "Epoch 101/120\n",
            "528/528 [==============================] - 4s 8ms/step - loss: 0.0060 - accuracy: 0.9986 - val_loss: 0.4405 - val_accuracy: 0.9387\n",
            "Epoch 102/120\n",
            "528/528 [==============================] - 4s 8ms/step - loss: 0.0273 - accuracy: 0.9917 - val_loss: 0.3274 - val_accuracy: 0.9392\n",
            "Epoch 103/120\n",
            "528/528 [==============================] - 5s 9ms/step - loss: 0.0109 - accuracy: 0.9967 - val_loss: 0.3877 - val_accuracy: 0.9368\n",
            "Epoch 104/120\n",
            "528/528 [==============================] - 4s 8ms/step - loss: 0.0145 - accuracy: 0.9957 - val_loss: 0.4154 - val_accuracy: 0.9406\n",
            "Epoch 105/120\n",
            "528/528 [==============================] - 4s 8ms/step - loss: 0.0335 - accuracy: 0.9907 - val_loss: 0.3067 - val_accuracy: 0.9401\n",
            "Epoch 106/120\n",
            "528/528 [==============================] - 5s 9ms/step - loss: 0.0171 - accuracy: 0.9951 - val_loss: 0.3248 - val_accuracy: 0.9430\n",
            "Epoch 107/120\n",
            "528/528 [==============================] - 4s 8ms/step - loss: 0.0051 - accuracy: 0.9986 - val_loss: 0.3682 - val_accuracy: 0.9401\n",
            "Epoch 108/120\n",
            "528/528 [==============================] - 4s 8ms/step - loss: 0.0119 - accuracy: 0.9962 - val_loss: 0.3713 - val_accuracy: 0.9382\n",
            "Epoch 109/120\n",
            "528/528 [==============================] - 5s 9ms/step - loss: 0.0045 - accuracy: 0.9989 - val_loss: 0.3945 - val_accuracy: 0.9459\n",
            "Epoch 110/120\n",
            "528/528 [==============================] - 4s 8ms/step - loss: 0.0024 - accuracy: 0.9995 - val_loss: 0.4455 - val_accuracy: 0.9392\n",
            "Epoch 111/120\n",
            "528/528 [==============================] - 4s 8ms/step - loss: 0.0279 - accuracy: 0.9909 - val_loss: 0.3662 - val_accuracy: 0.9373\n",
            "Epoch 112/120\n",
            "528/528 [==============================] - 5s 9ms/step - loss: 0.0226 - accuracy: 0.9923 - val_loss: 0.3887 - val_accuracy: 0.9320\n",
            "Epoch 113/120\n",
            "528/528 [==============================] - 5s 9ms/step - loss: 0.0076 - accuracy: 0.9978 - val_loss: 0.4130 - val_accuracy: 0.9430\n",
            "Epoch 114/120\n",
            "528/528 [==============================] - 4s 8ms/step - loss: 0.0099 - accuracy: 0.9971 - val_loss: 0.4099 - val_accuracy: 0.9425\n",
            "Epoch 115/120\n",
            "528/528 [==============================] - 5s 9ms/step - loss: 0.0059 - accuracy: 0.9979 - val_loss: 0.4412 - val_accuracy: 0.9334\n",
            "Epoch 116/120\n",
            "528/528 [==============================] - 5s 9ms/step - loss: 0.0217 - accuracy: 0.9927 - val_loss: 0.4133 - val_accuracy: 0.9377\n",
            "Epoch 117/120\n",
            "528/528 [==============================] - 4s 8ms/step - loss: 0.0102 - accuracy: 0.9965 - val_loss: 0.3944 - val_accuracy: 0.9435\n",
            "Epoch 118/120\n",
            "528/528 [==============================] - 5s 9ms/step - loss: 0.0101 - accuracy: 0.9971 - val_loss: 0.4541 - val_accuracy: 0.9301\n",
            "Epoch 119/120\n",
            "528/528 [==============================] - 5s 9ms/step - loss: 0.0108 - accuracy: 0.9960 - val_loss: 0.4443 - val_accuracy: 0.9392\n",
            "Epoch 120/120\n",
            "528/528 [==============================] - 4s 8ms/step - loss: 0.0257 - accuracy: 0.9916 - val_loss: 0.3309 - val_accuracy: 0.9464\n"
          ]
        }
      ],
      "source": [
        "history = model.fit(X_train, y_train, validation_data = (X_val, y_val), epochs = 120, shuffle = False)"
      ]
    },
    {
      "cell_type": "code",
      "execution_count": null,
      "metadata": {
        "colab": {
          "base_uri": "https://localhost:8080/"
        },
        "id": "ZLvb8wJ9dEte",
        "outputId": "e1159ca4-26dc-4dbc-bd7b-0c651bbec1d9"
      },
      "outputs": [
        {
          "output_type": "stream",
          "name": "stdout",
          "text": [
            "Model Score: \n",
            "\n",
            "66/66 [==============================] - 1s 7ms/step - loss: 0.2753 - accuracy: 0.9545\n",
            "[0.2753034830093384, 0.954480767250061]\n"
          ]
        }
      ],
      "source": [
        "print(\"Model Score: \\n\")\n",
        "score = model.evaluate(X_test, y_test)\n",
        "print(score)\n",
        "model.save(\"GRU-Multihead-Augmented.h5\")"
      ]
    },
    {
      "cell_type": "markdown",
      "metadata": {
        "id": "Mdqi43CCdGVd"
      },
      "source": [
        "##METRICS"
      ]
    },
    {
      "cell_type": "code",
      "source": [
        "pip install plot_keras_history"
      ],
      "metadata": {
        "colab": {
          "base_uri": "https://localhost:8080/"
        },
        "id": "gi0CclWQfDHf",
        "outputId": "dc36e8c6-4950-4188-cb41-1d62ce2a680d"
      },
      "execution_count": null,
      "outputs": [
        {
          "output_type": "stream",
          "name": "stdout",
          "text": [
            "Looking in indexes: https://pypi.org/simple, https://us-python.pkg.dev/colab-wheels/public/simple/\n",
            "Collecting plot_keras_history\n",
            "  Downloading plot_keras_history-1.1.38.tar.gz (11 kB)\n",
            "  Preparing metadata (setup.py) ... \u001b[?25l\u001b[?25hdone\n",
            "Requirement already satisfied: matplotlib in /usr/local/lib/python3.8/dist-packages (from plot_keras_history) (3.2.2)\n",
            "Requirement already satisfied: pandas in /usr/local/lib/python3.8/dist-packages (from plot_keras_history) (1.3.5)\n",
            "Requirement already satisfied: scipy in /usr/local/lib/python3.8/dist-packages (from plot_keras_history) (1.7.3)\n",
            "Collecting support_developer>=1.0.2\n",
            "  Downloading support_developer-1.0.5.tar.gz (4.9 kB)\n",
            "  Preparing metadata (setup.py) ... \u001b[?25l\u001b[?25hdone\n",
            "Collecting sanitize_ml_labels>=1.0.48\n",
            "  Downloading sanitize_ml_labels-1.0.50.tar.gz (322 kB)\n",
            "\u001b[2K     \u001b[90m━━━━━━━━━━━━━━━━━━━━━━━━━━━━━━━━━━━━━━━\u001b[0m \u001b[32m322.1/322.1 KB\u001b[0m \u001b[31m9.2 MB/s\u001b[0m eta \u001b[36m0:00:00\u001b[0m\n",
            "\u001b[?25h  Preparing metadata (setup.py) ... \u001b[?25l\u001b[?25hdone\n",
            "Collecting compress_json\n",
            "  Downloading compress_json-1.0.8.tar.gz (4.7 kB)\n",
            "  Preparing metadata (setup.py) ... \u001b[?25l\u001b[?25hdone\n",
            "Requirement already satisfied: cycler>=0.10 in /usr/local/lib/python3.8/dist-packages (from matplotlib->plot_keras_history) (0.11.0)\n",
            "Requirement already satisfied: kiwisolver>=1.0.1 in /usr/local/lib/python3.8/dist-packages (from matplotlib->plot_keras_history) (1.4.4)\n",
            "Requirement already satisfied: numpy>=1.11 in /usr/local/lib/python3.8/dist-packages (from matplotlib->plot_keras_history) (1.21.6)\n",
            "Requirement already satisfied: pyparsing!=2.0.4,!=2.1.2,!=2.1.6,>=2.0.1 in /usr/local/lib/python3.8/dist-packages (from matplotlib->plot_keras_history) (3.0.9)\n",
            "Requirement already satisfied: python-dateutil>=2.1 in /usr/local/lib/python3.8/dist-packages (from matplotlib->plot_keras_history) (2.8.2)\n",
            "Requirement already satisfied: pytz>=2017.3 in /usr/local/lib/python3.8/dist-packages (from pandas->plot_keras_history) (2022.7.1)\n",
            "Requirement already satisfied: six>=1.5 in /usr/local/lib/python3.8/dist-packages (from python-dateutil>=2.1->matplotlib->plot_keras_history) (1.15.0)\n",
            "Building wheels for collected packages: plot_keras_history, sanitize_ml_labels, support_developer, compress_json\n",
            "  Building wheel for plot_keras_history (setup.py) ... \u001b[?25l\u001b[?25hdone\n",
            "  Created wheel for plot_keras_history: filename=plot_keras_history-1.1.38-py3-none-any.whl size=9472 sha256=e68386fc68075a1faa6862301c54b784adf7169b4d6930e0e2a0659b8e43a1cd\n",
            "  Stored in directory: /root/.cache/pip/wheels/97/a5/76/35ae3e15da1ce4530de8591b0bcd7716f6d6752a4808f01c04\n",
            "  Building wheel for sanitize_ml_labels (setup.py) ... \u001b[?25l\u001b[?25hdone\n",
            "  Created wheel for sanitize_ml_labels: filename=sanitize_ml_labels-1.0.50-py3-none-any.whl size=320514 sha256=0dc2b3a2fdf0ce1525b00d8021dc5e59f7a896dbeef9636741598084c33282d0\n",
            "  Stored in directory: /root/.cache/pip/wheels/a3/5f/ba/ddd191edb6c749a63cffabd28714d5600b5b58014daf7434a8\n",
            "  Building wheel for support_developer (setup.py) ... \u001b[?25l\u001b[?25hdone\n",
            "  Created wheel for support_developer: filename=support_developer-1.0.5-py3-none-any.whl size=5650 sha256=a29c880be8071e849e799c7aa71140d5bda8cafa7ded118d9ecb22e85cddd77b\n",
            "  Stored in directory: /root/.cache/pip/wheels/11/5e/63/51e84640e77a7dc5f1e5f5eb597e8f1bc730a2818ee5c3fc03\n",
            "  Building wheel for compress_json (setup.py) ... \u001b[?25l\u001b[?25hdone\n",
            "  Created wheel for compress_json: filename=compress_json-1.0.8-py3-none-any.whl size=4733 sha256=9161cbc87a570ea023f9899a56b2746ae76108d6d803e39b819d68fcb6997376\n",
            "  Stored in directory: /root/.cache/pip/wheels/fe/36/4b/69aaa23fc0ea813dc1f8cca3372bff314abed354cac20a1cb9\n",
            "Successfully built plot_keras_history sanitize_ml_labels support_developer compress_json\n",
            "Installing collected packages: support_developer, compress_json, sanitize_ml_labels, plot_keras_history\n",
            "Successfully installed compress_json-1.0.8 plot_keras_history-1.1.38 sanitize_ml_labels-1.0.50 support_developer-1.0.5\n"
          ]
        }
      ]
    },
    {
      "cell_type": "code",
      "execution_count": null,
      "metadata": {
        "colab": {
          "base_uri": "https://localhost:8080/",
          "height": 597
        },
        "id": "Gdr6PJXQdHfW",
        "outputId": "7e08506c-7cde-473f-8b17-4bf62493e641"
      },
      "outputs": [
        {
          "output_type": "execute_result",
          "data": {
            "text/plain": [
              "(<Figure size 1000x500 with 2 Axes>,\n",
              " array([<matplotlib.axes._subplots.AxesSubplot object at 0x7fb08159b3d0>,\n",
              "        <matplotlib.axes._subplots.AxesSubplot object at 0x7fb08156b610>],\n",
              "       dtype=object))"
            ]
          },
          "metadata": {},
          "execution_count": 22
        },
        {
          "output_type": "display_data",
          "data": {
            "text/plain": [
              "<Figure size 1000x500 with 2 Axes>"
            ],
            "image/png": "[encoded data removed]"
          },
          "metadata": {
            "needs_background": "light"
          }
        }
      ],
      "source": [
        "from plot_keras_history import show_history, plot_history\n",
        "plot_history(history)"
      ]
    },
    {
      "cell_type": "code",
      "execution_count": null,
      "metadata": {
        "id": "bmMtDYrAdJWV"
      },
      "outputs": [],
      "source": [
        "import matplotlib.pyplot as plt\n",
        "import itertools\n",
        "import numpy as np\n",
        "\n",
        "def plot_confusion_matrix(cm, classes,\n",
        "                        normalize=False,\n",
        "                        title='Confusion matrix',\n",
        "                        cmap=plt.cm.Blues):\n",
        "    \"\"\"\n",
        "    This function prints and plots the confusion matrix.\n",
        "    Normalization can be applied by setting `normalize=True`.\n",
        "    \"\"\"\n",
        "    plt.imshow(cm, interpolation='nearest', cmap=cmap)\n",
        "    plt.title(title)\n",
        "    plt.colorbar()\n",
        "    tick_marks = np.arange(len(classes))\n",
        "    plt.xticks(tick_marks, classes, rotation=45)\n",
        "    plt.yticks(tick_marks, classes)\n",
        "\n",
        "    if normalize:\n",
        "        cm = cm.astype('float') / cm.sum(axis=1)[:, np.newaxis]\n",
        "        print(\"Normalized confusion matrix\")\n",
        "    else:\n",
        "        print('Confusion matrix, without normalization')\n",
        "\n",
        "    print(cm)\n",
        "\n",
        "    thresh = cm.max() / 2.\n",
        "    for i, j in itertools.product(range(cm.shape[0]), range(cm.shape[1])):\n",
        "        plt.text(j, i, cm[i, j],\n",
        "            horizontalalignment=\"center\",\n",
        "            color=\"white\" if cm[i, j] > thresh else \"black\")\n",
        "\n",
        "    plt.tight_layout()\n",
        "    plt.ylabel('True label')\n",
        "    plt.xlabel('Predicted label')\n",
        "    plt.show()"
      ]
    },
    {
      "cell_type": "code",
      "execution_count": null,
      "metadata": {
        "colab": {
          "base_uri": "https://localhost:8080/",
          "height": 571
        },
        "id": "ZAKyIIiXdJ7H",
        "outputId": "3f12623e-cabf-4777-cb32-ec9e5bdede28"
      },
      "outputs": [
        {
          "output_type": "stream",
          "name": "stdout",
          "text": [
            "Model Classification Report: \n",
            "\n",
            "66/66 [==============================] - 1s 4ms/step\n",
            "              precision    recall  f1-score   support\n",
            "\n",
            "           0       0.98      0.98      0.98      1049\n",
            "           1       0.98      0.98      0.98      1060\n",
            "\n",
            "    accuracy                           0.98      2109\n",
            "   macro avg       0.98      0.98      0.98      2109\n",
            "weighted avg       0.98      0.98      0.98      2109\n",
            "\n",
            "Confusion matrix, without normalization\n",
            "[[1028   21]\n",
            " [  19 1041]]\n"
          ]
        },
        {
          "output_type": "display_data",
          "data": {
            "text/plain": [
              "<Figure size 432x288 with 2 Axes>"
            ],
            "image/png": "[encoded data removed]"
          },
          "metadata": {
            "needs_background": "light"
          }
        }
      ],
      "source": [
        "print(\"Model Classification Report: \\n\")\n",
        "y_pred = np.argmax(model.predict(X_test), axis=1)\n",
        "cm = confusion_matrix(np.argmax(y_test, axis=1), y_pred)\n",
        "print(classification_report(np.argmax(y_test, axis=1), y_pred))\n",
        "plot_confusion_matrix(cm, classes=[\"Does not have Wake Word\", \"Has Wake Word\"])"
      ]
    }
  ],
  "metadata": {
    "colab": {
      "provenance": []
    },
    "kernelspec": {
      "display_name": "Python 3 (ipykernel)",
      "language": "python",
      "name": "python3"
    },
    "language_info": {
      "codemirror_mode": {
        "name": "ipython",
        "version": 3
      },
      "file_extension": ".py",
      "mimetype": "text/x-python",
      "name": "python",
      "nbconvert_exporter": "python",
      "pygments_lexer": "ipython3",
      "version": "3.9.12"
    },
    "gpuClass": "standard",
    "accelerator": "GPU"
  },
  "nbformat": 4,
  "nbformat_minor": 0
}