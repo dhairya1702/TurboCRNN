{
  "nbformat": 4,
  "nbformat_minor": 0,
  "metadata": {
    "colab": {
      "provenance": []
    },
    "kernelspec": {
      "name": "python3",
      "display_name": "Python 3"
    },
    "language_info": {
      "name": "python"
    },
    "accelerator": "GPU",
    "gpuClass": "standard"
  },
  "cells": [
    {
      "cell_type": "code",
      "execution_count": null,
      "metadata": {
        "colab": {
          "base_uri": "https://localhost:8080/"
        },
        "id": "SANNUYcJSP0l",
        "outputId": "d9c0db89-9036-4bfb-a18e-32930385a8ac"
      },
      "outputs": [
        {
          "output_type": "stream",
          "name": "stdout",
          "text": [
            "Mounted at /content/gdrive\n"
          ]
        }
      ],
      "source": [
        "from google.colab import drive\n",
        "drive.mount('/content/gdrive')"
      ]
    },
    {
      "cell_type": "code",
      "source": [
        "import os\n",
        "import numpy as np\n",
        "import pandas as pd\n",
        "import matplotlib.pyplot as plt\n",
        "import librosa, librosa.display\n",
        "\n",
        "import tensorflow as tf \n",
        "from sklearn.model_selection import train_test_split\n",
        "from tensorflow.keras import Sequential\n",
        "from tensorflow.keras.layers import Dense, Activation, Dropout, GRU, Input\n",
        "from sklearn.metrics import confusion_matrix, classification_report"
      ],
      "metadata": {
        "id": "eLL0gmwaSZ8q"
      },
      "execution_count": null,
      "outputs": []
    },
    {
      "cell_type": "code",
      "source": [
        "X_train = np.load('/content/gdrive/MyDrive/Colab Notebooks/FYP/WaveletTransformDenoised/X_train.npy')\n",
        "y_train = np.load('/content/gdrive/MyDrive/Colab Notebooks/FYP/WaveletTransformDenoised/y_train.npy')\n",
        "X_test = np.load('/content/gdrive/MyDrive/Colab Notebooks/FYP/WaveletTransformDenoised/X_test.npy')\n",
        "y_test = np.load('/content/gdrive/MyDrive/Colab Notebooks/FYP/WaveletTransformDenoised/y_test.npy')\n",
        "X_val = np.load('/content/gdrive/MyDrive/Colab Notebooks/FYP/WaveletTransformDenoised/X_val.npy')\n",
        "y_val = np.load('/content/gdrive/MyDrive/Colab Notebooks/FYP/WaveletTransformDenoised/y_val.npy')"
      ],
      "metadata": {
        "id": "0Kq84or6Sfqz"
      },
      "execution_count": null,
      "outputs": []
    },
    {
      "cell_type": "code",
      "source": [
        "print(X_train.shape, y_train.shape)\n",
        "print(X_test.shape, y_test.shape)\n",
        "print(X_val.shape, y_val.shape)"
      ],
      "metadata": {
        "colab": {
          "base_uri": "https://localhost:8080/"
        },
        "id": "yT10o_10ShvM",
        "outputId": "eb9908db-a6fe-4cb8-9584-8cfa77fda040"
      },
      "execution_count": null,
      "outputs": [
        {
          "output_type": "stream",
          "name": "stdout",
          "text": [
            "(16893, 98) (16893, 2)\n",
            "(2109, 98) (2109, 2)\n",
            "(2088, 98) (2088, 2)\n"
          ]
        }
      ]
    },
    {
      "cell_type": "code",
      "source": [
        "from keras.layers import Input, LSTM, GRU, Dense, Embedding, Conv1D, MaxPooling1D, Activation\n",
        "from keras.layers import Reshape, Softmax, Permute, Multiply, dot, concatenate\n",
        "from keras.layers import BatchNormalization\n",
        "from keras.models import Model\n",
        "from keras.regularizers import l2\n",
        "import keras.backend as K\n",
        "\n",
        "inputs = Input(shape=(98,1))\n",
        "conv1 = Conv1D(32, 5, activation='relu')(inputs)\n",
        "pool1 = MaxPooling1D(2)(conv1)\n",
        "conv2 = Conv1D(64, 5, activation='relu')(pool1)\n",
        "pool2 = MaxPooling1D(2)(conv2)\n",
        "conv3 = Conv1D(32, 5, activation='relu')(pool2)\n",
        "pool3 = MaxPooling1D(2)(conv3)\n",
        "\n",
        "gru1 = GRU(128)(pool3)\n",
        "reshaped = Reshape((-1, K.int_shape(pool3)[-1]))(gru1)\n",
        "permuted = Permute((2, 1))(reshaped)\n",
        "gru2 = GRU(64)(permuted)\n",
        "\n",
        "q = Dense(128)(gru2)\n",
        "k = Dense(128)(gru2)\n",
        "v = Dense(128)(gru2)\n",
        "\n",
        "q = Reshape((1, 128))(q)\n",
        "k = Reshape((1, 128))(k)\n",
        "v = Reshape((1, 128))(v)\n",
        "\n",
        "attention = dot([q, k], axes=[2, 2])\n",
        "attention = Activation('softmax')(attention)\n",
        "\n",
        "output = dot([attention, v], axes=[2, 1])\n",
        "output = Reshape((128,))(output)\n",
        "\n",
        "dense1 = Dense(32, activation='softmax')(output)\n",
        "dense1 = BatchNormalization()(dense1)\n",
        "dense1 = Dropout(0.3)(dense1)\n",
        "\n",
        "output = Dense(2, activation='softmax')(dense1)\n",
        "\n",
        "model = Model(inputs=inputs, outputs=output)\n",
        "\n",
        "print(model.summary())"
      ],
      "metadata": {
        "colab": {
          "base_uri": "https://localhost:8080/"
        },
        "id": "VTbs6Ji1Skoi",
        "outputId": "e20eda3e-e418-4177-eb9a-da97148f7897"
      },
      "execution_count": null,
      "outputs": [
        {
          "output_type": "stream",
          "name": "stdout",
          "text": [
            "Model: \"model_9\"\n",
            "__________________________________________________________________________________________________\n",
            " Layer (type)                   Output Shape         Param #     Connected to                     \n",
            "==================================================================================================\n",
            " input_13 (InputLayer)          [(None, 98, 1)]      0           []                               \n",
            "                                                                                                  \n",
            " conv1d_36 (Conv1D)             (None, 94, 32)       192         ['input_13[0][0]']               \n",
            "                                                                                                  \n",
            " max_pooling1d_36 (MaxPooling1D  (None, 47, 32)      0           ['conv1d_36[0][0]']              \n",
            " )                                                                                                \n",
            "                                                                                                  \n",
            " conv1d_37 (Conv1D)             (None, 43, 64)       10304       ['max_pooling1d_36[0][0]']       \n",
            "                                                                                                  \n",
            " max_pooling1d_37 (MaxPooling1D  (None, 21, 64)      0           ['conv1d_37[0][0]']              \n",
            " )                                                                                                \n",
            "                                                                                                  \n",
            " conv1d_38 (Conv1D)             (None, 17, 32)       10272       ['max_pooling1d_37[0][0]']       \n",
            "                                                                                                  \n",
            " max_pooling1d_38 (MaxPooling1D  (None, 8, 32)       0           ['conv1d_38[0][0]']              \n",
            " )                                                                                                \n",
            "                                                                                                  \n",
            " gru_23 (GRU)                   (None, 128)          62208       ['max_pooling1d_38[0][0]']       \n",
            "                                                                                                  \n",
            " reshape_44 (Reshape)           (None, 4, 32)        0           ['gru_23[0][0]']                 \n",
            "                                                                                                  \n",
            " permute_8 (Permute)            (None, 32, 4)        0           ['reshape_44[0][0]']             \n",
            "                                                                                                  \n",
            " gru_24 (GRU)                   (None, 64)           13440       ['permute_8[0][0]']              \n",
            "                                                                                                  \n",
            " dense_45 (Dense)               (None, 128)          8320        ['gru_24[0][0]']                 \n",
            "                                                                                                  \n",
            " dense_46 (Dense)               (None, 128)          8320        ['gru_24[0][0]']                 \n",
            "                                                                                                  \n",
            " reshape_45 (Reshape)           (None, 1, 128)       0           ['dense_45[0][0]']               \n",
            "                                                                                                  \n",
            " reshape_46 (Reshape)           (None, 1, 128)       0           ['dense_46[0][0]']               \n",
            "                                                                                                  \n",
            " dot_18 (Dot)                   (None, 1, 1)         0           ['reshape_45[0][0]',             \n",
            "                                                                  'reshape_46[0][0]']             \n",
            "                                                                                                  \n",
            " dense_47 (Dense)               (None, 128)          8320        ['gru_24[0][0]']                 \n",
            "                                                                                                  \n",
            " activation_9 (Activation)      (None, 1, 1)         0           ['dot_18[0][0]']                 \n",
            "                                                                                                  \n",
            " reshape_47 (Reshape)           (None, 1, 128)       0           ['dense_47[0][0]']               \n",
            "                                                                                                  \n",
            " dot_19 (Dot)                   (None, 1, 128)       0           ['activation_9[0][0]',           \n",
            "                                                                  'reshape_47[0][0]']             \n",
            "                                                                                                  \n",
            " reshape_48 (Reshape)           (None, 128)          0           ['dot_19[0][0]']                 \n",
            "                                                                                                  \n",
            " dense_48 (Dense)               (None, 32)           4128        ['reshape_48[0][0]']             \n",
            "                                                                                                  \n",
            " batch_normalization_1 (BatchNo  (None, 32)          128         ['dense_48[0][0]']               \n",
            " rmalization)                                                                                     \n",
            "                                                                                                  \n",
            " dropout_9 (Dropout)            (None, 32)           0           ['batch_normalization_1[0][0]']  \n",
            "                                                                                                  \n",
            " dense_49 (Dense)               (None, 2)            66          ['dropout_9[0][0]']              \n",
            "                                                                                                  \n",
            "==================================================================================================\n",
            "Total params: 125,698\n",
            "Trainable params: 125,634\n",
            "Non-trainable params: 64\n",
            "__________________________________________________________________________________________________\n",
            "None\n"
          ]
        }
      ]
    },
    {
      "cell_type": "code",
      "source": [
        "model.compile(\n",
        "    loss=\"categorical_crossentropy\",\n",
        "    optimizer=tf.keras.optimizers.Adam(amsgrad=True),\n",
        "    metrics=['accuracy']\n",
        ")"
      ],
      "metadata": {
        "id": "-yIJqsWiSm1-"
      },
      "execution_count": null,
      "outputs": []
    },
    {
      "cell_type": "code",
      "source": [
        "print(\"Model Score: \\n\")\n",
        "history = model.fit(X_train, y_train, validation_data = (X_val, y_val), epochs = 120)"
      ],
      "metadata": {
        "colab": {
          "base_uri": "https://localhost:8080/"
        },
        "id": "UMUPkLZ5htNZ",
        "outputId": "d6341338-4cee-4c07-cbf2-d9f839004d1e"
      },
      "execution_count": null,
      "outputs": [
        {
          "output_type": "stream",
          "name": "stdout",
          "text": [
            "Model Score: \n",
            "\n",
            "Epoch 1/120\n",
            "528/528 [==============================] - 14s 15ms/step - loss: 0.3577 - accuracy: 0.8472 - val_loss: 0.6030 - val_accuracy: 0.6830\n",
            "Epoch 2/120\n",
            "528/528 [==============================] - 5s 10ms/step - loss: 0.2164 - accuracy: 0.9193 - val_loss: 0.3572 - val_accuracy: 0.8520\n",
            "Epoch 3/120\n",
            "528/528 [==============================] - 6s 12ms/step - loss: 0.1869 - accuracy: 0.9311 - val_loss: 0.3261 - val_accuracy: 0.8683\n",
            "Epoch 4/120\n",
            "528/528 [==============================] - 5s 10ms/step - loss: 0.1698 - accuracy: 0.9367 - val_loss: 0.1970 - val_accuracy: 0.9363\n",
            "Epoch 5/120\n",
            "528/528 [==============================] - 6s 11ms/step - loss: 0.1578 - accuracy: 0.9432 - val_loss: 0.2576 - val_accuracy: 0.8966\n",
            "Epoch 6/120\n",
            "528/528 [==============================] - 6s 11ms/step - loss: 0.1504 - accuracy: 0.9458 - val_loss: 0.5830 - val_accuracy: 0.8099\n",
            "Epoch 7/120\n",
            "528/528 [==============================] - 5s 10ms/step - loss: 0.1370 - accuracy: 0.9505 - val_loss: 0.1491 - val_accuracy: 0.9473\n",
            "Epoch 8/120\n",
            "528/528 [==============================] - 6s 12ms/step - loss: 0.1235 - accuracy: 0.9568 - val_loss: 0.1328 - val_accuracy: 0.9535\n",
            "Epoch 9/120\n",
            "528/528 [==============================] - 5s 10ms/step - loss: 0.1163 - accuracy: 0.9579 - val_loss: 0.1361 - val_accuracy: 0.9497\n",
            "Epoch 10/120\n",
            "528/528 [==============================] - 6s 12ms/step - loss: 0.1121 - accuracy: 0.9606 - val_loss: 0.1422 - val_accuracy: 0.9464\n",
            "Epoch 11/120\n",
            "528/528 [==============================] - 5s 10ms/step - loss: 0.0991 - accuracy: 0.9661 - val_loss: 0.1215 - val_accuracy: 0.9535\n",
            "Epoch 12/120\n",
            "528/528 [==============================] - 6s 11ms/step - loss: 0.0976 - accuracy: 0.9670 - val_loss: 0.1574 - val_accuracy: 0.9435\n",
            "Epoch 13/120\n",
            "528/528 [==============================] - 6s 11ms/step - loss: 0.0833 - accuracy: 0.9703 - val_loss: 0.1232 - val_accuracy: 0.9564\n",
            "Epoch 14/120\n",
            "528/528 [==============================] - 5s 10ms/step - loss: 0.0832 - accuracy: 0.9708 - val_loss: 0.1072 - val_accuracy: 0.9646\n",
            "Epoch 15/120\n",
            "528/528 [==============================] - 7s 14ms/step - loss: 0.0686 - accuracy: 0.9766 - val_loss: 0.1080 - val_accuracy: 0.9612\n",
            "Epoch 16/120\n",
            "528/528 [==============================] - 5s 10ms/step - loss: 0.0696 - accuracy: 0.9768 - val_loss: 0.1052 - val_accuracy: 0.9574\n",
            "Epoch 17/120\n",
            "528/528 [==============================] - 6s 12ms/step - loss: 0.0640 - accuracy: 0.9773 - val_loss: 0.1099 - val_accuracy: 0.9655\n",
            "Epoch 18/120\n",
            "528/528 [==============================] - 5s 10ms/step - loss: 0.0523 - accuracy: 0.9835 - val_loss: 0.1005 - val_accuracy: 0.9670\n",
            "Epoch 19/120\n",
            "528/528 [==============================] - 6s 12ms/step - loss: 0.0497 - accuracy: 0.9836 - val_loss: 0.1031 - val_accuracy: 0.9674\n",
            "Epoch 20/120\n",
            "528/528 [==============================] - 5s 10ms/step - loss: 0.0494 - accuracy: 0.9846 - val_loss: 0.0920 - val_accuracy: 0.9727\n",
            "Epoch 21/120\n",
            "528/528 [==============================] - 6s 11ms/step - loss: 0.0421 - accuracy: 0.9872 - val_loss: 0.1134 - val_accuracy: 0.9670\n",
            "Epoch 22/120\n",
            "528/528 [==============================] - 6s 11ms/step - loss: 0.0405 - accuracy: 0.9872 - val_loss: 0.1184 - val_accuracy: 0.9674\n",
            "Epoch 23/120\n",
            "528/528 [==============================] - 5s 10ms/step - loss: 0.0412 - accuracy: 0.9855 - val_loss: 0.0966 - val_accuracy: 0.9756\n",
            "Epoch 24/120\n",
            "528/528 [==============================] - 6s 12ms/step - loss: 0.0400 - accuracy: 0.9877 - val_loss: 0.1398 - val_accuracy: 0.9617\n",
            "Epoch 25/120\n",
            "528/528 [==============================] - 5s 10ms/step - loss: 0.0323 - accuracy: 0.9888 - val_loss: 0.1007 - val_accuracy: 0.9741\n",
            "Epoch 26/120\n",
            "528/528 [==============================] - 6s 12ms/step - loss: 0.0291 - accuracy: 0.9910 - val_loss: 0.1197 - val_accuracy: 0.9713\n",
            "Epoch 27/120\n",
            "528/528 [==============================] - 5s 10ms/step - loss: 0.0292 - accuracy: 0.9912 - val_loss: 0.1337 - val_accuracy: 0.9674\n",
            "Epoch 28/120\n",
            "528/528 [==============================] - 6s 11ms/step - loss: 0.0259 - accuracy: 0.9925 - val_loss: 0.1067 - val_accuracy: 0.9741\n",
            "Epoch 29/120\n",
            "528/528 [==============================] - 6s 11ms/step - loss: 0.0286 - accuracy: 0.9907 - val_loss: 0.1266 - val_accuracy: 0.9670\n",
            "Epoch 30/120\n",
            "528/528 [==============================] - 5s 10ms/step - loss: 0.0232 - accuracy: 0.9927 - val_loss: 0.1286 - val_accuracy: 0.9708\n",
            "Epoch 31/120\n",
            "528/528 [==============================] - 6s 12ms/step - loss: 0.0228 - accuracy: 0.9926 - val_loss: 0.1280 - val_accuracy: 0.9717\n",
            "Epoch 32/120\n",
            "528/528 [==============================] - 5s 10ms/step - loss: 0.0205 - accuracy: 0.9929 - val_loss: 0.1317 - val_accuracy: 0.9713\n",
            "Epoch 33/120\n",
            "528/528 [==============================] - 6s 12ms/step - loss: 0.0179 - accuracy: 0.9947 - val_loss: 0.1406 - val_accuracy: 0.9689\n",
            "Epoch 34/120\n",
            "528/528 [==============================] - 5s 10ms/step - loss: 0.0180 - accuracy: 0.9945 - val_loss: 0.1254 - val_accuracy: 0.9727\n",
            "Epoch 35/120\n",
            "528/528 [==============================] - 6s 12ms/step - loss: 0.0195 - accuracy: 0.9940 - val_loss: 0.1203 - val_accuracy: 0.9703\n",
            "Epoch 36/120\n",
            "528/528 [==============================] - 6s 11ms/step - loss: 0.0145 - accuracy: 0.9956 - val_loss: 0.1462 - val_accuracy: 0.9741\n",
            "Epoch 37/120\n",
            "528/528 [==============================] - 6s 11ms/step - loss: 0.0190 - accuracy: 0.9945 - val_loss: 0.1308 - val_accuracy: 0.9698\n",
            "Epoch 38/120\n",
            "528/528 [==============================] - 6s 12ms/step - loss: 0.0206 - accuracy: 0.9938 - val_loss: 0.1977 - val_accuracy: 0.9607\n",
            "Epoch 39/120\n",
            "528/528 [==============================] - 5s 10ms/step - loss: 0.0155 - accuracy: 0.9953 - val_loss: 0.1515 - val_accuracy: 0.9670\n",
            "Epoch 40/120\n",
            "528/528 [==============================] - 6s 12ms/step - loss: 0.0174 - accuracy: 0.9947 - val_loss: 0.2555 - val_accuracy: 0.9282\n",
            "Epoch 41/120\n",
            "528/528 [==============================] - 6s 11ms/step - loss: 0.0130 - accuracy: 0.9956 - val_loss: 0.1381 - val_accuracy: 0.9713\n",
            "Epoch 42/120\n",
            "528/528 [==============================] - 7s 12ms/step - loss: 0.0158 - accuracy: 0.9951 - val_loss: 0.1119 - val_accuracy: 0.9713\n",
            "Epoch 43/120\n",
            "528/528 [==============================] - 6s 11ms/step - loss: 0.0165 - accuracy: 0.9948 - val_loss: 0.1335 - val_accuracy: 0.9746\n",
            "Epoch 44/120\n",
            "528/528 [==============================] - 6s 12ms/step - loss: 0.0173 - accuracy: 0.9944 - val_loss: 0.1631 - val_accuracy: 0.9631\n",
            "Epoch 45/120\n",
            "528/528 [==============================] - 5s 10ms/step - loss: 0.0154 - accuracy: 0.9953 - val_loss: 0.1285 - val_accuracy: 0.9708\n",
            "Epoch 46/120\n",
            "528/528 [==============================] - 6s 11ms/step - loss: 0.0161 - accuracy: 0.9954 - val_loss: 0.1295 - val_accuracy: 0.9717\n",
            "Epoch 47/120\n",
            "528/528 [==============================] - 6s 12ms/step - loss: 0.0076 - accuracy: 0.9978 - val_loss: 0.1595 - val_accuracy: 0.9727\n",
            "Epoch 48/120\n",
            "528/528 [==============================] - 5s 10ms/step - loss: 0.0128 - accuracy: 0.9963 - val_loss: 0.1537 - val_accuracy: 0.9698\n",
            "Epoch 49/120\n",
            "528/528 [==============================] - 6s 12ms/step - loss: 0.0100 - accuracy: 0.9968 - val_loss: 0.1462 - val_accuracy: 0.9727\n",
            "Epoch 50/120\n",
            "528/528 [==============================] - 5s 10ms/step - loss: 0.0098 - accuracy: 0.9972 - val_loss: 0.1526 - val_accuracy: 0.9708\n",
            "Epoch 51/120\n",
            "528/528 [==============================] - 6s 12ms/step - loss: 0.0131 - accuracy: 0.9963 - val_loss: 0.1371 - val_accuracy: 0.9722\n",
            "Epoch 52/120\n",
            "528/528 [==============================] - 5s 10ms/step - loss: 0.0094 - accuracy: 0.9971 - val_loss: 0.1469 - val_accuracy: 0.9703\n",
            "Epoch 53/120\n",
            "528/528 [==============================] - 6s 11ms/step - loss: 0.0095 - accuracy: 0.9973 - val_loss: 0.1442 - val_accuracy: 0.9732\n",
            "Epoch 54/120\n",
            "528/528 [==============================] - 6s 11ms/step - loss: 0.0084 - accuracy: 0.9978 - val_loss: 0.1516 - val_accuracy: 0.9708\n",
            "Epoch 55/120\n",
            "528/528 [==============================] - 5s 10ms/step - loss: 0.0094 - accuracy: 0.9973 - val_loss: 0.1735 - val_accuracy: 0.9693\n",
            "Epoch 56/120\n",
            "528/528 [==============================] - 6s 12ms/step - loss: 0.0039 - accuracy: 0.9989 - val_loss: 0.1766 - val_accuracy: 0.9703\n",
            "Epoch 57/120\n",
            "528/528 [==============================] - 5s 10ms/step - loss: 0.0175 - accuracy: 0.9953 - val_loss: 0.1309 - val_accuracy: 0.9708\n",
            "Epoch 58/120\n",
            "528/528 [==============================] - 6s 12ms/step - loss: 0.0040 - accuracy: 0.9989 - val_loss: 0.1535 - val_accuracy: 0.9722\n",
            "Epoch 59/120\n",
            "528/528 [==============================] - 5s 10ms/step - loss: 0.0080 - accuracy: 0.9980 - val_loss: 0.1548 - val_accuracy: 0.9708\n",
            "Epoch 60/120\n",
            "528/528 [==============================] - 6s 11ms/step - loss: 0.0084 - accuracy: 0.9976 - val_loss: 0.1565 - val_accuracy: 0.9689\n",
            "Epoch 61/120\n",
            "528/528 [==============================] - 6s 11ms/step - loss: 0.0213 - accuracy: 0.9933 - val_loss: 0.1218 - val_accuracy: 0.9703\n",
            "Epoch 62/120\n",
            "528/528 [==============================] - 5s 10ms/step - loss: 0.0100 - accuracy: 0.9972 - val_loss: 0.1335 - val_accuracy: 0.9732\n",
            "Epoch 63/120\n",
            "528/528 [==============================] - 6s 12ms/step - loss: 0.0090 - accuracy: 0.9970 - val_loss: 0.1493 - val_accuracy: 0.9717\n",
            "Epoch 64/120\n",
            "528/528 [==============================] - 5s 10ms/step - loss: 0.0018 - accuracy: 0.9996 - val_loss: 0.1527 - val_accuracy: 0.9751\n",
            "Epoch 65/120\n",
            "528/528 [==============================] - 6s 12ms/step - loss: 0.0066 - accuracy: 0.9982 - val_loss: 0.1588 - val_accuracy: 0.9722\n",
            "Epoch 66/120\n",
            "528/528 [==============================] - 5s 10ms/step - loss: 0.0094 - accuracy: 0.9971 - val_loss: 0.1301 - val_accuracy: 0.9751\n",
            "Epoch 67/120\n",
            "528/528 [==============================] - 6s 11ms/step - loss: 0.0047 - accuracy: 0.9987 - val_loss: 0.1688 - val_accuracy: 0.9732\n",
            "Epoch 68/120\n",
            "528/528 [==============================] - 6s 11ms/step - loss: 0.0116 - accuracy: 0.9970 - val_loss: 0.1558 - val_accuracy: 0.9717\n",
            "Epoch 69/120\n",
            "528/528 [==============================] - 5s 10ms/step - loss: 0.0082 - accuracy: 0.9980 - val_loss: 0.1673 - val_accuracy: 0.9717\n",
            "Epoch 70/120\n",
            "528/528 [==============================] - 6s 12ms/step - loss: 0.0060 - accuracy: 0.9989 - val_loss: 0.1878 - val_accuracy: 0.9583\n",
            "Epoch 71/120\n",
            "528/528 [==============================] - 5s 10ms/step - loss: 0.0088 - accuracy: 0.9973 - val_loss: 0.1634 - val_accuracy: 0.9717\n",
            "Epoch 72/120\n",
            "528/528 [==============================] - 6s 12ms/step - loss: 0.0073 - accuracy: 0.9980 - val_loss: 0.1631 - val_accuracy: 0.9713\n",
            "Epoch 73/120\n",
            "528/528 [==============================] - 5s 10ms/step - loss: 0.0075 - accuracy: 0.9980 - val_loss: 0.1664 - val_accuracy: 0.9698\n",
            "Epoch 74/120\n",
            "528/528 [==============================] - 6s 11ms/step - loss: 0.0019 - accuracy: 0.9996 - val_loss: 0.1641 - val_accuracy: 0.9737\n",
            "Epoch 75/120\n",
            "528/528 [==============================] - 6s 11ms/step - loss: 3.6496e-04 - accuracy: 1.0000 - val_loss: 0.1726 - val_accuracy: 0.9746\n",
            "Epoch 76/120\n",
            "528/528 [==============================] - 5s 10ms/step - loss: 2.7273e-04 - accuracy: 1.0000 - val_loss: 0.1812 - val_accuracy: 0.9741\n",
            "Epoch 77/120\n",
            "528/528 [==============================] - 6s 12ms/step - loss: 1.7967e-04 - accuracy: 1.0000 - val_loss: 0.1879 - val_accuracy: 0.9737\n",
            "Epoch 78/120\n",
            "528/528 [==============================] - 5s 10ms/step - loss: 1.6438e-04 - accuracy: 1.0000 - val_loss: 0.1934 - val_accuracy: 0.9737\n",
            "Epoch 79/120\n",
            "528/528 [==============================] - 6s 12ms/step - loss: 1.3559e-04 - accuracy: 1.0000 - val_loss: 0.1966 - val_accuracy: 0.9746\n",
            "Epoch 80/120\n",
            "528/528 [==============================] - 5s 10ms/step - loss: 1.2261e-04 - accuracy: 1.0000 - val_loss: 0.2006 - val_accuracy: 0.9732\n",
            "Epoch 81/120\n",
            "528/528 [==============================] - 6s 11ms/step - loss: 9.1929e-05 - accuracy: 1.0000 - val_loss: 0.2025 - val_accuracy: 0.9741\n",
            "Epoch 82/120\n",
            "528/528 [==============================] - 6s 11ms/step - loss: 8.9033e-05 - accuracy: 1.0000 - val_loss: 0.2050 - val_accuracy: 0.9751\n",
            "Epoch 83/120\n",
            "528/528 [==============================] - 5s 10ms/step - loss: 7.8859e-05 - accuracy: 1.0000 - val_loss: 0.2081 - val_accuracy: 0.9741\n",
            "Epoch 84/120\n",
            "528/528 [==============================] - 6s 12ms/step - loss: 9.3145e-05 - accuracy: 1.0000 - val_loss: 0.2132 - val_accuracy: 0.9751\n",
            "Epoch 85/120\n",
            "528/528 [==============================] - 5s 10ms/step - loss: 8.2575e-05 - accuracy: 1.0000 - val_loss: 0.2167 - val_accuracy: 0.9751\n",
            "Epoch 86/120\n",
            "528/528 [==============================] - 6s 12ms/step - loss: 7.3409e-05 - accuracy: 1.0000 - val_loss: 0.2178 - val_accuracy: 0.9746\n",
            "Epoch 87/120\n",
            "528/528 [==============================] - 5s 10ms/step - loss: 5.2695e-05 - accuracy: 1.0000 - val_loss: 0.2187 - val_accuracy: 0.9746\n",
            "Epoch 88/120\n",
            "528/528 [==============================] - 6s 11ms/step - loss: 6.2948e-05 - accuracy: 1.0000 - val_loss: 0.2222 - val_accuracy: 0.9746\n",
            "Epoch 89/120\n",
            "528/528 [==============================] - 6s 11ms/step - loss: 5.7601e-05 - accuracy: 1.0000 - val_loss: 0.2232 - val_accuracy: 0.9746\n",
            "Epoch 90/120\n",
            "528/528 [==============================] - 5s 10ms/step - loss: 5.1207e-05 - accuracy: 1.0000 - val_loss: 0.2237 - val_accuracy: 0.9746\n",
            "Epoch 91/120\n",
            "528/528 [==============================] - 6s 12ms/step - loss: 3.7706e-05 - accuracy: 1.0000 - val_loss: 0.2251 - val_accuracy: 0.9746\n",
            "Epoch 92/120\n",
            "528/528 [==============================] - 5s 10ms/step - loss: 4.8411e-05 - accuracy: 1.0000 - val_loss: 0.2257 - val_accuracy: 0.9746\n",
            "Epoch 93/120\n",
            "528/528 [==============================] - 6s 12ms/step - loss: 5.0594e-05 - accuracy: 1.0000 - val_loss: 0.2284 - val_accuracy: 0.9746\n",
            "Epoch 94/120\n",
            "528/528 [==============================] - 6s 11ms/step - loss: 4.9596e-05 - accuracy: 1.0000 - val_loss: 0.2292 - val_accuracy: 0.9746\n",
            "Epoch 95/120\n",
            "528/528 [==============================] - 6s 12ms/step - loss: 4.1856e-05 - accuracy: 1.0000 - val_loss: 0.2304 - val_accuracy: 0.9741\n",
            "Epoch 96/120\n",
            "528/528 [==============================] - 6s 11ms/step - loss: 5.0684e-05 - accuracy: 1.0000 - val_loss: 0.2322 - val_accuracy: 0.9741\n",
            "Epoch 97/120\n",
            "528/528 [==============================] - 5s 10ms/step - loss: 3.9115e-05 - accuracy: 1.0000 - val_loss: 0.2335 - val_accuracy: 0.9737\n",
            "Epoch 98/120\n",
            "528/528 [==============================] - 6s 12ms/step - loss: 4.0453e-05 - accuracy: 1.0000 - val_loss: 0.2360 - val_accuracy: 0.9746\n",
            "Epoch 99/120\n",
            "528/528 [==============================] - 5s 10ms/step - loss: 3.4287e-05 - accuracy: 1.0000 - val_loss: 0.2361 - val_accuracy: 0.9741\n",
            "Epoch 100/120\n",
            "528/528 [==============================] - 6s 12ms/step - loss: 3.3739e-05 - accuracy: 1.0000 - val_loss: 0.2373 - val_accuracy: 0.9737\n",
            "Epoch 101/120\n",
            "528/528 [==============================] - 5s 10ms/step - loss: 3.0017e-05 - accuracy: 1.0000 - val_loss: 0.2388 - val_accuracy: 0.9737\n",
            "Epoch 102/120\n",
            "528/528 [==============================] - 6s 12ms/step - loss: 2.6177e-05 - accuracy: 1.0000 - val_loss: 0.2393 - val_accuracy: 0.9737\n",
            "Epoch 103/120\n",
            "528/528 [==============================] - 5s 10ms/step - loss: 3.7001e-05 - accuracy: 1.0000 - val_loss: 0.2415 - val_accuracy: 0.9741\n",
            "Epoch 104/120\n",
            "528/528 [==============================] - 6s 11ms/step - loss: 3.5323e-05 - accuracy: 1.0000 - val_loss: 0.2423 - val_accuracy: 0.9741\n",
            "Epoch 105/120\n",
            "528/528 [==============================] - 6s 12ms/step - loss: 5.9788e-05 - accuracy: 1.0000 - val_loss: 0.2430 - val_accuracy: 0.9741\n",
            "Epoch 106/120\n",
            "528/528 [==============================] - 5s 10ms/step - loss: 3.0827e-05 - accuracy: 1.0000 - val_loss: 0.2433 - val_accuracy: 0.9737\n",
            "Epoch 107/120\n",
            "528/528 [==============================] - 6s 12ms/step - loss: 3.3671e-05 - accuracy: 1.0000 - val_loss: 0.2460 - val_accuracy: 0.9746\n",
            "Epoch 108/120\n",
            "528/528 [==============================] - 5s 10ms/step - loss: 2.7501e-05 - accuracy: 1.0000 - val_loss: 0.2453 - val_accuracy: 0.9737\n",
            "Epoch 109/120\n",
            "528/528 [==============================] - 6s 12ms/step - loss: 2.0839e-05 - accuracy: 1.0000 - val_loss: 0.2466 - val_accuracy: 0.9741\n",
            "Epoch 110/120\n",
            "528/528 [==============================] - 6s 12ms/step - loss: 1.9912e-05 - accuracy: 1.0000 - val_loss: 0.2466 - val_accuracy: 0.9741\n",
            "Epoch 111/120\n",
            "528/528 [==============================] - 7s 14ms/step - loss: 3.1778e-05 - accuracy: 1.0000 - val_loss: 0.2485 - val_accuracy: 0.9741\n",
            "Epoch 112/120\n",
            "528/528 [==============================] - 5s 10ms/step - loss: 2.7315e-05 - accuracy: 1.0000 - val_loss: 0.2500 - val_accuracy: 0.9741\n",
            "Epoch 113/120\n",
            "528/528 [==============================] - 6s 12ms/step - loss: 2.1728e-05 - accuracy: 1.0000 - val_loss: 0.2505 - val_accuracy: 0.9741\n",
            "Epoch 114/120\n",
            "528/528 [==============================] - 6s 11ms/step - loss: 2.9659e-05 - accuracy: 1.0000 - val_loss: 0.2512 - val_accuracy: 0.9741\n",
            "Epoch 115/120\n",
            "528/528 [==============================] - 5s 10ms/step - loss: 1.6944e-05 - accuracy: 1.0000 - val_loss: 0.2515 - val_accuracy: 0.9741\n",
            "Epoch 116/120\n",
            "528/528 [==============================] - 6s 12ms/step - loss: 1.8911e-05 - accuracy: 1.0000 - val_loss: 0.2511 - val_accuracy: 0.9737\n",
            "Epoch 117/120\n",
            "528/528 [==============================] - 5s 10ms/step - loss: 2.2636e-05 - accuracy: 1.0000 - val_loss: 0.2529 - val_accuracy: 0.9737\n",
            "Epoch 118/120\n",
            "528/528 [==============================] - 6s 12ms/step - loss: 1.7706e-05 - accuracy: 1.0000 - val_loss: 0.2529 - val_accuracy: 0.9737\n",
            "Epoch 119/120\n",
            "528/528 [==============================] - 5s 10ms/step - loss: 2.3861e-05 - accuracy: 1.0000 - val_loss: 0.2538 - val_accuracy: 0.9737\n",
            "Epoch 120/120\n",
            "528/528 [==============================] - 6s 12ms/step - loss: 1.5296e-05 - accuracy: 1.0000 - val_loss: 0.2546 - val_accuracy: 0.9737\n"
          ]
        }
      ]
    },
    {
      "cell_type": "code",
      "source": [
        "model.save(\"/content/gdrive/MyDrive/Colab Notebooks/Experiments/CRNN_GRU_GRU_ExtraDense_WithoutAttention-Lite.h5\")\n",
        "score = model.evaluate(X_test, y_test)\n",
        "print(score)"
      ],
      "metadata": {
        "id": "A0GDwHCxVFOA",
        "colab": {
          "base_uri": "https://localhost:8080/"
        },
        "outputId": "08e6a5e2-732e-4743-dbcf-c06824aa5ec5"
      },
      "execution_count": null,
      "outputs": [
        {
          "output_type": "stream",
          "name": "stdout",
          "text": [
            "66/66 [==============================] - 0s 5ms/step - loss: 0.1665 - accuracy: 0.9829\n",
            "[0.16654463112354279, 0.9829303026199341]\n"
          ]
        }
      ]
    },
    {
      "cell_type": "code",
      "source": [
        "pip install plot_keras_history"
      ],
      "metadata": {
        "id": "audvVlppvQfE",
        "colab": {
          "base_uri": "https://localhost:8080/"
        },
        "outputId": "70909cd7-a5d6-4bdc-c38c-55ea2719423c"
      },
      "execution_count": null,
      "outputs": [
        {
          "output_type": "stream",
          "name": "stdout",
          "text": [
            "Looking in indexes: https://pypi.org/simple, https://us-python.pkg.dev/colab-wheels/public/simple/\n",
            "Collecting plot_keras_history\n",
            "  Downloading plot_keras_history-1.1.38.tar.gz (11 kB)\n",
            "  Preparing metadata (setup.py) ... \u001b[?25l\u001b[?25hdone\n",
            "Requirement already satisfied: matplotlib in /usr/local/lib/python3.9/dist-packages (from plot_keras_history) (3.7.1)\n",
            "Requirement already satisfied: pandas in /usr/local/lib/python3.9/dist-packages (from plot_keras_history) (1.4.4)\n",
            "Requirement already satisfied: scipy in /usr/local/lib/python3.9/dist-packages (from plot_keras_history) (1.10.1)\n",
            "Collecting support_developer>=1.0.2\n",
            "  Downloading support_developer-1.0.5.tar.gz (4.9 kB)\n",
            "  Preparing metadata (setup.py) ... \u001b[?25l\u001b[?25hdone\n",
            "Collecting sanitize_ml_labels>=1.0.48\n",
            "  Downloading sanitize_ml_labels-1.0.50.tar.gz (322 kB)\n",
            "\u001b[2K     \u001b[90m━━━━━━━━━━━━━━━━━━━━━━━━━━━━━━━━━━━━━━━\u001b[0m \u001b[32m322.1/322.1 KB\u001b[0m \u001b[31m7.3 MB/s\u001b[0m eta \u001b[36m0:00:00\u001b[0m\n",
            "\u001b[?25h  Preparing metadata (setup.py) ... \u001b[?25l\u001b[?25hdone\n",
            "Collecting compress_json\n",
            "  Downloading compress_json-1.0.8.tar.gz (4.7 kB)\n",
            "  Preparing metadata (setup.py) ... \u001b[?25l\u001b[?25hdone\n",
            "Requirement already satisfied: cycler>=0.10 in /usr/local/lib/python3.9/dist-packages (from matplotlib->plot_keras_history) (0.11.0)\n",
            "Requirement already satisfied: packaging>=20.0 in /usr/local/lib/python3.9/dist-packages (from matplotlib->plot_keras_history) (23.0)\n",
            "Requirement already satisfied: kiwisolver>=1.0.1 in /usr/local/lib/python3.9/dist-packages (from matplotlib->plot_keras_history) (1.4.4)\n",
            "Requirement already satisfied: contourpy>=1.0.1 in /usr/local/lib/python3.9/dist-packages (from matplotlib->plot_keras_history) (1.0.7)\n",
            "Requirement already satisfied: python-dateutil>=2.7 in /usr/local/lib/python3.9/dist-packages (from matplotlib->plot_keras_history) (2.8.2)\n",
            "Requirement already satisfied: pillow>=6.2.0 in /usr/local/lib/python3.9/dist-packages (from matplotlib->plot_keras_history) (8.4.0)\n",
            "Requirement already satisfied: numpy>=1.20 in /usr/local/lib/python3.9/dist-packages (from matplotlib->plot_keras_history) (1.22.4)\n",
            "Requirement already satisfied: pyparsing>=2.3.1 in /usr/local/lib/python3.9/dist-packages (from matplotlib->plot_keras_history) (3.0.9)\n",
            "Requirement already satisfied: importlib-resources>=3.2.0 in /usr/local/lib/python3.9/dist-packages (from matplotlib->plot_keras_history) (5.12.0)\n",
            "Requirement already satisfied: fonttools>=4.22.0 in /usr/local/lib/python3.9/dist-packages (from matplotlib->plot_keras_history) (4.39.2)\n",
            "Requirement already satisfied: pytz>=2020.1 in /usr/local/lib/python3.9/dist-packages (from pandas->plot_keras_history) (2022.7.1)\n",
            "Requirement already satisfied: zipp>=3.1.0 in /usr/local/lib/python3.9/dist-packages (from importlib-resources>=3.2.0->matplotlib->plot_keras_history) (3.15.0)\n",
            "Requirement already satisfied: six>=1.5 in /usr/local/lib/python3.9/dist-packages (from python-dateutil>=2.7->matplotlib->plot_keras_history) (1.16.0)\n",
            "Building wheels for collected packages: plot_keras_history, sanitize_ml_labels, support_developer, compress_json\n",
            "  Building wheel for plot_keras_history (setup.py) ... \u001b[?25l\u001b[?25hdone\n",
            "  Created wheel for plot_keras_history: filename=plot_keras_history-1.1.38-py3-none-any.whl size=9470 sha256=9c63c19292a1e331b46d9f1ad04b7d094771900a5b670c8cfee7401427a9f237\n",
            "  Stored in directory: /root/.cache/pip/wheels/aa/0a/0f/0775c812151040fb695c0890d902810a9d69e1db50181e5328\n",
            "  Building wheel for sanitize_ml_labels (setup.py) ... \u001b[?25l\u001b[?25hdone\n",
            "  Created wheel for sanitize_ml_labels: filename=sanitize_ml_labels-1.0.50-py3-none-any.whl size=320515 sha256=36eeb5529bf818f5cb453ad8919326dc03f3000ebf8f15abb0ed5b5bd45e9e53\n",
            "  Stored in directory: /root/.cache/pip/wheels/d2/50/d6/95e7c7713c3c1609e30a394d7431ffc11e4f7deb82d13ffceb\n",
            "  Building wheel for support_developer (setup.py) ... \u001b[?25l\u001b[?25hdone\n",
            "  Created wheel for support_developer: filename=support_developer-1.0.5-py3-none-any.whl size=5651 sha256=a2b96458b2ada964af3a715b59c72c1db14bfa50519039b175e464e9723ee745\n",
            "  Stored in directory: /root/.cache/pip/wheels/7c/a1/b1/9662c79502c353ff7e71c36f84846acd623cbcbe3f7255f5d5\n",
            "  Building wheel for compress_json (setup.py) ... \u001b[?25l\u001b[?25hdone\n",
            "  Created wheel for compress_json: filename=compress_json-1.0.8-py3-none-any.whl size=4731 sha256=5d52d8876437257cc059a2e06b3f195867172556ec0a6bc9bb3660c4da1af8cf\n",
            "  Stored in directory: /root/.cache/pip/wheels/d5/7c/cd/c765f939eb47ee20494e44f47b113cf3965a71dc0a4954c321\n",
            "Successfully built plot_keras_history sanitize_ml_labels support_developer compress_json\n",
            "Installing collected packages: support_developer, compress_json, sanitize_ml_labels, plot_keras_history\n",
            "Successfully installed compress_json-1.0.8 plot_keras_history-1.1.38 sanitize_ml_labels-1.0.50 support_developer-1.0.5\n"
          ]
        }
      ]
    },
    {
      "cell_type": "code",
      "source": [
        "from plot_keras_history import show_history, plot_history\n",
        "import matplotlib.pyplot as plt\n",
        "plot_history(history)"
      ],
      "metadata": {
        "id": "esfMhDOhXDyI",
        "colab": {
          "base_uri": "https://localhost:8080/",
          "height": 601
        },
        "outputId": "1ef4e7e7-a3d3-4928-e10b-282f71881223"
      },
      "execution_count": null,
      "outputs": [
        {
          "output_type": "execute_result",
          "data": {
            "text/plain": [
              "(<Figure size 1000x500 with 2 Axes>,\n",
              " array([<Axes: title={'center': 'Loss'}, xlabel='Epochs', ylabel='Loss'>,\n",
              "        <Axes: title={'center': 'Accuracy'}, xlabel='Epochs', ylabel='Accuracy'>],\n",
              "       dtype=object))"
            ]
          },
          "metadata": {},
          "execution_count": 44
        },
        {
          "output_type": "display_data",
          "data": {
            "text/plain": [
              "<Figure size 1000x500 with 2 Axes>"
            ],
            "image/png": "[encoded data removed]"
          },
          "metadata": {
            "needs_background": "light"
          }
        }
      ]
    },
    {
      "cell_type": "code",
      "source": [
        "import matplotlib.pyplot as plt\n",
        "import itertools\n",
        "import numpy as np\n",
        "\n",
        "def plot_confusion_matrix(cm, classes,\n",
        "                        normalize=False,\n",
        "                        title='Confusion matrix',\n",
        "                        cmap=plt.cm.Blues):\n",
        "    \"\"\"\n",
        "    This function prints and plots the confusion matrix.\n",
        "    Normalization can be applied by setting `normalize=True`.\n",
        "    \"\"\"\n",
        "    plt.imshow(cm, interpolation='nearest', cmap=cmap)\n",
        "    plt.title(title)\n",
        "    plt.colorbar()\n",
        "    tick_marks = np.arange(len(classes))\n",
        "    plt.xticks(tick_marks, classes, rotation=45)\n",
        "    plt.yticks(tick_marks, classes)\n",
        "\n",
        "    if normalize:\n",
        "        cm = cm.astype('float') / cm.sum(axis=1)[:, np.newaxis]\n",
        "        print(\"Normalized confusion matrix\")\n",
        "    else:\n",
        "        print('Confusion matrix, without normalization')\n",
        "\n",
        "    print(cm)\n",
        "\n",
        "    thresh = cm.max() / 2.\n",
        "    for i, j in itertools.product(range(cm.shape[0]), range(cm.shape[1])):\n",
        "        plt.text(j, i, cm[i, j],\n",
        "            horizontalalignment=\"center\",\n",
        "            color=\"white\" if cm[i, j] > thresh else \"black\")\n",
        "\n",
        "    plt.tight_layout()\n",
        "    plt.ylabel('True label')\n",
        "    plt.xlabel('Predicted label')\n",
        "    plt.show()"
      ],
      "metadata": {
        "id": "m-Ulk4EBXd0y"
      },
      "execution_count": null,
      "outputs": []
    },
    {
      "cell_type": "code",
      "source": [
        "print(\"Model Classification Report: \\n\")\n",
        "y_pred = np.argmax(model.predict(X_test), axis=1)\n",
        "cm = confusion_matrix(np.argmax(y_test, axis=1), y_pred)\n",
        "print(classification_report(np.argmax(y_test, axis=1), y_pred))\n",
        "plot_confusion_matrix(cm, classes=[\"Does not have Wake Word\", \"Has Wake Word\"])"
      ],
      "metadata": {
        "id": "TflcZEOXXhi9",
        "colab": {
          "base_uri": "https://localhost:8080/",
          "height": 583
        },
        "outputId": "c60bc5f2-4934-446a-b09f-66aa0b808c57"
      },
      "execution_count": null,
      "outputs": [
        {
          "output_type": "stream",
          "name": "stdout",
          "text": [
            "Model Classification Report: \n",
            "\n",
            "66/66 [==============================] - 1s 4ms/step\n",
            "              precision    recall  f1-score   support\n",
            "\n",
            "           0       0.98      0.98      0.98      1049\n",
            "           1       0.98      0.98      0.98      1060\n",
            "\n",
            "    accuracy                           0.98      2109\n",
            "   macro avg       0.98      0.98      0.98      2109\n",
            "weighted avg       0.98      0.98      0.98      2109\n",
            "\n",
            "Confusion matrix, without normalization\n",
            "[[1030   19]\n",
            " [  17 1043]]\n"
          ]
        },
        {
          "output_type": "display_data",
          "data": {
            "text/plain": [
              "<Figure size 432x288 with 2 Axes>"
            ],
            "image/png": "[encoded data removed]"
          },
          "metadata": {
            "needs_background": "light"
          }
        }
      ]
    }
  ]
}