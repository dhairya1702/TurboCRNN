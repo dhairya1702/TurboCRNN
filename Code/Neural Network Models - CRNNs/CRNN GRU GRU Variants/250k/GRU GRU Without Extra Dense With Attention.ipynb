{
  "nbformat": 4,
  "nbformat_minor": 0,
  "metadata": {
    "colab": {
      "provenance": []
    },
    "kernelspec": {
      "name": "python3",
      "display_name": "Python 3"
    },
    "language_info": {
      "name": "python"
    },
    "accelerator": "GPU",
    "gpuClass": "standard"
  },
  "cells": [
    {
      "cell_type": "code",
      "execution_count": null,
      "metadata": {
        "colab": {
          "base_uri": "https://localhost:8080/"
        },
        "id": "SANNUYcJSP0l",
        "outputId": "f6ed4b15-faf5-4f72-8b38-7ffe4c706a93"
      },
      "outputs": [
        {
          "output_type": "stream",
          "name": "stdout",
          "text": [
            "Mounted at /content/gdrive\n"
          ]
        }
      ],
      "source": [
        "from google.colab import drive\n",
        "drive.mount('/content/gdrive')"
      ]
    },
    {
      "cell_type": "code",
      "source": [
        "import os\n",
        "import numpy as np\n",
        "import pandas as pd\n",
        "import matplotlib.pyplot as plt\n",
        "import librosa, librosa.display\n",
        "\n",
        "import tensorflow as tf \n",
        "from sklearn.model_selection import train_test_split\n",
        "from tensorflow.keras import Sequential\n",
        "from tensorflow.keras.layers import Dense, Activation, Dropout, GRU, Input\n",
        "from sklearn.metrics import confusion_matrix, classification_report"
      ],
      "metadata": {
        "id": "eLL0gmwaSZ8q"
      },
      "execution_count": null,
      "outputs": []
    },
    {
      "cell_type": "code",
      "source": [
        "X_train = np.load('/content/gdrive/MyDrive/Colab Notebooks/FYP/WaveletTransformDenoised/X_train.npy')\n",
        "y_train = np.load('/content/gdrive/MyDrive/Colab Notebooks/FYP/WaveletTransformDenoised/y_train.npy')\n",
        "X_test = np.load('/content/gdrive/MyDrive/Colab Notebooks/FYP/WaveletTransformDenoised/X_test.npy')\n",
        "y_test = np.load('/content/gdrive/MyDrive/Colab Notebooks/FYP/WaveletTransformDenoised/y_test.npy')\n",
        "X_val = np.load('/content/gdrive/MyDrive/Colab Notebooks/FYP/WaveletTransformDenoised/X_val.npy')\n",
        "y_val = np.load('/content/gdrive/MyDrive/Colab Notebooks/FYP/WaveletTransformDenoised/y_val.npy')"
      ],
      "metadata": {
        "id": "0Kq84or6Sfqz"
      },
      "execution_count": null,
      "outputs": []
    },
    {
      "cell_type": "code",
      "source": [
        "print(X_train.shape, y_train.shape)\n",
        "print(X_test.shape, y_test.shape)\n",
        "print(X_val.shape, y_val.shape)"
      ],
      "metadata": {
        "colab": {
          "base_uri": "https://localhost:8080/"
        },
        "id": "yT10o_10ShvM",
        "outputId": "375d0ebc-c195-412c-b0ed-e9374f36190d"
      },
      "execution_count": null,
      "outputs": [
        {
          "output_type": "stream",
          "name": "stdout",
          "text": [
            "(16893, 98) (16893, 2)\n",
            "(2109, 98) (2109, 2)\n",
            "(2088, 98) (2088, 2)\n"
          ]
        }
      ]
    },
    {
      "cell_type": "code",
      "source": [
        "from keras.layers import Input, LSTM, GRU, Dense, Embedding, Conv1D, MaxPooling1D, Activation\n",
        "from keras.layers import Reshape, Softmax, Permute, Multiply, dot, concatenate\n",
        "from keras.layers import BatchNormalization\n",
        "from keras.models import Model\n",
        "\n",
        "inputs = Input(shape=(98,1))\n",
        "conv1 = Conv1D(32, 5, activation='relu')(inputs)\n",
        "pool1 = MaxPooling1D(2)(conv1)\n",
        "conv2 = Conv1D(64, 5, activation='relu')(pool1)\n",
        "pool2 = MaxPooling1D(2)(conv2)\n",
        "conv3 = Conv1D(128, 5, activation='relu')(pool2)\n",
        "pool3 = MaxPooling1D(2)(conv3)\n",
        "\n",
        "gru1 = GRU(128, return_sequences=True)(pool3)\n",
        "gru2 = GRU(128)(gru1)\n",
        "\n",
        "q = Dense(128)(gru2)\n",
        "k = Dense(128)(gru2)\n",
        "v = Dense(128)(gru2)\n",
        "\n",
        "q = Reshape((1, 128))(q)\n",
        "k = Reshape((1, 128))(k)\n",
        "v = Reshape((1, 128))(v)\n",
        "\n",
        "attention = dot([q, k], axes=[2, 2])\n",
        "attention = Activation('softmax')(attention)\n",
        "\n",
        "output = dot([attention, v], axes=[2, 1])\n",
        "output = Reshape((128,))(output)\n",
        "\n",
        "output = Dense(2, activation='softmax')(output)\n",
        "\n",
        "model = Model(inputs=inputs, outputs=output)\n",
        "model.compile(optimizer=tf.keras.optimizers.Adam(amsgrad=True), loss='categorical_crossentropy', metrics=['accuracy'])\n",
        "\n",
        "print(model.summary())"
      ],
      "metadata": {
        "colab": {
          "base_uri": "https://localhost:8080/"
        },
        "id": "VTbs6Ji1Skoi",
        "outputId": "7d98aea0-9de8-4b1b-bfa3-403a967ec37b"
      },
      "execution_count": null,
      "outputs": [
        {
          "output_type": "stream",
          "name": "stdout",
          "text": [
            "Model: \"model\"\n",
            "__________________________________________________________________________________________________\n",
            " Layer (type)                   Output Shape         Param #     Connected to                     \n",
            "==================================================================================================\n",
            " input_1 (InputLayer)           [(None, 98, 1)]      0           []                               \n",
            "                                                                                                  \n",
            " conv1d (Conv1D)                (None, 94, 32)       192         ['input_1[0][0]']                \n",
            "                                                                                                  \n",
            " max_pooling1d (MaxPooling1D)   (None, 47, 32)       0           ['conv1d[0][0]']                 \n",
            "                                                                                                  \n",
            " conv1d_1 (Conv1D)              (None, 43, 64)       10304       ['max_pooling1d[0][0]']          \n",
            "                                                                                                  \n",
            " max_pooling1d_1 (MaxPooling1D)  (None, 21, 64)      0           ['conv1d_1[0][0]']               \n",
            "                                                                                                  \n",
            " conv1d_2 (Conv1D)              (None, 17, 128)      41088       ['max_pooling1d_1[0][0]']        \n",
            "                                                                                                  \n",
            " max_pooling1d_2 (MaxPooling1D)  (None, 8, 128)      0           ['conv1d_2[0][0]']               \n",
            "                                                                                                  \n",
            " gru (GRU)                      (None, 8, 128)       99072       ['max_pooling1d_2[0][0]']        \n",
            "                                                                                                  \n",
            " gru_1 (GRU)                    (None, 128)          99072       ['gru[0][0]']                    \n",
            "                                                                                                  \n",
            " dense (Dense)                  (None, 128)          16512       ['gru_1[0][0]']                  \n",
            "                                                                                                  \n",
            " dense_1 (Dense)                (None, 128)          16512       ['gru_1[0][0]']                  \n",
            "                                                                                                  \n",
            " reshape (Reshape)              (None, 1, 128)       0           ['dense[0][0]']                  \n",
            "                                                                                                  \n",
            " reshape_1 (Reshape)            (None, 1, 128)       0           ['dense_1[0][0]']                \n",
            "                                                                                                  \n",
            " dot (Dot)                      (None, 1, 1)         0           ['reshape[0][0]',                \n",
            "                                                                  'reshape_1[0][0]']              \n",
            "                                                                                                  \n",
            " dense_2 (Dense)                (None, 128)          16512       ['gru_1[0][0]']                  \n",
            "                                                                                                  \n",
            " activation (Activation)        (None, 1, 1)         0           ['dot[0][0]']                    \n",
            "                                                                                                  \n",
            " reshape_2 (Reshape)            (None, 1, 128)       0           ['dense_2[0][0]']                \n",
            "                                                                                                  \n",
            " dot_1 (Dot)                    (None, 1, 128)       0           ['activation[0][0]',             \n",
            "                                                                  'reshape_2[0][0]']              \n",
            "                                                                                                  \n",
            " reshape_3 (Reshape)            (None, 128)          0           ['dot_1[0][0]']                  \n",
            "                                                                                                  \n",
            " dense_3 (Dense)                (None, 2)            258         ['reshape_3[0][0]']              \n",
            "                                                                                                  \n",
            "==================================================================================================\n",
            "Total params: 299,522\n",
            "Trainable params: 299,522\n",
            "Non-trainable params: 0\n",
            "__________________________________________________________________________________________________\n",
            "None\n"
          ]
        }
      ]
    },
    {
      "cell_type": "code",
      "source": [
        "model.compile(\n",
        "    loss=\"categorical_crossentropy\",\n",
        "    optimizer=tf.keras.optimizers.Adam(amsgrad=True),\n",
        "    metrics=['accuracy']\n",
        ")"
      ],
      "metadata": {
        "id": "-yIJqsWiSm1-"
      },
      "execution_count": null,
      "outputs": []
    },
    {
      "cell_type": "code",
      "source": [
        "print(\"Model Score: \\n\")\n",
        "history = model.fit(X_train, y_train, validation_data = (X_val, y_val), epochs = 120)"
      ],
      "metadata": {
        "colab": {
          "base_uri": "https://localhost:8080/"
        },
        "id": "UMUPkLZ5htNZ",
        "outputId": "3566520b-5926-4cf1-c07c-278d94c6dafd"
      },
      "execution_count": null,
      "outputs": [
        {
          "output_type": "stream",
          "name": "stdout",
          "text": [
            "Model Score: \n",
            "\n",
            "Epoch 1/120\n",
            "528/528 [==============================] - 20s 11ms/step - loss: 0.3714 - accuracy: 0.8214 - val_loss: 0.2396 - val_accuracy: 0.9176\n",
            "Epoch 2/120\n",
            "528/528 [==============================] - 5s 9ms/step - loss: 0.1976 - accuracy: 0.9252 - val_loss: 0.2009 - val_accuracy: 0.9277\n",
            "Epoch 3/120\n",
            "528/528 [==============================] - 6s 11ms/step - loss: 0.1719 - accuracy: 0.9370 - val_loss: 0.2083 - val_accuracy: 0.9282\n",
            "Epoch 4/120\n",
            "528/528 [==============================] - 6s 11ms/step - loss: 0.1565 - accuracy: 0.9397 - val_loss: 0.1956 - val_accuracy: 0.9363\n",
            "Epoch 5/120\n",
            "528/528 [==============================] - 5s 9ms/step - loss: 0.1414 - accuracy: 0.9484 - val_loss: 0.1642 - val_accuracy: 0.9440\n",
            "Epoch 6/120\n",
            "528/528 [==============================] - 5s 10ms/step - loss: 0.1305 - accuracy: 0.9514 - val_loss: 0.1518 - val_accuracy: 0.9483\n",
            "Epoch 7/120\n",
            "528/528 [==============================] - 5s 10ms/step - loss: 0.1174 - accuracy: 0.9571 - val_loss: 0.1415 - val_accuracy: 0.9488\n",
            "Epoch 8/120\n",
            "528/528 [==============================] - 5s 9ms/step - loss: 0.1105 - accuracy: 0.9593 - val_loss: 0.1374 - val_accuracy: 0.9521\n",
            "Epoch 9/120\n",
            "528/528 [==============================] - 5s 10ms/step - loss: 0.0997 - accuracy: 0.9643 - val_loss: 0.1383 - val_accuracy: 0.9521\n",
            "Epoch 10/120\n",
            "528/528 [==============================] - 5s 9ms/step - loss: 0.0963 - accuracy: 0.9655 - val_loss: 0.1415 - val_accuracy: 0.9516\n",
            "Epoch 11/120\n",
            "528/528 [==============================] - 5s 9ms/step - loss: 0.0864 - accuracy: 0.9673 - val_loss: 0.1171 - val_accuracy: 0.9579\n",
            "Epoch 12/120\n",
            "528/528 [==============================] - 6s 11ms/step - loss: 0.0771 - accuracy: 0.9722 - val_loss: 0.1463 - val_accuracy: 0.9550\n",
            "Epoch 13/120\n",
            "528/528 [==============================] - 5s 9ms/step - loss: 0.0732 - accuracy: 0.9721 - val_loss: 0.1193 - val_accuracy: 0.9583\n",
            "Epoch 14/120\n",
            "528/528 [==============================] - 5s 10ms/step - loss: 0.0685 - accuracy: 0.9749 - val_loss: 0.1393 - val_accuracy: 0.9579\n",
            "Epoch 15/120\n",
            "528/528 [==============================] - 5s 10ms/step - loss: 0.0593 - accuracy: 0.9790 - val_loss: 0.1168 - val_accuracy: 0.9665\n",
            "Epoch 16/120\n",
            "528/528 [==============================] - 5s 9ms/step - loss: 0.0559 - accuracy: 0.9799 - val_loss: 0.1331 - val_accuracy: 0.9535\n",
            "Epoch 17/120\n",
            "528/528 [==============================] - 5s 10ms/step - loss: 0.0508 - accuracy: 0.9822 - val_loss: 0.1175 - val_accuracy: 0.9665\n",
            "Epoch 18/120\n",
            "528/528 [==============================] - 5s 10ms/step - loss: 0.0422 - accuracy: 0.9840 - val_loss: 0.1321 - val_accuracy: 0.9684\n",
            "Epoch 19/120\n",
            "528/528 [==============================] - 5s 9ms/step - loss: 0.0390 - accuracy: 0.9866 - val_loss: 0.1274 - val_accuracy: 0.9660\n",
            "Epoch 20/120\n",
            "528/528 [==============================] - 6s 11ms/step - loss: 0.0389 - accuracy: 0.9861 - val_loss: 0.1139 - val_accuracy: 0.9655\n",
            "Epoch 21/120\n",
            "528/528 [==============================] - 5s 9ms/step - loss: 0.0337 - accuracy: 0.9889 - val_loss: 0.1092 - val_accuracy: 0.9650\n",
            "Epoch 22/120\n",
            "528/528 [==============================] - 5s 10ms/step - loss: 0.0301 - accuracy: 0.9899 - val_loss: 0.1176 - val_accuracy: 0.9679\n",
            "Epoch 23/120\n",
            "528/528 [==============================] - 5s 10ms/step - loss: 0.0301 - accuracy: 0.9887 - val_loss: 0.1551 - val_accuracy: 0.9655\n",
            "Epoch 24/120\n",
            "528/528 [==============================] - 5s 9ms/step - loss: 0.0250 - accuracy: 0.9916 - val_loss: 0.1578 - val_accuracy: 0.9674\n",
            "Epoch 25/120\n",
            "528/528 [==============================] - 6s 11ms/step - loss: 0.0226 - accuracy: 0.9920 - val_loss: 0.1291 - val_accuracy: 0.9722\n",
            "Epoch 26/120\n",
            "528/528 [==============================] - 5s 9ms/step - loss: 0.0223 - accuracy: 0.9921 - val_loss: 0.1475 - val_accuracy: 0.9684\n",
            "Epoch 27/120\n",
            "528/528 [==============================] - 5s 9ms/step - loss: 0.0257 - accuracy: 0.9910 - val_loss: 0.1184 - val_accuracy: 0.9684\n",
            "Epoch 28/120\n",
            "528/528 [==============================] - 6s 11ms/step - loss: 0.0185 - accuracy: 0.9934 - val_loss: 0.1405 - val_accuracy: 0.9693\n",
            "Epoch 29/120\n",
            "528/528 [==============================] - 5s 9ms/step - loss: 0.0115 - accuracy: 0.9960 - val_loss: 0.1304 - val_accuracy: 0.9722\n",
            "Epoch 30/120\n",
            "528/528 [==============================] - 5s 10ms/step - loss: 0.0168 - accuracy: 0.9937 - val_loss: 0.1588 - val_accuracy: 0.9650\n",
            "Epoch 31/120\n",
            "528/528 [==============================] - 5s 9ms/step - loss: 0.0174 - accuracy: 0.9936 - val_loss: 0.1144 - val_accuracy: 0.9751\n",
            "Epoch 32/120\n",
            "528/528 [==============================] - 5s 9ms/step - loss: 0.0090 - accuracy: 0.9967 - val_loss: 0.1650 - val_accuracy: 0.9737\n",
            "Epoch 33/120\n",
            "528/528 [==============================] - 6s 10ms/step - loss: 0.0140 - accuracy: 0.9959 - val_loss: 0.1516 - val_accuracy: 0.9732\n",
            "Epoch 34/120\n",
            "528/528 [==============================] - 5s 9ms/step - loss: 0.0052 - accuracy: 0.9980 - val_loss: 0.1910 - val_accuracy: 0.9646\n",
            "Epoch 35/120\n",
            "528/528 [==============================] - 5s 9ms/step - loss: 0.0190 - accuracy: 0.9938 - val_loss: 0.1369 - val_accuracy: 0.9737\n",
            "Epoch 36/120\n",
            "528/528 [==============================] - 6s 10ms/step - loss: 0.0045 - accuracy: 0.9987 - val_loss: 0.1653 - val_accuracy: 0.9717\n",
            "Epoch 37/120\n",
            "528/528 [==============================] - 6s 11ms/step - loss: 0.0106 - accuracy: 0.9963 - val_loss: 0.1819 - val_accuracy: 0.9665\n",
            "Epoch 38/120\n",
            "528/528 [==============================] - 6s 11ms/step - loss: 0.0074 - accuracy: 0.9972 - val_loss: 0.1608 - val_accuracy: 0.9737\n",
            "Epoch 39/120\n",
            "528/528 [==============================] - 5s 9ms/step - loss: 0.0122 - accuracy: 0.9952 - val_loss: 0.1497 - val_accuracy: 0.9737\n",
            "Epoch 40/120\n",
            "528/528 [==============================] - 5s 10ms/step - loss: 0.0026 - accuracy: 0.9991 - val_loss: 0.1732 - val_accuracy: 0.9741\n",
            "Epoch 41/120\n",
            "528/528 [==============================] - 10s 18ms/step - loss: 3.0310e-04 - accuracy: 1.0000 - val_loss: 0.2173 - val_accuracy: 0.9737\n",
            "Epoch 42/120\n",
            "528/528 [==============================] - 5s 9ms/step - loss: 9.7740e-05 - accuracy: 1.0000 - val_loss: 0.2116 - val_accuracy: 0.9751\n",
            "Epoch 43/120\n",
            "528/528 [==============================] - 5s 10ms/step - loss: 4.9303e-05 - accuracy: 1.0000 - val_loss: 0.2197 - val_accuracy: 0.9761\n",
            "Epoch 44/120\n",
            "528/528 [==============================] - 5s 9ms/step - loss: 3.4388e-05 - accuracy: 1.0000 - val_loss: 0.2218 - val_accuracy: 0.9761\n",
            "Epoch 45/120\n",
            "528/528 [==============================] - 6s 11ms/step - loss: 2.7572e-05 - accuracy: 1.0000 - val_loss: 0.2241 - val_accuracy: 0.9756\n",
            "Epoch 46/120\n",
            "528/528 [==============================] - 5s 9ms/step - loss: 2.3420e-05 - accuracy: 1.0000 - val_loss: 0.2274 - val_accuracy: 0.9756\n",
            "Epoch 47/120\n",
            "528/528 [==============================] - 5s 9ms/step - loss: 2.0256e-05 - accuracy: 1.0000 - val_loss: 0.2295 - val_accuracy: 0.9751\n",
            "Epoch 48/120\n",
            "528/528 [==============================] - 6s 11ms/step - loss: 1.7804e-05 - accuracy: 1.0000 - val_loss: 0.2315 - val_accuracy: 0.9751\n",
            "Epoch 49/120\n",
            "528/528 [==============================] - 5s 9ms/step - loss: 1.5955e-05 - accuracy: 1.0000 - val_loss: 0.2333 - val_accuracy: 0.9751\n",
            "Epoch 50/120\n",
            "528/528 [==============================] - 5s 9ms/step - loss: 1.4424e-05 - accuracy: 1.0000 - val_loss: 0.2349 - val_accuracy: 0.9751\n",
            "Epoch 51/120\n",
            "528/528 [==============================] - 5s 10ms/step - loss: 1.3155e-05 - accuracy: 1.0000 - val_loss: 0.2365 - val_accuracy: 0.9741\n",
            "Epoch 52/120\n",
            "528/528 [==============================] - 5s 9ms/step - loss: 1.2098e-05 - accuracy: 1.0000 - val_loss: 0.2379 - val_accuracy: 0.9741\n",
            "Epoch 53/120\n",
            "528/528 [==============================] - 6s 11ms/step - loss: 1.1168e-05 - accuracy: 1.0000 - val_loss: 0.2392 - val_accuracy: 0.9741\n",
            "Epoch 54/120\n",
            "528/528 [==============================] - 5s 9ms/step - loss: 1.0387e-05 - accuracy: 1.0000 - val_loss: 0.2406 - val_accuracy: 0.9741\n",
            "Epoch 55/120\n",
            "528/528 [==============================] - 5s 9ms/step - loss: 9.7090e-06 - accuracy: 1.0000 - val_loss: 0.2419 - val_accuracy: 0.9741\n",
            "Epoch 56/120\n",
            "528/528 [==============================] - 6s 11ms/step - loss: 9.0821e-06 - accuracy: 1.0000 - val_loss: 0.2430 - val_accuracy: 0.9741\n",
            "Epoch 57/120\n",
            "528/528 [==============================] - 5s 10ms/step - loss: 8.5541e-06 - accuracy: 1.0000 - val_loss: 0.2442 - val_accuracy: 0.9741\n",
            "Epoch 58/120\n",
            "528/528 [==============================] - 6s 11ms/step - loss: 8.0511e-06 - accuracy: 1.0000 - val_loss: 0.2451 - val_accuracy: 0.9741\n",
            "Epoch 59/120\n",
            "528/528 [==============================] - 5s 10ms/step - loss: 7.6362e-06 - accuracy: 1.0000 - val_loss: 0.2461 - val_accuracy: 0.9741\n",
            "Epoch 60/120\n",
            "528/528 [==============================] - 5s 9ms/step - loss: 7.2403e-06 - accuracy: 1.0000 - val_loss: 0.2471 - val_accuracy: 0.9741\n",
            "Epoch 61/120\n",
            "528/528 [==============================] - 6s 11ms/step - loss: 6.8860e-06 - accuracy: 1.0000 - val_loss: 0.2480 - val_accuracy: 0.9741\n",
            "Epoch 62/120\n",
            "528/528 [==============================] - 5s 10ms/step - loss: 6.5601e-06 - accuracy: 1.0000 - val_loss: 0.2490 - val_accuracy: 0.9741\n",
            "Epoch 63/120\n",
            "528/528 [==============================] - 6s 11ms/step - loss: 6.2628e-06 - accuracy: 1.0000 - val_loss: 0.2498 - val_accuracy: 0.9741\n",
            "Epoch 64/120\n",
            "528/528 [==============================] - 5s 10ms/step - loss: 5.9927e-06 - accuracy: 1.0000 - val_loss: 0.2506 - val_accuracy: 0.9741\n",
            "Epoch 65/120\n",
            "528/528 [==============================] - 5s 9ms/step - loss: 5.7404e-06 - accuracy: 1.0000 - val_loss: 0.2514 - val_accuracy: 0.9741\n",
            "Epoch 66/120\n",
            "528/528 [==============================] - 6s 11ms/step - loss: 5.5135e-06 - accuracy: 1.0000 - val_loss: 0.2522 - val_accuracy: 0.9741\n",
            "Epoch 67/120\n",
            "528/528 [==============================] - 5s 9ms/step - loss: 5.2979e-06 - accuracy: 1.0000 - val_loss: 0.2530 - val_accuracy: 0.9741\n",
            "Epoch 68/120\n",
            "528/528 [==============================] - 6s 11ms/step - loss: 5.1001e-06 - accuracy: 1.0000 - val_loss: 0.2537 - val_accuracy: 0.9741\n",
            "Epoch 69/120\n",
            "528/528 [==============================] - 5s 10ms/step - loss: 4.9155e-06 - accuracy: 1.0000 - val_loss: 0.2544 - val_accuracy: 0.9741\n",
            "Epoch 70/120\n",
            "528/528 [==============================] - 5s 9ms/step - loss: 4.7409e-06 - accuracy: 1.0000 - val_loss: 0.2551 - val_accuracy: 0.9741\n",
            "Epoch 71/120\n",
            "528/528 [==============================] - 6s 11ms/step - loss: 4.5752e-06 - accuracy: 1.0000 - val_loss: 0.2558 - val_accuracy: 0.9741\n",
            "Epoch 72/120\n",
            "528/528 [==============================] - 5s 9ms/step - loss: 4.4257e-06 - accuracy: 1.0000 - val_loss: 0.2564 - val_accuracy: 0.9741\n",
            "Epoch 73/120\n",
            "528/528 [==============================] - 5s 10ms/step - loss: 4.2821e-06 - accuracy: 1.0000 - val_loss: 0.2571 - val_accuracy: 0.9746\n",
            "Epoch 74/120\n",
            "528/528 [==============================] - 6s 11ms/step - loss: 4.1435e-06 - accuracy: 1.0000 - val_loss: 0.2576 - val_accuracy: 0.9746\n",
            "Epoch 75/120\n",
            "528/528 [==============================] - 5s 10ms/step - loss: 4.0161e-06 - accuracy: 1.0000 - val_loss: 0.2583 - val_accuracy: 0.9746\n",
            "Epoch 76/120\n",
            "528/528 [==============================] - 6s 11ms/step - loss: 3.8966e-06 - accuracy: 1.0000 - val_loss: 0.2589 - val_accuracy: 0.9746\n",
            "Epoch 77/120\n",
            "528/528 [==============================] - 5s 9ms/step - loss: 3.7847e-06 - accuracy: 1.0000 - val_loss: 0.2594 - val_accuracy: 0.9746\n",
            "Epoch 78/120\n",
            "528/528 [==============================] - 5s 10ms/step - loss: 3.6760e-06 - accuracy: 1.0000 - val_loss: 0.2599 - val_accuracy: 0.9746\n",
            "Epoch 79/120\n",
            "528/528 [==============================] - 6s 11ms/step - loss: 3.5763e-06 - accuracy: 1.0000 - val_loss: 0.2605 - val_accuracy: 0.9746\n",
            "Epoch 80/120\n",
            "528/528 [==============================] - 5s 9ms/step - loss: 3.4762e-06 - accuracy: 1.0000 - val_loss: 0.2611 - val_accuracy: 0.9746\n",
            "Epoch 81/120\n",
            "528/528 [==============================] - 6s 11ms/step - loss: 3.3858e-06 - accuracy: 1.0000 - val_loss: 0.2616 - val_accuracy: 0.9746\n",
            "Epoch 82/120\n",
            "528/528 [==============================] - 5s 9ms/step - loss: 3.2985e-06 - accuracy: 1.0000 - val_loss: 0.2620 - val_accuracy: 0.9746\n",
            "Epoch 83/120\n",
            "528/528 [==============================] - 5s 9ms/step - loss: 3.2140e-06 - accuracy: 1.0000 - val_loss: 0.2625 - val_accuracy: 0.9746\n",
            "Epoch 84/120\n",
            "528/528 [==============================] - 6s 11ms/step - loss: 3.1329e-06 - accuracy: 1.0000 - val_loss: 0.2630 - val_accuracy: 0.9746\n",
            "Epoch 85/120\n",
            "528/528 [==============================] - 5s 9ms/step - loss: 3.0614e-06 - accuracy: 1.0000 - val_loss: 0.2635 - val_accuracy: 0.9746\n",
            "Epoch 86/120\n",
            "528/528 [==============================] - 6s 11ms/step - loss: 2.9875e-06 - accuracy: 1.0000 - val_loss: 0.2639 - val_accuracy: 0.9746\n",
            "Epoch 87/120\n",
            "528/528 [==============================] - 5s 10ms/step - loss: 2.9181e-06 - accuracy: 1.0000 - val_loss: 0.2644 - val_accuracy: 0.9746\n",
            "Epoch 88/120\n",
            "528/528 [==============================] - 5s 9ms/step - loss: 2.8525e-06 - accuracy: 1.0000 - val_loss: 0.2648 - val_accuracy: 0.9746\n",
            "Epoch 89/120\n",
            "528/528 [==============================] - 6s 11ms/step - loss: 2.7873e-06 - accuracy: 1.0000 - val_loss: 0.2652 - val_accuracy: 0.9746\n",
            "Epoch 90/120\n",
            "528/528 [==============================] - 5s 9ms/step - loss: 2.7313e-06 - accuracy: 1.0000 - val_loss: 0.2656 - val_accuracy: 0.9746\n",
            "Epoch 91/120\n",
            "528/528 [==============================] - 5s 9ms/step - loss: 2.6676e-06 - accuracy: 1.0000 - val_loss: 0.2661 - val_accuracy: 0.9746\n",
            "Epoch 92/120\n",
            "528/528 [==============================] - 5s 10ms/step - loss: 2.6114e-06 - accuracy: 1.0000 - val_loss: 0.2665 - val_accuracy: 0.9746\n",
            "Epoch 93/120\n",
            "528/528 [==============================] - 5s 9ms/step - loss: 2.5577e-06 - accuracy: 1.0000 - val_loss: 0.2669 - val_accuracy: 0.9746\n",
            "Epoch 94/120\n",
            "528/528 [==============================] - 6s 11ms/step - loss: 2.5056e-06 - accuracy: 1.0000 - val_loss: 0.2673 - val_accuracy: 0.9746\n",
            "Epoch 95/120\n",
            "528/528 [==============================] - 5s 9ms/step - loss: 2.4561e-06 - accuracy: 1.0000 - val_loss: 0.2676 - val_accuracy: 0.9746\n",
            "Epoch 96/120\n",
            "528/528 [==============================] - 5s 9ms/step - loss: 2.4079e-06 - accuracy: 1.0000 - val_loss: 0.2680 - val_accuracy: 0.9746\n",
            "Epoch 97/120\n",
            "528/528 [==============================] - 6s 10ms/step - loss: 2.3615e-06 - accuracy: 1.0000 - val_loss: 0.2684 - val_accuracy: 0.9746\n",
            "Epoch 98/120\n",
            "528/528 [==============================] - 5s 9ms/step - loss: 2.3167e-06 - accuracy: 1.0000 - val_loss: 0.2688 - val_accuracy: 0.9746\n",
            "Epoch 99/120\n",
            "528/528 [==============================] - 5s 9ms/step - loss: 2.2733e-06 - accuracy: 1.0000 - val_loss: 0.2691 - val_accuracy: 0.9746\n",
            "Epoch 100/120\n",
            "528/528 [==============================] - 5s 10ms/step - loss: 2.2322e-06 - accuracy: 1.0000 - val_loss: 0.2695 - val_accuracy: 0.9746\n",
            "Epoch 101/120\n",
            "528/528 [==============================] - 5s 9ms/step - loss: 2.1915e-06 - accuracy: 1.0000 - val_loss: 0.2698 - val_accuracy: 0.9746\n",
            "Epoch 102/120\n",
            "528/528 [==============================] - 6s 11ms/step - loss: 2.1524e-06 - accuracy: 1.0000 - val_loss: 0.2702 - val_accuracy: 0.9746\n",
            "Epoch 103/120\n",
            "528/528 [==============================] - 5s 9ms/step - loss: 2.1156e-06 - accuracy: 1.0000 - val_loss: 0.2705 - val_accuracy: 0.9746\n",
            "Epoch 104/120\n",
            "528/528 [==============================] - 5s 9ms/step - loss: 2.0791e-06 - accuracy: 1.0000 - val_loss: 0.2709 - val_accuracy: 0.9746\n",
            "Epoch 105/120\n",
            "528/528 [==============================] - 6s 11ms/step - loss: 2.0437e-06 - accuracy: 1.0000 - val_loss: 0.2712 - val_accuracy: 0.9746\n",
            "Epoch 106/120\n",
            "528/528 [==============================] - 5s 9ms/step - loss: 2.0094e-06 - accuracy: 1.0000 - val_loss: 0.2715 - val_accuracy: 0.9746\n",
            "Epoch 107/120\n",
            "528/528 [==============================] - 6s 11ms/step - loss: 1.9766e-06 - accuracy: 1.0000 - val_loss: 0.2718 - val_accuracy: 0.9751\n",
            "Epoch 108/120\n",
            "528/528 [==============================] - 5s 9ms/step - loss: 1.9448e-06 - accuracy: 1.0000 - val_loss: 0.2722 - val_accuracy: 0.9751\n",
            "Epoch 109/120\n",
            "528/528 [==============================] - 5s 9ms/step - loss: 1.9141e-06 - accuracy: 1.0000 - val_loss: 0.2725 - val_accuracy: 0.9751\n",
            "Epoch 110/120\n",
            "528/528 [==============================] - 6s 11ms/step - loss: 1.8839e-06 - accuracy: 1.0000 - val_loss: 0.2728 - val_accuracy: 0.9751\n",
            "Epoch 111/120\n",
            "528/528 [==============================] - 5s 9ms/step - loss: 1.8547e-06 - accuracy: 1.0000 - val_loss: 0.2731 - val_accuracy: 0.9751\n",
            "Epoch 112/120\n",
            "528/528 [==============================] - 6s 11ms/step - loss: 1.8264e-06 - accuracy: 1.0000 - val_loss: 0.2734 - val_accuracy: 0.9751\n",
            "Epoch 113/120\n",
            "528/528 [==============================] - 5s 9ms/step - loss: 1.7985e-06 - accuracy: 1.0000 - val_loss: 0.2737 - val_accuracy: 0.9751\n",
            "Epoch 114/120\n",
            "528/528 [==============================] - 5s 9ms/step - loss: 1.7718e-06 - accuracy: 1.0000 - val_loss: 0.2740 - val_accuracy: 0.9751\n",
            "Epoch 115/120\n",
            "528/528 [==============================] - 6s 11ms/step - loss: 1.7457e-06 - accuracy: 1.0000 - val_loss: 0.2743 - val_accuracy: 0.9751\n",
            "Epoch 116/120\n",
            "528/528 [==============================] - 5s 9ms/step - loss: 1.7199e-06 - accuracy: 1.0000 - val_loss: 0.2745 - val_accuracy: 0.9751\n",
            "Epoch 117/120\n",
            "528/528 [==============================] - 5s 10ms/step - loss: 1.6954e-06 - accuracy: 1.0000 - val_loss: 0.2748 - val_accuracy: 0.9751\n",
            "Epoch 118/120\n",
            "528/528 [==============================] - 5s 10ms/step - loss: 1.6718e-06 - accuracy: 1.0000 - val_loss: 0.2751 - val_accuracy: 0.9751\n",
            "Epoch 119/120\n",
            "528/528 [==============================] - 5s 9ms/step - loss: 1.6483e-06 - accuracy: 1.0000 - val_loss: 0.2754 - val_accuracy: 0.9751\n",
            "Epoch 120/120\n",
            "528/528 [==============================] - 5s 10ms/step - loss: 1.6263e-06 - accuracy: 1.0000 - val_loss: 0.2756 - val_accuracy: 0.9751\n"
          ]
        }
      ]
    },
    {
      "cell_type": "code",
      "source": [
        "model.save(\"CRNN-80-10-10-denoised.h5\")\n",
        "score = model.evaluate(X_test, y_test)\n",
        "print(score)"
      ],
      "metadata": {
        "colab": {
          "base_uri": "https://localhost:8080/"
        },
        "id": "A0GDwHCxVFOA",
        "outputId": "c6037b63-d846-4a7f-a713-1daf25973972"
      },
      "execution_count": null,
      "outputs": [
        {
          "output_type": "stream",
          "name": "stdout",
          "text": [
            "66/66 [==============================] - 0s 4ms/step - loss: 0.1403 - accuracy: 0.9844\n",
            "[0.14032800495624542, 0.9843527674674988]\n"
          ]
        }
      ]
    },
    {
      "cell_type": "code",
      "source": [
        "pip install plot_keras_history"
      ],
      "metadata": {
        "colab": {
          "base_uri": "https://localhost:8080/"
        },
        "id": "audvVlppvQfE",
        "outputId": "9beb83b1-af5a-4e39-ecbc-e21d24dfa8e6"
      },
      "execution_count": null,
      "outputs": [
        {
          "output_type": "stream",
          "name": "stdout",
          "text": [
            "Looking in indexes: https://pypi.org/simple, https://us-python.pkg.dev/colab-wheels/public/simple/\n",
            "Collecting plot_keras_history\n",
            "  Downloading plot_keras_history-1.1.38.tar.gz (11 kB)\n",
            "  Preparing metadata (setup.py) ... \u001b[?25l\u001b[?25hdone\n",
            "Requirement already satisfied: matplotlib in /usr/local/lib/python3.8/dist-packages (from plot_keras_history) (3.2.2)\n",
            "Requirement already satisfied: pandas in /usr/local/lib/python3.8/dist-packages (from plot_keras_history) (1.3.5)\n",
            "Requirement already satisfied: scipy in /usr/local/lib/python3.8/dist-packages (from plot_keras_history) (1.7.3)\n",
            "Collecting support_developer>=1.0.2\n",
            "  Downloading support_developer-1.0.5.tar.gz (4.9 kB)\n",
            "  Preparing metadata (setup.py) ... \u001b[?25l\u001b[?25hdone\n",
            "Collecting sanitize_ml_labels>=1.0.48\n",
            "  Downloading sanitize_ml_labels-1.0.50.tar.gz (322 kB)\n",
            "\u001b[2K     \u001b[90m━━━━━━━━━━━━━━━━━━━━━━━━━━━━━━━━━━━━━━━\u001b[0m \u001b[32m322.1/322.1 KB\u001b[0m \u001b[31m8.4 MB/s\u001b[0m eta \u001b[36m0:00:00\u001b[0m\n",
            "\u001b[?25h  Preparing metadata (setup.py) ... \u001b[?25l\u001b[?25hdone\n",
            "Collecting compress_json\n",
            "  Downloading compress_json-1.0.8.tar.gz (4.7 kB)\n",
            "  Preparing metadata (setup.py) ... \u001b[?25l\u001b[?25hdone\n",
            "Requirement already satisfied: numpy>=1.11 in /usr/local/lib/python3.8/dist-packages (from matplotlib->plot_keras_history) (1.21.6)\n",
            "Requirement already satisfied: cycler>=0.10 in /usr/local/lib/python3.8/dist-packages (from matplotlib->plot_keras_history) (0.11.0)\n",
            "Requirement already satisfied: python-dateutil>=2.1 in /usr/local/lib/python3.8/dist-packages (from matplotlib->plot_keras_history) (2.8.2)\n",
            "Requirement already satisfied: kiwisolver>=1.0.1 in /usr/local/lib/python3.8/dist-packages (from matplotlib->plot_keras_history) (1.4.4)\n",
            "Requirement already satisfied: pyparsing!=2.0.4,!=2.1.2,!=2.1.6,>=2.0.1 in /usr/local/lib/python3.8/dist-packages (from matplotlib->plot_keras_history) (3.0.9)\n",
            "Requirement already satisfied: pytz>=2017.3 in /usr/local/lib/python3.8/dist-packages (from pandas->plot_keras_history) (2022.7.1)\n",
            "Requirement already satisfied: six>=1.5 in /usr/local/lib/python3.8/dist-packages (from python-dateutil>=2.1->matplotlib->plot_keras_history) (1.15.0)\n",
            "Building wheels for collected packages: plot_keras_history, sanitize_ml_labels, support_developer, compress_json\n",
            "  Building wheel for plot_keras_history (setup.py) ... \u001b[?25l\u001b[?25hdone\n",
            "  Created wheel for plot_keras_history: filename=plot_keras_history-1.1.38-py3-none-any.whl size=9472 sha256=93a7652d4223fed424b8afb4293daa6d411a81c4773d70757d82036241189317\n",
            "  Stored in directory: /root/.cache/pip/wheels/97/a5/76/35ae3e15da1ce4530de8591b0bcd7716f6d6752a4808f01c04\n",
            "  Building wheel for sanitize_ml_labels (setup.py) ... \u001b[?25l\u001b[?25hdone\n",
            "  Created wheel for sanitize_ml_labels: filename=sanitize_ml_labels-1.0.50-py3-none-any.whl size=320514 sha256=8b8bafa1335c4e37055b7dede2c22617b0e1a175d579aedeee43061bf120c11b\n",
            "  Stored in directory: /root/.cache/pip/wheels/a3/5f/ba/ddd191edb6c749a63cffabd28714d5600b5b58014daf7434a8\n",
            "  Building wheel for support_developer (setup.py) ... \u001b[?25l\u001b[?25hdone\n",
            "  Created wheel for support_developer: filename=support_developer-1.0.5-py3-none-any.whl size=5650 sha256=988ac20fb94fe76ea70478314c71a332ff001c11225c048682d96c5aa9d38a6f\n",
            "  Stored in directory: /root/.cache/pip/wheels/11/5e/63/51e84640e77a7dc5f1e5f5eb597e8f1bc730a2818ee5c3fc03\n",
            "  Building wheel for compress_json (setup.py) ... \u001b[?25l\u001b[?25hdone\n",
            "  Created wheel for compress_json: filename=compress_json-1.0.8-py3-none-any.whl size=4733 sha256=6c7beb1f65b94f9be4031db2f02900816b04e44735f126365af4ebd19ebf677f\n",
            "  Stored in directory: /root/.cache/pip/wheels/fe/36/4b/69aaa23fc0ea813dc1f8cca3372bff314abed354cac20a1cb9\n",
            "Successfully built plot_keras_history sanitize_ml_labels support_developer compress_json\n",
            "Installing collected packages: support_developer, compress_json, sanitize_ml_labels, plot_keras_history\n",
            "Successfully installed compress_json-1.0.8 plot_keras_history-1.1.38 sanitize_ml_labels-1.0.50 support_developer-1.0.5\n"
          ]
        }
      ]
    },
    {
      "cell_type": "code",
      "source": [
        "from plot_keras_history import show_history, plot_history\n",
        "import matplotlib.pyplot as plt\n",
        "plot_history(history)"
      ],
      "metadata": {
        "colab": {
          "base_uri": "https://localhost:8080/",
          "height": 601
        },
        "id": "esfMhDOhXDyI",
        "outputId": "177f2b17-9347-4bf5-c264-890275d2a573"
      },
      "execution_count": null,
      "outputs": [
        {
          "output_type": "execute_result",
          "data": {
            "text/plain": [
              "(<Figure size 1000x500 with 2 Axes>,\n",
              " array([<matplotlib.axes._subplots.AxesSubplot object at 0x7faafde473d0>,\n",
              "        <matplotlib.axes._subplots.AxesSubplot object at 0x7faafde136a0>],\n",
              "       dtype=object))"
            ]
          },
          "metadata": {},
          "execution_count": 10
        },
        {
          "output_type": "display_data",
          "data": {
            "text/plain": [
              "<Figure size 1000x500 with 2 Axes>"
            ],
            "image/png": "[encoded data removed]"
          },
          "metadata": {
            "needs_background": "light"
          }
        }
      ]
    },
    {
      "cell_type": "code",
      "source": [
        "import matplotlib.pyplot as plt\n",
        "import itertools\n",
        "import numpy as np\n",
        "\n",
        "def plot_confusion_matrix(cm, classes,\n",
        "                        normalize=False,\n",
        "                        title='Confusion matrix',\n",
        "                        cmap=plt.cm.Blues):\n",
        "    \"\"\"\n",
        "    This function prints and plots the confusion matrix.\n",
        "    Normalization can be applied by setting `normalize=True`.\n",
        "    \"\"\"\n",
        "    plt.imshow(cm, interpolation='nearest', cmap=cmap)\n",
        "    plt.title(title)\n",
        "    plt.colorbar()\n",
        "    tick_marks = np.arange(len(classes))\n",
        "    plt.xticks(tick_marks, classes, rotation=45)\n",
        "    plt.yticks(tick_marks, classes)\n",
        "\n",
        "    if normalize:\n",
        "        cm = cm.astype('float') / cm.sum(axis=1)[:, np.newaxis]\n",
        "        print(\"Normalized confusion matrix\")\n",
        "    else:\n",
        "        print('Confusion matrix, without normalization')\n",
        "\n",
        "    print(cm)\n",
        "\n",
        "    thresh = cm.max() / 2.\n",
        "    for i, j in itertools.product(range(cm.shape[0]), range(cm.shape[1])):\n",
        "        plt.text(j, i, cm[i, j],\n",
        "            horizontalalignment=\"center\",\n",
        "            color=\"white\" if cm[i, j] > thresh else \"black\")\n",
        "\n",
        "    plt.tight_layout()\n",
        "    plt.ylabel('True label')\n",
        "    plt.xlabel('Predicted label')\n",
        "    plt.show()"
      ],
      "metadata": {
        "id": "m-Ulk4EBXd0y"
      },
      "execution_count": null,
      "outputs": []
    },
    {
      "cell_type": "code",
      "source": [
        "print(\"Model Classification Report: \\n\")\n",
        "y_pred = np.argmax(model.predict(X_test), axis=1)\n",
        "cm = confusion_matrix(np.argmax(y_test, axis=1), y_pred)\n",
        "print(classification_report(np.argmax(y_test, axis=1), y_pred))\n",
        "plot_confusion_matrix(cm, classes=[\"Does not have Wake Word\", \"Has Wake Word\"])"
      ],
      "metadata": {
        "colab": {
          "base_uri": "https://localhost:8080/",
          "height": 583
        },
        "id": "TflcZEOXXhi9",
        "outputId": "913c4ea2-3867-4926-f619-b52f7305fc2d"
      },
      "execution_count": null,
      "outputs": [
        {
          "output_type": "stream",
          "name": "stdout",
          "text": [
            "Model Classification Report: \n",
            "\n",
            "66/66 [==============================] - 1s 3ms/step\n",
            "              precision    recall  f1-score   support\n",
            "\n",
            "           0       0.99      0.98      0.98      1049\n",
            "           1       0.98      0.99      0.98      1060\n",
            "\n",
            "    accuracy                           0.98      2109\n",
            "   macro avg       0.98      0.98      0.98      2109\n",
            "weighted avg       0.98      0.98      0.98      2109\n",
            "\n",
            "Confusion matrix, without normalization\n",
            "[[1030   19]\n",
            " [  14 1046]]\n"
          ]
        },
        {
          "output_type": "display_data",
          "data": {
            "text/plain": [
              "<Figure size 432x288 with 2 Axes>"
            ],
            "image/png": "[encoded data removed]"
          },
          "metadata": {
            "needs_background": "light"
          }
        }
      ]
    }
  ]
}