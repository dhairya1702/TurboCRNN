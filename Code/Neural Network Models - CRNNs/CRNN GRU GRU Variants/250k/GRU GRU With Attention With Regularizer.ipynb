{
  "nbformat": 4,
  "nbformat_minor": 0,
  "metadata": {
    "colab": {
      "provenance": []
    },
    "kernelspec": {
      "name": "python3",
      "display_name": "Python 3"
    },
    "language_info": {
      "name": "python"
    },
    "accelerator": "GPU",
    "gpuClass": "standard"
  },
  "cells": [
    {
      "cell_type": "code",
      "execution_count": null,
      "metadata": {
        "colab": {
          "base_uri": "https://localhost:8080/"
        },
        "id": "SANNUYcJSP0l",
        "outputId": "80dc140e-6d59-49d0-c1bd-72aa5060b259"
      },
      "outputs": [
        {
          "output_type": "stream",
          "name": "stdout",
          "text": [
            "Drive already mounted at /content/gdrive; to attempt to forcibly remount, call drive.mount(\"/content/gdrive\", force_remount=True).\n"
          ]
        }
      ],
      "source": [
        "from google.colab import drive\n",
        "drive.mount('/content/gdrive')"
      ]
    },
    {
      "cell_type": "code",
      "source": [
        "import os\n",
        "import numpy as np\n",
        "import pandas as pd\n",
        "import matplotlib.pyplot as plt\n",
        "import librosa, librosa.display\n",
        "\n",
        "import tensorflow as tf \n",
        "from sklearn.model_selection import train_test_split\n",
        "from tensorflow.keras import Sequential\n",
        "from tensorflow.keras.layers import Dense, Activation, Dropout, GRU, Input\n",
        "from sklearn.metrics import confusion_matrix, classification_report"
      ],
      "metadata": {
        "id": "eLL0gmwaSZ8q"
      },
      "execution_count": null,
      "outputs": []
    },
    {
      "cell_type": "code",
      "source": [
        "X_train = np.load('/content/gdrive/MyDrive/Colab Notebooks/FYP/WaveletTransformDenoised/X_train.npy')\n",
        "y_train = np.load('/content/gdrive/MyDrive/Colab Notebooks/FYP/WaveletTransformDenoised/y_train.npy')\n",
        "X_test = np.load('/content/gdrive/MyDrive/Colab Notebooks/FYP/WaveletTransformDenoised/X_test.npy')\n",
        "y_test = np.load('/content/gdrive/MyDrive/Colab Notebooks/FYP/WaveletTransformDenoised/y_test.npy')\n",
        "X_val = np.load('/content/gdrive/MyDrive/Colab Notebooks/FYP/WaveletTransformDenoised/X_val.npy')\n",
        "y_val = np.load('/content/gdrive/MyDrive/Colab Notebooks/FYP/WaveletTransformDenoised/y_val.npy')"
      ],
      "metadata": {
        "id": "0Kq84or6Sfqz"
      },
      "execution_count": null,
      "outputs": []
    },
    {
      "cell_type": "code",
      "source": [
        "print(X_train.shape, y_train.shape)\n",
        "print(X_test.shape, y_test.shape)\n",
        "print(X_val.shape, y_val.shape)"
      ],
      "metadata": {
        "colab": {
          "base_uri": "https://localhost:8080/"
        },
        "id": "yT10o_10ShvM",
        "outputId": "69452759-435d-4238-fc2d-79b38af2b6c6"
      },
      "execution_count": null,
      "outputs": [
        {
          "output_type": "stream",
          "name": "stdout",
          "text": [
            "(16893, 98) (16893, 2)\n",
            "(2109, 98) (2109, 2)\n",
            "(2088, 98) (2088, 2)\n"
          ]
        }
      ]
    },
    {
      "cell_type": "code",
      "source": [
        "from keras.layers import Input, LSTM, GRU, Dense, Embedding, Conv1D, MaxPooling1D, Activation\n",
        "from keras.layers import Reshape, Softmax, Permute, Multiply, dot, concatenate\n",
        "from keras.layers import BatchNormalization\n",
        "from keras.models import Model\n",
        "from keras.regularizers import l2\n",
        "\n",
        "inputs = Input(shape=(98,1))\n",
        "conv1 = Conv1D(32, 5, activation='relu', kernel_regularizer=l2(0.01))(inputs)\n",
        "pool1 = MaxPooling1D(2)(conv1)\n",
        "conv2 = Conv1D(64, 5, activation='relu')(pool1)\n",
        "pool2 = MaxPooling1D(2)(conv2)\n",
        "conv3 = Conv1D(128, 5, activation='relu')(pool2)\n",
        "pool3 = MaxPooling1D(2)(conv3)\n",
        "\n",
        "gru1 = GRU(128, return_sequences=True)(pool3)\n",
        "gru2 = GRU(128)(gru1)\n",
        "gru2 = Dropout(0.2)(gru2)\n",
        "\n",
        "q = Dense(128)(gru2)\n",
        "k = Dense(128)(gru2)\n",
        "v = Dense(128)(gru2)\n",
        "\n",
        "q = Reshape((1, 128))(q)\n",
        "k = Reshape((1, 128))(k)\n",
        "v = Reshape((1, 128))(v)\n",
        "\n",
        "attention = dot([q, k], axes=[2, 2])\n",
        "attention = Activation('softmax')(attention)\n",
        "\n",
        "output = dot([attention, v], axes=[2, 1])\n",
        "output = Reshape((128,))(output)\n",
        "\n",
        "output = Dense(2, activation='softmax')(output)\n",
        "\n",
        "model = Model(inputs=inputs, outputs=output)\n",
        "\n",
        "print(model.summary())"
      ],
      "metadata": {
        "colab": {
          "base_uri": "https://localhost:8080/"
        },
        "id": "VTbs6Ji1Skoi",
        "outputId": "141ca509-7473-4f72-fb9c-72afc0dc5c47"
      },
      "execution_count": null,
      "outputs": [
        {
          "output_type": "stream",
          "name": "stdout",
          "text": [
            "Model: \"model_1\"\n",
            "__________________________________________________________________________________________________\n",
            " Layer (type)                   Output Shape         Param #     Connected to                     \n",
            "==================================================================================================\n",
            " input_2 (InputLayer)           [(None, 98, 1)]      0           []                               \n",
            "                                                                                                  \n",
            " conv1d_3 (Conv1D)              (None, 94, 32)       192         ['input_2[0][0]']                \n",
            "                                                                                                  \n",
            " max_pooling1d_3 (MaxPooling1D)  (None, 47, 32)      0           ['conv1d_3[0][0]']               \n",
            "                                                                                                  \n",
            " conv1d_4 (Conv1D)              (None, 43, 64)       10304       ['max_pooling1d_3[0][0]']        \n",
            "                                                                                                  \n",
            " max_pooling1d_4 (MaxPooling1D)  (None, 21, 64)      0           ['conv1d_4[0][0]']               \n",
            "                                                                                                  \n",
            " conv1d_5 (Conv1D)              (None, 17, 128)      41088       ['max_pooling1d_4[0][0]']        \n",
            "                                                                                                  \n",
            " max_pooling1d_5 (MaxPooling1D)  (None, 8, 128)      0           ['conv1d_5[0][0]']               \n",
            "                                                                                                  \n",
            " gru_2 (GRU)                    (None, 8, 128)       99072       ['max_pooling1d_5[0][0]']        \n",
            "                                                                                                  \n",
            " gru_3 (GRU)                    (None, 128)          99072       ['gru_2[0][0]']                  \n",
            "                                                                                                  \n",
            " dropout_1 (Dropout)            (None, 128)          0           ['gru_3[0][0]']                  \n",
            "                                                                                                  \n",
            " dense_4 (Dense)                (None, 128)          16512       ['dropout_1[0][0]']              \n",
            "                                                                                                  \n",
            " dense_5 (Dense)                (None, 128)          16512       ['dropout_1[0][0]']              \n",
            "                                                                                                  \n",
            " reshape_4 (Reshape)            (None, 1, 128)       0           ['dense_4[0][0]']                \n",
            "                                                                                                  \n",
            " reshape_5 (Reshape)            (None, 1, 128)       0           ['dense_5[0][0]']                \n",
            "                                                                                                  \n",
            " dot_2 (Dot)                    (None, 1, 1)         0           ['reshape_4[0][0]',              \n",
            "                                                                  'reshape_5[0][0]']              \n",
            "                                                                                                  \n",
            " dense_6 (Dense)                (None, 128)          16512       ['dropout_1[0][0]']              \n",
            "                                                                                                  \n",
            " activation_1 (Activation)      (None, 1, 1)         0           ['dot_2[0][0]']                  \n",
            "                                                                                                  \n",
            " reshape_6 (Reshape)            (None, 1, 128)       0           ['dense_6[0][0]']                \n",
            "                                                                                                  \n",
            " dot_3 (Dot)                    (None, 1, 128)       0           ['activation_1[0][0]',           \n",
            "                                                                  'reshape_6[0][0]']              \n",
            "                                                                                                  \n",
            " reshape_7 (Reshape)            (None, 128)          0           ['dot_3[0][0]']                  \n",
            "                                                                                                  \n",
            " dense_7 (Dense)                (None, 2)            258         ['reshape_7[0][0]']              \n",
            "                                                                                                  \n",
            "==================================================================================================\n",
            "Total params: 299,522\n",
            "Trainable params: 299,522\n",
            "Non-trainable params: 0\n",
            "__________________________________________________________________________________________________\n",
            "None\n"
          ]
        }
      ]
    },
    {
      "cell_type": "code",
      "source": [
        "model.compile(\n",
        "    loss=\"categorical_crossentropy\",\n",
        "    optimizer=tf.keras.optimizers.Adam(amsgrad=True,lr=0.001),\n",
        "    metrics=['accuracy']\n",
        ")"
      ],
      "metadata": {
        "id": "-yIJqsWiSm1-",
        "colab": {
          "base_uri": "https://localhost:8080/"
        },
        "outputId": "d56c8c63-78e4-4709-9d0d-2742a944c93a"
      },
      "execution_count": null,
      "outputs": [
        {
          "output_type": "stream",
          "name": "stderr",
          "text": [
            "WARNING:absl:`lr` is deprecated, please use `learning_rate` instead, or use the legacy optimizer, e.g.,tf.keras.optimizers.legacy.Adam.\n"
          ]
        }
      ]
    },
    {
      "cell_type": "code",
      "source": [
        "print(\"Model Score: \\n\")\n",
        "history = model.fit(X_train, y_train, validation_data = (X_val, y_val), epochs = 120)"
      ],
      "metadata": {
        "colab": {
          "base_uri": "https://localhost:8080/"
        },
        "id": "UMUPkLZ5htNZ",
        "outputId": "e39215f3-0294-4742-8320-83f3edd52361"
      },
      "execution_count": null,
      "outputs": [
        {
          "output_type": "stream",
          "name": "stdout",
          "text": [
            "Model Score: \n",
            "\n",
            "Epoch 1/120\n",
            "528/528 [==============================] - 12s 10ms/step - loss: 0.3929 - accuracy: 0.8112 - val_loss: 0.2443 - val_accuracy: 0.9195\n",
            "Epoch 2/120\n",
            "528/528 [==============================] - 5s 10ms/step - loss: 0.2012 - accuracy: 0.9293 - val_loss: 0.1927 - val_accuracy: 0.9344\n",
            "Epoch 3/120\n",
            "528/528 [==============================] - 5s 10ms/step - loss: 0.1737 - accuracy: 0.9390 - val_loss: 0.1809 - val_accuracy: 0.9387\n",
            "Epoch 4/120\n",
            "528/528 [==============================] - 5s 9ms/step - loss: 0.1552 - accuracy: 0.9475 - val_loss: 0.1900 - val_accuracy: 0.9320\n",
            "Epoch 5/120\n",
            "528/528 [==============================] - 6s 11ms/step - loss: 0.1404 - accuracy: 0.9518 - val_loss: 0.1635 - val_accuracy: 0.9435\n",
            "Epoch 6/120\n",
            "528/528 [==============================] - 5s 9ms/step - loss: 0.1288 - accuracy: 0.9555 - val_loss: 0.1451 - val_accuracy: 0.9516\n",
            "Epoch 7/120\n",
            "528/528 [==============================] - 5s 9ms/step - loss: 0.1200 - accuracy: 0.9593 - val_loss: 0.1412 - val_accuracy: 0.9459\n",
            "Epoch 8/120\n",
            "528/528 [==============================] - 6s 11ms/step - loss: 0.1080 - accuracy: 0.9629 - val_loss: 0.1786 - val_accuracy: 0.9358\n",
            "Epoch 9/120\n",
            "528/528 [==============================] - 5s 9ms/step - loss: 0.0997 - accuracy: 0.9679 - val_loss: 0.1158 - val_accuracy: 0.9593\n",
            "Epoch 10/120\n",
            "528/528 [==============================] - 6s 11ms/step - loss: 0.0947 - accuracy: 0.9689 - val_loss: 0.1188 - val_accuracy: 0.9602\n",
            "Epoch 11/120\n",
            "528/528 [==============================] - 5s 10ms/step - loss: 0.0850 - accuracy: 0.9720 - val_loss: 0.1533 - val_accuracy: 0.9478\n",
            "Epoch 12/120\n",
            "528/528 [==============================] - 5s 10ms/step - loss: 0.0776 - accuracy: 0.9746 - val_loss: 0.1070 - val_accuracy: 0.9631\n",
            "Epoch 13/120\n",
            "528/528 [==============================] - 6s 11ms/step - loss: 0.0692 - accuracy: 0.9785 - val_loss: 0.1069 - val_accuracy: 0.9626\n",
            "Epoch 14/120\n",
            "528/528 [==============================] - 5s 9ms/step - loss: 0.0648 - accuracy: 0.9783 - val_loss: 0.1335 - val_accuracy: 0.9559\n",
            "Epoch 15/120\n",
            "528/528 [==============================] - 5s 10ms/step - loss: 0.0635 - accuracy: 0.9808 - val_loss: 0.1451 - val_accuracy: 0.9488\n",
            "Epoch 16/120\n",
            "528/528 [==============================] - 5s 10ms/step - loss: 0.0568 - accuracy: 0.9818 - val_loss: 0.1070 - val_accuracy: 0.9660\n",
            "Epoch 17/120\n",
            "528/528 [==============================] - 5s 9ms/step - loss: 0.0539 - accuracy: 0.9838 - val_loss: 0.0967 - val_accuracy: 0.9693\n",
            "Epoch 18/120\n",
            "528/528 [==============================] - 6s 11ms/step - loss: 0.0515 - accuracy: 0.9841 - val_loss: 0.1281 - val_accuracy: 0.9622\n",
            "Epoch 19/120\n",
            "528/528 [==============================] - 5s 9ms/step - loss: 0.0468 - accuracy: 0.9856 - val_loss: 0.0989 - val_accuracy: 0.9703\n",
            "Epoch 20/120\n",
            "528/528 [==============================] - 5s 9ms/step - loss: 0.0415 - accuracy: 0.9886 - val_loss: 0.1094 - val_accuracy: 0.9713\n",
            "Epoch 21/120\n",
            "528/528 [==============================] - 6s 11ms/step - loss: 0.0417 - accuracy: 0.9886 - val_loss: 0.1358 - val_accuracy: 0.9665\n",
            "Epoch 22/120\n",
            "528/528 [==============================] - 5s 9ms/step - loss: 0.0345 - accuracy: 0.9899 - val_loss: 0.1027 - val_accuracy: 0.9727\n",
            "Epoch 23/120\n",
            "528/528 [==============================] - 6s 11ms/step - loss: 0.0350 - accuracy: 0.9897 - val_loss: 0.1481 - val_accuracy: 0.9708\n",
            "Epoch 24/120\n",
            "528/528 [==============================] - 5s 9ms/step - loss: 0.0298 - accuracy: 0.9926 - val_loss: 0.1020 - val_accuracy: 0.9698\n",
            "Epoch 25/120\n",
            "528/528 [==============================] - 5s 9ms/step - loss: 0.0336 - accuracy: 0.9896 - val_loss: 0.1301 - val_accuracy: 0.9674\n",
            "Epoch 26/120\n",
            "528/528 [==============================] - 7s 13ms/step - loss: 0.0307 - accuracy: 0.9917 - val_loss: 0.1237 - val_accuracy: 0.9674\n",
            "Epoch 27/120\n",
            "528/528 [==============================] - 5s 9ms/step - loss: 0.0247 - accuracy: 0.9937 - val_loss: 0.1626 - val_accuracy: 0.9670\n",
            "Epoch 28/120\n",
            "528/528 [==============================] - 6s 11ms/step - loss: 0.0301 - accuracy: 0.9920 - val_loss: 0.1195 - val_accuracy: 0.9698\n",
            "Epoch 29/120\n",
            "528/528 [==============================] - 5s 10ms/step - loss: 0.0243 - accuracy: 0.9941 - val_loss: 0.1819 - val_accuracy: 0.9660\n",
            "Epoch 30/120\n",
            "528/528 [==============================] - 5s 9ms/step - loss: 0.0272 - accuracy: 0.9931 - val_loss: 0.1230 - val_accuracy: 0.9722\n",
            "Epoch 31/120\n",
            "528/528 [==============================] - 6s 11ms/step - loss: 0.0250 - accuracy: 0.9931 - val_loss: 0.1579 - val_accuracy: 0.9650\n",
            "Epoch 32/120\n",
            "528/528 [==============================] - 5s 9ms/step - loss: 0.0227 - accuracy: 0.9944 - val_loss: 0.1381 - val_accuracy: 0.9693\n",
            "Epoch 33/120\n",
            "528/528 [==============================] - 5s 10ms/step - loss: 0.0158 - accuracy: 0.9970 - val_loss: 0.1665 - val_accuracy: 0.9717\n",
            "Epoch 34/120\n",
            "528/528 [==============================] - 6s 10ms/step - loss: 0.0240 - accuracy: 0.9935 - val_loss: 0.1525 - val_accuracy: 0.9761\n",
            "Epoch 35/120\n",
            "528/528 [==============================] - 5s 9ms/step - loss: 0.0173 - accuracy: 0.9963 - val_loss: 0.1776 - val_accuracy: 0.9679\n",
            "Epoch 36/120\n",
            "528/528 [==============================] - 6s 11ms/step - loss: 0.0159 - accuracy: 0.9970 - val_loss: 0.1757 - val_accuracy: 0.9713\n",
            "Epoch 37/120\n",
            "528/528 [==============================] - 5s 9ms/step - loss: 0.0157 - accuracy: 0.9966 - val_loss: 0.1771 - val_accuracy: 0.9717\n",
            "Epoch 38/120\n",
            "528/528 [==============================] - 5s 9ms/step - loss: 0.0236 - accuracy: 0.9944 - val_loss: 0.1218 - val_accuracy: 0.9751\n",
            "Epoch 39/120\n",
            "528/528 [==============================] - 6s 11ms/step - loss: 0.0129 - accuracy: 0.9977 - val_loss: 0.1907 - val_accuracy: 0.9751\n",
            "Epoch 40/120\n",
            "528/528 [==============================] - 5s 9ms/step - loss: 0.0170 - accuracy: 0.9963 - val_loss: 0.1494 - val_accuracy: 0.9756\n",
            "Epoch 41/120\n",
            "528/528 [==============================] - 5s 10ms/step - loss: 0.0139 - accuracy: 0.9974 - val_loss: 0.1810 - val_accuracy: 0.9708\n",
            "Epoch 42/120\n",
            "528/528 [==============================] - 5s 10ms/step - loss: 0.0177 - accuracy: 0.9957 - val_loss: 0.1502 - val_accuracy: 0.9722\n",
            "Epoch 43/120\n",
            "528/528 [==============================] - 5s 9ms/step - loss: 0.0102 - accuracy: 0.9986 - val_loss: 0.1911 - val_accuracy: 0.9703\n",
            "Epoch 44/120\n",
            "528/528 [==============================] - 6s 11ms/step - loss: 0.0087 - accuracy: 0.9987 - val_loss: 0.1914 - val_accuracy: 0.9732\n",
            "Epoch 45/120\n",
            "528/528 [==============================] - 5s 9ms/step - loss: 0.0117 - accuracy: 0.9981 - val_loss: 0.1661 - val_accuracy: 0.9717\n",
            "Epoch 46/120\n",
            "528/528 [==============================] - 6s 11ms/step - loss: 0.0125 - accuracy: 0.9974 - val_loss: 0.1863 - val_accuracy: 0.9698\n",
            "Epoch 47/120\n",
            "528/528 [==============================] - 5s 10ms/step - loss: 0.0171 - accuracy: 0.9961 - val_loss: 0.1407 - val_accuracy: 0.9737\n",
            "Epoch 48/120\n",
            "528/528 [==============================] - 5s 9ms/step - loss: 0.0108 - accuracy: 0.9982 - val_loss: 0.1687 - val_accuracy: 0.9727\n",
            "Epoch 49/120\n",
            "528/528 [==============================] - 6s 11ms/step - loss: 0.0072 - accuracy: 0.9993 - val_loss: 0.2081 - val_accuracy: 0.9689\n",
            "Epoch 50/120\n",
            "528/528 [==============================] - 5s 9ms/step - loss: 0.0165 - accuracy: 0.9965 - val_loss: 0.1528 - val_accuracy: 0.9756\n",
            "Epoch 51/120\n",
            "528/528 [==============================] - 5s 10ms/step - loss: 0.0096 - accuracy: 0.9985 - val_loss: 0.1659 - val_accuracy: 0.9751\n",
            "Epoch 52/120\n",
            "528/528 [==============================] - 5s 10ms/step - loss: 0.0061 - accuracy: 0.9998 - val_loss: 0.1769 - val_accuracy: 0.9756\n",
            "Epoch 53/120\n",
            "528/528 [==============================] - 5s 9ms/step - loss: 0.0145 - accuracy: 0.9969 - val_loss: 0.1499 - val_accuracy: 0.9713\n",
            "Epoch 54/120\n",
            "528/528 [==============================] - 6s 11ms/step - loss: 0.0093 - accuracy: 0.9986 - val_loss: 0.2077 - val_accuracy: 0.9732\n",
            "Epoch 55/120\n",
            "528/528 [==============================] - 5s 9ms/step - loss: 0.0122 - accuracy: 0.9977 - val_loss: 0.1712 - val_accuracy: 0.9713\n",
            "Epoch 56/120\n",
            "528/528 [==============================] - 5s 9ms/step - loss: 0.0071 - accuracy: 0.9992 - val_loss: 0.1927 - val_accuracy: 0.9746\n",
            "Epoch 57/120\n",
            "528/528 [==============================] - 6s 11ms/step - loss: 0.0127 - accuracy: 0.9974 - val_loss: 0.1632 - val_accuracy: 0.9732\n",
            "Epoch 58/120\n",
            "528/528 [==============================] - 5s 9ms/step - loss: 0.0051 - accuracy: 0.9999 - val_loss: 0.2082 - val_accuracy: 0.9741\n",
            "Epoch 59/120\n",
            "528/528 [==============================] - 5s 10ms/step - loss: 0.0045 - accuracy: 1.0000 - val_loss: 0.2094 - val_accuracy: 0.9737\n",
            "Epoch 60/120\n",
            "528/528 [==============================] - 5s 10ms/step - loss: 0.0042 - accuracy: 1.0000 - val_loss: 0.2187 - val_accuracy: 0.9737\n",
            "Epoch 61/120\n",
            "528/528 [==============================] - 5s 9ms/step - loss: 0.0041 - accuracy: 1.0000 - val_loss: 0.2215 - val_accuracy: 0.9741\n",
            "Epoch 62/120\n",
            "528/528 [==============================] - 6s 11ms/step - loss: 0.0039 - accuracy: 1.0000 - val_loss: 0.2286 - val_accuracy: 0.9741\n",
            "Epoch 63/120\n",
            "528/528 [==============================] - 5s 9ms/step - loss: 0.0037 - accuracy: 1.0000 - val_loss: 0.2339 - val_accuracy: 0.9741\n",
            "Epoch 64/120\n",
            "528/528 [==============================] - 6s 10ms/step - loss: 0.0036 - accuracy: 1.0000 - val_loss: 0.2372 - val_accuracy: 0.9741\n",
            "Epoch 65/120\n",
            "528/528 [==============================] - 5s 10ms/step - loss: 0.0107 - accuracy: 0.9979 - val_loss: 0.1606 - val_accuracy: 0.9679\n",
            "Epoch 66/120\n",
            "528/528 [==============================] - 5s 9ms/step - loss: 0.0115 - accuracy: 0.9969 - val_loss: 0.1850 - val_accuracy: 0.9732\n",
            "Epoch 67/120\n",
            "528/528 [==============================] - 6s 11ms/step - loss: 0.0106 - accuracy: 0.9977 - val_loss: 0.1289 - val_accuracy: 0.9756\n",
            "Epoch 68/120\n",
            "528/528 [==============================] - 5s 9ms/step - loss: 0.0057 - accuracy: 0.9992 - val_loss: 0.1997 - val_accuracy: 0.9722\n",
            "Epoch 69/120\n",
            "528/528 [==============================] - 5s 10ms/step - loss: 0.0081 - accuracy: 0.9988 - val_loss: 0.1700 - val_accuracy: 0.9737\n",
            "Epoch 70/120\n",
            "528/528 [==============================] - 7s 13ms/step - loss: 0.0096 - accuracy: 0.9982 - val_loss: 0.1681 - val_accuracy: 0.9703\n",
            "Epoch 71/120\n",
            "528/528 [==============================] - 5s 9ms/step - loss: 0.0038 - accuracy: 1.0000 - val_loss: 0.1839 - val_accuracy: 0.9737\n",
            "Epoch 72/120\n",
            "528/528 [==============================] - 5s 10ms/step - loss: 0.0035 - accuracy: 1.0000 - val_loss: 0.1913 - val_accuracy: 0.9737\n",
            "Epoch 73/120\n",
            "528/528 [==============================] - 5s 10ms/step - loss: 0.0034 - accuracy: 1.0000 - val_loss: 0.1996 - val_accuracy: 0.9741\n",
            "Epoch 74/120\n",
            "528/528 [==============================] - 5s 9ms/step - loss: 0.0032 - accuracy: 1.0000 - val_loss: 0.2071 - val_accuracy: 0.9737\n",
            "Epoch 75/120\n",
            "528/528 [==============================] - 6s 11ms/step - loss: 0.0031 - accuracy: 1.0000 - val_loss: 0.2104 - val_accuracy: 0.9737\n",
            "Epoch 76/120\n",
            "528/528 [==============================] - 5s 9ms/step - loss: 0.0030 - accuracy: 1.0000 - val_loss: 0.2172 - val_accuracy: 0.9741\n",
            "Epoch 77/120\n",
            "528/528 [==============================] - 5s 10ms/step - loss: 0.0029 - accuracy: 1.0000 - val_loss: 0.2192 - val_accuracy: 0.9727\n",
            "Epoch 78/120\n",
            "528/528 [==============================] - 5s 10ms/step - loss: 0.0028 - accuracy: 1.0000 - val_loss: 0.2220 - val_accuracy: 0.9727\n",
            "Epoch 79/120\n",
            "528/528 [==============================] - 5s 9ms/step - loss: 0.0027 - accuracy: 1.0000 - val_loss: 0.2250 - val_accuracy: 0.9727\n",
            "Epoch 80/120\n",
            "528/528 [==============================] - 6s 11ms/step - loss: 0.0026 - accuracy: 1.0000 - val_loss: 0.2276 - val_accuracy: 0.9722\n",
            "Epoch 81/120\n",
            "528/528 [==============================] - 5s 9ms/step - loss: 0.0025 - accuracy: 1.0000 - val_loss: 0.2284 - val_accuracy: 0.9722\n",
            "Epoch 82/120\n",
            "528/528 [==============================] - 5s 9ms/step - loss: 0.0024 - accuracy: 1.0000 - val_loss: 0.2353 - val_accuracy: 0.9722\n",
            "Epoch 83/120\n",
            "528/528 [==============================] - 6s 11ms/step - loss: 0.0023 - accuracy: 1.0000 - val_loss: 0.2382 - val_accuracy: 0.9727\n",
            "Epoch 84/120\n",
            "528/528 [==============================] - 5s 9ms/step - loss: 0.0023 - accuracy: 1.0000 - val_loss: 0.2388 - val_accuracy: 0.9727\n",
            "Epoch 85/120\n",
            "528/528 [==============================] - 5s 10ms/step - loss: 0.0022 - accuracy: 1.0000 - val_loss: 0.2442 - val_accuracy: 0.9732\n",
            "Epoch 86/120\n",
            "528/528 [==============================] - 5s 10ms/step - loss: 0.0021 - accuracy: 1.0000 - val_loss: 0.2418 - val_accuracy: 0.9732\n",
            "Epoch 87/120\n",
            "528/528 [==============================] - 5s 9ms/step - loss: 0.0021 - accuracy: 1.0000 - val_loss: 0.2440 - val_accuracy: 0.9732\n",
            "Epoch 88/120\n",
            "528/528 [==============================] - 6s 11ms/step - loss: 0.0020 - accuracy: 1.0000 - val_loss: 0.2480 - val_accuracy: 0.9732\n",
            "Epoch 89/120\n",
            "528/528 [==============================] - 5s 9ms/step - loss: 0.0020 - accuracy: 1.0000 - val_loss: 0.2502 - val_accuracy: 0.9732\n",
            "Epoch 90/120\n",
            "528/528 [==============================] - 5s 10ms/step - loss: 0.0019 - accuracy: 1.0000 - val_loss: 0.2525 - val_accuracy: 0.9732\n",
            "Epoch 91/120\n",
            "528/528 [==============================] - 5s 10ms/step - loss: 0.0019 - accuracy: 1.0000 - val_loss: 0.2590 - val_accuracy: 0.9732\n",
            "Epoch 92/120\n",
            "528/528 [==============================] - 5s 9ms/step - loss: 0.0018 - accuracy: 1.0000 - val_loss: 0.2590 - val_accuracy: 0.9741\n",
            "Epoch 93/120\n",
            "528/528 [==============================] - 6s 11ms/step - loss: 0.0018 - accuracy: 1.0000 - val_loss: 0.2618 - val_accuracy: 0.9732\n",
            "Epoch 94/120\n",
            "528/528 [==============================] - 5s 9ms/step - loss: 0.0017 - accuracy: 1.0000 - val_loss: 0.2619 - val_accuracy: 0.9746\n",
            "Epoch 95/120\n",
            "528/528 [==============================] - 5s 10ms/step - loss: 0.0017 - accuracy: 1.0000 - val_loss: 0.2609 - val_accuracy: 0.9751\n",
            "Epoch 96/120\n",
            "528/528 [==============================] - 6s 10ms/step - loss: 0.0016 - accuracy: 1.0000 - val_loss: 0.2631 - val_accuracy: 0.9751\n",
            "Epoch 97/120\n",
            "528/528 [==============================] - 5s 9ms/step - loss: 0.0016 - accuracy: 1.0000 - val_loss: 0.2658 - val_accuracy: 0.9761\n",
            "Epoch 98/120\n",
            "528/528 [==============================] - 6s 11ms/step - loss: 0.0025 - accuracy: 0.9999 - val_loss: 0.2455 - val_accuracy: 0.9741\n",
            "Epoch 99/120\n",
            "528/528 [==============================] - 5s 9ms/step - loss: 0.0221 - accuracy: 0.9941 - val_loss: 0.1682 - val_accuracy: 0.9679\n",
            "Epoch 100/120\n",
            "528/528 [==============================] - 5s 9ms/step - loss: 0.0094 - accuracy: 0.9976 - val_loss: 0.1683 - val_accuracy: 0.9713\n",
            "Epoch 101/120\n",
            "528/528 [==============================] - 6s 11ms/step - loss: 0.0113 - accuracy: 0.9966 - val_loss: 0.1334 - val_accuracy: 0.9698\n",
            "Epoch 102/120\n",
            "528/528 [==============================] - 5s 9ms/step - loss: 0.0059 - accuracy: 0.9991 - val_loss: 0.1858 - val_accuracy: 0.9693\n",
            "Epoch 103/120\n",
            "528/528 [==============================] - 5s 10ms/step - loss: 0.0072 - accuracy: 0.9988 - val_loss: 0.1488 - val_accuracy: 0.9732\n",
            "Epoch 104/120\n",
            "528/528 [==============================] - 5s 10ms/step - loss: 0.0027 - accuracy: 1.0000 - val_loss: 0.1939 - val_accuracy: 0.9732\n",
            "Epoch 105/120\n",
            "528/528 [==============================] - 5s 10ms/step - loss: 0.0024 - accuracy: 1.0000 - val_loss: 0.1993 - val_accuracy: 0.9737\n",
            "Epoch 106/120\n",
            "528/528 [==============================] - 6s 11ms/step - loss: 0.0023 - accuracy: 1.0000 - val_loss: 0.2067 - val_accuracy: 0.9741\n",
            "Epoch 107/120\n",
            "528/528 [==============================] - 5s 10ms/step - loss: 0.0022 - accuracy: 1.0000 - val_loss: 0.2141 - val_accuracy: 0.9737\n",
            "Epoch 108/120\n",
            "528/528 [==============================] - 5s 9ms/step - loss: 0.0021 - accuracy: 1.0000 - val_loss: 0.2189 - val_accuracy: 0.9741\n",
            "Epoch 109/120\n",
            "528/528 [==============================] - 6s 11ms/step - loss: 0.0021 - accuracy: 1.0000 - val_loss: 0.2214 - val_accuracy: 0.9741\n",
            "Epoch 110/120\n",
            "528/528 [==============================] - 5s 10ms/step - loss: 0.0020 - accuracy: 1.0000 - val_loss: 0.2266 - val_accuracy: 0.9732\n",
            "Epoch 111/120\n",
            "528/528 [==============================] - 6s 11ms/step - loss: 0.0019 - accuracy: 1.0000 - val_loss: 0.2307 - val_accuracy: 0.9727\n",
            "Epoch 112/120\n",
            "528/528 [==============================] - 5s 10ms/step - loss: 0.0019 - accuracy: 1.0000 - val_loss: 0.2365 - val_accuracy: 0.9727\n",
            "Epoch 113/120\n",
            "528/528 [==============================] - 6s 12ms/step - loss: 0.0018 - accuracy: 1.0000 - val_loss: 0.2411 - val_accuracy: 0.9727\n",
            "Epoch 114/120\n",
            "528/528 [==============================] - 6s 11ms/step - loss: 0.0017 - accuracy: 1.0000 - val_loss: 0.2440 - val_accuracy: 0.9727\n",
            "Epoch 115/120\n",
            "528/528 [==============================] - 5s 10ms/step - loss: 0.0017 - accuracy: 1.0000 - val_loss: 0.2453 - val_accuracy: 0.9727\n",
            "Epoch 116/120\n",
            "528/528 [==============================] - 6s 11ms/step - loss: 0.0017 - accuracy: 1.0000 - val_loss: 0.2484 - val_accuracy: 0.9732\n",
            "Epoch 117/120\n",
            "528/528 [==============================] - 5s 9ms/step - loss: 0.0016 - accuracy: 1.0000 - val_loss: 0.2516 - val_accuracy: 0.9727\n",
            "Epoch 118/120\n",
            "528/528 [==============================] - 5s 10ms/step - loss: 0.0016 - accuracy: 1.0000 - val_loss: 0.2555 - val_accuracy: 0.9727\n",
            "Epoch 119/120\n",
            "528/528 [==============================] - 6s 11ms/step - loss: 0.0015 - accuracy: 1.0000 - val_loss: 0.2557 - val_accuracy: 0.9722\n",
            "Epoch 120/120\n",
            "528/528 [==============================] - 5s 10ms/step - loss: 0.0015 - accuracy: 1.0000 - val_loss: 0.2603 - val_accuracy: 0.9732\n"
          ]
        }
      ]
    },
    {
      "cell_type": "code",
      "source": [
        "model.save(\"/content/gdrive/MyDrive/Colab Notebooks/FYP/CRNN-Regularized-WithAttention.h5\")\n",
        "score = model.evaluate(X_test, y_test)\n",
        "print(score)"
      ],
      "metadata": {
        "colab": {
          "base_uri": "https://localhost:8080/"
        },
        "id": "A0GDwHCxVFOA",
        "outputId": "f9ce162d-9ef8-4950-b950-bda8019b4b8b"
      },
      "execution_count": null,
      "outputs": [
        {
          "output_type": "stream",
          "name": "stdout",
          "text": [
            "66/66 [==============================] - 0s 4ms/step - loss: 0.1602 - accuracy: 0.9810\n",
            "[0.16017651557922363, 0.9810336828231812]\n"
          ]
        }
      ]
    },
    {
      "cell_type": "code",
      "source": [
        "pip install plot_keras_history"
      ],
      "metadata": {
        "colab": {
          "base_uri": "https://localhost:8080/"
        },
        "id": "audvVlppvQfE",
        "outputId": "4cde57fe-cef9-42f9-e0a4-fc05c47f3fac"
      },
      "execution_count": null,
      "outputs": [
        {
          "output_type": "stream",
          "name": "stdout",
          "text": [
            "Looking in indexes: https://pypi.org/simple, https://us-python.pkg.dev/colab-wheels/public/simple/\n",
            "Collecting plot_keras_history\n",
            "  Downloading plot_keras_history-1.1.38.tar.gz (11 kB)\n",
            "  Preparing metadata (setup.py) ... \u001b[?25l\u001b[?25hdone\n",
            "Requirement already satisfied: matplotlib in /usr/local/lib/python3.8/dist-packages (from plot_keras_history) (3.5.3)\n",
            "Requirement already satisfied: pandas in /usr/local/lib/python3.8/dist-packages (from plot_keras_history) (1.3.5)\n",
            "Requirement already satisfied: scipy in /usr/local/lib/python3.8/dist-packages (from plot_keras_history) (1.7.3)\n",
            "Collecting support_developer>=1.0.2\n",
            "  Downloading support_developer-1.0.5.tar.gz (4.9 kB)\n",
            "  Preparing metadata (setup.py) ... \u001b[?25l\u001b[?25hdone\n",
            "Collecting sanitize_ml_labels>=1.0.48\n",
            "  Downloading sanitize_ml_labels-1.0.50.tar.gz (322 kB)\n",
            "\u001b[2K     \u001b[90m━━━━━━━━━━━━━━━━━━━━━━━━━━━━━━━━━━━━━━\u001b[0m \u001b[32m322.1/322.1 KB\u001b[0m \u001b[31m31.5 MB/s\u001b[0m eta \u001b[36m0:00:00\u001b[0m\n",
            "\u001b[?25h  Preparing metadata (setup.py) ... \u001b[?25l\u001b[?25hdone\n",
            "Collecting compress_json\n",
            "  Downloading compress_json-1.0.8.tar.gz (4.7 kB)\n",
            "  Preparing metadata (setup.py) ... \u001b[?25l\u001b[?25hdone\n",
            "Requirement already satisfied: numpy>=1.17 in /usr/local/lib/python3.8/dist-packages (from matplotlib->plot_keras_history) (1.22.4)\n",
            "Requirement already satisfied: pillow>=6.2.0 in /usr/local/lib/python3.8/dist-packages (from matplotlib->plot_keras_history) (7.1.2)\n",
            "Requirement already satisfied: packaging>=20.0 in /usr/local/lib/python3.8/dist-packages (from matplotlib->plot_keras_history) (23.0)\n",
            "Requirement already satisfied: python-dateutil>=2.7 in /usr/local/lib/python3.8/dist-packages (from matplotlib->plot_keras_history) (2.8.2)\n",
            "Requirement already satisfied: pyparsing>=2.2.1 in /usr/local/lib/python3.8/dist-packages (from matplotlib->plot_keras_history) (3.0.9)\n",
            "Requirement already satisfied: kiwisolver>=1.0.1 in /usr/local/lib/python3.8/dist-packages (from matplotlib->plot_keras_history) (1.4.4)\n",
            "Requirement already satisfied: cycler>=0.10 in /usr/local/lib/python3.8/dist-packages (from matplotlib->plot_keras_history) (0.11.0)\n",
            "Requirement already satisfied: fonttools>=4.22.0 in /usr/local/lib/python3.8/dist-packages (from matplotlib->plot_keras_history) (4.38.0)\n",
            "Requirement already satisfied: pytz>=2017.3 in /usr/local/lib/python3.8/dist-packages (from pandas->plot_keras_history) (2022.7.1)\n",
            "Requirement already satisfied: six>=1.5 in /usr/local/lib/python3.8/dist-packages (from python-dateutil>=2.7->matplotlib->plot_keras_history) (1.15.0)\n",
            "Building wheels for collected packages: plot_keras_history, sanitize_ml_labels, support_developer, compress_json\n",
            "  Building wheel for plot_keras_history (setup.py) ... \u001b[?25l\u001b[?25hdone\n",
            "  Created wheel for plot_keras_history: filename=plot_keras_history-1.1.38-py3-none-any.whl size=9472 sha256=342e811f818fdb02f6cbb0e024560b4239904b3de44929ca637325870c9ea571\n",
            "  Stored in directory: /root/.cache/pip/wheels/97/a5/76/35ae3e15da1ce4530de8591b0bcd7716f6d6752a4808f01c04\n",
            "  Building wheel for sanitize_ml_labels (setup.py) ... \u001b[?25l\u001b[?25hdone\n",
            "  Created wheel for sanitize_ml_labels: filename=sanitize_ml_labels-1.0.50-py3-none-any.whl size=320514 sha256=8cbcba7adb87ef869522f11b642659eea8ea52e9e17cd14429f083fdcc095e7f\n",
            "  Stored in directory: /root/.cache/pip/wheels/a3/5f/ba/ddd191edb6c749a63cffabd28714d5600b5b58014daf7434a8\n",
            "  Building wheel for support_developer (setup.py) ... \u001b[?25l\u001b[?25hdone\n",
            "  Created wheel for support_developer: filename=support_developer-1.0.5-py3-none-any.whl size=5650 sha256=b4e9ca7777ee115f210b0900f8c5e2d316c15783c15861d6e96b62aa8535f098\n",
            "  Stored in directory: /root/.cache/pip/wheels/11/5e/63/51e84640e77a7dc5f1e5f5eb597e8f1bc730a2818ee5c3fc03\n",
            "  Building wheel for compress_json (setup.py) ... \u001b[?25l\u001b[?25hdone\n",
            "  Created wheel for compress_json: filename=compress_json-1.0.8-py3-none-any.whl size=4733 sha256=00bbb09d425882491b0052051353ab0b105745f5f768228fe2f96c830be4f04f\n",
            "  Stored in directory: /root/.cache/pip/wheels/fe/36/4b/69aaa23fc0ea813dc1f8cca3372bff314abed354cac20a1cb9\n",
            "Successfully built plot_keras_history sanitize_ml_labels support_developer compress_json\n",
            "Installing collected packages: support_developer, compress_json, sanitize_ml_labels, plot_keras_history\n",
            "Successfully installed compress_json-1.0.8 plot_keras_history-1.1.38 sanitize_ml_labels-1.0.50 support_developer-1.0.5\n"
          ]
        }
      ]
    },
    {
      "cell_type": "code",
      "source": [
        "from plot_keras_history import show_history, plot_history\n",
        "import matplotlib.pyplot as plt\n",
        "plot_history(history)"
      ],
      "metadata": {
        "colab": {
          "base_uri": "https://localhost:8080/",
          "height": 434
        },
        "id": "esfMhDOhXDyI",
        "outputId": "6ea492ca-85e7-40a3-cb60-6a3e21ebdc4e"
      },
      "execution_count": null,
      "outputs": [
        {
          "output_type": "execute_result",
          "data": {
            "text/plain": [
              "(<Figure size 1000x500 with 2 Axes>,\n",
              " array([<AxesSubplot:title={'center':'Loss'}, xlabel='Epochs', ylabel='Loss'>,\n",
              "        <AxesSubplot:title={'center':'Accuracy'}, xlabel='Epochs', ylabel='Accuracy'>],\n",
              "       dtype=object))"
            ]
          },
          "metadata": {},
          "execution_count": 17
        },
        {
          "output_type": "display_data",
          "data": {
            "text/plain": [
              "<Figure size 1000x500 with 2 Axes>"
            ],
            "image/png": "[encoded data removed]"
          },
          "metadata": {
            "needs_background": "light"
          }
        }
      ]
    },
    {
      "cell_type": "code",
      "source": [
        "import matplotlib.pyplot as plt\n",
        "import itertools\n",
        "import numpy as np\n",
        "\n",
        "def plot_confusion_matrix(cm, classes,\n",
        "                        normalize=False,\n",
        "                        title='Confusion matrix',\n",
        "                        cmap=plt.cm.Blues):\n",
        "    \"\"\"\n",
        "    This function prints and plots the confusion matrix.\n",
        "    Normalization can be applied by setting `normalize=True`.\n",
        "    \"\"\"\n",
        "    plt.imshow(cm, interpolation='nearest', cmap=cmap)\n",
        "    plt.title(title)\n",
        "    plt.colorbar()\n",
        "    tick_marks = np.arange(len(classes))\n",
        "    plt.xticks(tick_marks, classes, rotation=45)\n",
        "    plt.yticks(tick_marks, classes)\n",
        "\n",
        "    if normalize:\n",
        "        cm = cm.astype('float') / cm.sum(axis=1)[:, np.newaxis]\n",
        "        print(\"Normalized confusion matrix\")\n",
        "    else:\n",
        "        print('Confusion matrix, without normalization')\n",
        "\n",
        "    print(cm)\n",
        "\n",
        "    thresh = cm.max() / 2.\n",
        "    for i, j in itertools.product(range(cm.shape[0]), range(cm.shape[1])):\n",
        "        plt.text(j, i, cm[i, j],\n",
        "            horizontalalignment=\"center\",\n",
        "            color=\"white\" if cm[i, j] > thresh else \"black\")\n",
        "\n",
        "    plt.tight_layout()\n",
        "    plt.ylabel('True label')\n",
        "    plt.xlabel('Predicted label')\n",
        "    plt.show()"
      ],
      "metadata": {
        "id": "m-Ulk4EBXd0y"
      },
      "execution_count": null,
      "outputs": []
    },
    {
      "cell_type": "code",
      "source": [
        "print(\"Model Classification Report: \\n\")\n",
        "y_pred = np.argmax(model.predict(X_test), axis=1)\n",
        "cm = confusion_matrix(np.argmax(y_test, axis=1), y_pred)\n",
        "print(classification_report(np.argmax(y_test, axis=1), y_pred))\n",
        "plot_confusion_matrix(cm, classes=[\"Does not have Wake Word\", \"Has Wake Word\"])"
      ],
      "metadata": {
        "colab": {
          "base_uri": "https://localhost:8080/",
          "height": 583
        },
        "id": "TflcZEOXXhi9",
        "outputId": "622c13bd-abb7-481f-a72e-d38a7302d5c9"
      },
      "execution_count": null,
      "outputs": [
        {
          "output_type": "stream",
          "name": "stdout",
          "text": [
            "Model Classification Report: \n",
            "\n",
            "66/66 [==============================] - 1s 4ms/step\n",
            "              precision    recall  f1-score   support\n",
            "\n",
            "           0       0.98      0.98      0.98      1049\n",
            "           1       0.98      0.98      0.98      1060\n",
            "\n",
            "    accuracy                           0.98      2109\n",
            "   macro avg       0.98      0.98      0.98      2109\n",
            "weighted avg       0.98      0.98      0.98      2109\n",
            "\n",
            "Confusion matrix, without normalization\n",
            "[[1030   19]\n",
            " [  21 1039]]\n"
          ]
        },
        {
          "output_type": "display_data",
          "data": {
            "text/plain": [
              "<Figure size 432x288 with 2 Axes>"
            ],
            "image/png": "[encoded data removed]"
          },
          "metadata": {
            "needs_background": "light"
          }
        }
      ]
    }
  ]
}