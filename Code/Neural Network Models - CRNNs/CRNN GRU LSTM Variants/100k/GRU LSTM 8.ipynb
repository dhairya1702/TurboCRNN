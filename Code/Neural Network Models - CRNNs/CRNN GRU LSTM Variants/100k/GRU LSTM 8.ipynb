{
  "cells": [
    {
      "cell_type": "code",
      "execution_count": 1,
      "metadata": {
        "colab": {
          "base_uri": "https://localhost:8080/"
        },
        "id": "QrWSO8D5uOje",
        "outputId": "f3a2156d-e355-4ca9-8c10-98d8024b6a37"
      },
      "outputs": [
        {
          "output_type": "stream",
          "name": "stdout",
          "text": [
            "Mounted at /content/gdrive\n"
          ]
        }
      ],
      "source": [
        "from google.colab import drive\n",
        "drive.mount('/content/gdrive')"
      ]
    },
    {
      "cell_type": "code",
      "execution_count": 2,
      "metadata": {
        "id": "9ws9myx8_tnv"
      },
      "outputs": [],
      "source": [
        "import os\n",
        "import numpy as np\n",
        "import pandas as pd\n",
        "import matplotlib.pyplot as plt\n",
        "import librosa, librosa.display\n",
        "\n",
        "import tensorflow as tf \n",
        "from sklearn.model_selection import train_test_split\n",
        "from tensorflow.keras.utils import to_categorical"
      ]
    },
    {
      "cell_type": "code",
      "execution_count": 3,
      "metadata": {
        "id": "4DnfMk95XB0x"
      },
      "outputs": [],
      "source": [
        "from tensorflow.keras import Sequential\n",
        "from tensorflow import keras\n",
        "from tensorflow.keras.layers import Input, LSTM, GRU, Dense, Embedding, Conv1D, MaxPooling1D, Activation, Dropout\n",
        "from tensorflow.keras.layers import Reshape, Softmax, Permute, Multiply, dot, concatenate\n",
        "from tensorflow.keras.layers import BatchNormalization\n",
        "from tensorflow.keras.models import Model\n",
        "from tensorflow.keras.regularizers import l2\n",
        "from sklearn.metrics import confusion_matrix, classification_report"
      ]
    },
    {
      "cell_type": "markdown",
      "metadata": {
        "id": "clMSLEuhxwmA"
      },
      "source": [
        "## DATALOADER"
      ]
    },
    {
      "cell_type": "code",
      "execution_count": 4,
      "metadata": {
        "id": "dV2e4HA3kU43"
      },
      "outputs": [],
      "source": [
        "X_train = np.load('/content/gdrive/MyDrive/data/Augmented1/X_train.npy')\n",
        "y_train = np.load('/content/gdrive/MyDrive/data/Augmented1/y_train.npy')\n",
        "X_test = np.load('/content/gdrive/MyDrive/data/Augmented1/X_test.npy')\n",
        "y_test = np.load('/content/gdrive/MyDrive/data/Augmented1/y_test.npy')\n",
        "X_val = np.load('/content/gdrive/MyDrive/data/Augmented1/X_val.npy')\n",
        "y_val = np.load('/content/gdrive/MyDrive/data/Augmented1/y_val.npy')"
      ]
    },
    {
      "cell_type": "code",
      "execution_count": 5,
      "metadata": {
        "colab": {
          "base_uri": "https://localhost:8080/"
        },
        "id": "UeXB7ICUrmr1",
        "outputId": "cecd2c8d-0ccf-4656-eb5f-164ed729ed7a"
      },
      "outputs": [
        {
          "output_type": "execute_result",
          "data": {
            "text/plain": [
              "(98,)"
            ]
          },
          "metadata": {},
          "execution_count": 5
        }
      ],
      "source": [
        "X_train[0].shape"
      ]
    },
    {
      "cell_type": "code",
      "execution_count": 6,
      "metadata": {
        "colab": {
          "base_uri": "https://localhost:8080/"
        },
        "id": "SbDBZGeZMJZH",
        "outputId": "559e615f-49bd-4c25-d216-bd1d94759ffe"
      },
      "outputs": [
        {
          "output_type": "stream",
          "name": "stdout",
          "text": [
            "(16893, 98) (16893, 2)\n",
            "(2109, 98) (2109, 2)\n",
            "(2088, 98) (2088, 2)\n"
          ]
        }
      ],
      "source": [
        "print(X_train.shape, y_train.shape)\n",
        "print(X_test.shape, y_test.shape)\n",
        "print(X_val.shape, y_val.shape)"
      ]
    },
    {
      "cell_type": "markdown",
      "metadata": {
        "id": "nQAq3SphxsG5"
      },
      "source": [
        "## CRNN - Review Later"
      ]
    },
    {
      "cell_type": "code",
      "execution_count": 7,
      "metadata": {
        "id": "lZOLG5W2_8N-",
        "colab": {
          "base_uri": "https://localhost:8080/"
        },
        "outputId": "da79b609-9a7e-45d1-c62a-dd3d6494b7e5"
      },
      "outputs": [
        {
          "output_type": "stream",
          "name": "stdout",
          "text": [
            "Model: \"model\"\n",
            "__________________________________________________________________________________________________\n",
            " Layer (type)                   Output Shape         Param #     Connected to                     \n",
            "==================================================================================================\n",
            " input_1 (InputLayer)           [(None, 98, 1)]      0           []                               \n",
            "                                                                                                  \n",
            " conv1d (Conv1D)                (None, 94, 32)       192         ['input_1[0][0]']                \n",
            "                                                                                                  \n",
            " max_pooling1d (MaxPooling1D)   (None, 47, 32)       0           ['conv1d[0][0]']                 \n",
            "                                                                                                  \n",
            " conv1d_1 (Conv1D)              (None, 43, 64)       10304       ['max_pooling1d[0][0]']          \n",
            "                                                                                                  \n",
            " max_pooling1d_1 (MaxPooling1D)  (None, 21, 64)      0           ['conv1d_1[0][0]']               \n",
            "                                                                                                  \n",
            " conv1d_2 (Conv1D)              (None, 17, 32)       10272       ['max_pooling1d_1[0][0]']        \n",
            "                                                                                                  \n",
            " max_pooling1d_2 (MaxPooling1D)  (None, 8, 32)       0           ['conv1d_2[0][0]']               \n",
            "                                                                                                  \n",
            " gru (GRU)                      (None, 8, 128)       62208       ['max_pooling1d_2[0][0]']        \n",
            "                                                                                                  \n",
            " lstm (LSTM)                    (None, 64)           49408       ['gru[0][0]']                    \n",
            "                                                                                                  \n",
            " dense (Dense)                  (None, 128)          8320        ['lstm[0][0]']                   \n",
            "                                                                                                  \n",
            " dense_1 (Dense)                (None, 128)          8320        ['lstm[0][0]']                   \n",
            "                                                                                                  \n",
            " reshape (Reshape)              (None, 1, 128)       0           ['dense[0][0]']                  \n",
            "                                                                                                  \n",
            " reshape_1 (Reshape)            (None, 1, 128)       0           ['dense_1[0][0]']                \n",
            "                                                                                                  \n",
            " dot (Dot)                      (None, 1, 1)         0           ['reshape[0][0]',                \n",
            "                                                                  'reshape_1[0][0]']              \n",
            "                                                                                                  \n",
            " dense_2 (Dense)                (None, 128)          8320        ['lstm[0][0]']                   \n",
            "                                                                                                  \n",
            " activation (Activation)        (None, 1, 1)         0           ['dot[0][0]']                    \n",
            "                                                                                                  \n",
            " reshape_2 (Reshape)            (None, 1, 128)       0           ['dense_2[0][0]']                \n",
            "                                                                                                  \n",
            " dot_1 (Dot)                    (None, 1, 128)       0           ['activation[0][0]',             \n",
            "                                                                  'reshape_2[0][0]']              \n",
            "                                                                                                  \n",
            " reshape_3 (Reshape)            (None, 128)          0           ['dot_1[0][0]']                  \n",
            "                                                                                                  \n",
            " dense_3 (Dense)                (None, 32)           4128        ['reshape_3[0][0]']              \n",
            "                                                                                                  \n",
            " dropout (Dropout)              (None, 32)           0           ['dense_3[0][0]']                \n",
            "                                                                                                  \n",
            " dense_4 (Dense)                (None, 2)            66          ['dropout[0][0]']                \n",
            "                                                                                                  \n",
            "==================================================================================================\n",
            "Total params: 161,538\n",
            "Trainable params: 161,538\n",
            "Non-trainable params: 0\n",
            "__________________________________________________________________________________________________\n",
            "None\n"
          ]
        }
      ],
      "source": [
        "inputs = Input(shape=(98,1))\n",
        "conv1 = Conv1D(32, 5, activation='relu',kernel_regularizer=l2(0.01))(inputs)\n",
        "pool1 = MaxPooling1D(2)(conv1)\n",
        "conv2 = Conv1D(64, 5, activation='relu')(pool1)\n",
        "pool2 = MaxPooling1D(2)(conv2)\n",
        "conv3 = Conv1D(32, 5, activation='relu')(pool2)\n",
        "pool3 = MaxPooling1D(2)(conv3)\n",
        "\n",
        "gru1 = GRU(128, return_sequences=True)(pool3)\n",
        "lstm1 = LSTM(64)(gru1)\n",
        "\n",
        "q = Dense(128)(lstm1)\n",
        "k = Dense(128)(lstm1)\n",
        "v = Dense(128)(lstm1)\n",
        "\n",
        "q = Reshape((1, 128))(q)\n",
        "k = Reshape((1, 128))(k)\n",
        "v = Reshape((1, 128))(v)\n",
        "\n",
        "attention = dot([q, k], axes=[2, 2])\n",
        "attention = Activation('softmax')(attention)\n",
        "\n",
        "output = dot([attention, v], axes=[2, 1])\n",
        "output = Reshape((128,))(output)\n",
        "\n",
        "dense1 = Dense(32, activation='softmax')(output)\n",
        "dense1 = Dropout(0.5)(dense1)\n",
        "\n",
        "output = Dense(2, activation='softmax')(dense1)\n",
        "\n",
        "model = Model(inputs=inputs, outputs=output)\n",
        "\n",
        "print(model.summary())"
      ]
    },
    {
      "cell_type": "code",
      "execution_count": 8,
      "metadata": {
        "id": "MMzo894cYCug"
      },
      "outputs": [],
      "source": [
        "model.compile(\n",
        "    loss=\"categorical_crossentropy\",\n",
        "    optimizer=tf.keras.optimizers.Adam(amsgrad=True),\n",
        "    metrics=['accuracy']\n",
        ")"
      ]
    },
    {
      "cell_type": "code",
      "execution_count": 9,
      "metadata": {
        "colab": {
          "base_uri": "https://localhost:8080/"
        },
        "id": "z0wENlqtbaxX",
        "outputId": "148e318d-5183-4d2c-b74e-9d3f81f2b914"
      },
      "outputs": [
        {
          "output_type": "stream",
          "name": "stdout",
          "text": [
            "Epoch 1/120\n",
            "528/528 [==============================] - 24s 12ms/step - loss: 0.5812 - accuracy: 0.7098 - val_loss: 0.4181 - val_accuracy: 0.8721\n",
            "Epoch 2/120\n",
            "528/528 [==============================] - 5s 9ms/step - loss: 0.3873 - accuracy: 0.8720 - val_loss: 0.3097 - val_accuracy: 0.9100\n",
            "Epoch 3/120\n",
            "528/528 [==============================] - 6s 10ms/step - loss: 0.3181 - accuracy: 0.9115 - val_loss: 0.2823 - val_accuracy: 0.9133\n",
            "Epoch 4/120\n",
            "528/528 [==============================] - 5s 9ms/step - loss: 0.2747 - accuracy: 0.9217 - val_loss: 0.2328 - val_accuracy: 0.9306\n",
            "Epoch 5/120\n",
            "528/528 [==============================] - 5s 10ms/step - loss: 0.2502 - accuracy: 0.9268 - val_loss: 0.1999 - val_accuracy: 0.9349\n",
            "Epoch 6/120\n",
            "528/528 [==============================] - 5s 10ms/step - loss: 0.2357 - accuracy: 0.9300 - val_loss: 0.2024 - val_accuracy: 0.9339\n",
            "Epoch 7/120\n",
            "528/528 [==============================] - 4s 8ms/step - loss: 0.2143 - accuracy: 0.9366 - val_loss: 0.1901 - val_accuracy: 0.9392\n",
            "Epoch 8/120\n",
            "528/528 [==============================] - 5s 10ms/step - loss: 0.2038 - accuracy: 0.9402 - val_loss: 0.1803 - val_accuracy: 0.9449\n",
            "Epoch 9/120\n",
            "528/528 [==============================] - 5s 9ms/step - loss: 0.1897 - accuracy: 0.9473 - val_loss: 0.1704 - val_accuracy: 0.9449\n",
            "Epoch 10/120\n",
            "528/528 [==============================] - 4s 8ms/step - loss: 0.1749 - accuracy: 0.9539 - val_loss: 0.1710 - val_accuracy: 0.9406\n",
            "Epoch 11/120\n",
            "528/528 [==============================] - 7s 14ms/step - loss: 0.1647 - accuracy: 0.9553 - val_loss: 0.1560 - val_accuracy: 0.9478\n",
            "Epoch 12/120\n",
            "528/528 [==============================] - 5s 9ms/step - loss: 0.1539 - accuracy: 0.9599 - val_loss: 0.1525 - val_accuracy: 0.9511\n",
            "Epoch 13/120\n",
            "528/528 [==============================] - 5s 9ms/step - loss: 0.1496 - accuracy: 0.9623 - val_loss: 0.1466 - val_accuracy: 0.9535\n",
            "Epoch 14/120\n",
            "528/528 [==============================] - 5s 10ms/step - loss: 0.1360 - accuracy: 0.9648 - val_loss: 0.1449 - val_accuracy: 0.9535\n",
            "Epoch 15/120\n",
            "528/528 [==============================] - 5s 9ms/step - loss: 0.1323 - accuracy: 0.9676 - val_loss: 0.1315 - val_accuracy: 0.9583\n",
            "Epoch 16/120\n",
            "528/528 [==============================] - 6s 11ms/step - loss: 0.1242 - accuracy: 0.9697 - val_loss: 0.1639 - val_accuracy: 0.9440\n",
            "Epoch 17/120\n",
            "528/528 [==============================] - 4s 8ms/step - loss: 0.1172 - accuracy: 0.9715 - val_loss: 0.1639 - val_accuracy: 0.9430\n",
            "Epoch 18/120\n",
            "528/528 [==============================] - 5s 9ms/step - loss: 0.1085 - accuracy: 0.9739 - val_loss: 0.1407 - val_accuracy: 0.9569\n",
            "Epoch 19/120\n",
            "528/528 [==============================] - 6s 11ms/step - loss: 0.1100 - accuracy: 0.9723 - val_loss: 0.1400 - val_accuracy: 0.9559\n",
            "Epoch 20/120\n",
            "528/528 [==============================] - 4s 8ms/step - loss: 0.1048 - accuracy: 0.9751 - val_loss: 0.1282 - val_accuracy: 0.9626\n",
            "Epoch 21/120\n",
            "528/528 [==============================] - 5s 10ms/step - loss: 0.0997 - accuracy: 0.9767 - val_loss: 0.1306 - val_accuracy: 0.9607\n",
            "Epoch 22/120\n",
            "528/528 [==============================] - 5s 10ms/step - loss: 0.0929 - accuracy: 0.9779 - val_loss: 0.1280 - val_accuracy: 0.9626\n",
            "Epoch 23/120\n",
            "528/528 [==============================] - 5s 9ms/step - loss: 0.0862 - accuracy: 0.9798 - val_loss: 0.1337 - val_accuracy: 0.9602\n",
            "Epoch 24/120\n",
            "528/528 [==============================] - 5s 10ms/step - loss: 0.0913 - accuracy: 0.9793 - val_loss: 0.1228 - val_accuracy: 0.9646\n",
            "Epoch 25/120\n",
            "528/528 [==============================] - 5s 9ms/step - loss: 0.0813 - accuracy: 0.9814 - val_loss: 0.1410 - val_accuracy: 0.9622\n",
            "Epoch 26/120\n",
            "528/528 [==============================] - 4s 9ms/step - loss: 0.0835 - accuracy: 0.9798 - val_loss: 0.1266 - val_accuracy: 0.9655\n",
            "Epoch 27/120\n",
            "528/528 [==============================] - 6s 10ms/step - loss: 0.0762 - accuracy: 0.9828 - val_loss: 0.1269 - val_accuracy: 0.9679\n",
            "Epoch 28/120\n",
            "528/528 [==============================] - 5s 9ms/step - loss: 0.0665 - accuracy: 0.9859 - val_loss: 0.1301 - val_accuracy: 0.9670\n",
            "Epoch 29/120\n",
            "528/528 [==============================] - 5s 9ms/step - loss: 0.0705 - accuracy: 0.9831 - val_loss: 0.1250 - val_accuracy: 0.9660\n",
            "Epoch 30/120\n",
            "528/528 [==============================] - 6s 10ms/step - loss: 0.0749 - accuracy: 0.9827 - val_loss: 0.1411 - val_accuracy: 0.9564\n",
            "Epoch 31/120\n",
            "528/528 [==============================] - 5s 9ms/step - loss: 0.0633 - accuracy: 0.9867 - val_loss: 0.1311 - val_accuracy: 0.9665\n",
            "Epoch 32/120\n",
            "528/528 [==============================] - 5s 9ms/step - loss: 0.0621 - accuracy: 0.9862 - val_loss: 0.1329 - val_accuracy: 0.9650\n",
            "Epoch 33/120\n",
            "528/528 [==============================] - 5s 10ms/step - loss: 0.0539 - accuracy: 0.9897 - val_loss: 0.1329 - val_accuracy: 0.9698\n",
            "Epoch 34/120\n",
            "528/528 [==============================] - 5s 9ms/step - loss: 0.0632 - accuracy: 0.9869 - val_loss: 0.1301 - val_accuracy: 0.9693\n",
            "Epoch 35/120\n",
            "528/528 [==============================] - 6s 11ms/step - loss: 0.0519 - accuracy: 0.9910 - val_loss: 0.1365 - val_accuracy: 0.9679\n",
            "Epoch 36/120\n",
            "528/528 [==============================] - 5s 9ms/step - loss: 0.0582 - accuracy: 0.9889 - val_loss: 0.1372 - val_accuracy: 0.9689\n",
            "Epoch 37/120\n",
            "528/528 [==============================] - 5s 9ms/step - loss: 0.0546 - accuracy: 0.9883 - val_loss: 0.1369 - val_accuracy: 0.9679\n",
            "Epoch 38/120\n",
            "528/528 [==============================] - 6s 11ms/step - loss: 0.0492 - accuracy: 0.9922 - val_loss: 0.1134 - val_accuracy: 0.9746\n",
            "Epoch 39/120\n",
            "528/528 [==============================] - 5s 9ms/step - loss: 0.0442 - accuracy: 0.9939 - val_loss: 0.1354 - val_accuracy: 0.9660\n",
            "Epoch 40/120\n",
            "528/528 [==============================] - 5s 10ms/step - loss: 0.0540 - accuracy: 0.9902 - val_loss: 0.1548 - val_accuracy: 0.9617\n",
            "Epoch 41/120\n",
            "528/528 [==============================] - 5s 10ms/step - loss: 0.0510 - accuracy: 0.9906 - val_loss: 0.1390 - val_accuracy: 0.9655\n",
            "Epoch 42/120\n",
            "528/528 [==============================] - 5s 9ms/step - loss: 0.0426 - accuracy: 0.9929 - val_loss: 0.1412 - val_accuracy: 0.9665\n",
            "Epoch 43/120\n",
            "528/528 [==============================] - 5s 10ms/step - loss: 0.0515 - accuracy: 0.9896 - val_loss: 0.1419 - val_accuracy: 0.9693\n",
            "Epoch 44/120\n",
            "528/528 [==============================] - 5s 9ms/step - loss: 0.0417 - accuracy: 0.9931 - val_loss: 0.1343 - val_accuracy: 0.9717\n",
            "Epoch 45/120\n",
            "528/528 [==============================] - 5s 9ms/step - loss: 0.0408 - accuracy: 0.9943 - val_loss: 0.1465 - val_accuracy: 0.9641\n",
            "Epoch 46/120\n",
            "528/528 [==============================] - 6s 11ms/step - loss: 0.0503 - accuracy: 0.9905 - val_loss: 0.1428 - val_accuracy: 0.9674\n",
            "Epoch 47/120\n",
            "528/528 [==============================] - 4s 8ms/step - loss: 0.0358 - accuracy: 0.9948 - val_loss: 0.1487 - val_accuracy: 0.9674\n",
            "Epoch 48/120\n",
            "528/528 [==============================] - 5s 9ms/step - loss: 0.0339 - accuracy: 0.9951 - val_loss: 0.1594 - val_accuracy: 0.9650\n",
            "Epoch 49/120\n",
            "528/528 [==============================] - 6s 11ms/step - loss: 0.0495 - accuracy: 0.9898 - val_loss: 0.1292 - val_accuracy: 0.9703\n",
            "Epoch 50/120\n",
            "528/528 [==============================] - 5s 9ms/step - loss: 0.0342 - accuracy: 0.9947 - val_loss: 0.1366 - val_accuracy: 0.9708\n",
            "Epoch 51/120\n",
            "528/528 [==============================] - 6s 11ms/step - loss: 0.0428 - accuracy: 0.9925 - val_loss: 0.1529 - val_accuracy: 0.9660\n",
            "Epoch 52/120\n",
            "528/528 [==============================] - 5s 9ms/step - loss: 0.0377 - accuracy: 0.9931 - val_loss: 0.1585 - val_accuracy: 0.9655\n",
            "Epoch 53/120\n",
            "528/528 [==============================] - 5s 9ms/step - loss: 0.0352 - accuracy: 0.9942 - val_loss: 0.1431 - val_accuracy: 0.9703\n",
            "Epoch 54/120\n",
            "528/528 [==============================] - 6s 11ms/step - loss: 0.0345 - accuracy: 0.9941 - val_loss: 0.1355 - val_accuracy: 0.9732\n",
            "Epoch 55/120\n",
            "528/528 [==============================] - 5s 9ms/step - loss: 0.0400 - accuracy: 0.9922 - val_loss: 0.1352 - val_accuracy: 0.9708\n",
            "Epoch 56/120\n",
            "528/528 [==============================] - 6s 11ms/step - loss: 0.0309 - accuracy: 0.9945 - val_loss: 0.1320 - val_accuracy: 0.9732\n",
            "Epoch 57/120\n",
            "528/528 [==============================] - 5s 10ms/step - loss: 0.0310 - accuracy: 0.9948 - val_loss: 0.1475 - val_accuracy: 0.9717\n",
            "Epoch 58/120\n",
            "528/528 [==============================] - 5s 9ms/step - loss: 0.0294 - accuracy: 0.9959 - val_loss: 0.1560 - val_accuracy: 0.9674\n",
            "Epoch 59/120\n",
            "528/528 [==============================] - 6s 11ms/step - loss: 0.0263 - accuracy: 0.9962 - val_loss: 0.1511 - val_accuracy: 0.9717\n",
            "Epoch 60/120\n",
            "528/528 [==============================] - 5s 9ms/step - loss: 0.0231 - accuracy: 0.9971 - val_loss: 0.1479 - val_accuracy: 0.9708\n",
            "Epoch 61/120\n",
            "528/528 [==============================] - 5s 9ms/step - loss: 0.0278 - accuracy: 0.9963 - val_loss: 0.1820 - val_accuracy: 0.9646\n",
            "Epoch 62/120\n",
            "528/528 [==============================] - 6s 11ms/step - loss: 0.0329 - accuracy: 0.9938 - val_loss: 0.1701 - val_accuracy: 0.9631\n",
            "Epoch 63/120\n",
            "528/528 [==============================] - 5s 9ms/step - loss: 0.0305 - accuracy: 0.9948 - val_loss: 0.1688 - val_accuracy: 0.9646\n",
            "Epoch 64/120\n",
            "528/528 [==============================] - 5s 9ms/step - loss: 0.0295 - accuracy: 0.9948 - val_loss: 0.1521 - val_accuracy: 0.9674\n",
            "Epoch 65/120\n",
            "528/528 [==============================] - 5s 10ms/step - loss: 0.0235 - accuracy: 0.9969 - val_loss: 0.1565 - val_accuracy: 0.9660\n",
            "Epoch 66/120\n",
            "528/528 [==============================] - 4s 8ms/step - loss: 0.0293 - accuracy: 0.9942 - val_loss: 0.1597 - val_accuracy: 0.9670\n",
            "Epoch 67/120\n",
            "528/528 [==============================] - 5s 10ms/step - loss: 0.0264 - accuracy: 0.9956 - val_loss: 0.1685 - val_accuracy: 0.9641\n",
            "Epoch 68/120\n",
            "528/528 [==============================] - 5s 9ms/step - loss: 0.0326 - accuracy: 0.9928 - val_loss: 0.1669 - val_accuracy: 0.9641\n",
            "Epoch 69/120\n",
            "528/528 [==============================] - 5s 9ms/step - loss: 0.0237 - accuracy: 0.9957 - val_loss: 0.1607 - val_accuracy: 0.9698\n",
            "Epoch 70/120\n",
            "528/528 [==============================] - 6s 11ms/step - loss: 0.0235 - accuracy: 0.9964 - val_loss: 0.1679 - val_accuracy: 0.9660\n",
            "Epoch 71/120\n",
            "528/528 [==============================] - 5s 9ms/step - loss: 0.0371 - accuracy: 0.9928 - val_loss: 0.1535 - val_accuracy: 0.9674\n",
            "Epoch 72/120\n",
            "528/528 [==============================] - 5s 9ms/step - loss: 0.0225 - accuracy: 0.9967 - val_loss: 0.1492 - val_accuracy: 0.9665\n",
            "Epoch 73/120\n",
            "528/528 [==============================] - 6s 11ms/step - loss: 0.0211 - accuracy: 0.9966 - val_loss: 0.1706 - val_accuracy: 0.9655\n",
            "Epoch 74/120\n",
            "528/528 [==============================] - 5s 9ms/step - loss: 0.0190 - accuracy: 0.9974 - val_loss: 0.1654 - val_accuracy: 0.9650\n",
            "Epoch 75/120\n",
            "528/528 [==============================] - 5s 10ms/step - loss: 0.0194 - accuracy: 0.9969 - val_loss: 0.1719 - val_accuracy: 0.9684\n",
            "Epoch 76/120\n",
            "528/528 [==============================] - 5s 9ms/step - loss: 0.0191 - accuracy: 0.9970 - val_loss: 0.1758 - val_accuracy: 0.9665\n",
            "Epoch 77/120\n",
            "528/528 [==============================] - 5s 9ms/step - loss: 0.0197 - accuracy: 0.9970 - val_loss: 0.1799 - val_accuracy: 0.9684\n",
            "Epoch 78/120\n",
            "528/528 [==============================] - 6s 10ms/step - loss: 0.0173 - accuracy: 0.9979 - val_loss: 0.1834 - val_accuracy: 0.9674\n",
            "Epoch 79/120\n",
            "528/528 [==============================] - 5s 9ms/step - loss: 0.0183 - accuracy: 0.9977 - val_loss: 0.1863 - val_accuracy: 0.9670\n",
            "Epoch 80/120\n",
            "528/528 [==============================] - 4s 9ms/step - loss: 0.0187 - accuracy: 0.9967 - val_loss: 0.1881 - val_accuracy: 0.9665\n",
            "Epoch 81/120\n",
            "528/528 [==============================] - 5s 10ms/step - loss: 0.0177 - accuracy: 0.9973 - val_loss: 0.1865 - val_accuracy: 0.9684\n",
            "Epoch 82/120\n",
            "528/528 [==============================] - 5s 9ms/step - loss: 0.0180 - accuracy: 0.9969 - val_loss: 0.1876 - val_accuracy: 0.9670\n",
            "Epoch 83/120\n",
            "528/528 [==============================] - 5s 9ms/step - loss: 0.0174 - accuracy: 0.9977 - val_loss: 0.1907 - val_accuracy: 0.9670\n",
            "Epoch 84/120\n",
            "528/528 [==============================] - 5s 10ms/step - loss: 0.0172 - accuracy: 0.9974 - val_loss: 0.1919 - val_accuracy: 0.9674\n",
            "Epoch 85/120\n",
            "528/528 [==============================] - 5s 9ms/step - loss: 0.0176 - accuracy: 0.9971 - val_loss: 0.1942 - val_accuracy: 0.9665\n",
            "Epoch 86/120\n",
            "528/528 [==============================] - 5s 10ms/step - loss: 0.0166 - accuracy: 0.9975 - val_loss: 0.1945 - val_accuracy: 0.9670\n",
            "Epoch 87/120\n",
            "528/528 [==============================] - 5s 9ms/step - loss: 0.0168 - accuracy: 0.9976 - val_loss: 0.1950 - val_accuracy: 0.9670\n",
            "Epoch 88/120\n",
            "528/528 [==============================] - 5s 9ms/step - loss: 0.0166 - accuracy: 0.9978 - val_loss: 0.1971 - val_accuracy: 0.9674\n",
            "Epoch 89/120\n",
            "528/528 [==============================] - 6s 11ms/step - loss: 0.0165 - accuracy: 0.9975 - val_loss: 0.1971 - val_accuracy: 0.9674\n",
            "Epoch 90/120\n",
            "528/528 [==============================] - 5s 9ms/step - loss: 0.0168 - accuracy: 0.9979 - val_loss: 0.1985 - val_accuracy: 0.9670\n",
            "Epoch 91/120\n",
            "528/528 [==============================] - 5s 9ms/step - loss: 0.0159 - accuracy: 0.9974 - val_loss: 0.1973 - val_accuracy: 0.9665\n",
            "Epoch 92/120\n",
            "528/528 [==============================] - 6s 10ms/step - loss: 0.0157 - accuracy: 0.9978 - val_loss: 0.1974 - val_accuracy: 0.9665\n",
            "Epoch 93/120\n",
            "528/528 [==============================] - 5s 9ms/step - loss: 0.0154 - accuracy: 0.9974 - val_loss: 0.1977 - val_accuracy: 0.9674\n",
            "Epoch 94/120\n",
            "528/528 [==============================] - 6s 10ms/step - loss: 0.0156 - accuracy: 0.9978 - val_loss: 0.1990 - val_accuracy: 0.9655\n",
            "Epoch 95/120\n",
            "528/528 [==============================] - 5s 10ms/step - loss: 0.0164 - accuracy: 0.9967 - val_loss: 0.1998 - val_accuracy: 0.9660\n",
            "Epoch 96/120\n",
            "528/528 [==============================] - 5s 9ms/step - loss: 0.0153 - accuracy: 0.9974 - val_loss: 0.1991 - val_accuracy: 0.9655\n",
            "Epoch 97/120\n",
            "528/528 [==============================] - 6s 11ms/step - loss: 0.0161 - accuracy: 0.9971 - val_loss: 0.2006 - val_accuracy: 0.9665\n",
            "Epoch 98/120\n",
            "528/528 [==============================] - 5s 9ms/step - loss: 0.0148 - accuracy: 0.9977 - val_loss: 0.2017 - val_accuracy: 0.9665\n",
            "Epoch 99/120\n",
            "528/528 [==============================] - 5s 9ms/step - loss: 0.0155 - accuracy: 0.9975 - val_loss: 0.2016 - val_accuracy: 0.9660\n",
            "Epoch 100/120\n",
            "528/528 [==============================] - 6s 11ms/step - loss: 0.0146 - accuracy: 0.9973 - val_loss: 0.2038 - val_accuracy: 0.9665\n",
            "Epoch 101/120\n",
            "528/528 [==============================] - 5s 9ms/step - loss: 0.0151 - accuracy: 0.9973 - val_loss: 0.2046 - val_accuracy: 0.9660\n",
            "Epoch 102/120\n",
            "528/528 [==============================] - 5s 10ms/step - loss: 0.0148 - accuracy: 0.9975 - val_loss: 0.2047 - val_accuracy: 0.9670\n",
            "Epoch 103/120\n",
            "528/528 [==============================] - 5s 10ms/step - loss: 0.0152 - accuracy: 0.9968 - val_loss: 0.2067 - val_accuracy: 0.9670\n",
            "Epoch 104/120\n",
            "528/528 [==============================] - 5s 9ms/step - loss: 0.0135 - accuracy: 0.9978 - val_loss: 0.2013 - val_accuracy: 0.9670\n",
            "Epoch 105/120\n",
            "528/528 [==============================] - 6s 11ms/step - loss: 0.0140 - accuracy: 0.9976 - val_loss: 0.2086 - val_accuracy: 0.9670\n",
            "Epoch 106/120\n",
            "528/528 [==============================] - 5s 9ms/step - loss: 0.0144 - accuracy: 0.9978 - val_loss: 0.2097 - val_accuracy: 0.9665\n",
            "Epoch 107/120\n",
            "528/528 [==============================] - 5s 9ms/step - loss: 0.0146 - accuracy: 0.9975 - val_loss: 0.2104 - val_accuracy: 0.9674\n",
            "Epoch 108/120\n",
            "528/528 [==============================] - 6s 11ms/step - loss: 0.0140 - accuracy: 0.9976 - val_loss: 0.2101 - val_accuracy: 0.9670\n",
            "Epoch 109/120\n",
            "528/528 [==============================] - 5s 9ms/step - loss: 0.0139 - accuracy: 0.9980 - val_loss: 0.2094 - val_accuracy: 0.9670\n",
            "Epoch 110/120\n",
            "528/528 [==============================] - 5s 10ms/step - loss: 0.0147 - accuracy: 0.9977 - val_loss: 0.2130 - val_accuracy: 0.9670\n",
            "Epoch 111/120\n",
            "528/528 [==============================] - 5s 10ms/step - loss: 0.0147 - accuracy: 0.9972 - val_loss: 0.2100 - val_accuracy: 0.9665\n",
            "Epoch 112/120\n",
            "528/528 [==============================] - 5s 9ms/step - loss: 0.0138 - accuracy: 0.9979 - val_loss: 0.2122 - val_accuracy: 0.9650\n",
            "Epoch 113/120\n",
            "528/528 [==============================] - 6s 11ms/step - loss: 0.0146 - accuracy: 0.9973 - val_loss: 0.2163 - val_accuracy: 0.9660\n",
            "Epoch 114/120\n",
            "528/528 [==============================] - 5s 9ms/step - loss: 0.0144 - accuracy: 0.9973 - val_loss: 0.2138 - val_accuracy: 0.9660\n",
            "Epoch 115/120\n",
            "528/528 [==============================] - 5s 9ms/step - loss: 0.0757 - accuracy: 0.9818 - val_loss: 0.1726 - val_accuracy: 0.9684\n",
            "Epoch 116/120\n",
            "528/528 [==============================] - 6s 11ms/step - loss: 0.0347 - accuracy: 0.9914 - val_loss: 0.1671 - val_accuracy: 0.9698\n",
            "Epoch 117/120\n",
            "528/528 [==============================] - 5s 9ms/step - loss: 0.0177 - accuracy: 0.9967 - val_loss: 0.1672 - val_accuracy: 0.9698\n",
            "Epoch 118/120\n",
            "528/528 [==============================] - 5s 10ms/step - loss: 0.0165 - accuracy: 0.9963 - val_loss: 0.1728 - val_accuracy: 0.9689\n",
            "Epoch 119/120\n",
            "528/528 [==============================] - 5s 10ms/step - loss: 0.0152 - accuracy: 0.9967 - val_loss: 0.1797 - val_accuracy: 0.9693\n",
            "Epoch 120/120\n",
            "528/528 [==============================] - 5s 9ms/step - loss: 0.0153 - accuracy: 0.9976 - val_loss: 0.1821 - val_accuracy: 0.9684\n"
          ]
        }
      ],
      "source": [
        "history = model.fit(X_train, y_train, validation_data = (X_val, y_val), epochs = 120, shuffle = False)"
      ]
    },
    {
      "cell_type": "code",
      "execution_count": 10,
      "metadata": {
        "colab": {
          "base_uri": "https://localhost:8080/"
        },
        "id": "ZLvb8wJ9dEte",
        "outputId": "f22adecc-9bb5-4ddb-a8d4-7e47f4de6967"
      },
      "outputs": [
        {
          "output_type": "stream",
          "name": "stdout",
          "text": [
            "Model Score: \n",
            "\n",
            "66/66 [==============================] - 0s 4ms/step - loss: 0.1045 - accuracy: 0.9810\n",
            "[0.10450973361730576, 0.9810336828231812]\n"
          ]
        }
      ],
      "source": [
        "# model.save(\"/content/gdrive/MyDrive/Models/WithExtraDenseWithRegularizerwithAttention.h5\")\n",
        "print(\"Model Score: \\n\")\n",
        "score = model.evaluate(X_test, y_test)\n",
        "print(score)"
      ]
    },
    {
      "cell_type": "markdown",
      "metadata": {
        "id": "Mdqi43CCdGVd"
      },
      "source": [
        "##METRICS"
      ]
    },
    {
      "cell_type": "code",
      "execution_count": 11,
      "metadata": {
        "colab": {
          "base_uri": "https://localhost:8080/"
        },
        "id": "XVDdUmWHcwYd",
        "outputId": "92360775-90f3-47a1-d2e7-54f31baf6e14"
      },
      "outputs": [
        {
          "output_type": "stream",
          "name": "stdout",
          "text": [
            "Looking in indexes: https://pypi.org/simple, https://us-python.pkg.dev/colab-wheels/public/simple/\n",
            "Collecting plot_keras_history\n",
            "  Downloading plot_keras_history-1.1.38.tar.gz (11 kB)\n",
            "  Preparing metadata (setup.py) ... \u001b[?25l\u001b[?25hdone\n",
            "Requirement already satisfied: matplotlib in /usr/local/lib/python3.9/dist-packages (from plot_keras_history) (3.7.1)\n",
            "Requirement already satisfied: pandas in /usr/local/lib/python3.9/dist-packages (from plot_keras_history) (1.5.3)\n",
            "Requirement already satisfied: scipy in /usr/local/lib/python3.9/dist-packages (from plot_keras_history) (1.10.1)\n",
            "Collecting support_developer>=1.0.2\n",
            "  Downloading support_developer-1.0.5.tar.gz (4.9 kB)\n",
            "  Preparing metadata (setup.py) ... \u001b[?25l\u001b[?25hdone\n",
            "Collecting sanitize_ml_labels>=1.0.48\n",
            "  Downloading sanitize_ml_labels-1.0.50.tar.gz (322 kB)\n",
            "\u001b[2K     \u001b[90m━━━━━━━━━━━━━━━━━━━━━━━━━━━━━━━━━━━━━━\u001b[0m \u001b[32m322.1/322.1 kB\u001b[0m \u001b[31m11.2 MB/s\u001b[0m eta \u001b[36m0:00:00\u001b[0m\n",
            "\u001b[?25h  Preparing metadata (setup.py) ... \u001b[?25l\u001b[?25hdone\n",
            "Collecting compress_json\n",
            "  Downloading compress_json-1.0.8.tar.gz (4.7 kB)\n",
            "  Preparing metadata (setup.py) ... \u001b[?25l\u001b[?25hdone\n",
            "Requirement already satisfied: importlib-resources>=3.2.0 in /usr/local/lib/python3.9/dist-packages (from matplotlib->plot_keras_history) (5.12.0)\n",
            "Requirement already satisfied: pillow>=6.2.0 in /usr/local/lib/python3.9/dist-packages (from matplotlib->plot_keras_history) (8.4.0)\n",
            "Requirement already satisfied: numpy>=1.20 in /usr/local/lib/python3.9/dist-packages (from matplotlib->plot_keras_history) (1.22.4)\n",
            "Requirement already satisfied: packaging>=20.0 in /usr/local/lib/python3.9/dist-packages (from matplotlib->plot_keras_history) (23.0)\n",
            "Requirement already satisfied: fonttools>=4.22.0 in /usr/local/lib/python3.9/dist-packages (from matplotlib->plot_keras_history) (4.39.3)\n",
            "Requirement already satisfied: pyparsing>=2.3.1 in /usr/local/lib/python3.9/dist-packages (from matplotlib->plot_keras_history) (3.0.9)\n",
            "Requirement already satisfied: kiwisolver>=1.0.1 in /usr/local/lib/python3.9/dist-packages (from matplotlib->plot_keras_history) (1.4.4)\n",
            "Requirement already satisfied: cycler>=0.10 in /usr/local/lib/python3.9/dist-packages (from matplotlib->plot_keras_history) (0.11.0)\n",
            "Requirement already satisfied: contourpy>=1.0.1 in /usr/local/lib/python3.9/dist-packages (from matplotlib->plot_keras_history) (1.0.7)\n",
            "Requirement already satisfied: python-dateutil>=2.7 in /usr/local/lib/python3.9/dist-packages (from matplotlib->plot_keras_history) (2.8.2)\n",
            "Requirement already satisfied: pytz>=2020.1 in /usr/local/lib/python3.9/dist-packages (from pandas->plot_keras_history) (2022.7.1)\n",
            "Requirement already satisfied: zipp>=3.1.0 in /usr/local/lib/python3.9/dist-packages (from importlib-resources>=3.2.0->matplotlib->plot_keras_history) (3.15.0)\n",
            "Requirement already satisfied: six>=1.5 in /usr/local/lib/python3.9/dist-packages (from python-dateutil>=2.7->matplotlib->plot_keras_history) (1.16.0)\n",
            "Building wheels for collected packages: plot_keras_history, sanitize_ml_labels, support_developer, compress_json\n",
            "  Building wheel for plot_keras_history (setup.py) ... \u001b[?25l\u001b[?25hdone\n",
            "  Created wheel for plot_keras_history: filename=plot_keras_history-1.1.38-py3-none-any.whl size=9470 sha256=3d2441a074ed9441e42daf996b6abca5291a9d54833150238704fe13e6622a2f\n",
            "  Stored in directory: /root/.cache/pip/wheels/aa/0a/0f/0775c812151040fb695c0890d902810a9d69e1db50181e5328\n",
            "  Building wheel for sanitize_ml_labels (setup.py) ... \u001b[?25l\u001b[?25hdone\n",
            "  Created wheel for sanitize_ml_labels: filename=sanitize_ml_labels-1.0.50-py3-none-any.whl size=320515 sha256=09928a65a4cc6b1da133f246d015479e339e713fdfa5517b92efba2db814009a\n",
            "  Stored in directory: /root/.cache/pip/wheels/d2/50/d6/95e7c7713c3c1609e30a394d7431ffc11e4f7deb82d13ffceb\n",
            "  Building wheel for support_developer (setup.py) ... \u001b[?25l\u001b[?25hdone\n",
            "  Created wheel for support_developer: filename=support_developer-1.0.5-py3-none-any.whl size=5651 sha256=e9ef9ea84329eb1a6c4bd4c08a2302c10818271773ed9c2002e553d18db8d9b1\n",
            "  Stored in directory: /root/.cache/pip/wheels/7c/a1/b1/9662c79502c353ff7e71c36f84846acd623cbcbe3f7255f5d5\n",
            "  Building wheel for compress_json (setup.py) ... \u001b[?25l\u001b[?25hdone\n",
            "  Created wheel for compress_json: filename=compress_json-1.0.8-py3-none-any.whl size=4731 sha256=b00812e9187e3353c022a23889bdba488f57489bbbfac693ea818a88395f3273\n",
            "  Stored in directory: /root/.cache/pip/wheels/d5/7c/cd/c765f939eb47ee20494e44f47b113cf3965a71dc0a4954c321\n",
            "Successfully built plot_keras_history sanitize_ml_labels support_developer compress_json\n",
            "Installing collected packages: support_developer, compress_json, sanitize_ml_labels, plot_keras_history\n",
            "Successfully installed compress_json-1.0.8 plot_keras_history-1.1.38 sanitize_ml_labels-1.0.50 support_developer-1.0.5\n"
          ]
        }
      ],
      "source": [
        "pip install plot_keras_history"
      ]
    },
    {
      "cell_type": "code",
      "execution_count": null,
      "metadata": {
        "colab": {
          "base_uri": "https://localhost:8080/",
          "height": 597
        },
        "id": "Gdr6PJXQdHfW",
        "outputId": "495b15b4-cdd6-4c6e-8bb9-7e14b7301f44"
      },
      "outputs": [
        {
          "output_type": "execute_result",
          "data": {
            "text/plain": [
              "(<Figure size 1000x500 with 2 Axes>,\n",
              " array([<Axes: title={'center': 'Loss'}, xlabel='Epochs', ylabel='Loss'>,\n",
              "        <Axes: title={'center': 'Accuracy'}, xlabel='Epochs', ylabel='Accuracy'>],\n",
              "       dtype=object))"
            ]
          },
          "metadata": {},
          "execution_count": 12
        },
        {
          "output_type": "display_data",
          "data": {
            "text/plain": [
              "<Figure size 1000x500 with 2 Axes>"
            ],
            "image/png": "[encoded data removed]"
          },
          "metadata": {
            "needs_background": "light"
          }
        }
      ],
      "source": [
        "from plot_keras_history import show_history, plot_history\n",
        "plot_history(history)"
      ]
    },
    {
      "cell_type": "code",
      "execution_count": null,
      "metadata": {
        "id": "bmMtDYrAdJWV"
      },
      "outputs": [],
      "source": [
        "import matplotlib.pyplot as plt\n",
        "import itertools\n",
        "import numpy as np\n",
        "\n",
        "def plot_confusion_matrix(cm, classes,\n",
        "                        normalize=False,\n",
        "                        title='Confusion matrix',\n",
        "                        cmap=plt.cm.Blues):\n",
        "    \"\"\"\n",
        "    This function prints and plots the confusion matrix.\n",
        "    Normalization can be applied by setting `normalize=True`.\n",
        "    \"\"\"\n",
        "    plt.imshow(cm, interpolation='nearest', cmap=cmap)\n",
        "    plt.title(title)\n",
        "    plt.colorbar()\n",
        "    tick_marks = np.arange(len(classes))\n",
        "    plt.xticks(tick_marks, classes, rotation=45)\n",
        "    plt.yticks(tick_marks, classes)\n",
        "\n",
        "    if normalize:\n",
        "        cm = cm.astype('float') / cm.sum(axis=1)[:, np.newaxis]\n",
        "        print(\"Normalized confusion matrix\")\n",
        "    else:\n",
        "        print('Confusion matrix, without normalization')\n",
        "\n",
        "    print(cm)\n",
        "\n",
        "    thresh = cm.max() / 2.\n",
        "    for i, j in itertools.product(range(cm.shape[0]), range(cm.shape[1])):\n",
        "        plt.text(j, i, cm[i, j],\n",
        "            horizontalalignment=\"center\",\n",
        "            color=\"white\" if cm[i, j] > thresh else \"black\")\n",
        "\n",
        "    plt.tight_layout()\n",
        "    plt.ylabel('True label')\n",
        "    plt.xlabel('Predicted label')\n",
        "    plt.show()"
      ]
    },
    {
      "cell_type": "code",
      "execution_count": null,
      "metadata": {
        "colab": {
          "base_uri": "https://localhost:8080/",
          "height": 571
        },
        "id": "ZAKyIIiXdJ7H",
        "outputId": "92a0accf-148d-479a-89a6-8fce6b757519"
      },
      "outputs": [
        {
          "output_type": "stream",
          "name": "stdout",
          "text": [
            "Model Classification Report: \n",
            "\n",
            "66/66 [==============================] - 1s 4ms/step\n",
            "              precision    recall  f1-score   support\n",
            "\n",
            "           0       0.98      0.97      0.98      1049\n",
            "           1       0.97      0.98      0.98      1060\n",
            "\n",
            "    accuracy                           0.98      2109\n",
            "   macro avg       0.98      0.98      0.98      2109\n",
            "weighted avg       0.98      0.98      0.98      2109\n",
            "\n",
            "Confusion matrix, without normalization\n",
            "[[1022   27]\n",
            " [  20 1040]]\n"
          ]
        },
        {
          "output_type": "display_data",
          "data": {
            "text/plain": [
              "<Figure size 432x288 with 2 Axes>"
            ],
            "image/png": "[encoded data removed]"
          },
          "metadata": {
            "needs_background": "light"
          }
        }
      ],
      "source": [
        "print(\"Model Classification Report: \\n\")\n",
        "y_pred = np.argmax(model.predict(X_test), axis=1)\n",
        "cm = confusion_matrix(np.argmax(y_test, axis=1), y_pred)\n",
        "print(classification_report(np.argmax(y_test, axis=1), y_pred))\n",
        "plot_confusion_matrix(cm, classes=[\"Does not have Wake Word\", \"Has Wake Word\"])"
      ]
    },
    {
      "cell_type": "markdown",
      "source": [
        "##PREDICTIONS & LATENCY\n"
      ],
      "metadata": {
        "id": "BnVWBNk2yOzX"
      }
    },
    {
      "cell_type": "code",
      "source": [
        "pip install spafe"
      ],
      "metadata": {
        "colab": {
          "base_uri": "https://localhost:8080/"
        },
        "id": "ng8mNVjAyOTo",
        "outputId": "250380e3-32f7-4725-f361-6201cb4a9c48"
      },
      "execution_count": null,
      "outputs": [
        {
          "output_type": "stream",
          "name": "stdout",
          "text": [
            "Looking in indexes: https://pypi.org/simple, https://us-python.pkg.dev/colab-wheels/public/simple/\n",
            "Collecting spafe\n",
            "  Downloading spafe-0.3.1-py3-none-any.whl (93 kB)\n",
            "\u001b[2K     \u001b[90m━━━━━━━━━━━━━━━━━━━━━━━━━━━━━━━━━━━━━━━━\u001b[0m \u001b[32m93.4/93.4 KB\u001b[0m \u001b[31m3.9 MB/s\u001b[0m eta \u001b[36m0:00:00\u001b[0m\n",
            "\u001b[?25hRequirement already satisfied: typing-extensions in /usr/local/lib/python3.8/dist-packages (from spafe) (4.5.0)\n",
            "Requirement already satisfied: scipy>=1.7.3 in /usr/local/lib/python3.8/dist-packages (from spafe) (1.7.3)\n",
            "Requirement already satisfied: numpy>=1.21 in /usr/local/lib/python3.8/dist-packages (from spafe) (1.22.4)\n",
            "Installing collected packages: spafe\n",
            "Successfully installed spafe-0.3.1\n"
          ]
        }
      ]
    },
    {
      "cell_type": "code",
      "source": [
        "import spafe\n",
        "from spafe.features.lfcc import lfcc\n",
        "import pywt"
      ],
      "metadata": {
        "id": "lsBy5_HiyT6p"
      },
      "execution_count": null,
      "outputs": []
    },
    {
      "cell_type": "code",
      "source": [
        "def predict(audio):\n",
        "  audio_data, sr = librosa.load(audio)\n",
        "\n",
        "  wavelet = 'db4'\n",
        "  level = 4\n",
        "  coeffs = pywt.wavedec(audio_data, wavelet, level=level)\n",
        "  threshold = np.median(np.abs(coeffs[-level])) / 0.6745\n",
        "  for i in range(1, len(coeffs)):\n",
        "    coeffs[i] = pywt.threshold(coeffs[i], threshold)\n",
        "  denoised_audio = pywt.waverec(coeffs, wavelet)\n",
        "\n",
        "  lfccs  = lfcc(denoised_audio, fs = sr, num_ceps=13)\n",
        "  lfccs_processed = np.mean(lfccs.T, axis=0) # some pre-processing\n",
        "  lfccs_new = np.expand_dims(np.asarray(lfccs_processed), axis=0)\n",
        "  predictions = model.predict(lfccs_new)\n",
        "  return predictions"
      ],
      "metadata": {
        "id": "F1KBwPfyyYm7"
      },
      "execution_count": null,
      "outputs": []
    },
    {
      "cell_type": "code",
      "source": [
        "audio_for_pred = \"/content/gdrive/MyDrive/Marvin/marvin (170).wav\"\n",
        "print(np.round(predict(audio_for_pred)))"
      ],
      "metadata": {
        "colab": {
          "base_uri": "https://localhost:8080/"
        },
        "id": "XHwVfNdqyZZK",
        "outputId": "fee73d61-2af5-4d03-9fdc-3ef50649e6dd"
      },
      "execution_count": null,
      "outputs": [
        {
          "output_type": "stream",
          "name": "stdout",
          "text": [
            "1/1 [==============================] - 0s 65ms/step\n",
            "[[0. 1.]]\n"
          ]
        }
      ]
    },
    {
      "cell_type": "code",
      "source": [
        "audio_for_pred = \"/content/gdrive/MyDrive/False/yes (824).wav\"\n",
        "print(np.round(predict(audio_for_pred)))"
      ],
      "metadata": {
        "id": "XgZEC0nMybXR",
        "outputId": "c4302ef0-1952-4142-c079-58dd4d54b70c",
        "colab": {
          "base_uri": "https://localhost:8080/"
        }
      },
      "execution_count": null,
      "outputs": [
        {
          "output_type": "stream",
          "name": "stdout",
          "text": [
            "1/1 [==============================] - 0s 26ms/step\n",
            "[[1. 0.]]\n"
          ]
        }
      ]
    }
  ],
  "metadata": {
    "colab": {
      "provenance": []
    },
    "gpuClass": "standard",
    "kernelspec": {
      "display_name": "Python 3 (ipykernel)",
      "language": "python",
      "name": "python3"
    },
    "language_info": {
      "codemirror_mode": {
        "name": "ipython",
        "version": 3
      },
      "file_extension": ".py",
      "mimetype": "text/x-python",
      "name": "python",
      "nbconvert_exporter": "python",
      "pygments_lexer": "ipython3",
      "version": "3.9.12"
    },
    "accelerator": "GPU"
  },
  "nbformat": 4,
  "nbformat_minor": 0
}