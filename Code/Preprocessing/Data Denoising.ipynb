{
 "cells": [
  {
   "cell_type": "code",
   "execution_count": 30,
   "metadata": {},
   "outputs": [],
   "source": [
    "import os\n",
    "import numpy as np\n",
    "import pandas as pd\n",
    "import matplotlib.pyplot as plt\n",
    "import librosa, librosa.display\n",
    "\n",
    "import pywt\n",
    "import numpy as np\n",
    "import soundfile as sf\n",
    "\n",
    "import tensorflow as tf \n",
    "from sklearn.model_selection import train_test_split\n",
    "from tensorflow.keras import Sequential\n",
    "from tensorflow.keras.layers import Dense, Activation, Dropout, GRU, Input\n",
    "from sklearn.metrics import confusion_matrix, classification_report"
   ]
  },
  {
   "cell_type": "markdown",
   "metadata": {},
   "source": [
    "## DENOISING FALSE & TRUE DATA"
   ]
  },
  {
   "cell_type": "code",
   "execution_count": 31,
   "metadata": {},
   "outputs": [
    {
     "data": {
      "text/plain": [
       "1769"
      ]
     },
     "execution_count": 31,
     "metadata": {},
     "output_type": "execute_result"
    }
   ],
   "source": [
    "nameArray = []\n",
    "for file_path in os.listdir(\"D:/Work/VIT/Capstone Project/Data/False/\"):\n",
    "    nameArray.append(file_path)\n",
    "len(nameArray)"
   ]
  },
  {
   "cell_type": "code",
   "execution_count": 32,
   "metadata": {},
   "outputs": [],
   "source": [
    "for file in nameArray:\n",
    "    audio = \"D:/Work/VIT/Capstone Project/Data/False/\" + file\n",
    "    audio_data, sample_rate = sf.read(audio)\n",
    "    wavelet = 'db4'\n",
    "    level = 4\n",
    "    coeffs = pywt.wavedec(audio_data, wavelet, level=level)\n",
    "    threshold = np.median(np.abs(coeffs[-level])) / 0.6745\n",
    "    for i in range(1, len(coeffs)):\n",
    "        coeffs[i] = pywt.threshold(coeffs[i], threshold)\n",
    "    denoised_audio = pywt.waverec(coeffs, wavelet)\n",
    "    sigName = \"Desktop/False Denoised/\" + file\n",
    "    sf.write(sigName, denoised_audio, sample_rate)"
   ]
  },
  {
   "cell_type": "code",
   "execution_count": 33,
   "metadata": {},
   "outputs": [
    {
     "data": {
      "text/plain": [
       "1746"
      ]
     },
     "execution_count": 33,
     "metadata": {},
     "output_type": "execute_result"
    }
   ],
   "source": [
    "nameArray2 = []\n",
    "for file_path in os.listdir(\"D:/Work/VIT/Capstone Project/Data/Marvin/\"):\n",
    "    nameArray2.append(file_path)\n",
    "len(nameArray2)"
   ]
  },
  {
   "cell_type": "code",
   "execution_count": 34,
   "metadata": {},
   "outputs": [],
   "source": [
    "for file in nameArray2:\n",
    "    audio = \"D:/Work/VIT/Capstone Project/Data/Marvin/\" + file\n",
    "    audio_data, sample_rate = sf.read(audio)\n",
    "    wavelet = 'db4'\n",
    "    level = 4\n",
    "    coeffs = pywt.wavedec(audio_data, wavelet, level=level)\n",
    "    threshold = np.median(np.abs(coeffs[-level])) / 0.6745\n",
    "    for i in range(1, len(coeffs)):\n",
    "        coeffs[i] = pywt.threshold(coeffs[i], threshold)\n",
    "    denoised_audio = pywt.waverec(coeffs, wavelet)\n",
    "    sigName = \"Desktop/Marvin Denoised/\" + file\n",
    "    sf.write(sigName, denoised_audio, sample_rate)"
   ]
  }
 ],
 "metadata": {
  "kernelspec": {
   "display_name": "Python 3 (ipykernel)",
   "language": "python",
   "name": "python3"
  },
  "language_info": {
   "codemirror_mode": {
    "name": "ipython",
    "version": 3
   },
   "file_extension": ".py",
   "mimetype": "text/x-python",
   "name": "python",
   "nbconvert_exporter": "python",
   "pygments_lexer": "ipython3",
   "version": "3.7.15"
  }
 },
 "nbformat": 4,
 "nbformat_minor": 4
}
